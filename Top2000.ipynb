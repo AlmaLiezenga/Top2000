{
 "cells": [
  {
   "cell_type": "markdown",
   "id": "410ce1a4",
   "metadata": {},
   "source": [
    "# Top 2000 data visualisation 2021\n",
    "As a way to challenge myself in that weird period between Christmas and New Year's I decided to do some web scraping and data visualisation with the songs I'm listening to in these days: the Top 2000. \n",
    "\n",
    "I got the data from: \n",
    "* Songs, artists, listing and release year: NPO Radio 2, https://www.nporadio2.nl/top2000/nieuws/a1b89e18-8082-4513-8cb1-f5849ca670dc/dit-is-de-npo-radio-2-top-2000-van-2021 (I did change the file from xlsx to xls manually) \n",
    "* Music genres per artist: Last.fm, https://www.last.fm/music/ \n",
    "* Music supergenres: Multimediaeval, selected from a few of the lists on https://multimediaeval.github.io/2017-AcousticBrainz-Genre-Task/data_stats/ \n",
    "\n",
    "You can read my accompanying blogpost for some background information and observations here: https://almaliezenga.com/2021/12/30/top-2000-2021/"
   ]
  },
  {
   "cell_type": "markdown",
   "id": "58da6eb3",
   "metadata": {},
   "source": [
    "## Prerequisites"
   ]
  },
  {
   "cell_type": "code",
   "execution_count": 1,
   "id": "9eb6ad84",
   "metadata": {},
   "outputs": [],
   "source": [
    "#importing all the packages \n",
    "\n",
    "#standard for data stuff\n",
    "import numpy as np\n",
    "import pandas as pd\n",
    "\n",
    "#for plotting graphs \n",
    "import plotly.graph_objects as go\n",
    "import plotly.express as px\n",
    "import matplotlib\n",
    "import matplotlib.pyplot as pltq\n",
    "\n",
    "#for web scraping \n",
    "from textblob import TextBlob\n",
    "from bs4 import BeautifulSoup\n",
    "import urllib.request\n",
    "from lxml import html\n",
    "import requests\n",
    "import re"
   ]
  },
  {
   "cell_type": "markdown",
   "id": "735354e2",
   "metadata": {},
   "source": [
    "## Prerequisites 2\n",
    "For writing the figure to a html page, use the username and api key from your Plotly account (I used this tutorial for this: https://towardsdatascience.com/how-to-create-a-plotly-visualization-and-embed-it-on-websites-517c1a78568b) "
   ]
  },
  {
   "cell_type": "code",
   "execution_count": 2,
   "id": "d2d0593c",
   "metadata": {},
   "outputs": [],
   "source": [
    "import chart_studio\n",
    "import chart_studio.plotly as py\n",
    "import plotly.io as pio\n",
    "\n",
    "username = 'AlmaLiezenga'\n",
    "api_key = 'a0zr6olUaeOt0JHCeQy2'\n",
    "chart_studio.tools.set_credentials_file(username=username, api_key=api_key)"
   ]
  },
  {
   "cell_type": "markdown",
   "id": "b8c0f4ca",
   "metadata": {},
   "source": [
    "## Data gathering"
   ]
  },
  {
   "cell_type": "code",
   "execution_count": 17,
   "id": "b3eab969",
   "metadata": {},
   "outputs": [
    {
     "data": {
      "text/html": [
       "<div>\n",
       "<style scoped>\n",
       "    .dataframe tbody tr th:only-of-type {\n",
       "        vertical-align: middle;\n",
       "    }\n",
       "\n",
       "    .dataframe tbody tr th {\n",
       "        vertical-align: top;\n",
       "    }\n",
       "\n",
       "    .dataframe thead th {\n",
       "        text-align: right;\n",
       "    }\n",
       "</style>\n",
       "<table border=\"1\" class=\"dataframe\">\n",
       "  <thead>\n",
       "    <tr style=\"text-align: right;\">\n",
       "      <th></th>\n",
       "      <th>positie</th>\n",
       "      <th>titel</th>\n",
       "      <th>artiest</th>\n",
       "      <th>jaar</th>\n",
       "    </tr>\n",
       "  </thead>\n",
       "  <tbody>\n",
       "    <tr>\n",
       "      <th>1</th>\n",
       "      <td>1</td>\n",
       "      <td>Bohemian Rhapsody</td>\n",
       "      <td>Queen</td>\n",
       "      <td>1975</td>\n",
       "    </tr>\n",
       "    <tr>\n",
       "      <th>2</th>\n",
       "      <td>2</td>\n",
       "      <td>Roller Coaster</td>\n",
       "      <td>Danny Vera</td>\n",
       "      <td>2019</td>\n",
       "    </tr>\n",
       "    <tr>\n",
       "      <th>3</th>\n",
       "      <td>3</td>\n",
       "      <td>A Whiter Shade Of Pale</td>\n",
       "      <td>Procol Harum</td>\n",
       "      <td>1967</td>\n",
       "    </tr>\n",
       "    <tr>\n",
       "      <th>4</th>\n",
       "      <td>4</td>\n",
       "      <td>Hotel California</td>\n",
       "      <td>Eagles</td>\n",
       "      <td>1977</td>\n",
       "    </tr>\n",
       "    <tr>\n",
       "      <th>5</th>\n",
       "      <td>5</td>\n",
       "      <td>Piano Man</td>\n",
       "      <td>Billy Joel</td>\n",
       "      <td>1974</td>\n",
       "    </tr>\n",
       "    <tr>\n",
       "      <th>...</th>\n",
       "      <td>...</td>\n",
       "      <td>...</td>\n",
       "      <td>...</td>\n",
       "      <td>...</td>\n",
       "    </tr>\n",
       "    <tr>\n",
       "      <th>1996</th>\n",
       "      <td>1996</td>\n",
       "      <td>Sunshine Of Your Love</td>\n",
       "      <td>Cream</td>\n",
       "      <td>1968</td>\n",
       "    </tr>\n",
       "    <tr>\n",
       "      <th>1997</th>\n",
       "      <td>1997</td>\n",
       "      <td>Anarchy In The Uk</td>\n",
       "      <td>Sex Pistols</td>\n",
       "      <td>1976</td>\n",
       "    </tr>\n",
       "    <tr>\n",
       "      <th>1998</th>\n",
       "      <td>1998</td>\n",
       "      <td>I Want To Hold Your Hand</td>\n",
       "      <td>The Beatles</td>\n",
       "      <td>1964</td>\n",
       "    </tr>\n",
       "    <tr>\n",
       "      <th>1999</th>\n",
       "      <td>1999</td>\n",
       "      <td>Kissing A Fool</td>\n",
       "      <td>George Michael</td>\n",
       "      <td>1988</td>\n",
       "    </tr>\n",
       "    <tr>\n",
       "      <th>2000</th>\n",
       "      <td>2000</td>\n",
       "      <td>Promises Of No Man's Land</td>\n",
       "      <td>Blaudzun</td>\n",
       "      <td>2014</td>\n",
       "    </tr>\n",
       "  </tbody>\n",
       "</table>\n",
       "<p>2000 rows × 4 columns</p>\n",
       "</div>"
      ],
      "text/plain": [
       "      positie                      titel         artiest  jaar\n",
       "1           1          Bohemian Rhapsody           Queen  1975\n",
       "2           2             Roller Coaster      Danny Vera  2019\n",
       "3           3     A Whiter Shade Of Pale    Procol Harum  1967\n",
       "4           4           Hotel California          Eagles  1977\n",
       "5           5                  Piano Man      Billy Joel  1974\n",
       "...       ...                        ...             ...   ...\n",
       "1996     1996      Sunshine Of Your Love           Cream  1968\n",
       "1997     1997          Anarchy In The Uk     Sex Pistols  1976\n",
       "1998     1998   I Want To Hold Your Hand     The Beatles  1964\n",
       "1999     1999             Kissing A Fool  George Michael  1988\n",
       "2000     2000  Promises Of No Man's Land        Blaudzun  2014\n",
       "\n",
       "[2000 rows x 4 columns]"
      ]
     },
     "execution_count": 17,
     "metadata": {},
     "output_type": "execute_result"
    }
   ],
   "source": [
    "#loading and reformatting the data \n",
    "data = pd.read_excel('TOP-2000-2021.xls', index_col = 0)\n",
    "data = data.reset_index()\n",
    "data = data.iloc[1: , :]\n",
    "\n",
    "#changing the data types \n",
    "data['positie'] = data['positie'].astype('int32')\n",
    "data['jaar'] = data['jaar'].astype('int32')\n",
    "data"
   ]
  },
  {
   "cell_type": "markdown",
   "id": "7be2dd79",
   "metadata": {},
   "source": [
    "## Scraping the genres\n",
    "The data in itself is pretty neat but it doesn't offer that much interesting information to visualise. I was interested to see how different genres were represented in the Top 2000. To this end, I used https://www.last.fm/music/ because they make use of very convenient hyperlinks (it's basically the artist's name with some exceptions for punctuation marks but really, for the most part, it works great). The downside is that this website is per artist, not per song. I accepted this because I couldn't find a website that does it per song and has hyperlinks that I could reconstruct. Perhaps an improvement for next year's edition!"
   ]
  },
  {
   "cell_type": "code",
   "execution_count": 4,
   "id": "05237447",
   "metadata": {},
   "outputs": [
    {
     "data": {
      "text/html": [
       "<div>\n",
       "<style scoped>\n",
       "    .dataframe tbody tr th:only-of-type {\n",
       "        vertical-align: middle;\n",
       "    }\n",
       "\n",
       "    .dataframe tbody tr th {\n",
       "        vertical-align: top;\n",
       "    }\n",
       "\n",
       "    .dataframe thead th {\n",
       "        text-align: right;\n",
       "    }\n",
       "</style>\n",
       "<table border=\"1\" class=\"dataframe\">\n",
       "  <thead>\n",
       "    <tr style=\"text-align: right;\">\n",
       "      <th></th>\n",
       "      <th>artiest</th>\n",
       "      <th>genres</th>\n",
       "    </tr>\n",
       "  </thead>\n",
       "  <tbody>\n",
       "    <tr>\n",
       "      <th>0</th>\n",
       "      <td>Queen</td>\n",
       "      <td></td>\n",
       "    </tr>\n",
       "    <tr>\n",
       "      <th>1</th>\n",
       "      <td>Danny Vera</td>\n",
       "      <td></td>\n",
       "    </tr>\n",
       "    <tr>\n",
       "      <th>2</th>\n",
       "      <td>Procol Harum</td>\n",
       "      <td></td>\n",
       "    </tr>\n",
       "    <tr>\n",
       "      <th>3</th>\n",
       "      <td>Eagles</td>\n",
       "      <td></td>\n",
       "    </tr>\n",
       "    <tr>\n",
       "      <th>4</th>\n",
       "      <td>Billy Joel</td>\n",
       "      <td></td>\n",
       "    </tr>\n",
       "    <tr>\n",
       "      <th>...</th>\n",
       "      <td>...</td>\n",
       "      <td>...</td>\n",
       "    </tr>\n",
       "    <tr>\n",
       "      <th>801</th>\n",
       "      <td>Miles Davis</td>\n",
       "      <td></td>\n",
       "    </tr>\n",
       "    <tr>\n",
       "      <th>802</th>\n",
       "      <td>The Chemical Brothers</td>\n",
       "      <td></td>\n",
       "    </tr>\n",
       "    <tr>\n",
       "      <th>803</th>\n",
       "      <td>Beyoncé &amp; Jay-Z</td>\n",
       "      <td></td>\n",
       "    </tr>\n",
       "    <tr>\n",
       "      <th>804</th>\n",
       "      <td>Miley Cyrus</td>\n",
       "      <td></td>\n",
       "    </tr>\n",
       "    <tr>\n",
       "      <th>805</th>\n",
       "      <td>Blaudzun</td>\n",
       "      <td></td>\n",
       "    </tr>\n",
       "  </tbody>\n",
       "</table>\n",
       "<p>806 rows × 2 columns</p>\n",
       "</div>"
      ],
      "text/plain": [
       "                   artiest genres\n",
       "0                    Queen       \n",
       "1               Danny Vera       \n",
       "2             Procol Harum       \n",
       "3                   Eagles       \n",
       "4               Billy Joel       \n",
       "..                     ...    ...\n",
       "801            Miles Davis       \n",
       "802  The Chemical Brothers       \n",
       "803        Beyoncé & Jay-Z       \n",
       "804            Miley Cyrus       \n",
       "805               Blaudzun       \n",
       "\n",
       "[806 rows x 2 columns]"
      ]
     },
     "execution_count": 4,
     "metadata": {},
     "output_type": "execute_result"
    }
   ],
   "source": [
    "# to speed up the process I created a separate list with only the artists \n",
    "artiesten = pd.DataFrame(data['artiest'])\n",
    "artiesten[\"genres\"] = \" \"\n",
    "artiesten = artiesten.drop_duplicates()\n",
    "artiesten = artiesten.reset_index()\n",
    "artiesten = artiesten.drop(columns=['index'])\n",
    "artiesten"
   ]
  },
  {
   "cell_type": "code",
   "execution_count": 5,
   "id": "dcf16539",
   "metadata": {},
   "outputs": [],
   "source": [
    "#define functions to help with the web scraping \n",
    "def tag(href):\n",
    "    return href and re.compile(\"/tag/\").search(href)\n",
    "\n",
    "#changing the name of the artist to a partial hyperlink\n",
    "def simplify(naam_artiest):\n",
    "    artist_url = naam_artiest.replace(\" \", \"+\")\\\n",
    "        .replace(\"'\", \"%27\").replace(\"/\", \"%2F\")\\\n",
    "        .replace(\"é\", \"e\").replace(\"è\", \"e\").replace(\"É\", \"E\").replace(\"ë\", \"e\")\\\n",
    "        .replace(\"ø\", \"o\").replace(\"ö\", \"o\").replace(\"Ö\", \"O\")\\\n",
    "        .replace(\"ü\", \"u\").replace(\"ÿ\", \"y\").replace(\"å\", \"a\")\n",
    "    return artist_url\n",
    "\n",
    "#finding the music genre tags based on the url \n",
    "def find_tags(extended_url): \n",
    "    html = urllib.request.urlopen(extended_url)\n",
    "    soup = BeautifulSoup(html, 'html.parser')\n",
    "    tags = [] \n",
    "    for x in soup.find_all(href=tag):\n",
    "        tags.extend(x)\n",
    "    tags = list(dict.fromkeys(tags))\n",
    "    tags_str = ', '.join(tags)\n",
    "    return tags_str"
   ]
  },
  {
   "cell_type": "code",
   "execution_count": 6,
   "id": "6c6a33df",
   "metadata": {
    "scrolled": true
   },
   "outputs": [
    {
     "name": "stdout",
     "output_type": "stream",
     "text": [
      "Success 0/807: https://www.last.fm/music/Queen classic rock, rock, hard rock, glam rock, 80s\n",
      "Success 1/807: https://www.last.fm/music/Danny+Vera americana, rock, singer-songwriter, country, dutch\n",
      "Success 2/807: https://www.last.fm/music/Procol+Harum progressive rock, blues, progre…, classic rock, 60s, rock, psychedelic\n",
      "Success 3/807: https://www.last.fm/music/Eagles rock, classic rock, 70s, soft rock, country\n",
      "Success 4/807: https://www.last.fm/music/Billy+Joel classic rock, singer-songwriter, rock, pop, piano\n",
      "Success 5/807: https://www.last.fm/music/Golden+Earring classic rock, rock, hard rock, dutch, 70s\n",
      "Success 6/807: https://www.last.fm/music/Led+Zeppelin classic rock, hard rock, rock, 70s, progressive rock\n",
      "Success 7/807: https://www.last.fm/music/Metallica heavy metal, thrash metal, metal, hard rock, metallica\n",
      "Success 8/807: https://www.last.fm/music/Pearl+Jam rock, grunge, alternative rock, 90s, alternative\n",
      "Success 9/807: https://www.last.fm/music/Boudewijn+de+Groot dutch, singer-songwriter, nederlandstalig, folk, kleinkunst\n",
      "Success 10/807: https://www.last.fm/music/Coldplay pop, alternative, rock, alternative rock, britpop, coldplay\n",
      "Success 11/807: https://www.last.fm/music/Pink+Floyd progressive rock, psychedelic rock, classic rock, rock, psychedelic\n",
      "Success 12/807: https://www.last.fm/music/Di-rect alternative rock, rock, pop rock, dutch, pop, male vocalists\n",
      "Success 13/807: https://www.last.fm/music/Deep+Purple hard rock, heavy metal, progressive, classic rock, rock, progressive rock\n",
      "Success 14/807: https://www.last.fm/music/Bruce+Springsteen rock, classic rock, singer-songwriter, folk, 80s\n",
      "Success 15/807: https://www.last.fm/music/Guns+N%27+Roses hard rock, rock, classic rock, 80s, guns n roses\n",
      "Success 16/807: https://www.last.fm/music/Dire+Straits British, rock, post-punk, punk, pub rock, classic rock, 80s, blues, guitar\n",
      "Success 17/807: https://www.last.fm/music/Disturbed nu metal, metal, hard rock, alternative, rock\n",
      "Success 18/807: https://www.last.fm/music/Miss+Montreal dutch, pop, female vocalists, rock, acoustic\n",
      "Success 19/807: https://www.last.fm/music/Prince+&+The+Revolution funk, pop, rock, 80s, soul\n",
      "Success 20/807: https://www.last.fm/music/Toto American, rock, 70s, classic rock, 80s, progressive rock, pop\n",
      "Success 21/807: https://www.last.fm/music/David+Bowie rock, glam rock, classic rock, 80s, 70s\n",
      "Success 22/807: https://www.last.fm/music/Racoon dutch, rock, pop, pop rock, alternative\n",
      "Success 23/807: https://www.last.fm/music/Simon+&+Garfunkel folk, classic rock, 60s, singer-songwriter, acoustic\n",
      "Success 24/807: https://www.last.fm/music/Nirvana grunge, alternative rock, rock, alternative, 90s\n",
      "Success 25/807: https://www.last.fm/music/AC%2FDC rock, hard rock, classic rock, heavy metal, australian artist\n",
      "Success 26/807: https://www.last.fm/music/John+Lennon classic rock, rock, singer-songwriter, british, pop\n",
      "Success 27/807: https://www.last.fm/music/Meat+Loaf rock, classic rock, hard rock, rock opera, 80s\n",
      "Success 28/807: https://www.last.fm/music/Phil+Collins rock, pop, 80s, classic rock, soft rock\n",
      "Success 29/807: https://www.last.fm/music/Lady+Gaga+&+Bradley+Cooper soundtrack, pop, lady gaga, rock, country\n",
      "Success 30/807: https://www.last.fm/music/Klein+Orkest dutch, nederlandstalig, nederpop, pop, nederlands\n",
      "Success 31/807: https://www.last.fm/music/The+Cure new wave, post-punk, 80s, alternative, rock\n",
      "Success 32/807: https://www.last.fm/music/Johnny+Cash country, folk, singer-songwriter, classic rock, christmas\n",
      "Success 33/807: https://www.last.fm/music/ABBA pop, disco, 70s, swedish, abba\n",
      "Success 34/807: https://www.last.fm/music/Fleetwood+Mac rock, classic rock, 70s, blues, fleetwood mac\n",
      "Success 35/807: https://www.last.fm/music/Linkin+Park rock, nu metal, alternative rock, alternative, linkin park\n",
      "Success 36/807: https://www.last.fm/music/Supertramp progressive rock, pop rock, 70s, classic rock, rock, pop\n",
      "Success 37/807: https://www.last.fm/music/Rage+Against+The+Machine rock, alternative rock, alternative, political, rapcore\n",
      "Success 38/807: https://www.last.fm/music/Michael+Kiwanuka soul, blues, singer-songwriter, jazz, folk\n",
      "Success 39/807: https://www.last.fm/music/The+Rolling+Stones classic rock, rock, 60s, british, blues\n",
      "Success 40/807: https://www.last.fm/music/Stef+Bos nederlandstalig, singer-songwriter, dutch, kleinkunst, pop\n",
      "Success 41/807: https://www.last.fm/music/Wim+Sonneveld dutch, cabaret, male vocalists, singer-songwriter, kleinkunst\n",
      "Success 42/807: https://www.last.fm/music/Amy+Winehouse soul, rhythm and blues, jazz, female vocalists, british, amy winehouse\n",
      "Success 43/807: https://www.last.fm/music/The+Beatles  pop rock and beat, classic rock, rock, 60s, british, pop\n",
      "Success 44/807: https://www.last.fm/music/Liesbeth+List+&+Ramses+Shaffy kleinkunst, pop, dutch, nederlandstalig, nederlands\n",
      "Success 45/807: https://www.last.fm/music/U2  alternative rock, rock, classic rock, u2, irish, alternative\n",
      "Success 46/807: https://www.last.fm/music/The+Beach+Boys rock, pop, doo-wop, rock and roll, vocal surf, 60s, California Sound, progressive pop, classical, jazz, rock a…, Cal…, classic rock, surf\n",
      "Success 47/807: https://www.last.fm/music/Kensington indie, dutch, indie rock, rock, alternative\n",
      "Success 48/807: https://www.last.fm/music/Radiohead alternative, rock, alternative rock, indie, electronic\n",
      "Success 49/807: https://www.last.fm/music/Electric+Light+Orchestra symphonic rock, classic rock, progressive rock, rock, 70s, british\n",
      "Success 50/807: https://www.last.fm/music/Queen+&+David+Bowie classic rock, rock, 80s, glam rock, queen\n",
      "Success 51/807: https://www.last.fm/music/Paolo+Nutini singer-songwriter, indie, pop, scottish, male vocalists\n",
      "Success 52/807: https://www.last.fm/music/Floor+Jansen+&+Henk+Poort \n",
      "Success 53/807: https://www.last.fm/music/Eminem rap, hip-hop, eminem, hip hop, pop\n",
      "Success 54/807: https://www.last.fm/music/George+Michael+&+Queen rock, classic rock, queen, 80s, pop\n",
      "Success 55/807: https://www.last.fm/music/Muse alternative rock, rock, alternative, progressive rock, british\n",
      "Success 56/807: https://www.last.fm/music/The+Alan+Parsons+Project progressive rock, classic rock, rock, 80s, symphonic rock\n",
      "Success 57/807: https://www.last.fm/music/Guus+Meeuwis dutch, pop, nederlandstalig, nederpop, carnaval\n",
      "Success 58/807: https://www.last.fm/music/Red+Hot+Chili+Peppers funk rock, rock, alternative rock, alternative, funk\n",
      "Success 59/807: https://www.last.fm/music/Volbeat heavy metal, rockabilly, metal, elvis metal, rock\n",
      "Success 60/807: https://www.last.fm/music/Claudia+de+Breij dutch, female vocalists, kleinkunst, cabaret, nederlandstalig\n",
      "Success 61/807: https://www.last.fm/music/The+Doors rock, classic rock, psychedelic rock, 60s, psychedelic\n",
      "Success 62/807: https://www.last.fm/music/Eric+Clapton blues, classic rock, blues rock, rock, guitar\n",
      "Success 63/807: https://www.last.fm/music/Robbie+Williams pop, britpop, british, rock, swing\n",
      "Success 64/807: https://www.last.fm/music/Blof+ft.+Geike \n",
      "Success 65/807: https://www.last.fm/music/Nothing+But+Thieves alternative rock, rock, indie rock, indie, alternative\n",
      "Success 66/807: https://www.last.fm/music/Snow+Patrol alternative, rock, indie, indie rock, alternative rock\n",
      "Success 67/807: https://www.last.fm/music/Dolly+Parton country, female vocalists, folk, singer-songwriter, bluegrass\n",
      "Success 68/807: https://www.last.fm/music/Acda+&+De+Munnik dutch, nederlandstalig, pop, nederpop, nederlands\n",
      "Success 69/807: https://www.last.fm/music/R.E.M. rock, alternative rock, alternative, indie, 90s\n",
      "Success 70/807: https://www.last.fm/music/Simple+Minds pop, rock, 80s, 90s, new wave, alternative\n",
      "Success 71/807: https://www.last.fm/music/Creedence+Clearwater+Revival rock, classic rock, southern rock, 60s, folk\n",
      "Success 72/807: https://www.last.fm/music/Journey rock, 70s, 80s, classic rock, hard rock, progressive rock\n",
      "Success 73/807: https://www.last.fm/music/Elvis+Presley Rock and Roll, rock n roll, classic rock, oldies, christmas, rock\n",
      "Success 74/807: https://www.last.fm/music/Otis+Redding soul, rhythm and blues, 60s, blues, christmas\n",
      "Success 75/807: https://www.last.fm/music/Ramses+Shaffy dutch, singer-songwriter, nederlandstalig, chanson, kleinkunst\n",
      "Success 76/807: https://www.last.fm/music/The+Verve alternative rock, britpop, rock, alternative, british, indie\n"
     ]
    },
    {
     "name": "stdout",
     "output_type": "stream",
     "text": [
      "Success 77/807: https://www.last.fm/music/Animals rock, blues rock, 60s, garage, classic rock\n",
      "Success 78/807: https://www.last.fm/music/Bob+Marley+&+The+Wailers  reggae, reggae, roots reggae, bob marley, ska, roots\n",
      "Success 79/807: https://www.last.fm/music/Adele singer-songwriter, soul, female vocalists, british, pop\n",
      "Success 80/807: https://www.last.fm/music/The+Cranberries alternative rock, rock, alternative, female vocalists, irish\n",
      "Success 81/807: https://www.last.fm/music/Foo+Fighters rock, alternative rock, grunge, alternative, hard rock\n",
      "Success 82/807: https://www.last.fm/music/Oasis britpop, rock, british, alternative, indie\n",
      "Success 83/807: https://www.last.fm/music/Andre+Hazes dutch, nederlandstalig, folk, levenslied, pop\n",
      "Success 84/807: https://www.last.fm/music/The+Moody+Blues rock, progressive rock, classic rock, 60s, psychedelic\n",
      "Success 85/807: https://www.last.fm/music/The+Killers indie rock, indie, rock, alternative, alternative rock\n",
      "Success 86/807: https://www.last.fm/music/Van+Dik+Hout dutch, nederlandstalig, nederpop, pop, nederlands\n",
      "Success 87/807: https://www.last.fm/music/Black+Sabbath heavy metal, hard rock, classic rock, metal, rock\n",
      "Success 88/807: https://www.last.fm/music/Leonard+Cohen folk, singer-songwriter, canadian, leonard cohen, blues\n",
      "Success 89/807: https://www.last.fm/music/Michael+Jackson pop, 80s, michael jackson, soul, dance\n",
      "Success 90/807: https://www.last.fm/music/Elton+John pop, classic rock, rock, singer-songwriter, 70s\n",
      "Success 91/807: https://www.last.fm/music/Depeche+Mode new wave, new romantic, electronic, synthpop, 80s, synth pop\n",
      "Success 92/807: https://www.last.fm/music/Kate+Bush female vocalists, singer-songwriter, alternative, pop, 80s\n",
      "Success 93/807: https://www.last.fm/music/Rammstein industrial metal, metal, industrial, german, rock\n",
      "Success 94/807: https://www.last.fm/music/Neil+Diamond singer-songwriter, classic rock, pop, soft rock, 70s\n",
      "Success 95/807: https://www.last.fm/music/Coldplay+&+Avicii pop, alternative, rock, alternative rock, britpop, coldplay\n",
      "Success 96/807: https://www.last.fm/music/De+Jeugd+Van+Tegenwoordig hip-hop, dutch, nederhop, rap, hip hop\n",
      "Success 97/807: https://www.last.fm/music/Sting rock, pop, classic rock, british, sting\n",
      "Success 98/807: https://www.last.fm/music/Falco pop, 80s, new wave, austrian, german\n",
      "Success 99/807: https://www.last.fm/music/Bryan+Adams rock, classic rock, 80s, pop, christmas\n",
      "Success 100/807: https://www.last.fm/music/Anouk rock, female vocalists, dutch, pop, singer-songwriter\n",
      "Success 101/807: https://www.last.fm/music/The+Weeknd rnb, electronic, canadian, dubstep, r&b\n",
      "Success 102/807: https://www.last.fm/music/Bon+Jovi hard rock, 80s, rock, classic rock, bon jovi\n",
      "Success 103/807: https://www.last.fm/music/Within+Temptation Gothic metal, symphonic rock, symphonic metal, gothic metal, female fronted metal, metal, gothic\n",
      "Success 104/807: https://www.last.fm/music/George+Michael pop, duo, 80s, soul, british, dance\n",
      "Success 105/807: https://www.last.fm/music/Ike+&+Tina+Turner soul, rhythm and blues, blues, funk, 60s\n",
      "Success 106/807: https://www.last.fm/music/Jason+Paige soundtrack, pop, pokemon, rap, american\n",
      "Success 107/807: https://www.last.fm/music/Herman+Brood+&+His+Wild+Romance rock, blues rock, dutch, classic rock, pop\n",
      "Success 108/807: https://www.last.fm/music/Nick+Cave+&+The+Bad+Seeds post-punk, rock, alternative, singer-songwriter, alternative rock\n",
      "Success 109/807: https://www.last.fm/music/Kyteman hip-hop, jazz, dutch, alternative, hiphop jazz\n",
      "Success 110/807: https://www.last.fm/music/Paul+Simon folk-rock, singer-songwriter, folk, classic rock, acoustic, pop\n",
      "Success 111/807: https://www.last.fm/music/Ed+Sheeran singer, songwriter, acoustic, british, singer-songwriter, pop, folk\n",
      "Success 112/807: https://www.last.fm/music/Earth,+Wind+&+Fire American, funk, 70s, soul, disco, rnb\n",
      "Success 113/807: https://www.last.fm/music/Charles+Aznavour french, chanson francaise, chanson, jazz, francais\n",
      "Success 114/807: https://www.last.fm/music/Lou+Reed rock, classic rock, singer-songwriter, glam rock, 70s\n",
      "Success 115/807: https://www.last.fm/music/Marillion neo-progressive, progressive rock, rock, classic rock, british, progressive\n",
      "Success 116/807: https://www.last.fm/music/Jacques+Brel chanson, french, chanson francaise, singer-songwriter, jacques brel\n",
      "Success 117/807: https://www.last.fm/music/Iron+Maiden heavy metal, metal, nwobhm, hard rock, iron maiden\n",
      "Success 118/807: https://www.last.fm/music/Lady+Gaga pop, dance, electronic, female vocalists, lady gaga\n",
      "Success 119/807: https://www.last.fm/music/Freddie+Mercury+&+Montserrat+Caballe opera, classic rock, freddie mercury, rock, queen\n",
      "Success 120/807: https://www.last.fm/music/Keane britpop, indie, alternative, british, rock\n",
      "Success 121/807: https://www.last.fm/music/Mary+J.+Blige+&+U2 rock, irish, mary j blige, bono, soul\n",
      "Success 122/807: https://www.last.fm/music/Scorpions rock, metal, he…, hard rock, classic rock, heavy metal, 80s\n",
      "Success 123/807: https://www.last.fm/music/Live alternative rock, 90s, rock, alternative, grunge\n",
      "Success 124/807: https://www.last.fm/music/Stromae electronic, dance, french, belgian, electronica\n",
      "Success 125/807: https://www.last.fm/music/Helene+Fischer helene fischer, schlager, deutsche schlager, deutsch, german\n",
      "Success 126/807: https://www.last.fm/music/Motorhead heavy metal, hard rock, metal, speed metal, rock\n",
      "Success 127/807: https://www.last.fm/music/Frank+Boeijen+Groep nederlandstalig, dutch, nederpop, pop, 80s\n",
      "Success 128/807: https://www.last.fm/music/Diggy+Dex+ft.+JW+Roy \n",
      "Success 129/807: https://www.last.fm/music/Golden+Earrings classic rock, rock, hard rock, dutch, 70s\n",
      "Success 130/807: https://www.last.fm/music/Frans+Halsema dutch, singer-songwriter, nederlandstalig, cabaret, the netherlands\n",
      "Success 131/807: https://www.last.fm/music/Tracy+Chapman folk, female vocalists, singer-songwriter, soul, acoustic\n",
      "Success 132/807: https://www.last.fm/music/Kayak progressive rock, dutch, symphonic rock, art rock, rock\n",
      "Success 133/807: https://www.last.fm/music/Tom+Odell singer-songwriter, indie, folk, british, piano\n",
      "Success 134/807: https://www.last.fm/music/Rowwen+Heze dutch, folk, limburg, nederlandstalig, nederpop\n",
      "Success 135/807: https://www.last.fm/music/The+Amazing+Stroopwafels pop, dutch, netherlands, lol, nederpop\n",
      "Success 136/807: https://www.last.fm/music/Marco+Borsato dutch, pop, nederlandstalig, nederpop, nederlands\n",
      "Success 137/807: https://www.last.fm/music/System+Of+A+Down alternative metal, metal, rock, nu metal, alternative\n",
      "Success 138/807: https://www.last.fm/music/Eddie+Vedder singer-songwriter, grunge, rock, folk, alternative\n",
      "Success 139/807: https://www.last.fm/music/Bette+Midler female vocalists, pop, 80s, rock, bette midler\n",
      "Success 140/807: https://www.last.fm/music/Aerosmith rock, hard rock, classic rock, 80s, american artist\n",
      "Success 141/807: https://www.last.fm/music/Harry+Styles rock, pop, alternative, pop rock, british\n",
      "Success 142/807: https://www.last.fm/music/The+Scene rock, Dutch, dutch, nederlandstalig, nederpop, the netherlands\n",
      "Success 143/807: https://www.last.fm/music/John+Miles classic rock, rock, symphonic rock, 80s, 70s\n",
      "Success 144/807: https://www.last.fm/music/The+Jimi+Hendrix+Experience classic rock, psychedelic rock, rock, blues, 60s\n",
      "Success 145/807: https://www.last.fm/music/The+Cult rock, 80s, metal, post-punk, goth rock, hard rock, gothic rock, classic rock\n",
      "Success 146/807: https://www.last.fm/music/Normaal rock, dutch, nederlandstalig, blues, boerenrock\n",
      "Success 147/807: https://www.last.fm/music/Gary+Moore blues, blues rock, hard rock, rock, classic rock\n",
      "Success 148/807: https://www.last.fm/music/Beth+Hart singer-songwriter, rock, female vocalists, alternative, blues\n",
      "Success 149/807: https://www.last.fm/music/Jackson+Browne 70s, rock, folk, singer-songwriter, classic rock, soft rock\n",
      "Success 150/807: https://www.last.fm/music/Evanescence gothic rock, rock, female vocalists, alternative, gothic\n",
      "Success 151/807: https://www.last.fm/music/Duncan+Laurence pop, soul, dutch, eurovision, eurovision 2019\n",
      "Success 152/807: https://www.last.fm/music/Editors indie rock, post-punk revival, indie, british, alternative, rock\n",
      "Success 153/807: https://www.last.fm/music/Faithless electronic, trip-hop, dance, house, electronica\n"
     ]
    },
    {
     "name": "stdout",
     "output_type": "stream",
     "text": [
      "Success 154/807: https://www.last.fm/music/Avicii+ft.+Aloe+Blacc Swedish, house, electronic, dance, progressive house, electro house\n",
      "Success 155/807: https://www.last.fm/music/Arctic+Monkeys indie rock, indie, british, rock, alternative\n",
      "Success 156/807: https://www.last.fm/music/Don+McLean singer-songwriter, folk, classic rock, 70s, rock\n",
      "Success 157/807: https://www.last.fm/music/The+Mamas+&+The+Papas vocal group, 60s, classic rock, oldies, rock, pop\n",
      "Success 158/807: https://www.last.fm/music/Kansas progressive rock, classic rock, rock, hard rock, 70s\n",
      "Success 159/807: https://www.last.fm/music/Kings+Of+Leon so…, rock, indie, indie rock, alternative, southern rock\n",
      "Success 160/807: https://www.last.fm/music/Nightwish symphonic metal, power metal, gothic metal, metal, female fronted metal\n",
      "Success 161/807: https://www.last.fm/music/De+Dijk dutch, nederlandstalig, nederpop, rock, pop\n",
      "Success 162/807: https://www.last.fm/music/The+Proclaimers scottish, rock, pop, folk, 80s\n",
      "Success 163/807: https://www.last.fm/music/Bob+Dylan poet, folk, singer-songwriter, classic rock, folk rock, 60s\n",
      "Success 164/807: https://www.last.fm/music/Jeff+Buckley avant-garde, avant-garde…, singer-songwriter, rock, alternative, folk, indie\n",
      "Success 165/807: https://www.last.fm/music/KISS hard rock, glam rock, classic rock, rock, 80s\n",
      "Success 166/807: https://www.last.fm/music/The+Police new wave, rock, 80s, classic rock, pop\n",
      "Success 167/807: https://www.last.fm/music/Peter+Maffay peter maffay, deutschrock, german, rock, deutsch\n",
      "Success 168/807: https://www.last.fm/music/George+Michael+&+Elton+John pop, british, duets, george michael and elton john, duet\n",
      "Success 169/807: https://www.last.fm/music/Green+Day punk rock, rock, punk, pop punk, alternative\n",
      "Success 170/807: https://www.last.fm/music/Elbow alternative rock, indie, alternative, indie rock, britpop, rock\n",
      "Success 171/807: https://www.last.fm/music/Maan dutch, pop, electronic, techno, nederlands\n",
      "Success 172/807: https://www.last.fm/music/John+Denver singer-songwriter, country, folk, acoustic, christmas\n",
      "Success 173/807: https://www.last.fm/music/Michel+Fugain chanson francaise, french, chanson, folk, singer-songwriter\n",
      "Success 174/807: https://www.last.fm/music/Queens+Of+The+Stone+Age stoner rock, robot rock, robot…, alternative rock, rock, hard rock, alternative\n",
      "Success 175/807: https://www.last.fm/music/Slayer thrash metal, metal, heavy metal, speed metal, slayer\n",
      "Success 176/807: https://www.last.fm/music/Blof dutch, pop, nederlandstalig, rock, nederpop\n",
      "Success 177/807: https://www.last.fm/music/Frank+Sinatra swing, jazz, christmas, oldies, vocal jazz\n",
      "Success 178/807: https://www.last.fm/music/Peter+Gabriel+&+Kate+Bush pop, duets, 80s, progressive rock, nostalgia\n",
      "Success 179/807: https://www.last.fm/music/Krezip dutch, rock, female vocalists, pop rock, pop\n",
      "Success 180/807: https://www.last.fm/music/Alphaville synthpop, new wave, 80s, pop, synth pop\n",
      "Success 181/807: https://www.last.fm/music/Queensryche progressive metal, heavy metal, progressive rock, hard rock, metal\n",
      "Success 182/807: https://www.last.fm/music/Neil+Young classic rock, rock, singer-songwriter, folk, folk rock\n",
      "Success 183/807: https://www.last.fm/music/Underworld electronic, techno, trance, dance, ambient, drum and bass, drum and …, electronica\n",
      "Success 184/807: https://www.last.fm/music/Peter+Fox german, reggae, dancehall, hip hop, hip-hop\n",
      "Success 185/807: https://www.last.fm/music/White+Stripes alternative rock, garage rock revival, rock, alternative, indie, garage rock\n",
      "Success 186/807: https://www.last.fm/music/Bill+Withers singer-songwriter, soul, funk, 70s, rhythm and blues, rnb\n",
      "Success 187/807: https://www.last.fm/music/Alderliefste+&+Ramses+Shaffy+&+Liesbeth+List \n",
      "Success 188/807: https://www.last.fm/music/Janis+Joplin blues rock, classic rock, blues, female vocalists, 60s, rock\n",
      "Success 189/807: https://www.last.fm/music/A-Ha pop, new wave, 80s, synth pop, synthpop\n",
      "Success 190/807: https://www.last.fm/music/3+Doors+Down post-Grunge, Alternative rock, rock, alternative rock, alternative, hard rock, 3 doors down\n",
      "Success 191/807: https://www.last.fm/music/Chef%27Special funk, rock, ska, reggae, rap\n",
      "Success 192/807: https://www.last.fm/music/Genesis progressive rock, pro…, classic rock, rock, 80s, genesis\n",
      "Success 193/807: https://www.last.fm/music/The+Goo+Goo+Dolls rock, alternative rock, alternative, 90s, pop\n",
      "Success 194/807: https://www.last.fm/music/Blof+&+Counting+Crows nederpop, nederlandstalig, rock, pop, dutch\n",
      "Success 195/807: https://www.last.fm/music/Joe+Cocker rock, classic rock, blues, blues rock, soul\n",
      "Success 196/807: https://www.last.fm/music/Jefferson+Airplane psychedelic rock, classic rock, 60s, psychedelic, rock\n",
      "Success 197/807: https://www.last.fm/music/Peter+Gabriel singer-songwriter, progressive rock, rock, classic rock, peter gabriel\n",
      "Success 198/807: https://www.last.fm/music/Sinead+O%27Connor female vocalists, irish, alternative, singer-songwriter, rock\n",
      "Success 199/807: https://www.last.fm/music/Nena pop, german, 80s, new wave, female vocalists\n",
      "Success 200/807: https://www.last.fm/music/The+Mark+&+Clark+Band progressive rock, classic rock, home collection, piano, rock\n",
      "Success 201/807: https://www.last.fm/music/Skik dutch, rock, nederlandstalig, pop, nederpop\n",
      "Success 202/807: https://www.last.fm/music/Abel dutch, pop, nederlandstalig, rock, indie\n",
      "Success 203/807: https://www.last.fm/music/Jay-Z+&+Alicia+Keys hip-hop, rap, jay-z, american, good\n",
      "Success 204/807: https://www.last.fm/music/Soundgarden grunge, alternative rock, rock, hard rock, 90s\n",
      "Success 205/807: https://www.last.fm/music/Billie+Eilish pop, indie pop, electropop, indie, alternative\n",
      "Success 206/807: https://www.last.fm/music/Cuby+&+the+Blizzards Dutch, blues, rock and roll, blues rock, dutch, rock, 60s\n",
      "Success 207/807: https://www.last.fm/music/Boston rock, classic rock, hard rock, 80s, 70s\n",
      "Success 208/807: https://www.last.fm/music/Edith+Piaf french, chanson, female vocalists, jazz, chanson francaise\n",
      "Success 209/807: https://www.last.fm/music/Eminem+&+Dido rap, hip-hop, eminem, hip hop, pop\n",
      "Success 210/807: https://www.last.fm/music/The+Waterboys folk rock, rock, celtic, alternative, celtic rock\n",
      "Success 211/807: https://www.last.fm/music/Suzan+&+Freek+&+Snelle \n",
      "Success 212/807: https://www.last.fm/music/Mumford+&+Sons folk, indie, british, acoustic, indie folk\n",
      "Success 213/807: https://www.last.fm/music/The+Who rock, classic rock, 60s, british, hard rock\n",
      "Success 214/807: https://www.last.fm/music/Lynyrd+Skynyrd southern rock, classic rock, rock, hard rock, 70s\n",
      "Success 215/807: https://www.last.fm/music/Lex+Uiting folk, dutch, netherlands, nederlandstalig, limburg\n",
      "Success 216/807: https://www.last.fm/music/Alice+Cooper hard rock, classic rock, american artist, rock, glam rock\n",
      "Success 217/807: https://www.last.fm/music/Suzan+&+Freek pop, dutch, acoustic, netherlands, nederlands\n",
      "Success 218/807: https://www.last.fm/music/Van+Morrison classic rock, singer-songwriter, folk, blues, rock\n",
      "Success 219/807: https://www.last.fm/music/Wham! pop, 80s, british, new wave, christmas\n",
      "Success 220/807: https://www.last.fm/music/Foreigner classic rock, rock, 80s, hard rock, foreigner\n",
      "Success 221/807: https://www.last.fm/music/ZZ+Top rock, blues rock, classic rock, southern rock, hard rock\n",
      "Success 222/807: https://www.last.fm/music/Kenny+Rogers+&+Dolly+Parton country, 80s, duets, dolly parton, christmas\n",
      "Success 223/807: https://www.last.fm/music/Imagine+Dragons alternative rock, indie, indie rock, alternative, rock, indie pop\n",
      "Success 224/807: https://www.last.fm/music/Ultravox new wave, synthpop, 70s, New Romantic, dark, post-punk, glam rock, 80s, new romantic, synth pop\n",
      "Success 225/807: https://www.last.fm/music/DJ+Paul+Elstak gabber, hardcore, happy hardcore, hardcore techno, electronic\n",
      "Success 226/807: https://www.last.fm/music/Doe+Maar ska, dutch, nederpop, reggae, nederlandstalig\n",
      "Success 227/807: https://www.last.fm/music/Chris+Stapleton country, americana, singer-songwriter, bluegrass, folk\n",
      "Success 228/807: https://www.last.fm/music/New+Order new wave, synthpop, post-punk, 80s, electronic, alternative\n",
      "Success 229/807: https://www.last.fm/music/Rag%27n%27Bone+Man soul, blues, british, indie, hip-hop\n"
     ]
    },
    {
     "name": "stdout",
     "output_type": "stream",
     "text": [
      "Success 230/807: https://www.last.fm/music/Avicii Swedish, house, electronic, dance, progressive house, electro house\n",
      "Success 231/807: https://www.last.fm/music/Rob+de+Nijs nederlandstalig, pop, dutch, male vocalists, nederpop\n",
      "Success 232/807: https://www.last.fm/music/Van+Halen hard rock, classic rock, rock, heavy metal, 80s\n",
      "Success 233/807: https://www.last.fm/music/Maroon+5 pop rock, pop, rock, alternative, maroon 5\n",
      "Success 234/807: https://www.last.fm/music/Hozier singer-songwriter, blues, indie, soul, irish\n",
      "Success 235/807: https://www.last.fm/music/Andrea+Bocelli+&+Giorgia classical, opera, italian, male vocalists, andrea bocelli\n",
      "Success 236/807: https://www.last.fm/music/Tears+For+Fears pop, rock, ska, new wave, synthesiser, 80s, synth pop\n",
      "Success 237/807: https://www.last.fm/music/Aretha+Franklin soul, jazz, female vocalists, blues, rhythm and blues\n",
      "Success 238/807: https://www.last.fm/music/America soft, rock, 70s, classic rock, soft rock, folk\n",
      "Success 239/807: https://www.last.fm/music/Eurythmics pop, 80s, new wave, female vocalists, synth pop\n",
      "Success 240/807: https://www.last.fm/music/Neet+Oet+Lottum limburg, pop, dutch, the netherlands, nederlandstalig\n",
      "Success 241/807: https://www.last.fm/music/Jim+Croce folk, singer-songwriter, 70s, classic rock, rock\n",
      "Success 242/807: https://www.last.fm/music/Armin+van+Buuren+ft.+Kensington \n",
      "Success 243/807: https://www.last.fm/music/Liquido rock, alternative rock, alternative, german, pop\n",
      "Success 244/807: https://www.last.fm/music/Marvin+Gaye soul, rnb, motown, funk, rhythm and blues, 70s\n",
      "Success 245/807: https://www.last.fm/music/The+Stranglers rock, new wave, post-punk, punk, 80s\n",
      "Success 246/807: https://www.last.fm/music/Bee+Gees disco, pop, 70s, classic rock, british artist\n",
      "Success 247/807: https://www.last.fm/music/Hero visual kei, rock, heavy metal, j-rock, progressive rock\n",
      "Success 248/807: https://www.last.fm/music/The+Boxer+Rebellion indie rock, indie, british, alternative, rock\n",
      "Success 249/807: https://www.last.fm/music/Tina+Turner+&+David+Bowie classic rock, 80s, rock, pop, duet\n",
      "Success 250/807: https://www.last.fm/music/Rick+Astley pop, 80s, rickroll, dance, best act ever\n",
      "Success 251/807: https://www.last.fm/music/Seal soul, pop, 90s, singer-songwriter, seal\n",
      "Success 252/807: https://www.last.fm/music/Mark+Ronson+ft.+Amy+Winehouse funk, british, pop, hip-hop, dj\n",
      "Success 253/807: https://www.last.fm/music/Buena+Vista+Social+Club Cuban, latin, cuban, jazz, latin jazz, world\n",
      "Success 254/807: https://www.last.fm/music/Gerry+&+The+Pacemakers 60s, oldies, merseybeat, classic rock, british invasion\n",
      "Success 255/807: https://www.last.fm/music/White+Lies indie rock, post-punk, indie, british, alternative\n",
      "Success 256/807: https://www.last.fm/music/John+Legend soul, rnb, neo-soul, singer-songwriter, hip-hop\n",
      "Success 257/807: https://www.last.fm/music/London+Grammar indie pop, electronic, lush, indie, female vocalists\n",
      "Success 258/807: https://www.last.fm/music/Status+Quo British, rock, boogie, freakbeat, psychedelia, ps…, classic rock, hard rock, british, 80s\n",
      "Success 259/807: https://www.last.fm/music/Gotye+ft.+Kimbra indie, electronic, alternative, australian, aussie\n",
      "Success 260/807: https://www.last.fm/music/Joy+Division post-punk, new wave, 80s, alternative, indie\n",
      "Success 261/807: https://www.last.fm/music/Chris+Isaak rock, blues, singer-songwriter, 80s, pop\n",
      "Success 262/807: https://www.last.fm/music/Herbert+Gronemeyer german, pop, deutsch, singer-songwriter, rock\n",
      "Success 263/807: https://www.last.fm/music/Frankie+Goes+To+Hollywood pop, 80s, new wave, british, dance\n",
      "Success 264/807: https://www.last.fm/music/Bonnie+Tyler pop, 80s, female vocalists, rock, classic rock\n",
      "Success 265/807: https://www.last.fm/music/Santana Latin, rock, classic rock, latin, guitar, latin rock\n",
      "Success 266/807: https://www.last.fm/music/Armin+van+Buuren+ft.Trevor+Guthrie trance, progressive trance, uplifting trance, electronic, vocal trance, dance\n",
      "Success 267/807: https://www.last.fm/music/Louis+Armstrong jazz, blues, swing, trumpet, christmas\n",
      "Success 268/807: https://www.last.fm/music/Orchestral+Manoeuvres+In+The+Dark synthpop, new wave, 80s, electronic, synth pop\n",
      "Success 269/807: https://www.last.fm/music/Davina+Michelle pop, dutch, female vocalist, netherlands, linedance 2021\n",
      "Success 270/807: https://www.last.fm/music/Anita+Meyer pop, dutch, nederpop, home collection, top 40\n",
      "Success 271/807: https://www.last.fm/music/Marco+Borsato,+Armin+van+Buuren+&+Davina+Michelle dutch, netherlands, nederlands, trio, pop-dance\n",
      "Success 272/807: https://www.last.fm/music/Andrea+Bocelli+&+Sarah+Brightman classical, opera, beautiful, female vocalists, ambient\n",
      "Success 273/807: https://www.last.fm/music/Novastar belgian, singer-songwriter, rock, alternative, pop\n",
      "Success 274/807: https://www.last.fm/music/Massive+Attack trip-hop, electronic, chillout, downtempo, electronica\n",
      "Success 275/807: https://www.last.fm/music/Melissa+Etheridge rock, female vocalists, singer-songwriter, folk, 90s\n",
      "Success 276/807: https://www.last.fm/music/Maaike+Ouboter all, dutch, nederlandstalig, singer-songwriter, netherlands\n",
      "Success 277/807: https://www.last.fm/music/Paul+de+Leeuw dutch, nederlandstalig, nederpop, netherlands, nederlands\n",
      "Success 278/807: https://www.last.fm/music/UB40 reggae, roots reggae, dub, lovers rock, rocksteady, 80s, pop, ska, british\n",
      "Success 279/807: https://www.last.fm/music/Het+Goede+Doel nederlandstalig, pop, nederpop, dutch, 80s\n",
      "Success 280/807: https://www.last.fm/music/Elvis+Costello singer-songwriter, pub rock, 70s, punk rock, power pop, New Wave, new wave, rock, classic rock, alternative\n",
      "Success 281/807: https://www.last.fm/music/Talking+Heads new wave, post-punk, 80s, rock, alternative\n",
      "Success 282/807: https://www.last.fm/music/Donna+Summer disco, pop, 70s, dance, female vocalists\n",
      "Success 283/807: https://www.last.fm/music/2Pac rap, hip-hop, gangsta rap, west coast rap, 2pac\n",
      "Success 284/807: https://www.last.fm/music/Tame+Impala psychedelic, psychedelic rock, indie rock, australian, rock\n",
      "Success 285/807: https://www.last.fm/music/The+Kinks classic rock, 60s, rock, british, british invasion\n",
      "Success 286/807: https://www.last.fm/music/The+War+On+Drugs indie rock, indie, folk, folk rock, rock\n",
      "Success 287/807: https://www.last.fm/music/The+Temptations doo-wop, soul, psychedelia, funk, disco, rnb, adult contemporary, rock, black music, male vocal group, motown, oldies, christmas\n",
      "Success 288/807: https://www.last.fm/music/Europe rock, hard rock, 80s, classic rock, hair metal\n",
      "Success 289/807: https://www.last.fm/music/De+Staat rock, dutch, stoner rock, blues rock, alternative\n",
      "Success 290/807: https://www.last.fm/music/The+Black+Eyed+Peas hip hop, pop, hip-hop, rnb, rap, dance\n",
      "Success 291/807: https://www.last.fm/music/Talk+Talk synthpop, New Wave, post-rock, experimental, new wave, 80s, synth pop, pop\n",
      "Success 292/807: https://www.last.fm/music/Linkin+Park+&+Jay-Z hip-hop, rap, rock, alternative, linkin park\n",
      "Success 293/807: https://www.last.fm/music/Gorillaz alternative, electronic, hip-hop, rock, indie\n",
      "Success 294/807: https://www.last.fm/music/Vangelis electronic, new age, soundtrack, ambient, instrumental\n",
      "Success 295/807: https://www.last.fm/music/Madness pop, ska, 70s, 2 Tone, british, 80s, new wave\n",
      "Success 296/807: https://www.last.fm/music/Lana+Del+Rey singer-songwriter, indie, female vocalists, pop, indie pop, alternative\n",
      "Success 297/807: https://www.last.fm/music/Spinvis dutch, singer-songwriter, alternative, indie, nederlandstalig\n",
      "Success 298/807: https://www.last.fm/music/Joe+Jackson new wave, singer-songwriter, 80s, pop, rock\n",
      "Success 299/807: https://www.last.fm/music/Gerry+Rafferty singer-songwriter, folk, classic rock, soft rock, rock, 70s\n",
      "Success 300/807: https://www.last.fm/music/INXS rock, new wave, 80s, australian, pop\n",
      "Success 301/807: https://www.last.fm/music/Andre+Hazes+Jr. \n",
      "Success 302/807: https://www.last.fm/music/Paul+de+Leeuw+&+Simone+Kleinsma dutch, pop, piano, female vocalists, 00s\n",
      "Success 303/807: https://www.last.fm/music/Mark+Ronson+ft.+Bruno+Mars funk, british, pop, hip-hop, dj\n",
      "Success 304/807: https://www.last.fm/music/Bankzitters dutch, netherlands, youtube, house\n",
      "Success 305/807: https://www.last.fm/music/Heart rock, classic rock, female vocalists, hard rock, 80s\n"
     ]
    },
    {
     "name": "stdout",
     "output_type": "stream",
     "text": [
      "Success 306/807: https://www.last.fm/music/Tina+Turner pop, soul, rock, female vocalists, 80s\n",
      "Success 307/807: https://www.last.fm/music/Simply+Red punk, pop, soul, 80s, british, simply red\n",
      "Success 308/805: https://www.last.fm/music/P!nk pop, pop rock, female vocalists, rock, pink\n",
      "Success 309/807: https://www.last.fm/music/Cat+Stevens singer-songwriter, folk, classic rock, acoustic, 70s\n",
      "Success 310/807: https://www.last.fm/music/The+Cats oldies, pop, soft rock, 60s, skinhead reggae\n",
      "Success 311/807: https://www.last.fm/music/Coolio rap, hip-hop, 90s, hip hop, west coast rap\n",
      "Success 312/807: https://www.last.fm/music/Don+Henley classic rock, rock, 80s, singer-songwriter, soft rock\n",
      "Success 313/807: https://www.last.fm/music/Tenacious+D rock, comedy, hard rock, alternative rock, comedy rock\n",
      "Success 314/807: https://www.last.fm/music/Men+At+Work rock, new wave, 80s, australian, pop\n",
      "Success 315/807: https://www.last.fm/music/Stevie+Wonder soul, funk, motown, pop, 70s\n",
      "Success 316/807: https://www.last.fm/music/John+Mayer singer-songwriter, acoustic, rock, pop, john mayer\n",
      "Success 317/807: https://www.last.fm/music/Cream blues, hard rock, psychedelic rock, classic rock, blues rock, rock, psychedelic, 60s\n",
      "Success 318/807: https://www.last.fm/music/The+Black+Keys psychedelic rock, blues rock, rock, blues, indie rock, garage rock\n",
      "Success 319/807: https://www.last.fm/music/Chris+Rea singer-songwriter, rock, blues, classic rock, soft rock\n",
      "Success 320/807: https://www.last.fm/music/Passenger alternative folk, alternative metal, hardcore, screamo, acoustic rock, rap, instrumental rock, psytrance, folk, melodic death metal, nu metal, acoustic\n",
      "Success 321/807: https://www.last.fm/music/Eva+Cassidy female vocalists, jazz, folk, blues, singer-songwriter\n",
      "Success 322/807: https://www.last.fm/music/10cc classic rock, rock, 70s, british, pop\n",
      "Success 323/807: https://www.last.fm/music/Blue+Oyster+Cult hard rock, classic rock, rock, progressive rock, 70s\n",
      "Success 324/807: https://www.last.fm/music/Alanis+Morissette rock, female vocalists, alternative, singer-songwriter, pop\n",
      "Success 325/807: https://www.last.fm/music/Spandau+Ballet pop, 80s, new romantic, singer-songwriter, new wave, british\n",
      "Success 326/807: https://www.last.fm/music/Ennio+Morricone composer, soundtrack, instrumental, classical, italian\n",
      "Success 327/807: https://www.last.fm/music/Barbara+Pravi chanson, french, eurovision, eurovision song contest, eurovision song contest 2021\n",
      "Success 328/807: https://www.last.fm/music/Sia female vocalists, indie, chillout, trip-hop, pop\n",
      "Success 329/807: https://www.last.fm/music/Crosby,+Stills,+Nash+&+Young classic rock, folk rock, folk, rock, 60s\n",
      "Success 330/807: https://www.last.fm/music/Charly+Lownoise+&+Mental+Theo 1991, 19…, happy hardcore, hardcore, rave, dance, electronic\n",
      "Success 331/807: https://www.last.fm/music/Ede+Staal dutch, all, the netherlands, nederlandstalig, groningen\n",
      "Success 332/807: https://www.last.fm/music/Ram+Jam rock, 70s, cover, sunshine pop, classic rock, hard rock, southern rock\n",
      "Success 333/807: https://www.last.fm/music/K%27s+Choice rock, alternative rock, alternative, female vocalists, belgian\n",
      "Success 334/807: https://www.last.fm/music/Alice+In+Chains rock, grunge, alternative rock, hard rock, 90s\n",
      "Success 335/807: https://www.last.fm/music/Al+Stewart singer-songwriter, folk, classic rock, soft rock, rock\n",
      "Success 336/807: https://www.last.fm/music/Pharrell+Williams singer-songwriter, hip-hop, rnb, rap, hip hop, pop\n",
      "Success 337/807: https://www.last.fm/music/The+Common+Linnets country, dutch, eurovision, pop, male vocalists\n",
      "Success 338/807: https://www.last.fm/music/Whitney+Houston pop, soul, female vocalists, rnb, 80s\n",
      "Success 339/807: https://www.last.fm/music/Daniel+Lohues singer-songwriter, dutch, all, folk, nederpop\n",
      "Success 340/807: https://www.last.fm/music/Herman+van+Veen dutch, singer-songwriter, chanson, kleinkunst, nederlandstalig\n",
      "Success 341/807: https://www.last.fm/music/Typhoon nederhop, hip-hop, indie, dutch, folk\n",
      "Success 342/807: https://www.last.fm/music/Mark+Knopfler rock, classic rock, singer-songwriter, blues, guitar\n",
      "Success 343/807: https://www.last.fm/music/Beyonce rnb, pop, female vocalists, soul, beyonce\n",
      "Success 344/807: https://www.last.fm/music/Shocking+Blue classic rock, rock, 60s, 70s, dutch\n",
      "Success 345/807: https://www.last.fm/music/Beastie+Boys hip-hop, rap, hip hop, alternative, 80s\n",
      "Success 346/807: https://www.last.fm/music/Snollebollekes carnaval, pop, dutch, netherlands, nederlands\n",
      "Success 347/807: https://www.last.fm/music/Nina+Simone jazz, classical, blues, soul, folk, rhythm and blues, gospel, pop, female vocalists, nina simone\n",
      "Success 348/807: https://www.last.fm/music/Bronski+Beat gay, new wave, 80s, synthpop, synth pop, pop\n",
      "Success 349/807: https://www.last.fm/music/Tears+For+Fears+&+Oleta+Adams pop, rock, ska, new wave, synthesiser, 80s, synth pop\n",
      "Success 350/807: https://www.last.fm/music/Bastille rock, singer-songwriter, indie, electronic, alternative, british, indie rock\n",
      "Success 351/807: https://www.last.fm/music/The+Band classic rock, folk rock, rock, folk, americana\n",
      "Success 352/807: https://www.last.fm/music/P!nk+ft.+Nate+Ruess 6 of 10 stars\n",
      "Success 353/807: https://www.last.fm/music/Focus progressive rock, classic rock, dutch, rock, 70s\n",
      "Success 354/807: https://www.last.fm/music/Gilbert+O%27Sullivan pop, 70s, singer-songwriter, soft rock, oldies\n",
      "Success 355/807: https://www.last.fm/music/De+Poema%27s nederpop, nederlands, nederlandstalig, pop, dutch\n",
      "Success 356/807: https://www.last.fm/music/David+Guetta+&+Sia dance, house, electronic, club, techno\n",
      "Success 357/807: https://www.last.fm/music/Peter+Schilling synthpop, new wave, german, 80s, neue deutsche welle, ndw\n",
      "Success 358/807: https://www.last.fm/music/Skunk+Anansie rock, alternative rock, female vocalists, alternative, british\n",
      "Success 359/807: https://www.last.fm/music/Prince funk, pop, soul, 80s, rock\n",
      "Success 360/807: https://www.last.fm/music/The+Righteous+Brothers oldies, soul, 60s, pop, classic rock\n",
      "Success 361/807: https://www.last.fm/music/Robert+Long pop, dutch, singer-songwriter, 80s, nederpop\n",
      "Success 362/807: https://www.last.fm/music/Fish progressive rock, rock, scottish, progressive, fish\n",
      "Success 363/807: https://www.last.fm/music/Fools+Garden pop, rock, britpop, soft rock, german\n",
      "Success 364/807: https://www.last.fm/music/Derek+&+The+Dominos blues, rock, blues rock, classic rock, 70s\n",
      "Success 365/807: https://www.last.fm/music/Nits Dutch, art rock, dutch, pop, indie pop, 80s, alternative\n",
      "Success 366/807: https://www.last.fm/music/Triggerfinger rock, stoner rock, belgian, hard rock, belgium\n",
      "Success 367/807: https://www.last.fm/music/Crowded+House rock, pop, 80s, australian, new zealand\n",
      "Success 368/807: https://www.last.fm/music/Iggy+Pop punk rock, punk, rock, classic rock, proto-punk\n",
      "Success 369/807: https://www.last.fm/music/The+Opposites nederhop, hip-hop, dutch, rap, nederlandstalig\n",
      "Success 370/807: https://www.last.fm/music/Henk+Westbroek pop, dutch, nederpop, nederlandstalig, 90s\n",
      "Success 371/807: https://www.last.fm/music/Rufus+Wainwright singer-songwriter, folk, indie, alternative, canadian\n",
      "Success 372/807: https://www.last.fm/music/Rod+Stewart classic rock, rock, 70s, soft rock, pop\n",
      "Success 373/807: https://www.last.fm/music/The+Prodigy electronic, techno, industrial, breakbeat, dance\n",
      "Success 374/807: https://www.last.fm/music/Chi+Coltrane 80s, singer-songwriters, pop, classic rock, gospel\n",
      "Success 375/807: https://www.last.fm/music/Whitesnake hard rock, blues rock, heavy metal, 80s, arena …, classic rock, rock, hair metal\n",
      "Success 376/807: https://www.last.fm/music/Eros+Ramazzotti italian, pop, italian pop, male vocalists, eros ramazzotti\n",
      "Success 377/807: https://www.last.fm/music/Barry+White singer-songwriter, soul, rnb, gospel, funk, disco, barry white\n",
      "Success 378/807: https://www.last.fm/music/Amy+MacDonald Scottish, female vocalists, singer-songwriter, indie, acoustic, pop\n",
      "Success 379/807: https://www.last.fm/music/Art+Garfunkel folk, singer-songwriter, pop, 70s, christmas\n",
      "Success 380/807: https://www.last.fm/music/Uriah+Heep rock, hard rock, classic rock, progressive rock, 70s\n",
      "Success 381/807: https://www.last.fm/music/Diggy+Dex nederhop, hip-hop, dutch, rap\n"
     ]
    },
    {
     "name": "stdout",
     "output_type": "stream",
     "text": [
      "Success 382/807: https://www.last.fm/music/Nickelback rock, alternative rock, hard rock, alternative, nickelback\n",
      "Success 383/807: https://www.last.fm/music/Guus+Meeuwis+&+Vagant nederlandstalig, pop, dutch, singer-songwriter, nederpop\n",
      "Success 384/807: https://www.last.fm/music/Gloria+Gaynor disco, 70s, soul, female vocalists, pop\n",
      "Success 385/807: https://www.last.fm/music/Fischer-Z new wave, 80s, british, post-punk, rock\n",
      "Success 386/807: https://www.last.fm/music/Survivor classic rock, rock, 80s, hard rock, aor\n",
      "Success 387/807: https://www.last.fm/music/The+Script pop rock, rock, pop, irish, acoustic\n",
      "Success 388/807: https://www.last.fm/music/The+Blue+Nile dream pop, scottish, 80s, alternative, pop\n",
      "Success 389/807: https://www.last.fm/music/Nazareth hard rock, classic rock, rock, 70s, heavy metal\n",
      "Success 390/807: https://www.last.fm/music/Dusty+Springfield pop, singer, British Invasion, rock, soul, 60s, female vocalists, oldies\n",
      "Success 391/807: https://www.last.fm/music/One+Direction pop, british, one direction, boyband, love at first listen\n",
      "Success 392/807: https://www.last.fm/music/Andrea+Bocelli classical, opera, italian, male vocalists, andrea bocelli\n",
      "Success 393/807: https://www.last.fm/music/Damien+Rice singer-songwriter, acoustic, folk, indie, irish\n",
      "Success 394/807: https://www.last.fm/music/Offspring punk rock, punk, rock, alternative rock, alternative\n",
      "Success 395/807: https://www.last.fm/music/4+Non+Blondes 90s, alternative rock, rock, female vocalists, alternative\n",
      "Success 396/807: https://www.last.fm/music/Kane rock, alternative rock, dutch, pop, pop rock\n",
      "Success 397/807: https://www.last.fm/music/Blur alternative rock, britpop, rock, indie, british, alternative\n",
      "Success 398/807: https://www.last.fm/music/Lisa+Lois pop, dutch, female vocalists, soul, x factor\n",
      "Success 399/807: https://www.last.fm/music/Franz+Ferdinand indie rock, indie, rock, alternative, britpop\n",
      "Success 400/807: https://www.last.fm/music/Cockney+Rebel glam rock, classic rock, 70s, rock, glam\n",
      "Success 401/807: https://www.last.fm/music/The+Smiths indie, post-punk, 80s, new wave, alternative\n",
      "Success 402/807: https://www.last.fm/music/Duran+Duran electronic, pop rock, New Wave, 80s, 90s, vivid, dance pop, new wave, pop, synth pop, rock\n",
      "Success 403/807: https://www.last.fm/music/Tavares disco, soul, 70s, funk, pop\n",
      "Success 404/807: https://www.last.fm/music/Mariah+Carey pop, rnb, female vocalists, soul, christmas\n",
      "Success 405/807: https://www.last.fm/music/Roxette pop, 80s, rock, swedish, 90s\n",
      "Success 406/807: https://www.last.fm/music/Ilse+DeLange dutch, female vocalists, country, pop, singer-songwriter\n",
      "Success 407/807: https://www.last.fm/music/Mark+Knopfler+&+James+Taylor rock, classic rock, singer-songwriter, blues, guitar\n",
      "Success 408/807: https://www.last.fm/music/Nena+&+Kim+Wilde pop, 80s, german, dance, female vocalists\n",
      "Success 409/807: https://www.last.fm/music/The+Teskey+Brothers soul, blues, aussie rock\n",
      "Success 410/807: https://www.last.fm/music/Yes progressive rock, classic rock, rock, british, yes\n",
      "Success 411/807: https://www.last.fm/music/Nick+Cave+&+Kylie+Minogue post-punk, rock, alternative, singer-songwriter, alternative rock\n",
      "Success 412/807: https://www.last.fm/music/Mike+Oldfield+&+Maggie+Reilly 80s, rock, pop, alternative, duets\n",
      "Success 413/807: https://www.last.fm/music/Bokkers \n",
      "Success 414/807: https://www.last.fm/music/Phil+Collins+&+Philip+Bailey pop, rock, 80s, classic rock\n",
      "Success 415/807: https://www.last.fm/music/Tiesto trance, electronic, dance, techno, electronica\n",
      "Success 416/807: https://www.last.fm/music/Backstreet+Boys pop, boybands, 90s, dance, backstreet boys\n",
      "Success 417/807: https://www.last.fm/music/Arcade+Fire indie, indie rock, rock, alternative, canadian\n",
      "Success 418/807: https://www.last.fm/music/Chris+de+Burgh pop, soft rock, 80s, singer-songwriter, rock\n",
      "Success 419/807: https://www.last.fm/music/Snelle dutch, netherlands, hip hop\n",
      "Success 420/807: https://www.last.fm/music/David+Bowie+&+Mick+Jagger classic rock, rock, 80s, duet, british\n",
      "Success 421/807: https://www.last.fm/music/Madonna pop, dance, 80s, female vocalists, electronic\n",
      "Success 422/807: https://www.last.fm/music/Dexy%27s+Midnight+Runners post-punk, Northern Soul, new wave, 80s, british, pop\n",
      "Success 423/807: https://www.last.fm/music/Moby singer-songwriter, techno, breakbeat, electronic, ambient, chillout, alternative, electronica\n",
      "Success 424/807: https://www.last.fm/music/Paul+De+Leeuw+&+Andre+Hazes nederlandstalig, nederpop\n",
      "Success 425/807: https://www.last.fm/music/Paul+McCartney+&+Wings classic rock, rock, 70s, british, pop\n",
      "Success 426/807: https://www.last.fm/music/Paul+Weller rock, singer-songwriter, british, mod, britpop\n",
      "Success 427/807: https://www.last.fm/music/Enya new age, celtic, ambient, female vocalists, enya\n",
      "Success 428/807: https://www.last.fm/music/The+Gathering gothic metal, alternative rock, progressive rock, atmospheric rock, progressive metal, female vocalists, female fronted metal, trip rock\n",
      "Success 429/807: https://www.last.fm/music/Manic+Street+Preachers rock, britpop, alternative rock, indie, alternative\n",
      "Success 430/807: https://www.last.fm/music/Justin+Timberlake pop, rnb, dance, male vocalists, hip-hop\n",
      "Success 431/807: https://www.last.fm/music/Mike+Oldfield progressive rock, new age, instrumental, ambient, electronic\n",
      "Success 432/807: https://www.last.fm/music/John+Hiatt blues, rock, singer-songwriter, alt-country, americana\n",
      "Success 433/807: https://www.last.fm/music/Lewis+Capaldi pop, pop rock, scottish, singer-songwriter, alternative\n",
      "Success 434/807: https://www.last.fm/music/Iggy+Pop+&+Kate+Pierson punk rock, punk, rock, classic rock, proto-punk\n",
      "Success 435/807: https://www.last.fm/music/Clouseau belgian, pop, nederlandstalig, belgium, vlaams\n",
      "Success 436/807: https://www.last.fm/music/Ozzy+Osbourne heavy metal, hard rock, metal, classic rock, rock\n",
      "Success 437/807: https://www.last.fm/music/Veldhuis+&+Kemper dutch, pop, nederlandstalig, nederpop, nederlands\n",
      "Success 438/807: https://www.last.fm/music/Boney+M. disco, pop, dance, 80s, 70s\n",
      "Success 439/807: https://www.last.fm/music/Clannad folk, new age, Celtic, celtic, irish, female vocalists\n",
      "Success 440/807: https://www.last.fm/music/Venice hardcore, rock, american, folk, general mainstream rock\n",
      "Success 441/807: https://www.last.fm/music/Valensia rock, symphonic rock, progressive rock, pop, dutch\n",
      "Success 442/807: https://www.last.fm/music/Soft+Cell electronic, 80s, new wave, synthpop, synth pop\n",
      "Success 443/807: https://www.last.fm/music/The+Smashing+Pumpkins alternative rock, rock, grunge, alternative, 90s\n",
      "Success 444/807: https://www.last.fm/music/Ben+E.+King soul, pop, doo wop, 60s, oldies, blues, classic rock\n",
      "Success 445/807: https://www.last.fm/music/De+Kast pop, dutch, frisian, rock, nederlandstalig\n",
      "Success 446/807: https://www.last.fm/music/Beth+Hart+&+Joe+Bonamassa blues rock, blues, soul, rock, american\n",
      "Success 447/807: https://www.last.fm/music/Melanie singer-songwriter, folk, female vocalists, 60s, pop\n",
      "Success 448/807: https://www.last.fm/music/Stone+Temple+Pilots grunge, alternative rock, rock, 90s, alternative\n",
      "Success 449/807: https://www.last.fm/music/Blondie rock, singer-songwriter, new wave, punk, 70s, 80s, female vocalists, pop\n",
      "Success 450/807: https://www.last.fm/music/Twenty+One+Pilots Fueled By Ramen, alternative, electronic, indie, rap, indie pop\n",
      "Success 451/807: https://www.last.fm/music/Gigi+D%27agostino dance, electronic, trance, techno, eurodance\n",
      "Success 452/807: https://www.last.fm/music/Les+Poppys french, pop, 70s, chanson francaise, france\n",
      "Success 453/807: https://www.last.fm/music/Korn nu metal, metal, rock, alternative metal, alternative\n",
      "Success 454/807: https://www.last.fm/music/Blues+Brothers blues, rhythm and blues, soul, rock, soundtrack\n",
      "Success 455/807: https://www.last.fm/music/Train rock, adult contemporary, alternative rock, pop, alternative, indie\n",
      "Success 456/807: https://www.last.fm/music/Carole+King 60s, 70s, singer-songwriter, female vocalists, folk, pop\n",
      "Success 457/807: https://www.last.fm/music/Davina+Michelle+&+Snelle \n",
      "Success 458/807: https://www.last.fm/music/The+Chainsmokers+&+Coldplay dance, pop, chris martin, electronic, rock\n",
      "Success 459/807: https://www.last.fm/music/Ge+Reinders dutch, limburg, pop, nederlands, seenlive\n"
     ]
    },
    {
     "name": "stdout",
     "output_type": "stream",
     "text": [
      "Success 460/807: https://www.last.fm/music/Ten+Sharp pop, 90s, 80s, soft rock, dutch\n",
      "Success 461/807: https://www.last.fm/music/Daft+Punk+ft.+Pharrell+Williams electronic, 90s, house, dance, techno, electronica\n",
      "Success 462/807: https://www.last.fm/music/John+Farnham 80s, pop, rock, australian, classic rock\n",
      "Success 463/807: https://www.last.fm/music/The+Doobie+Brothers classic rock, rock, 70s, southern rock, soft rock\n",
      "Success 464/807: https://www.last.fm/music/Maneskin italian, italy, italia, sanremo, eurovision 2021\n",
      "Success 465/807: https://www.last.fm/music/Killing+Joke post-punk, new wave, industrial, industrial rock, industrial metal\n",
      "Success 466/807: https://www.last.fm/music/Zucchero italian, rock, pop, blues, soft rock\n",
      "Success 467/807: https://www.last.fm/music/Gladys+Knight+&+The+Pips soul, rnb, motown, rhythm and blues, female vocalists, oldies\n",
      "Success 468/807: https://www.last.fm/music/George+Baker+Selection classic rock, rock, pop, oldies, soundtrack\n",
      "Success 469/807: https://www.last.fm/music/Tori+Amos female vocalists, alternative, singer-songwriter, piano, lush\n",
      "Success 470/807: https://www.last.fm/music/Yann+Tiersen instrumental, soundtrack, piano, french, classical\n",
      "Success 471/807: https://www.last.fm/music/Cyndi+Lauper pop, 80s, female vocalists, new wave, rock\n",
      "Success 472/807: https://www.last.fm/music/Nick+&+Simon nederlandstalig, dutch, pop, nederpop, nick en simon\n",
      "Success 473/807: https://www.last.fm/music/Etta+James blues, soul, jazz, female vocalists, rhythm and blues\n",
      "Success 474/807: https://www.last.fm/music/Midnight+Oil rock, australian, 80s, alternative, alternative rock\n",
      "Success 475/807: https://www.last.fm/music/Chuck+Berry rock and roll, classic rock, blues, rock n roll, rock\n",
      "Success 476/807: https://www.last.fm/music/Chicago classic rock, rock, 70s, 80s, soft rock\n",
      "Success 477/807: https://www.last.fm/music/Carly+Simon female vocalists, pop, 70s, singer-songwriter, rock\n",
      "Success 478/807: https://www.last.fm/music/Lauren+Daigle pop, christian, soul, singer-songwriter, american\n",
      "Success 479/807: https://www.last.fm/music/Elton+John+&+Kiki+Dee pop, 70s, oldies, 80s, duet\n",
      "Success 480/807: https://www.last.fm/music/Sniff+%27n+The+Tears classic rock, rock, 80s, new wave, 70s\n",
      "Success 481/807: https://www.last.fm/music/Carpenters pop, 70s, christmas, female vocalists, easy listening\n",
      "Success 482/807: https://www.last.fm/music/Michel+Sardou chanson francaise, french, pop, chanson française, michel sardou\n",
      "Success 483/807: https://www.last.fm/music/Roxy+Music art rock, glam rock, new wave, experimental, electronic, rock, 70s, 80s\n",
      "Success 484/807: https://www.last.fm/music/Counting+Crows rock, alternative rock, alternative, 90s, pop\n",
      "Success 485/807: https://www.last.fm/music/Temple+Of+The+Dog grunge, alternative rock, rock, alternative, 90s\n",
      "Success 486/807: https://www.last.fm/music/Eros+Ramazzotti+&+Tina+Turner pop, italian, rock, love, 90s\n",
      "Success 487/807: https://www.last.fm/music/BAP deutschrock, german, rock, koelsch, deutsch\n",
      "Success 488/807: https://www.last.fm/music/Clannad+&+Bono new age, celtic, irish, folk, world\n",
      "Success 489/807: https://www.last.fm/music/Emerson,+Lake+&+Palmer progressive rock, classic rock, symphonic rock, rock, 70s\n",
      "Success 490/807: https://www.last.fm/music/Lenny+Kravitz American, singer-songwriter, producer, guitarist, retro, rock, pop, funk, techno, alternative, alternative rock, lenny kravitz\n",
      "Success 491/807: https://www.last.fm/music/Gilbert+Becaud french, chanson francaise, chanson, male vocalists, france\n",
      "Success 492/807: https://www.last.fm/music/REO+Speedwagon rock, classic rock, 80s, soft rock, hard rock\n",
      "Success 493/807: https://www.last.fm/music/Limp+Bizkit nu metal, rap metal, rapcore, rock, alternative, metal\n",
      "Success 494/807: https://www.last.fm/music/Daft+Punk electronic, 90s, house, dance, techno, electronica\n",
      "Success 495/807: https://www.last.fm/music/Teskey+Brothers \n",
      "Failure: Macklemore & Ryan Lewis ft. Ray Dalton\n",
      "Success 497/807: https://www.last.fm/music/No+Doubt ska punk, rock, ska, pop, alternative, female vocalists\n",
      "Success 498/807: https://www.last.fm/music/Little+River+Band classic rock, 70s, rock, soft rock, australian\n",
      "Success 499/807: https://www.last.fm/music/Thin+Lizzy hard rock, classic rock, rock, irish, 70s\n",
      "Success 500/807: https://www.last.fm/music/Barbra+Streisand female vocalists, pop, easy listening, 80s, diva\n",
      "Success 501/807: https://www.last.fm/music/Rush rock, progressive rock, classic rock, hard rock, rush\n",
      "Success 502/807: https://www.last.fm/music/Spice+Girls pop, 90s, british, female vocalists, dance\n",
      "Success 503/807: https://www.last.fm/music/Tom+Petty classic rock, rock, singer-songwriter, folk, 80s\n",
      "Success 504/807: https://www.last.fm/music/Jethro+Tull progressive rock, folk rock, classic rock, rock, christmas\n",
      "Success 505/807: https://www.last.fm/music/Steppenwolf classic rock, hard rock, rock, 60s, psychedelic\n",
      "Success 506/807: https://www.last.fm/music/Paolo+Conte jazz, italian, singer-songwriter, piano, chanson\n",
      "Success 507/807: https://www.last.fm/music/Toontje+Lager dutch, pop, nederlandstalig, nederpop, 80s\n",
      "Success 508/807: https://www.last.fm/music/The+Trammps soul, disco, cover, soundtrack, funk, 70s, pop\n",
      "Success 509/807: https://www.last.fm/music/Marc+Cohn singer-songwriter, rock, pop, american, adult contemporary\n",
      "Success 510/807: https://www.last.fm/music/Earth+&+Fire progressive rock, dutch, rock, 70s, pop\n",
      "Success 511/807: https://www.last.fm/music/Split+Enz new wave, new zealand, 80s, rock, pop\n",
      "Success 512/807: https://www.last.fm/music/Kodaline indie rock, irish, indie, alternative, acoustic\n",
      "Success 513/807: https://www.last.fm/music/George+Michael+&+Aretha+Franklin pop, 80s, soul, 1987, party\n",
      "Success 514/807: https://www.last.fm/music/Matthias+Reim pop, rock, singer-songwriter, schlager, matthias reim, deutsch, german\n",
      "Success 515/807: https://www.last.fm/music/John+Denver+&+Placido+Domingo country, folk, classical, boring, uplifting\n",
      "Success 516/807: https://www.last.fm/music/Sade smooth jazz, soul, sophisti-pop, R&B, Latin soul, jazz, female vocalists, sade, chillout\n",
      "Success 517/807: https://www.last.fm/music/Barbra+Streisand+&+Barry+Gibb female vocalists, barbra streisand, classic rock, barbra streisand y barry gibb, 80s\n",
      "Success 518/807: https://www.last.fm/music/First+Aid+Kit folk, swedish, indie, female vocalists, dream pop\n",
      "Success 519/807: https://www.last.fm/music/Marianne+Rosenberg schlager, german, marianne rosenberg, deutsch, female vocalists\n",
      "Success 520/807: https://www.last.fm/music/Kaleo rock, blues rock, icelandic, folk, alternative rock\n",
      "Success 521/807: https://www.last.fm/music/Portishead jazz, hip-hop, synth, trip-hop, electronic, female vocalists, chillout, lush\n",
      "Success 522/807: https://www.last.fm/music/Faith+No+More alternative metal, alternative rock, rock, alternative, metal\n",
      "Success 523/807: https://www.last.fm/music/Joni+Mitchell folk, singer-songwriter, female vocalists, canadian, acoustic\n",
      "Success 524/807: https://www.last.fm/music/Dave+Brubeck+Quartet jazz, cool jazz, instrumental, piano, jazz piano\n",
      "Success 525/807: https://www.last.fm/music/Sam+Cooke soul, rhythm and blues, oldies, gospel, 60s\n",
      "Success 526/807: https://www.last.fm/music/Stevie+Ray+Vaughan blues, blues rock, guitar, classic rock, rock\n",
      "Success 527/807: https://www.last.fm/music/Mr.+Mister pop, rock, 80s, jazz, rnb, 70s, new wave, classic rock\n",
      "Success 528/807: https://www.last.fm/music/U2+&+BB+King  alternative rock, rock, classic rock, u2, irish, alternative\n",
      "Success 529/807: https://www.last.fm/music/Michael+Andrews+ft.+Gary+Jules singer-songwriter, indie, acoustic, alternative, rock\n",
      "Success 530/807: https://www.last.fm/music/The+Clash punk rock, 70s, rock and roll, reggae, rockabilly, punk, rock, british, classic rock\n",
      "Success 531/807: https://www.last.fm/music/David+Bowie+&+Pat+Metheny+Group 80s, classic rock, rock, usa, uk\n",
      "Success 532/807: https://www.last.fm/music/Florence+++The+Machine art pop, Motown, indie, female vocalists, alternative, british, indie pop\n",
      "Success 533/807: https://www.last.fm/music/Paul+Kalkbrenner minimal, electronic, techno, electro, bpitch control\n",
      "Success 534/807: https://www.last.fm/music/Pat+Benatar rock, 80s, female vocalists, classic rock, pop\n"
     ]
    },
    {
     "name": "stdout",
     "output_type": "stream",
     "text": [
      "Success 535/807: https://www.last.fm/music/Iron+Butterfly psychedelic rock, heavy metal, 60s, one hit wonders, classic rock, psychedelic, progressive rock, rock\n",
      "Success 536/807: https://www.last.fm/music/Lionel+Richie singer, songwriter, composer, soul, pop, 80s, rnb, lionel richie\n",
      "Success 537/807: https://www.last.fm/music/Air electronic, chillout, ambient, french, electronica\n",
      "Success 538/807: https://www.last.fm/music/Michael+Buble jazz, swing, christmas, pop, easy listening\n",
      "Success 539/807: https://www.last.fm/music/B.B.+King blues, blues rock, guitar, jazz, classic rock\n",
      "Success 540/807: https://www.last.fm/music/Stealers+Wheel folk, rock, classic rock, 70s, oldies\n",
      "Success 541/807: https://www.last.fm/music/3JS dutch, eurovision, nederlandstalig, levenslied, nederlands\n",
      "Success 542/807: https://www.last.fm/music/Darude trance, electronic, dance, techno, electronica\n",
      "Success 543/807: https://www.last.fm/music/Snowy+White blues rock, blues, classic rock, rock, guitar\n",
      "Success 544/807: https://www.last.fm/music/The+Bangles 80s, pop, female vocalists, new wave, rock\n",
      "Success 545/807: https://www.last.fm/music/Claw+Boys+Claw garage punk, melodic swamp rock, dutch, rock, all, garage rock, alternative\n",
      "Success 546/807: https://www.last.fm/music/Bill+Withers+&+Grover+Washington,+Jr. jazz, soul, classic track, aaaaaaaaahh, songs to sing along\n",
      "Success 547/807: https://www.last.fm/music/Christina+Aguilera pop, RnB, female vocalists, soul, rnb, christina aguilera\n",
      "Success 548/807: https://www.last.fm/music/Tom+Waits blues, singer-songwriter, rock, experimental, alternative\n",
      "Success 549/807: https://www.last.fm/music/Fugees hip hop, soul, reggae, hip-hop, rap, rnb\n",
      "Success 550/807: https://www.last.fm/music/Taylor+Swift country, pop rock, synth-pop, electro-pop, dance pop, folk pop, indie folk, f…, pop, female vocalists, taylor swift, singer-songwriter\n",
      "Success 551/807: https://www.last.fm/music/Dr.+Dre+ft.+Snoop+Dogg hip-hop, rap, gangsta rap, west coast, hip hop\n",
      "Success 552/807: https://www.last.fm/music/Mr.+Probz hip-hop, dutch, rap, nederhop, dance\n",
      "Success 553/807: https://www.last.fm/music/Kraftwerk electronic, 70s, synthpop, german, electronica, electro\n",
      "Success 554/807: https://www.last.fm/music/Meau indie, singer-songwriter, dutch, netherlands, nederlandstalig\n",
      "Success 555/807: https://www.last.fm/music/Alannah+Myles rock, female vocalists, 80s, canadian, pop\n",
      "Success 556/807: https://www.last.fm/music/Katie+Melua jazz, female vocalists, blues, pop, singer-songwriter\n",
      "Success 557/807: https://www.last.fm/music/Robert+Plant classic rock, rock, hard rock, blues, british\n",
      "Success 558/807: https://www.last.fm/music/Placebo alternative rock, alternative, rock, indie, british\n",
      "Success 559/807: https://www.last.fm/music/Post+Malone hip-hop, rap, trap, cloud rap, pop\n",
      "Success 560/807: https://www.last.fm/music/Cock+Robin 80s, pop, soft rock, rock, american\n",
      "Success 561/807: https://www.last.fm/music/The+Black+Crowes blues, Hard Rock, southern rock, blues rock, rock, hard rock, classic rock\n",
      "Success 562/807: https://www.last.fm/music/George+Harrison classic rock, rock, singer-songwriter, british, 70s\n",
      "Success 563/807: https://www.last.fm/music/Bruno+Mars pop, rnb, male vocalists, r&b, bruno mars\n",
      "Success 564/807: https://www.last.fm/music/Brian+May rock, classic rock, hard rock, british, queen\n",
      "Success 565/807: https://www.last.fm/music/Kim+Wilde pop, 50s, 80s, new wave, female vocalists, british\n",
      "Success 566/807: https://www.last.fm/music/Alain+Clark soul, dutch, funk, pop, singer-songwriter\n",
      "Success 567/807: https://www.last.fm/music/Robert+Miles trance, electronic, ambient, chillout, dance\n",
      "Success 568/807: https://www.last.fm/music/Lucifer doom metal, occult rock, hard rock, death metal, psychedelic rock\n",
      "Success 569/807: https://www.last.fm/music/Blink-182 pop punk, punk rock, punk, rock, alternative\n",
      "Success 570/807: https://www.last.fm/music/Nielson dutch, all, pop, nederpop, the netherlands\n",
      "Success 571/807: https://www.last.fm/music/Xavier+Rudd soul, folk, acoustic, australian, singer-songwriter, indie\n",
      "Success 572/807: https://www.last.fm/music/The+Fray alternative, rock, piano rock, alternative rock, indie\n",
      "Success 573/807: https://www.last.fm/music/Roberta+Flack soul, female vocalists, 70s, jazz, rnb\n",
      "Success 574/807: https://www.last.fm/music/Celine+Dion pop, female vocalists, canadian, christmas, 90s\n",
      "Success 575/807: https://www.last.fm/music/Lee+Towers levenslied, rotterdam, home collection, folk, nl2\n",
      "Success 576/807: https://www.last.fm/music/Barry+Ryan pop, 60s, singer-songwriter, rock, oldies\n",
      "Success 577/807: https://www.last.fm/music/Loreen pop, swedish, eurovision, female vocalists, dance\n",
      "Success 578/807: https://www.last.fm/music/Kirsty+Maccoll+&+Pogues \n",
      "Success 579/807: https://www.last.fm/music/Mike+&+The+Mechanics 80s, rock, pop, classic rock, progressive rock\n",
      "Success 580/807: https://www.last.fm/music/Pommelien+Thijs+&+Jaap+Reesema \n",
      "Success 581/807: https://www.last.fm/music/2Pac+ft.+Dr.+Dre rap, hip-hop, gangsta rap, west coast rap, 2pac\n",
      "Success 582/807: https://www.last.fm/music/Vandenberg Dutch, hard rock, heavy metal, rock, dutch, 80s\n",
      "Success 583/807: https://www.last.fm/music/Labi+Siffre soul, funk, singer-songwriter, pop, british\n",
      "Success 584/807: https://www.last.fm/music/Willie+Nelson country, outlaw country, folk, singer-songwriter, willie nelson\n",
      "Success 585/807: https://www.last.fm/music/The+Dubliners folk, irish, irish folk, celtic, traditional\n",
      "Success 586/807: https://www.last.fm/music/Eminem+&+Rihanna rap, hip-hop, eminem, hip hop, pop\n",
      "Success 587/807: https://www.last.fm/music/Alderliefste+&+Paul+de+Leeuw dutch, nederlandstalig, nederpop, netherlands, nederlands\n",
      "Success 588/807: https://www.last.fm/music/Martin+Garrix house, electronic, dance, electropop, pop\n",
      "Success 589/807: https://www.last.fm/music/Ben+Howard folk, acoustic, singer-songwriter, british, indie\n",
      "Success 590/807: https://www.last.fm/music/Kanye+West+&+Jay-Z hip-hop, rap, kanye west, jay-z, hip hop\n",
      "Success 591/807: https://www.last.fm/music/Jeff+Wayne+&+Justin+Hayward progressive rock, soundtrack, rock, electronic, musical\n",
      "Success 592/807: https://www.last.fm/music/The+Hollies beat, pop, 60s, folk, supergroup, folk…, classic rock, british, rock, oldies\n",
      "Success 593/807: https://www.last.fm/music/Drs.+P dutch, all, folk, cabaret, nederlandstalig\n",
      "Success 594/807: https://www.last.fm/music/Patrick+Bruel french, chanson francaise, pop, singer-songwriter, francophone\n",
      "Success 595/807: https://www.last.fm/music/George+Michael+&+Mary+J.+Blige pop, rnb, soul, 90s, female vocalists\n",
      "Success 596/807: https://www.last.fm/music/Sugarhill+Gang hip-hop, rap, old school, hip hop, 80s\n",
      "Success 597/807: https://www.last.fm/music/J.J.+Cale blues, blues rock, singer-songwriter, rock, classic rock\n",
      "Success 598/807: https://www.last.fm/music/Level+42 jazz-funk, 80s, pop, funk, new wave, bass\n",
      "Success 599/807: https://www.last.fm/music/Laura+Pausini Latin pop, Pop, pop, italian, female vocalists, italian pop, latin pop\n",
      "Success 600/807: https://www.last.fm/music/Bush grunge, alternative rock, rock, alternative, 90s\n",
      "Success 601/807: https://www.last.fm/music/Ralph+McTell folk, singer-songwriter, acoustic, british, oldies\n",
      "Success 602/807: https://www.last.fm/music/Roy+Orbison singer-songwriter, rock and roll, falsetto, classic rock, oldies, rockabilly, 60s, rock\n",
      "Success 603/807: https://www.last.fm/music/Mecano pop, spanish, 80s, female vocalists, spanish pop\n",
      "Success 604/807: https://www.last.fm/music/Fats+Domino rock and roll, blues, rhythm and blues, oldies, rock n roll\n",
      "Success 605/807: https://www.last.fm/music/Grace+Jones disco, new wave, pop, 80s, female vocalists\n",
      "Success 606/807: https://www.last.fm/music/Mud glam rock, rock, 70s, classic rock, christmas\n",
      "Success 607/807: https://www.last.fm/music/Armand Nederbiet, singer-songwriter, nederlandstalig, pop, wrong picture, dutch\n",
      "Success 608/807: https://www.last.fm/music/Is+Ook+Schitterend nederlandstalig, rock, dutch, nederlands, pop\n",
      "Success 609/807: https://www.last.fm/music/Pet+Shop+Boys synthpop, pop, electronic, 80s, new wave\n",
      "Success 610/807: https://www.last.fm/music/Dotan singer-songwriter, indie, dutch, all, pop\n",
      "Success 611/807: https://www.last.fm/music/Band+Aid pop, christmas, 80s, rock, british\n"
     ]
    },
    {
     "name": "stdout",
     "output_type": "stream",
     "text": [
      "Success 612/807: https://www.last.fm/music/James+Taylor singer-songwriter, folk, acoustic, classic rock, james taylor\n",
      "Success 613/807: https://www.last.fm/music/House+Of+Pain hip-hop, rap, old school, hip hop, 90s\n",
      "Success 614/807: https://www.last.fm/music/Extreme hard rock, rock, funk metal, hair metal, metal\n",
      "Success 615/807: https://www.last.fm/music/Bruce+Hornsby+&+The+Range 80s, classic rock, rock, singer-songwriter, soft rock\n",
      "Success 616/807: https://www.last.fm/music/The+Babys pop rock, 70s, 80s, power pop, classic rock, rock, japanese, hard rock\n",
      "Success 617/807: https://www.last.fm/music/The+Human+League synthpop, Post-Punk, New Wave, new wave, 80s, electronic, synth pop\n",
      "Success 618/807: https://www.last.fm/music/The+Script+ft.+Will.I.Am pop rock, rock, pop, irish, acoustic\n",
      "Success 619/807: https://www.last.fm/music/Tom+Petty+&+The+Heartbreakers rock, classic rock, 80s, singer-songwriter, christmas\n",
      "Success 620/807: https://www.last.fm/music/The+The new wave, post-punk, 80s, alternative, indie\n",
      "Success 621/807: https://www.last.fm/music/Owl+City electronica, electronic, indie, powerpop, pop\n",
      "Success 622/807: https://www.last.fm/music/James+Blunt pop, singer-songwriter, acoustic, indie, rock\n",
      "Success 623/807: https://www.last.fm/music/U2+&+Green+Day rock, punk rock, alternative rock, alternative, u2\n",
      "Success 624/807: https://www.last.fm/music/Steve+Harley+&+Cockney+Rebel glam rock, rock, 70s, classic rock, british\n",
      "Success 625/807: https://www.last.fm/music/Ella+Fitzgerald+&+Louis+Armstrong jazz, swing, blues, jazz vocal, vocal jazz\n",
      "Success 626/807: https://www.last.fm/music/Dan+Hartman disco, 80s, pop, dance, soft rock\n",
      "Success 627/807: https://www.last.fm/music/Niall+Horan pop, folk, irish, singer-songwriter, male vocalists\n",
      "Success 628/807: https://www.last.fm/music/The+Communards+&+Sarah+Jane+Morris linedance 2011\n",
      "Success 629/807: https://www.last.fm/music/Black+Pumas soul, rnb, blues, rock\n",
      "Success 630/807: https://www.last.fm/music/Jenny+Arean+&+Frans+Halsema the netherlands, 82\n",
      "Success 631/807: https://www.last.fm/music/Gorki belgian, rock, nederlandstalig, belgium, alternative\n",
      "Success 632/807: https://www.last.fm/music/Dolly+Dots pop, dutch, 80s, dance, girl group\n",
      "Success 633/807: https://www.last.fm/music/Spider+Murphy+Gang german, ndw, neue deutsche welle, deutsch, 80s\n",
      "Success 634/807: https://www.last.fm/music/Bill+Medley+&+Jennifer+Warnes 80s, soundtrack, pop, dirty dancing, dance\n",
      "Success 635/807: https://www.last.fm/music/Hans+de+Booij pop, 80s, dutch, the netherlands, djable\n",
      "Success 636/807: https://www.last.fm/music/Scott+McKenzie classic rock, 60s, folk, rock, oldies\n",
      "Success 637/807: https://www.last.fm/music/Janis+Ian folk, singer-songwriter, female vocalists, classic rock, pop\n",
      "Success 638/807: https://www.last.fm/music/Karin+Bloemen female vocalists, all, nederlandstalig, pittige tijden, the masked singer\n",
      "Success 639/807: https://www.last.fm/music/Run+DMC+&+Aerosmith hip hop, hip-hop, rap, old school, 80s\n",
      "Success 640/807: https://www.last.fm/music/Caro+Emerald jazz, female vocalists, pop, dutch, swing\n",
      "Success 641/807: https://www.last.fm/music/Foster+The+People indie rock, indie pop, indie, alternative, american\n",
      "Success 642/807: https://www.last.fm/music/The+Shadows instrumental, classic rock, 60s, rock, oldies\n",
      "Success 643/807: https://www.last.fm/music/Dua+Lipa+ft.+DaBaby \n",
      "Success 644/807: https://www.last.fm/music/Peter+Frampton 70s, arena rocker, psychedeli, classic rock, rock, singer-songwriter, guitar\n",
      "Success 645/807: https://www.last.fm/music/The+Robert+Cray+Band blues, blues rock, soul, american, rock\n",
      "Success 646/807: https://www.last.fm/music/Creed post-grunge, rock, alternative rock, hard rock, grunge, alternative\n",
      "Success 647/807: https://www.last.fm/music/Lukas+Graham pop, soul, danish, retro pop\n",
      "Success 648/807: https://www.last.fm/music/Norah+Jones jazz, female vocalists, blues, singer-songwriter, pop\n",
      "Success 649/807: https://www.last.fm/music/Monkees 60s, classic rock, pop, rock, oldies\n",
      "Success 650/807: https://www.last.fm/music/UB40+&+Chrissie+Hynde reggae, rock, 80s, duo, pop\n",
      "Success 651/807: https://www.last.fm/music/Natasha+Bedingfield Pop, pop, female vocalists, british, singer-songwriter, natasha bedingfield\n",
      "Success 652/807: https://www.last.fm/music/Youssou+N%27Dour+&+Neneh+Cherry pop, world, 90s, african, french\n",
      "Success 653/807: https://www.last.fm/music/Maarten+Van+Roozendaal cabaret, singer-songwriter, dutch, netherlands, nederlandstalig\n",
      "Success 654/807: https://www.last.fm/music/Raymond+Van+Het+Groenewoud kleinkunst, belgian, nederlandstalig, singer-songwriter, belgium\n",
      "Success 655/807: https://www.last.fm/music/Therapy? alternative rock, punk rock, rock, alternative, hard rock, metal\n",
      "Success 656/807: https://www.last.fm/music/Ryan+Paris pop, italo disco, 80s, disco, dance\n",
      "Success 657/807: https://www.last.fm/music/Julio+Iglesias latin, spanish, julio iglesias, pop, romantic\n",
      "Success 658/807: https://www.last.fm/music/Tino+Martin dutch, netherlands, nederlands\n",
      "Success 659/807: https://www.last.fm/music/Paul+McCartney+&+Frog+Chorus classic rock, rock, british, singer-songwriter, pop\n",
      "Success 660/807: https://www.last.fm/music/Ronan+Keating pop, irish, male vocalists, ronan keating, brit pop\n",
      "Success 661/807: https://www.last.fm/music/Muddy+Waters Chicago Blues, blues, chicago blues, delta blues, classic blues, muddy waters\n",
      "Success 662/807: https://www.last.fm/music/The+Weeknd+ft.+Daft+Punk canada\n",
      "Success 663/807: https://www.last.fm/music/Armin+van+Buuren+ft.+Josh+Cumbee \n",
      "Success 664/807: https://www.last.fm/music/Coldplay+&+Buena+Vista+Social+Club Cuban, latin, cuban, jazz, latin jazz, world\n",
      "Success 665/807: https://www.last.fm/music/Opus 80s, rock, pop, austrian, pop rock\n",
      "Success 666/807: https://www.last.fm/music/Patti+Smith+Group punk, poetry, rock, female vocalists, singer-songwriter, alternative\n",
      "Success 667/807: https://www.last.fm/music/Womack+&+Womack soul, 80s, funk, disco, pop\n",
      "Success 668/807: https://www.last.fm/music/Chic American, disco, funk, soul, 70s, dance\n",
      "Success 669/807: https://www.last.fm/music/Mika pop, british, britpop, electronic, alternative\n",
      "Success 670/807: https://www.last.fm/music/The+Pointer+Sisters American, vocal group, sisters, disco, 80s, pop, soul, female vocalists\n",
      "Success 671/807: https://www.last.fm/music/Brainbox blues rock, classic rock, psychedelic rock, dutch, psychedelic\n",
      "Success 672/807: https://www.last.fm/music/The+Buoys rock, classic rock, oldies, 60s, pop\n",
      "Success 673/807: https://www.last.fm/music/MGMT indie, electronic, psychedelic, alternative, indie pop\n",
      "Success 674/807: https://www.last.fm/music/Alan+Walker electronic, house, dance, norwegian, edm\n",
      "Success 675/807: https://www.last.fm/music/Nina+Hagen punk, post-punk, new wave, german, female vocalists\n",
      "Success 676/807: https://www.last.fm/music/Traveling+Wilburys supergroup, classic rock, rock, 80s, traveling wilburys\n",
      "Success 677/807: https://www.last.fm/music/Jean+Michel+Jarre composer, performer, producer, electronic, ambient, new age, instrumental, french\n",
      "Success 678/807: https://www.last.fm/music/Ramones punk rock, punk, 70s, classic rock, rock\n",
      "Success 679/807: https://www.last.fm/music/LP indie, rock, synthpop, electronic, pop\n",
      "Success 680/807: https://www.last.fm/music/Ten+Years+After blues rock, classic rock, rock, blues, hard rock\n",
      "Success 681/807: https://www.last.fm/music/Youp+van+%27t+Hek cabaret, comedy, dutch, christmas, folk\n",
      "Success 682/807: https://www.last.fm/music/Joe+Cocker+&+Jennifer+Warnes 80s, classic rock, pop, rock, duets\n",
      "Success 683/807: https://www.last.fm/music/Sex+Pistols punk rock, punk, british, 70s, rock\n",
      "Success 684/807: https://www.last.fm/music/Black 80s, pop, soft rock, singer-songwriter, rock\n",
      "Success 685/807: https://www.last.fm/music/Delerium+ft.+Sarah+McLachlan ambient, electronic, chillout, trance, new age\n",
      "Success 686/807: https://www.last.fm/music/Tom+Jones pop, oldies, classic rock, male vocalists, rock\n",
      "Success 687/807: https://www.last.fm/music/Anouk+&+Douwe+Bob featuring, 2015 single\n",
      "Success 688/807: https://www.last.fm/music/Sammy+Davis+Jr. jazz, swing, oldies, rat pack, male vocalists\n",
      "Success 689/807: https://www.last.fm/music/OutKast hip-hop, funk, rap, soul, hip hop\n"
     ]
    },
    {
     "name": "stdout",
     "output_type": "stream",
     "text": [
      "Success 690/807: https://www.last.fm/music/Roger+Glover+&+Guests rock, my autumn of 00, songs that remind me of robik, 70s, classic rock\n",
      "Success 691/807: https://www.last.fm/music/Cheap+Trick classic rock, rock, power pop, hard rock, 80s\n",
      "Success 692/807: https://www.last.fm/music/Celine+Dion+&+Barbra+Streisand duets, female vocalists, 90s, céline dion, duett\n",
      "Success 693/807: https://www.last.fm/music/Notorious+B.I.G. hip-hop, rap, gangsta rap, east coast rap, hip hop\n",
      "Success 694/807: https://www.last.fm/music/Marvin+Gaye+&+Tammi+Terrell soul, motown, rhythm and blues, duets, oldies\n",
      "Success 695/807: https://www.last.fm/music/Suzanne+Vega singer-songwriter, folk, female vocalists, pop, alternative\n",
      "Success 696/807: https://www.last.fm/music/Smash+Mouth alternative rock, neo-ska, rock, alternative, ska, pop\n",
      "Success 697/807: https://www.last.fm/music/Prodigy hip hop, electronic, hip-hop, big beat, rave, rap\n",
      "Success 698/807: https://www.last.fm/music/Khruangbin+&+Leon+Bridges soul, rock, psychedelic, funk\n",
      "Success 699/807: https://www.last.fm/music/Jason+Mraz acoustic, singer-songwriter, pop, alternative, rock\n",
      "Success 700/807: https://www.last.fm/music/Manu+Chao rock, reggae, punk, ska, latin, world, alternative\n",
      "Success 701/807: https://www.last.fm/music/Mink+Deville rock, rhythm and blues, proto punk, 80s, classic rock\n",
      "Success 702/807: https://www.last.fm/music/Pixies alternative rock, alternative, indie, rock, indie rock\n",
      "Success 703/807: https://www.last.fm/music/Stereophonics rock, britpop, indie, alternative, indie rock\n",
      "Success 704/807: https://www.last.fm/music/Q65 garage rock, psychedelic rock, 60s, dutch, psychedelic\n",
      "Success 705/807: https://www.last.fm/music/Gary+Moore+&+Phil+Lynott classic rock, rock, hard rock, blues, 80s\n",
      "Success 706/807: https://www.last.fm/music/Billy+Ocean pop, soul, 80s, disco, 7soul\n",
      "Success 707/807: https://www.last.fm/music/Japan glam rock, Motown, glam…, new wave, post-punk, 80s, new romantic, electronic\n",
      "Success 708/807: https://www.last.fm/music/Bonnie+Raitt blues, female vocalists, singer-songwriter, country, rock\n",
      "Success 709/807: https://www.last.fm/music/Curtis+Mayfield soul, funk, rhythm and blues, singer-songwriter, blaxploitation, 70s, rnb\n",
      "Success 710/807: https://www.last.fm/music/Master+KG+ft.+Nomcebo \n",
      "Success 711/807: https://www.last.fm/music/Sandy+Coast psychedelic, rock, 70s, psychedelic rock, 60s\n",
      "Success 712/807: https://www.last.fm/music/Matthew+Wilder 80s, pop, one hit wonder, reggae, american\n",
      "Success 713/807: https://www.last.fm/music/Kendrick+Lamar hip-hop, rap, hip hop, west coast, kendrick lamar\n",
      "Success 714/807: https://www.last.fm/music/B-52%27s rock, new wave, pop, 80s, alternative\n",
      "Success 715/807: https://www.last.fm/music/OneRepublic rock, pop rock, alternative, alternative rock, pop\n",
      "Success 716/807: https://www.last.fm/music/The+Weather+Girls disco, pop, 80s, soul, female vocalists\n",
      "Success 717/807: https://www.last.fm/music/Jamiroquai funk, acid jazz, dance, electronic, pop\n",
      "Success 718/807: https://www.last.fm/music/Julien+Clerc chanson francaise, french, pop, chanson, herz\n",
      "Success 719/807: https://www.last.fm/music/Jonathan+Jeremiah folk, soul, singer-songwriter, acoustic, british\n",
      "Success 720/807: https://www.last.fm/music/Lorde pop, indie pop, electronic, indie, new zealand\n",
      "Success 721/807: https://www.last.fm/music/Ph.D. power pop, pop, home collection, 80s, 1981\n",
      "Success 722/807: https://www.last.fm/music/Pulp alternative rock, britpop, indie, british, 90s, alternative\n",
      "Success 723/807: https://www.last.fm/music/Steve+Miller+Band classic rock, rock, 70s, psychedelic, 80s\n",
      "Success 724/807: https://www.last.fm/music/Swedish+House+Mafia+ft.+John+Martin house, electronic, dance, electro house, electro\n",
      "Success 725/807: https://www.last.fm/music/Patrick+Hernandez disco, 70s, dance, pop, french\n",
      "Success 726/807: https://www.last.fm/music/Reinhard+Mey liedermacher, deutsch, singer-songwriter, german, reinhard mey\n",
      "Success 727/807: https://www.last.fm/music/Rufus+&+Chaka+Khan funk, soul, disco, rhythm and blues, 70s\n",
      "Success 728/807: https://www.last.fm/music/Joe+Buck country, cowpunk, hellbilly, stoner rock, psychobilly\n",
      "Success 729/807: https://www.last.fm/music/Party+Animals happy hardcore, all, gabber, hardcore, electronic\n",
      "Success 730/807: https://www.last.fm/music/Sweet 70s, rock, glam rock, hard rock, bubblegum, classic rock\n",
      "Success 731/807: https://www.last.fm/music/Dido British, pop, female vocalists, chillout, singer-songwriter, dido\n",
      "Success 732/807: https://www.last.fm/music/The+Temper+Trap indie rock, indie, australian, alternative, rock\n",
      "Success 733/807: https://www.last.fm/music/Justin+Bieber pop, rnb, justin bieber, black metal, christmas\n",
      "Success 734/807: https://www.last.fm/music/Gossip indie rock, indie, female vocalists, rock, electronic\n",
      "Success 735/807: https://www.last.fm/music/Sting+&+Cheb+Mami rock, pop, classic rock, british, sting\n",
      "Success 736/807: https://www.last.fm/music/Walk+The+Moon indie, indie rock, indie pop, american, alternative\n",
      "Success 737/807: https://www.last.fm/music/Andre+van+Duin dutch, comedy, humor, all, nederlandstalig\n",
      "Success 738/807: https://www.last.fm/music/Guano+Apes alternative metal, crossover, alternative rock, rock, alternative, female vocalists, german\n",
      "Success 739/807: https://www.last.fm/music/Gregory+Porter jazz, soul, vocal jazz, smooth jazz, jazz vocal\n",
      "Success 740/807: https://www.last.fm/music/Of+Monsters+And+Men indie folk, indie, folk, icelandic, indie pop\n",
      "Success 741/807: https://www.last.fm/music/Ugly+Kid+Joe hard rock, rock, 90s, alternative rock, metal\n",
      "Success 742/807: https://www.last.fm/music/Emma+Heesters+&+Rolf+Sanchez linedance 2019\n",
      "Success 743/807: https://www.last.fm/music/Wolfmother hard rock, rock, stoner rock, australian, alternative\n",
      "Success 744/807: https://www.last.fm/music/Frank+Zappa doo-wop, rhythm and blues, progressive rock, experimental, rock, jazz, classic rock\n",
      "Success 745/807: https://www.last.fm/music/Avicii+ft.+Chris+Martin \n",
      "Success 746/807: https://www.last.fm/music/Diesel dubstep, rock, alternative rock, filthstep, blues-rock\n",
      "Success 747/807: https://www.last.fm/music/Crash+Test+Dummies rock, alternative rock, alternative, canadian, 90s\n",
      "Success 748/807: https://www.last.fm/music/Paul+Young pop, 80s, new wave, british, male vocalists\n",
      "Success 749/807: https://www.last.fm/music/Outfield arena rock, pop rock, power pop, power trio, new wave, 80s, rock, classic rock, pop, british\n",
      "Success 750/807: https://www.last.fm/music/Blackstreet+ft.+Dr+Dre rnb, hip-hop, 90s, soul, rap\n",
      "Success 751/807: https://www.last.fm/music/George+Ezra singer-songwriter, bluesy, mournful, indie, folk, british, indie folk\n",
      "Success 752/807: https://www.last.fm/music/Tanita+Tikaram pop, female vocalists, 80s, singer-songwriter, rock\n",
      "Success 753/807: https://www.last.fm/music/Calum+Scott pop, british, hairy chest, acoustic, cover\n",
      "Success 754/807: https://www.last.fm/music/Manfred+Mann%27s+Earth+Band progressive rock, classic rock, rock, art rock, 70s\n",
      "Success 755/807: https://www.last.fm/music/Steely+Dan jazz rock, classic rock, rock, 70s, steely dan\n",
      "Success 756/807: https://www.last.fm/music/Solomon+Burke+&+De+Dijk soul, americana, dutch, usa\n",
      "Success 757/807: https://www.last.fm/music/Twarres pop, dutch, folk, singer-songwriter, frisian\n",
      "Success 758/807: https://www.last.fm/music/Silk+Sonic soul, funk, rnb, pop, 2021\n",
      "Failure: ﻿Electric Light Orchestra\n",
      "Success 760/807: https://www.last.fm/music/Britney+Spears pop, dance, britney spears, female vocalists, sexy\n",
      "Success 761/807: https://www.last.fm/music/Ellen+Foley rock, 80s, american, female vocalists\n",
      "Success 762/807: https://www.last.fm/music/Johan dutch, pop, rock, indie pop, excelsior\n",
      "Success 763/807: https://www.last.fm/music/Santana+&+Rob+Thomas Latin, rock, classic rock, latin, guitar, latin rock\n",
      "Success 764/807: https://www.last.fm/music/Prince+&+The+New+Power+Generation funk, pop, soul, prince, rock\n",
      "Success 765/807: https://www.last.fm/music/Kid+Rock hip-hop, rap metal, blues-rock, hard rock, southern rock, funk, country, cou…, rock, alternative rock, alternative, kid rock\n",
      "Success 766/807: https://www.last.fm/music/Tim+Hardin folk, singer-songwriter, 60s, blues, acoustic\n",
      "Success 767/807: https://www.last.fm/music/Fatboy+Slim big beat, electronic, dance, house, electronica\n"
     ]
    },
    {
     "name": "stdout",
     "output_type": "stream",
     "text": [
      "Success 768/807: https://www.last.fm/music/Jeroen+van+Koningsbrugge all, rock, hard rock, acoustic, nederpop\n",
      "Success 769/807: https://www.last.fm/music/Trockener+Kecks dutch, rock, all, nederlandstalig, jesters live list\n",
      "Success 770/807: https://www.last.fm/music/Ed+Sheeran+&+Justin+Bieber pop, party, featuring, wake-up song, uk number one\n",
      "Success 771/807: https://www.last.fm/music/Herman+Brood+&+Henny+Vrienten home collection, 80s, ska, pop, dutch\n",
      "Success 772/807: https://www.last.fm/music/Rare+Earth American, rock, 60s, 70s, classic rock, funk, motown, soul\n",
      "Success 773/807: https://www.last.fm/music/Drukwerk dutch, nederlandstalig, pop, home collection, other\n",
      "Success 774/807: https://www.last.fm/music/Rihanna+ft.+Mikky+Ekko pop, rnb, dance, female vocalists, rihanna\n",
      "Success 775/807: https://www.last.fm/music/Vitesse indie pop, rock, electropop, synth-pop, chicago pop represent\n",
      "Success 776/807: https://www.last.fm/music/Toploader pop, britpop, british, indie, rock\n",
      "Success 777/807: https://www.last.fm/music/Saybia rock, indie, danish, alternative rock, alternative\n",
      "Success 778/807: https://www.last.fm/music/Plain+White+T%27s indie, pop punk, rock, alternative, acoustic\n",
      "Success 779/807: https://www.last.fm/music/Snap! eurodance, hip-hop, pop, dance, 90s, electronic, techno\n",
      "Success 780/807: https://www.last.fm/music/Ava+Max pop, electropop, female vocalists, american\n",
      "Success 781/807: https://www.last.fm/music/Lady+Antebellum country, modern country, lady antebellum, country pop, rock\n",
      "Success 782/807: https://www.last.fm/music/Santa+Esmeralda French, Disco, disco, latin, soundtrack, 70s, rock\n",
      "Success 783/807: https://www.last.fm/music/Dr.+Hook+&+The+Medicine+Show classic rock, 70s, soft rock, rock, oldies\n",
      "Success 784/807: https://www.last.fm/music/Culture+Club 80s, new wave, pop, british, synth pop\n",
      "Success 785/807: https://www.last.fm/music/Stevie+Nicks female vocalists, classic rock, rock, singer-songwriter, 80s\n",
      "Success 786/807: https://www.last.fm/music/Slade glam rock, classic rock, hard rock, rock, 70s\n",
      "Success 787/807: https://www.last.fm/music/Duncan+Browne folk, singer-songwriter, baroque pop, british, 11\n",
      "Success 788/807: https://www.last.fm/music/Percy+Sledge R&B, soul, rhythm and blues, 60s, blues, oldies\n",
      "Success 789/807: https://www.last.fm/music/James+Brown funk, soul, rhythm and blues, blues, christmas\n",
      "Success 790/807: https://www.last.fm/music/Cher American, pop, female vocalists, 80s, dance, rock\n",
      "Success 791/807: https://www.last.fm/music/Panic!+At+The+Disco alternative, rock, indie, pop punk, alternative rock\n",
      "Success 792/807: https://www.last.fm/music/Living+Colour hard rock, funk metal, rock, funk rock, alternative\n",
      "Success 793/807: https://www.last.fm/music/Annie+Lennox pop, female vocalists, 80s, singer-songwriter, rock\n",
      "Success 794/807: https://www.last.fm/music/Tones+And+I pop, australian, indie pop, alternative, the worst thing ever to happen to music\n",
      "Success 795/807: https://www.last.fm/music/Shirley+Bassey jazz, soul, female vocalists, pop, oldies\n",
      "Success 796/807: https://www.last.fm/music/Fink folk, blues, electronic, indie, singer-songwriter, downtempo, chillout, ninja tune\n",
      "Success 797/807: https://www.last.fm/music/Blind+Melon neo-psychedelic, alternative rock, alterna…, grunge, rock, 90s, alternative\n",
      "Success 798/807: https://www.last.fm/music/Rolling+Stones classic rock, rock, 60s, british, blues\n",
      "Success 799/807: https://www.last.fm/music/Al+Green soul, gospel, 70s, funk, rhythm and blues, rnb\n",
      "Success 800/807: https://www.last.fm/music/Birdy folk, indie, female vocalists, british, singer-songwriter\n",
      "Success 801/807: https://www.last.fm/music/Miles+Davis trumpeter, bandleader, composer, jazz, bebop, cool jazz, hard bop, modal jazz, jazz fusion, c…, trumpet, fusion\n",
      "Success 802/807: https://www.last.fm/music/The+Chemical+Brothers electronic, big beat, dance, techno, electronica\n",
      "Success 803/807: https://www.last.fm/music/Beyonce+&+Jay-Z rnb, pop, female vocalists, soul, beyonce\n",
      "Success 804/807: https://www.last.fm/music/Miley+Cyrus pop, female vocalists, dance, disney, miley cyrus\n",
      "Success 805/807: https://www.last.fm/music/Blaudzun singer-songwriter, folk, dutch, indie, alternative\n"
     ]
    }
   ],
   "source": [
    "base_url = 'https://www.last.fm/music/'\n",
    "\n",
    "#iterating through all the rows in the artiesten dataframe \n",
    "for index, row in artiesten.iterrows():\n",
    "    naam_artiest = row['artiest']\n",
    "    artist_url = simplify(naam_artiest)\n",
    "    \n",
    "    #not all artists where on the website so I used a 'try' \n",
    "    try: \n",
    "        artist_url = simplify(naam_artiest)\n",
    "        extended_url = base_url + artist_url \n",
    "        artiesten.loc[index, 'genres'] = find_tags(extended_url) \n",
    "        \n",
    "        #since this entire process took pretty long I printed a small statement indicating where we were at \n",
    "        print(f\"Success {index}/{len(artiesten)+1}: {extended_url} {artiesten.loc[index, 'genres']}\")\n",
    "    except: \n",
    "        try:\n",
    "            \n",
    "            #artist collabs were difficult... decided to include the tags for the first artist in this case \n",
    "            if 'ft.' in naam_artiest:\n",
    "                naam_artiest = naam_artiest.split(\"ft.\")[0]\n",
    "            elif '&' in row['artiest']:\n",
    "                naam_artiest = naam_artiest.split(\"&\")[0]                \n",
    "            else:\n",
    "                naam_artiest = naam_artiest\n",
    "            \n",
    "            artist_url = simplify(naam_artiest)\n",
    "            extended_url = base_url + artist_url \n",
    "            artiesten.loc[index, 'genres'] = find_tags(extended_url) \n",
    "            \n",
    "            print(f\"Success {index}/{len(artiesten)-1}: {extended_url} {artiesten.loc[index, 'genres']}\")            \n",
    "        except: \n",
    "            row['genres'] = ' '\n",
    "            print(f\"Failure: {row['artiest']}\")"
   ]
  },
  {
   "cell_type": "code",
   "execution_count": 7,
   "id": "96b301ec",
   "metadata": {},
   "outputs": [
    {
     "name": "stdout",
     "output_type": "stream",
     "text": [
      "artiest    Floor Jansen & Henk Poort\n",
      "genres                              \n",
      "Name: 52, dtype: object\n",
      "artiest    Bløf ft. Geike\n",
      "genres                   \n",
      "Name: 64, dtype: object\n",
      "artiest    Diggy Dex ft. JW Roy\n",
      "genres                         \n",
      "Name: 128, dtype: object\n",
      "artiest    Alderliefste & Ramses Shaffy & Liesbeth List\n",
      "genres                                                 \n",
      "Name: 187, dtype: object\n",
      "artiest    Suzan & Freek & Snelle\n",
      "genres                           \n",
      "Name: 211, dtype: object\n",
      "artiest    Armin van Buuren ft. Kensington\n",
      "genres                                    \n",
      "Name: 242, dtype: object\n",
      "artiest    André Hazes Jr.\n",
      "genres                    \n",
      "Name: 301, dtype: object\n",
      "artiest    Bökkers\n",
      "genres            \n",
      "Name: 413, dtype: object\n",
      "artiest    Davina Michelle & Snelle\n",
      "genres                             \n",
      "Name: 457, dtype: object\n",
      "artiest    Teskey Brothers\n",
      "genres                    \n",
      "Name: 495, dtype: object\n",
      "artiest    Kirsty Maccoll & Pogues\n",
      "genres                            \n",
      "Name: 578, dtype: object\n",
      "artiest    Pommelien Thijs & Jaap Reesema\n",
      "genres                                   \n",
      "Name: 580, dtype: object\n",
      "artiest    Dua Lipa ft. DaBaby\n",
      "genres                        \n",
      "Name: 643, dtype: object\n",
      "artiest    Armin van Buuren ft. Josh Cumbee\n",
      "genres                                     \n",
      "Name: 663, dtype: object\n",
      "artiest    Master KG ft. Nomcebo\n",
      "genres                          \n",
      "Name: 710, dtype: object\n",
      "artiest    Avicii ft. Chris Martin\n",
      "genres                            \n",
      "Name: 745, dtype: object\n"
     ]
    }
   ],
   "source": [
    "#printing the exceptions that didn't work \n",
    "for index, row in artiesten.iterrows():\n",
    "    if row['genres'] == \"\":\n",
    "        print(row) "
   ]
  },
  {
   "cell_type": "code",
   "execution_count": 8,
   "id": "0295d4fc",
   "metadata": {},
   "outputs": [],
   "source": [
    "#fixing those cases with some manual work \n",
    "artiesten.loc[52,'genres']='symphonic metal, netherlands, better than tarja, female fronted metal music, classical'\n",
    "artiesten.loc[64,'genres']='dutch, pop, nederlandstalig, rock, nederpop'\n",
    "artiesten.loc[128,'genres']='nederhop, hip-hop, dutch, rap'\n",
    "artiesten.loc[187,'genres']='pop, the netherlands, dutch, rock, pop rock'\n",
    "artiesten.loc[211,'genres']='pop, dutch, singersongwriter' #Suzan & Freek were not on last.fm so I made something up\n",
    "artiesten.loc[242,'genres']='trance, progressive trance, electronic, vocal trance, dance'\n",
    "artiesten.loc[301,'genres']='dutch'\n",
    "artiesten.loc[413,'genres']='rock, dutch, boerenrock, streektaal'\n",
    "artiesten.loc[457,'genres']='pop, dutch, female vocalist, netherlands, linedance 2021'\n",
    "artiesten.loc[495,'genres']='soul, blues, aussie rock'\n",
    "artiesten.loc[578,'genres']='female vocalists, pop, 80s, singer-songwriter, folk'\n",
    "artiesten.loc[580,'genres']='nederlandstalig, belgian female vocalists, europe 2021, netherlands'\n",
    "artiesten.loc[643,'genres']='pop, synthpop, british, electropop, female vocalists'\n",
    "artiesten.loc[663,'genres']='trance, progressive trance, electronic, vocal trance, dance'\n",
    "artiesten.loc[710,'genres']='house, dance, electronic, south africa, gqom'\n",
    "artiesten.loc[745,'genres']='house, electronic, dance, progressive house, electro house'"
   ]
  },
  {
   "cell_type": "code",
   "execution_count": 18,
   "id": "4bd146f1",
   "metadata": {
    "scrolled": true
   },
   "outputs": [
    {
     "data": {
      "text/html": [
       "<div>\n",
       "<style scoped>\n",
       "    .dataframe tbody tr th:only-of-type {\n",
       "        vertical-align: middle;\n",
       "    }\n",
       "\n",
       "    .dataframe tbody tr th {\n",
       "        vertical-align: top;\n",
       "    }\n",
       "\n",
       "    .dataframe thead th {\n",
       "        text-align: right;\n",
       "    }\n",
       "</style>\n",
       "<table border=\"1\" class=\"dataframe\">\n",
       "  <thead>\n",
       "    <tr style=\"text-align: right;\">\n",
       "      <th></th>\n",
       "      <th>positie</th>\n",
       "      <th>titel</th>\n",
       "      <th>artiest</th>\n",
       "      <th>jaar</th>\n",
       "      <th>genres</th>\n",
       "    </tr>\n",
       "  </thead>\n",
       "  <tbody>\n",
       "    <tr>\n",
       "      <th>0</th>\n",
       "      <td>1</td>\n",
       "      <td>Bohemian Rhapsody</td>\n",
       "      <td>Queen</td>\n",
       "      <td>1975</td>\n",
       "      <td>classic rock, rock, hard rock, glam rock, 80s</td>\n",
       "    </tr>\n",
       "    <tr>\n",
       "      <th>1</th>\n",
       "      <td>2</td>\n",
       "      <td>Roller Coaster</td>\n",
       "      <td>Danny Vera</td>\n",
       "      <td>2019</td>\n",
       "      <td>americana, rock, singer-songwriter, country, d...</td>\n",
       "    </tr>\n",
       "    <tr>\n",
       "      <th>2</th>\n",
       "      <td>3</td>\n",
       "      <td>A Whiter Shade Of Pale</td>\n",
       "      <td>Procol Harum</td>\n",
       "      <td>1967</td>\n",
       "      <td>progressive rock, blues, progre…, classic rock...</td>\n",
       "    </tr>\n",
       "    <tr>\n",
       "      <th>3</th>\n",
       "      <td>4</td>\n",
       "      <td>Hotel California</td>\n",
       "      <td>Eagles</td>\n",
       "      <td>1977</td>\n",
       "      <td>rock, classic rock, 70s, soft rock, country</td>\n",
       "    </tr>\n",
       "    <tr>\n",
       "      <th>4</th>\n",
       "      <td>5</td>\n",
       "      <td>Piano Man</td>\n",
       "      <td>Billy Joel</td>\n",
       "      <td>1974</td>\n",
       "      <td>classic rock, singer-songwriter, rock, pop, piano</td>\n",
       "    </tr>\n",
       "    <tr>\n",
       "      <th>...</th>\n",
       "      <td>...</td>\n",
       "      <td>...</td>\n",
       "      <td>...</td>\n",
       "      <td>...</td>\n",
       "      <td>...</td>\n",
       "    </tr>\n",
       "    <tr>\n",
       "      <th>1995</th>\n",
       "      <td>1996</td>\n",
       "      <td>Sunshine Of Your Love</td>\n",
       "      <td>Cream</td>\n",
       "      <td>1968</td>\n",
       "      <td>blues, hard rock, psychedelic rock, classic ro...</td>\n",
       "    </tr>\n",
       "    <tr>\n",
       "      <th>1996</th>\n",
       "      <td>1997</td>\n",
       "      <td>Anarchy In The Uk</td>\n",
       "      <td>Sex Pistols</td>\n",
       "      <td>1976</td>\n",
       "      <td>punk rock, punk, british, 70s, rock</td>\n",
       "    </tr>\n",
       "    <tr>\n",
       "      <th>1997</th>\n",
       "      <td>1998</td>\n",
       "      <td>I Want To Hold Your Hand</td>\n",
       "      <td>The Beatles</td>\n",
       "      <td>1964</td>\n",
       "      <td>pop rock and beat, classic rock, rock, 60s, b...</td>\n",
       "    </tr>\n",
       "    <tr>\n",
       "      <th>1998</th>\n",
       "      <td>1999</td>\n",
       "      <td>Kissing A Fool</td>\n",
       "      <td>George Michael</td>\n",
       "      <td>1988</td>\n",
       "      <td>pop, duo, 80s, soul, british, dance</td>\n",
       "    </tr>\n",
       "    <tr>\n",
       "      <th>1999</th>\n",
       "      <td>2000</td>\n",
       "      <td>Promises Of No Man's Land</td>\n",
       "      <td>Blaudzun</td>\n",
       "      <td>2014</td>\n",
       "      <td>singer-songwriter, folk, dutch, indie, alterna...</td>\n",
       "    </tr>\n",
       "  </tbody>\n",
       "</table>\n",
       "<p>2000 rows × 5 columns</p>\n",
       "</div>"
      ],
      "text/plain": [
       "      positie                      titel         artiest  jaar  \\\n",
       "0           1          Bohemian Rhapsody           Queen  1975   \n",
       "1           2             Roller Coaster      Danny Vera  2019   \n",
       "2           3     A Whiter Shade Of Pale    Procol Harum  1967   \n",
       "3           4           Hotel California          Eagles  1977   \n",
       "4           5                  Piano Man      Billy Joel  1974   \n",
       "...       ...                        ...             ...   ...   \n",
       "1995     1996      Sunshine Of Your Love           Cream  1968   \n",
       "1996     1997          Anarchy In The Uk     Sex Pistols  1976   \n",
       "1997     1998   I Want To Hold Your Hand     The Beatles  1964   \n",
       "1998     1999             Kissing A Fool  George Michael  1988   \n",
       "1999     2000  Promises Of No Man's Land        Blaudzun  2014   \n",
       "\n",
       "                                                 genres  \n",
       "0         classic rock, rock, hard rock, glam rock, 80s  \n",
       "1     americana, rock, singer-songwriter, country, d...  \n",
       "2     progressive rock, blues, progre…, classic rock...  \n",
       "3           rock, classic rock, 70s, soft rock, country  \n",
       "4     classic rock, singer-songwriter, rock, pop, piano  \n",
       "...                                                 ...  \n",
       "1995  blues, hard rock, psychedelic rock, classic ro...  \n",
       "1996                punk rock, punk, british, 70s, rock  \n",
       "1997   pop rock and beat, classic rock, rock, 60s, b...  \n",
       "1998                pop, duo, 80s, soul, british, dance  \n",
       "1999  singer-songwriter, folk, dutch, indie, alterna...  \n",
       "\n",
       "[2000 rows x 5 columns]"
      ]
     },
     "execution_count": 18,
     "metadata": {},
     "output_type": "execute_result"
    }
   ],
   "source": [
    "#merging the genres with the original data and saving this data \n",
    "data = pd.merge(left=data, right=artiesten, how='left', left_on='artiest', right_on='artiest')\n",
    "data.to_csv('data/data_genres.csv', header=True, index=False)\n",
    "data"
   ]
  },
  {
   "cell_type": "markdown",
   "id": "64d9a0c7",
   "metadata": {},
   "source": [
    "## Count the genres\n",
    "Now I want to know how many songs there are in each genre and what is the highest ranking of that genre. Since each song has about 5 genres there will be more than 2000 songs in genres in total. Some genres were a bit strange, like 'miley cyrus'. To slightly compensate for this I decided to only include genres with more than 5 songs in them."
   ]
  },
  {
   "cell_type": "code",
   "execution_count": 24,
   "id": "afb83f87",
   "metadata": {},
   "outputs": [
    {
     "data": {
      "text/html": [
       "<div>\n",
       "<style scoped>\n",
       "    .dataframe tbody tr th:only-of-type {\n",
       "        vertical-align: middle;\n",
       "    }\n",
       "\n",
       "    .dataframe tbody tr th {\n",
       "        vertical-align: top;\n",
       "    }\n",
       "\n",
       "    .dataframe thead th {\n",
       "        text-align: right;\n",
       "    }\n",
       "</style>\n",
       "<table border=\"1\" class=\"dataframe\">\n",
       "  <thead>\n",
       "    <tr style=\"text-align: right;\">\n",
       "      <th></th>\n",
       "      <th>genre</th>\n",
       "      <th>aantal nummers</th>\n",
       "      <th>hoogste positie</th>\n",
       "    </tr>\n",
       "  </thead>\n",
       "  <tbody>\n",
       "    <tr>\n",
       "      <th>0</th>\n",
       "      <td>classic rock</td>\n",
       "      <td>692</td>\n",
       "      <td>1</td>\n",
       "    </tr>\n",
       "    <tr>\n",
       "      <th>1</th>\n",
       "      <td>rock</td>\n",
       "      <td>1171</td>\n",
       "      <td>1</td>\n",
       "    </tr>\n",
       "    <tr>\n",
       "      <th>2</th>\n",
       "      <td>hard rock</td>\n",
       "      <td>217</td>\n",
       "      <td>1</td>\n",
       "    </tr>\n",
       "    <tr>\n",
       "      <th>3</th>\n",
       "      <td>glam rock</td>\n",
       "      <td>74</td>\n",
       "      <td>1</td>\n",
       "    </tr>\n",
       "    <tr>\n",
       "      <th>4</th>\n",
       "      <td>80s</td>\n",
       "      <td>467</td>\n",
       "      <td>1</td>\n",
       "    </tr>\n",
       "    <tr>\n",
       "      <th>...</th>\n",
       "      <td>...</td>\n",
       "      <td>...</td>\n",
       "      <td>...</td>\n",
       "    </tr>\n",
       "    <tr>\n",
       "      <th>239</th>\n",
       "      <td>motown</td>\n",
       "      <td>13</td>\n",
       "      <td>467</td>\n",
       "    </tr>\n",
       "    <tr>\n",
       "      <th>240</th>\n",
       "      <td>british artist</td>\n",
       "      <td>12</td>\n",
       "      <td>470</td>\n",
       "    </tr>\n",
       "    <tr>\n",
       "      <th>260</th>\n",
       "      <td>australian</td>\n",
       "      <td>18</td>\n",
       "      <td>498</td>\n",
       "    </tr>\n",
       "    <tr>\n",
       "      <th>272</th>\n",
       "      <td>chillout</td>\n",
       "      <td>12</td>\n",
       "      <td>536</td>\n",
       "    </tr>\n",
       "    <tr>\n",
       "      <th>279</th>\n",
       "      <td>New Wave</td>\n",
       "      <td>11</td>\n",
       "      <td>548</td>\n",
       "    </tr>\n",
       "  </tbody>\n",
       "</table>\n",
       "<p>111 rows × 3 columns</p>\n",
       "</div>"
      ],
      "text/plain": [
       "              genre  aantal nummers  hoogste positie\n",
       "0      classic rock             692                1\n",
       "1              rock            1171                1\n",
       "2         hard rock             217                1\n",
       "3         glam rock              74                1\n",
       "4               80s             467                1\n",
       "..              ...             ...              ...\n",
       "239          motown              13              467\n",
       "240  british artist              12              470\n",
       "260      australian              18              498\n",
       "272        chillout              12              536\n",
       "279        New Wave              11              548\n",
       "\n",
       "[111 rows x 3 columns]"
      ]
     },
     "execution_count": 24,
     "metadata": {},
     "output_type": "execute_result"
    }
   ],
   "source": [
    "#loading and setting up the dataframes\n",
    "data = pd.read_csv('data/data_genres.csv')\n",
    "genre_counter = pd.DataFrame(columns=['aantal nummers', 'hoogste positie'])\n",
    "\n",
    "#iterating over all the rows in the data \n",
    "for index, row in data.iterrows():\n",
    "    for g in row['genres'].split(\", \"):\n",
    "        #adding one to the counter and checking if this is the most highly ranked song if the genre is in the genre_counter \n",
    "        if g in genre_counter.index: \n",
    "            genre_counter.loc[g, 'aantal nummers'] += 1; \n",
    "            if genre_counter.loc[g, 'hoogste positie'] > row['positie']:\n",
    "                genre_counter.loc[g, 'hoogste positie'] = row['positie']; \n",
    "        #adding a new row for the genre if it is not in the genre_counter yet \n",
    "        else:\n",
    "            genre_counter.loc[g, 'aantal nummers'] = 1; \n",
    "            genre_counter.loc[g, 'hoogste positie'] = row['positie']; \n",
    "\n",
    "#some data cleaning and reformatting \n",
    "genre_counter = genre_counter[:-1]\n",
    "genre_counter = genre_counter.reset_index()\n",
    "genre_counter = genre_counter.rename(columns={\"index\": \"genre\"})\n",
    "genre_counter['aantal nummers'] = genre_counter['aantal nummers'].astype(int)\n",
    "genre_counter['hoogste positie'] = genre_counter['hoogste positie'].astype(int)\n",
    "genre_counter = genre_counter[genre_counter['aantal nummers'] > 10]\n",
    "genre_counter = genre_counter[genre_counter['genre'] != 'all']\n",
    "\n",
    "#writing the data to csv\n",
    "genre_counter.to_csv('data/genre_counter.csv', header=False, index=False)\n",
    "genre_counter"
   ]
  },
  {
   "cell_type": "code",
   "execution_count": 38,
   "id": "d7ff60f7",
   "metadata": {},
   "outputs": [
    {
     "data": {
      "application/vnd.plotly.v1+json": {
       "config": {
        "plotlyServerURL": "https://plotly.com"
       },
       "data": [
        {
         "hovertemplate": "<b>%{hovertext}</b><br><br>Highest position of a song=%{x}<br>Number of songs=%{marker.color}<extra></extra>",
         "hovertext": [
          "Classic rock",
          "Rock",
          "Hard rock",
          "Glam rock",
          "80s",
          "Singer-songwriter",
          "Country",
          "Dutch",
          "Progressive rock",
          "Blues",
          "60s",
          "Psychedelic",
          "70s",
          "Soft rock",
          "Pop",
          "Piano",
          "Heavy metal",
          "Thrash metal",
          "Metal",
          "Metallica",
          "Grunge",
          "Alternative rock",
          "90s",
          "Alternative",
          "Nederlandstalig",
          "Folk",
          "Kleinkunst",
          "Britpop",
          "Coldplay",
          "Psychedelic rock",
          "Pop rock",
          "Male vocalists",
          "Guns n roses",
          "British",
          "Post-punk",
          "Punk",
          "Pub rock",
          "Guitar",
          "Female vocalists",
          "Acoustic",
          "Funk",
          "Soul",
          "American",
          "British",
          "Soundtrack",
          "Nederpop",
          "Nederlands",
          "New wave",
          "Christmas",
          "Disco",
          "Swedish",
          "Abba",
          "Fleetwood mac",
          "Jazz",
          "Rhythm and blues",
          " pop rock and beat",
          " alternative rock",
          "U2",
          "Irish",
          "Rock and roll",
          "Classical",
          "Indie",
          "Indie rock",
          "Electronic",
          "Symphonic rock",
          "Netherlands",
          "Rap",
          "Hip-hop",
          "Hip hop",
          "Funk rock",
          "Blues rock",
          "Swing",
          "Southern rock",
          "Rock and roll",
          "Rock n roll",
          "Oldies",
          "Chanson",
          "Reggae",
          "Roots reggae",
          "Ska",
          "Levenslied",
          "Canadian",
          "Michael jackson",
          "Dance",
          "Synthpop",
          "Synth pop",
          "Industrial",
          "German",
          "Rnb",
          "Duo",
          "American",
          "Singer",
          "Songwriter",
          "French",
          "Chanson francaise",
          "Belgian",
          "Electronica",
          "Limburg",
          "House",
          "Folk rock",
          "Punk rock",
          "Pop punk",
          "Techno",
          "Ambient",
          "Indie pop",
          "Indie folk",
          "Motown",
          "British artist",
          "Australian",
          "Chillout",
          "New wave"
         ],
         "legendgroup": "",
         "marker": {
          "color": [
           692,
           1171,
           217,
           74,
           467,
           368,
           49,
           308,
           115,
           168,
           168,
           42,
           274,
           57,
           786,
           17,
           46,
           12,
           46,
           11,
           46,
           188,
           84,
           355,
           170,
           224,
           26,
           49,
           18,
           42,
           59,
           31,
           11,
           20,
           44,
           44,
           16,
           31,
           214,
           81,
           71,
           188,
           17,
           264,
           12,
           111,
           39,
           116,
           63,
           61,
           27,
           23,
           18,
           56,
           40,
           31,
           21,
           22,
           41,
           14,
           14,
           157,
           68,
           112,
           16,
           25,
           46,
           54,
           31,
           12,
           48,
           17,
           30,
           15,
           17,
           59,
           21,
           31,
           12,
           37,
           14,
           17,
           20,
           112,
           26,
           31,
           11,
           28,
           52,
           14,
           13,
           16,
           15,
           23,
           13,
           11,
           25,
           11,
           19,
           22,
           23,
           12,
           22,
           12,
           26,
           13,
           13,
           12,
           18,
           12,
           11
          ],
          "coloraxis": "coloraxis",
          "size": [
           692,
           1171,
           217,
           74,
           467,
           368,
           49,
           308,
           115,
           168,
           168,
           42,
           274,
           57,
           786,
           17,
           46,
           12,
           46,
           11,
           46,
           188,
           84,
           355,
           170,
           224,
           26,
           49,
           18,
           42,
           59,
           31,
           11,
           20,
           44,
           44,
           16,
           31,
           214,
           81,
           71,
           188,
           17,
           264,
           12,
           111,
           39,
           116,
           63,
           61,
           27,
           23,
           18,
           56,
           40,
           31,
           21,
           22,
           41,
           14,
           14,
           157,
           68,
           112,
           16,
           25,
           46,
           54,
           31,
           12,
           48,
           17,
           30,
           15,
           17,
           59,
           21,
           31,
           12,
           37,
           14,
           17,
           20,
           112,
           26,
           31,
           11,
           28,
           52,
           14,
           13,
           16,
           15,
           23,
           13,
           11,
           25,
           11,
           19,
           22,
           23,
           12,
           22,
           12,
           26,
           13,
           13,
           12,
           18,
           12,
           11
          ],
          "sizemode": "area",
          "sizeref": 2.9275,
          "symbol": "circle"
         },
         "mode": "markers",
         "name": "",
         "orientation": "v",
         "showlegend": false,
         "type": "scatter",
         "x": [
          1,
          1,
          1,
          1,
          1,
          2,
          2,
          2,
          3,
          3,
          3,
          3,
          4,
          4,
          5,
          5,
          8,
          8,
          8,
          8,
          9,
          9,
          9,
          9,
          10,
          10,
          10,
          11,
          11,
          13,
          14,
          14,
          17,
          18,
          18,
          18,
          18,
          18,
          20,
          20,
          21,
          21,
          23,
          34,
          38,
          39,
          39,
          40,
          41,
          44,
          44,
          44,
          45,
          49,
          56,
          59,
          61,
          61,
          61,
          62,
          62,
          64,
          64,
          66,
          68,
          75,
          76,
          76,
          76,
          84,
          90,
          92,
          108,
          113,
          113,
          113,
          117,
          123,
          123,
          123,
          128,
          135,
          136,
          136,
          138,
          138,
          140,
          140,
          156,
          160,
          165,
          172,
          172,
          178,
          178,
          203,
          203,
          222,
          255,
          275,
          289,
          289,
          293,
          318,
          362,
          382,
          467,
          470,
          498,
          536,
          548
         ],
         "xaxis": "x",
         "y": [
          692,
          1171,
          217,
          74,
          467,
          368,
          49,
          308,
          115,
          168,
          168,
          42,
          274,
          57,
          786,
          17,
          46,
          12,
          46,
          11,
          46,
          188,
          84,
          355,
          170,
          224,
          26,
          49,
          18,
          42,
          59,
          31,
          11,
          20,
          44,
          44,
          16,
          31,
          214,
          81,
          71,
          188,
          17,
          264,
          12,
          111,
          39,
          116,
          63,
          61,
          27,
          23,
          18,
          56,
          40,
          31,
          21,
          22,
          41,
          14,
          14,
          157,
          68,
          112,
          16,
          25,
          46,
          54,
          31,
          12,
          48,
          17,
          30,
          15,
          17,
          59,
          21,
          31,
          12,
          37,
          14,
          17,
          20,
          112,
          26,
          31,
          11,
          28,
          52,
          14,
          13,
          16,
          15,
          23,
          13,
          11,
          25,
          11,
          19,
          22,
          23,
          12,
          22,
          12,
          26,
          13,
          13,
          12,
          18,
          12,
          11
         ],
         "yaxis": "y"
        }
       ],
       "layout": {
        "coloraxis": {
         "colorbar": {
          "title": {
           "text": "Number of songs"
          }
         },
         "colorscale": [
          [
           0,
           "#0d0887"
          ],
          [
           0.1111111111111111,
           "#46039f"
          ],
          [
           0.2222222222222222,
           "#7201a8"
          ],
          [
           0.3333333333333333,
           "#9c179e"
          ],
          [
           0.4444444444444444,
           "#bd3786"
          ],
          [
           0.5555555555555556,
           "#d8576b"
          ],
          [
           0.6666666666666666,
           "#ed7953"
          ],
          [
           0.7777777777777778,
           "#fb9f3a"
          ],
          [
           0.8888888888888888,
           "#fdca26"
          ],
          [
           1,
           "#f0f921"
          ]
         ]
        },
        "legend": {
         "itemsizing": "constant",
         "tracegroupgap": 0
        },
        "margin": {
         "t": 60
        },
        "template": {
         "data": {
          "bar": [
           {
            "error_x": {
             "color": "#2a3f5f"
            },
            "error_y": {
             "color": "#2a3f5f"
            },
            "marker": {
             "line": {
              "color": "#E5ECF6",
              "width": 0.5
             },
             "pattern": {
              "fillmode": "overlay",
              "size": 10,
              "solidity": 0.2
             }
            },
            "type": "bar"
           }
          ],
          "barpolar": [
           {
            "marker": {
             "line": {
              "color": "#E5ECF6",
              "width": 0.5
             },
             "pattern": {
              "fillmode": "overlay",
              "size": 10,
              "solidity": 0.2
             }
            },
            "type": "barpolar"
           }
          ],
          "carpet": [
           {
            "aaxis": {
             "endlinecolor": "#2a3f5f",
             "gridcolor": "white",
             "linecolor": "white",
             "minorgridcolor": "white",
             "startlinecolor": "#2a3f5f"
            },
            "baxis": {
             "endlinecolor": "#2a3f5f",
             "gridcolor": "white",
             "linecolor": "white",
             "minorgridcolor": "white",
             "startlinecolor": "#2a3f5f"
            },
            "type": "carpet"
           }
          ],
          "choropleth": [
           {
            "colorbar": {
             "outlinewidth": 0,
             "ticks": ""
            },
            "type": "choropleth"
           }
          ],
          "contour": [
           {
            "colorbar": {
             "outlinewidth": 0,
             "ticks": ""
            },
            "colorscale": [
             [
              0,
              "#0d0887"
             ],
             [
              0.1111111111111111,
              "#46039f"
             ],
             [
              0.2222222222222222,
              "#7201a8"
             ],
             [
              0.3333333333333333,
              "#9c179e"
             ],
             [
              0.4444444444444444,
              "#bd3786"
             ],
             [
              0.5555555555555556,
              "#d8576b"
             ],
             [
              0.6666666666666666,
              "#ed7953"
             ],
             [
              0.7777777777777778,
              "#fb9f3a"
             ],
             [
              0.8888888888888888,
              "#fdca26"
             ],
             [
              1,
              "#f0f921"
             ]
            ],
            "type": "contour"
           }
          ],
          "contourcarpet": [
           {
            "colorbar": {
             "outlinewidth": 0,
             "ticks": ""
            },
            "type": "contourcarpet"
           }
          ],
          "heatmap": [
           {
            "colorbar": {
             "outlinewidth": 0,
             "ticks": ""
            },
            "colorscale": [
             [
              0,
              "#0d0887"
             ],
             [
              0.1111111111111111,
              "#46039f"
             ],
             [
              0.2222222222222222,
              "#7201a8"
             ],
             [
              0.3333333333333333,
              "#9c179e"
             ],
             [
              0.4444444444444444,
              "#bd3786"
             ],
             [
              0.5555555555555556,
              "#d8576b"
             ],
             [
              0.6666666666666666,
              "#ed7953"
             ],
             [
              0.7777777777777778,
              "#fb9f3a"
             ],
             [
              0.8888888888888888,
              "#fdca26"
             ],
             [
              1,
              "#f0f921"
             ]
            ],
            "type": "heatmap"
           }
          ],
          "heatmapgl": [
           {
            "colorbar": {
             "outlinewidth": 0,
             "ticks": ""
            },
            "colorscale": [
             [
              0,
              "#0d0887"
             ],
             [
              0.1111111111111111,
              "#46039f"
             ],
             [
              0.2222222222222222,
              "#7201a8"
             ],
             [
              0.3333333333333333,
              "#9c179e"
             ],
             [
              0.4444444444444444,
              "#bd3786"
             ],
             [
              0.5555555555555556,
              "#d8576b"
             ],
             [
              0.6666666666666666,
              "#ed7953"
             ],
             [
              0.7777777777777778,
              "#fb9f3a"
             ],
             [
              0.8888888888888888,
              "#fdca26"
             ],
             [
              1,
              "#f0f921"
             ]
            ],
            "type": "heatmapgl"
           }
          ],
          "histogram": [
           {
            "marker": {
             "pattern": {
              "fillmode": "overlay",
              "size": 10,
              "solidity": 0.2
             }
            },
            "type": "histogram"
           }
          ],
          "histogram2d": [
           {
            "colorbar": {
             "outlinewidth": 0,
             "ticks": ""
            },
            "colorscale": [
             [
              0,
              "#0d0887"
             ],
             [
              0.1111111111111111,
              "#46039f"
             ],
             [
              0.2222222222222222,
              "#7201a8"
             ],
             [
              0.3333333333333333,
              "#9c179e"
             ],
             [
              0.4444444444444444,
              "#bd3786"
             ],
             [
              0.5555555555555556,
              "#d8576b"
             ],
             [
              0.6666666666666666,
              "#ed7953"
             ],
             [
              0.7777777777777778,
              "#fb9f3a"
             ],
             [
              0.8888888888888888,
              "#fdca26"
             ],
             [
              1,
              "#f0f921"
             ]
            ],
            "type": "histogram2d"
           }
          ],
          "histogram2dcontour": [
           {
            "colorbar": {
             "outlinewidth": 0,
             "ticks": ""
            },
            "colorscale": [
             [
              0,
              "#0d0887"
             ],
             [
              0.1111111111111111,
              "#46039f"
             ],
             [
              0.2222222222222222,
              "#7201a8"
             ],
             [
              0.3333333333333333,
              "#9c179e"
             ],
             [
              0.4444444444444444,
              "#bd3786"
             ],
             [
              0.5555555555555556,
              "#d8576b"
             ],
             [
              0.6666666666666666,
              "#ed7953"
             ],
             [
              0.7777777777777778,
              "#fb9f3a"
             ],
             [
              0.8888888888888888,
              "#fdca26"
             ],
             [
              1,
              "#f0f921"
             ]
            ],
            "type": "histogram2dcontour"
           }
          ],
          "mesh3d": [
           {
            "colorbar": {
             "outlinewidth": 0,
             "ticks": ""
            },
            "type": "mesh3d"
           }
          ],
          "parcoords": [
           {
            "line": {
             "colorbar": {
              "outlinewidth": 0,
              "ticks": ""
             }
            },
            "type": "parcoords"
           }
          ],
          "pie": [
           {
            "automargin": true,
            "type": "pie"
           }
          ],
          "scatter": [
           {
            "marker": {
             "colorbar": {
              "outlinewidth": 0,
              "ticks": ""
             }
            },
            "type": "scatter"
           }
          ],
          "scatter3d": [
           {
            "line": {
             "colorbar": {
              "outlinewidth": 0,
              "ticks": ""
             }
            },
            "marker": {
             "colorbar": {
              "outlinewidth": 0,
              "ticks": ""
             }
            },
            "type": "scatter3d"
           }
          ],
          "scattercarpet": [
           {
            "marker": {
             "colorbar": {
              "outlinewidth": 0,
              "ticks": ""
             }
            },
            "type": "scattercarpet"
           }
          ],
          "scattergeo": [
           {
            "marker": {
             "colorbar": {
              "outlinewidth": 0,
              "ticks": ""
             }
            },
            "type": "scattergeo"
           }
          ],
          "scattergl": [
           {
            "marker": {
             "colorbar": {
              "outlinewidth": 0,
              "ticks": ""
             }
            },
            "type": "scattergl"
           }
          ],
          "scattermapbox": [
           {
            "marker": {
             "colorbar": {
              "outlinewidth": 0,
              "ticks": ""
             }
            },
            "type": "scattermapbox"
           }
          ],
          "scatterpolar": [
           {
            "marker": {
             "colorbar": {
              "outlinewidth": 0,
              "ticks": ""
             }
            },
            "type": "scatterpolar"
           }
          ],
          "scatterpolargl": [
           {
            "marker": {
             "colorbar": {
              "outlinewidth": 0,
              "ticks": ""
             }
            },
            "type": "scatterpolargl"
           }
          ],
          "scatterternary": [
           {
            "marker": {
             "colorbar": {
              "outlinewidth": 0,
              "ticks": ""
             }
            },
            "type": "scatterternary"
           }
          ],
          "surface": [
           {
            "colorbar": {
             "outlinewidth": 0,
             "ticks": ""
            },
            "colorscale": [
             [
              0,
              "#0d0887"
             ],
             [
              0.1111111111111111,
              "#46039f"
             ],
             [
              0.2222222222222222,
              "#7201a8"
             ],
             [
              0.3333333333333333,
              "#9c179e"
             ],
             [
              0.4444444444444444,
              "#bd3786"
             ],
             [
              0.5555555555555556,
              "#d8576b"
             ],
             [
              0.6666666666666666,
              "#ed7953"
             ],
             [
              0.7777777777777778,
              "#fb9f3a"
             ],
             [
              0.8888888888888888,
              "#fdca26"
             ],
             [
              1,
              "#f0f921"
             ]
            ],
            "type": "surface"
           }
          ],
          "table": [
           {
            "cells": {
             "fill": {
              "color": "#EBF0F8"
             },
             "line": {
              "color": "white"
             }
            },
            "header": {
             "fill": {
              "color": "#C8D4E3"
             },
             "line": {
              "color": "white"
             }
            },
            "type": "table"
           }
          ]
         },
         "layout": {
          "annotationdefaults": {
           "arrowcolor": "#2a3f5f",
           "arrowhead": 0,
           "arrowwidth": 1
          },
          "autotypenumbers": "strict",
          "coloraxis": {
           "colorbar": {
            "outlinewidth": 0,
            "ticks": ""
           }
          },
          "colorscale": {
           "diverging": [
            [
             0,
             "#8e0152"
            ],
            [
             0.1,
             "#c51b7d"
            ],
            [
             0.2,
             "#de77ae"
            ],
            [
             0.3,
             "#f1b6da"
            ],
            [
             0.4,
             "#fde0ef"
            ],
            [
             0.5,
             "#f7f7f7"
            ],
            [
             0.6,
             "#e6f5d0"
            ],
            [
             0.7,
             "#b8e186"
            ],
            [
             0.8,
             "#7fbc41"
            ],
            [
             0.9,
             "#4d9221"
            ],
            [
             1,
             "#276419"
            ]
           ],
           "sequential": [
            [
             0,
             "#0d0887"
            ],
            [
             0.1111111111111111,
             "#46039f"
            ],
            [
             0.2222222222222222,
             "#7201a8"
            ],
            [
             0.3333333333333333,
             "#9c179e"
            ],
            [
             0.4444444444444444,
             "#bd3786"
            ],
            [
             0.5555555555555556,
             "#d8576b"
            ],
            [
             0.6666666666666666,
             "#ed7953"
            ],
            [
             0.7777777777777778,
             "#fb9f3a"
            ],
            [
             0.8888888888888888,
             "#fdca26"
            ],
            [
             1,
             "#f0f921"
            ]
           ],
           "sequentialminus": [
            [
             0,
             "#0d0887"
            ],
            [
             0.1111111111111111,
             "#46039f"
            ],
            [
             0.2222222222222222,
             "#7201a8"
            ],
            [
             0.3333333333333333,
             "#9c179e"
            ],
            [
             0.4444444444444444,
             "#bd3786"
            ],
            [
             0.5555555555555556,
             "#d8576b"
            ],
            [
             0.6666666666666666,
             "#ed7953"
            ],
            [
             0.7777777777777778,
             "#fb9f3a"
            ],
            [
             0.8888888888888888,
             "#fdca26"
            ],
            [
             1,
             "#f0f921"
            ]
           ]
          },
          "colorway": [
           "#636efa",
           "#EF553B",
           "#00cc96",
           "#ab63fa",
           "#FFA15A",
           "#19d3f3",
           "#FF6692",
           "#B6E880",
           "#FF97FF",
           "#FECB52"
          ],
          "font": {
           "color": "#2a3f5f"
          },
          "geo": {
           "bgcolor": "white",
           "lakecolor": "white",
           "landcolor": "#E5ECF6",
           "showlakes": true,
           "showland": true,
           "subunitcolor": "white"
          },
          "hoverlabel": {
           "align": "left"
          },
          "hovermode": "closest",
          "mapbox": {
           "style": "light"
          },
          "paper_bgcolor": "white",
          "plot_bgcolor": "#E5ECF6",
          "polar": {
           "angularaxis": {
            "gridcolor": "white",
            "linecolor": "white",
            "ticks": ""
           },
           "bgcolor": "#E5ECF6",
           "radialaxis": {
            "gridcolor": "white",
            "linecolor": "white",
            "ticks": ""
           }
          },
          "scene": {
           "xaxis": {
            "backgroundcolor": "#E5ECF6",
            "gridcolor": "white",
            "gridwidth": 2,
            "linecolor": "white",
            "showbackground": true,
            "ticks": "",
            "zerolinecolor": "white"
           },
           "yaxis": {
            "backgroundcolor": "#E5ECF6",
            "gridcolor": "white",
            "gridwidth": 2,
            "linecolor": "white",
            "showbackground": true,
            "ticks": "",
            "zerolinecolor": "white"
           },
           "zaxis": {
            "backgroundcolor": "#E5ECF6",
            "gridcolor": "white",
            "gridwidth": 2,
            "linecolor": "white",
            "showbackground": true,
            "ticks": "",
            "zerolinecolor": "white"
           }
          },
          "shapedefaults": {
           "line": {
            "color": "#2a3f5f"
           }
          },
          "ternary": {
           "aaxis": {
            "gridcolor": "white",
            "linecolor": "white",
            "ticks": ""
           },
           "baxis": {
            "gridcolor": "white",
            "linecolor": "white",
            "ticks": ""
           },
           "bgcolor": "#E5ECF6",
           "caxis": {
            "gridcolor": "white",
            "linecolor": "white",
            "ticks": ""
           }
          },
          "title": {
           "x": 0.05
          },
          "xaxis": {
           "automargin": true,
           "gridcolor": "white",
           "linecolor": "white",
           "ticks": "",
           "title": {
            "standoff": 15
           },
           "zerolinecolor": "white",
           "zerolinewidth": 2
          },
          "yaxis": {
           "automargin": true,
           "gridcolor": "white",
           "linecolor": "white",
           "ticks": "",
           "title": {
            "standoff": 15
           },
           "zerolinecolor": "white",
           "zerolinewidth": 2
          }
         }
        },
        "title": {
         "text": "Highest position and total number of songs in the Top 2000 per genre"
        },
        "xaxis": {
         "anchor": "y",
         "domain": [
          0,
          1
         ],
         "title": {
          "text": "Highest position of a song"
         }
        },
        "yaxis": {
         "anchor": "x",
         "domain": [
          0,
          1
         ],
         "title": {
          "text": "Number of songs"
         }
        }
       }
      },
      "text/html": [
       "<div>                            <div id=\"43f17b3d-e5b1-45ea-b9c7-2849363c2487\" class=\"plotly-graph-div\" style=\"height:525px; width:100%;\"></div>            <script type=\"text/javascript\">                require([\"plotly\"], function(Plotly) {                    window.PLOTLYENV=window.PLOTLYENV || {};                                    if (document.getElementById(\"43f17b3d-e5b1-45ea-b9c7-2849363c2487\")) {                    Plotly.newPlot(                        \"43f17b3d-e5b1-45ea-b9c7-2849363c2487\",                        [{\"hovertemplate\":\"<b>%{hovertext}</b><br><br>Highest position of a song=%{x}<br>Number of songs=%{marker.color}<extra></extra>\",\"hovertext\":[\"Classic rock\",\"Rock\",\"Hard rock\",\"Glam rock\",\"80s\",\"Singer-songwriter\",\"Country\",\"Dutch\",\"Progressive rock\",\"Blues\",\"60s\",\"Psychedelic\",\"70s\",\"Soft rock\",\"Pop\",\"Piano\",\"Heavy metal\",\"Thrash metal\",\"Metal\",\"Metallica\",\"Grunge\",\"Alternative rock\",\"90s\",\"Alternative\",\"Nederlandstalig\",\"Folk\",\"Kleinkunst\",\"Britpop\",\"Coldplay\",\"Psychedelic rock\",\"Pop rock\",\"Male vocalists\",\"Guns n roses\",\"British\",\"Post-punk\",\"Punk\",\"Pub rock\",\"Guitar\",\"Female vocalists\",\"Acoustic\",\"Funk\",\"Soul\",\"American\",\"British\",\"Soundtrack\",\"Nederpop\",\"Nederlands\",\"New wave\",\"Christmas\",\"Disco\",\"Swedish\",\"Abba\",\"Fleetwood mac\",\"Jazz\",\"Rhythm and blues\",\" pop rock and beat\",\" alternative rock\",\"U2\",\"Irish\",\"Rock and roll\",\"Classical\",\"Indie\",\"Indie rock\",\"Electronic\",\"Symphonic rock\",\"Netherlands\",\"Rap\",\"Hip-hop\",\"Hip hop\",\"Funk rock\",\"Blues rock\",\"Swing\",\"Southern rock\",\"Rock and roll\",\"Rock n roll\",\"Oldies\",\"Chanson\",\"Reggae\",\"Roots reggae\",\"Ska\",\"Levenslied\",\"Canadian\",\"Michael jackson\",\"Dance\",\"Synthpop\",\"Synth pop\",\"Industrial\",\"German\",\"Rnb\",\"Duo\",\"American\",\"Singer\",\"Songwriter\",\"French\",\"Chanson francaise\",\"Belgian\",\"Electronica\",\"Limburg\",\"House\",\"Folk rock\",\"Punk rock\",\"Pop punk\",\"Techno\",\"Ambient\",\"Indie pop\",\"Indie folk\",\"Motown\",\"British artist\",\"Australian\",\"Chillout\",\"New wave\"],\"legendgroup\":\"\",\"marker\":{\"color\":[692,1171,217,74,467,368,49,308,115,168,168,42,274,57,786,17,46,12,46,11,46,188,84,355,170,224,26,49,18,42,59,31,11,20,44,44,16,31,214,81,71,188,17,264,12,111,39,116,63,61,27,23,18,56,40,31,21,22,41,14,14,157,68,112,16,25,46,54,31,12,48,17,30,15,17,59,21,31,12,37,14,17,20,112,26,31,11,28,52,14,13,16,15,23,13,11,25,11,19,22,23,12,22,12,26,13,13,12,18,12,11],\"coloraxis\":\"coloraxis\",\"size\":[692,1171,217,74,467,368,49,308,115,168,168,42,274,57,786,17,46,12,46,11,46,188,84,355,170,224,26,49,18,42,59,31,11,20,44,44,16,31,214,81,71,188,17,264,12,111,39,116,63,61,27,23,18,56,40,31,21,22,41,14,14,157,68,112,16,25,46,54,31,12,48,17,30,15,17,59,21,31,12,37,14,17,20,112,26,31,11,28,52,14,13,16,15,23,13,11,25,11,19,22,23,12,22,12,26,13,13,12,18,12,11],\"sizemode\":\"area\",\"sizeref\":2.9275,\"symbol\":\"circle\"},\"mode\":\"markers\",\"name\":\"\",\"orientation\":\"v\",\"showlegend\":false,\"type\":\"scatter\",\"x\":[1,1,1,1,1,2,2,2,3,3,3,3,4,4,5,5,8,8,8,8,9,9,9,9,10,10,10,11,11,13,14,14,17,18,18,18,18,18,20,20,21,21,23,34,38,39,39,40,41,44,44,44,45,49,56,59,61,61,61,62,62,64,64,66,68,75,76,76,76,84,90,92,108,113,113,113,117,123,123,123,128,135,136,136,138,138,140,140,156,160,165,172,172,178,178,203,203,222,255,275,289,289,293,318,362,382,467,470,498,536,548],\"xaxis\":\"x\",\"y\":[692,1171,217,74,467,368,49,308,115,168,168,42,274,57,786,17,46,12,46,11,46,188,84,355,170,224,26,49,18,42,59,31,11,20,44,44,16,31,214,81,71,188,17,264,12,111,39,116,63,61,27,23,18,56,40,31,21,22,41,14,14,157,68,112,16,25,46,54,31,12,48,17,30,15,17,59,21,31,12,37,14,17,20,112,26,31,11,28,52,14,13,16,15,23,13,11,25,11,19,22,23,12,22,12,26,13,13,12,18,12,11],\"yaxis\":\"y\"}],                        {\"coloraxis\":{\"colorbar\":{\"title\":{\"text\":\"Number of songs\"}},\"colorscale\":[[0.0,\"#0d0887\"],[0.1111111111111111,\"#46039f\"],[0.2222222222222222,\"#7201a8\"],[0.3333333333333333,\"#9c179e\"],[0.4444444444444444,\"#bd3786\"],[0.5555555555555556,\"#d8576b\"],[0.6666666666666666,\"#ed7953\"],[0.7777777777777778,\"#fb9f3a\"],[0.8888888888888888,\"#fdca26\"],[1.0,\"#f0f921\"]]},\"legend\":{\"itemsizing\":\"constant\",\"tracegroupgap\":0},\"margin\":{\"t\":60},\"template\":{\"data\":{\"bar\":[{\"error_x\":{\"color\":\"#2a3f5f\"},\"error_y\":{\"color\":\"#2a3f5f\"},\"marker\":{\"line\":{\"color\":\"#E5ECF6\",\"width\":0.5},\"pattern\":{\"fillmode\":\"overlay\",\"size\":10,\"solidity\":0.2}},\"type\":\"bar\"}],\"barpolar\":[{\"marker\":{\"line\":{\"color\":\"#E5ECF6\",\"width\":0.5},\"pattern\":{\"fillmode\":\"overlay\",\"size\":10,\"solidity\":0.2}},\"type\":\"barpolar\"}],\"carpet\":[{\"aaxis\":{\"endlinecolor\":\"#2a3f5f\",\"gridcolor\":\"white\",\"linecolor\":\"white\",\"minorgridcolor\":\"white\",\"startlinecolor\":\"#2a3f5f\"},\"baxis\":{\"endlinecolor\":\"#2a3f5f\",\"gridcolor\":\"white\",\"linecolor\":\"white\",\"minorgridcolor\":\"white\",\"startlinecolor\":\"#2a3f5f\"},\"type\":\"carpet\"}],\"choropleth\":[{\"colorbar\":{\"outlinewidth\":0,\"ticks\":\"\"},\"type\":\"choropleth\"}],\"contour\":[{\"colorbar\":{\"outlinewidth\":0,\"ticks\":\"\"},\"colorscale\":[[0.0,\"#0d0887\"],[0.1111111111111111,\"#46039f\"],[0.2222222222222222,\"#7201a8\"],[0.3333333333333333,\"#9c179e\"],[0.4444444444444444,\"#bd3786\"],[0.5555555555555556,\"#d8576b\"],[0.6666666666666666,\"#ed7953\"],[0.7777777777777778,\"#fb9f3a\"],[0.8888888888888888,\"#fdca26\"],[1.0,\"#f0f921\"]],\"type\":\"contour\"}],\"contourcarpet\":[{\"colorbar\":{\"outlinewidth\":0,\"ticks\":\"\"},\"type\":\"contourcarpet\"}],\"heatmap\":[{\"colorbar\":{\"outlinewidth\":0,\"ticks\":\"\"},\"colorscale\":[[0.0,\"#0d0887\"],[0.1111111111111111,\"#46039f\"],[0.2222222222222222,\"#7201a8\"],[0.3333333333333333,\"#9c179e\"],[0.4444444444444444,\"#bd3786\"],[0.5555555555555556,\"#d8576b\"],[0.6666666666666666,\"#ed7953\"],[0.7777777777777778,\"#fb9f3a\"],[0.8888888888888888,\"#fdca26\"],[1.0,\"#f0f921\"]],\"type\":\"heatmap\"}],\"heatmapgl\":[{\"colorbar\":{\"outlinewidth\":0,\"ticks\":\"\"},\"colorscale\":[[0.0,\"#0d0887\"],[0.1111111111111111,\"#46039f\"],[0.2222222222222222,\"#7201a8\"],[0.3333333333333333,\"#9c179e\"],[0.4444444444444444,\"#bd3786\"],[0.5555555555555556,\"#d8576b\"],[0.6666666666666666,\"#ed7953\"],[0.7777777777777778,\"#fb9f3a\"],[0.8888888888888888,\"#fdca26\"],[1.0,\"#f0f921\"]],\"type\":\"heatmapgl\"}],\"histogram\":[{\"marker\":{\"pattern\":{\"fillmode\":\"overlay\",\"size\":10,\"solidity\":0.2}},\"type\":\"histogram\"}],\"histogram2d\":[{\"colorbar\":{\"outlinewidth\":0,\"ticks\":\"\"},\"colorscale\":[[0.0,\"#0d0887\"],[0.1111111111111111,\"#46039f\"],[0.2222222222222222,\"#7201a8\"],[0.3333333333333333,\"#9c179e\"],[0.4444444444444444,\"#bd3786\"],[0.5555555555555556,\"#d8576b\"],[0.6666666666666666,\"#ed7953\"],[0.7777777777777778,\"#fb9f3a\"],[0.8888888888888888,\"#fdca26\"],[1.0,\"#f0f921\"]],\"type\":\"histogram2d\"}],\"histogram2dcontour\":[{\"colorbar\":{\"outlinewidth\":0,\"ticks\":\"\"},\"colorscale\":[[0.0,\"#0d0887\"],[0.1111111111111111,\"#46039f\"],[0.2222222222222222,\"#7201a8\"],[0.3333333333333333,\"#9c179e\"],[0.4444444444444444,\"#bd3786\"],[0.5555555555555556,\"#d8576b\"],[0.6666666666666666,\"#ed7953\"],[0.7777777777777778,\"#fb9f3a\"],[0.8888888888888888,\"#fdca26\"],[1.0,\"#f0f921\"]],\"type\":\"histogram2dcontour\"}],\"mesh3d\":[{\"colorbar\":{\"outlinewidth\":0,\"ticks\":\"\"},\"type\":\"mesh3d\"}],\"parcoords\":[{\"line\":{\"colorbar\":{\"outlinewidth\":0,\"ticks\":\"\"}},\"type\":\"parcoords\"}],\"pie\":[{\"automargin\":true,\"type\":\"pie\"}],\"scatter\":[{\"marker\":{\"colorbar\":{\"outlinewidth\":0,\"ticks\":\"\"}},\"type\":\"scatter\"}],\"scatter3d\":[{\"line\":{\"colorbar\":{\"outlinewidth\":0,\"ticks\":\"\"}},\"marker\":{\"colorbar\":{\"outlinewidth\":0,\"ticks\":\"\"}},\"type\":\"scatter3d\"}],\"scattercarpet\":[{\"marker\":{\"colorbar\":{\"outlinewidth\":0,\"ticks\":\"\"}},\"type\":\"scattercarpet\"}],\"scattergeo\":[{\"marker\":{\"colorbar\":{\"outlinewidth\":0,\"ticks\":\"\"}},\"type\":\"scattergeo\"}],\"scattergl\":[{\"marker\":{\"colorbar\":{\"outlinewidth\":0,\"ticks\":\"\"}},\"type\":\"scattergl\"}],\"scattermapbox\":[{\"marker\":{\"colorbar\":{\"outlinewidth\":0,\"ticks\":\"\"}},\"type\":\"scattermapbox\"}],\"scatterpolar\":[{\"marker\":{\"colorbar\":{\"outlinewidth\":0,\"ticks\":\"\"}},\"type\":\"scatterpolar\"}],\"scatterpolargl\":[{\"marker\":{\"colorbar\":{\"outlinewidth\":0,\"ticks\":\"\"}},\"type\":\"scatterpolargl\"}],\"scatterternary\":[{\"marker\":{\"colorbar\":{\"outlinewidth\":0,\"ticks\":\"\"}},\"type\":\"scatterternary\"}],\"surface\":[{\"colorbar\":{\"outlinewidth\":0,\"ticks\":\"\"},\"colorscale\":[[0.0,\"#0d0887\"],[0.1111111111111111,\"#46039f\"],[0.2222222222222222,\"#7201a8\"],[0.3333333333333333,\"#9c179e\"],[0.4444444444444444,\"#bd3786\"],[0.5555555555555556,\"#d8576b\"],[0.6666666666666666,\"#ed7953\"],[0.7777777777777778,\"#fb9f3a\"],[0.8888888888888888,\"#fdca26\"],[1.0,\"#f0f921\"]],\"type\":\"surface\"}],\"table\":[{\"cells\":{\"fill\":{\"color\":\"#EBF0F8\"},\"line\":{\"color\":\"white\"}},\"header\":{\"fill\":{\"color\":\"#C8D4E3\"},\"line\":{\"color\":\"white\"}},\"type\":\"table\"}]},\"layout\":{\"annotationdefaults\":{\"arrowcolor\":\"#2a3f5f\",\"arrowhead\":0,\"arrowwidth\":1},\"autotypenumbers\":\"strict\",\"coloraxis\":{\"colorbar\":{\"outlinewidth\":0,\"ticks\":\"\"}},\"colorscale\":{\"diverging\":[[0,\"#8e0152\"],[0.1,\"#c51b7d\"],[0.2,\"#de77ae\"],[0.3,\"#f1b6da\"],[0.4,\"#fde0ef\"],[0.5,\"#f7f7f7\"],[0.6,\"#e6f5d0\"],[0.7,\"#b8e186\"],[0.8,\"#7fbc41\"],[0.9,\"#4d9221\"],[1,\"#276419\"]],\"sequential\":[[0.0,\"#0d0887\"],[0.1111111111111111,\"#46039f\"],[0.2222222222222222,\"#7201a8\"],[0.3333333333333333,\"#9c179e\"],[0.4444444444444444,\"#bd3786\"],[0.5555555555555556,\"#d8576b\"],[0.6666666666666666,\"#ed7953\"],[0.7777777777777778,\"#fb9f3a\"],[0.8888888888888888,\"#fdca26\"],[1.0,\"#f0f921\"]],\"sequentialminus\":[[0.0,\"#0d0887\"],[0.1111111111111111,\"#46039f\"],[0.2222222222222222,\"#7201a8\"],[0.3333333333333333,\"#9c179e\"],[0.4444444444444444,\"#bd3786\"],[0.5555555555555556,\"#d8576b\"],[0.6666666666666666,\"#ed7953\"],[0.7777777777777778,\"#fb9f3a\"],[0.8888888888888888,\"#fdca26\"],[1.0,\"#f0f921\"]]},\"colorway\":[\"#636efa\",\"#EF553B\",\"#00cc96\",\"#ab63fa\",\"#FFA15A\",\"#19d3f3\",\"#FF6692\",\"#B6E880\",\"#FF97FF\",\"#FECB52\"],\"font\":{\"color\":\"#2a3f5f\"},\"geo\":{\"bgcolor\":\"white\",\"lakecolor\":\"white\",\"landcolor\":\"#E5ECF6\",\"showlakes\":true,\"showland\":true,\"subunitcolor\":\"white\"},\"hoverlabel\":{\"align\":\"left\"},\"hovermode\":\"closest\",\"mapbox\":{\"style\":\"light\"},\"paper_bgcolor\":\"white\",\"plot_bgcolor\":\"#E5ECF6\",\"polar\":{\"angularaxis\":{\"gridcolor\":\"white\",\"linecolor\":\"white\",\"ticks\":\"\"},\"bgcolor\":\"#E5ECF6\",\"radialaxis\":{\"gridcolor\":\"white\",\"linecolor\":\"white\",\"ticks\":\"\"}},\"scene\":{\"xaxis\":{\"backgroundcolor\":\"#E5ECF6\",\"gridcolor\":\"white\",\"gridwidth\":2,\"linecolor\":\"white\",\"showbackground\":true,\"ticks\":\"\",\"zerolinecolor\":\"white\"},\"yaxis\":{\"backgroundcolor\":\"#E5ECF6\",\"gridcolor\":\"white\",\"gridwidth\":2,\"linecolor\":\"white\",\"showbackground\":true,\"ticks\":\"\",\"zerolinecolor\":\"white\"},\"zaxis\":{\"backgroundcolor\":\"#E5ECF6\",\"gridcolor\":\"white\",\"gridwidth\":2,\"linecolor\":\"white\",\"showbackground\":true,\"ticks\":\"\",\"zerolinecolor\":\"white\"}},\"shapedefaults\":{\"line\":{\"color\":\"#2a3f5f\"}},\"ternary\":{\"aaxis\":{\"gridcolor\":\"white\",\"linecolor\":\"white\",\"ticks\":\"\"},\"baxis\":{\"gridcolor\":\"white\",\"linecolor\":\"white\",\"ticks\":\"\"},\"bgcolor\":\"#E5ECF6\",\"caxis\":{\"gridcolor\":\"white\",\"linecolor\":\"white\",\"ticks\":\"\"}},\"title\":{\"x\":0.05},\"xaxis\":{\"automargin\":true,\"gridcolor\":\"white\",\"linecolor\":\"white\",\"ticks\":\"\",\"title\":{\"standoff\":15},\"zerolinecolor\":\"white\",\"zerolinewidth\":2},\"yaxis\":{\"automargin\":true,\"gridcolor\":\"white\",\"linecolor\":\"white\",\"ticks\":\"\",\"title\":{\"standoff\":15},\"zerolinecolor\":\"white\",\"zerolinewidth\":2}}},\"title\":{\"text\":\"Highest position and total number of songs in the Top 2000 per genre\"},\"xaxis\":{\"anchor\":\"y\",\"domain\":[0.0,1.0],\"title\":{\"text\":\"Highest position of a song\"}},\"yaxis\":{\"anchor\":\"x\",\"domain\":[0.0,1.0],\"title\":{\"text\":\"Number of songs\"}}},                        {\"responsive\": true}                    ).then(function(){\n",
       "                            \n",
       "var gd = document.getElementById('43f17b3d-e5b1-45ea-b9c7-2849363c2487');\n",
       "var x = new MutationObserver(function (mutations, observer) {{\n",
       "        var display = window.getComputedStyle(gd).display;\n",
       "        if (!display || display === 'none') {{\n",
       "            console.log([gd, 'removed!']);\n",
       "            Plotly.purge(gd);\n",
       "            observer.disconnect();\n",
       "        }}\n",
       "}});\n",
       "\n",
       "// Listen for the removal of the full notebook cells\n",
       "var notebookContainer = gd.closest('#notebook-container');\n",
       "if (notebookContainer) {{\n",
       "    x.observe(notebookContainer, {childList: true});\n",
       "}}\n",
       "\n",
       "// Listen for the clearing of the current output cell\n",
       "var outputEl = gd.closest('.output');\n",
       "if (outputEl) {{\n",
       "    x.observe(outputEl, {childList: true});\n",
       "}}\n",
       "\n",
       "                        })                };                });            </script>        </div>"
      ]
     },
     "metadata": {},
     "output_type": "display_data"
    }
   ],
   "source": [
    "#changing some column values and names to make it more pretty and English for visualisation\n",
    "genre_counter['genre'] = genre_counter['genre'].str.capitalize()\n",
    "genre_counter = genre_counter.rename(columns={'hoogste positie': 'Highest position of a song', 'aantal nummers': 'Number of songs'})\n",
    "\n",
    "#visualising the data\n",
    "fig = px.scatter(genre_counter, x='Highest position of a song', y='Number of songs', hover_name='genre', color='Number of songs', size = 'Number of songs')\n",
    "\n",
    "fig.update_layout(\n",
    "    title = \"Highest position and total number of songs in the Top 2000 per genre\",\n",
    ")\n",
    "\n",
    "fig.show()\n",
    "\n",
    "#writing the figure to html, figure is visible at: https://almaliezenga.github.io/Top2000/html/genre_counter\n",
    "pio.write_html(fig, file='html/genre_counter.html', auto_open=True)"
   ]
  },
  {
   "cell_type": "markdown",
   "id": "e3b80fc5",
   "metadata": {},
   "source": [
    "## Creating supergenres\n",
    "These genres are quite niche which makes it fun to look through them and click around but I want to make something which is slightly more generalizable. We are gonna create a few supergenres and put every song into one of those supergenres. For this I will only look at the first genre of every song. I have combined some of the lists of Multimediaeval: https://multimediaeval.github.io/2017-AcousticBrainz-Genre-Task/data_stats/ "
   ]
  },
  {
   "cell_type": "code",
   "execution_count": 31,
   "id": "fd49b75e",
   "metadata": {},
   "outputs": [
    {
     "data": {
      "text/html": [
       "<div>\n",
       "<style scoped>\n",
       "    .dataframe tbody tr th:only-of-type {\n",
       "        vertical-align: middle;\n",
       "    }\n",
       "\n",
       "    .dataframe tbody tr th {\n",
       "        vertical-align: top;\n",
       "    }\n",
       "\n",
       "    .dataframe thead th {\n",
       "        text-align: right;\n",
       "    }\n",
       "</style>\n",
       "<table border=\"1\" class=\"dataframe\">\n",
       "  <thead>\n",
       "    <tr style=\"text-align: right;\">\n",
       "      <th></th>\n",
       "      <th>supergenre</th>\n",
       "      <th>subgenre</th>\n",
       "    </tr>\n",
       "  </thead>\n",
       "  <tbody>\n",
       "    <tr>\n",
       "      <th>1</th>\n",
       "      <td>blues</td>\n",
       "      <td>blues</td>\n",
       "    </tr>\n",
       "    <tr>\n",
       "      <th>2</th>\n",
       "      <td>blues</td>\n",
       "      <td>acousticblues</td>\n",
       "    </tr>\n",
       "    <tr>\n",
       "      <th>3</th>\n",
       "      <td>blues</td>\n",
       "      <td>chicagoblues</td>\n",
       "    </tr>\n",
       "    <tr>\n",
       "      <th>4</th>\n",
       "      <td>blues</td>\n",
       "      <td>classicblues</td>\n",
       "    </tr>\n",
       "    <tr>\n",
       "      <th>5</th>\n",
       "      <td>blues</td>\n",
       "      <td>countryblues</td>\n",
       "    </tr>\n",
       "    <tr>\n",
       "      <th>...</th>\n",
       "      <td>...</td>\n",
       "      <td>...</td>\n",
       "    </tr>\n",
       "    <tr>\n",
       "      <th>501</th>\n",
       "      <td>world</td>\n",
       "      <td>indian</td>\n",
       "    </tr>\n",
       "    <tr>\n",
       "      <th>502</th>\n",
       "      <td>world</td>\n",
       "      <td>middleeastern</td>\n",
       "    </tr>\n",
       "    <tr>\n",
       "      <th>503</th>\n",
       "      <td>world</td>\n",
       "      <td>nationalmusic</td>\n",
       "    </tr>\n",
       "    <tr>\n",
       "      <th>504</th>\n",
       "      <td>world</td>\n",
       "      <td>traditional</td>\n",
       "    </tr>\n",
       "    <tr>\n",
       "      <th>505</th>\n",
       "      <td>world</td>\n",
       "      <td>worldfusion</td>\n",
       "    </tr>\n",
       "  </tbody>\n",
       "</table>\n",
       "<p>505 rows × 2 columns</p>\n",
       "</div>"
      ],
      "text/plain": [
       "    supergenre       subgenre\n",
       "1        blues          blues\n",
       "2        blues  acousticblues\n",
       "3        blues   chicagoblues\n",
       "4        blues   classicblues\n",
       "5        blues   countryblues\n",
       "..         ...            ...\n",
       "501      world         indian\n",
       "502      world  middleeastern\n",
       "503      world  nationalmusic\n",
       "504      world    traditional\n",
       "505      world    worldfusion\n",
       "\n",
       "[505 rows x 2 columns]"
      ]
     },
     "execution_count": 31,
     "metadata": {},
     "output_type": "execute_result"
    }
   ],
   "source": [
    "#reading and reformatting supergenres.txt \n",
    "supergenres = pd.read_csv('supergenres.txt', delimiter=r\"\\s+\", header = None)\n",
    "supergenres = supergenres[1:]\n",
    "supergenres = pd.DataFrame(supergenres[0])\n",
    "supergenres = supergenres.rename(columns={0: \"supergenre\"})\n",
    "supergenres['subgenre'] = \" \"\n",
    "\n",
    "#iterating over all the rows in supergenres to separate the subgenre from the supergenre\n",
    "for index, row in supergenres.iterrows():\n",
    "    supergenres.loc[index, 'supergenre'] = row['supergenre'].split(\"---\", 2)\n",
    "    try:\n",
    "        supergenres.loc[index, 'subgenre'] = row['supergenre'][1]\n",
    "    except:\n",
    "        supergenres.loc[index, 'subgenre'] = row['supergenre']\n",
    "        supergenres.loc[index, 'subgenre'] = \" \".join(row['subgenre'])\n",
    "    supergenres.loc[index, 'supergenre'] = row['supergenre'][0]\n",
    "    \n",
    "supergenres"
   ]
  },
  {
   "cell_type": "code",
   "execution_count": 32,
   "id": "5a86106b",
   "metadata": {
    "scrolled": false
   },
   "outputs": [
    {
     "name": "stdout",
     "output_type": "stream",
     "text": [
      "No supergenre matches subgenre 1 or 2 for Just Give Me A Reason, 6of10stars, 6of10stars\n",
      "No supergenre matches subgenre 1 or 2 for Can't Hold Us, , \n",
      "No supergenre matches subgenre 1 or 2 for Don't Leave Me This Way, linedance2011, linedance2011\n",
      "No supergenre matches subgenre 1 or 2 for I Feel It Coming, canada, canada\n",
      "No supergenre matches subgenre 1 or 2 for Pa Olvidarte, linedance2019, linedance2019\n",
      "No supergenre matches subgenre 1 or 2 for Can't Get It Out Of My Head, , \n"
     ]
    },
    {
     "data": {
      "text/html": [
       "<div>\n",
       "<style scoped>\n",
       "    .dataframe tbody tr th:only-of-type {\n",
       "        vertical-align: middle;\n",
       "    }\n",
       "\n",
       "    .dataframe tbody tr th {\n",
       "        vertical-align: top;\n",
       "    }\n",
       "\n",
       "    .dataframe thead th {\n",
       "        text-align: right;\n",
       "    }\n",
       "</style>\n",
       "<table border=\"1\" class=\"dataframe\">\n",
       "  <thead>\n",
       "    <tr style=\"text-align: right;\">\n",
       "      <th></th>\n",
       "      <th>positie</th>\n",
       "      <th>titel</th>\n",
       "      <th>artiest</th>\n",
       "      <th>jaar</th>\n",
       "      <th>genres</th>\n",
       "      <th>supergenre</th>\n",
       "    </tr>\n",
       "  </thead>\n",
       "  <tbody>\n",
       "    <tr>\n",
       "      <th>0</th>\n",
       "      <td>1</td>\n",
       "      <td>Bohemian Rhapsody</td>\n",
       "      <td>Queen</td>\n",
       "      <td>1975</td>\n",
       "      <td>classic rock, rock, hard rock, glam rock, 80s</td>\n",
       "      <td>rock</td>\n",
       "    </tr>\n",
       "    <tr>\n",
       "      <th>1</th>\n",
       "      <td>2</td>\n",
       "      <td>Roller Coaster</td>\n",
       "      <td>Danny Vera</td>\n",
       "      <td>2019</td>\n",
       "      <td>americana, rock, singer-songwriter, country, d...</td>\n",
       "      <td>country</td>\n",
       "    </tr>\n",
       "    <tr>\n",
       "      <th>2</th>\n",
       "      <td>3</td>\n",
       "      <td>A Whiter Shade Of Pale</td>\n",
       "      <td>Procol Harum</td>\n",
       "      <td>1967</td>\n",
       "      <td>progressive rock, blues, progre…, classic rock...</td>\n",
       "      <td>rock</td>\n",
       "    </tr>\n",
       "    <tr>\n",
       "      <th>3</th>\n",
       "      <td>4</td>\n",
       "      <td>Hotel California</td>\n",
       "      <td>Eagles</td>\n",
       "      <td>1977</td>\n",
       "      <td>rock, classic rock, 70s, soft rock, country</td>\n",
       "      <td>rock</td>\n",
       "    </tr>\n",
       "    <tr>\n",
       "      <th>4</th>\n",
       "      <td>5</td>\n",
       "      <td>Piano Man</td>\n",
       "      <td>Billy Joel</td>\n",
       "      <td>1974</td>\n",
       "      <td>classic rock, singer-songwriter, rock, pop, piano</td>\n",
       "      <td>rock</td>\n",
       "    </tr>\n",
       "    <tr>\n",
       "      <th>...</th>\n",
       "      <td>...</td>\n",
       "      <td>...</td>\n",
       "      <td>...</td>\n",
       "      <td>...</td>\n",
       "      <td>...</td>\n",
       "      <td>...</td>\n",
       "    </tr>\n",
       "    <tr>\n",
       "      <th>1995</th>\n",
       "      <td>1996</td>\n",
       "      <td>Sunshine Of Your Love</td>\n",
       "      <td>Cream</td>\n",
       "      <td>1968</td>\n",
       "      <td>blues, hard rock, psychedelic rock, classic ro...</td>\n",
       "      <td>blues</td>\n",
       "    </tr>\n",
       "    <tr>\n",
       "      <th>1996</th>\n",
       "      <td>1997</td>\n",
       "      <td>Anarchy In The Uk</td>\n",
       "      <td>Sex Pistols</td>\n",
       "      <td>1976</td>\n",
       "      <td>punk rock, punk, british, 70s, rock</td>\n",
       "      <td>rock</td>\n",
       "    </tr>\n",
       "    <tr>\n",
       "      <th>1997</th>\n",
       "      <td>1998</td>\n",
       "      <td>I Want To Hold Your Hand</td>\n",
       "      <td>The Beatles</td>\n",
       "      <td>1964</td>\n",
       "      <td>pop rock and beat, classic rock, rock, 60s, b...</td>\n",
       "      <td>rock</td>\n",
       "    </tr>\n",
       "    <tr>\n",
       "      <th>1998</th>\n",
       "      <td>1999</td>\n",
       "      <td>Kissing A Fool</td>\n",
       "      <td>George Michael</td>\n",
       "      <td>1988</td>\n",
       "      <td>pop, duo, 80s, soul, british, dance</td>\n",
       "      <td>pop</td>\n",
       "    </tr>\n",
       "    <tr>\n",
       "      <th>1999</th>\n",
       "      <td>2000</td>\n",
       "      <td>Promises Of No Man's Land</td>\n",
       "      <td>Blaudzun</td>\n",
       "      <td>2014</td>\n",
       "      <td>singer-songwriter, folk, dutch, indie, alterna...</td>\n",
       "      <td>pop</td>\n",
       "    </tr>\n",
       "  </tbody>\n",
       "</table>\n",
       "<p>2000 rows × 6 columns</p>\n",
       "</div>"
      ],
      "text/plain": [
       "      positie                      titel         artiest  jaar  \\\n",
       "0           1          Bohemian Rhapsody           Queen  1975   \n",
       "1           2             Roller Coaster      Danny Vera  2019   \n",
       "2           3     A Whiter Shade Of Pale    Procol Harum  1967   \n",
       "3           4           Hotel California          Eagles  1977   \n",
       "4           5                  Piano Man      Billy Joel  1974   \n",
       "...       ...                        ...             ...   ...   \n",
       "1995     1996      Sunshine Of Your Love           Cream  1968   \n",
       "1996     1997          Anarchy In The Uk     Sex Pistols  1976   \n",
       "1997     1998   I Want To Hold Your Hand     The Beatles  1964   \n",
       "1998     1999             Kissing A Fool  George Michael  1988   \n",
       "1999     2000  Promises Of No Man's Land        Blaudzun  2014   \n",
       "\n",
       "                                                 genres supergenre  \n",
       "0         classic rock, rock, hard rock, glam rock, 80s       rock  \n",
       "1     americana, rock, singer-songwriter, country, d...    country  \n",
       "2     progressive rock, blues, progre…, classic rock...       rock  \n",
       "3           rock, classic rock, 70s, soft rock, country       rock  \n",
       "4     classic rock, singer-songwriter, rock, pop, piano       rock  \n",
       "...                                                 ...        ...  \n",
       "1995  blues, hard rock, psychedelic rock, classic ro...      blues  \n",
       "1996                punk rock, punk, british, 70s, rock       rock  \n",
       "1997   pop rock and beat, classic rock, rock, 60s, b...       rock  \n",
       "1998                pop, duo, 80s, soul, british, dance        pop  \n",
       "1999  singer-songwriter, folk, dutch, indie, alterna...        pop  \n",
       "\n",
       "[2000 rows x 6 columns]"
      ]
     },
     "execution_count": 32,
     "metadata": {},
     "output_type": "execute_result"
    }
   ],
   "source": [
    "#adding the supergenre to the data \n",
    "data['supergenre'] = \" \"\n",
    "\n",
    "#iterating all the rows in the data \n",
    "for index, row in data.iterrows():\n",
    "    #getting the subgenre of the current song\n",
    "    subgenre_value = row['genres'].replace(\" \", \"\")\n",
    "    subgenre_value = subgenre_value.split(\",\")[0].lower()\n",
    "    \n",
    "    #iterating all the rows in the supergenres and retracting the subgenres\n",
    "    for i, r in supergenres.iterrows(): \n",
    "        subgenre_target = r['subgenre'].lower()\n",
    "        \n",
    "        #checking if the subgenre of the song and the supergenres list align\n",
    "        if str(subgenre_value)  ==  str(subgenre_target):\n",
    "            data.loc[index, 'supergenre'] = r['supergenre']\n",
    "    \n",
    "    #to catch some more songs we also check if the second genre of the song does align with a subgenre in the supergenre list\n",
    "    if data.loc[index, 'supergenre'] == \" \":\n",
    "        subgenre_value2 = row['genres'].replace(\" \", \"\")\n",
    "        try: \n",
    "            subgenre_value2 = subgenre_value2.split(\",\")[1].lower()\n",
    "            for i, r in supergenres.iterrows(): \n",
    "                subgenre_target = r['subgenre'].lower()\n",
    "                if str(subgenre_value2)  ==  str(subgenre_target):\n",
    "                    data.loc[index, 'supergenre'] = r['supergenre']\n",
    "                    \n",
    "        #printing a message when the first and second subgenre don't align with the supergenres\n",
    "        except: \n",
    "            print(f\"No supergenre matches subgenre 1 or 2 for {row['titel']}, {subgenre_value}, {subgenre_value2}\")\n",
    "            data.loc[index, 'supergenre'] = \" \"\n",
    "\n",
    "#writing the data to a csv \n",
    "data.to_csv('data/data_supergenres.csv', header=True, index=False)\n",
    "data"
   ]
  },
  {
   "cell_type": "code",
   "execution_count": 33,
   "id": "bbcf0bff",
   "metadata": {},
   "outputs": [
    {
     "data": {
      "text/html": [
       "<div>\n",
       "<style scoped>\n",
       "    .dataframe tbody tr th:only-of-type {\n",
       "        vertical-align: middle;\n",
       "    }\n",
       "\n",
       "    .dataframe tbody tr th {\n",
       "        vertical-align: top;\n",
       "    }\n",
       "\n",
       "    .dataframe thead th {\n",
       "        text-align: right;\n",
       "    }\n",
       "</style>\n",
       "<table border=\"1\" class=\"dataframe\">\n",
       "  <thead>\n",
       "    <tr style=\"text-align: right;\">\n",
       "      <th></th>\n",
       "      <th>genre</th>\n",
       "      <th>aantal nummers</th>\n",
       "      <th>hoogste positie</th>\n",
       "    </tr>\n",
       "  </thead>\n",
       "  <tbody>\n",
       "    <tr>\n",
       "      <th>0</th>\n",
       "      <td>rock</td>\n",
       "      <td>967</td>\n",
       "      <td>1</td>\n",
       "    </tr>\n",
       "    <tr>\n",
       "      <th>1</th>\n",
       "      <td>country</td>\n",
       "      <td>28</td>\n",
       "      <td>2</td>\n",
       "    </tr>\n",
       "    <tr>\n",
       "      <th>2</th>\n",
       "      <td>metal</td>\n",
       "      <td>31</td>\n",
       "      <td>8</td>\n",
       "    </tr>\n",
       "    <tr>\n",
       "      <th>3</th>\n",
       "      <td>nederlandstalig</td>\n",
       "      <td>176</td>\n",
       "      <td>10</td>\n",
       "    </tr>\n",
       "    <tr>\n",
       "      <th>4</th>\n",
       "      <td>pop</td>\n",
       "      <td>420</td>\n",
       "      <td>11</td>\n",
       "    </tr>\n",
       "    <tr>\n",
       "      <th>5</th>\n",
       "      <td>soul</td>\n",
       "      <td>83</td>\n",
       "      <td>21</td>\n",
       "    </tr>\n",
       "    <tr>\n",
       "      <th>6</th>\n",
       "      <td>folk</td>\n",
       "      <td>47</td>\n",
       "      <td>28</td>\n",
       "    </tr>\n",
       "    <tr>\n",
       "      <th>7</th>\n",
       "      <td>hiphop</td>\n",
       "      <td>42</td>\n",
       "      <td>76</td>\n",
       "    </tr>\n",
       "    <tr>\n",
       "      <th>8</th>\n",
       "      <td>blues</td>\n",
       "      <td>26</td>\n",
       "      <td>90</td>\n",
       "    </tr>\n",
       "    <tr>\n",
       "      <th>9</th>\n",
       "      <td>reggae</td>\n",
       "      <td>23</td>\n",
       "      <td>123</td>\n",
       "    </tr>\n",
       "    <tr>\n",
       "      <th>10</th>\n",
       "      <td>electronic</td>\n",
       "      <td>75</td>\n",
       "      <td>140</td>\n",
       "    </tr>\n",
       "    <tr>\n",
       "      <th>13</th>\n",
       "      <td>jazz</td>\n",
       "      <td>28</td>\n",
       "      <td>307</td>\n",
       "    </tr>\n",
       "  </tbody>\n",
       "</table>\n",
       "</div>"
      ],
      "text/plain": [
       "              genre  aantal nummers  hoogste positie\n",
       "0              rock             967                1\n",
       "1           country              28                2\n",
       "2             metal              31                8\n",
       "3   nederlandstalig             176               10\n",
       "4               pop             420               11\n",
       "5              soul              83               21\n",
       "6              folk              47               28\n",
       "7            hiphop              42               76\n",
       "8             blues              26               90\n",
       "9            reggae              23              123\n",
       "10       electronic              75              140\n",
       "13             jazz              28              307"
      ]
     },
     "execution_count": 33,
     "metadata": {},
     "output_type": "execute_result"
    }
   ],
   "source": [
    "#loading and setting up the dataframes\n",
    "data = pd.read_csv('data/data_supergenres.csv')\n",
    "supergenre_counter = pd.DataFrame(columns=['aantal nummers', 'hoogste positie'])\n",
    "\n",
    "#iterating all the rows in the data, basically the same as for the genrecounter\n",
    "for index, row in data.iterrows():\n",
    "    g = row['supergenre']\n",
    "    if g in supergenre_counter.index: \n",
    "        supergenre_counter.loc[g, 'aantal nummers'] += 1; \n",
    "        if supergenre_counter.loc[g, 'hoogste positie'] > row['positie']:\n",
    "            supergenre_counter.loc[g, 'hoogste positie'] = row['positie']; \n",
    "    else:\n",
    "        supergenre_counter.loc[g, 'aantal nummers'] = 1; \n",
    "        supergenre_counter.loc[g, 'hoogste positie'] = row['positie']; \n",
    "\n",
    "#some data cleaning and reformatting \n",
    "supergenre_counter = supergenre_counter.reset_index()\n",
    "supergenre_counter = supergenre_counter.rename(columns={\"index\": \"genre\"})\n",
    "supergenre_counter['aantal nummers'] = supergenre_counter['aantal nummers'].astype(int)\n",
    "supergenre_counter['hoogste positie'] = supergenre_counter['hoogste positie'].astype(int)\n",
    "supergenre_counter = supergenre_counter[supergenre_counter['aantal nummers'] > 20]\n",
    "supergenre_counter = supergenre_counter[supergenre_counter['genre'] != \"None\"]\n",
    "supergenre_counter = supergenre_counter[supergenre_counter['genre'] != \" \"]\n",
    "\n",
    "supergenre_counter.to_csv('data/supergenre_counter.csv', header=False, index=False)\n",
    "supergenre_counter"
   ]
  },
  {
   "cell_type": "code",
   "execution_count": 39,
   "id": "66865996",
   "metadata": {},
   "outputs": [
    {
     "data": {
      "application/vnd.plotly.v1+json": {
       "config": {
        "plotlyServerURL": "https://plotly.com"
       },
       "data": [
        {
         "hovertemplate": "<b>%{hovertext}</b><br><br>Highest position of a song=%{x}<br>Number of songs=%{marker.color}<extra></extra>",
         "hovertext": [
          "Rock",
          "Country",
          "Metal",
          "Nederlandstalig",
          "Pop",
          "Soul",
          "Folk",
          "Hiphop",
          "Blues",
          "Reggae",
          "Electronic",
          "Jazz"
         ],
         "legendgroup": "",
         "marker": {
          "color": [
           967,
           28,
           31,
           176,
           420,
           83,
           47,
           42,
           26,
           23,
           75,
           28
          ],
          "coloraxis": "coloraxis",
          "size": [
           967,
           28,
           31,
           176,
           420,
           83,
           47,
           42,
           26,
           23,
           75,
           28
          ],
          "sizemode": "area",
          "sizeref": 2.4175,
          "symbol": "circle"
         },
         "mode": "markers",
         "name": "",
         "orientation": "v",
         "showlegend": false,
         "type": "scatter",
         "x": [
          1,
          2,
          8,
          10,
          11,
          21,
          28,
          76,
          90,
          123,
          140,
          307
         ],
         "xaxis": "x",
         "y": [
          967,
          28,
          31,
          176,
          420,
          83,
          47,
          42,
          26,
          23,
          75,
          28
         ],
         "yaxis": "y"
        }
       ],
       "layout": {
        "coloraxis": {
         "colorbar": {
          "title": {
           "text": "Number of songs"
          }
         },
         "colorscale": [
          [
           0,
           "#0d0887"
          ],
          [
           0.1111111111111111,
           "#46039f"
          ],
          [
           0.2222222222222222,
           "#7201a8"
          ],
          [
           0.3333333333333333,
           "#9c179e"
          ],
          [
           0.4444444444444444,
           "#bd3786"
          ],
          [
           0.5555555555555556,
           "#d8576b"
          ],
          [
           0.6666666666666666,
           "#ed7953"
          ],
          [
           0.7777777777777778,
           "#fb9f3a"
          ],
          [
           0.8888888888888888,
           "#fdca26"
          ],
          [
           1,
           "#f0f921"
          ]
         ]
        },
        "legend": {
         "itemsizing": "constant",
         "tracegroupgap": 0
        },
        "margin": {
         "t": 60
        },
        "template": {
         "data": {
          "bar": [
           {
            "error_x": {
             "color": "#2a3f5f"
            },
            "error_y": {
             "color": "#2a3f5f"
            },
            "marker": {
             "line": {
              "color": "#E5ECF6",
              "width": 0.5
             },
             "pattern": {
              "fillmode": "overlay",
              "size": 10,
              "solidity": 0.2
             }
            },
            "type": "bar"
           }
          ],
          "barpolar": [
           {
            "marker": {
             "line": {
              "color": "#E5ECF6",
              "width": 0.5
             },
             "pattern": {
              "fillmode": "overlay",
              "size": 10,
              "solidity": 0.2
             }
            },
            "type": "barpolar"
           }
          ],
          "carpet": [
           {
            "aaxis": {
             "endlinecolor": "#2a3f5f",
             "gridcolor": "white",
             "linecolor": "white",
             "minorgridcolor": "white",
             "startlinecolor": "#2a3f5f"
            },
            "baxis": {
             "endlinecolor": "#2a3f5f",
             "gridcolor": "white",
             "linecolor": "white",
             "minorgridcolor": "white",
             "startlinecolor": "#2a3f5f"
            },
            "type": "carpet"
           }
          ],
          "choropleth": [
           {
            "colorbar": {
             "outlinewidth": 0,
             "ticks": ""
            },
            "type": "choropleth"
           }
          ],
          "contour": [
           {
            "colorbar": {
             "outlinewidth": 0,
             "ticks": ""
            },
            "colorscale": [
             [
              0,
              "#0d0887"
             ],
             [
              0.1111111111111111,
              "#46039f"
             ],
             [
              0.2222222222222222,
              "#7201a8"
             ],
             [
              0.3333333333333333,
              "#9c179e"
             ],
             [
              0.4444444444444444,
              "#bd3786"
             ],
             [
              0.5555555555555556,
              "#d8576b"
             ],
             [
              0.6666666666666666,
              "#ed7953"
             ],
             [
              0.7777777777777778,
              "#fb9f3a"
             ],
             [
              0.8888888888888888,
              "#fdca26"
             ],
             [
              1,
              "#f0f921"
             ]
            ],
            "type": "contour"
           }
          ],
          "contourcarpet": [
           {
            "colorbar": {
             "outlinewidth": 0,
             "ticks": ""
            },
            "type": "contourcarpet"
           }
          ],
          "heatmap": [
           {
            "colorbar": {
             "outlinewidth": 0,
             "ticks": ""
            },
            "colorscale": [
             [
              0,
              "#0d0887"
             ],
             [
              0.1111111111111111,
              "#46039f"
             ],
             [
              0.2222222222222222,
              "#7201a8"
             ],
             [
              0.3333333333333333,
              "#9c179e"
             ],
             [
              0.4444444444444444,
              "#bd3786"
             ],
             [
              0.5555555555555556,
              "#d8576b"
             ],
             [
              0.6666666666666666,
              "#ed7953"
             ],
             [
              0.7777777777777778,
              "#fb9f3a"
             ],
             [
              0.8888888888888888,
              "#fdca26"
             ],
             [
              1,
              "#f0f921"
             ]
            ],
            "type": "heatmap"
           }
          ],
          "heatmapgl": [
           {
            "colorbar": {
             "outlinewidth": 0,
             "ticks": ""
            },
            "colorscale": [
             [
              0,
              "#0d0887"
             ],
             [
              0.1111111111111111,
              "#46039f"
             ],
             [
              0.2222222222222222,
              "#7201a8"
             ],
             [
              0.3333333333333333,
              "#9c179e"
             ],
             [
              0.4444444444444444,
              "#bd3786"
             ],
             [
              0.5555555555555556,
              "#d8576b"
             ],
             [
              0.6666666666666666,
              "#ed7953"
             ],
             [
              0.7777777777777778,
              "#fb9f3a"
             ],
             [
              0.8888888888888888,
              "#fdca26"
             ],
             [
              1,
              "#f0f921"
             ]
            ],
            "type": "heatmapgl"
           }
          ],
          "histogram": [
           {
            "marker": {
             "pattern": {
              "fillmode": "overlay",
              "size": 10,
              "solidity": 0.2
             }
            },
            "type": "histogram"
           }
          ],
          "histogram2d": [
           {
            "colorbar": {
             "outlinewidth": 0,
             "ticks": ""
            },
            "colorscale": [
             [
              0,
              "#0d0887"
             ],
             [
              0.1111111111111111,
              "#46039f"
             ],
             [
              0.2222222222222222,
              "#7201a8"
             ],
             [
              0.3333333333333333,
              "#9c179e"
             ],
             [
              0.4444444444444444,
              "#bd3786"
             ],
             [
              0.5555555555555556,
              "#d8576b"
             ],
             [
              0.6666666666666666,
              "#ed7953"
             ],
             [
              0.7777777777777778,
              "#fb9f3a"
             ],
             [
              0.8888888888888888,
              "#fdca26"
             ],
             [
              1,
              "#f0f921"
             ]
            ],
            "type": "histogram2d"
           }
          ],
          "histogram2dcontour": [
           {
            "colorbar": {
             "outlinewidth": 0,
             "ticks": ""
            },
            "colorscale": [
             [
              0,
              "#0d0887"
             ],
             [
              0.1111111111111111,
              "#46039f"
             ],
             [
              0.2222222222222222,
              "#7201a8"
             ],
             [
              0.3333333333333333,
              "#9c179e"
             ],
             [
              0.4444444444444444,
              "#bd3786"
             ],
             [
              0.5555555555555556,
              "#d8576b"
             ],
             [
              0.6666666666666666,
              "#ed7953"
             ],
             [
              0.7777777777777778,
              "#fb9f3a"
             ],
             [
              0.8888888888888888,
              "#fdca26"
             ],
             [
              1,
              "#f0f921"
             ]
            ],
            "type": "histogram2dcontour"
           }
          ],
          "mesh3d": [
           {
            "colorbar": {
             "outlinewidth": 0,
             "ticks": ""
            },
            "type": "mesh3d"
           }
          ],
          "parcoords": [
           {
            "line": {
             "colorbar": {
              "outlinewidth": 0,
              "ticks": ""
             }
            },
            "type": "parcoords"
           }
          ],
          "pie": [
           {
            "automargin": true,
            "type": "pie"
           }
          ],
          "scatter": [
           {
            "marker": {
             "colorbar": {
              "outlinewidth": 0,
              "ticks": ""
             }
            },
            "type": "scatter"
           }
          ],
          "scatter3d": [
           {
            "line": {
             "colorbar": {
              "outlinewidth": 0,
              "ticks": ""
             }
            },
            "marker": {
             "colorbar": {
              "outlinewidth": 0,
              "ticks": ""
             }
            },
            "type": "scatter3d"
           }
          ],
          "scattercarpet": [
           {
            "marker": {
             "colorbar": {
              "outlinewidth": 0,
              "ticks": ""
             }
            },
            "type": "scattercarpet"
           }
          ],
          "scattergeo": [
           {
            "marker": {
             "colorbar": {
              "outlinewidth": 0,
              "ticks": ""
             }
            },
            "type": "scattergeo"
           }
          ],
          "scattergl": [
           {
            "marker": {
             "colorbar": {
              "outlinewidth": 0,
              "ticks": ""
             }
            },
            "type": "scattergl"
           }
          ],
          "scattermapbox": [
           {
            "marker": {
             "colorbar": {
              "outlinewidth": 0,
              "ticks": ""
             }
            },
            "type": "scattermapbox"
           }
          ],
          "scatterpolar": [
           {
            "marker": {
             "colorbar": {
              "outlinewidth": 0,
              "ticks": ""
             }
            },
            "type": "scatterpolar"
           }
          ],
          "scatterpolargl": [
           {
            "marker": {
             "colorbar": {
              "outlinewidth": 0,
              "ticks": ""
             }
            },
            "type": "scatterpolargl"
           }
          ],
          "scatterternary": [
           {
            "marker": {
             "colorbar": {
              "outlinewidth": 0,
              "ticks": ""
             }
            },
            "type": "scatterternary"
           }
          ],
          "surface": [
           {
            "colorbar": {
             "outlinewidth": 0,
             "ticks": ""
            },
            "colorscale": [
             [
              0,
              "#0d0887"
             ],
             [
              0.1111111111111111,
              "#46039f"
             ],
             [
              0.2222222222222222,
              "#7201a8"
             ],
             [
              0.3333333333333333,
              "#9c179e"
             ],
             [
              0.4444444444444444,
              "#bd3786"
             ],
             [
              0.5555555555555556,
              "#d8576b"
             ],
             [
              0.6666666666666666,
              "#ed7953"
             ],
             [
              0.7777777777777778,
              "#fb9f3a"
             ],
             [
              0.8888888888888888,
              "#fdca26"
             ],
             [
              1,
              "#f0f921"
             ]
            ],
            "type": "surface"
           }
          ],
          "table": [
           {
            "cells": {
             "fill": {
              "color": "#EBF0F8"
             },
             "line": {
              "color": "white"
             }
            },
            "header": {
             "fill": {
              "color": "#C8D4E3"
             },
             "line": {
              "color": "white"
             }
            },
            "type": "table"
           }
          ]
         },
         "layout": {
          "annotationdefaults": {
           "arrowcolor": "#2a3f5f",
           "arrowhead": 0,
           "arrowwidth": 1
          },
          "autotypenumbers": "strict",
          "coloraxis": {
           "colorbar": {
            "outlinewidth": 0,
            "ticks": ""
           }
          },
          "colorscale": {
           "diverging": [
            [
             0,
             "#8e0152"
            ],
            [
             0.1,
             "#c51b7d"
            ],
            [
             0.2,
             "#de77ae"
            ],
            [
             0.3,
             "#f1b6da"
            ],
            [
             0.4,
             "#fde0ef"
            ],
            [
             0.5,
             "#f7f7f7"
            ],
            [
             0.6,
             "#e6f5d0"
            ],
            [
             0.7,
             "#b8e186"
            ],
            [
             0.8,
             "#7fbc41"
            ],
            [
             0.9,
             "#4d9221"
            ],
            [
             1,
             "#276419"
            ]
           ],
           "sequential": [
            [
             0,
             "#0d0887"
            ],
            [
             0.1111111111111111,
             "#46039f"
            ],
            [
             0.2222222222222222,
             "#7201a8"
            ],
            [
             0.3333333333333333,
             "#9c179e"
            ],
            [
             0.4444444444444444,
             "#bd3786"
            ],
            [
             0.5555555555555556,
             "#d8576b"
            ],
            [
             0.6666666666666666,
             "#ed7953"
            ],
            [
             0.7777777777777778,
             "#fb9f3a"
            ],
            [
             0.8888888888888888,
             "#fdca26"
            ],
            [
             1,
             "#f0f921"
            ]
           ],
           "sequentialminus": [
            [
             0,
             "#0d0887"
            ],
            [
             0.1111111111111111,
             "#46039f"
            ],
            [
             0.2222222222222222,
             "#7201a8"
            ],
            [
             0.3333333333333333,
             "#9c179e"
            ],
            [
             0.4444444444444444,
             "#bd3786"
            ],
            [
             0.5555555555555556,
             "#d8576b"
            ],
            [
             0.6666666666666666,
             "#ed7953"
            ],
            [
             0.7777777777777778,
             "#fb9f3a"
            ],
            [
             0.8888888888888888,
             "#fdca26"
            ],
            [
             1,
             "#f0f921"
            ]
           ]
          },
          "colorway": [
           "#636efa",
           "#EF553B",
           "#00cc96",
           "#ab63fa",
           "#FFA15A",
           "#19d3f3",
           "#FF6692",
           "#B6E880",
           "#FF97FF",
           "#FECB52"
          ],
          "font": {
           "color": "#2a3f5f"
          },
          "geo": {
           "bgcolor": "white",
           "lakecolor": "white",
           "landcolor": "#E5ECF6",
           "showlakes": true,
           "showland": true,
           "subunitcolor": "white"
          },
          "hoverlabel": {
           "align": "left"
          },
          "hovermode": "closest",
          "mapbox": {
           "style": "light"
          },
          "paper_bgcolor": "white",
          "plot_bgcolor": "#E5ECF6",
          "polar": {
           "angularaxis": {
            "gridcolor": "white",
            "linecolor": "white",
            "ticks": ""
           },
           "bgcolor": "#E5ECF6",
           "radialaxis": {
            "gridcolor": "white",
            "linecolor": "white",
            "ticks": ""
           }
          },
          "scene": {
           "xaxis": {
            "backgroundcolor": "#E5ECF6",
            "gridcolor": "white",
            "gridwidth": 2,
            "linecolor": "white",
            "showbackground": true,
            "ticks": "",
            "zerolinecolor": "white"
           },
           "yaxis": {
            "backgroundcolor": "#E5ECF6",
            "gridcolor": "white",
            "gridwidth": 2,
            "linecolor": "white",
            "showbackground": true,
            "ticks": "",
            "zerolinecolor": "white"
           },
           "zaxis": {
            "backgroundcolor": "#E5ECF6",
            "gridcolor": "white",
            "gridwidth": 2,
            "linecolor": "white",
            "showbackground": true,
            "ticks": "",
            "zerolinecolor": "white"
           }
          },
          "shapedefaults": {
           "line": {
            "color": "#2a3f5f"
           }
          },
          "ternary": {
           "aaxis": {
            "gridcolor": "white",
            "linecolor": "white",
            "ticks": ""
           },
           "baxis": {
            "gridcolor": "white",
            "linecolor": "white",
            "ticks": ""
           },
           "bgcolor": "#E5ECF6",
           "caxis": {
            "gridcolor": "white",
            "linecolor": "white",
            "ticks": ""
           }
          },
          "title": {
           "x": 0.05
          },
          "xaxis": {
           "automargin": true,
           "gridcolor": "white",
           "linecolor": "white",
           "ticks": "",
           "title": {
            "standoff": 15
           },
           "zerolinecolor": "white",
           "zerolinewidth": 2
          },
          "yaxis": {
           "automargin": true,
           "gridcolor": "white",
           "linecolor": "white",
           "ticks": "",
           "title": {
            "standoff": 15
           },
           "zerolinecolor": "white",
           "zerolinewidth": 2
          }
         }
        },
        "title": {
         "text": "Highest position and total number of songs in the Top 2000 per supergenre"
        },
        "xaxis": {
         "anchor": "y",
         "domain": [
          0,
          1
         ],
         "title": {
          "text": "Highest position of a song"
         }
        },
        "yaxis": {
         "anchor": "x",
         "domain": [
          0,
          1
         ],
         "title": {
          "text": "Number of songs"
         }
        }
       }
      },
      "text/html": [
       "<div>                            <div id=\"01689bcf-b54b-42a1-8e60-07a7382e91c2\" class=\"plotly-graph-div\" style=\"height:525px; width:100%;\"></div>            <script type=\"text/javascript\">                require([\"plotly\"], function(Plotly) {                    window.PLOTLYENV=window.PLOTLYENV || {};                                    if (document.getElementById(\"01689bcf-b54b-42a1-8e60-07a7382e91c2\")) {                    Plotly.newPlot(                        \"01689bcf-b54b-42a1-8e60-07a7382e91c2\",                        [{\"hovertemplate\":\"<b>%{hovertext}</b><br><br>Highest position of a song=%{x}<br>Number of songs=%{marker.color}<extra></extra>\",\"hovertext\":[\"Rock\",\"Country\",\"Metal\",\"Nederlandstalig\",\"Pop\",\"Soul\",\"Folk\",\"Hiphop\",\"Blues\",\"Reggae\",\"Electronic\",\"Jazz\"],\"legendgroup\":\"\",\"marker\":{\"color\":[967,28,31,176,420,83,47,42,26,23,75,28],\"coloraxis\":\"coloraxis\",\"size\":[967,28,31,176,420,83,47,42,26,23,75,28],\"sizemode\":\"area\",\"sizeref\":2.4175,\"symbol\":\"circle\"},\"mode\":\"markers\",\"name\":\"\",\"orientation\":\"v\",\"showlegend\":false,\"type\":\"scatter\",\"x\":[1,2,8,10,11,21,28,76,90,123,140,307],\"xaxis\":\"x\",\"y\":[967,28,31,176,420,83,47,42,26,23,75,28],\"yaxis\":\"y\"}],                        {\"coloraxis\":{\"colorbar\":{\"title\":{\"text\":\"Number of songs\"}},\"colorscale\":[[0.0,\"#0d0887\"],[0.1111111111111111,\"#46039f\"],[0.2222222222222222,\"#7201a8\"],[0.3333333333333333,\"#9c179e\"],[0.4444444444444444,\"#bd3786\"],[0.5555555555555556,\"#d8576b\"],[0.6666666666666666,\"#ed7953\"],[0.7777777777777778,\"#fb9f3a\"],[0.8888888888888888,\"#fdca26\"],[1.0,\"#f0f921\"]]},\"legend\":{\"itemsizing\":\"constant\",\"tracegroupgap\":0},\"margin\":{\"t\":60},\"template\":{\"data\":{\"bar\":[{\"error_x\":{\"color\":\"#2a3f5f\"},\"error_y\":{\"color\":\"#2a3f5f\"},\"marker\":{\"line\":{\"color\":\"#E5ECF6\",\"width\":0.5},\"pattern\":{\"fillmode\":\"overlay\",\"size\":10,\"solidity\":0.2}},\"type\":\"bar\"}],\"barpolar\":[{\"marker\":{\"line\":{\"color\":\"#E5ECF6\",\"width\":0.5},\"pattern\":{\"fillmode\":\"overlay\",\"size\":10,\"solidity\":0.2}},\"type\":\"barpolar\"}],\"carpet\":[{\"aaxis\":{\"endlinecolor\":\"#2a3f5f\",\"gridcolor\":\"white\",\"linecolor\":\"white\",\"minorgridcolor\":\"white\",\"startlinecolor\":\"#2a3f5f\"},\"baxis\":{\"endlinecolor\":\"#2a3f5f\",\"gridcolor\":\"white\",\"linecolor\":\"white\",\"minorgridcolor\":\"white\",\"startlinecolor\":\"#2a3f5f\"},\"type\":\"carpet\"}],\"choropleth\":[{\"colorbar\":{\"outlinewidth\":0,\"ticks\":\"\"},\"type\":\"choropleth\"}],\"contour\":[{\"colorbar\":{\"outlinewidth\":0,\"ticks\":\"\"},\"colorscale\":[[0.0,\"#0d0887\"],[0.1111111111111111,\"#46039f\"],[0.2222222222222222,\"#7201a8\"],[0.3333333333333333,\"#9c179e\"],[0.4444444444444444,\"#bd3786\"],[0.5555555555555556,\"#d8576b\"],[0.6666666666666666,\"#ed7953\"],[0.7777777777777778,\"#fb9f3a\"],[0.8888888888888888,\"#fdca26\"],[1.0,\"#f0f921\"]],\"type\":\"contour\"}],\"contourcarpet\":[{\"colorbar\":{\"outlinewidth\":0,\"ticks\":\"\"},\"type\":\"contourcarpet\"}],\"heatmap\":[{\"colorbar\":{\"outlinewidth\":0,\"ticks\":\"\"},\"colorscale\":[[0.0,\"#0d0887\"],[0.1111111111111111,\"#46039f\"],[0.2222222222222222,\"#7201a8\"],[0.3333333333333333,\"#9c179e\"],[0.4444444444444444,\"#bd3786\"],[0.5555555555555556,\"#d8576b\"],[0.6666666666666666,\"#ed7953\"],[0.7777777777777778,\"#fb9f3a\"],[0.8888888888888888,\"#fdca26\"],[1.0,\"#f0f921\"]],\"type\":\"heatmap\"}],\"heatmapgl\":[{\"colorbar\":{\"outlinewidth\":0,\"ticks\":\"\"},\"colorscale\":[[0.0,\"#0d0887\"],[0.1111111111111111,\"#46039f\"],[0.2222222222222222,\"#7201a8\"],[0.3333333333333333,\"#9c179e\"],[0.4444444444444444,\"#bd3786\"],[0.5555555555555556,\"#d8576b\"],[0.6666666666666666,\"#ed7953\"],[0.7777777777777778,\"#fb9f3a\"],[0.8888888888888888,\"#fdca26\"],[1.0,\"#f0f921\"]],\"type\":\"heatmapgl\"}],\"histogram\":[{\"marker\":{\"pattern\":{\"fillmode\":\"overlay\",\"size\":10,\"solidity\":0.2}},\"type\":\"histogram\"}],\"histogram2d\":[{\"colorbar\":{\"outlinewidth\":0,\"ticks\":\"\"},\"colorscale\":[[0.0,\"#0d0887\"],[0.1111111111111111,\"#46039f\"],[0.2222222222222222,\"#7201a8\"],[0.3333333333333333,\"#9c179e\"],[0.4444444444444444,\"#bd3786\"],[0.5555555555555556,\"#d8576b\"],[0.6666666666666666,\"#ed7953\"],[0.7777777777777778,\"#fb9f3a\"],[0.8888888888888888,\"#fdca26\"],[1.0,\"#f0f921\"]],\"type\":\"histogram2d\"}],\"histogram2dcontour\":[{\"colorbar\":{\"outlinewidth\":0,\"ticks\":\"\"},\"colorscale\":[[0.0,\"#0d0887\"],[0.1111111111111111,\"#46039f\"],[0.2222222222222222,\"#7201a8\"],[0.3333333333333333,\"#9c179e\"],[0.4444444444444444,\"#bd3786\"],[0.5555555555555556,\"#d8576b\"],[0.6666666666666666,\"#ed7953\"],[0.7777777777777778,\"#fb9f3a\"],[0.8888888888888888,\"#fdca26\"],[1.0,\"#f0f921\"]],\"type\":\"histogram2dcontour\"}],\"mesh3d\":[{\"colorbar\":{\"outlinewidth\":0,\"ticks\":\"\"},\"type\":\"mesh3d\"}],\"parcoords\":[{\"line\":{\"colorbar\":{\"outlinewidth\":0,\"ticks\":\"\"}},\"type\":\"parcoords\"}],\"pie\":[{\"automargin\":true,\"type\":\"pie\"}],\"scatter\":[{\"marker\":{\"colorbar\":{\"outlinewidth\":0,\"ticks\":\"\"}},\"type\":\"scatter\"}],\"scatter3d\":[{\"line\":{\"colorbar\":{\"outlinewidth\":0,\"ticks\":\"\"}},\"marker\":{\"colorbar\":{\"outlinewidth\":0,\"ticks\":\"\"}},\"type\":\"scatter3d\"}],\"scattercarpet\":[{\"marker\":{\"colorbar\":{\"outlinewidth\":0,\"ticks\":\"\"}},\"type\":\"scattercarpet\"}],\"scattergeo\":[{\"marker\":{\"colorbar\":{\"outlinewidth\":0,\"ticks\":\"\"}},\"type\":\"scattergeo\"}],\"scattergl\":[{\"marker\":{\"colorbar\":{\"outlinewidth\":0,\"ticks\":\"\"}},\"type\":\"scattergl\"}],\"scattermapbox\":[{\"marker\":{\"colorbar\":{\"outlinewidth\":0,\"ticks\":\"\"}},\"type\":\"scattermapbox\"}],\"scatterpolar\":[{\"marker\":{\"colorbar\":{\"outlinewidth\":0,\"ticks\":\"\"}},\"type\":\"scatterpolar\"}],\"scatterpolargl\":[{\"marker\":{\"colorbar\":{\"outlinewidth\":0,\"ticks\":\"\"}},\"type\":\"scatterpolargl\"}],\"scatterternary\":[{\"marker\":{\"colorbar\":{\"outlinewidth\":0,\"ticks\":\"\"}},\"type\":\"scatterternary\"}],\"surface\":[{\"colorbar\":{\"outlinewidth\":0,\"ticks\":\"\"},\"colorscale\":[[0.0,\"#0d0887\"],[0.1111111111111111,\"#46039f\"],[0.2222222222222222,\"#7201a8\"],[0.3333333333333333,\"#9c179e\"],[0.4444444444444444,\"#bd3786\"],[0.5555555555555556,\"#d8576b\"],[0.6666666666666666,\"#ed7953\"],[0.7777777777777778,\"#fb9f3a\"],[0.8888888888888888,\"#fdca26\"],[1.0,\"#f0f921\"]],\"type\":\"surface\"}],\"table\":[{\"cells\":{\"fill\":{\"color\":\"#EBF0F8\"},\"line\":{\"color\":\"white\"}},\"header\":{\"fill\":{\"color\":\"#C8D4E3\"},\"line\":{\"color\":\"white\"}},\"type\":\"table\"}]},\"layout\":{\"annotationdefaults\":{\"arrowcolor\":\"#2a3f5f\",\"arrowhead\":0,\"arrowwidth\":1},\"autotypenumbers\":\"strict\",\"coloraxis\":{\"colorbar\":{\"outlinewidth\":0,\"ticks\":\"\"}},\"colorscale\":{\"diverging\":[[0,\"#8e0152\"],[0.1,\"#c51b7d\"],[0.2,\"#de77ae\"],[0.3,\"#f1b6da\"],[0.4,\"#fde0ef\"],[0.5,\"#f7f7f7\"],[0.6,\"#e6f5d0\"],[0.7,\"#b8e186\"],[0.8,\"#7fbc41\"],[0.9,\"#4d9221\"],[1,\"#276419\"]],\"sequential\":[[0.0,\"#0d0887\"],[0.1111111111111111,\"#46039f\"],[0.2222222222222222,\"#7201a8\"],[0.3333333333333333,\"#9c179e\"],[0.4444444444444444,\"#bd3786\"],[0.5555555555555556,\"#d8576b\"],[0.6666666666666666,\"#ed7953\"],[0.7777777777777778,\"#fb9f3a\"],[0.8888888888888888,\"#fdca26\"],[1.0,\"#f0f921\"]],\"sequentialminus\":[[0.0,\"#0d0887\"],[0.1111111111111111,\"#46039f\"],[0.2222222222222222,\"#7201a8\"],[0.3333333333333333,\"#9c179e\"],[0.4444444444444444,\"#bd3786\"],[0.5555555555555556,\"#d8576b\"],[0.6666666666666666,\"#ed7953\"],[0.7777777777777778,\"#fb9f3a\"],[0.8888888888888888,\"#fdca26\"],[1.0,\"#f0f921\"]]},\"colorway\":[\"#636efa\",\"#EF553B\",\"#00cc96\",\"#ab63fa\",\"#FFA15A\",\"#19d3f3\",\"#FF6692\",\"#B6E880\",\"#FF97FF\",\"#FECB52\"],\"font\":{\"color\":\"#2a3f5f\"},\"geo\":{\"bgcolor\":\"white\",\"lakecolor\":\"white\",\"landcolor\":\"#E5ECF6\",\"showlakes\":true,\"showland\":true,\"subunitcolor\":\"white\"},\"hoverlabel\":{\"align\":\"left\"},\"hovermode\":\"closest\",\"mapbox\":{\"style\":\"light\"},\"paper_bgcolor\":\"white\",\"plot_bgcolor\":\"#E5ECF6\",\"polar\":{\"angularaxis\":{\"gridcolor\":\"white\",\"linecolor\":\"white\",\"ticks\":\"\"},\"bgcolor\":\"#E5ECF6\",\"radialaxis\":{\"gridcolor\":\"white\",\"linecolor\":\"white\",\"ticks\":\"\"}},\"scene\":{\"xaxis\":{\"backgroundcolor\":\"#E5ECF6\",\"gridcolor\":\"white\",\"gridwidth\":2,\"linecolor\":\"white\",\"showbackground\":true,\"ticks\":\"\",\"zerolinecolor\":\"white\"},\"yaxis\":{\"backgroundcolor\":\"#E5ECF6\",\"gridcolor\":\"white\",\"gridwidth\":2,\"linecolor\":\"white\",\"showbackground\":true,\"ticks\":\"\",\"zerolinecolor\":\"white\"},\"zaxis\":{\"backgroundcolor\":\"#E5ECF6\",\"gridcolor\":\"white\",\"gridwidth\":2,\"linecolor\":\"white\",\"showbackground\":true,\"ticks\":\"\",\"zerolinecolor\":\"white\"}},\"shapedefaults\":{\"line\":{\"color\":\"#2a3f5f\"}},\"ternary\":{\"aaxis\":{\"gridcolor\":\"white\",\"linecolor\":\"white\",\"ticks\":\"\"},\"baxis\":{\"gridcolor\":\"white\",\"linecolor\":\"white\",\"ticks\":\"\"},\"bgcolor\":\"#E5ECF6\",\"caxis\":{\"gridcolor\":\"white\",\"linecolor\":\"white\",\"ticks\":\"\"}},\"title\":{\"x\":0.05},\"xaxis\":{\"automargin\":true,\"gridcolor\":\"white\",\"linecolor\":\"white\",\"ticks\":\"\",\"title\":{\"standoff\":15},\"zerolinecolor\":\"white\",\"zerolinewidth\":2},\"yaxis\":{\"automargin\":true,\"gridcolor\":\"white\",\"linecolor\":\"white\",\"ticks\":\"\",\"title\":{\"standoff\":15},\"zerolinecolor\":\"white\",\"zerolinewidth\":2}}},\"title\":{\"text\":\"Highest position and total number of songs in the Top 2000 per supergenre\"},\"xaxis\":{\"anchor\":\"y\",\"domain\":[0.0,1.0],\"title\":{\"text\":\"Highest position of a song\"}},\"yaxis\":{\"anchor\":\"x\",\"domain\":[0.0,1.0],\"title\":{\"text\":\"Number of songs\"}}},                        {\"responsive\": true}                    ).then(function(){\n",
       "                            \n",
       "var gd = document.getElementById('01689bcf-b54b-42a1-8e60-07a7382e91c2');\n",
       "var x = new MutationObserver(function (mutations, observer) {{\n",
       "        var display = window.getComputedStyle(gd).display;\n",
       "        if (!display || display === 'none') {{\n",
       "            console.log([gd, 'removed!']);\n",
       "            Plotly.purge(gd);\n",
       "            observer.disconnect();\n",
       "        }}\n",
       "}});\n",
       "\n",
       "// Listen for the removal of the full notebook cells\n",
       "var notebookContainer = gd.closest('#notebook-container');\n",
       "if (notebookContainer) {{\n",
       "    x.observe(notebookContainer, {childList: true});\n",
       "}}\n",
       "\n",
       "// Listen for the clearing of the current output cell\n",
       "var outputEl = gd.closest('.output');\n",
       "if (outputEl) {{\n",
       "    x.observe(outputEl, {childList: true});\n",
       "}}\n",
       "\n",
       "                        })                };                });            </script>        </div>"
      ]
     },
     "metadata": {},
     "output_type": "display_data"
    }
   ],
   "source": [
    "#changing some column values and names to make it more pretty and English for visualisation\n",
    "supergenre_counter['genre'] = supergenre_counter['genre'].str.capitalize()\n",
    "supergenre_counter = supergenre_counter.rename(columns={'hoogste positie': 'Highest position of a song', 'aantal nummers': 'Number of songs'})\n",
    "\n",
    "#visualising the data\n",
    "fig = px.scatter(supergenre_counter, x='Highest position of a song', y='Number of songs', hover_name='genre', color='Number of songs', size = 'Number of songs')\n",
    "\n",
    "fig.update_layout(\n",
    "    title = \"Highest position and total number of songs in the Top 2000 per supergenre\",\n",
    ")\n",
    "\n",
    "fig.show()\n",
    "\n",
    "#writing the figure to html, figure is visible at: https://almaliezenga.github.io/Top2000/html/supergenre_counter\n",
    "pio.write_html(fig, file='html/supergenre_counter.html', auto_open=True)"
   ]
  },
  {
   "cell_type": "markdown",
   "id": "5e7bf013",
   "metadata": {},
   "source": [
    "## Visualising all the songs with their supergenre\n",
    "I want to show all the songs by position and year of release with their genre. "
   ]
  },
  {
   "cell_type": "code",
   "execution_count": 63,
   "id": "3b24a565",
   "metadata": {},
   "outputs": [
    {
     "data": {
      "application/vnd.plotly.v1+json": {
       "config": {
        "plotlyServerURL": "https://plotly.com"
       },
       "data": [
        {
         "customdata": [
          [
           "Queen"
          ],
          [
           "Procol Harum"
          ],
          [
           "Eagles"
          ],
          [
           "Billy Joel"
          ],
          [
           "Golden Earring"
          ],
          [
           "Led Zeppelin"
          ],
          [
           "Pearl Jam"
          ],
          [
           "Queen"
          ],
          [
           "Pink Floyd"
          ],
          [
           "Di-rect"
          ],
          [
           "Deep Purple"
          ],
          [
           "Bruce Springsteen"
          ],
          [
           "Guns N' Roses"
          ],
          [
           "Dire Straits"
          ],
          [
           "Disturbed"
          ],
          [
           "Pink Floyd"
          ],
          [
           "Toto"
          ],
          [
           "David Bowie"
          ],
          [
           "Dire Straits"
          ],
          [
           "Pink Floyd"
          ],
          [
           "Nirvana"
          ],
          [
           "AC/DC"
          ],
          [
           "Pearl Jam"
          ],
          [
           "Guns N' Roses"
          ],
          [
           "John Lennon"
          ],
          [
           "Meat Loaf"
          ],
          [
           "Dire Straits"
          ],
          [
           "Phil Collins"
          ],
          [
           "The Cure"
          ],
          [
           "Queen"
          ],
          [
           "Fleetwood Mac"
          ],
          [
           "Linkin Park"
          ],
          [
           "Supertramp"
          ],
          [
           "Rage Against The Machine"
          ],
          [
           "The Rolling Stones"
          ],
          [
           "Golden Earring"
          ],
          [
           "Queen"
          ],
          [
           "Pearl Jam"
          ],
          [
           "The Beatles"
          ],
          [
           "U2"
          ],
          [
           "The Beach Boys"
          ],
          [
           "The Rolling Stones"
          ],
          [
           "Kensington"
          ],
          [
           "Radiohead"
          ],
          [
           "U2"
          ],
          [
           "Electric Light Orchestra"
          ],
          [
           "Queen & David Bowie"
          ],
          [
           "Supertramp"
          ],
          [
           "Pink Floyd"
          ],
          [
           "U2"
          ],
          [
           "Fleetwood Mac"
          ],
          [
           "George Michael & Queen"
          ],
          [
           "Muse"
          ],
          [
           "The Alan Parsons Project"
          ],
          [
           "Queen"
          ],
          [
           "The Beatles"
          ],
          [
           "Red Hot Chili Peppers"
          ],
          [
           "The Doors"
          ],
          [
           "AC/DC"
          ],
          [
           "Queen"
          ],
          [
           "The Rolling Stones"
          ],
          [
           "Dire Straits"
          ],
          [
           "Kensington"
          ],
          [
           "Golden Earring"
          ],
          [
           "Nothing But Thieves"
          ],
          [
           "Snow Patrol"
          ],
          [
           "The Rolling Stones"
          ],
          [
           "The Beatles"
          ],
          [
           "R.E.M."
          ],
          [
           "Queen"
          ],
          [
           "The Beatles"
          ],
          [
           "AC/DC"
          ],
          [
           "Creedence Clearwater Revival"
          ],
          [
           "Journey"
          ],
          [
           "Billy Joel"
          ],
          [
           "Fleetwood Mac"
          ],
          [
           "Golden Earring"
          ],
          [
           "Elvis Presley"
          ],
          [
           "U2"
          ],
          [
           "David Bowie"
          ],
          [
           "The Beatles"
          ],
          [
           "The Verve"
          ],
          [
           "Animals"
          ],
          [
           "The Cranberries"
          ],
          [
           "Foo Fighters"
          ],
          [
           "Oasis"
          ],
          [
           "The Moody Blues"
          ],
          [
           "The Killers"
          ],
          [
           "Muse"
          ],
          [
           "Depeche Mode"
          ],
          [
           "Red Hot Chili Peppers"
          ],
          [
           "U2"
          ],
          [
           "Nirvana"
          ],
          [
           "Oasis"
          ],
          [
           "Sting"
          ],
          [
           "Guns N' Roses"
          ],
          [
           "Bryan Adams"
          ],
          [
           "Anouk"
          ],
          [
           "Bon Jovi"
          ],
          [
           "Dire Straits"
          ],
          [
           "Bruce Springsteen"
          ],
          [
           "Sting"
          ],
          [
           "Herman Brood & His Wild Romance"
          ],
          [
           "Nick Cave & The Bad Seeds"
          ],
          [
           "Eagles"
          ],
          [
           "Queen"
          ],
          [
           "Paul Simon"
          ],
          [
           "Creedence Clearwater Revival"
          ],
          [
           "Earth, Wind & Fire"
          ],
          [
           "Lou Reed"
          ],
          [
           "Queen"
          ],
          [
           "Marillion"
          ],
          [
           "Deep Purple"
          ],
          [
           "Eagles"
          ],
          [
           "Led Zeppelin"
          ],
          [
           "Pearl Jam"
          ],
          [
           "Keane"
          ],
          [
           "Mary J. Blige & U2"
          ],
          [
           "Scorpions"
          ],
          [
           "Elvis Presley"
          ],
          [
           "Dire Straits"
          ],
          [
           "R.E.M."
          ],
          [
           "Bruce Springsteen"
          ],
          [
           "Live"
          ],
          [
           "U2"
          ],
          [
           "Radiohead"
          ],
          [
           "Creedence Clearwater Revival"
          ],
          [
           "Golden Earrings"
          ],
          [
           "Kayak"
          ],
          [
           "Foo Fighters"
          ],
          [
           "System Of A Down"
          ],
          [
           "Sting"
          ],
          [
           "Guns N' Roses"
          ],
          [
           "Aerosmith"
          ],
          [
           "Bruce Springsteen"
          ],
          [
           "Harry Styles"
          ],
          [
           "The Scene"
          ],
          [
           "John Miles"
          ],
          [
           "The Jimi Hendrix Experience"
          ],
          [
           "David Bowie"
          ],
          [
           "U2"
          ],
          [
           "The Cult"
          ],
          [
           "Linkin Park"
          ],
          [
           "Queen"
          ],
          [
           "Normaal"
          ],
          [
           "The Beatles"
          ],
          [
           "Jackson Browne"
          ],
          [
           "Evanescence"
          ],
          [
           "Editors"
          ],
          [
           "U2"
          ],
          [
           "Nirvana"
          ],
          [
           "Arctic Monkeys"
          ],
          [
           "Creedence Clearwater Revival"
          ],
          [
           "Queen"
          ],
          [
           "Bruce Springsteen"
          ],
          [
           "Kansas"
          ],
          [
           "Kings Of Leon"
          ],
          [
           "The Proclaimers"
          ],
          [
           "Pink Floyd"
          ],
          [
           "Phil Collins"
          ],
          [
           "Jeff Buckley"
          ],
          [
           "Bon Jovi"
          ],
          [
           "KISS"
          ],
          [
           "Golden Earring"
          ],
          [
           "The Police"
          ],
          [
           "Green Day"
          ],
          [
           "Elbow"
          ],
          [
           "Fleetwood Mac"
          ],
          [
           "Muse"
          ],
          [
           "U2"
          ],
          [
           "Led Zeppelin"
          ],
          [
           "The Police"
          ],
          [
           "Queens Of The Stone Age"
          ],
          [
           "Nirvana"
          ],
          [
           "Fleetwood Mac"
          ],
          [
           "Golden Earring"
          ],
          [
           "Guns N' Roses"
          ],
          [
           "Neil Young"
          ],
          [
           "White Stripes"
          ],
          [
           "Fleetwood Mac"
          ],
          [
           "Radiohead"
          ],
          [
           "Janis Joplin"
          ],
          [
           "Supertramp"
          ],
          [
           "Billy Joel"
          ],
          [
           "3 Doors Down"
          ],
          [
           "Genesis"
          ],
          [
           "The Rolling Stones"
          ],
          [
           "Neil Young"
          ],
          [
           "The Goo Goo Dolls"
          ],
          [
           "Joe Cocker"
          ],
          [
           "Jefferson Airplane"
          ],
          [
           "Normaal"
          ],
          [
           "The Scene"
          ],
          [
           "The Mark & Clark Band"
          ],
          [
           "Toto"
          ],
          [
           "Queen"
          ],
          [
           "The Rolling Stones"
          ],
          [
           "Soundgarden"
          ],
          [
           "AC/DC"
          ],
          [
           "Boston"
          ],
          [
           "Dire Straits"
          ],
          [
           "Phil Collins"
          ],
          [
           "Elvis Presley"
          ],
          [
           "The Waterboys"
          ],
          [
           "The Beatles"
          ],
          [
           "The Doors"
          ],
          [
           "Toto"
          ],
          [
           "The Who"
          ],
          [
           "Lynyrd Skynyrd"
          ],
          [
           "Queen"
          ],
          [
           "Green Day"
          ],
          [
           "Alice Cooper"
          ],
          [
           "Pink Floyd"
          ],
          [
           "Bruce Springsteen"
          ],
          [
           "Snow Patrol"
          ],
          [
           "Elvis Presley"
          ],
          [
           "Van Morrison"
          ],
          [
           "Neil Young"
          ],
          [
           "Foreigner"
          ],
          [
           "Kensington"
          ],
          [
           "ZZ Top"
          ],
          [
           "Imagine Dragons"
          ],
          [
           "Ultravox"
          ],
          [
           "The Alan Parsons Project"
          ],
          [
           "Eagles"
          ],
          [
           "Eagles"
          ],
          [
           "Meat Loaf"
          ],
          [
           "New Order"
          ],
          [
           "Bruce Springsteen"
          ],
          [
           "Pink Floyd"
          ],
          [
           "Anouk"
          ],
          [
           "Scorpions"
          ],
          [
           "Bruce Springsteen"
          ],
          [
           "Van Halen"
          ],
          [
           "The Beatles"
          ],
          [
           "Maroon 5"
          ],
          [
           "Queen"
          ],
          [
           "Guns N' Roses"
          ],
          [
           "Radiohead"
          ],
          [
           "Editors"
          ],
          [
           "The Doors"
          ],
          [
           "America"
          ],
          [
           "Guns N' Roses"
          ],
          [
           "Creedence Clearwater Revival"
          ],
          [
           "Normaal"
          ],
          [
           "Liquido"
          ],
          [
           "Foo Fighters"
          ],
          [
           "The Stranglers"
          ],
          [
           "Queen"
          ],
          [
           "Hero"
          ],
          [
           "The Boxer Rebellion"
          ],
          [
           "Red Hot Chili Peppers"
          ],
          [
           "The Police"
          ],
          [
           "Golden Earring"
          ],
          [
           "Tina Turner & David Bowie"
          ],
          [
           "White Lies"
          ],
          [
           "The Cranberries"
          ],
          [
           "London Grammar"
          ],
          [
           "Imagine Dragons"
          ],
          [
           "The Beatles"
          ],
          [
           "Status Quo"
          ],
          [
           "Lynyrd Skynyrd"
          ],
          [
           "Gotye ft. Kimbra"
          ],
          [
           "Joy Division"
          ],
          [
           "Chris Isaak"
          ],
          [
           "David Bowie"
          ],
          [
           "Muse"
          ],
          [
           "Nirvana"
          ],
          [
           "Elvis Presley"
          ],
          [
           "Nothing But Thieves"
          ],
          [
           "Muse"
          ],
          [
           "Pearl Jam"
          ],
          [
           "AC/DC"
          ],
          [
           "Muse"
          ],
          [
           "Queen"
          ],
          [
           "Earth, Wind & Fire"
          ],
          [
           "Kensington"
          ],
          [
           "Imagine Dragons"
          ],
          [
           "The Rolling Stones"
          ],
          [
           "Linkin Park"
          ],
          [
           "Fleetwood Mac"
          ],
          [
           "Melissa Etheridge"
          ],
          [
           "The Jimi Hendrix Experience"
          ],
          [
           "Bon Jovi"
          ],
          [
           "Anouk"
          ],
          [
           "David Bowie"
          ],
          [
           "U2"
          ],
          [
           "Pink Floyd"
          ],
          [
           "Talking Heads"
          ],
          [
           "Fleetwood Mac"
          ],
          [
           "Green Day"
          ],
          [
           "Fleetwood Mac"
          ],
          [
           "Tame Impala"
          ],
          [
           "The Kinks"
          ],
          [
           "Evanescence"
          ],
          [
           "The War On Drugs"
          ],
          [
           "Bon Jovi"
          ],
          [
           "Van Halen"
          ],
          [
           "The Beatles"
          ],
          [
           "Europe"
          ],
          [
           "De Staat"
          ],
          [
           "Pink Floyd"
          ],
          [
           "The Doors"
          ],
          [
           "Led Zeppelin"
          ],
          [
           "Talking Heads"
          ],
          [
           "Fleetwood Mac"
          ],
          [
           "Nothing But Thieves"
          ],
          [
           "The Beach Boys"
          ],
          [
           "Gorillaz"
          ],
          [
           "Toto"
          ],
          [
           "The Cure"
          ],
          [
           "U2"
          ],
          [
           "Joe Jackson"
          ],
          [
           "Meat Loaf"
          ],
          [
           "Aerosmith"
          ],
          [
           "INXS"
          ],
          [
           "Red Hot Chili Peppers"
          ],
          [
           "Neil Young"
          ],
          [
           "Van Morrison"
          ],
          [
           "Fleetwood Mac"
          ],
          [
           "Supertramp"
          ],
          [
           "Oasis"
          ],
          [
           "Heart"
          ],
          [
           "Live"
          ],
          [
           "Phil Collins"
          ],
          [
           "Fleetwood Mac"
          ],
          [
           "Billy Joel"
          ],
          [
           "Simply Red"
          ],
          [
           "Anouk"
          ],
          [
           "The Beatles"
          ],
          [
           "Don Henley"
          ],
          [
           "R.E.M."
          ],
          [
           "Tenacious D"
          ],
          [
           "Men At Work"
          ],
          [
           "The Beatles"
          ],
          [
           "Muse"
          ],
          [
           "Red Hot Chili Peppers"
          ],
          [
           "The Black Keys"
          ],
          [
           "Alice Cooper"
          ],
          [
           "10cc"
          ],
          [
           "The War On Drugs"
          ],
          [
           "Kensington"
          ],
          [
           "Bruce Springsteen"
          ],
          [
           "Blue Öyster Cult"
          ],
          [
           "Status Quo"
          ],
          [
           "Bruce Springsteen"
          ],
          [
           "Alanis Morissette"
          ],
          [
           "Pink Floyd"
          ],
          [
           "Arctic Monkeys"
          ],
          [
           "Sia"
          ],
          [
           "Crosby, Stills, Nash & Young"
          ],
          [
           "Sting"
          ],
          [
           "The Beatles"
          ],
          [
           "Kensington"
          ],
          [
           "Golden Earring"
          ],
          [
           "Herman Brood & His Wild Romance"
          ],
          [
           "The Beatles"
          ],
          [
           "Bryan Adams"
          ],
          [
           "10cc"
          ],
          [
           "Ram Jam"
          ],
          [
           "K's Choice"
          ],
          [
           "Alice In Chains"
          ],
          [
           "Joe Cocker"
          ],
          [
           "Golden Earring"
          ],
          [
           "AC/DC"
          ],
          [
           "Linkin Park"
          ],
          [
           "Mark Knopfler"
          ],
          [
           "Shocking Blue"
          ],
          [
           "Paul Simon"
          ],
          [
           "Elvis Presley"
          ],
          [
           "Bronski Beat"
          ],
          [
           "Tame Impala"
          ],
          [
           "Bastille"
          ],
          [
           "The Band"
          ],
          [
           "Queen"
          ],
          [
           "Genesis"
          ],
          [
           "Golden Earring"
          ],
          [
           "Focus"
          ],
          [
           "Eagles"
          ],
          [
           "The Cure"
          ],
          [
           "Dire Straits"
          ],
          [
           "Queen"
          ],
          [
           "Radiohead"
          ],
          [
           "Pink Floyd"
          ],
          [
           "Bruce Springsteen"
          ],
          [
           "The Rolling Stones"
          ],
          [
           "Skunk Anansie"
          ],
          [
           "Keane"
          ],
          [
           "Fish"
          ],
          [
           "Genesis"
          ],
          [
           "Triggerfinger"
          ],
          [
           "Crowded House"
          ],
          [
           "Iggy Pop"
          ],
          [
           "Supertramp"
          ],
          [
           "Eagles"
          ],
          [
           "Joe Jackson"
          ],
          [
           "Foo Fighters"
          ],
          [
           "Green Day"
          ],
          [
           "Red Hot Chili Peppers"
          ],
          [
           "Paul Simon"
          ],
          [
           "Rod Stewart"
          ],
          [
           "Imagine Dragons"
          ],
          [
           "Earth, Wind & Fire"
          ],
          [
           "Queen"
          ],
          [
           "Live"
          ],
          [
           "Fleetwood Mac"
          ],
          [
           "Whitesnake"
          ],
          [
           "Bruce Springsteen"
          ],
          [
           "Supertramp"
          ],
          [
           "The Killers"
          ],
          [
           "David Bowie"
          ],
          [
           "The Police"
          ],
          [
           "Uriah Heep"
          ],
          [
           "Gorillaz"
          ],
          [
           "Nickelback"
          ],
          [
           "Genesis"
          ],
          [
           "Iggy Pop"
          ],
          [
           "Arctic Monkeys"
          ],
          [
           "Marillion"
          ],
          [
           "Fischer-Z"
          ],
          [
           "Survivor"
          ],
          [
           "The Script"
          ],
          [
           "Nazareth"
          ],
          [
           "Bruce Springsteen"
          ],
          [
           "Talking Heads"
          ],
          [
           "The Rolling Stones"
          ],
          [
           "Harry Styles"
          ],
          [
           "David Bowie"
          ],
          [
           "Bryan Adams"
          ],
          [
           "Offspring"
          ],
          [
           "Crosby, Stills, Nash & Young"
          ],
          [
           "4 Non Blondes"
          ],
          [
           "Muse"
          ],
          [
           "Kane"
          ],
          [
           "Blur"
          ],
          [
           "Franz Ferdinand"
          ],
          [
           "Cockney Rebel"
          ],
          [
           "David Bowie"
          ],
          [
           "Joe Jackson"
          ],
          [
           "The Smiths"
          ],
          [
           "Green Day"
          ],
          [
           "Bon Jovi"
          ],
          [
           "Harry Styles"
          ],
          [
           "Red Hot Chili Peppers"
          ],
          [
           "The Cure"
          ],
          [
           "ZZ Top"
          ],
          [
           "Creedence Clearwater Revival"
          ],
          [
           "Imagine Dragons"
          ],
          [
           "Status Quo"
          ],
          [
           "Mark Knopfler & James Taylor"
          ],
          [
           "Bruce Springsteen"
          ],
          [
           "The Rolling Stones"
          ],
          [
           "Yes"
          ],
          [
           "ZZ Top"
          ],
          [
           "The Beatles"
          ],
          [
           "Nick Cave & Kylie Minogue"
          ],
          [
           "Mike Oldfield & Maggie Reilly"
          ],
          [
           "Bökkers"
          ],
          [
           "The Jimi Hendrix Experience"
          ],
          [
           "Dire Straits"
          ],
          [
           "Arcade Fire"
          ],
          [
           "Depeche Mode"
          ],
          [
           "Red Hot Chili Peppers"
          ],
          [
           "David Bowie & Mick Jagger"
          ],
          [
           "The Police"
          ],
          [
           "U2"
          ],
          [
           "Crowded House"
          ],
          [
           "Dexy's Midnight Runners"
          ],
          [
           "Creedence Clearwater Revival"
          ],
          [
           "Depeche Mode"
          ],
          [
           "Nirvana"
          ],
          [
           "Imagine Dragons"
          ],
          [
           "Red Hot Chili Peppers"
          ],
          [
           "David Bowie"
          ],
          [
           "Paul McCartney & Wings"
          ],
          [
           "Paul Weller"
          ],
          [
           "The Alan Parsons Project"
          ],
          [
           "Guns N' Roses"
          ],
          [
           "Elvis Presley"
          ],
          [
           "Lou Reed"
          ],
          [
           "Guns N' Roses"
          ],
          [
           "The War On Drugs"
          ],
          [
           "Queen"
          ],
          [
           "Manic Street Preachers"
          ],
          [
           "Normaal"
          ],
          [
           "Mike Oldfield"
          ],
          [
           "Iggy Pop & Kate Pierson"
          ],
          [
           "R.E.M."
          ],
          [
           "Venice"
          ],
          [
           "Elbow"
          ],
          [
           "Valensia"
          ],
          [
           "Elvis Presley"
          ],
          [
           "The Jimi Hendrix Experience"
          ],
          [
           "The Smashing Pumpkins"
          ],
          [
           "The Jimi Hendrix Experience"
          ],
          [
           "The Rolling Stones"
          ],
          [
           "Beth Hart & Joe Bonamassa"
          ],
          [
           "The Doors"
          ],
          [
           "Stone Temple Pilots"
          ],
          [
           "Genesis"
          ],
          [
           "Blondie"
          ],
          [
           "Twenty One Pilots"
          ],
          [
           "The Rolling Stones"
          ],
          [
           "Korn"
          ],
          [
           "David Bowie"
          ],
          [
           "The Beatles"
          ],
          [
           "Pearl Jam"
          ],
          [
           "Train"
          ],
          [
           "Creedence Clearwater Revival"
          ],
          [
           "Joe Cocker"
          ],
          [
           "The Beatles"
          ],
          [
           "The Cure"
          ],
          [
           "Manic Street Preachers"
          ],
          [
           "Supertramp"
          ],
          [
           "Supertramp"
          ],
          [
           "The Doobie Brothers"
          ],
          [
           "Crosby, Stills, Nash & Young"
          ],
          [
           "Queen"
          ],
          [
           "Dire Straits"
          ],
          [
           "Bruce Springsteen"
          ],
          [
           "Red Hot Chili Peppers"
          ],
          [
           "David Bowie"
          ],
          [
           "Killing Joke"
          ],
          [
           "Janis Joplin"
          ],
          [
           "Zucchero"
          ],
          [
           "Dire Straits"
          ],
          [
           "Phil Collins"
          ],
          [
           "Anouk"
          ],
          [
           "Live"
          ],
          [
           "George Baker Selection"
          ],
          [
           "Alice Cooper"
          ],
          [
           "Tori Amos"
          ],
          [
           "U2"
          ],
          [
           "Golden Earrings"
          ],
          [
           "Paul Simon"
          ],
          [
           "Sting"
          ],
          [
           "Midnight Oil"
          ],
          [
           "Bruce Springsteen"
          ],
          [
           "The Rolling Stones"
          ],
          [
           "Pink Floyd"
          ],
          [
           "Chuck Berry"
          ],
          [
           "Chicago"
          ],
          [
           "Di-rect"
          ],
          [
           "The Beatles"
          ],
          [
           "Queens Of The Stone Age"
          ],
          [
           "The Moody Blues"
          ],
          [
           "Sniff 'n The Tears"
          ],
          [
           "Radiohead"
          ],
          [
           "Bon Jovi"
          ],
          [
           "David Bowie"
          ],
          [
           "Nirvana"
          ],
          [
           "Simply Red"
          ],
          [
           "Roxy Music"
          ],
          [
           "Counting Crows"
          ],
          [
           "Temple Of The Dog"
          ],
          [
           "Queen"
          ],
          [
           "Scorpions"
          ],
          [
           "Status Quo"
          ],
          [
           "Supertramp"
          ],
          [
           "Emerson, Lake & Palmer"
          ],
          [
           "Lenny Kravitz"
          ],
          [
           "The War On Drugs"
          ],
          [
           "REO Speedwagon"
          ],
          [
           "Golden Earring"
          ],
          [
           "Limp Bizkit"
          ],
          [
           "Kansas"
          ],
          [
           "Anouk"
          ],
          [
           "Golden Earrings"
          ],
          [
           "Little River Band"
          ],
          [
           "Kings Of Leon"
          ],
          [
           "Thin Lizzy"
          ],
          [
           "Muse"
          ],
          [
           "The Black Keys"
          ],
          [
           "Rush"
          ],
          [
           "Tom Petty"
          ],
          [
           "Jethro Tull"
          ],
          [
           "Steppenwolf"
          ],
          [
           "Queen"
          ],
          [
           "Neil Young"
          ],
          [
           "Eagles"
          ],
          [
           "Earth & Fire"
          ],
          [
           "Talking Heads"
          ],
          [
           "U2"
          ],
          [
           "Elvis Presley"
          ],
          [
           "The Who"
          ],
          [
           "Split Enz"
          ],
          [
           "Creedence Clearwater Revival"
          ],
          [
           "Kodaline"
          ],
          [
           "Phil Collins"
          ],
          [
           "Green Day"
          ],
          [
           "Muse"
          ],
          [
           "Alanis Morissette"
          ],
          [
           "Muse"
          ],
          [
           "Kensington"
          ],
          [
           "Kaleo"
          ],
          [
           "The Beatles"
          ],
          [
           "The Beatles"
          ],
          [
           "R.E.M."
          ],
          [
           "Arctic Monkeys"
          ],
          [
           "Faith No More"
          ],
          [
           "Queen"
          ],
          [
           "Skunk Anansie"
          ],
          [
           "Arctic Monkeys"
          ],
          [
           "Harry Styles"
          ],
          [
           "Meat Loaf"
          ],
          [
           "Editors"
          ],
          [
           "Blondie"
          ],
          [
           "The Smashing Pumpkins"
          ],
          [
           "Normaal"
          ],
          [
           "Paul Simon"
          ],
          [
           "U2 & BB King"
          ],
          [
           "The Cranberries"
          ],
          [
           "Foo Fighters"
          ],
          [
           "David Bowie"
          ],
          [
           "The Doors"
          ],
          [
           "Kensington"
          ],
          [
           "The Clash"
          ],
          [
           "David Bowie & Pat Metheny Group"
          ],
          [
           "Toto"
          ],
          [
           "Led Zeppelin"
          ],
          [
           "Fleetwood Mac"
          ],
          [
           "Toto"
          ],
          [
           "Pat Benatar"
          ],
          [
           "Iron Butterfly"
          ],
          [
           "Heart"
          ],
          [
           "Janis Joplin"
          ],
          [
           "The Rolling Stones"
          ],
          [
           "3 Doors Down"
          ],
          [
           "Phil Collins"
          ],
          [
           "The Rolling Stones"
          ],
          [
           "The Jimi Hendrix Experience"
          ],
          [
           "Queen"
          ],
          [
           "Radiohead"
          ],
          [
           "Electric Light Orchestra"
          ],
          [
           "Creedence Clearwater Revival"
          ],
          [
           "The Rolling Stones"
          ],
          [
           "Snowy White"
          ],
          [
           "Keane"
          ],
          [
           "Anouk"
          ],
          [
           "David Bowie"
          ],
          [
           "Muse"
          ],
          [
           "Billy Joel"
          ],
          [
           "Queen"
          ],
          [
           "David Bowie"
          ],
          [
           "The Killers"
          ],
          [
           "Golden Earring"
          ],
          [
           "Bryan Adams"
          ],
          [
           "Golden Earring"
          ],
          [
           "Alanis Morissette"
          ],
          [
           "Paul McCartney & Wings"
          ],
          [
           "Keane"
          ],
          [
           "The Beatles"
          ],
          [
           "R.E.M."
          ],
          [
           "Meau"
          ],
          [
           "Snow Patrol"
          ],
          [
           "Alannah Myles"
          ],
          [
           "Nirvana"
          ],
          [
           "Meat Loaf"
          ],
          [
           "The Smiths"
          ],
          [
           "Robert Plant"
          ],
          [
           "The Police"
          ],
          [
           "Placebo"
          ],
          [
           "George Harrison"
          ],
          [
           "Rod Stewart"
          ],
          [
           "Brian May"
          ],
          [
           "R.E.M."
          ],
          [
           "Lenny Kravitz"
          ],
          [
           "Joe Cocker"
          ],
          [
           "Blink-182"
          ],
          [
           "The Fray"
          ],
          [
           "Creedence Clearwater Revival"
          ],
          [
           "Foo Fighters"
          ],
          [
           "White Lies"
          ],
          [
           "Fleetwood Mac"
          ],
          [
           "Billy Joel"
          ],
          [
           "Dire Straits"
          ],
          [
           "Mike & The Mechanics"
          ],
          [
           "Green Day"
          ],
          [
           "Thin Lizzy"
          ],
          [
           "Billy Joel"
          ],
          [
           "David Bowie"
          ],
          [
           "Snow Patrol"
          ],
          [
           "R.E.M."
          ],
          [
           "Crowded House"
          ],
          [
           "Jeff Wayne & Justin Hayward"
          ],
          [
           "The Hollies"
          ],
          [
           "Queen"
          ],
          [
           "Billy Joel"
          ],
          [
           "Queen"
          ],
          [
           "Queen"
          ],
          [
           "Bush"
          ],
          [
           "Fats Domino"
          ],
          [
           "Pearl Jam"
          ],
          [
           "Mud"
          ],
          [
           "Red Hot Chili Peppers"
          ],
          [
           "Armand"
          ],
          [
           "Earth & Fire"
          ],
          [
           "Joe Cocker"
          ],
          [
           "Kensington"
          ],
          [
           "Van Morrison"
          ],
          [
           "Lynyrd Skynyrd"
          ],
          [
           "The Doobie Brothers"
          ],
          [
           "Di-rect"
          ],
          [
           "Electric Light Orchestra"
          ],
          [
           "Extreme"
          ],
          [
           "Bruce Hornsby & The Range"
          ],
          [
           "R.E.M."
          ],
          [
           "Bökkers"
          ],
          [
           "Alice Cooper"
          ],
          [
           "The Babys"
          ],
          [
           "Status Quo"
          ],
          [
           "Queen"
          ],
          [
           "Led Zeppelin"
          ],
          [
           "The Script ft. Will.I.Am"
          ],
          [
           "Tom Petty & The Heartbreakers"
          ],
          [
           "Golden Earring"
          ],
          [
           "The The"
          ],
          [
           "The Hollies"
          ],
          [
           "Bon Jovi"
          ],
          [
           "The Beatles"
          ],
          [
           "U2 & Green Day"
          ],
          [
           "Steve Harley & Cockney Rebel"
          ],
          [
           "Imagine Dragons"
          ],
          [
           "Earth & Fire"
          ],
          [
           "Anouk"
          ],
          [
           "Mark Knopfler"
          ],
          [
           "Anouk"
          ],
          [
           "The Alan Parsons Project"
          ],
          [
           "The Doors"
          ],
          [
           "The Beatles"
          ],
          [
           "Herman Brood & His Wild Romance"
          ],
          [
           "Heart"
          ],
          [
           "Foo Fighters"
          ],
          [
           "Golden Earring"
          ],
          [
           "Foreigner"
          ],
          [
           "Keane"
          ],
          [
           "Gorki"
          ],
          [
           "Guns N' Roses"
          ],
          [
           "Live"
          ],
          [
           "Imagine Dragons"
          ],
          [
           "The Rolling Stones"
          ],
          [
           "Scott McKenzie"
          ],
          [
           "The Beatles"
          ],
          [
           "Bruce Springsteen"
          ],
          [
           "The Beach Boys"
          ],
          [
           "Foster The People"
          ],
          [
           "Fleetwood Mac"
          ],
          [
           "The Shadows"
          ],
          [
           "The Script"
          ],
          [
           "Queen"
          ],
          [
           "Creed"
          ],
          [
           "KISS"
          ],
          [
           "Monkees"
          ],
          [
           "Elvis Presley"
          ],
          [
           "The Beatles"
          ],
          [
           "Therapy?"
          ],
          [
           "Elvis Presley"
          ],
          [
           "The Moody Blues"
          ],
          [
           "Paul McCartney & Frog Chorus"
          ],
          [
           "The Rolling Stones"
          ],
          [
           "Creedence Clearwater Revival"
          ],
          [
           "Tom Petty & The Heartbreakers"
          ],
          [
           "Opus"
          ],
          [
           "Kensington"
          ],
          [
           "Patti Smith Group"
          ],
          [
           "Chic"
          ],
          [
           "Simply Red"
          ],
          [
           "The Pointer Sisters"
          ],
          [
           "Chicago"
          ],
          [
           "Sting"
          ],
          [
           "U2"
          ],
          [
           "Yes"
          ],
          [
           "Brainbox"
          ],
          [
           "The Buoys"
          ],
          [
           "Deep Purple"
          ],
          [
           "Phil Collins"
          ],
          [
           "Alice In Chains"
          ],
          [
           "The Smashing Pumpkins"
          ],
          [
           "Editors"
          ],
          [
           "MGMT"
          ],
          [
           "Nina Hagen"
          ],
          [
           "Elvis Presley"
          ],
          [
           "Paul Simon"
          ],
          [
           "Bruce Springsteen"
          ],
          [
           "Traveling Wilburys"
          ],
          [
           "Herman Brood & His Wild Romance"
          ],
          [
           "Van Halen"
          ],
          [
           "The Beatles"
          ],
          [
           "Jeff Wayne & Justin Hayward"
          ],
          [
           "Anouk"
          ],
          [
           "Elvis Presley"
          ],
          [
           "The Police"
          ],
          [
           "Ramones"
          ],
          [
           "LP"
          ],
          [
           "Ten Years After"
          ],
          [
           "Oasis"
          ],
          [
           "Joe Cocker & Jennifer Warnes"
          ],
          [
           "Sex Pistols"
          ],
          [
           "David Bowie"
          ],
          [
           "Queen"
          ],
          [
           "Roger Glover & Guests"
          ],
          [
           "The Doors"
          ],
          [
           "Guns N' Roses"
          ],
          [
           "Cheap Trick"
          ],
          [
           "Smash Mouth"
          ],
          [
           "Van Halen"
          ],
          [
           "Muse"
          ],
          [
           "Nirvana"
          ],
          [
           "Supertramp"
          ],
          [
           "America"
          ],
          [
           "Jefferson Airplane"
          ],
          [
           "Manu Chao"
          ],
          [
           "Phil Collins"
          ],
          [
           "Bruce Springsteen"
          ],
          [
           "Mink Deville"
          ],
          [
           "Pixies"
          ],
          [
           "Rod Stewart"
          ],
          [
           "Stereophonics"
          ],
          [
           "Paul McCartney & Wings"
          ],
          [
           "Queen"
          ],
          [
           "Q65"
          ],
          [
           "The Who"
          ],
          [
           "Queens Of The Stone Age"
          ],
          [
           "Neil Young"
          ],
          [
           "Gary Moore & Phil Lynott"
          ],
          [
           "Japan"
          ],
          [
           "Elbow"
          ],
          [
           "Twenty One Pilots"
          ],
          [
           "Sandy Coast"
          ],
          [
           "Led Zeppelin"
          ],
          [
           "B-52's"
          ],
          [
           "OneRepublic"
          ],
          [
           "Elvis Presley"
          ],
          [
           "The Black Keys"
          ],
          [
           "Toto"
          ],
          [
           "U2"
          ],
          [
           "Ph.D."
          ],
          [
           "Van Morrison"
          ],
          [
           "Elvis Presley"
          ],
          [
           "Pulp"
          ],
          [
           "Genesis"
          ],
          [
           "Steve Miller Band"
          ],
          [
           "Billy Joel"
          ],
          [
           "The Rolling Stones"
          ],
          [
           "The Who"
          ],
          [
           "The Kinks"
          ],
          [
           "Creedence Clearwater Revival"
          ],
          [
           "Sweet"
          ],
          [
           "The Beatles"
          ],
          [
           "Kings Of Leon"
          ],
          [
           "U2"
          ],
          [
           "Whitesnake"
          ],
          [
           "Boston"
          ],
          [
           "The Rolling Stones"
          ],
          [
           "The Beatles"
          ],
          [
           "Led Zeppelin"
          ],
          [
           "Offspring"
          ],
          [
           "The Temper Trap"
          ],
          [
           "The Who"
          ],
          [
           "Di-rect"
          ],
          [
           "Dire Straits"
          ],
          [
           "U2"
          ],
          [
           "KISS"
          ],
          [
           "The Beatles"
          ],
          [
           "Gossip"
          ],
          [
           "Sting & Cheb Mami"
          ],
          [
           "Bruce Springsteen"
          ],
          [
           "Simply Red"
          ],
          [
           "Walk The Moon"
          ],
          [
           "Guano Apes"
          ],
          [
           "Genesis"
          ],
          [
           "INXS"
          ],
          [
           "Of Monsters And Men"
          ],
          [
           "Ugly Kid Joe"
          ],
          [
           "Ultravox"
          ],
          [
           "Yes"
          ],
          [
           "Kane"
          ],
          [
           "Crowded House"
          ],
          [
           "Wolfmother"
          ],
          [
           "The Rolling Stones"
          ],
          [
           "Editors"
          ],
          [
           "The Cure"
          ],
          [
           "The Script"
          ],
          [
           "Crash Test Dummies"
          ],
          [
           "Outfield"
          ],
          [
           "Don Henley"
          ],
          [
           "Procol Harum"
          ],
          [
           "Fleetwood Mac"
          ],
          [
           "Genesis"
          ],
          [
           "Pearl Jam"
          ],
          [
           "Counting Crows"
          ],
          [
           "Manfred Mann's Earth Band"
          ],
          [
           "Steely Dan"
          ],
          [
           "The Smiths"
          ],
          [
           "The Verve"
          ],
          [
           "Green Day"
          ],
          [
           "U2"
          ],
          [
           "The Beatles"
          ],
          [
           "Earth, Wind & Fire"
          ],
          [
           "The Police"
          ],
          [
           "Stereophonics"
          ],
          [
           "The Babys"
          ],
          [
           "The Doors"
          ],
          [
           "Muse"
          ],
          [
           "Ellen Foley"
          ],
          [
           "Fischer-Z"
          ],
          [
           "Deep Purple"
          ],
          [
           "Foo Fighters"
          ],
          [
           "10cc"
          ],
          [
           "The Who"
          ],
          [
           "Brainbox"
          ],
          [
           "Simply Red"
          ],
          [
           "Jeroen van Koningsbrugge"
          ],
          [
           "Dire Straits"
          ],
          [
           "The Smashing Pumpkins"
          ],
          [
           "Joe Jackson"
          ],
          [
           "Rare Earth"
          ],
          [
           "Fleetwood Mac"
          ],
          [
           "Meat Loaf"
          ],
          [
           "Vitesse"
          ],
          [
           "Bruce Springsteen"
          ],
          [
           "Roxy Music"
          ],
          [
           "Kane"
          ],
          [
           "Saybia"
          ],
          [
           "Plain White T's"
          ],
          [
           "Billy Joel"
          ],
          [
           "Steve Miller Band"
          ],
          [
           "Emerson, Lake & Palmer"
          ],
          [
           "The Beach Boys"
          ],
          [
           "Kings Of Leon"
          ],
          [
           "Lou Reed"
          ],
          [
           "INXS"
          ],
          [
           "Dr. Hook & The Medicine Show"
          ],
          [
           "Muse"
          ],
          [
           "David Bowie"
          ],
          [
           "Nirvana"
          ],
          [
           "Culture Club"
          ],
          [
           "The Clash"
          ],
          [
           "Bruce Springsteen"
          ],
          [
           "Stevie Nicks"
          ],
          [
           "Roxy Music"
          ],
          [
           "Bruce Springsteen"
          ],
          [
           "Foreigner"
          ],
          [
           "The Rolling Stones"
          ],
          [
           "Slade"
          ],
          [
           "Cher"
          ],
          [
           "Panic! At The Disco"
          ],
          [
           "Living Colour"
          ],
          [
           "Anouk"
          ],
          [
           "U2"
          ],
          [
           "Meat Loaf"
          ],
          [
           "Chris Isaak"
          ],
          [
           "John Lennon"
          ],
          [
           "Focus"
          ],
          [
           "Queens Of The Stone Age"
          ],
          [
           "Supertramp"
          ],
          [
           "Alanis Morissette"
          ],
          [
           "Van Halen"
          ],
          [
           "The Kinks"
          ],
          [
           "Blind Melon"
          ],
          [
           "The Hollies"
          ],
          [
           "Rolling Stones"
          ],
          [
           "Panic! At The Disco"
          ],
          [
           "The Doobie Brothers"
          ],
          [
           "Roxy Music"
          ],
          [
           "Sex Pistols"
          ],
          [
           "The Beatles"
          ]
         ],
         "hovertemplate": "<b>%{hovertext}</b><br><br>Supergenre=Rock<br>Year of release=%{x}<br>Position=%{y}<br>Artist=%{customdata[0]}<extra></extra>",
         "hovertext": [
          "Bohemian Rhapsody",
          "A Whiter Shade Of Pale",
          "Hotel California",
          "Piano Man",
          "Radar Love",
          "Stairway To Heaven",
          "Black",
          "Love Of My Life",
          "Wish You Were Here",
          "Soldier On",
          "Child In Time",
          "The River",
          "November Rain",
          "Brothers In Arms",
          "The Sound Of Silence",
          "Comfortably Numb",
          "Africa",
          "Heroes",
          "Sultans Of Swing",
          "Shine On You Crazy Diamond (Pts. 1-5)",
          "Smells Like Teen Spirit",
          "Thunderstruck",
          "Just Breathe",
          "Sweet Child O' Mine",
          "Imagine",
          "Paradise By The Dashboard Light",
          "Telegraph Road",
          "In The Air Tonight",
          "A Forest",
          "Innuendo",
          "Go Your Own Way",
          "In The End",
          "School",
          "Killing In The Name",
          "Paint It Black",
          "When The Lady Smiles",
          "Don't Stop Me Now",
          "Alive",
          "Let It Be",
          "Sunday Bloody Sunday",
          "God Only Knows",
          "Sympathy For The Devil",
          "Sorry",
          "Creep",
          "With Or Without You",
          "Mr. Blue Sky",
          "Under Pressure",
          "Fool's Overture",
          "Another Brick In The Wall",
          "One",
          "The Chain",
          "Somebody To Love (Live)",
          "Uprising",
          "Old And Wise",
          "Somebody To Love",
          "Here Comes The Sun",
          "Under The Bridge",
          "Riders On The Storm",
          "Highway To Hell",
          "Who Wants To Live Forever",
          "Angie",
          "Private Investigations",
          "Uncharted",
          "Another 45 Miles",
          "Impossible (Orchestral Version Live at Abbey Road)",
          "Chasing Cars",
          "Gimme Shelter",
          "Blackbird",
          "Losing My Religion",
          "The Show Must Go On",
          "Hey Jude",
          "Whole Lotta Rosie",
          "Have You Ever Seen The Rain",
          "Don't Stop Believin'",
          "Goodnight Saigon",
          "Dreams",
          "Twilight Zone",
          "Suspicious Minds",
          "Where The Streets Have No Name",
          "Space Oddity",
          "Yesterday",
          "Bitter Sweet Symphony",
          "House Of The Rising Sun",
          "Zombie",
          "The Pretender",
          "Don't Look Back In Anger",
          "Nights In White Satin",
          "Mr. Brightside",
          "Knights Of Cydonia",
          "Enjoy The Silence",
          "Californication",
          "I Still Haven't Found What I'm Looking For",
          "Come As You Are",
          "Wonderwall",
          "Fragile",
          "Paradise City",
          "Summer Of '69",
          "Nobody's Wife",
          "Bed Of Roses",
          "Money For Nothing",
          "Streets Of Philadelphia",
          "Fields Of Gold",
          "Saturday Night",
          "Into My Arms",
          "The Last Resort",
          "Killer Queen",
          "Graceland",
          "Fortunate Son",
          "September",
          "Perfect Day",
          "I Want To Break Free",
          "Kayleigh",
          "Smoke On The Water",
          "Desperado",
          "Whole Lotta Love",
          "Jeremy",
          "Somewhere Only We Know",
          "One",
          "Wind Of Change",
          "In The Ghetto",
          "Walk Of Life",
          "Everybody Hurts",
          "Dancing In The Dark",
          "Lightning Crashes",
          "The Unforgettable Fire",
          "Street Spirit (Fade Out)",
          "I Put A Spell On You",
          "Just A Little Bit Of Peace In My Heart",
          "Ruthless Queen",
          "Everlong",
          "Chop Suey!",
          "Englishman In New York",
          "Knocking On Heaven's Door",
          "Dream On",
          "I'm On Fire",
          "Sign Of The Times",
          "Iedereen Is Van De Wereld",
          "Music",
          "All Along The Watchtower",
          "Starman",
          "Bad",
          "She Sells Sanctuary",
          "Numb",
          "Radio Ga Ga",
          "Deurdonderen (Live)",
          "While My Guitar Gently Weeps",
          "The Load Out/Stay",
          "My Immortal",
          "Papillon",
          "Beautiful Day",
          "Lithium",
          "Do I Wanna Know?",
          "Bad Moon Rising",
          "We Will Rock You",
          "Born To Run",
          "Dust In The Wind",
          "Sex On Fire",
          "I'm Gonna Be (500 Miles)",
          "Echoes",
          "Against All Odds (Take A Look At Me Now)",
          "Hallelujah",
          "Livin' On A Prayer",
          "I Was Made For Lovin' You",
          "Going To The Run",
          "Every Breath You Take",
          "Boulevard Of Broken Dreams",
          "One Day Like This",
          "Everywhere",
          "Psycho",
          "Pride (In The Name Of Love)",
          "Kashmir",
          "Roxanne",
          "No One Knows",
          "The Man Who Sold The World (unplugged)",
          "Sara",
          "Long Blond Animal",
          "Welcome To The Jungle",
          "Heart Of Gold",
          "Seven Nation Army",
          "Landslide",
          "Karma Police",
          "Me And Bobby McGee",
          "The Logical Song",
          "She's Always A Woman",
          "Kryptonite",
          "Mama",
          "You Can't Always Get What You Want",
          "Old Man",
          "Iris",
          "With A Little Help From My Friends",
          "White Rabbit",
          "Oerend Hard",
          "Blauw",
          "Worn Down Piano",
          "Hold The Line",
          "These Are The Days Of Our Lives",
          "(I Can't Get No) Satisfaction",
          "Black Hole Sun",
          "Back In Black",
          "More Than A Feeling",
          "Romeo And Juliet",
          "Another Day In Paradise",
          "Can't Help Falling In Love",
          "The Whole Of The Moon",
          "A Day In The Life",
          "The End",
          "Stop Loving You",
          "Baba O'Riley",
          "Free Bird",
          "Another One Bites The Dust",
          "Basket Case",
          "Poison",
          "Time",
          "Tougher Than The Rest",
          "Run",
          "Always On My Mind",
          "Brown Eyed Girl",
          "Rockin' In The Free World",
          "I Want To Know What Love Is",
          "Streets",
          "La Grange",
          "Radioactive",
          "Vienna",
          "Eye In The Sky",
          "One Of These Nights",
          "Take It Easy",
          "Bat Out Of Hell",
          "Blue Monday",
          "Born In The U.S.A.",
          "Money",
          "Lost",
          "Still Loving You",
          "My Hometown",
          "Jump",
          "Eleanor Rigby",
          "Memories",
          "We Are The Champions",
          "Estranged",
          "Paranoid Android",
          "Smokers Outside The Hospital Doors",
          "L.A. Woman",
          "A Horse With No Name",
          "Patience",
          "Who'll Stop The Rain",
          "De Boer Dat Is De Keerl",
          "Narcotic",
          "Learn To Fly",
          "Golden Brown",
          "Crazy Little Thing Called Love",
          "Toen Ik Je Zag",
          "Diamonds",
          "Snow (Hey Oh)",
          "Message In A Bottle",
          "She Flies On Strange Wings",
          "Tonight (Live)",
          "Time To Give",
          "Linger",
          "Strong",
          "Believer",
          "Penny Lane",
          "Whatever You Want",
          "Sweet Home Alabama",
          "Somebody That I Used To Know",
          "Love Will Tear Us Apart",
          "Wicked Game",
          "Life On Mars",
          "Starlight",
          "Where Did You Sleep Last Night (unplugged)",
          "My Boy",
          "Amsterdam",
          "Plug In Baby",
          "Even Flow",
          "You Shook Me All Night Long",
          "Supermassive Black Hole",
          "Hammer To Fall",
          "Fantasy",
          "War",
          "Demons",
          "Wild Horses",
          "Breaking The Habit",
          "Little Lies",
          "Like The Way I Do",
          "Hey Joe",
          "It's My Life",
          "Birds",
          "Let's Dance",
          "New Year's Day",
          "The Great Gig In The Sky",
          "Slippery People (Live)",
          "Songbird",
          "Wake Me Up When September Ends",
          "Albatross",
          "Let It Happen",
          "Lola (Live)",
          "Bring Me To Life",
          "Under The Pressure",
          "Always",
          "Runnin' With The Devil",
          "Come Together",
          "The Final Countdown",
          "Witch Doctor",
          "High Hopes",
          "Light My Fire",
          "Immigrant Song",
          "Psycho Killer",
          "Tusk",
          "Sorry",
          "Good Vibrations",
          "Feel Good Inc.",
          "Rosanna",
          "Lullaby",
          "I Will Follow (Live)",
          "Is She Really Going Out With Him? (Live)",
          "I'd Do Anything For Love (But I Won't Do That)",
          "I Don't Want To Miss A Thing",
          "Never Tear Us Apart",
          "Scar Tissue",
          "Like A Hurricane",
          "Have I Told You Lately",
          "Rhiannon (Will You Ever Win)",
          "Dreamer",
          "Champagne Supernova",
          "Alone",
          "Overcome",
          "You'll Be In My Heart",
          "Don't Stop",
          "Leningrad",
          "Holding Back The Years",
          "Michel",
          "Strawberry Fields Forever",
          "The Boys Of Summer",
          "Nightswimming",
          "Tribute",
          "Down Under",
          "Get Back",
          "Bliss",
          "Otherside",
          "Little Black Submarines",
          "Halo Of Flies",
          "Dreadlock Holiday",
          "Thinking Of A Place",
          "Do I Ever",
          "Thunder Road",
          "Don't Fear The Reaper",
          "Roll Over Lay Down (Live)",
          "Badlands",
          "Ironic",
          "Hey You",
          "I Bet You Look Good On The Dancefloor",
          "Chandelier",
          "Our House",
          "Shape Of My Heart",
          "Something",
          "Riddles",
          "Back Home",
          "Never Be Clever",
          "The Long And Winding Road",
          "(Everything I Do) I Do It For You",
          "I'm Not In Love",
          "Black Betty",
          "Not An Addict",
          "Would",
          "You Are So Beautiful",
          "Hold Me Now",
          "Let There Be Rock",
          "One More Light",
          "What It Is",
          "Venus",
          "You Can Call Me Al",
          "Jailhouse Rock",
          "Smalltown Boy",
          "The Less I Know The Better",
          "Pompeii",
          "The Weight",
          "I Want It All",
          "Follow You Follow Me",
          "Weekend Love",
          "Hocus Pocus",
          "New Kid In Town",
          "Friday I'm In Love",
          "Tunnel Of Love",
          "A Kind Of Magic",
          "Exit Music (For A Film)",
          "Us And Them",
          "Trapped (Live)",
          "Start Me Up",
          "Weak",
          "Sovereign Light Cafe",
          "A Gentleman's Excuse Me",
          "Firth Of Fifth",
          "I Follow Rivers",
          "Don't Dream It's Over",
          "The Passenger",
          "Take The Long Way Home",
          "Lyin' Eyes",
          "Be My Number Two",
          "Walk",
          "American Idiot",
          "Dark Necessities",
          "Diamonds On The Soles Of Her Shoes",
          "Sailing",
          "Natural",
          "Boogie Wonderland",
          "Fat Bottomed Girls",
          "I Alone",
          "Need Your Love So Bad",
          "Here I Go Again",
          "Glory Days",
          "Give A Little Bit",
          "Human",
          "China Girl",
          "Every Little Thing She Does Is Magic",
          "Easy Livin'",
          "Clint Eastwood",
          "How You Remind Me",
          "Land Of Confusion",
          "Lust For Life",
          "When The Sun Goes Down",
          "Lavender",
          "So Long",
          "Eye Of The Tiger",
          "The Man Who Can't Be Moved",
          "Love Hurts",
          "Jungleland",
          "Once In A Lifetime",
          "She's A Rainbow",
          "Golden",
          "Rebel Rebel",
          "Heaven",
          "Self Esteem",
          "Teach Your Children",
          "What's Up",
          "Unintended",
          "Rain Down On Me",
          "Song 2",
          "Take Me Out",
          "Sebastian",
          "Wild Is The Wind",
          "Real Men",
          "There Is a Light That Never Goes Out",
          "Good Riddance (Time Of Your Life)",
          "You Give Love A Bad Name",
          "Watermelon Sugar",
          "Road Trippin'",
          "Boys Don't Cry",
          "Sharp Dressed Man",
          "I Heard It Through The Grapevine",
          "Thunder",
          "Down Down",
          "Sailing To Philadelphia",
          "Jersey Girl (Live)",
          "Brown Sugar",
          "Owner Of A Lonely Heart",
          "Gimme All Your Lovin'",
          "Norwegian Wood",
          "Where The Wild Roses Grow",
          "Moonlight Shadow",
          "Iederene Hef Een Reden",
          "Voodoo Child (Slight Return)",
          "On Every Street",
          "Everything Now",
          "Just Can't Get Enough (Live)",
          "Can't Stop",
          "Dancing In The Street",
          "So Lonely",
          "All I Want Is You",
          "Four Seasons In One Day",
          "Come On Eileen",
          "Suzie Q (Part I)",
          "Personal Jesus",
          "Heart-Shaped Box",
          "Whatever It Takes",
          "Give It Away",
          "Sound And Vision",
          "Band On The Run",
          "You Do Something To Me",
          "The Turn Of A Friendly Card",
          "Civil War",
          "I Just Can't Help Believin'",
          "Walk On The Wild Side",
          "Don't Cry",
          "Red Eyes",
          "You're My Best Friend",
          "If You Tolerate This Your Children Will Be Next",
          "Ik Bun Moar Een Eenvoudige Boerenlul",
          "Tubular Bells",
          "Candy",
          "Man On The Moon",
          "The Family Tree",
          "Lippy Kids",
          "Gaia",
          "Burning Love",
          "Little Wing",
          "Disarm",
          "The Wind Cries Mary",
          "Miss You",
          "I'll Take Care Of You",
          "People Are Strange",
          "Plush",
          "Jesus He Knows Me",
          "Denis",
          "Stressed Out",
          "Waiting On A Friend",
          "Freak On A Leash",
          "Lazarus",
          "Help!",
          "Better Man",
          "Drops Of Jupiter (Tell Me)",
          "Proud Mary",
          "Unchain My Heart",
          "The Fool On The Hill",
          "Close To Me",
          "Motorcycle Emptiness",
          "Crime Of The Century",
          "Breakfast In America",
          "Listen To The Music",
          "Almost Cut My Hair",
          "Breakthru",
          "Your Latest Trick",
          "The Rising",
          "Dani California",
          "Ashes To Ashes",
          "Love Like Blood",
          "Cry Baby",
          "Il Volo",
          "Why Worry",
          "Can't Stop Loving You",
          "One Word",
          "The Dolphin's Cry",
          "Little Green Bag",
          "How You Gonna See Me Now",
          "Winter",
          "Ordinary Love",
          "I've Just Lost Somebody",
          "50 Ways To Leave Your Lover",
          "Russians",
          "Beds Are Burning",
          "Waiting On A Sunny Day",
          "Fool To Cry",
          "One Of These Days",
          "Johnny B. Goode",
          "If You Leave Me Now",
          "Times Are Changing",
          "Sgt. Pepper’s Lonely Hearts Club Band",
          "Go With The Flow",
          "Question",
          "Driver's Seat",
          "No Surprises",
          "Wanted (Dead Or Alive)",
          "Absolute Beginners",
          "About A Girl (Unplugged)",
          "If You Don't Know Me By Now",
          "Avalon",
          "Mr. Jones",
          "Hunger Strike",
          "Bicycle Race",
          "Send Me An Angel",
          "Rockin' All Over The World",
          "Goodbye Stranger",
          "Peter Gunn Theme",
          "Let Love Rule",
          "Pain",
          "Keep On Loving You",
          "The Devil Made Me Do It",
          "Behind Blue Eyes",
          "Carry On Wayward Son",
          "Girl",
          "Sound Of The Screaming Day",
          "It's A Long Way There",
          "Use Somebody",
          "Whisky In The Jar",
          "Time Is Running Out",
          "Lonely Boy",
          "Spirit Of Radio",
          "Free Fallin'",
          "Locomotive Breath",
          "Born To Be Wild",
          "Tie Your Mother Down",
          "Harvest Moon",
          "Tequila Sunrise",
          "Storm And Thunder",
          "Road To Nowhere",
          "Running To Stand Still",
          "Love Me Tender",
          "Pinball Wizard",
          "Message To My Girl",
          "Long As I Can See The Light",
          "All I Want",
          "I Wish It Would Rain Down",
          "21 Guns",
          "Madness",
          "You Oughta Know",
          "Resistance",
          "All For Nothing",
          "Way Down We Go",
          "Lucy In The Sky With Diamonds",
          "Michelle",
          "Shiny Happy People",
          "Why'd You Only Call Me When You're High?",
          "Epic",
          "Friends Will Be Friends",
          "Hedonism",
          "Fluorescent Adolescent",
          "Adore You",
          "You Took The Words Right Out Of My Mouth",
          "Munich",
          "Heart Of Glass",
          "1979",
          "Alie",
          "Homeless",
          "When Love Comes To Town",
          "Ode To My Family",
          "Best Of You",
          "Changes",
          "Roadhouse Blues",
          "Bridges",
          "London Calling",
          "This Is Not America",
          "Mushanga",
          "Since I’ve Been Loving You",
          "Oh Well (Part I)",
          "Pamela",
          "Love Is A Battlefield",
          "In A Gadda Da Vida",
          "Barracuda",
          "Mercedes Benz",
          "Ruby Tuesday",
          "Here Without You",
          "You Can't Hurry Love",
          "Honky Tonk Women",
          "Purple Haze",
          "'39",
          "Fake Plastic Trees",
          "Don't Bring Me Down",
          "Down On The Corner",
          "Jumpin' Jack Flash",
          "Bird Of Paradise",
          "Bedshaped",
          "For Bitter Or Worse",
          "Golden Years",
          "Undisclosed Desires",
          "We Didn't Start The Fire",
          "Spread Your Wings",
          "Ziggy Stardust",
          "Somebody Told Me",
          "I Can't Sleep Without You (Live)",
          "Run To You",
          "Bombay",
          "Uninvited",
          "Mull Of Kintyre",
          "Everybody's Changing",
          "All You Need Is Love",
          "The One I Love",
          "Dat heb jij gedaan",
          "Just Say Yes",
          "Black Velvet",
          "In Bloom",
          "Two Out Of Three Ain't Bad",
          "Bigmouth Strikes Again",
          "Big Log",
          "Walking On The Moon",
          "Pure Morning",
          "My Sweet Lord",
          "Maggie May",
          "Too Much Love Will Kill You",
          "Drive",
          "Are You Gonna Go My Way",
          "You Can Leave Your Hat On",
          "All The Small Things",
          "How To Save A Life",
          "Born On The Bayou",
          "Times Like These",
          "Farewell To The Fairground",
          "Seven Wonders",
          "Scenes From An Italian Restaurant",
          "So Far Away",
          "The Living Years",
          "Holiday",
          "The Boys Are Back In Town",
          "New York State Of Mind",
          "The Man Who Sold The World",
          "Shut Your Eyes",
          "Find The River",
          "Weather With You",
          "The Eve Of The War",
          "He Ain't Heavy, He's My Brother",
          "You Don't Fool Me",
          "Uptown Girl",
          "Thank God It's Christmas",
          "One Vision",
          "Glycerine",
          "Blueberry Hill",
          "Daughter",
          "Dynamite",
          "By The Way",
          "Ben Ik Te Min",
          "Memories",
          "N'Oubliez Jamais",
          "Home Again",
          "Moondance",
          "Simple Man",
          "What A Fool Believes",
          "Devil Don't Care",
          "Livin' Thing",
          "More Than Words",
          "The Way It Is",
          "It's The End Of The World As We Know It",
          "Kold Bloed",
          "School's Out",
          "Everytime I Think Of You",
          "In The Army Now",
          "Good Old-Fashioned Lover Boy",
          "Dazed And Confused",
          "Hall Of Fame",
          "Learning To Fly",
          "Buddy Joe",
          "Uncertain Smile",
          "The Air That I Breathe",
          "In These Arms",
          "When I'm Sixty-Four",
          "The Saints Are Coming",
          "Make Me Smile (Come Up And See Me)",
          "Bad Liar",
          "Weekend",
          "Jerusalem",
          "Going Home (Theme From Local Hero)",
          "R U Kiddin' Me",
          "Don't Answer Me",
          "Love Her Madly",
          "In My Life",
          "I Love You Like I Love Myself",
          "Crazy On You",
          "All My Life",
          "Johnny Make Believe",
          "Cold As Ice",
          "Bend And Break",
          "Mia",
          "Live And Let Die",
          "Run To The Water",
          "On Top Of The World",
          "As Tears Go By",
          "San Francisco (Be Sure To Wear Flowers In Your Hair)",
          "Don't Let Me Down",
          "Human Touch",
          "Sloop John B",
          "Pumped Up Kicks",
          "Big Love",
          "Apache",
          "If You Could See Me Now",
          "Heaven For Everyone",
          "With Arms Wide Open",
          "Sure Know Something",
          "I'm A Believer",
          "(You're The) Devil In Disguise",
          "I Am The Walrus",
          "Diane",
          "An American Trilogy",
          "Tuesday Afternoon",
          "We All Stand Together",
          "Lady Jane",
          "Lookin' Out My Back Door",
          "Mary Jane's Last Dance",
          "Live Is Life",
          "What Lies Ahead",
          "Because The Night",
          "Le Freak",
          "Stars",
          "Fire",
          "25 Or 6 To 4",
          "Moon Over Bourbon Street",
          "City Of Blinding Lights",
          "Roundabout",
          "Summertime",
          "Give Up Your Guns",
          "Black Night",
          "Take Me Home",
          "Rooster",
          "Bullet With Butterfly Wings",
          "The Racing Rats",
          "Kids",
          "Unbeschreiblich Weiblich",
          "Are You Lonesome Tonight",
          "Late In The Evening",
          "Hungry Heart",
          "Handle With Care",
          "Still Believe",
          "Why Can't This Be Love",
          "She's Leaving Home",
          "Forever Autumn",
          "Three Days In A Row",
          "Guitar Man",
          "Don't Stand So Close To Me",
          "Blitzkrieg Bop",
          "Lost On You",
          "I'm Going Home",
          "Live Forever",
          "Up Where We Belong",
          "God Save The Queen",
          "Blackstar",
          "Save Me",
          "Love Is All",
          "Touch Me",
          "You Could Be Mine",
          "I Want You To Want Me (Live)",
          "All Star",
          "Panama",
          "Feeling Good",
          "Polly",
          "Hide In Your Shell",
          "Ventura Highway",
          "Somebody To Love",
          "Me Gustas Tu",
          "Something Happened On The Way To Heaven",
          "Racing In The Street",
          "Spanish Stroll",
          "Monkey Gone To Heaven",
          "I Don't Want To Talk About It",
          "Maybe Tomorrow",
          "Live And Let Die",
          "It's A Beautiful Day",
          "The Life I Live",
          "Overture (Tommy)",
          "Make It Wit Chu",
          "Harvest",
          "Out In The Fields",
          "Nightporter",
          "Magnificent (She Says)",
          "Heathens",
          "The Eyes Of Jenny",
          "Black Dog",
          "Love Shack",
          "Counting Stars",
          "Blue Suede Shoes",
          "Gold On The Ceiling",
          "I'll Be Over You",
          "Angel Of Harlem",
          "I Won't Let You Down",
          "Into The Mystic",
          "Return To Sender",
          "Common People",
          "Home By The Sea",
          "Fly Like An Eagle",
          "Vienna",
          "Under My Thumb",
          "See Me, Feel Me",
          "Waterloo Sunset",
          "Up Around The Bend",
          "Fox On The Run",
          "A Hard Day's Night",
          "Pyro",
          "Stuck In A Moment You Can't Get Out Of",
          "Is This Love",
          "Don't Look Back",
          "Midnight Rambler",
          "Yellow Submarine",
          "Rock And Roll",
          "Pretty Fly (For A White Guy)",
          "Sweet Disposition",
          "Won't Get Fooled Again",
          "Wild Hearts",
          "Water Of Love",
          "Vertigo",
          "Detroit Rock City",
          "Twist And Shout",
          "Heavy Cross",
          "Desert Rose",
          "Fire (Live)",
          "Sunrise",
          "Shut Up And Dance",
          "Open Your Eyes",
          "Invisible Touch",
          "Original Sin",
          "Little Talks",
          "Cats In The Cradle",
          "Dancing With Tears In My Eyes",
          "Close To The Edge",
          "Damn Those Eyes",
          "Into Temptation",
          "Woman",
          "Beast Of Burden",
          "An End Has A Start",
          "Lovesong",
          "Breakeven",
          "Mmm Mmm Mmm Mmm",
          "Your Love",
          "New York Minute",
          "Homburg",
          "You Make Lovin' Fun",
          "No Son Of Mine",
          "Rearviewmirror",
          "Accidentally In Love",
          "Blinded By The Light",
          "Do It Again",
          "How Soon Is Now",
          "The Drugs Don't Work",
          "When I Come Around",
          "Gloria (Live)",
          "Ob-La-Di, Ob-La-Da",
          "Let's Groove",
          "Can't Stand Losing You",
          "Dakota",
          "Isn't It Time",
          "Break On Through (To The Other Side)",
          "Mercy",
          "We Belong To The Night",
          "The Worker",
          "Woman From Tokyo",
          "My Hero (Live)",
          "The Wall Street Shuffle",
          "My Generation",
          "Down Man",
          "Fairground",
          "Wit Licht",
          "Calling Elvis",
          "Tonight, Tonight",
          "Steppin' Out",
          "Get Ready",
          "Never Going Back Again",
          "For Crying Out Loud",
          "Rosalyn",
          "Working On A Dream",
          "Love Is The Drug",
          "No Surrender",
          "I Surrender",
          "Hey There Delilah",
          "Honesty",
          "The Joker",
          "Lucky Man",
          "Tears In The Morning",
          "Back Down South",
          "Sweet Jane",
          "Need You Tonight",
          "Sylvia's Mother",
          "Sing For Absolution",
          "Fame",
          "All Apologies",
          "Karma Chameleon",
          "Should I Stay Or Should I Go?",
          "Brilliant Disguise",
          "Edge Of Seventeen",
          "More Than This",
          "Secret Garden",
          "That Was Yesterday",
          "Time Is On My Side",
          "Merry Xmas Everybody",
          "If I Could Turn Back Time",
          "High Hopes",
          "Love Rears Its Ugly Head",
          "Sacrifice",
          "One Tree Hill",
          "Heaven Can Wait",
          "Blue Hotel",
          "Working Class Hero",
          "Sylvia",
          "I Sat By The Ocean",
          "It's Raining Again",
          "Thank U",
          "Ain't Talkin' 'bout Love",
          "Sunny Afternoon",
          "No Rain",
          "Long Cool Woman (In A Black Dress)",
          "Little Red Rooster",
          "I Write Sins Not Tragedies",
          "Long Train Running",
          "Jealous Guy",
          "Anarchy In The Uk",
          "I Want To Hold Your Hand"
         ],
         "legendgroup": "Rock",
         "marker": {
          "color": "#636efa",
          "symbol": "circle"
         },
         "mode": "markers",
         "name": "Rock",
         "showlegend": true,
         "type": "scattergl",
         "x": [
          1975,
          1967,
          1977,
          1974,
          1973,
          1971,
          1992,
          1975,
          1975,
          2020,
          1970,
          1981,
          1992,
          1985,
          2016,
          1979,
          1982,
          1976,
          1978,
          1975,
          1991,
          1990,
          2009,
          1987,
          1971,
          1978,
          1982,
          1981,
          1980,
          1991,
          1977,
          2000,
          1974,
          1992,
          1966,
          1984,
          1979,
          1992,
          1970,
          1985,
          1966,
          1973,
          2016,
          1992,
          1987,
          1978,
          1981,
          1977,
          1979,
          1992,
          1977,
          1993,
          2009,
          1982,
          1976,
          1969,
          1991,
          1971,
          1979,
          1986,
          1973,
          1982,
          2019,
          1969,
          2020,
          2006,
          1969,
          1968,
          1991,
          1991,
          1968,
          1978,
          1971,
          1981,
          1983,
          1977,
          1982,
          1969,
          1987,
          1969,
          1965,
          1997,
          1964,
          1994,
          2007,
          1996,
          1968,
          2005,
          2006,
          1990,
          2000,
          1987,
          1991,
          1995,
          1988,
          1989,
          1990,
          1997,
          1993,
          1985,
          1994,
          1993,
          1978,
          1996,
          1976,
          1974,
          1986,
          1969,
          1979,
          1972,
          1984,
          1985,
          1973,
          1973,
          1969,
          1991,
          2004,
          2006,
          1991,
          1969,
          1985,
          1993,
          1985,
          1995,
          1984,
          1994,
          1972,
          1968,
          1979,
          1997,
          2001,
          1988,
          1992,
          1973,
          1985,
          2017,
          1991,
          1976,
          1968,
          1972,
          1984,
          1986,
          2003,
          1984,
          1982,
          1968,
          1977,
          2003,
          2009,
          2000,
          1991,
          2013,
          1969,
          1977,
          1975,
          1978,
          2008,
          1988,
          1971,
          1984,
          1994,
          1986,
          1979,
          1991,
          1983,
          2004,
          2008,
          1987,
          2015,
          1984,
          1975,
          1979,
          2002,
          1994,
          1980,
          1980,
          1987,
          1972,
          2003,
          1975,
          1997,
          1971,
          1979,
          1978,
          2000,
          1983,
          1969,
          1972,
          1999,
          1968,
          1967,
          1977,
          1991,
          1977,
          1979,
          1991,
          1965,
          1994,
          1980,
          1977,
          1980,
          1989,
          1961,
          1986,
          1967,
          1967,
          1988,
          1971,
          1974,
          1980,
          1994,
          1989,
          1973,
          1987,
          2004,
          1972,
          1967,
          1989,
          1984,
          2014,
          1973,
          2012,
          1981,
          1982,
          1975,
          1972,
          1977,
          1983,
          1985,
          1973,
          2005,
          1987,
          1986,
          1984,
          1966,
          2019,
          1977,
          1994,
          1997,
          2007,
          1971,
          1972,
          1989,
          1970,
          1982,
          1998,
          1999,
          1982,
          1979,
          1997,
          2013,
          2006,
          1979,
          1971,
          1988,
          2018,
          1993,
          2014,
          2017,
          1967,
          1979,
          1974,
          2011,
          1980,
          1991,
          1973,
          2006,
          1994,
          1975,
          2017,
          2001,
          1991,
          1980,
          2006,
          1984,
          1978,
          2014,
          2014,
          1971,
          2004,
          1987,
          1989,
          1967,
          2000,
          2013,
          1983,
          1983,
          1972,
          1985,
          1977,
          2005,
          1969,
          2015,
          1980,
          2003,
          2014,
          1994,
          1978,
          1969,
          1986,
          2014,
          1994,
          1967,
          1971,
          1978,
          1979,
          2017,
          1966,
          2005,
          1982,
          1989,
          1982,
          1988,
          1993,
          1997,
          1988,
          1999,
          1977,
          1989,
          1976,
          1974,
          1996,
          1987,
          2001,
          1999,
          1977,
          1989,
          1985,
          2000,
          1967,
          1985,
          1992,
          2003,
          1982,
          1969,
          2001,
          2000,
          2011,
          1973,
          1978,
          2017,
          2016,
          1975,
          1976,
          1975,
          1978,
          1996,
          1979,
          2005,
          2013,
          1970,
          1993,
          1969,
          2015,
          1970,
          1979,
          1970,
          1991,
          1975,
          1978,
          1996,
          1992,
          1974,
          1994,
          1977,
          2016,
          2000,
          1969,
          1986,
          1957,
          1984,
          2015,
          2013,
          1968,
          1989,
          1978,
          1979,
          1971,
          1977,
          1992,
          1980,
          1986,
          1997,
          1973,
          1985,
          1981,
          1995,
          2012,
          1990,
          1973,
          2012,
          1987,
          1976,
          1979,
          1975,
          1984,
          2011,
          2004,
          2016,
          1986,
          1975,
          2018,
          1979,
          1978,
          1995,
          1968,
          1987,
          1985,
          1977,
          2008,
          1983,
          1981,
          1973,
          2001,
          2001,
          1986,
          1977,
          2006,
          1985,
          1980,
          1982,
          2008,
          1976,
          1975,
          1981,
          1967,
          2020,
          1974,
          1985,
          1995,
          1970,
          1993,
          2009,
          2002,
          1997,
          2003,
          1973,
          1976,
          1982,
          1986,
          1997,
          1986,
          2020,
          2000,
          1986,
          1985,
          1973,
          2017,
          1975,
          2000,
          1986,
          1971,
          1983,
          1984,
          1965,
          1995,
          1983,
          2016,
          1968,
          1991,
          2017,
          1985,
          2002,
          1985,
          1979,
          1988,
          1992,
          1982,
          1968,
          1990,
          1993,
          2017,
          1992,
          1977,
          1974,
          1995,
          1980,
          1990,
          1971,
          1973,
          1991,
          2013,
          1976,
          1998,
          1978,
          1974,
          1990,
          1992,
          1999,
          2011,
          1993,
          1972,
          1967,
          1993,
          1967,
          1978,
          2011,
          1967,
          1993,
          1992,
          1978,
          2016,
          1981,
          1998,
          2016,
          1965,
          1994,
          2001,
          1969,
          1987,
          1967,
          1985,
          1992,
          1974,
          1979,
          1972,
          1970,
          1989,
          1985,
          2002,
          2006,
          1980,
          1985,
          1971,
          1996,
          1985,
          2002,
          2005,
          1999,
          1969,
          1979,
          1992,
          2013,
          1968,
          1976,
          1985,
          1988,
          2003,
          1976,
          1971,
          1958,
          1976,
          2009,
          1967,
          2003,
          1970,
          1980,
          1997,
          1987,
          1986,
          1993,
          1989,
          1982,
          1994,
          1991,
          1978,
          1991,
          1977,
          1979,
          1980,
          1989,
          2017,
          1981,
          1982,
          2004,
          1976,
          2004,
          1967,
          1976,
          2008,
          1973,
          2003,
          2011,
          1980,
          1989,
          1972,
          1968,
          1977,
          1991,
          1973,
          1971,
          1985,
          1987,
          1956,
          1969,
          1984,
          1970,
          2012,
          1990,
          2009,
          2012,
          1996,
          2009,
          2014,
          2016,
          1967,
          1966,
          1991,
          2013,
          1989,
          1986,
          1997,
          2007,
          2019,
          1979,
          2005,
          1979,
          1996,
          1977,
          1986,
          1989,
          1994,
          2005,
          1971,
          1970,
          2017,
          1979,
          1985,
          1988,
          1970,
          1969,
          1988,
          1984,
          1970,
          1977,
          1970,
          1967,
          2004,
          1982,
          1969,
          1967,
          1975,
          1995,
          1979,
          1969,
          1968,
          1984,
          2004,
          2009,
          1976,
          2009,
          1989,
          1978,
          1972,
          2004,
          1992,
          1985,
          1976,
          1999,
          1977,
          2004,
          1967,
          1987,
          2021,
          2009,
          1990,
          1991,
          1977,
          1986,
          1983,
          1979,
          1998,
          1970,
          1971,
          1992,
          1992,
          1993,
          1986,
          1999,
          2007,
          1972,
          2003,
          2009,
          1987,
          1977,
          1985,
          1989,
          2005,
          1976,
          1976,
          1970,
          2007,
          1992,
          1991,
          1978,
          1969,
          1996,
          1983,
          1984,
          1985,
          1994,
          1957,
          1993,
          1974,
          2002,
          1967,
          1972,
          1997,
          2012,
          1970,
          1973,
          1978,
          2019,
          1976,
          1991,
          1986,
          1987,
          2019,
          1972,
          1979,
          1986,
          1976,
          1969,
          2012,
          1991,
          1972,
          1984,
          1974,
          1993,
          1967,
          2006,
          1975,
          2018,
          1979,
          2005,
          1983,
          1999,
          1984,
          1971,
          1965,
          1979,
          1976,
          2002,
          1994,
          1977,
          2005,
          1992,
          1991,
          2000,
          2013,
          1966,
          1967,
          1969,
          1992,
          1966,
          2011,
          1987,
          1960,
          2013,
          1995,
          1999,
          1979,
          1966,
          1963,
          1967,
          1995,
          1972,
          1968,
          1985,
          1966,
          1970,
          1993,
          1985,
          2019,
          1978,
          1978,
          1991,
          1979,
          1970,
          1985,
          2005,
          1972,
          1969,
          1972,
          1970,
          1985,
          1992,
          1995,
          2008,
          2007,
          1979,
          1961,
          1980,
          1980,
          1988,
          1978,
          1987,
          1967,
          1978,
          2009,
          1968,
          1980,
          1976,
          2016,
          1971,
          1994,
          1982,
          1979,
          2015,
          1980,
          1975,
          1969,
          1991,
          1979,
          1999,
          1984,
          2001,
          1991,
          1974,
          1972,
          1967,
          2001,
          1990,
          1975,
          1977,
          1989,
          1977,
          2003,
          1973,
          1995,
          1966,
          1969,
          2008,
          1972,
          1985,
          1980,
          2016,
          2016,
          1981,
          1971,
          1989,
          2013,
          1956,
          2011,
          1986,
          1988,
          1981,
          1970,
          1962,
          1995,
          1983,
          1976,
          1977,
          1966,
          1970,
          1967,
          1970,
          1975,
          1964,
          2010,
          2000,
          1987,
          1978,
          1969,
          1966,
          1971,
          1999,
          2010,
          1971,
          2020,
          1978,
          2004,
          1976,
          1963,
          2009,
          2000,
          1986,
          2003,
          2014,
          1997,
          1986,
          1984,
          2012,
          1993,
          1984,
          1972,
          1999,
          1989,
          2005,
          1978,
          2007,
          1989,
          2009,
          1993,
          1986,
          1989,
          1967,
          1978,
          1991,
          1993,
          2004,
          1976,
          1972,
          1984,
          1997,
          1995,
          1983,
          1969,
          1981,
          1979,
          2005,
          1977,
          1967,
          2015,
          1979,
          1979,
          1973,
          2006,
          1974,
          1965,
          1969,
          1995,
          2015,
          1991,
          1995,
          1982,
          1970,
          1977,
          1978,
          1982,
          2008,
          1976,
          2009,
          2004,
          2007,
          1978,
          1973,
          1971,
          1970,
          2011,
          1974,
          1987,
          1972,
          2003,
          1975,
          1993,
          1983,
          1991,
          1987,
          1982,
          1982,
          1995,
          1985,
          1965,
          1973,
          1989,
          2018,
          1990,
          1998,
          1987,
          1979,
          1987,
          1970,
          1972,
          2013,
          1982,
          1998,
          1978,
          1966,
          1993,
          1971,
          1965,
          2005,
          1973,
          1981,
          1976,
          1964
         ],
         "xaxis": "x",
         "y": [
          1,
          3,
          4,
          5,
          6,
          7,
          9,
          12,
          13,
          14,
          15,
          16,
          17,
          18,
          19,
          22,
          23,
          24,
          25,
          29,
          30,
          31,
          32,
          33,
          34,
          35,
          36,
          37,
          40,
          42,
          45,
          46,
          47,
          48,
          50,
          53,
          57,
          58,
          59,
          61,
          62,
          63,
          64,
          66,
          67,
          68,
          69,
          71,
          73,
          74,
          77,
          78,
          79,
          80,
          81,
          82,
          84,
          87,
          88,
          89,
          91,
          93,
          94,
          95,
          97,
          98,
          100,
          101,
          103,
          105,
          106,
          107,
          108,
          109,
          110,
          111,
          112,
          113,
          114,
          119,
          120,
          121,
          122,
          125,
          126,
          127,
          129,
          130,
          134,
          138,
          141,
          142,
          143,
          146,
          150,
          153,
          154,
          155,
          157,
          158,
          162,
          163,
          166,
          167,
          168,
          169,
          171,
          175,
          176,
          179,
          180,
          181,
          183,
          184,
          185,
          187,
          193,
          195,
          197,
          198,
          199,
          200,
          201,
          202,
          206,
          209,
          214,
          216,
          219,
          220,
          225,
          226,
          229,
          230,
          231,
          234,
          235,
          236,
          237,
          239,
          240,
          241,
          242,
          243,
          244,
          247,
          249,
          250,
          252,
          253,
          257,
          258,
          259,
          263,
          269,
          270,
          271,
          274,
          276,
          277,
          280,
          281,
          282,
          283,
          285,
          289,
          290,
          295,
          297,
          298,
          299,
          300,
          302,
          311,
          312,
          313,
          314,
          317,
          321,
          325,
          327,
          329,
          331,
          332,
          333,
          337,
          338,
          339,
          340,
          343,
          344,
          345,
          346,
          351,
          354,
          355,
          357,
          359,
          360,
          365,
          369,
          373,
          375,
          377,
          378,
          379,
          380,
          383,
          384,
          386,
          387,
          389,
          392,
          393,
          394,
          396,
          397,
          399,
          400,
          401,
          402,
          406,
          407,
          408,
          409,
          411,
          416,
          417,
          421,
          422,
          423,
          425,
          427,
          428,
          429,
          430,
          431,
          437,
          439,
          449,
          450,
          451,
          454,
          456,
          464,
          465,
          466,
          468,
          469,
          471,
          474,
          475,
          477,
          478,
          479,
          487,
          488,
          490,
          494,
          495,
          496,
          497,
          498,
          499,
          500,
          501,
          502,
          503,
          509,
          512,
          513,
          515,
          517,
          519,
          523,
          524,
          527,
          528,
          531,
          533,
          534,
          537,
          538,
          540,
          541,
          542,
          546,
          547,
          550,
          553,
          556,
          557,
          558,
          559,
          560,
          561,
          562,
          565,
          566,
          567,
          568,
          569,
          570,
          574,
          575,
          577,
          582,
          583,
          584,
          589,
          592,
          594,
          596,
          597,
          598,
          601,
          602,
          604,
          605,
          608,
          612,
          613,
          614,
          616,
          617,
          618,
          619,
          621,
          622,
          626,
          630,
          631,
          634,
          635,
          638,
          640,
          643,
          645,
          651,
          656,
          657,
          659,
          664,
          666,
          667,
          669,
          670,
          675,
          676,
          681,
          682,
          684,
          689,
          691,
          694,
          697,
          698,
          699,
          703,
          705,
          707,
          708,
          715,
          716,
          719,
          723,
          724,
          729,
          731,
          734,
          735,
          737,
          738,
          740,
          741,
          743,
          746,
          748,
          750,
          751,
          755,
          761,
          762,
          763,
          764,
          765,
          766,
          767,
          771,
          775,
          777,
          778,
          779,
          780,
          781,
          784,
          785,
          794,
          795,
          796,
          797,
          798,
          800,
          801,
          802,
          807,
          808,
          809,
          813,
          814,
          821,
          823,
          824,
          825,
          828,
          830,
          832,
          833,
          834,
          836,
          837,
          839,
          841,
          842,
          844,
          845,
          847,
          852,
          853,
          858,
          859,
          860,
          861,
          862,
          863,
          865,
          866,
          867,
          868,
          870,
          871,
          872,
          873,
          880,
          881,
          887,
          888,
          889,
          890,
          891,
          895,
          897,
          898,
          899,
          900,
          901,
          902,
          903,
          906,
          908,
          910,
          912,
          914,
          915,
          918,
          920,
          921,
          922,
          924,
          926,
          927,
          928,
          930,
          931,
          932,
          933,
          935,
          936,
          937,
          939,
          940,
          941,
          942,
          947,
          949,
          950,
          956,
          958,
          966,
          967,
          968,
          969,
          971,
          972,
          975,
          977,
          978,
          982,
          983,
          984,
          985,
          987,
          989,
          992,
          994,
          996,
          997,
          998,
          999,
          1001,
          1002,
          1008,
          1010,
          1012,
          1013,
          1017,
          1018,
          1020,
          1023,
          1024,
          1025,
          1026,
          1027,
          1029,
          1030,
          1031,
          1032,
          1033,
          1034,
          1036,
          1037,
          1038,
          1043,
          1046,
          1050,
          1051,
          1052,
          1053,
          1056,
          1057,
          1062,
          1063,
          1067,
          1068,
          1070,
          1073,
          1075,
          1077,
          1078,
          1082,
          1083,
          1084,
          1085,
          1086,
          1087,
          1090,
          1094,
          1096,
          1100,
          1101,
          1102,
          1103,
          1106,
          1109,
          1110,
          1111,
          1113,
          1119,
          1122,
          1123,
          1124,
          1125,
          1127,
          1129,
          1133,
          1135,
          1138,
          1140,
          1141,
          1147,
          1150,
          1151,
          1152,
          1153,
          1154,
          1155,
          1156,
          1158,
          1162,
          1164,
          1165,
          1169,
          1177,
          1182,
          1185,
          1186,
          1188,
          1189,
          1190,
          1192,
          1195,
          1196,
          1197,
          1198,
          1202,
          1205,
          1206,
          1208,
          1209,
          1210,
          1212,
          1213,
          1215,
          1216,
          1217,
          1218,
          1219,
          1220,
          1223,
          1225,
          1228,
          1230,
          1234,
          1235,
          1236,
          1238,
          1241,
          1242,
          1243,
          1245,
          1246,
          1247,
          1248,
          1250,
          1254,
          1255,
          1262,
          1263,
          1266,
          1271,
          1273,
          1275,
          1276,
          1277,
          1279,
          1281,
          1285,
          1289,
          1292,
          1293,
          1295,
          1296,
          1297,
          1298,
          1299,
          1300,
          1301,
          1304,
          1305,
          1306,
          1308,
          1309,
          1314,
          1318,
          1319,
          1322,
          1323,
          1324,
          1327,
          1333,
          1339,
          1341,
          1342,
          1345,
          1348,
          1350,
          1351,
          1353,
          1360,
          1362,
          1363,
          1371,
          1372,
          1378,
          1379,
          1384,
          1388,
          1398,
          1400,
          1402,
          1403,
          1410,
          1411,
          1414,
          1415,
          1418,
          1424,
          1425,
          1426,
          1434,
          1437,
          1441,
          1443,
          1444,
          1445,
          1446,
          1447,
          1448,
          1450,
          1451,
          1453,
          1456,
          1457,
          1458,
          1459,
          1460,
          1461,
          1463,
          1466,
          1469,
          1470,
          1471,
          1473,
          1484,
          1485,
          1486,
          1488,
          1489,
          1490,
          1495,
          1496,
          1498,
          1499,
          1500,
          1501,
          1502,
          1504,
          1507,
          1508,
          1511,
          1513,
          1515,
          1517,
          1523,
          1528,
          1529,
          1530,
          1531,
          1533,
          1535,
          1544,
          1546,
          1548,
          1551,
          1553,
          1557,
          1558,
          1559,
          1565,
          1570,
          1571,
          1574,
          1579,
          1580,
          1581,
          1584,
          1585,
          1590,
          1591,
          1593,
          1594,
          1596,
          1598,
          1599,
          1600,
          1603,
          1604,
          1606,
          1608,
          1610,
          1614,
          1615,
          1616,
          1617,
          1618,
          1619,
          1621,
          1623,
          1624,
          1626,
          1629,
          1630,
          1631,
          1632,
          1634,
          1635,
          1637,
          1639,
          1641,
          1644,
          1651,
          1656,
          1657,
          1664,
          1669,
          1670,
          1671,
          1672,
          1673,
          1678,
          1680,
          1681,
          1682,
          1684,
          1686,
          1687,
          1688,
          1689,
          1691,
          1692,
          1693,
          1694,
          1695,
          1696,
          1698,
          1703,
          1704,
          1710,
          1711,
          1713,
          1717,
          1718,
          1721,
          1722,
          1725,
          1727,
          1732,
          1733,
          1734,
          1735,
          1738,
          1739,
          1743,
          1744,
          1747,
          1748,
          1749,
          1756,
          1759,
          1760,
          1762,
          1763,
          1766,
          1767,
          1768,
          1769,
          1770,
          1771,
          1774,
          1775,
          1776,
          1777,
          1779,
          1780,
          1781,
          1782,
          1783,
          1784,
          1785,
          1787,
          1790,
          1792,
          1793,
          1794,
          1796,
          1797,
          1798,
          1799,
          1800,
          1802,
          1804,
          1812,
          1813,
          1816,
          1820,
          1824,
          1825,
          1826,
          1827,
          1832,
          1833,
          1836,
          1838,
          1839,
          1845,
          1846,
          1847,
          1848,
          1851,
          1853,
          1855,
          1858,
          1859,
          1860,
          1865,
          1867,
          1873,
          1877,
          1881,
          1882,
          1883,
          1884,
          1886,
          1887,
          1891,
          1894,
          1897,
          1899,
          1901,
          1902,
          1903,
          1904,
          1906,
          1909,
          1911,
          1912,
          1914,
          1916,
          1920,
          1921,
          1923,
          1925,
          1929,
          1930,
          1931,
          1933,
          1934,
          1936,
          1937,
          1938,
          1940,
          1941,
          1942,
          1943,
          1946,
          1956,
          1958,
          1959,
          1960,
          1961,
          1963,
          1964,
          1967,
          1970,
          1971,
          1972,
          1975,
          1979,
          1981,
          1982,
          1983,
          1984,
          1985,
          1993,
          1995,
          1997,
          1998
         ],
         "yaxis": "y"
        },
        {
         "customdata": [
          [
           "Danny Vera"
          ],
          [
           "Johnny Cash"
          ],
          [
           "Dolly Parton"
          ],
          [
           "Johnny Cash"
          ],
          [
           "Kenny Rogers & Dolly Parton"
          ],
          [
           "Chris Stapleton"
          ],
          [
           "Johnny Cash"
          ],
          [
           "Johnny Cash"
          ],
          [
           "Johnny Cash"
          ],
          [
           "Danny Vera"
          ],
          [
           "The Common Linnets"
          ],
          [
           "Danny Vera"
          ],
          [
           "Danny Vera"
          ],
          [
           "Dolly Parton"
          ],
          [
           "Dolly Parton"
          ],
          [
           "John Denver & Placido Domingo"
          ],
          [
           "Taylor Swift"
          ],
          [
           "Taylor Swift"
          ],
          [
           "Johnny Cash"
          ],
          [
           "Johnny Cash"
          ],
          [
           "Willie Nelson"
          ],
          [
           "Danny Vera"
          ],
          [
           "Taylor Swift"
          ],
          [
           "Johnny Cash"
          ],
          [
           "Joe Buck"
          ],
          [
           "Chris Stapleton"
          ],
          [
           "Lady Antebellum"
          ],
          [
           "Taylor Swift"
          ]
         ],
         "hovertemplate": "<b>%{hovertext}</b><br><br>Supergenre=Country<br>Year of release=%{x}<br>Position=%{y}<br>Artist=%{customdata[0]}<extra></extra>",
         "hovertext": [
          "Roller Coaster",
          "Hurt",
          "Jolene",
          "Ring Of Fire",
          "Islands In The Stream",
          "Tennessee Whiskey",
          "I Walk The Line",
          "Folsom Prison Blues (Live)",
          "A Boy Named Sue",
          "Hold On To Let Go",
          "Calm After The Storm",
          "The Weight",
          "Pressure Makes Diamonds (2020)",
          "9 To 5",
          "I Will Always Love You",
          "Perhaps Love",
          "All Too Well (Taylor's Version)",
          "Shake It Off",
          "San Quentin",
          "A Thing Called Love",
          "Always On My Mind",
          "The Devil's Son",
          "Blank Space",
          "One",
          "The Way You Take Time",
          "Cold",
          "Need You Now",
          "Cowboy Like Me"
         ],
         "legendgroup": "Country",
         "marker": {
          "color": "#EF553B",
          "symbol": "circle"
         },
         "mode": "markers",
         "name": "Country",
         "showlegend": true,
         "type": "scattergl",
         "x": [
          2019,
          2002,
          1974,
          1963,
          1983,
          2015,
          1957,
          1968,
          1969,
          2020,
          2014,
          2020,
          2020,
          1981,
          1983,
          1981,
          2021,
          2014,
          1969,
          1972,
          1984,
          2013,
          2015,
          2000,
          2019,
          2020,
          2010,
          2020
         ],
         "xaxis": "x",
         "y": [
          2,
          41,
          99,
          267,
          403,
          414,
          424,
          485,
          620,
          649,
          713,
          792,
          851,
          877,
          1105,
          1174,
          1282,
          1328,
          1335,
          1358,
          1361,
          1455,
          1605,
          1726,
          1753,
          1868,
          1924,
          1965
         ],
         "yaxis": "y"
        },
        {
         "customdata": [
          [
           "Metallica"
          ],
          [
           "Metallica"
          ],
          [
           "Metallica"
          ],
          [
           "Metallica"
          ],
          [
           "Floor Jansen & Henk Poort"
          ],
          [
           "Volbeat"
          ],
          [
           "Black Sabbath"
          ],
          [
           "Within Temptation"
          ],
          [
           "Iron Maiden"
          ],
          [
           "Metallica"
          ],
          [
           "Motörhead"
          ],
          [
           "Metallica"
          ],
          [
           "Volbeat"
          ],
          [
           "Metallica"
          ],
          [
           "Nightwish"
          ],
          [
           "Iron Maiden"
          ],
          [
           "Slayer"
          ],
          [
           "Queensrÿche"
          ],
          [
           "Within Temptation"
          ],
          [
           "Metallica"
          ],
          [
           "Nightwish"
          ],
          [
           "Iron Maiden"
          ],
          [
           "Iron Maiden"
          ],
          [
           "Metallica"
          ],
          [
           "Within Temptation"
          ],
          [
           "The Gathering"
          ],
          [
           "Ozzy Osbourne"
          ],
          [
           "Within Temptation"
          ],
          [
           "Metallica"
          ],
          [
           "Lucifer"
          ],
          [
           "Metallica"
          ]
         ],
         "hovertemplate": "<b>%{hovertext}</b><br><br>Supergenre=Metal<br>Year of release=%{x}<br>Position=%{y}<br>Artist=%{customdata[0]}<extra></extra>",
         "hovertext": [
          "Nothing Else Matters",
          "One",
          "Enter Sandman",
          "Master Of Puppets",
          "Phantom Of The Opera",
          "Lola Montez",
          "Paranoid",
          "Ice Queen",
          "Fear Of The Dark",
          "The Unforgiven",
          "Ace Of Spades",
          "Fade To Black",
          "Sad Man's Tongue",
          "Whiskey In The Jar",
          "Ghost Love Score (Live@Wacken 2013)",
          "Run To The Hills",
          "Angel Of Death",
          "Silent Lucidity",
          "Mother Earth",
          "Sad But True",
          "Élan",
          "Can I Play With Madness",
          "Wasted Years",
          "The Unforgiven II",
          "Stand My Ground",
          "Strange Machines",
          "No More Tears",
          "Faster",
          "The Unforgiven III",
          "House For Sale",
          "Memory Remains"
         ],
         "legendgroup": "Metal",
         "marker": {
          "color": "#00cc96",
          "symbol": "circle"
         },
         "mode": "markers",
         "name": "Metal",
         "showlegend": true,
         "type": "scattergl",
         "x": [
          1992,
          1994,
          1991,
          1986,
          2019,
          2013,
          1970,
          2001,
          1993,
          1991,
          1980,
          1984,
          2007,
          1998,
          2013,
          1982,
          1986,
          1991,
          2002,
          1992,
          2015,
          1988,
          1986,
          1997,
          2004,
          1996,
          1990,
          2011,
          2008,
          1975,
          1997
         ],
         "xaxis": "x",
         "y": [
          8,
          26,
          51,
          65,
          75,
          85,
          132,
          159,
          189,
          205,
          207,
          260,
          262,
          268,
          272,
          284,
          303,
          316,
          370,
          453,
          491,
          571,
          662,
          812,
          878,
          945,
          961,
          1047,
          1286,
          1326,
          1491
         ],
         "yaxis": "y"
        },
        {
         "customdata": [
          [
           "Boudewijn de Groot"
          ],
          [
           "Miss Montreal"
          ],
          [
           "Racoon"
          ],
          [
           "Klein Orkest"
          ],
          [
           "Stef Bos"
          ],
          [
           "Wim Sonneveld"
          ],
          [
           "Liesbeth List & Ramses Shaffy"
          ],
          [
           "Guus Meeuwis"
          ],
          [
           "Claudia de Breij"
          ],
          [
           "Bløf ft. Geike"
          ],
          [
           "Acda & De Munnik"
          ],
          [
           "Ramses Shaffy"
          ],
          [
           "André Hazes"
          ],
          [
           "Van Dik Hout"
          ],
          [
           "André Hazes"
          ],
          [
           "Frank Boeijen Groep"
          ],
          [
           "Racoon"
          ],
          [
           "Ramses Shaffy"
          ],
          [
           "Racoon"
          ],
          [
           "Frans Halsema"
          ],
          [
           "Rowwen Hèze"
          ],
          [
           "Marco Borsato"
          ],
          [
           "Frank Boeijen Groep"
          ],
          [
           "André Hazes"
          ],
          [
           "Boudewijn de Groot"
          ],
          [
           "De Dijk"
          ],
          [
           "De Dijk"
          ],
          [
           "Maan"
          ],
          [
           "De Dijk"
          ],
          [
           "Bløf"
          ],
          [
           "Krezip"
          ],
          [
           "Racoon"
          ],
          [
           "Rowwen Hèze"
          ],
          [
           "Boudewijn de Groot"
          ],
          [
           "Skik"
          ],
          [
           "Abel"
          ],
          [
           "Cuby & the Blizzards"
          ],
          [
           "André Hazes"
          ],
          [
           "Stef Bos"
          ],
          [
           "Bløf"
          ],
          [
           "André Hazes"
          ],
          [
           "André Hazes"
          ],
          [
           "De Dijk"
          ],
          [
           "Bløf"
          ],
          [
           "Rob de Nijs"
          ],
          [
           "Bløf"
          ],
          [
           "De Dijk"
          ],
          [
           "Acda & De Munnik"
          ],
          [
           "Rob de Nijs"
          ],
          [
           "Boudewijn de Groot"
          ],
          [
           "Bløf"
          ],
          [
           "De Dijk"
          ],
          [
           "Guus Meeuwis"
          ],
          [
           "Acda & De Munnik"
          ],
          [
           "Marco Borsato, Armin van Buuren & Davina Michelle"
          ],
          [
           "Bløf"
          ],
          [
           "Maaike Ouboter"
          ],
          [
           "Paul de Leeuw"
          ],
          [
           "Het Goede Doel"
          ],
          [
           "Rowwen Hèze"
          ],
          [
           "Spinvis"
          ],
          [
           "André Hazes Jr."
          ],
          [
           "Paul de Leeuw & Simone Kleinsma"
          ],
          [
           "Bankzitters"
          ],
          [
           "Guus Meeuwis"
          ],
          [
           "Het Goede Doel"
          ],
          [
           "Boudewijn de Groot"
          ],
          [
           "Krezip"
          ],
          [
           "Frank Boeijen Groep"
          ],
          [
           "Rowwen Hèze"
          ],
          [
           "Boudewijn de Groot"
          ],
          [
           "Rob de Nijs"
          ],
          [
           "Ede Staal"
          ],
          [
           "De Dijk"
          ],
          [
           "Herman van Veen"
          ],
          [
           "Racoon"
          ],
          [
           "Acda & De Munnik"
          ],
          [
           "Frank Boeijen Groep"
          ],
          [
           "Rowwen Hèze"
          ],
          [
           "De Dijk"
          ],
          [
           "Nits"
          ],
          [
           "Rowwen Hèze"
          ],
          [
           "Guus Meeuwis & Vagant"
          ],
          [
           "Bløf"
          ],
          [
           "Rob de Nijs"
          ],
          [
           "Ilse DeLange"
          ],
          [
           "De Dijk"
          ],
          [
           "Snelle"
          ],
          [
           "Paul De Leeuw & André Hazes"
          ],
          [
           "De Dijk"
          ],
          [
           "Bløf"
          ],
          [
           "Marco Borsato"
          ],
          [
           "Veldhuis & Kemper"
          ],
          [
           "Guus Meeuwis"
          ],
          [
           "Marco Borsato"
          ],
          [
           "Gé Reinders"
          ],
          [
           "Bløf"
          ],
          [
           "André Hazes"
          ],
          [
           "Nick & Simon"
          ],
          [
           "De Dijk"
          ],
          [
           "De Dijk"
          ],
          [
           "Racoon"
          ],
          [
           "Boudewijn de Groot"
          ],
          [
           "Acda & De Munnik"
          ],
          [
           "Acda & De Munnik"
          ],
          [
           "Racoon"
          ],
          [
           "Rowwen Hèze"
          ],
          [
           "Bløf"
          ],
          [
           "Ilse DeLange"
          ],
          [
           "Herman van Veen"
          ],
          [
           "Toontje Lager"
          ],
          [
           "Krezip"
          ],
          [
           "Herman van Veen"
          ],
          [
           "3JS"
          ],
          [
           "Herman van Veen"
          ],
          [
           "Guus Meeuwis"
          ],
          [
           "Het Goede Doel"
          ],
          [
           "Cuby & the Blizzards"
          ],
          [
           "Bløf"
          ],
          [
           "André Hazes"
          ],
          [
           "Snelle"
          ],
          [
           "Nielson"
          ],
          [
           "André Hazes"
          ],
          [
           "Pommelien Thijs & Jaap Reesema"
          ],
          [
           "Vandenberg"
          ],
          [
           "Alderliefste & Paul de Leeuw"
          ],
          [
           "Bløf"
          ],
          [
           "Cuby & the Blizzards"
          ],
          [
           "Drs. P"
          ],
          [
           "André Hazes"
          ],
          [
           "Marco Borsato"
          ],
          [
           "Guus Meeuwis"
          ],
          [
           "3JS"
          ],
          [
           "Is Ook Schitterend"
          ],
          [
           "Ramses Shaffy"
          ],
          [
           "Marco Borsato"
          ],
          [
           "Racoon"
          ],
          [
           "Ramses Shaffy"
          ],
          [
           "Marco Borsato"
          ],
          [
           "Ilse DeLange"
          ],
          [
           "Nick & Simon"
          ],
          [
           "Rob de Nijs"
          ],
          [
           "Paul de Leeuw"
          ],
          [
           "Jenny Arean & Frans Halsema"
          ],
          [
           "Nits"
          ],
          [
           "Frank Boeijen Groep"
          ],
          [
           "Ilse DeLange"
          ],
          [
           "Raymond Van Het Groenewoud"
          ],
          [
           "Tino Martin"
          ],
          [
           "Bløf"
          ],
          [
           "Boudewijn de Groot"
          ],
          [
           "Marco Borsato"
          ],
          [
           "Snelle"
          ],
          [
           "Marco Borsato"
          ],
          [
           "André Hazes"
          ],
          [
           "Guus Meeuwis"
          ],
          [
           "Spinvis"
          ],
          [
           "Boudewijn de Groot"
          ],
          [
           "Van Dik Hout"
          ],
          [
           "Rowwen Hèze"
          ],
          [
           "Stef Bos"
          ],
          [
           "Ilse DeLange"
          ],
          [
           "Marco Borsato"
          ],
          [
           "André van Duin"
          ],
          [
           "Johan"
          ],
          [
           "Boudewijn de Groot"
          ],
          [
           "Frank Boeijen Groep"
          ],
          [
           "Tröckener Kecks"
          ],
          [
           "Herman van Veen"
          ],
          [
           "Drukwerk"
          ],
          [
           "Acda & De Munnik"
          ],
          [
           "De Dijk"
          ],
          [
           "Bløf"
          ],
          [
           "Klein Orkest"
          ],
          [
           "Rob de Nijs"
          ],
          [
           "Bløf"
          ]
         ],
         "hovertemplate": "<b>%{hovertext}</b><br><br>Supergenre=Nederlandstalig<br>Year of release=%{x}<br>Position=%{y}<br>Artist=%{customdata[0]}<extra></extra>",
         "hovertext": [
          "Avond",
          "Door De Wind",
          "Oceaan",
          "Over De Muur",
          "Papa",
          "Het Dorp",
          "Pastorale",
          "Brabant",
          "Mag Ik Dan Bij Jou",
          "Zoutelande",
          "Het Regent Zonnestralen",
          "Laat Me",
          "Kleine Jongen",
          "Stil In Mij",
          "Bloed Zweet En Tranen",
          "Zeg Me Dat Het Niet Zo Is",
          "Het Is Al Laat Toch",
          "Zing, Vecht, Huil, Bid, Lach, Werk En Bewonder",
          "Love You More",
          "Voor Haar",
          "November",
          "Dochters",
          "Kronenburg Park",
          "Zij Gelooft In Mij",
          "Testament",
          "Dansen Op De Vulkaan",
          "Niemand In De Stad",
          "Ze Huilt Maar Ze Lacht",
          "Als Ze Er Niet Is",
          "Zo Stil",
          "I Would Stay",
          "De Echte Vent",
          "De Peel In Brand",
          "Verdronken Vlinder",
          "Op Fietse",
          "Onderweg",
          "Window Of My Eyes",
          "Geef Mij Je Angst",
          "Is Dit Nu Later",
          "Omarm",
          "De Vlieger",
          "Zeg Maar Niets Meer",
          "Mag Het Licht Uit",
          "Harder Dan Ik Hebben Kan",
          "Het Werd Zomer",
          "Aan De Kust",
          "Groot Hart",
          "Lopen Tot De Zon Komt",
          "Foto Van Vroeger",
          "De Vondeling Van Ameland",
          "Dansen Aan Zee",
          "Ik Kan Het Niet Alleen",
          "Geef Mij Je Angst",
          "Ren Lenny Ren",
          "Hoe Het Danst",
          "Liefs Uit Londen",
          "Dat Ik Je Mis",
          "'k Heb Je Lief",
          "Alles Geprobeerd",
          "Limburg (Live)",
          "Kom Terug",
          "Leef",
          "Zonder Jou",
          "Stapelgek",
          "Dat Komt Door Jou",
          "België",
          "Welterusten Mijnheer De President",
          "Sweet Goodbyes",
          "De Verzoening",
          "Vlinder",
          "Jimmy",
          "Banger Hart",
          "Het Het Nog Nooit Zo Donker West",
          "Binnen Zonder Kloppen",
          "Liefde Van Later",
          "Don't Give Up The Fight",
          "Niet Of Nooit Geweest",
          "Zwart Wit",
          "Auto Vliegtuug",
          "Bloedend Hart",
          "In The Dutch Mountains",
          "De Neus Umhoeg",
          "Het Is Een Nacht... (Levensecht)",
          "Hou Vol Hou Vast",
          "Malle Babbe",
          "I Still Cry",
          "Onderuit",
          "Reünie",
          "Droomland",
          "Als Het Golft",
          "Blauwe Ruis",
          "Margherita",
          "Ik Wou Dat Ik Jou Was",
          "Tranen Gelachen",
          "Rood",
          "Blaosmuziek",
          "Mooie Dag",
          "'n Beetje Verliefd",
          "Pak Maar M'n Hand",
          "Nergens Goed Voor",
          "Kan Ik Iets Voor Je Doen?",
          "Liverpool Rain",
          "Het Land Van Maas En Waal",
          "De Kapitein Deel II",
          "Als Het Vuur Gedoofd Is",
          "No Mercy",
          "Bestel Mar",
          "Wat Zou Je Doen",
          "Miracle",
          "Suzanne",
          "Stiekem Gedanst",
          "Lost Without You",
          "Hilversum 3",
          "Hou Van Mij",
          "Anne",
          "De Weg",
          "Vriendschap",
          "Somebody Will Know Someday",
          "Alles Is Liefde",
          "'n Vriend",
          "Smoorverliefd",
          "IJskoud",
          "Het Is Koud Zonder Jou",
          "Nu Wij Niet Meer Praten",
          "Burning Heart",
          "Une Belle Histoire/Een Mooi Verhaal",
          "Zaterdag",
          "Appleknockers Flophouse",
          "Dodenrit",
          "Het Laatste Rondje",
          "De Bestemming",
          "'t Dondert En 't Bliksemt",
          "Watermensen",
          "Voltooid Verleden Tijd",
          "Sammy",
          "Mooi",
          "Shoes Of Lightning",
          "Wij Zullen Doorgaan",
          "Afscheid Nemen Bestaat Niet",
          "I'm Not So Tough",
          "Kijk Omhoog",
          "Niet Voor Het Laatst",
          "Vlieg Met Me Mee (Live)",
          "Vluchten Kan Niet Meer",
          "Nescio",
          "Hier Komt De Storm",
          "So Incredible",
          "Je Veux De L'Amour",
          "Zij Weet Het",
          "Aanzoek Zonder Ringen",
          "Als De Rook Om Je Hoofd Is Verdwenen",
          "Ik Leef Niet Meer Voor Jou",
          "Kleur",
          "Zij",
          "Uit M'n Bol",
          "Proosten",
          "Bagagedrager",
          "Een Meisje Van 16",
          "Meer Dan Een Ander",
          "'T Roeie Klied",
          "Ik Heb Je Lief",
          "World Of Hurt",
          "De Waarheid",
          "Als De Zon Schijnt",
          "Tumble And Fall",
          "Prikkebeen",
          "Winter In Hamburg",
          "Met Hart en Ziel",
          "Toveren",
          "Je Loog Tegen Mij",
          "Mooi Liedje",
          "Mijn Van Straat Geredde Roos",
          "Later Als Ik Groter Ben",
          "Laat Mij Maar Alleen",
          "Zondag",
          "Hier"
         ],
         "legendgroup": "Nederlandstalig",
         "marker": {
          "color": "#ab63fa",
          "symbol": "circle"
         },
         "mode": "markers",
         "name": "Nederlandstalig",
         "showlegend": true,
         "type": "scattergl",
         "x": [
          1997,
          2020,
          2012,
          1984,
          1991,
          1974,
          1969,
          2003,
          2011,
          2017,
          1998,
          1978,
          1990,
          1994,
          2002,
          1990,
          2020,
          1971,
          2005,
          1977,
          2000,
          2008,
          1985,
          2004,
          1967,
          1987,
          1989,
          2019,
          1994,
          2012,
          2000,
          2020,
          2005,
          1966,
          1997,
          2000,
          1968,
          1983,
          1990,
          2003,
          1977,
          1982,
          1987,
          1999,
          1977,
          1999,
          1985,
          1997,
          1980,
          2004,
          2000,
          1989,
          2005,
          2002,
          2019,
          1998,
          2013,
          1997,
          1986,
          1996,
          2012,
          2016,
          1995,
          2021,
          2009,
          1982,
          1966,
          2009,
          1987,
          2003,
          1973,
          1996,
          1984,
          1985,
          1969,
          2011,
          1998,
          1984,
          1999,
          1982,
          1987,
          1995,
          1995,
          2011,
          1975,
          2000,
          1987,
          2019,
          1993,
          2000,
          2002,
          1996,
          2003,
          2007,
          2006,
          1999,
          2002,
          1981,
          2007,
          1989,
          2011,
          2012,
          1967,
          2000,
          1997,
          2011,
          1992,
          1998,
          2009,
          1969,
          1983,
          2019,
          1984,
          2008,
          1986,
          2005,
          1983,
          1967,
          2007,
          1980,
          2020,
          2018,
          1980,
          2020,
          1983,
          2006,
          1999,
          1969,
          1974,
          1984,
          1998,
          1998,
          2008,
          1997,
          1966,
          2015,
          2013,
          1975,
          2003,
          1998,
          2007,
          2017,
          1992,
          1977,
          1983,
          1988,
          2008,
          1980,
          2019,
          2006,
          1972,
          1996,
          2020,
          2002,
          1993,
          2007,
          2002,
          1965,
          1994,
          1995,
          1992,
          1998,
          1996,
          1983,
          2001,
          1968,
          1987,
          1990,
          1987,
          1981,
          1997,
          2008,
          2012,
          1982,
          1980,
          2000
         ],
         "xaxis": "x",
         "y": [
          10,
          20,
          27,
          39,
          52,
          54,
          60,
          83,
          86,
          96,
          102,
          117,
          128,
          131,
          174,
          208,
          211,
          212,
          215,
          217,
          222,
          224,
          233,
          245,
          265,
          273,
          291,
          293,
          301,
          305,
          309,
          320,
          335,
          341,
          353,
          356,
          364,
          366,
          367,
          371,
          374,
          385,
          405,
          419,
          426,
          435,
          443,
          447,
          463,
          476,
          493,
          507,
          520,
          521,
          526,
          532,
          539,
          543,
          545,
          552,
          595,
          603,
          607,
          611,
          624,
          633,
          644,
          646,
          653,
          654,
          674,
          688,
          700,
          701,
          718,
          726,
          745,
          753,
          758,
          759,
          776,
          810,
          829,
          856,
          869,
          883,
          893,
          913,
          925,
          929,
          934,
          960,
          963,
          979,
          1005,
          1006,
          1014,
          1015,
          1041,
          1048,
          1055,
          1058,
          1059,
          1060,
          1089,
          1091,
          1095,
          1107,
          1112,
          1114,
          1144,
          1200,
          1237,
          1258,
          1269,
          1272,
          1278,
          1287,
          1288,
          1291,
          1315,
          1330,
          1346,
          1352,
          1356,
          1368,
          1377,
          1383,
          1387,
          1392,
          1413,
          1416,
          1417,
          1420,
          1428,
          1430,
          1467,
          1472,
          1476,
          1479,
          1480,
          1482,
          1494,
          1503,
          1509,
          1532,
          1534,
          1555,
          1564,
          1576,
          1589,
          1607,
          1625,
          1649,
          1653,
          1658,
          1662,
          1674,
          1699,
          1701,
          1702,
          1750,
          1761,
          1786,
          1869,
          1876,
          1885,
          1888,
          1895,
          1898,
          1913,
          1919,
          1939,
          1944,
          1968,
          1988
         ],
         "yaxis": "y"
        },
        {
         "customdata": [
          [
           "Coldplay"
          ],
          [
           "Lady Gaga & Bradley Cooper"
          ],
          [
           "Coldplay"
          ],
          [
           "ABBA"
          ],
          [
           "Paolo Nutini"
          ],
          [
           "Coldplay"
          ],
          [
           "Robbie Williams"
          ],
          [
           "Simple Minds"
          ],
          [
           "Coldplay"
          ],
          [
           "Coldplay"
          ],
          [
           "Adele"
          ],
          [
           "ABBA"
          ],
          [
           "Michael Jackson"
          ],
          [
           "Elton John"
          ],
          [
           "Kate Bush"
          ],
          [
           "Neil Diamond"
          ],
          [
           "Adele"
          ],
          [
           "Coldplay & Avicii"
          ],
          [
           "Falco"
          ],
          [
           "George Michael"
          ],
          [
           "Adele"
          ],
          [
           "Jason Paige"
          ],
          [
           "Ed Sheeran"
          ],
          [
           "Simple Minds"
          ],
          [
           "Elton John"
          ],
          [
           "Michael Jackson"
          ],
          [
           "Jacques Brel"
          ],
          [
           "Lady Gaga"
          ],
          [
           "Adele"
          ],
          [
           "ABBA"
          ],
          [
           "Adele"
          ],
          [
           "Helene Fischer"
          ],
          [
           "Michael Jackson"
          ],
          [
           "Tom Odell"
          ],
          [
           "The Amazing Stroopwafels"
          ],
          [
           "Eddie Vedder"
          ],
          [
           "Bette Midler"
          ],
          [
           "Eddie Vedder"
          ],
          [
           "Adele"
          ],
          [
           "Beth Hart"
          ],
          [
           "Duncan Laurence"
          ],
          [
           "Michael Jackson"
          ],
          [
           "Don McLean"
          ],
          [
           "ABBA"
          ],
          [
           "ABBA"
          ],
          [
           "Elton John"
          ],
          [
           "George Michael & Elton John"
          ],
          [
           "John Denver"
          ],
          [
           "Kate Bush"
          ],
          [
           "Peter Gabriel & Kate Bush"
          ],
          [
           "ABBA"
          ],
          [
           "ABBA"
          ],
          [
           "Bill Withers"
          ],
          [
           "ABBA"
          ],
          [
           "ABBA"
          ],
          [
           "Alderliefste & Ramses Shaffy & Liesbeth List"
          ],
          [
           "A-Ha"
          ],
          [
           "Bløf & Counting Crows"
          ],
          [
           "Peter Gabriel"
          ],
          [
           "ABBA"
          ],
          [
           "Nena"
          ],
          [
           "Adele"
          ],
          [
           "Billie Eilish"
          ],
          [
           "Michael Jackson"
          ],
          [
           "Édith Piaf"
          ],
          [
           "Suzan & Freek & Snelle"
          ],
          [
           "Suzan & Freek"
          ],
          [
           "George Michael"
          ],
          [
           "Wham!"
          ],
          [
           "John Denver"
          ],
          [
           "Neil Diamond"
          ],
          [
           "Hozier"
          ],
          [
           "Ed Sheeran"
          ],
          [
           "ABBA"
          ],
          [
           "Simple Minds"
          ],
          [
           "Tears For Fears"
          ],
          [
           "Michael Jackson"
          ],
          [
           "Michael Jackson"
          ],
          [
           "Eurythmics"
          ],
          [
           "Adele"
          ],
          [
           "Neet Oét Lottum"
          ],
          [
           "Bee Gees"
          ],
          [
           "Ed Sheeran"
          ],
          [
           "Rick Astley"
          ],
          [
           "Ed Sheeran"
          ],
          [
           "Herbert Grönemeyer"
          ],
          [
           "Frankie Goes To Hollywood"
          ],
          [
           "Bonnie Tyler"
          ],
          [
           "John Denver"
          ],
          [
           "Davina Michelle"
          ],
          [
           "Don McLean"
          ],
          [
           "Anita Meyer"
          ],
          [
           "Coldplay"
          ],
          [
           "Novastar"
          ],
          [
           "Elvis Costello"
          ],
          [
           "Adele"
          ],
          [
           "Donna Summer"
          ],
          [
           "George Michael"
          ],
          [
           "George Michael"
          ],
          [
           "Kate Bush"
          ],
          [
           "George Michael"
          ],
          [
           "Ed Sheeran"
          ],
          [
           "Kate Bush"
          ],
          [
           "George Michael"
          ],
          [
           "ABBA"
          ],
          [
           "Madness"
          ],
          [
           "Lana Del Rey"
          ],
          [
           "Gerry Rafferty"
          ],
          [
           "Elton John"
          ],
          [
           "Michael Jackson"
          ],
          [
           "Tina Turner"
          ],
          [
           "P!nk"
          ],
          [
           "Suzan & Freek"
          ],
          [
           "Cat Stevens"
          ],
          [
           "The Cats"
          ],
          [
           "ABBA"
          ],
          [
           "John Mayer"
          ],
          [
           "ABBA"
          ],
          [
           "Billie Eilish"
          ],
          [
           "Chris Rea"
          ],
          [
           "Herbert Grönemeyer"
          ],
          [
           "ABBA"
          ],
          [
           "Elton John"
          ],
          [
           "George Michael"
          ],
          [
           "Bee Gees"
          ],
          [
           "John Mayer"
          ],
          [
           "Robbie Williams"
          ],
          [
           "Spandau Ballet"
          ],
          [
           "Barbara Pravi"
          ],
          [
           "Simple Minds"
          ],
          [
           "The Cats"
          ],
          [
           "Ed Sheeran"
          ],
          [
           "Elton John"
          ],
          [
           "John Mayer"
          ],
          [
           "Michael Jackson"
          ],
          [
           "ABBA"
          ],
          [
           "Michael Jackson"
          ],
          [
           "Al Stewart"
          ],
          [
           "Pharrell Williams"
          ],
          [
           "Whitney Houston"
          ],
          [
           "Daniël Lohues"
          ],
          [
           "Neil Diamond"
          ],
          [
           "Eddie Vedder"
          ],
          [
           "Snollebollekes"
          ],
          [
           "Tears For Fears & Oleta Adams"
          ],
          [
           "Adele"
          ],
          [
           "Gilbert O'Sullivan"
          ],
          [
           "De Poema's"
          ],
          [
           "Tina Turner"
          ],
          [
           "Robert Long"
          ],
          [
           "Fools Garden"
          ],
          [
           "Robbie Williams"
          ],
          [
           "P!nk"
          ],
          [
           "Henk Westbroek"
          ],
          [
           "ABBA"
          ],
          [
           "Elton John"
          ],
          [
           "Rufus Wainwright"
          ],
          [
           "ABBA"
          ],
          [
           "Elton John"
          ],
          [
           "Eros Ramazzotti"
          ],
          [
           "John Mayer"
          ],
          [
           "ABBA"
          ],
          [
           "Barry White"
          ],
          [
           "Cat Stevens"
          ],
          [
           "Gloria Gaynor"
          ],
          [
           "The Blue Nile"
          ],
          [
           "Dusty Springfield"
          ],
          [
           "Michael Jackson"
          ],
          [
           "One Direction"
          ],
          [
           "Elvis Costello"
          ],
          [
           "Daniël Lohues"
          ],
          [
           "Damien Rice"
          ],
          [
           "Lisa Lois"
          ],
          [
           "Tavares"
          ],
          [
           "Mariah Carey"
          ],
          [
           "Roxette"
          ],
          [
           "Adele"
          ],
          [
           "Robbie Williams"
          ],
          [
           "Nena & Kim Wilde"
          ],
          [
           "Phil Collins & Philip Bailey"
          ],
          [
           "Backstreet Boys"
          ],
          [
           "Ed Sheeran"
          ],
          [
           "Chris de Burgh"
          ],
          [
           "Madonna"
          ],
          [
           "Coldplay"
          ],
          [
           "Simple Minds"
          ],
          [
           "Moby"
          ],
          [
           "Tears For Fears"
          ],
          [
           "Justin Timberlake"
          ],
          [
           "Madness"
          ],
          [
           "Spandau Ballet"
          ],
          [
           "Lewis Capaldi"
          ],
          [
           "Clouseau"
          ],
          [
           "Adele"
          ],
          [
           "Donna Summer"
          ],
          [
           "Boney M."
          ],
          [
           "George Michael"
          ],
          [
           "De Kast"
          ],
          [
           "Melanie"
          ],
          [
           "Ed Sheeran"
          ],
          [
           "Les Poppys"
          ],
          [
           "Bee Gees"
          ],
          [
           "Davina Michelle & Snelle"
          ],
          [
           "Ten Sharp"
          ],
          [
           "The Cats"
          ],
          [
           "John Farnham"
          ],
          [
           "De Poema's"
          ],
          [
           "Cyndi Lauper"
          ],
          [
           "Adele"
          ],
          [
           "Bee Gees"
          ],
          [
           "Carly Simon"
          ],
          [
           "Lauren Daigle"
          ],
          [
           "ABBA"
          ],
          [
           "Elton John & Kiki Dee"
          ],
          [
           "John Mayer"
          ],
          [
           "Carpenters"
          ],
          [
           "Ed Sheeran"
          ],
          [
           "Simple Minds"
          ],
          [
           "Eros Ramazzotti & Tina Turner"
          ],
          [
           "Madness"
          ],
          [
           "Wham!"
          ],
          [
           "Coldplay"
          ],
          [
           "Barbra Streisand"
          ],
          [
           "Whitney Houston"
          ],
          [
           "Bee Gees"
          ],
          [
           "Spice Girls"
          ],
          [
           "Bill Withers"
          ],
          [
           "Roxette"
          ],
          [
           "Adele"
          ],
          [
           "John Denver"
          ],
          [
           "Coldplay"
          ],
          [
           "Marc Cohn"
          ],
          [
           "Jacques Brel"
          ],
          [
           "Moby"
          ],
          [
           "Neil Diamond"
          ],
          [
           "George Michael"
          ],
          [
           "George Michael & Aretha Franklin"
          ],
          [
           "Matthias Reim"
          ],
          [
           "Donna Summer"
          ],
          [
           "Adele"
          ],
          [
           "Michael Jackson"
          ],
          [
           "Beth Hart"
          ],
          [
           "Suzan & Freek"
          ],
          [
           "Marianne Rosenberg"
          ],
          [
           "Bee Gees"
          ],
          [
           "Mr. Mister"
          ],
          [
           "Coldplay"
          ],
          [
           "Michael Andrews ft. Gary Jules"
          ],
          [
           "Florence + The Machine"
          ],
          [
           "ABBA"
          ],
          [
           "Tears For Fears"
          ],
          [
           "Madness"
          ],
          [
           "Lionel Richie"
          ],
          [
           "Barbra Streisand"
          ],
          [
           "The Cats"
          ],
          [
           "Michael Jackson"
          ],
          [
           "Bee Gees"
          ],
          [
           "The Bangles"
          ],
          [
           "Lady Gaga"
          ],
          [
           "Christina Aguilera"
          ],
          [
           "Madonna"
          ],
          [
           "Michael Jackson"
          ],
          [
           "Cock Robin"
          ],
          [
           "Peter Gabriel"
          ],
          [
           "Bruno Mars"
          ],
          [
           "Kim Wilde"
          ],
          [
           "Coldplay"
          ],
          [
           "Céline Dion"
          ],
          [
           "Barry Ryan"
          ],
          [
           "Elton John"
          ],
          [
           "Loreen"
          ],
          [
           "Michael Jackson"
          ],
          [
           "Kirsty Maccoll & Pogues"
          ],
          [
           "John Mayer"
          ],
          [
           "Robert Long"
          ],
          [
           "Davina Michelle"
          ],
          [
           "Céline Dion"
          ],
          [
           "Coldplay"
          ],
          [
           "Justin Timberlake"
          ],
          [
           "Peter Gabriel"
          ],
          [
           "Wham!"
          ],
          [
           "George Michael & Mary J. Blige"
          ],
          [
           "Ed Sheeran"
          ],
          [
           "Lady Gaga"
          ],
          [
           "Laura Pausini"
          ],
          [
           "Roy Orbison"
          ],
          [
           "Mecano"
          ],
          [
           "Grace Jones"
          ],
          [
           "Bruno Mars"
          ],
          [
           "Nena"
          ],
          [
           "Ed Sheeran"
          ],
          [
           "One Direction"
          ],
          [
           "Dotan"
          ],
          [
           "Band Aid"
          ],
          [
           "James Taylor"
          ],
          [
           "Lewis Capaldi"
          ],
          [
           "Bee Gees"
          ],
          [
           "James Blunt"
          ],
          [
           "ABBA"
          ],
          [
           "Dan Hartman"
          ],
          [
           "Niall Horan"
          ],
          [
           "Ed Sheeran"
          ],
          [
           "Whitney Houston"
          ],
          [
           "P!nk"
          ],
          [
           "Dolly Dots"
          ],
          [
           "Hans de Booij"
          ],
          [
           "Lionel Richie"
          ],
          [
           "John Mayer"
          ],
          [
           "Elton John"
          ],
          [
           "John Denver"
          ],
          [
           "Kate Bush"
          ],
          [
           "Dua Lipa ft. DaBaby"
          ],
          [
           "The Cats"
          ],
          [
           "Elton John"
          ],
          [
           "Lukas Graham"
          ],
          [
           "Natasha Bedingfield"
          ],
          [
           "Youssou N'Dour & Neneh Cherry"
          ],
          [
           "Maarten Van Roozendaal"
          ],
          [
           "George Michael"
          ],
          [
           "Ryan Paris"
          ],
          [
           "Coldplay"
          ],
          [
           "Boney M."
          ],
          [
           "Ronan Keating"
          ],
          [
           "Roy Orbison"
          ],
          [
           "Frankie Goes To Hollywood"
          ],
          [
           "Neil Diamond"
          ],
          [
           "Mika"
          ],
          [
           "ABBA"
          ],
          [
           "Bee Gees"
          ],
          [
           "Herbert Grönemeyer"
          ],
          [
           "Michael Jackson"
          ],
          [
           "Michael Jackson"
          ],
          [
           "James Blunt"
          ],
          [
           "Bee Gees"
          ],
          [
           "Coldplay"
          ],
          [
           "Whitney Houston"
          ],
          [
           "Bee Gees"
          ],
          [
           "Cyndi Lauper"
          ],
          [
           "P!nk"
          ],
          [
           "Black"
          ],
          [
           "Carpenters"
          ],
          [
           "Whitney Houston"
          ],
          [
           "Tom Jones"
          ],
          [
           "Madonna"
          ],
          [
           "Tina Turner"
          ],
          [
           "George Michael"
          ],
          [
           "Suzanne Vega"
          ],
          [
           "Jason Mraz"
          ],
          [
           "Madonna"
          ],
          [
           "James Taylor"
          ],
          [
           "Michael Jackson"
          ],
          [
           "Billy Ocean"
          ],
          [
           "Matthew Wilder"
          ],
          [
           "Peter Gabriel"
          ],
          [
           "Tears For Fears"
          ],
          [
           "The Weather Girls"
          ],
          [
           "P!nk"
          ],
          [
           "Lorde"
          ],
          [
           "Eurythmics"
          ],
          [
           "Patrick Hernandez"
          ],
          [
           "Suzan & Freek"
          ],
          [
           "Coldplay"
          ],
          [
           "Dido"
          ],
          [
           "Lady Gaga"
          ],
          [
           "Michael Jackson"
          ],
          [
           "De Kast"
          ],
          [
           "Justin Bieber"
          ],
          [
           "Madonna"
          ],
          [
           "Davina Michelle"
          ],
          [
           "Bruno Mars"
          ],
          [
           "Bruno Mars"
          ],
          [
           "Billie Eilish"
          ],
          [
           "Jason Mraz"
          ],
          [
           "Bette Midler"
          ],
          [
           "John Mayer"
          ],
          [
           "Cyndi Lauper"
          ],
          [
           "Chris Rea"
          ],
          [
           "Paul Young"
          ],
          [
           "Bee Gees"
          ],
          [
           "Eros Ramazzotti"
          ],
          [
           "Ed Sheeran"
          ],
          [
           "George Ezra"
          ],
          [
           "Jacques Brel"
          ],
          [
           "Tanita Tikaram"
          ],
          [
           "Calum Scott"
          ],
          [
           "Coldplay"
          ],
          [
           "Michael Jackson"
          ],
          [
           "Twarres"
          ],
          [
           "Clouseau"
          ],
          [
           "Robbie Williams"
          ],
          [
           "Backstreet Boys"
          ],
          [
           "Britney Spears"
          ],
          [
           "Bruno Mars"
          ],
          [
           "Robbie Williams"
          ],
          [
           "Frankie Goes To Hollywood"
          ],
          [
           "Ed Sheeran & Justin Bieber"
          ],
          [
           "Adele"
          ],
          [
           "George Ezra"
          ],
          [
           "Rihanna ft. Mikky Ekko"
          ],
          [
           "Toploader"
          ],
          [
           "George Michael"
          ],
          [
           "Boney M."
          ],
          [
           "Neil Diamond"
          ],
          [
           "Ava Max"
          ],
          [
           "Coldplay"
          ],
          [
           "Santa Esmeralda"
          ],
          [
           "Roy Orbison"
          ],
          [
           "Tina Turner"
          ],
          [
           "A-Ha"
          ],
          [
           "Barbra Streisand"
          ],
          [
           "Barbra Streisand"
          ],
          [
           "One Direction"
          ],
          [
           "Annie Lennox"
          ],
          [
           "Tones And I"
          ],
          [
           "John Mayer"
          ],
          [
           "Tom Jones"
          ],
          [
           "Eurythmics"
          ],
          [
           "Miley Cyrus"
          ],
          [
           "George Michael"
          ],
          [
           "Blaudzun"
          ]
         ],
         "hovertemplate": "<b>%{hovertext}</b><br><br>Supergenre=Pop<br>Year of release=%{x}<br>Position=%{y}<br>Artist=%{customdata[0]}<extra></extra>",
         "hovertext": [
          "Fix You",
          "Shallow",
          "Viva La Vida",
          "Dancing Queen",
          "Iron Sky",
          "The Scientist",
          "Angels",
          "Belfast Child",
          "Clocks",
          "Yellow",
          "Someone Like You",
          "The Winner Takes It All",
          "Billie Jean",
          "Your Song",
          "Wuthering Heights",
          "Sweet Caroline",
          "Rolling In The Deep",
          "A Sky Full Of Stars",
          "Jeanny",
          "Careless Whisper",
          "Skyfall",
          "Gotta Catch 'M All (Pokemon Theme Song)",
          "Perfect",
          "Don't You (Forget About Me)",
          "Rocket Man",
          "Earth Song",
          "Ne Me Quitte Pas",
          "Always Remember Us This Way",
          "Make You Feel My Love",
          "Gimme Gimme Gimme",
          "Hello",
          "Atemlos Durch Die Nacht",
          "Thriller",
          "Another Love",
          "Oude Maasweg",
          "Guaranteed",
          "The Rose",
          "Society",
          "When We Were Young",
          "Leave The Light On",
          "Arcade",
          "Man In The Mirror",
          "Vincent",
          "Chiquitita",
          "The Day Before You Came",
          "I'm Still Standing",
          "Don't Let The Sun Go Down On Me",
          "Take Me Home, Country Roads",
          "The Man With The Child In His Eyes",
          "Don't Give Up",
          "Mamma Mia",
          "Thank You For The Music",
          "Ain't No Sunshine",
          "Eagle",
          "Lay All Your Love On Me",
          "Laat Me/Vivre",
          "Take On Me",
          "Holiday In Spain",
          "Solsbury Hill",
          "Waterloo",
          "99 Luftballons",
          "Set Fire To The Rain",
          "Bad Guy",
          "Beat It",
          "Non, Je Ne Regrette Rien",
          "De Overkant",
          "Als Het Avond Is",
          "Jesus To A Child",
          "Last Christmas",
          "Annie's Song",
          "I Am... I Said",
          "Take Me To Church",
          "I See Fire",
          "Does Your Mother Know",
          "Alive And Kicking",
          "Everybody Wants To Rule The World",
          "Smooth Criminal",
          "They Don't Care About Us",
          "Sweet Dreams (Are Made Of This)",
          "Easy on me",
          "Hald Mich 's Vas",
          "Stayin' Alive",
          "Shape Of You",
          "Never Gonna Give You Up",
          "Thinking Out Loud",
          "Halt Mich",
          "The Power Of Love",
          "Total Eclipse Of The Heart",
          "Leaving On A Jet Plane",
          "Duurt Te Lang",
          "American Pie",
          "Why Tell Me Why",
          "Paradise",
          "Wrong",
          "She",
          "Million Years Ago",
          "I Feel Love",
          "Father Figure",
          "Cowboys And Angels",
          "Running Up That Hill",
          "Freedom! '90",
          "Castle On The Hill",
          "Cloudbusting",
          "A Different Corner",
          "Voulez-Vous",
          "One Step Beyond",
          "Video Games",
          "Baker Street",
          "Tiny Dancer",
          "Dirty Diana",
          "The Best",
          "What About Us",
          "Blauwe Dag",
          "Morning Has Broken",
          "One Way Wind",
          "I Have A Dream",
          "Slow Dancing In A Burning Room",
          "Take A Chance On Me",
          "Everything I Wanted",
          "Driving Home For Christmas",
          "Der Weg",
          "Happy New Year",
          "Nikita",
          "Faith",
          "How Deep Is Your Love",
          "In The Blood",
          "Feel",
          "Through The Barricades",
          "Voilà",
          "Waterfront",
          "Lea",
          "The A Team",
          "Circle Of Life",
          "Gravity",
          "Heal The World",
          "Fernando",
          "Ben",
          "Year Of The Cat",
          "Happy",
          "I Will Always Love You",
          "Hier Kom Ik Weg",
          "Beautiful Noise",
          "Hard Sun",
          "Links Rechts",
          "Woman In Chains",
          "Chasing Pavements",
          "Nothing Rhymed",
          "Zij Maakt Het Verschil",
          "Private Dancer",
          "Flink Zijn",
          "Lemon Tree",
          "Let Me Entertain You",
          "Try",
          "Zelfs Je Naam Is Mooi",
          "Knowing Me, Knowing You",
          "Candle In The Wind 1997",
          "Going To A Town",
          "Super Trouper",
          "Goodbye Yellow Brick Road",
          "Musica È",
          "Daughters",
          "One Of Us",
          "You're The First, The Last, My Everything",
          "Father And Son",
          "I Will Survive",
          "Tinseltown In The Rain",
          "Son Of A Preacher Man",
          "Black Or White",
          "Story Of My Life",
          "I Want You",
          "Prachtig Mooie Dag",
          "9 Crimes",
          "Hallelujah",
          "Heaven Must Be Missing An Angel",
          "All I Want For Christmas Is You",
          "Listen To Your Heart",
          "Hometown Glory",
          "Mr. Bojangles",
          "Anyplace, Anywhere, Anytime",
          "Easy Lover",
          "I Want It That Way",
          "Photograph",
          "The Lady In Red",
          "Like A Prayer",
          "Everglow",
          "New Gold Dream (81-82-83-84)",
          "Porcelain",
          "Shout",
          "Can't Stop The Feeling!",
          "Our House",
          "Gold",
          "Someone You Loved",
          "Daar Gaat Ze",
          "Turning Tables",
          "State Of Independence",
          "Rasputin",
          "Killer/Papa Was A Rollin' Stone",
          "In Nije Dei",
          "Beautiful People",
          "Afterglow",
          "Non Non Rien n'a Changé",
          "More Than A Woman",
          "17 Miljoen Mensen",
          "You",
          "Marian",
          "You're The Voice",
          "Mijn Houten Hart",
          "True Colors",
          "All I Ask",
          "Words",
          "You're So Vain",
          "You Say",
          "S.O.S.",
          "Don't Go Breaking My Heart",
          "Free Fallin' (Live)",
          "Top Of The World",
          "Supermarket Flowers",
          "Someone Somewhere In Summertime",
          "Cose Della Vita",
          "Night Boat To Cairo",
          "Wake Me Up Before You Go-Go",
          "Magic",
          "Woman In Love",
          "I Wanna Dance With Somebody (Who Loves Me)",
          "Tragedy",
          "Wannabe",
          "Lovely Day",
          "It Must Have Been Love",
          "Rumour Has It",
          "Calypso",
          "Trouble",
          "Walking In Memphis",
          "Mijn Vlakke Land",
          "Why Does My Heart Feel So Bad",
          "September Morn'",
          "Praying For Time",
          "I Knew You Were Waiting (For Me)",
          "Verdammt Ich Lieb' Dich",
          "MacArthur Park",
          "Water Under The Bridge",
          "The Way You Make Me Feel",
          "L.A. Song",
          "Weg Van Jou",
          "Ich Bin Wie Du",
          "Massachusetts",
          "Broken Wings",
          "Christmas Lights",
          "Mad World",
          "Dog Days Are Over",
          "The Name Of The Game",
          "Sowing The Seeds Of Love",
          "Baggy Trousers",
          "Hello",
          "Memory",
          "Scarlet Ribbons",
          "Human Nature",
          "Night Fever",
          "Eternal Flame",
          "Born This Way",
          "Hurt",
          "Frozen",
          "Don't Stop 'Til You Get Enough",
          "The Promise You Made",
          "Sledgehammer",
          "When I Was Your Man",
          "Cambodia",
          "Adventure Of A Lifetime",
          "It's All Coming Back To Me",
          "Eloise",
          "Can You Feel The Love Tonight",
          "Euphoria",
          "Bad",
          "Fairytale Of New York",
          "New Light",
          "Kalverliefde",
          "Beat Me",
          "My Heart Will Go On",
          "Hymn For The Weekend",
          "Mirrors",
          "Biko",
          "Club Tropicana",
          "As",
          "Galway Girl",
          "Bad Romance",
          "La Solitudine",
          "In Dreams",
          "Hijo De La Luna",
          "La Vie En Rose",
          "24K Magic",
          "Nur Geträumt",
          "Happier",
          "Best Song Ever",
          "Home",
          "Do They Know It's Christmas",
          "You've Got A Friend",
          "Before You Go",
          "To Love Somebody",
          "Goodbye My Lover",
          "Money Money Money",
          "Relight My Fire",
          "This Town",
          "Bad Habits",
          "Greatest Love Of All",
          "Raise Your Glass",
          "Love Me Just A Little Bit More (Totally Hooked On You)",
          "Annabel",
          "All Night Long (All Night)",
          "Waiting On The World To Change",
          "Sorry Seems To Be The Hardest Word",
          "Thank God I'm A Country Boy",
          "Babooshka",
          "Levitating",
          "Times Were When",
          "Daniel",
          "7 Years",
          "Unwritten",
          "7 Seconds",
          "Red Mij Niet",
          "You Have Been Loved",
          "Dolce Vita",
          "Speed Of Sound",
          "Rivers Of Babylon",
          "When You Say Nothing At All",
          "Oh, Pretty Woman",
          "Relax",
          "Love On The Rocks",
          "Grace Kelly",
          "Summer Night City",
          "I Started A Joke",
          "Mensch",
          "Wanna Be Startin' Somethin'",
          "Off The Wall",
          "You're Beautiful",
          "Nights On Broadway",
          "Talk",
          "One Moment In Time",
          "Spicks And Specks",
          "Time After Time",
          "Dear Mr. President",
          "Wonderful Life",
          "(They Long To Be) Close To You",
          "I Have Nothing",
          "Green Green Grass Of Home",
          "Vogue",
          "What's Love Got To Do With It",
          "One More Try",
          "Luka",
          "I Won't Give Up",
          "Live To Tell",
          "Fire And Rain",
          "Rock With You",
          "Love Really Hurts Without You",
          "Break My Stride",
          "In Your Eyes",
          "Mad World",
          "It's Raining Men",
          "Family Portrait",
          "Royals",
          "There Must Be An Angel (Playing With My Heart)",
          "Born To Be Alive",
          "Goud",
          "Every Teardrop Is A Waterfall",
          "White Flag",
          "Poker Face",
          "Will You Be There",
          "Hart Van Mijn Gevoel",
          "Love Yourself",
          "La Isla Bonita",
          "Skyward",
          "Just The Way You Are",
          "Locked Out Of Heaven",
          "Happier Than Ever",
          "I'm Yours",
          "Beast Of Burden",
          "Last Train Home",
          "Girls Just Want To Have Fun",
          "Josephine",
          "Love Of The Common People",
          "You Win Again",
          "Se Bastasse Una Canzone",
          "Lego House",
          "Budapest",
          "Voir Un Ami Pleurer",
          "Twist In My Sobriety",
          "Dancing On My Own",
          "In My Place",
          "Stranger In Moscow",
          "Wer Bisto",
          "Domino",
          "She's The One",
          "Everybody (Backstreet's Back)",
          "Toxic",
          "Grenade",
          "The Road To Mandalay",
          "Two Tribes",
          "I Don't Care",
          "Send My Love (To Your New Lover)",
          "Shotgun",
          "Stay",
          "Dancing In The Moonlight",
          "I Can't Make You Love Me",
          "Daddy Cool",
          "Song Sung Blue",
          "Kings & Queens",
          "Green Eyes",
          "Don't Let Me Be Misunderstood",
          "You Got It",
          "We Don't Need Another Hero",
          "Hunting High And Low",
          "Papa Can You Hear Me?",
          "The Way We Were",
          "One Way Or Another (Teenage Kicks)",
          "Why",
          "Dance Monkey",
          "Heartbreak Warfare",
          "It's Not Unusual",
          "Here Comes The Rain Again",
          "Midnight Sky",
          "Kissing A Fool",
          "Promises Of No Man's Land"
         ],
         "legendgroup": "Pop",
         "marker": {
          "color": "#FFA15A",
          "symbol": "circle"
         },
         "mode": "markers",
         "name": "Pop",
         "showlegend": true,
         "type": "scattergl",
         "x": [
          2005,
          2018,
          2008,
          1976,
          2014,
          2002,
          1998,
          1989,
          2003,
          2000,
          2011,
          1980,
          1983,
          1971,
          1978,
          1969,
          2010,
          2014,
          1986,
          1984,
          2012,
          1997,
          2017,
          1985,
          1972,
          1995,
          1959,
          2019,
          2008,
          1979,
          2015,
          2013,
          1983,
          2012,
          1982,
          2007,
          1980,
          2007,
          2015,
          2004,
          2019,
          1988,
          1972,
          1979,
          1982,
          1983,
          1991,
          1971,
          1978,
          1986,
          1975,
          1978,
          1971,
          1978,
          1980,
          2005,
          1985,
          2004,
          1977,
          1974,
          1983,
          2011,
          2019,
          1983,
          1961,
          2020,
          2018,
          1996,
          1984,
          1976,
          1971,
          2014,
          2014,
          1979,
          1985,
          1985,
          1988,
          1996,
          1983,
          2021,
          2004,
          1978,
          2017,
          1987,
          2014,
          1988,
          1984,
          1983,
          1969,
          2018,
          1972,
          1981,
          2011,
          1999,
          1999,
          2016,
          1977,
          1988,
          1991,
          1985,
          1990,
          2017,
          1985,
          1986,
          1979,
          1979,
          2011,
          1978,
          1971,
          1987,
          1989,
          2017,
          2019,
          1972,
          1971,
          1979,
          2006,
          1977,
          2019,
          1986,
          2002,
          1980,
          1985,
          1987,
          1977,
          2017,
          2002,
          1986,
          2021,
          1983,
          1968,
          2011,
          1994,
          2006,
          1992,
          1975,
          1972,
          1977,
          2013,
          1992,
          2008,
          1976,
          2007,
          2015,
          1989,
          2008,
          1971,
          2001,
          1984,
          1977,
          1996,
          1998,
          2012,
          1998,
          1977,
          1997,
          2007,
          1980,
          1973,
          1989,
          2005,
          1981,
          1974,
          1971,
          1979,
          1984,
          1968,
          1991,
          2013,
          1986,
          2011,
          2006,
          2009,
          1976,
          1994,
          1989,
          2009,
          2001,
          2003,
          1985,
          1999,
          2015,
          1986,
          1989,
          2015,
          1982,
          1999,
          1985,
          2016,
          1982,
          1983,
          2019,
          1990,
          2011,
          1982,
          1978,
          1993,
          1997,
          1969,
          2020,
          1971,
          1977,
          2020,
          1991,
          1969,
          1987,
          1999,
          1986,
          2015,
          1968,
          1973,
          2019,
          1975,
          1976,
          2008,
          1973,
          2017,
          1982,
          1998,
          1980,
          1984,
          2014,
          1980,
          1987,
          1979,
          1996,
          1978,
          1990,
          2011,
          1975,
          2000,
          1991,
          1965,
          1999,
          1979,
          1990,
          1987,
          1990,
          1978,
          2016,
          1987,
          1999,
          2020,
          1976,
          1967,
          1986,
          2010,
          2003,
          2009,
          1977,
          1989,
          1980,
          1984,
          1982,
          1969,
          1983,
          1978,
          1989,
          2011,
          2006,
          1998,
          1979,
          1986,
          1986,
          2013,
          1981,
          2015,
          1996,
          1968,
          1994,
          2012,
          1987,
          1987,
          2018,
          1974,
          2020,
          1998,
          2015,
          2013,
          1980,
          1983,
          1999,
          2017,
          2009,
          1993,
          1963,
          1990,
          1977,
          2016,
          1983,
          2017,
          2013,
          2014,
          1984,
          1971,
          2019,
          1967,
          2005,
          1976,
          1980,
          2016,
          2021,
          1986,
          2010,
          1983,
          1983,
          1983,
          2006,
          1976,
          1975,
          1980,
          2020,
          1968,
          1973,
          2015,
          2004,
          1994,
          2001,
          1997,
          1983,
          2005,
          1978,
          1999,
          1964,
          1984,
          1980,
          2007,
          1978,
          1969,
          2003,
          1983,
          1979,
          2005,
          1975,
          2005,
          1988,
          1967,
          1984,
          2006,
          1987,
          1970,
          1993,
          1966,
          1990,
          1984,
          1988,
          1987,
          2012,
          1986,
          1970,
          1979,
          1976,
          1984,
          1986,
          1983,
          1983,
          2002,
          2013,
          1985,
          1979,
          2021,
          2011,
          2003,
          2009,
          1993,
          1999,
          2016,
          1987,
          2019,
          2010,
          2012,
          2021,
          2008,
          1984,
          2021,
          1984,
          1985,
          1984,
          1987,
          1990,
          2012,
          2014,
          1961,
          1988,
          2016,
          2002,
          1996,
          2000,
          1990,
          1999,
          1997,
          2004,
          2010,
          2001,
          1984,
          2019,
          2016,
          2018,
          2013,
          2000,
          1997,
          1976,
          1972,
          2020,
          2002,
          1977,
          1989,
          1985,
          1986,
          1983,
          1973,
          2013,
          1992,
          2019,
          2009,
          1965,
          1983,
          2020,
          1988,
          2014
         ],
         "xaxis": "x",
         "y": [
          11,
          38,
          43,
          44,
          70,
          72,
          92,
          104,
          116,
          118,
          124,
          133,
          136,
          137,
          139,
          144,
          145,
          148,
          151,
          160,
          164,
          165,
          172,
          173,
          177,
          182,
          188,
          190,
          191,
          194,
          196,
          204,
          213,
          221,
          223,
          227,
          228,
          232,
          238,
          248,
          251,
          254,
          261,
          264,
          279,
          286,
          288,
          294,
          306,
          308,
          315,
          322,
          323,
          324,
          326,
          328,
          330,
          342,
          347,
          348,
          350,
          361,
          362,
          363,
          372,
          381,
          390,
          391,
          398,
          415,
          432,
          436,
          438,
          442,
          444,
          445,
          448,
          452,
          455,
          457,
          459,
          470,
          473,
          481,
          492,
          504,
          505,
          506,
          511,
          518,
          522,
          525,
          529,
          535,
          548,
          551,
          554,
          563,
          572,
          576,
          581,
          585,
          587,
          588,
          590,
          591,
          593,
          599,
          600,
          610,
          615,
          623,
          625,
          627,
          628,
          632,
          637,
          639,
          642,
          647,
          652,
          658,
          660,
          661,
          663,
          665,
          668,
          671,
          678,
          679,
          680,
          683,
          686,
          687,
          692,
          696,
          704,
          711,
          712,
          714,
          717,
          721,
          725,
          732,
          736,
          739,
          749,
          752,
          754,
          770,
          772,
          782,
          783,
          788,
          790,
          791,
          793,
          803,
          811,
          815,
          816,
          817,
          818,
          827,
          835,
          840,
          843,
          846,
          848,
          849,
          850,
          857,
          864,
          876,
          879,
          882,
          884,
          885,
          894,
          904,
          907,
          909,
          911,
          916,
          917,
          919,
          923,
          943,
          948,
          951,
          953,
          954,
          957,
          959,
          962,
          964,
          974,
          976,
          980,
          981,
          990,
          993,
          1003,
          1007,
          1009,
          1016,
          1019,
          1040,
          1049,
          1054,
          1065,
          1066,
          1071,
          1072,
          1074,
          1079,
          1081,
          1088,
          1092,
          1097,
          1118,
          1121,
          1126,
          1128,
          1130,
          1132,
          1134,
          1136,
          1137,
          1139,
          1148,
          1149,
          1157,
          1160,
          1161,
          1163,
          1166,
          1168,
          1171,
          1173,
          1179,
          1180,
          1181,
          1184,
          1204,
          1207,
          1211,
          1214,
          1224,
          1231,
          1232,
          1233,
          1239,
          1252,
          1253,
          1259,
          1260,
          1264,
          1265,
          1270,
          1303,
          1307,
          1311,
          1313,
          1317,
          1320,
          1334,
          1337,
          1340,
          1343,
          1344,
          1347,
          1349,
          1354,
          1357,
          1373,
          1375,
          1376,
          1381,
          1385,
          1386,
          1390,
          1393,
          1394,
          1401,
          1407,
          1409,
          1412,
          1419,
          1421,
          1422,
          1423,
          1436,
          1438,
          1439,
          1442,
          1452,
          1465,
          1475,
          1478,
          1481,
          1483,
          1493,
          1505,
          1506,
          1514,
          1516,
          1519,
          1522,
          1537,
          1538,
          1539,
          1540,
          1541,
          1545,
          1550,
          1552,
          1554,
          1556,
          1560,
          1561,
          1562,
          1566,
          1569,
          1578,
          1583,
          1586,
          1587,
          1588,
          1592,
          1595,
          1597,
          1601,
          1602,
          1609,
          1612,
          1628,
          1633,
          1638,
          1640,
          1643,
          1645,
          1646,
          1654,
          1655,
          1661,
          1668,
          1677,
          1685,
          1690,
          1697,
          1700,
          1712,
          1715,
          1720,
          1723,
          1724,
          1731,
          1736,
          1742,
          1752,
          1754,
          1757,
          1764,
          1765,
          1772,
          1773,
          1788,
          1791,
          1806,
          1807,
          1808,
          1809,
          1810,
          1811,
          1815,
          1817,
          1819,
          1821,
          1822,
          1823,
          1829,
          1830,
          1831,
          1835,
          1837,
          1841,
          1843,
          1850,
          1852,
          1862,
          1863,
          1864,
          1866,
          1880,
          1889,
          1893,
          1896,
          1900,
          1905,
          1908,
          1910,
          1915,
          1918,
          1922,
          1926,
          1927,
          1935,
          1945,
          1947,
          1949,
          1954,
          1962,
          1966,
          1973,
          1976,
          1987,
          1994,
          1999,
          2000
         ],
         "yaxis": "y"
        },
        {
         "customdata": [
          [
           "Prince & The Revolution"
          ],
          [
           "Michael Kiwanuka"
          ],
          [
           "Amy Winehouse"
          ],
          [
           "Otis Redding"
          ],
          [
           "The Weeknd"
          ],
          [
           "Ike & Tina Turner"
          ],
          [
           "Chef'Special"
          ],
          [
           "Prince & The Revolution"
          ],
          [
           "Rag'n'Bone Man"
          ],
          [
           "Chef'Special"
          ],
          [
           "Ike & Tina Turner"
          ],
          [
           "Aretha Franklin"
          ],
          [
           "Marvin Gaye"
          ],
          [
           "Seal"
          ],
          [
           "Mark Ronson ft. Amy Winehouse"
          ],
          [
           "John Legend"
          ],
          [
           "Amy Winehouse"
          ],
          [
           "Prince & The Revolution"
          ],
          [
           "Aretha Franklin"
          ],
          [
           "Mark Ronson ft. Bruno Mars"
          ],
          [
           "Stevie Wonder"
          ],
          [
           "Beyoncé"
          ],
          [
           "Aretha Franklin"
          ],
          [
           "Prince"
          ],
          [
           "The Righteous Brothers"
          ],
          [
           "Prince"
          ],
          [
           "The Weeknd"
          ],
          [
           "Aretha Franklin"
          ],
          [
           "The Teskey Brothers"
          ],
          [
           "Amy Winehouse"
          ],
          [
           "Prince & The Revolution"
          ],
          [
           "Ben E. King"
          ],
          [
           "Amy Winehouse"
          ],
          [
           "Michael Kiwanuka"
          ],
          [
           "Gladys Knight & The Pips"
          ],
          [
           "Prince & The Revolution"
          ],
          [
           "Teskey Brothers"
          ],
          [
           "Stevie Wonder"
          ],
          [
           "The Trammps"
          ],
          [
           "Amy Winehouse"
          ],
          [
           "Sam Cooke"
          ],
          [
           "Prince"
          ],
          [
           "Prince & The Revolution"
          ],
          [
           "Ike & Tina Turner"
          ],
          [
           "Marvin Gaye"
          ],
          [
           "Alain Clark"
          ],
          [
           "Xavier Rudd"
          ],
          [
           "Stevie Wonder"
          ],
          [
           "Roberta Flack"
          ],
          [
           "Labi Siffre"
          ],
          [
           "Marvin Gaye"
          ],
          [
           "Chef'Special"
          ],
          [
           "Stevie Wonder"
          ],
          [
           "Michael Kiwanuka"
          ],
          [
           "Seal"
          ],
          [
           "Black Pumas"
          ],
          [
           "Chef'Special"
          ],
          [
           "Otis Redding"
          ],
          [
           "Womack & Womack"
          ],
          [
           "The Weeknd"
          ],
          [
           "Marvin Gaye & Tammi Terrell"
          ],
          [
           "Khruangbin & Leon Bridges"
          ],
          [
           "Stevie Wonder"
          ],
          [
           "Beyoncé"
          ],
          [
           "Sam Cooke"
          ],
          [
           "Curtis Mayfield"
          ],
          [
           "Jamiroquai"
          ],
          [
           "Prince"
          ],
          [
           "Rufus & Chaka Khan"
          ],
          [
           "Prince"
          ],
          [
           "Blackstreet ft. Dr Dre"
          ],
          [
           "Solomon Burke & De Dijk"
          ],
          [
           "Silk Sonic"
          ],
          [
           "Prince & The New Power Generation"
          ],
          [
           "John Legend"
          ],
          [
           "Otis Redding"
          ],
          [
           "Percy Sledge"
          ],
          [
           "James Brown"
          ],
          [
           "James Brown"
          ],
          [
           "Beyoncé"
          ],
          [
           "Marvin Gaye"
          ],
          [
           "Al Green"
          ],
          [
           "Beyoncé & Jay-Z"
          ]
         ],
         "hovertemplate": "<b>%{hovertext}</b><br><br>Supergenre=Soul<br>Year of release=%{x}<br>Position=%{y}<br>Artist=%{customdata[0]}<extra></extra>",
         "hovertext": [
          "Purple Rain",
          "Cold Little Heart",
          "Back To Black",
          "(Sittin' On) The Dock Of The Bay",
          "Blinding Lights",
          "Proud Mary",
          "In Your Arms",
          "When Doves Cry",
          "Human",
          "Amigo",
          "River Deep Mountain High",
          "Respect",
          "What's Going On",
          "Kiss From A Rose",
          "Valerie",
          "All Of Me",
          "Rehab",
          "Sometimes It Snows In April",
          "I Say A Little Prayer",
          "Uptown Funk",
          "Superstition",
          "Halo",
          "(You Make Me Feel Like A) Natural Woman",
          "1999",
          "Unchained Melody",
          "Sign 'O' The Times",
          "Save Your Tears",
          "Think (Blues Brothers Version)",
          "Pain And Misery",
          "You Know I'm No Good",
          "Raspberry Beret",
          "Stand By Me",
          "Tears Dry On Their Own",
          "Love And Hate",
          "Midnight Train To Georgia",
          "I Would Die 4 U",
          "Hold Me",
          "Isn't She Lovely",
          "Disco Inferno",
          "Love Is A Losing Game",
          "A Change Is Gonna Come",
          "Let's Go Crazy",
          "Kiss",
          "Nutbush City Limits",
          "I Heard It Through The Grapevine",
          "Father & Friend",
          "Follow The Sun",
          "I Wish",
          "The First Time Ever I Saw Your Face",
          "(Something Inside) So Strong",
          "Sexual Healing",
          "Afraid of the dark",
          "Sir Duke",
          "Home Again",
          "Crazy",
          "Colors",
          "Nicotine",
          "I've Got Dreams To Remember",
          "Teardrops",
          "In Your Eyes",
          "Ain't No Mountain High Enough",
          "Texas Sun",
          "Master Blaster (Jammin')",
          "Love On Top",
          "Wonderful World",
          "Move On Up",
          "Virtual Insanity",
          "The Cross",
          "Ain't Nobody",
          "Gold",
          "No Diggity",
          "Hold On Tight",
          "Leave The Door Open",
          "Diamonds And Pearls",
          "Ordinary People",
          "Try A Little Tenderness",
          "When A Man Loves A Woman",
          "Sex Machine",
          "It's A Man's Man's Man's World",
          "Listen",
          "Let's Get It On",
          "Let's Stay Together",
          "Crazy In Love"
         ],
         "legendgroup": "Soul",
         "marker": {
          "color": "#19d3f3",
          "symbol": "circle"
         },
         "mode": "markers",
         "name": "Soul",
         "showlegend": true,
         "type": "scattergl",
         "x": [
          1984,
          2016,
          2007,
          1968,
          2019,
          1971,
          2014,
          1984,
          2016,
          2016,
          1966,
          1967,
          1971,
          1995,
          2007,
          2013,
          2006,
          1986,
          1968,
          2014,
          1973,
          2009,
          1967,
          1982,
          1965,
          1987,
          2020,
          1980,
          2019,
          2007,
          1985,
          1987,
          2007,
          2016,
          1973,
          1984,
          2019,
          1976,
          1977,
          2007,
          1964,
          1984,
          1986,
          1974,
          1969,
          2008,
          2015,
          1977,
          1972,
          1987,
          1982,
          2021,
          1977,
          2012,
          1991,
          2019,
          2017,
          1968,
          1988,
          2020,
          1967,
          2019,
          1980,
          2011,
          1960,
          1970,
          1996,
          1987,
          1984,
          1995,
          1996,
          2010,
          2021,
          1991,
          2005,
          1966,
          1966,
          1970,
          1966,
          2007,
          1973,
          1971,
          2003
         ],
         "xaxis": "x",
         "y": [
          21,
          49,
          56,
          115,
          156,
          161,
          334,
          395,
          418,
          434,
          440,
          446,
          467,
          482,
          483,
          489,
          549,
          579,
          606,
          609,
          636,
          727,
          744,
          768,
          769,
          774,
          805,
          820,
          896,
          946,
          955,
          973,
          1022,
          1028,
          1035,
          1044,
          1116,
          1143,
          1145,
          1172,
          1199,
          1203,
          1221,
          1249,
          1316,
          1321,
          1331,
          1332,
          1336,
          1359,
          1382,
          1395,
          1427,
          1449,
          1462,
          1497,
          1526,
          1575,
          1582,
          1627,
          1667,
          1676,
          1679,
          1705,
          1707,
          1708,
          1728,
          1741,
          1751,
          1818,
          1828,
          1842,
          1854,
          1872,
          1875,
          1907,
          1952,
          1953,
          1955,
          1977,
          1978,
          1986,
          1992
         ],
         "yaxis": "y"
        },
        {
         "customdata": [
          [
           "Simon & Garfunkel"
          ],
          [
           "Simon & Garfunkel"
          ],
          [
           "Leonard Cohen"
          ],
          [
           "Simon & Garfunkel"
          ],
          [
           "Tracy Chapman"
          ],
          [
           "Bob Dylan"
          ],
          [
           "Mumford & Sons"
          ],
          [
           "Lex Uiting"
          ],
          [
           "Jim Croce"
          ],
          [
           "Mumford & Sons"
          ],
          [
           "Simon & Garfunkel"
          ],
          [
           "Leonard Cohen"
          ],
          [
           "Passenger"
          ],
          [
           "Mumford & Sons"
          ],
          [
           "Bob Dylan"
          ],
          [
           "Simon & Garfunkel"
          ],
          [
           "Leonard Cohen"
          ],
          [
           "Bob Dylan"
          ],
          [
           "Art Garfunkel"
          ],
          [
           "Simon & Garfunkel"
          ],
          [
           "Leonard Cohen"
          ],
          [
           "Clannad"
          ],
          [
           "Leonard Cohen"
          ],
          [
           "Bob Dylan"
          ],
          [
           "Simon & Garfunkel"
          ],
          [
           "Leonard Cohen"
          ],
          [
           "Bob Dylan"
          ],
          [
           "Tracy Chapman"
          ],
          [
           "First Aid Kit"
          ],
          [
           "Simon & Garfunkel"
          ],
          [
           "Joni Mitchell"
          ],
          [
           "Stealers Wheel"
          ],
          [
           "The Dubliners"
          ],
          [
           "Ben Howard"
          ],
          [
           "Ralph McTell"
          ],
          [
           "Tracy Chapman"
          ],
          [
           "Janis Ian"
          ],
          [
           "Mumford & Sons"
          ],
          [
           "Jonathan Jeremiah"
          ],
          [
           "Mumford & Sons"
          ],
          [
           "Bob Dylan"
          ],
          [
           "Mumford & Sons"
          ],
          [
           "Leonard Cohen"
          ],
          [
           "Tim Hardin"
          ],
          [
           "Duncan Browne"
          ],
          [
           "Fink"
          ],
          [
           "Birdy"
          ]
         ],
         "hovertemplate": "<b>%{hovertext}</b><br><br>Supergenre=Folk<br>Year of release=%{x}<br>Position=%{y}<br>Artist=%{customdata[0]}<extra></extra>",
         "hovertext": [
          "The Sound Of Silence",
          "Bridge Over Troubled Water",
          "Hallelujah",
          "The Boxer",
          "Fast Car",
          "Hurricane",
          "Little Lion Man",
          "Nao 't Zuuje",
          "Time In A Bottle",
          "The Cave",
          "Mrs. Robinson",
          "Suzanne",
          "Let Her Go",
          "I Will Wait",
          "Blowin' In The Wind",
          "El Condor Pasa (If I Could)",
          "So Long Marianne",
          "Like A Rolling Stone",
          "Bright Eyes",
          "Homeward Bound",
          "Dance Me To The End Of Love",
          "Theme From 'Harry's Game'",
          "You Want It Darker",
          "The Times They Are A-Changin'",
          "Scarborough Fair",
          "Take This Waltz",
          "Knockin' On Heaven's Door",
          "Baby Can I Hold You",
          "My Silver Lining",
          "Cecilia",
          "Both Sides Now",
          "Stuck In The Middle With You",
          "The Wild Rover",
          "Keep Your Head Up",
          "Streets Of London",
          "Talkin' Bout A Revolution",
          "At Seventeen",
          "Lover Of The Light",
          "Happiness",
          "Hopeless Wanderer",
          "I Want You",
          "Babel",
          "Famous Blue Raincoat",
          "How Can We Hang On To A Dream",
          "The Wild Places",
          "Looking Too Closely",
          "Skinny Love"
         ],
         "legendgroup": "Folk",
         "marker": {
          "color": "#FF6692",
          "symbol": "circle"
         },
         "mode": "markers",
         "name": "Folk",
         "showlegend": true,
         "type": "scattergl",
         "x": [
          1966,
          1970,
          1984,
          1969,
          1988,
          1975,
          2010,
          2017,
          1972,
          2010,
          1968,
          1968,
          2012,
          2012,
          1963,
          1970,
          1968,
          1965,
          1979,
          1966,
          1984,
          1983,
          2016,
          1964,
          1966,
          1988,
          1973,
          1988,
          2014,
          1970,
          1968,
          1973,
          1964,
          2011,
          1972,
          1988,
          1975,
          2012,
          2011,
          2013,
          1966,
          2013,
          1971,
          1967,
          1979,
          2014,
          2011
         ],
         "xaxis": "x",
         "y": [
          28,
          55,
          135,
          152,
          218,
          275,
          382,
          388,
          460,
          462,
          472,
          480,
          648,
          706,
          720,
          728,
          747,
          786,
          822,
          838,
          886,
          965,
          986,
          1045,
          1069,
          1093,
          1131,
          1146,
          1183,
          1187,
          1193,
          1257,
          1366,
          1370,
          1404,
          1468,
          1518,
          1714,
          1730,
          1834,
          1849,
          1857,
          1861,
          1878,
          1951,
          1974,
          1989
         ],
         "yaxis": "y"
        },
        {
         "customdata": [
          [
           "Eminem"
          ],
          [
           "De Jeugd Van Tegenwoordig"
          ],
          [
           "Kyteman"
          ],
          [
           "Diggy Dex ft. JW Roy"
          ],
          [
           "Jay-Z & Alicia Keys"
          ],
          [
           "Eminem & Dido"
          ],
          [
           "Massive Attack"
          ],
          [
           "2Pac"
          ],
          [
           "The Black Eyed Peas"
          ],
          [
           "Linkin Park & Jay-Z"
          ],
          [
           "Coolio"
          ],
          [
           "Massive Attack"
          ],
          [
           "Typhoon"
          ],
          [
           "Beastie Boys"
          ],
          [
           "The Opposites"
          ],
          [
           "Eminem"
          ],
          [
           "Diggy Dex"
          ],
          [
           "The Black Eyed Peas"
          ],
          [
           "Eminem"
          ],
          [
           "De Jeugd Van Tegenwoordig"
          ],
          [
           "Fugees"
          ],
          [
           "Dr. Dre ft. Snoop Dogg"
          ],
          [
           "Mr. Probz"
          ],
          [
           "Post Malone"
          ],
          [
           "2Pac ft. Dr. Dre"
          ],
          [
           "2Pac"
          ],
          [
           "Eminem & Rihanna"
          ],
          [
           "Kanye West & Jay-Z"
          ],
          [
           "Sugarhill Gang"
          ],
          [
           "Beastie Boys"
          ],
          [
           "Eminem"
          ],
          [
           "House Of Pain"
          ],
          [
           "Typhoon"
          ],
          [
           "Run DMC & Aerosmith"
          ],
          [
           "OutKast"
          ],
          [
           "Notorious B.I.G."
          ],
          [
           "Prodigy"
          ],
          [
           "Kendrick Lamar"
          ],
          [
           "OutKast"
          ],
          [
           "Eminem"
          ],
          [
           "Kid Rock"
          ],
          [
           "Eminem & Rihanna"
          ]
         ],
         "hovertemplate": "<b>%{hovertext}</b><br><br>Supergenre=Hiphop<br>Year of release=%{x}<br>Position=%{y}<br>Artist=%{customdata[0]}<extra></extra>",
         "hovertext": [
          "Lose Yourself",
          "Sterrenstof",
          "Sorry",
          "Treur Niet (Ode Aan Het Leven)",
          "Empire State Of Mind",
          "Stan",
          "Unfinished Sympathy",
          "Changes",
          "I Gotta Feeling",
          "Numb/Encore",
          "Gangsta's Paradise",
          "Teardrop",
          "Zandloper",
          "Sabotage",
          "Slapeloze Nachten",
          "Without Me",
          "De Zon Op",
          "Where Is The Love",
          "Real Slim Shady",
          "Watskeburt?!",
          "Killing Me Softly",
          "The Next Episode",
          "Waves",
          "Circles",
          "California Love",
          "Dear Mama",
          "Love The Way You Lie",
          ".. In Paris",
          "﻿Rapper's Delight",
          "Fight For Your Right (To Party)",
          "Cleanin' Out My Closet",
          "Jump Around",
          "Hemel Valt",
          "Walk This Way",
          "Hey Ya!",
          "Hypnotize",
          "Out Of Space",
          "King Kunta",
          "Ms. Jackson",
          "My Name Is",
          "All Summer Long",
          "The Monster"
         ],
         "legendgroup": "Hiphop",
         "marker": {
          "color": "#B6E880",
          "symbol": "circle"
         },
         "mode": "markers",
         "name": "Hiphop",
         "showlegend": true,
         "type": "scattergl",
         "x": [
          2002,
          2010,
          2009,
          2015,
          2009,
          2000,
          1991,
          1998,
          2009,
          2004,
          1995,
          1998,
          2014,
          1994,
          2013,
          2002,
          2018,
          2003,
          2000,
          2005,
          1996,
          2000,
          2013,
          2019,
          1996,
          1998,
          2010,
          2011,
          1979,
          1986,
          2002,
          1992,
          2015,
          1986,
          2004,
          1997,
          1993,
          2015,
          2001,
          1999,
          2008,
          2013
         ],
         "xaxis": "x",
         "y": [
          76,
          149,
          170,
          210,
          358,
          376,
          536,
          555,
          573,
          580,
          629,
          702,
          722,
          730,
          787,
          799,
          826,
          855,
          875,
          1167,
          1280,
          1283,
          1290,
          1310,
          1355,
          1365,
          1367,
          1374,
          1396,
          1406,
          1432,
          1440,
          1474,
          1524,
          1650,
          1666,
          1675,
          1716,
          1805,
          1870,
          1874,
          1928
         ],
         "yaxis": "y"
        },
        {
         "customdata": [
          [
           "Eric Clapton"
          ],
          [
           "Gary Moore"
          ],
          [
           "Eric Clapton"
          ],
          [
           "Eric Clapton"
          ],
          [
           "The Temptations"
          ],
          [
           "Cream"
          ],
          [
           "Derek & The Dominos"
          ],
          [
           "John Hiatt"
          ],
          [
           "Blues Brothers"
          ],
          [
           "Etta James"
          ],
          [
           "Stevie Ray Vaughan"
          ],
          [
           "B.B. King"
          ],
          [
           "Tom Waits"
          ],
          [
           "Eric Clapton"
          ],
          [
           "The Black Crowes"
          ],
          [
           "Etta James"
          ],
          [
           "J.J. Cale"
          ],
          [
           "The Robert Cray Band"
          ],
          [
           "Muddy Waters"
          ],
          [
           "J.J. Cale"
          ],
          [
           "J.J. Cale"
          ],
          [
           "The Black Crowes"
          ],
          [
           "Bonnie Raitt"
          ],
          [
           "Eric Clapton"
          ],
          [
           "Frank Zappa"
          ],
          [
           "Cream"
          ]
         ],
         "hovertemplate": "<b>%{hovertext}</b><br><br>Supergenre=Blues<br>Year of release=%{x}<br>Position=%{y}<br>Artist=%{customdata[0]}<extra></extra>",
         "hovertext": [
          "Tears In Heaven",
          "Still Got The Blues",
          "Layla (Unplugged)",
          "Wonderful Tonight",
          "Papa Was A Rolling Stone",
          "White Room",
          "Layla",
          "Have A Little Faith In Me",
          "Everybody Needs Somebody To Love",
          "At Last",
          "Pride And Joy",
          "The Thrill Is Gone",
          "Tom Traubert's Blues (Waltzing Mathilda)",
          "Cocaine",
          "Remedy",
          "I'd Rather Go Blind",
          "After Midnight",
          "Right Next Door (Because Of Me)",
          "Mannish Boy",
          "Cocaine",
          "Call Me The Breeze",
          "Hard To Handle",
          "I Can't Make You Love Me",
          "Forever Man",
          "Dancin' Fool",
          "Sunshine Of Your Love"
         ],
         "legendgroup": "Blues",
         "marker": {
          "color": "#FF97FF",
          "symbol": "circle"
         },
         "mode": "markers",
         "name": "Blues",
         "showlegend": true,
         "type": "scattergl",
         "x": [
          1992,
          1990,
          1992,
          1977,
          1972,
          1968,
          1971,
          1989,
          1989,
          1960,
          1983,
          1969,
          1976,
          1978,
          1992,
          1967,
          1972,
          1987,
          1988,
          1976,
          1972,
          1990,
          1991,
          1985,
          1979,
          1968
         ],
         "xaxis": "x",
         "y": [
          90,
          246,
          404,
          458,
          564,
          641,
          773,
          952,
          995,
          1042,
          1201,
          1256,
          1274,
          1284,
          1312,
          1380,
          1397,
          1543,
          1567,
          1620,
          1652,
          1660,
          1706,
          1778,
          1801,
          1996
         ],
         "yaxis": "y"
        },
        {
         "customdata": [
          [
           "Bob Marley & The Wailers"
          ],
          [
           "Bob Marley & The Wailers"
          ],
          [
           "Peter Fox"
          ],
          [
           "Bob Marley & The Wailers"
          ],
          [
           "Doe Maar"
          ],
          [
           "UB40"
          ],
          [
           "Doe Maar"
          ],
          [
           "Doe Maar"
          ],
          [
           "Doe Maar"
          ],
          [
           "UB40"
          ],
          [
           "Bob Marley & The Wailers"
          ],
          [
           "Doe Maar"
          ],
          [
           "Doe Maar"
          ],
          [
           "No Doubt"
          ],
          [
           "Bob Marley & The Wailers"
          ],
          [
           "UB40"
          ],
          [
           "Doe Maar"
          ],
          [
           "Bob Marley & The Wailers"
          ],
          [
           "UB40 & Chrissie Hynde"
          ],
          [
           "Bob Marley & The Wailers"
          ],
          [
           "Bob Marley & The Wailers"
          ],
          [
           "Bob Marley & The Wailers"
          ],
          [
           "Doe Maar"
          ]
         ],
         "hovertemplate": "<b>%{hovertext}</b><br><br>Supergenre=Reggae<br>Year of release=%{x}<br>Position=%{y}<br>Artist=%{customdata[0]}<extra></extra>",
         "hovertext": [
          "Three Little Birds",
          "Redemption Song",
          "Haus Am See",
          "No Woman, No Cry (live)",
          "Sinds 1 Dag Of 2 (32 Jaar)",
          "Red Red Wine",
          "De Bom",
          "Smoorverliefd",
          "Belle Hélène",
          "Kingston Town",
          "Could You Be Loved",
          "Is Dit Alles",
          "Nederwiet",
          "Don't Speak",
          "Stir It Up (live)",
          "Food For Thought",
          "Pa",
          "One Love/People Get Ready",
          "I Got You Babe",
          "Is This Love",
          "Get Up Stand Up",
          "Buffalo Soldier",
          "1 Nacht Alleen"
         ],
         "legendgroup": "Reggae",
         "marker": {
          "color": "#FECB52",
          "symbol": "circle"
         },
         "mode": "markers",
         "name": "Reggae",
         "showlegend": true,
         "type": "scattergl",
         "x": [
          1977,
          1980,
          2009,
          1975,
          1981,
          1983,
          1982,
          1981,
          1982,
          1990,
          1980,
          1982,
          1983,
          1996,
          1979,
          1983,
          1983,
          1984,
          1985,
          1979,
          1973,
          1983,
          1983
         ],
         "xaxis": "x",
         "y": [
          123,
          304,
          319,
          336,
          413,
          544,
          672,
          709,
          710,
          789,
          892,
          1061,
          1076,
          1120,
          1244,
          1405,
          1487,
          1520,
          1549,
          1611,
          1659,
          1840,
          1948
         ],
         "yaxis": "y"
        },
        {
         "customdata": [
          [
           "Rammstein"
          ],
          [
           "Rammstein"
          ],
          [
           "Rammstein"
          ],
          [
           "Stromae"
          ],
          [
           "Faithless"
          ],
          [
           "Avicii ft. Aloe Blacc"
          ],
          [
           "Rammstein"
          ],
          [
           "Alphaville"
          ],
          [
           "Underworld"
          ],
          [
           "Faithless"
          ],
          [
           "Stromae"
          ],
          [
           "DJ Paul Elstak"
          ],
          [
           "Avicii"
          ],
          [
           "Avicii"
          ],
          [
           "Armin van Buuren ft. Kensington"
          ],
          [
           "Armin van Buuren ft.Trevor Guthrie"
          ],
          [
           "Orchestral Manoeuvres In The Dark"
          ],
          [
           "Talk Talk"
          ],
          [
           "Vangelis"
          ],
          [
           "Rammstein"
          ],
          [
           "Stromae"
          ],
          [
           "David Guetta & Sia"
          ],
          [
           "Peter Schilling"
          ],
          [
           "The Prodigy"
          ],
          [
           "The Prodigy"
          ],
          [
           "Duran Duran"
          ],
          [
           "Tiësto"
          ],
          [
           "Enya"
          ],
          [
           "Soft Cell"
          ],
          [
           "Gigi D'agostino"
          ],
          [
           "Talk Talk"
          ],
          [
           "The Chainsmokers & Coldplay"
          ],
          [
           "Daft Punk ft. Pharrell Williams"
          ],
          [
           "Clannad & Bono"
          ],
          [
           "Talk Talk"
          ],
          [
           "Daft Punk"
          ],
          [
           "Enya"
          ],
          [
           "Duran Duran"
          ],
          [
           "DJ Paul Elstak"
          ],
          [
           "Alphaville"
          ],
          [
           "Duran Duran"
          ],
          [
           "Paul Kalkbrenner"
          ],
          [
           "Stromae"
          ],
          [
           "Air"
          ],
          [
           "Darude"
          ],
          [
           "Kraftwerk"
          ],
          [
           "Robert Miles"
          ],
          [
           "Rammstein"
          ],
          [
           "The Prodigy"
          ],
          [
           "Martin Garrix"
          ],
          [
           "Faithless"
          ],
          [
           "Talk Talk"
          ],
          [
           "Avicii"
          ],
          [
           "The Prodigy"
          ],
          [
           "Pet Shop Boys"
          ],
          [
           "The Human League"
          ],
          [
           "Owl City"
          ],
          [
           "Tiësto"
          ],
          [
           "Daft Punk"
          ],
          [
           "Armin van Buuren ft. Josh Cumbee"
          ],
          [
           "Alan Walker"
          ],
          [
           "Delerium ft. Sarah McLachlan"
          ],
          [
           "Daft Punk"
          ],
          [
           "Master KG ft. Nomcebo"
          ],
          [
           "Orchestral Manoeuvres In The Dark"
          ],
          [
           "Swedish House Mafia ft. John Martin"
          ],
          [
           "Party Animals"
          ],
          [
           "Pet Shop Boys"
          ],
          [
           "Avicii ft. Chris Martin"
          ],
          [
           "Diesel"
          ],
          [
           "Fatboy Slim"
          ],
          [
           "Snap!"
          ],
          [
           "Kraftwerk"
          ],
          [
           "Duran Duran"
          ],
          [
           "The Chemical Brothers"
          ]
         ],
         "hovertemplate": "<b>%{hovertext}</b><br><br>Supergenre=Electronic<br>Year of release=%{x}<br>Position=%{y}<br>Artist=%{customdata[0]}<extra></extra>",
         "hovertext": [
          "Du Hast",
          "Deutschland",
          "Sonne",
          "Formidable",
          "Insomnia",
          "Wake Me Up",
          "Engel",
          "Forever Young",
          "Born Slippy",
          "God Is A DJ",
          "Papaoutai",
          "Rainbow In The Sky",
          "Hey Brother",
          "Levels",
          "Heading Up High",
          "This Is What It Feels Like",
          "Maid Of Orleans",
          "Such A Shame",
          "Conquest Of Paradise",
          "Mutter",
          "Alors On Danse",
          "Titanium",
          "Major Tom (Völlig Losgelöst)",
          "Firestarter",
          "Smack My Bitch Up",
          "Ordinary World",
          "Traffic",
          "Only Time",
          "Tainted Love",
          "L'amour Toujours",
          "It's My Life",
          "Something Just Like This",
          "Get Lucky",
          "In A Lifetime",
          "Life's What You Make It",
          "One More Time",
          "Orinoco Flow (Sail Away)",
          "The Reflex",
          "Luv U More",
          "Big In Japan",
          "Save A Prayer",
          "Sky And Sand",
          "Tous Les Mêmes",
          "All I Need",
          "Sandstorm",
          "Autobahn",
          "Children",
          "Amerika",
          "Breathe",
          "Animals",
          "We Come 1",
          "Living In Another World",
          "Addicted To You",
          "No Good (Start The Dance)",
          "It's A Sin",
          "Don't You Want Me",
          "Fireflies",
          "The Business",
          "Harder Better Faster Stronger",
          "Sunny Days",
          "Faded",
          "Silence (Tiesto Mix)",
          "Around The World",
          "Jerusalema",
          "Enola Gay",
          "Don't You Worry Child",
          "Have You Ever Been Mellow",
          "West End Girls",
          "Heaven",
          "Sausolito Summernight",
          "Praise You",
          "Rhythm Is A Dancer",
          "The Model",
          "Wild Boys",
          "Hey Boy Hey Girl"
         ],
         "legendgroup": "Electronic",
         "marker": {
          "color": "#636efa",
          "symbol": "circle"
         },
         "mode": "markers",
         "name": "Electronic",
         "showlegend": true,
         "type": "scattergl",
         "x": [
          1997,
          2019,
          2001,
          2013,
          1996,
          2013,
          1997,
          1984,
          1996,
          1998,
          2013,
          1995,
          2013,
          2011,
          2015,
          2013,
          1982,
          1984,
          1995,
          2001,
          2010,
          2011,
          1983,
          1996,
          1997,
          1993,
          2003,
          2000,
          1981,
          2001,
          1984,
          2017,
          2013,
          1986,
          1985,
          2000,
          1988,
          1984,
          1995,
          1984,
          1982,
          2008,
          2013,
          1998,
          2000,
          1975,
          1996,
          2004,
          1996,
          2013,
          2001,
          1986,
          2014,
          1994,
          1987,
          1982,
          2009,
          2020,
          2001,
          2017,
          2016,
          1997,
          1997,
          2020,
          1980,
          2012,
          1996,
          1986,
          2019,
          1980,
          1998,
          1992,
          1978,
          1984,
          1999
         ],
         "xaxis": "x",
         "y": [
          140,
          147,
          186,
          203,
          255,
          256,
          292,
          310,
          318,
          368,
          410,
          412,
          420,
          433,
          461,
          510,
          516,
          578,
          586,
          673,
          690,
          757,
          760,
          804,
          831,
          874,
          905,
          944,
          970,
          988,
          991,
          1004,
          1011,
          1099,
          1108,
          1115,
          1159,
          1170,
          1178,
          1222,
          1226,
          1227,
          1229,
          1240,
          1261,
          1294,
          1325,
          1329,
          1364,
          1369,
          1391,
          1408,
          1431,
          1433,
          1435,
          1454,
          1464,
          1527,
          1536,
          1573,
          1613,
          1642,
          1663,
          1709,
          1719,
          1740,
          1755,
          1758,
          1803,
          1814,
          1879,
          1917,
          1950,
          1980,
          1991
         ],
         "yaxis": "y"
        },
        {
         "customdata": [
          [
           "Charles Aznavour"
          ],
          [
           "The Mamas & The Papas"
          ],
          [
           "Charles Aznavour"
          ],
          [
           "Peter Maffay"
          ],
          [
           "Michel Fugain"
          ],
          [
           "Sinéad O'Connor"
          ],
          [
           "Sinéad O'Connor"
          ],
          [
           "Gerry & The Pacemakers"
          ],
          [
           "Charles Aznavour"
          ],
          [
           "Ennio Morricone"
          ],
          [
           "Charly Lownoise & Mental Theo"
          ],
          [
           "P!nk ft. Nate Ruess"
          ],
          [
           "Chi Coltrane"
          ],
          [
           "Amy MacDonald"
          ],
          [
           "Carole King"
          ],
          [
           "Måneskin"
          ],
          [
           "Yann Tiersen"
          ],
          [
           "Michel Sardou"
          ],
          [
           "BAP"
          ],
          [
           "Gilbert Bécaud"
          ],
          [
           "Macklemore & Ryan Lewis ft. Ray Dalton"
          ],
          [
           "Barbra Streisand & Barry Gibb"
          ],
          [
           "Claw Boys Claw"
          ],
          [
           "Lee Towers"
          ],
          [
           "Patrick Bruel"
          ],
          [
           "The Communards & Sarah Jane Morris"
          ],
          [
           "Spider Murphy Gang"
          ],
          [
           "Bill Medley & Jennifer Warnes"
          ],
          [
           "Karin Bloemen"
          ],
          [
           "Peter Frampton"
          ],
          [
           "The Weeknd ft. Daft Punk"
          ],
          [
           "Jean Michel Jarre"
          ],
          [
           "Youp van 't Hek"
          ],
          [
           "Anouk & Douwe Bob"
          ],
          [
           "Céline Dion & Barbra Streisand"
          ],
          [
           "Julien Clerc"
          ],
          [
           "Reinhard Mey"
          ],
          [
           "Emma Heesters & Rolf Sanchez"
          ],
          [
           "﻿Electric Light Orchestra"
          ],
          [
           "Herman Brood & Henny Vrienten"
          ],
          [
           "The Mamas & The Papas"
          ],
          [
           "Miles Davis"
          ]
         ],
         "hovertemplate": "<b>%{hovertext}</b><br><br>Supergenre=Other<br>Year of release=%{x}<br>Position=%{y}<br>Artist=%{customdata[0]}<extra></extra>",
         "hovertext": [
          "She",
          "California Dreamin'",
          "La Bohème",
          "Du",
          "Une Belle Histoire",
          "Nothing Compares 2 U",
          "Troy",
          "You'll Never Walk Alone",
          "Yesterday When I Was Young",
          "Once Upon A Time In The West",
          "Wonderfull Days",
          "Just Give Me A Reason",
          "Go Like Elijah",
          "This Is The Life",
          "You've Got A Friend",
          "Zitti E Buoni",
          "Comptine D'un Autre Ete, L'Apres Midi (Amelie)",
          "Les Lacs Du Connemara",
          "Kristallnaach",
          "Nathalie",
          "Can't Hold Us",
          "Guilty",
          "Rosie",
          "You'll Never Walk Alone",
          "Casser La Voix (Live)",
          "Don't Leave Me This Way",
          "Skandal Im Sperrbezirk",
          "I've Had The Time Of My Life",
          "Geen Kind Meer",
          "Show Me The Way",
          "I Feel It Coming",
          "Oxygene IV",
          "Flappie",
          "Hold Me",
          "Tell Him",
          "Venise (Elle Voulait Qu'on L'Appelle)",
          "Gute Nacht Freunde",
          "Pa Olvidarte",
          "Can't Get It Out Of My Head",
          "Als Je Wint",
          "Monday Monday",
          "So What"
         ],
         "legendgroup": "Other",
         "marker": {
          "color": "#EF553B",
          "symbol": "circle"
         },
         "mode": "markers",
         "name": "Other",
         "showlegend": true,
         "type": "scattergl",
         "x": [
          1974,
          1966,
          1966,
          1971,
          1972,
          1990,
          1987,
          1963,
          1970,
          1976,
          1995,
          2012,
          1973,
          2008,
          1971,
          2021,
          2001,
          1982,
          1983,
          1964,
          2012,
          1980,
          1992,
          1976,
          1992,
          1986,
          1982,
          1987,
          1996,
          1976,
          2016,
          1977,
          1981,
          2014,
          1997,
          1976,
          1974,
          2019,
          1975,
          1984,
          1966,
          1959
         ],
         "xaxis": "x",
         "y": [
          178,
          266,
          278,
          287,
          296,
          349,
          352,
          486,
          650,
          677,
          693,
          742,
          806,
          819,
          1000,
          1021,
          1039,
          1080,
          1098,
          1104,
          1117,
          1176,
          1267,
          1338,
          1389,
          1492,
          1510,
          1512,
          1521,
          1542,
          1572,
          1622,
          1636,
          1647,
          1665,
          1729,
          1745,
          1795,
          1856,
          1892,
          1932,
          1990
         ],
         "yaxis": "y"
        },
        {
         "customdata": [
          [
           "Freddie Mercury & Montserrat Caballé"
          ],
          [
           "Andrea Bocelli & Giorgia"
          ],
          [
           "Andrea Bocelli & Sarah Brightman"
          ],
          [
           "Andrea Bocelli"
          ]
         ],
         "hovertemplate": "<b>%{hovertext}</b><br><br>Supergenre=Classical<br>Year of release=%{x}<br>Position=%{y}<br>Artist=%{customdata[0]}<extra></extra>",
         "hovertext": [
          "Barcelona",
          "Vivo Per Lei",
          "Time To Say Goodbye",
          "Con Te Partiro"
         ],
         "legendgroup": "Classical",
         "marker": {
          "color": "#00cc96",
          "symbol": "circle"
         },
         "mode": "markers",
         "name": "Classical",
         "showlegend": true,
         "type": "scattergl",
         "x": [
          1987,
          1996,
          1997,
          1996
         ],
         "xaxis": "x",
         "y": [
          192,
          441,
          530,
          854
         ],
         "yaxis": "y"
        },
        {
         "customdata": [
          [
           "Frank Sinatra"
          ],
          [
           "Louis Armstrong"
          ],
          [
           "Eva Cassidy"
          ],
          [
           "Nina Simone"
          ],
          [
           "Frank Sinatra"
          ],
          [
           "Frank Sinatra"
          ],
          [
           "Nina Simone"
          ],
          [
           "Paolo Conte"
          ],
          [
           "Sade"
          ],
          [
           "Portishead"
          ],
          [
           "Dave Brubeck Quartet"
          ],
          [
           "Michael Bublé"
          ],
          [
           "Bill Withers & Grover Washington, Jr."
          ],
          [
           "Katie Melua"
          ],
          [
           "Level 42"
          ],
          [
           "Frank Sinatra"
          ],
          [
           "Ella Fitzgerald & Louis Armstrong"
          ],
          [
           "Caro Emerald"
          ],
          [
           "Norah Jones"
          ],
          [
           "Nina Simone"
          ],
          [
           "Sammy Davis Jr."
          ],
          [
           "Eva Cassidy"
          ],
          [
           "Norah Jones"
          ],
          [
           "Gregory Porter"
          ],
          [
           "Frank Sinatra"
          ],
          [
           "Michael Bublé"
          ],
          [
           "Level 42"
          ],
          [
           "Shirley Bassey"
          ]
         ],
         "hovertemplate": "<b>%{hovertext}</b><br><br>Supergenre=Jazz<br>Year of release=%{x}<br>Position=%{y}<br>Artist=%{customdata[0]}<extra></extra>",
         "hovertext": [
          "My Way",
          "What A Wonderful World",
          "Fields Of Gold",
          "Ain't Got No, I Got Life (Original)",
          "Fly Me To The Moon",
          "That's Life",
          "Feeling Good",
          "Max",
          "Smooth Operator",
          "Glory Box",
          "Take Five",
          "Feeling Good",
          "Just The Two Of Us",
          "Nine Million Bicycles",
          "Lessons In Love",
          "Theme From 'New York New York'",
          "Summertime",
          "A Night Like This",
          "Sunrise",
          "My Baby Just Cares For Me",
          "Mr. Bojangles",
          "Songbird",
          "Don't Know Why",
          "Liquid Spirit (Claptone Remix)",
          "It Was A Very Good Year",
          "Home",
          "Love Games",
          "This Is My Life"
         ],
         "legendgroup": "Jazz",
         "marker": {
          "color": "#ab63fa",
          "symbol": "circle"
         },
         "mode": "markers",
         "name": "Jazz",
         "showlegend": true,
         "type": "scattergl",
         "x": [
          1969,
          1968,
          1996,
          1968,
          1964,
          1966,
          1965,
          1988,
          1984,
          1994,
          1962,
          2005,
          1981,
          2005,
          1986,
          1980,
          1958,
          2009,
          2004,
          1987,
          1967,
          1997,
          2002,
          2015,
          1968,
          2005,
          1981,
          1979
         ],
         "xaxis": "x",
         "y": [
          307,
          514,
          655,
          733,
          756,
          938,
          1064,
          1142,
          1175,
          1191,
          1194,
          1251,
          1268,
          1302,
          1399,
          1429,
          1477,
          1525,
          1547,
          1568,
          1648,
          1737,
          1746,
          1789,
          1844,
          1890,
          1957,
          1969
         ],
         "yaxis": "y"
        },
        {
         "customdata": [
          [
           "Buena Vista Social Club"
          ],
          [
           "Santana"
          ],
          [
           "Santana"
          ],
          [
           "Santana"
          ],
          [
           "Julio Iglesias"
          ],
          [
           "Coldplay & Buena Vista Social Club"
          ],
          [
           "Santana"
          ],
          [
           "Santana & Rob Thomas"
          ]
         ],
         "hovertemplate": "<b>%{hovertext}</b><br><br>Supergenre=Latin<br>Year of release=%{x}<br>Position=%{y}<br>Artist=%{customdata[0]}<extra></extra>",
         "hovertext": [
          "Chan Chan",
          "Samba Pa Ti",
          "She's Not There",
          "Black Magic Woman",
          "Quiero",
          "Clocks (Rhythms Del Mundo)",
          "Europa (Earth's Cry Heaven's Smile)",
          "Smooth"
         ],
         "legendgroup": "Latin",
         "marker": {
          "color": "#FFA15A",
          "symbol": "circle"
         },
         "mode": "markers",
         "name": "Latin",
         "showlegend": true,
         "type": "scattergl",
         "x": [
          1997,
          1970,
          1978,
          1970,
          1976,
          2006,
          1976,
          2000
         ],
         "xaxis": "x",
         "y": [
          484,
          508,
          685,
          695,
          1563,
          1577,
          1683,
          1871
         ],
         "yaxis": "y"
        }
       ],
       "layout": {
        "legend": {
         "orientation": "h",
         "title": {
          "text": "Supergenre"
         },
         "tracegroupgap": 0,
         "x": 1,
         "xanchor": "right",
         "y": 1.3,
         "yanchor": "bottom"
        },
        "margin": {
         "t": 60
        },
        "template": {
         "data": {
          "bar": [
           {
            "error_x": {
             "color": "#2a3f5f"
            },
            "error_y": {
             "color": "#2a3f5f"
            },
            "marker": {
             "line": {
              "color": "#E5ECF6",
              "width": 0.5
             },
             "pattern": {
              "fillmode": "overlay",
              "size": 10,
              "solidity": 0.2
             }
            },
            "type": "bar"
           }
          ],
          "barpolar": [
           {
            "marker": {
             "line": {
              "color": "#E5ECF6",
              "width": 0.5
             },
             "pattern": {
              "fillmode": "overlay",
              "size": 10,
              "solidity": 0.2
             }
            },
            "type": "barpolar"
           }
          ],
          "carpet": [
           {
            "aaxis": {
             "endlinecolor": "#2a3f5f",
             "gridcolor": "white",
             "linecolor": "white",
             "minorgridcolor": "white",
             "startlinecolor": "#2a3f5f"
            },
            "baxis": {
             "endlinecolor": "#2a3f5f",
             "gridcolor": "white",
             "linecolor": "white",
             "minorgridcolor": "white",
             "startlinecolor": "#2a3f5f"
            },
            "type": "carpet"
           }
          ],
          "choropleth": [
           {
            "colorbar": {
             "outlinewidth": 0,
             "ticks": ""
            },
            "type": "choropleth"
           }
          ],
          "contour": [
           {
            "colorbar": {
             "outlinewidth": 0,
             "ticks": ""
            },
            "colorscale": [
             [
              0,
              "#0d0887"
             ],
             [
              0.1111111111111111,
              "#46039f"
             ],
             [
              0.2222222222222222,
              "#7201a8"
             ],
             [
              0.3333333333333333,
              "#9c179e"
             ],
             [
              0.4444444444444444,
              "#bd3786"
             ],
             [
              0.5555555555555556,
              "#d8576b"
             ],
             [
              0.6666666666666666,
              "#ed7953"
             ],
             [
              0.7777777777777778,
              "#fb9f3a"
             ],
             [
              0.8888888888888888,
              "#fdca26"
             ],
             [
              1,
              "#f0f921"
             ]
            ],
            "type": "contour"
           }
          ],
          "contourcarpet": [
           {
            "colorbar": {
             "outlinewidth": 0,
             "ticks": ""
            },
            "type": "contourcarpet"
           }
          ],
          "heatmap": [
           {
            "colorbar": {
             "outlinewidth": 0,
             "ticks": ""
            },
            "colorscale": [
             [
              0,
              "#0d0887"
             ],
             [
              0.1111111111111111,
              "#46039f"
             ],
             [
              0.2222222222222222,
              "#7201a8"
             ],
             [
              0.3333333333333333,
              "#9c179e"
             ],
             [
              0.4444444444444444,
              "#bd3786"
             ],
             [
              0.5555555555555556,
              "#d8576b"
             ],
             [
              0.6666666666666666,
              "#ed7953"
             ],
             [
              0.7777777777777778,
              "#fb9f3a"
             ],
             [
              0.8888888888888888,
              "#fdca26"
             ],
             [
              1,
              "#f0f921"
             ]
            ],
            "type": "heatmap"
           }
          ],
          "heatmapgl": [
           {
            "colorbar": {
             "outlinewidth": 0,
             "ticks": ""
            },
            "colorscale": [
             [
              0,
              "#0d0887"
             ],
             [
              0.1111111111111111,
              "#46039f"
             ],
             [
              0.2222222222222222,
              "#7201a8"
             ],
             [
              0.3333333333333333,
              "#9c179e"
             ],
             [
              0.4444444444444444,
              "#bd3786"
             ],
             [
              0.5555555555555556,
              "#d8576b"
             ],
             [
              0.6666666666666666,
              "#ed7953"
             ],
             [
              0.7777777777777778,
              "#fb9f3a"
             ],
             [
              0.8888888888888888,
              "#fdca26"
             ],
             [
              1,
              "#f0f921"
             ]
            ],
            "type": "heatmapgl"
           }
          ],
          "histogram": [
           {
            "marker": {
             "pattern": {
              "fillmode": "overlay",
              "size": 10,
              "solidity": 0.2
             }
            },
            "type": "histogram"
           }
          ],
          "histogram2d": [
           {
            "colorbar": {
             "outlinewidth": 0,
             "ticks": ""
            },
            "colorscale": [
             [
              0,
              "#0d0887"
             ],
             [
              0.1111111111111111,
              "#46039f"
             ],
             [
              0.2222222222222222,
              "#7201a8"
             ],
             [
              0.3333333333333333,
              "#9c179e"
             ],
             [
              0.4444444444444444,
              "#bd3786"
             ],
             [
              0.5555555555555556,
              "#d8576b"
             ],
             [
              0.6666666666666666,
              "#ed7953"
             ],
             [
              0.7777777777777778,
              "#fb9f3a"
             ],
             [
              0.8888888888888888,
              "#fdca26"
             ],
             [
              1,
              "#f0f921"
             ]
            ],
            "type": "histogram2d"
           }
          ],
          "histogram2dcontour": [
           {
            "colorbar": {
             "outlinewidth": 0,
             "ticks": ""
            },
            "colorscale": [
             [
              0,
              "#0d0887"
             ],
             [
              0.1111111111111111,
              "#46039f"
             ],
             [
              0.2222222222222222,
              "#7201a8"
             ],
             [
              0.3333333333333333,
              "#9c179e"
             ],
             [
              0.4444444444444444,
              "#bd3786"
             ],
             [
              0.5555555555555556,
              "#d8576b"
             ],
             [
              0.6666666666666666,
              "#ed7953"
             ],
             [
              0.7777777777777778,
              "#fb9f3a"
             ],
             [
              0.8888888888888888,
              "#fdca26"
             ],
             [
              1,
              "#f0f921"
             ]
            ],
            "type": "histogram2dcontour"
           }
          ],
          "mesh3d": [
           {
            "colorbar": {
             "outlinewidth": 0,
             "ticks": ""
            },
            "type": "mesh3d"
           }
          ],
          "parcoords": [
           {
            "line": {
             "colorbar": {
              "outlinewidth": 0,
              "ticks": ""
             }
            },
            "type": "parcoords"
           }
          ],
          "pie": [
           {
            "automargin": true,
            "type": "pie"
           }
          ],
          "scatter": [
           {
            "marker": {
             "colorbar": {
              "outlinewidth": 0,
              "ticks": ""
             }
            },
            "type": "scatter"
           }
          ],
          "scatter3d": [
           {
            "line": {
             "colorbar": {
              "outlinewidth": 0,
              "ticks": ""
             }
            },
            "marker": {
             "colorbar": {
              "outlinewidth": 0,
              "ticks": ""
             }
            },
            "type": "scatter3d"
           }
          ],
          "scattercarpet": [
           {
            "marker": {
             "colorbar": {
              "outlinewidth": 0,
              "ticks": ""
             }
            },
            "type": "scattercarpet"
           }
          ],
          "scattergeo": [
           {
            "marker": {
             "colorbar": {
              "outlinewidth": 0,
              "ticks": ""
             }
            },
            "type": "scattergeo"
           }
          ],
          "scattergl": [
           {
            "marker": {
             "colorbar": {
              "outlinewidth": 0,
              "ticks": ""
             }
            },
            "type": "scattergl"
           }
          ],
          "scattermapbox": [
           {
            "marker": {
             "colorbar": {
              "outlinewidth": 0,
              "ticks": ""
             }
            },
            "type": "scattermapbox"
           }
          ],
          "scatterpolar": [
           {
            "marker": {
             "colorbar": {
              "outlinewidth": 0,
              "ticks": ""
             }
            },
            "type": "scatterpolar"
           }
          ],
          "scatterpolargl": [
           {
            "marker": {
             "colorbar": {
              "outlinewidth": 0,
              "ticks": ""
             }
            },
            "type": "scatterpolargl"
           }
          ],
          "scatterternary": [
           {
            "marker": {
             "colorbar": {
              "outlinewidth": 0,
              "ticks": ""
             }
            },
            "type": "scatterternary"
           }
          ],
          "surface": [
           {
            "colorbar": {
             "outlinewidth": 0,
             "ticks": ""
            },
            "colorscale": [
             [
              0,
              "#0d0887"
             ],
             [
              0.1111111111111111,
              "#46039f"
             ],
             [
              0.2222222222222222,
              "#7201a8"
             ],
             [
              0.3333333333333333,
              "#9c179e"
             ],
             [
              0.4444444444444444,
              "#bd3786"
             ],
             [
              0.5555555555555556,
              "#d8576b"
             ],
             [
              0.6666666666666666,
              "#ed7953"
             ],
             [
              0.7777777777777778,
              "#fb9f3a"
             ],
             [
              0.8888888888888888,
              "#fdca26"
             ],
             [
              1,
              "#f0f921"
             ]
            ],
            "type": "surface"
           }
          ],
          "table": [
           {
            "cells": {
             "fill": {
              "color": "#EBF0F8"
             },
             "line": {
              "color": "white"
             }
            },
            "header": {
             "fill": {
              "color": "#C8D4E3"
             },
             "line": {
              "color": "white"
             }
            },
            "type": "table"
           }
          ]
         },
         "layout": {
          "annotationdefaults": {
           "arrowcolor": "#2a3f5f",
           "arrowhead": 0,
           "arrowwidth": 1
          },
          "autotypenumbers": "strict",
          "coloraxis": {
           "colorbar": {
            "outlinewidth": 0,
            "ticks": ""
           }
          },
          "colorscale": {
           "diverging": [
            [
             0,
             "#8e0152"
            ],
            [
             0.1,
             "#c51b7d"
            ],
            [
             0.2,
             "#de77ae"
            ],
            [
             0.3,
             "#f1b6da"
            ],
            [
             0.4,
             "#fde0ef"
            ],
            [
             0.5,
             "#f7f7f7"
            ],
            [
             0.6,
             "#e6f5d0"
            ],
            [
             0.7,
             "#b8e186"
            ],
            [
             0.8,
             "#7fbc41"
            ],
            [
             0.9,
             "#4d9221"
            ],
            [
             1,
             "#276419"
            ]
           ],
           "sequential": [
            [
             0,
             "#0d0887"
            ],
            [
             0.1111111111111111,
             "#46039f"
            ],
            [
             0.2222222222222222,
             "#7201a8"
            ],
            [
             0.3333333333333333,
             "#9c179e"
            ],
            [
             0.4444444444444444,
             "#bd3786"
            ],
            [
             0.5555555555555556,
             "#d8576b"
            ],
            [
             0.6666666666666666,
             "#ed7953"
            ],
            [
             0.7777777777777778,
             "#fb9f3a"
            ],
            [
             0.8888888888888888,
             "#fdca26"
            ],
            [
             1,
             "#f0f921"
            ]
           ],
           "sequentialminus": [
            [
             0,
             "#0d0887"
            ],
            [
             0.1111111111111111,
             "#46039f"
            ],
            [
             0.2222222222222222,
             "#7201a8"
            ],
            [
             0.3333333333333333,
             "#9c179e"
            ],
            [
             0.4444444444444444,
             "#bd3786"
            ],
            [
             0.5555555555555556,
             "#d8576b"
            ],
            [
             0.6666666666666666,
             "#ed7953"
            ],
            [
             0.7777777777777778,
             "#fb9f3a"
            ],
            [
             0.8888888888888888,
             "#fdca26"
            ],
            [
             1,
             "#f0f921"
            ]
           ]
          },
          "colorway": [
           "#636efa",
           "#EF553B",
           "#00cc96",
           "#ab63fa",
           "#FFA15A",
           "#19d3f3",
           "#FF6692",
           "#B6E880",
           "#FF97FF",
           "#FECB52"
          ],
          "font": {
           "color": "#2a3f5f"
          },
          "geo": {
           "bgcolor": "white",
           "lakecolor": "white",
           "landcolor": "#E5ECF6",
           "showlakes": true,
           "showland": true,
           "subunitcolor": "white"
          },
          "hoverlabel": {
           "align": "left"
          },
          "hovermode": "closest",
          "mapbox": {
           "style": "light"
          },
          "paper_bgcolor": "white",
          "plot_bgcolor": "#E5ECF6",
          "polar": {
           "angularaxis": {
            "gridcolor": "white",
            "linecolor": "white",
            "ticks": ""
           },
           "bgcolor": "#E5ECF6",
           "radialaxis": {
            "gridcolor": "white",
            "linecolor": "white",
            "ticks": ""
           }
          },
          "scene": {
           "xaxis": {
            "backgroundcolor": "#E5ECF6",
            "gridcolor": "white",
            "gridwidth": 2,
            "linecolor": "white",
            "showbackground": true,
            "ticks": "",
            "zerolinecolor": "white"
           },
           "yaxis": {
            "backgroundcolor": "#E5ECF6",
            "gridcolor": "white",
            "gridwidth": 2,
            "linecolor": "white",
            "showbackground": true,
            "ticks": "",
            "zerolinecolor": "white"
           },
           "zaxis": {
            "backgroundcolor": "#E5ECF6",
            "gridcolor": "white",
            "gridwidth": 2,
            "linecolor": "white",
            "showbackground": true,
            "ticks": "",
            "zerolinecolor": "white"
           }
          },
          "shapedefaults": {
           "line": {
            "color": "#2a3f5f"
           }
          },
          "ternary": {
           "aaxis": {
            "gridcolor": "white",
            "linecolor": "white",
            "ticks": ""
           },
           "baxis": {
            "gridcolor": "white",
            "linecolor": "white",
            "ticks": ""
           },
           "bgcolor": "#E5ECF6",
           "caxis": {
            "gridcolor": "white",
            "linecolor": "white",
            "ticks": ""
           }
          },
          "title": {
           "x": 0.05
          },
          "xaxis": {
           "automargin": true,
           "gridcolor": "white",
           "linecolor": "white",
           "ticks": "",
           "title": {
            "standoff": 15
           },
           "zerolinecolor": "white",
           "zerolinewidth": 2
          },
          "yaxis": {
           "automargin": true,
           "gridcolor": "white",
           "linecolor": "white",
           "ticks": "",
           "title": {
            "standoff": 15
           },
           "zerolinecolor": "white",
           "zerolinewidth": 2
          }
         }
        },
        "title": {
         "text": "Songs by year of release and position"
        },
        "xaxis": {
         "anchor": "y",
         "domain": [
          0,
          1
         ],
         "title": {
          "text": "Year of release"
         }
        },
        "yaxis": {
         "anchor": "x",
         "domain": [
          0,
          1
         ],
         "title": {
          "text": "Position"
         }
        }
       }
      },
      "text/html": [
       "<div>                            <div id=\"3d2daff2-9a47-4592-a345-cf2093acd430\" class=\"plotly-graph-div\" style=\"height:525px; width:100%;\"></div>            <script type=\"text/javascript\">                require([\"plotly\"], function(Plotly) {                    window.PLOTLYENV=window.PLOTLYENV || {};                                    if (document.getElementById(\"3d2daff2-9a47-4592-a345-cf2093acd430\")) {                    Plotly.newPlot(                        \"3d2daff2-9a47-4592-a345-cf2093acd430\",                        [{\"customdata\":[[\"Queen\"],[\"Procol Harum\"],[\"Eagles\"],[\"Billy Joel\"],[\"Golden Earring\"],[\"Led Zeppelin\"],[\"Pearl Jam\"],[\"Queen\"],[\"Pink Floyd\"],[\"Di-rect\"],[\"Deep Purple\"],[\"Bruce Springsteen\"],[\"Guns N' Roses\"],[\"Dire Straits\"],[\"Disturbed\"],[\"Pink Floyd\"],[\"Toto\"],[\"David Bowie\"],[\"Dire Straits\"],[\"Pink Floyd\"],[\"Nirvana\"],[\"AC/DC\"],[\"Pearl Jam\"],[\"Guns N' Roses\"],[\"John Lennon\"],[\"Meat Loaf\"],[\"Dire Straits\"],[\"Phil Collins\"],[\"The Cure\"],[\"Queen\"],[\"Fleetwood Mac\"],[\"Linkin Park\"],[\"Supertramp\"],[\"Rage Against The Machine\"],[\"The Rolling Stones\"],[\"Golden Earring\"],[\"Queen\"],[\"Pearl Jam\"],[\"The Beatles\"],[\"U2\"],[\"The Beach Boys\"],[\"The Rolling Stones\"],[\"Kensington\"],[\"Radiohead\"],[\"U2\"],[\"Electric Light Orchestra\"],[\"Queen & David Bowie\"],[\"Supertramp\"],[\"Pink Floyd\"],[\"U2\"],[\"Fleetwood Mac\"],[\"George Michael & Queen\"],[\"Muse\"],[\"The Alan Parsons Project\"],[\"Queen\"],[\"The Beatles\"],[\"Red Hot Chili Peppers\"],[\"The Doors\"],[\"AC/DC\"],[\"Queen\"],[\"The Rolling Stones\"],[\"Dire Straits\"],[\"Kensington\"],[\"Golden Earring\"],[\"Nothing But Thieves\"],[\"Snow Patrol\"],[\"The Rolling Stones\"],[\"The Beatles\"],[\"R.E.M.\"],[\"Queen\"],[\"The Beatles\"],[\"AC/DC\"],[\"Creedence Clearwater Revival\"],[\"Journey\"],[\"Billy Joel\"],[\"Fleetwood Mac\"],[\"Golden Earring\"],[\"Elvis Presley\"],[\"U2\"],[\"David Bowie\"],[\"The Beatles\"],[\"The Verve\"],[\"Animals\"],[\"The Cranberries\"],[\"Foo Fighters\"],[\"Oasis\"],[\"The Moody Blues\"],[\"The Killers\"],[\"Muse\"],[\"Depeche Mode\"],[\"Red Hot Chili Peppers\"],[\"U2\"],[\"Nirvana\"],[\"Oasis\"],[\"Sting\"],[\"Guns N' Roses\"],[\"Bryan Adams\"],[\"Anouk\"],[\"Bon Jovi\"],[\"Dire Straits\"],[\"Bruce Springsteen\"],[\"Sting\"],[\"Herman Brood & His Wild Romance\"],[\"Nick Cave & The Bad Seeds\"],[\"Eagles\"],[\"Queen\"],[\"Paul Simon\"],[\"Creedence Clearwater Revival\"],[\"Earth, Wind & Fire\"],[\"Lou Reed\"],[\"Queen\"],[\"Marillion\"],[\"Deep Purple\"],[\"Eagles\"],[\"Led Zeppelin\"],[\"Pearl Jam\"],[\"Keane\"],[\"Mary J. Blige & U2\"],[\"Scorpions\"],[\"Elvis Presley\"],[\"Dire Straits\"],[\"R.E.M.\"],[\"Bruce Springsteen\"],[\"Live\"],[\"U2\"],[\"Radiohead\"],[\"Creedence Clearwater Revival\"],[\"Golden Earrings\"],[\"Kayak\"],[\"Foo Fighters\"],[\"System Of A Down\"],[\"Sting\"],[\"Guns N' Roses\"],[\"Aerosmith\"],[\"Bruce Springsteen\"],[\"Harry Styles\"],[\"The Scene\"],[\"John Miles\"],[\"The Jimi Hendrix Experience\"],[\"David Bowie\"],[\"U2\"],[\"The Cult\"],[\"Linkin Park\"],[\"Queen\"],[\"Normaal\"],[\"The Beatles\"],[\"Jackson Browne\"],[\"Evanescence\"],[\"Editors\"],[\"U2\"],[\"Nirvana\"],[\"Arctic Monkeys\"],[\"Creedence Clearwater Revival\"],[\"Queen\"],[\"Bruce Springsteen\"],[\"Kansas\"],[\"Kings Of Leon\"],[\"The Proclaimers\"],[\"Pink Floyd\"],[\"Phil Collins\"],[\"Jeff Buckley\"],[\"Bon Jovi\"],[\"KISS\"],[\"Golden Earring\"],[\"The Police\"],[\"Green Day\"],[\"Elbow\"],[\"Fleetwood Mac\"],[\"Muse\"],[\"U2\"],[\"Led Zeppelin\"],[\"The Police\"],[\"Queens Of The Stone Age\"],[\"Nirvana\"],[\"Fleetwood Mac\"],[\"Golden Earring\"],[\"Guns N' Roses\"],[\"Neil Young\"],[\"White Stripes\"],[\"Fleetwood Mac\"],[\"Radiohead\"],[\"Janis Joplin\"],[\"Supertramp\"],[\"Billy Joel\"],[\"3 Doors Down\"],[\"Genesis\"],[\"The Rolling Stones\"],[\"Neil Young\"],[\"The Goo Goo Dolls\"],[\"Joe Cocker\"],[\"Jefferson Airplane\"],[\"Normaal\"],[\"The Scene\"],[\"The Mark & Clark Band\"],[\"Toto\"],[\"Queen\"],[\"The Rolling Stones\"],[\"Soundgarden\"],[\"AC/DC\"],[\"Boston\"],[\"Dire Straits\"],[\"Phil Collins\"],[\"Elvis Presley\"],[\"The Waterboys\"],[\"The Beatles\"],[\"The Doors\"],[\"Toto\"],[\"The Who\"],[\"Lynyrd Skynyrd\"],[\"Queen\"],[\"Green Day\"],[\"Alice Cooper\"],[\"Pink Floyd\"],[\"Bruce Springsteen\"],[\"Snow Patrol\"],[\"Elvis Presley\"],[\"Van Morrison\"],[\"Neil Young\"],[\"Foreigner\"],[\"Kensington\"],[\"ZZ Top\"],[\"Imagine Dragons\"],[\"Ultravox\"],[\"The Alan Parsons Project\"],[\"Eagles\"],[\"Eagles\"],[\"Meat Loaf\"],[\"New Order\"],[\"Bruce Springsteen\"],[\"Pink Floyd\"],[\"Anouk\"],[\"Scorpions\"],[\"Bruce Springsteen\"],[\"Van Halen\"],[\"The Beatles\"],[\"Maroon 5\"],[\"Queen\"],[\"Guns N' Roses\"],[\"Radiohead\"],[\"Editors\"],[\"The Doors\"],[\"America\"],[\"Guns N' Roses\"],[\"Creedence Clearwater Revival\"],[\"Normaal\"],[\"Liquido\"],[\"Foo Fighters\"],[\"The Stranglers\"],[\"Queen\"],[\"Hero\"],[\"The Boxer Rebellion\"],[\"Red Hot Chili Peppers\"],[\"The Police\"],[\"Golden Earring\"],[\"Tina Turner & David Bowie\"],[\"White Lies\"],[\"The Cranberries\"],[\"London Grammar\"],[\"Imagine Dragons\"],[\"The Beatles\"],[\"Status Quo\"],[\"Lynyrd Skynyrd\"],[\"Gotye ft. Kimbra\"],[\"Joy Division\"],[\"Chris Isaak\"],[\"David Bowie\"],[\"Muse\"],[\"Nirvana\"],[\"Elvis Presley\"],[\"Nothing But Thieves\"],[\"Muse\"],[\"Pearl Jam\"],[\"AC/DC\"],[\"Muse\"],[\"Queen\"],[\"Earth, Wind & Fire\"],[\"Kensington\"],[\"Imagine Dragons\"],[\"The Rolling Stones\"],[\"Linkin Park\"],[\"Fleetwood Mac\"],[\"Melissa Etheridge\"],[\"The Jimi Hendrix Experience\"],[\"Bon Jovi\"],[\"Anouk\"],[\"David Bowie\"],[\"U2\"],[\"Pink Floyd\"],[\"Talking Heads\"],[\"Fleetwood Mac\"],[\"Green Day\"],[\"Fleetwood Mac\"],[\"Tame Impala\"],[\"The Kinks\"],[\"Evanescence\"],[\"The War On Drugs\"],[\"Bon Jovi\"],[\"Van Halen\"],[\"The Beatles\"],[\"Europe\"],[\"De Staat\"],[\"Pink Floyd\"],[\"The Doors\"],[\"Led Zeppelin\"],[\"Talking Heads\"],[\"Fleetwood Mac\"],[\"Nothing But Thieves\"],[\"The Beach Boys\"],[\"Gorillaz\"],[\"Toto\"],[\"The Cure\"],[\"U2\"],[\"Joe Jackson\"],[\"Meat Loaf\"],[\"Aerosmith\"],[\"INXS\"],[\"Red Hot Chili Peppers\"],[\"Neil Young\"],[\"Van Morrison\"],[\"Fleetwood Mac\"],[\"Supertramp\"],[\"Oasis\"],[\"Heart\"],[\"Live\"],[\"Phil Collins\"],[\"Fleetwood Mac\"],[\"Billy Joel\"],[\"Simply Red\"],[\"Anouk\"],[\"The Beatles\"],[\"Don Henley\"],[\"R.E.M.\"],[\"Tenacious D\"],[\"Men At Work\"],[\"The Beatles\"],[\"Muse\"],[\"Red Hot Chili Peppers\"],[\"The Black Keys\"],[\"Alice Cooper\"],[\"10cc\"],[\"The War On Drugs\"],[\"Kensington\"],[\"Bruce Springsteen\"],[\"Blue \\u00d6yster Cult\"],[\"Status Quo\"],[\"Bruce Springsteen\"],[\"Alanis Morissette\"],[\"Pink Floyd\"],[\"Arctic Monkeys\"],[\"Sia\"],[\"Crosby, Stills, Nash & Young\"],[\"Sting\"],[\"The Beatles\"],[\"Kensington\"],[\"Golden Earring\"],[\"Herman Brood & His Wild Romance\"],[\"The Beatles\"],[\"Bryan Adams\"],[\"10cc\"],[\"Ram Jam\"],[\"K's Choice\"],[\"Alice In Chains\"],[\"Joe Cocker\"],[\"Golden Earring\"],[\"AC/DC\"],[\"Linkin Park\"],[\"Mark Knopfler\"],[\"Shocking Blue\"],[\"Paul Simon\"],[\"Elvis Presley\"],[\"Bronski Beat\"],[\"Tame Impala\"],[\"Bastille\"],[\"The Band\"],[\"Queen\"],[\"Genesis\"],[\"Golden Earring\"],[\"Focus\"],[\"Eagles\"],[\"The Cure\"],[\"Dire Straits\"],[\"Queen\"],[\"Radiohead\"],[\"Pink Floyd\"],[\"Bruce Springsteen\"],[\"The Rolling Stones\"],[\"Skunk Anansie\"],[\"Keane\"],[\"Fish\"],[\"Genesis\"],[\"Triggerfinger\"],[\"Crowded House\"],[\"Iggy Pop\"],[\"Supertramp\"],[\"Eagles\"],[\"Joe Jackson\"],[\"Foo Fighters\"],[\"Green Day\"],[\"Red Hot Chili Peppers\"],[\"Paul Simon\"],[\"Rod Stewart\"],[\"Imagine Dragons\"],[\"Earth, Wind & Fire\"],[\"Queen\"],[\"Live\"],[\"Fleetwood Mac\"],[\"Whitesnake\"],[\"Bruce Springsteen\"],[\"Supertramp\"],[\"The Killers\"],[\"David Bowie\"],[\"The Police\"],[\"Uriah Heep\"],[\"Gorillaz\"],[\"Nickelback\"],[\"Genesis\"],[\"Iggy Pop\"],[\"Arctic Monkeys\"],[\"Marillion\"],[\"Fischer-Z\"],[\"Survivor\"],[\"The Script\"],[\"Nazareth\"],[\"Bruce Springsteen\"],[\"Talking Heads\"],[\"The Rolling Stones\"],[\"Harry Styles\"],[\"David Bowie\"],[\"Bryan Adams\"],[\"Offspring\"],[\"Crosby, Stills, Nash & Young\"],[\"4 Non Blondes\"],[\"Muse\"],[\"Kane\"],[\"Blur\"],[\"Franz Ferdinand\"],[\"Cockney Rebel\"],[\"David Bowie\"],[\"Joe Jackson\"],[\"The Smiths\"],[\"Green Day\"],[\"Bon Jovi\"],[\"Harry Styles\"],[\"Red Hot Chili Peppers\"],[\"The Cure\"],[\"ZZ Top\"],[\"Creedence Clearwater Revival\"],[\"Imagine Dragons\"],[\"Status Quo\"],[\"Mark Knopfler & James Taylor\"],[\"Bruce Springsteen\"],[\"The Rolling Stones\"],[\"Yes\"],[\"ZZ Top\"],[\"The Beatles\"],[\"Nick Cave & Kylie Minogue\"],[\"Mike Oldfield & Maggie Reilly\"],[\"B\\u00f6kkers\"],[\"The Jimi Hendrix Experience\"],[\"Dire Straits\"],[\"Arcade Fire\"],[\"Depeche Mode\"],[\"Red Hot Chili Peppers\"],[\"David Bowie & Mick Jagger\"],[\"The Police\"],[\"U2\"],[\"Crowded House\"],[\"Dexy's Midnight Runners\"],[\"Creedence Clearwater Revival\"],[\"Depeche Mode\"],[\"Nirvana\"],[\"Imagine Dragons\"],[\"Red Hot Chili Peppers\"],[\"David Bowie\"],[\"Paul McCartney & Wings\"],[\"Paul Weller\"],[\"The Alan Parsons Project\"],[\"Guns N' Roses\"],[\"Elvis Presley\"],[\"Lou Reed\"],[\"Guns N' Roses\"],[\"The War On Drugs\"],[\"Queen\"],[\"Manic Street Preachers\"],[\"Normaal\"],[\"Mike Oldfield\"],[\"Iggy Pop & Kate Pierson\"],[\"R.E.M.\"],[\"Venice\"],[\"Elbow\"],[\"Valensia\"],[\"Elvis Presley\"],[\"The Jimi Hendrix Experience\"],[\"The Smashing Pumpkins\"],[\"The Jimi Hendrix Experience\"],[\"The Rolling Stones\"],[\"Beth Hart & Joe Bonamassa\"],[\"The Doors\"],[\"Stone Temple Pilots\"],[\"Genesis\"],[\"Blondie\"],[\"Twenty One Pilots\"],[\"The Rolling Stones\"],[\"Korn\"],[\"David Bowie\"],[\"The Beatles\"],[\"Pearl Jam\"],[\"Train\"],[\"Creedence Clearwater Revival\"],[\"Joe Cocker\"],[\"The Beatles\"],[\"The Cure\"],[\"Manic Street Preachers\"],[\"Supertramp\"],[\"Supertramp\"],[\"The Doobie Brothers\"],[\"Crosby, Stills, Nash & Young\"],[\"Queen\"],[\"Dire Straits\"],[\"Bruce Springsteen\"],[\"Red Hot Chili Peppers\"],[\"David Bowie\"],[\"Killing Joke\"],[\"Janis Joplin\"],[\"Zucchero\"],[\"Dire Straits\"],[\"Phil Collins\"],[\"Anouk\"],[\"Live\"],[\"George Baker Selection\"],[\"Alice Cooper\"],[\"Tori Amos\"],[\"U2\"],[\"Golden Earrings\"],[\"Paul Simon\"],[\"Sting\"],[\"Midnight Oil\"],[\"Bruce Springsteen\"],[\"The Rolling Stones\"],[\"Pink Floyd\"],[\"Chuck Berry\"],[\"Chicago\"],[\"Di-rect\"],[\"The Beatles\"],[\"Queens Of The Stone Age\"],[\"The Moody Blues\"],[\"Sniff 'n The Tears\"],[\"Radiohead\"],[\"Bon Jovi\"],[\"David Bowie\"],[\"Nirvana\"],[\"Simply Red\"],[\"Roxy Music\"],[\"Counting Crows\"],[\"Temple Of The Dog\"],[\"Queen\"],[\"Scorpions\"],[\"Status Quo\"],[\"Supertramp\"],[\"Emerson, Lake & Palmer\"],[\"Lenny Kravitz\"],[\"The War On Drugs\"],[\"REO Speedwagon\"],[\"Golden Earring\"],[\"Limp Bizkit\"],[\"Kansas\"],[\"Anouk\"],[\"Golden Earrings\"],[\"Little River Band\"],[\"Kings Of Leon\"],[\"Thin Lizzy\"],[\"Muse\"],[\"The Black Keys\"],[\"Rush\"],[\"Tom Petty\"],[\"Jethro Tull\"],[\"Steppenwolf\"],[\"Queen\"],[\"Neil Young\"],[\"Eagles\"],[\"Earth & Fire\"],[\"Talking Heads\"],[\"U2\"],[\"Elvis Presley\"],[\"The Who\"],[\"Split Enz\"],[\"Creedence Clearwater Revival\"],[\"Kodaline\"],[\"Phil Collins\"],[\"Green Day\"],[\"Muse\"],[\"Alanis Morissette\"],[\"Muse\"],[\"Kensington\"],[\"Kaleo\"],[\"The Beatles\"],[\"The Beatles\"],[\"R.E.M.\"],[\"Arctic Monkeys\"],[\"Faith No More\"],[\"Queen\"],[\"Skunk Anansie\"],[\"Arctic Monkeys\"],[\"Harry Styles\"],[\"Meat Loaf\"],[\"Editors\"],[\"Blondie\"],[\"The Smashing Pumpkins\"],[\"Normaal\"],[\"Paul Simon\"],[\"U2 & BB King\"],[\"The Cranberries\"],[\"Foo Fighters\"],[\"David Bowie\"],[\"The Doors\"],[\"Kensington\"],[\"The Clash\"],[\"David Bowie & Pat Metheny Group\"],[\"Toto\"],[\"Led Zeppelin\"],[\"Fleetwood Mac\"],[\"Toto\"],[\"Pat Benatar\"],[\"Iron Butterfly\"],[\"Heart\"],[\"Janis Joplin\"],[\"The Rolling Stones\"],[\"3 Doors Down\"],[\"Phil Collins\"],[\"The Rolling Stones\"],[\"The Jimi Hendrix Experience\"],[\"Queen\"],[\"Radiohead\"],[\"Electric Light Orchestra\"],[\"Creedence Clearwater Revival\"],[\"The Rolling Stones\"],[\"Snowy White\"],[\"Keane\"],[\"Anouk\"],[\"David Bowie\"],[\"Muse\"],[\"Billy Joel\"],[\"Queen\"],[\"David Bowie\"],[\"The Killers\"],[\"Golden Earring\"],[\"Bryan Adams\"],[\"Golden Earring\"],[\"Alanis Morissette\"],[\"Paul McCartney & Wings\"],[\"Keane\"],[\"The Beatles\"],[\"R.E.M.\"],[\"Meau\"],[\"Snow Patrol\"],[\"Alannah Myles\"],[\"Nirvana\"],[\"Meat Loaf\"],[\"The Smiths\"],[\"Robert Plant\"],[\"The Police\"],[\"Placebo\"],[\"George Harrison\"],[\"Rod Stewart\"],[\"Brian May\"],[\"R.E.M.\"],[\"Lenny Kravitz\"],[\"Joe Cocker\"],[\"Blink-182\"],[\"The Fray\"],[\"Creedence Clearwater Revival\"],[\"Foo Fighters\"],[\"White Lies\"],[\"Fleetwood Mac\"],[\"Billy Joel\"],[\"Dire Straits\"],[\"Mike & The Mechanics\"],[\"Green Day\"],[\"Thin Lizzy\"],[\"Billy Joel\"],[\"David Bowie\"],[\"Snow Patrol\"],[\"R.E.M.\"],[\"Crowded House\"],[\"Jeff Wayne & Justin Hayward\"],[\"The Hollies\"],[\"Queen\"],[\"Billy Joel\"],[\"Queen\"],[\"Queen\"],[\"Bush\"],[\"Fats Domino\"],[\"Pearl Jam\"],[\"Mud\"],[\"Red Hot Chili Peppers\"],[\"Armand\"],[\"Earth & Fire\"],[\"Joe Cocker\"],[\"Kensington\"],[\"Van Morrison\"],[\"Lynyrd Skynyrd\"],[\"The Doobie Brothers\"],[\"Di-rect\"],[\"Electric Light Orchestra\"],[\"Extreme\"],[\"Bruce Hornsby & The Range\"],[\"R.E.M.\"],[\"B\\u00f6kkers\"],[\"Alice Cooper\"],[\"The Babys\"],[\"Status Quo\"],[\"Queen\"],[\"Led Zeppelin\"],[\"The Script ft. Will.I.Am\"],[\"Tom Petty & The Heartbreakers\"],[\"Golden Earring\"],[\"The The\"],[\"The Hollies\"],[\"Bon Jovi\"],[\"The Beatles\"],[\"U2 & Green Day\"],[\"Steve Harley & Cockney Rebel\"],[\"Imagine Dragons\"],[\"Earth & Fire\"],[\"Anouk\"],[\"Mark Knopfler\"],[\"Anouk\"],[\"The Alan Parsons Project\"],[\"The Doors\"],[\"The Beatles\"],[\"Herman Brood & His Wild Romance\"],[\"Heart\"],[\"Foo Fighters\"],[\"Golden Earring\"],[\"Foreigner\"],[\"Keane\"],[\"Gorki\"],[\"Guns N' Roses\"],[\"Live\"],[\"Imagine Dragons\"],[\"The Rolling Stones\"],[\"Scott McKenzie\"],[\"The Beatles\"],[\"Bruce Springsteen\"],[\"The Beach Boys\"],[\"Foster The People\"],[\"Fleetwood Mac\"],[\"The Shadows\"],[\"The Script\"],[\"Queen\"],[\"Creed\"],[\"KISS\"],[\"Monkees\"],[\"Elvis Presley\"],[\"The Beatles\"],[\"Therapy?\"],[\"Elvis Presley\"],[\"The Moody Blues\"],[\"Paul McCartney & Frog Chorus\"],[\"The Rolling Stones\"],[\"Creedence Clearwater Revival\"],[\"Tom Petty & The Heartbreakers\"],[\"Opus\"],[\"Kensington\"],[\"Patti Smith Group\"],[\"Chic\"],[\"Simply Red\"],[\"The Pointer Sisters\"],[\"Chicago\"],[\"Sting\"],[\"U2\"],[\"Yes\"],[\"Brainbox\"],[\"The Buoys\"],[\"Deep Purple\"],[\"Phil Collins\"],[\"Alice In Chains\"],[\"The Smashing Pumpkins\"],[\"Editors\"],[\"MGMT\"],[\"Nina Hagen\"],[\"Elvis Presley\"],[\"Paul Simon\"],[\"Bruce Springsteen\"],[\"Traveling Wilburys\"],[\"Herman Brood & His Wild Romance\"],[\"Van Halen\"],[\"The Beatles\"],[\"Jeff Wayne & Justin Hayward\"],[\"Anouk\"],[\"Elvis Presley\"],[\"The Police\"],[\"Ramones\"],[\"LP\"],[\"Ten Years After\"],[\"Oasis\"],[\"Joe Cocker & Jennifer Warnes\"],[\"Sex Pistols\"],[\"David Bowie\"],[\"Queen\"],[\"Roger Glover & Guests\"],[\"The Doors\"],[\"Guns N' Roses\"],[\"Cheap Trick\"],[\"Smash Mouth\"],[\"Van Halen\"],[\"Muse\"],[\"Nirvana\"],[\"Supertramp\"],[\"America\"],[\"Jefferson Airplane\"],[\"Manu Chao\"],[\"Phil Collins\"],[\"Bruce Springsteen\"],[\"Mink Deville\"],[\"Pixies\"],[\"Rod Stewart\"],[\"Stereophonics\"],[\"Paul McCartney & Wings\"],[\"Queen\"],[\"Q65\"],[\"The Who\"],[\"Queens Of The Stone Age\"],[\"Neil Young\"],[\"Gary Moore & Phil Lynott\"],[\"Japan\"],[\"Elbow\"],[\"Twenty One Pilots\"],[\"Sandy Coast\"],[\"Led Zeppelin\"],[\"B-52's\"],[\"OneRepublic\"],[\"Elvis Presley\"],[\"The Black Keys\"],[\"Toto\"],[\"U2\"],[\"Ph.D.\"],[\"Van Morrison\"],[\"Elvis Presley\"],[\"Pulp\"],[\"Genesis\"],[\"Steve Miller Band\"],[\"Billy Joel\"],[\"The Rolling Stones\"],[\"The Who\"],[\"The Kinks\"],[\"Creedence Clearwater Revival\"],[\"Sweet\"],[\"The Beatles\"],[\"Kings Of Leon\"],[\"U2\"],[\"Whitesnake\"],[\"Boston\"],[\"The Rolling Stones\"],[\"The Beatles\"],[\"Led Zeppelin\"],[\"Offspring\"],[\"The Temper Trap\"],[\"The Who\"],[\"Di-rect\"],[\"Dire Straits\"],[\"U2\"],[\"KISS\"],[\"The Beatles\"],[\"Gossip\"],[\"Sting & Cheb Mami\"],[\"Bruce Springsteen\"],[\"Simply Red\"],[\"Walk The Moon\"],[\"Guano Apes\"],[\"Genesis\"],[\"INXS\"],[\"Of Monsters And Men\"],[\"Ugly Kid Joe\"],[\"Ultravox\"],[\"Yes\"],[\"Kane\"],[\"Crowded House\"],[\"Wolfmother\"],[\"The Rolling Stones\"],[\"Editors\"],[\"The Cure\"],[\"The Script\"],[\"Crash Test Dummies\"],[\"Outfield\"],[\"Don Henley\"],[\"Procol Harum\"],[\"Fleetwood Mac\"],[\"Genesis\"],[\"Pearl Jam\"],[\"Counting Crows\"],[\"Manfred Mann's Earth Band\"],[\"Steely Dan\"],[\"The Smiths\"],[\"The Verve\"],[\"Green Day\"],[\"U2\"],[\"The Beatles\"],[\"Earth, Wind & Fire\"],[\"The Police\"],[\"Stereophonics\"],[\"The Babys\"],[\"The Doors\"],[\"Muse\"],[\"Ellen Foley\"],[\"Fischer-Z\"],[\"Deep Purple\"],[\"Foo Fighters\"],[\"10cc\"],[\"The Who\"],[\"Brainbox\"],[\"Simply Red\"],[\"Jeroen van Koningsbrugge\"],[\"Dire Straits\"],[\"The Smashing Pumpkins\"],[\"Joe Jackson\"],[\"Rare Earth\"],[\"Fleetwood Mac\"],[\"Meat Loaf\"],[\"Vitesse\"],[\"Bruce Springsteen\"],[\"Roxy Music\"],[\"Kane\"],[\"Saybia\"],[\"Plain White T's\"],[\"Billy Joel\"],[\"Steve Miller Band\"],[\"Emerson, Lake & Palmer\"],[\"The Beach Boys\"],[\"Kings Of Leon\"],[\"Lou Reed\"],[\"INXS\"],[\"Dr. Hook & The Medicine Show\"],[\"Muse\"],[\"David Bowie\"],[\"Nirvana\"],[\"Culture Club\"],[\"The Clash\"],[\"Bruce Springsteen\"],[\"Stevie Nicks\"],[\"Roxy Music\"],[\"Bruce Springsteen\"],[\"Foreigner\"],[\"The Rolling Stones\"],[\"Slade\"],[\"Cher\"],[\"Panic! At The Disco\"],[\"Living Colour\"],[\"Anouk\"],[\"U2\"],[\"Meat Loaf\"],[\"Chris Isaak\"],[\"John Lennon\"],[\"Focus\"],[\"Queens Of The Stone Age\"],[\"Supertramp\"],[\"Alanis Morissette\"],[\"Van Halen\"],[\"The Kinks\"],[\"Blind Melon\"],[\"The Hollies\"],[\"Rolling Stones\"],[\"Panic! At The Disco\"],[\"The Doobie Brothers\"],[\"Roxy Music\"],[\"Sex Pistols\"],[\"The Beatles\"]],\"hovertemplate\":\"<b>%{hovertext}</b><br><br>Supergenre=Rock<br>Year of release=%{x}<br>Position=%{y}<br>Artist=%{customdata[0]}<extra></extra>\",\"hovertext\":[\"Bohemian Rhapsody\",\"A Whiter Shade Of Pale\",\"Hotel California\",\"Piano Man\",\"Radar Love\",\"Stairway To Heaven\",\"Black\",\"Love Of My Life\",\"Wish You Were Here\",\"Soldier On\",\"Child In Time\",\"The River\",\"November Rain\",\"Brothers In Arms\",\"The Sound Of Silence\",\"Comfortably Numb\",\"Africa\",\"Heroes\",\"Sultans Of Swing\",\"Shine On You Crazy Diamond (Pts. 1-5)\",\"Smells Like Teen Spirit\",\"Thunderstruck\",\"Just Breathe\",\"Sweet Child O' Mine\",\"Imagine\",\"Paradise By The Dashboard Light\",\"Telegraph Road\",\"In The Air Tonight\",\"A Forest\",\"Innuendo\",\"Go Your Own Way\",\"In The End\",\"School\",\"Killing In The Name\",\"Paint It Black\",\"When The Lady Smiles\",\"Don't Stop Me Now\",\"Alive\",\"Let It Be\",\"Sunday Bloody Sunday\",\"God Only Knows\",\"Sympathy For The Devil\",\"Sorry\",\"Creep\",\"With Or Without You\",\"Mr. Blue Sky\",\"Under Pressure\",\"Fool's Overture\",\"Another Brick In The Wall\",\"One\",\"The Chain\",\"Somebody To Love (Live)\",\"Uprising\",\"Old And Wise\",\"Somebody To Love\",\"Here Comes The Sun\",\"Under The Bridge\",\"Riders On The Storm\",\"Highway To Hell\",\"Who Wants To Live Forever\",\"Angie\",\"Private Investigations\",\"Uncharted\",\"Another 45 Miles\",\"Impossible (Orchestral Version Live at Abbey Road)\",\"Chasing Cars\",\"Gimme Shelter\",\"Blackbird\",\"Losing My Religion\",\"The Show Must Go On\",\"Hey Jude\",\"Whole Lotta Rosie\",\"Have You Ever Seen The Rain\",\"Don't Stop Believin'\",\"Goodnight Saigon\",\"Dreams\",\"Twilight Zone\",\"Suspicious Minds\",\"Where The Streets Have No Name\",\"Space Oddity\",\"Yesterday\",\"Bitter Sweet Symphony\",\"House Of The Rising Sun\",\"Zombie\",\"The Pretender\",\"Don't Look Back In Anger\",\"Nights In White Satin\",\"Mr. Brightside\",\"Knights Of Cydonia\",\"Enjoy The Silence\",\"Californication\",\"I Still Haven't Found What I'm Looking For\",\"Come As You Are\",\"Wonderwall\",\"Fragile\",\"Paradise City\",\"Summer Of '69\",\"Nobody's Wife\",\"Bed Of Roses\",\"Money For Nothing\",\"Streets Of Philadelphia\",\"Fields Of Gold\",\"Saturday Night\",\"Into My Arms\",\"The Last Resort\",\"Killer Queen\",\"Graceland\",\"Fortunate Son\",\"September\",\"Perfect Day\",\"I Want To Break Free\",\"Kayleigh\",\"Smoke On The Water\",\"Desperado\",\"Whole Lotta Love\",\"Jeremy\",\"Somewhere Only We Know\",\"One\",\"Wind Of Change\",\"In The Ghetto\",\"Walk Of Life\",\"Everybody Hurts\",\"Dancing In The Dark\",\"Lightning Crashes\",\"The Unforgettable Fire\",\"Street Spirit (Fade Out)\",\"I Put A Spell On You\",\"Just A Little Bit Of Peace In My Heart\",\"Ruthless Queen\",\"Everlong\",\"Chop Suey!\",\"Englishman In New York\",\"Knocking On Heaven's Door\",\"Dream On\",\"I'm On Fire\",\"Sign Of The Times\",\"Iedereen Is Van De Wereld\",\"Music\",\"All Along The Watchtower\",\"Starman\",\"Bad\",\"She Sells Sanctuary\",\"Numb\",\"Radio Ga Ga\",\"Deurdonderen (Live)\",\"While My Guitar Gently Weeps\",\"The Load Out/Stay\",\"My Immortal\",\"Papillon\",\"Beautiful Day\",\"Lithium\",\"Do I Wanna Know?\",\"Bad Moon Rising\",\"We Will Rock You\",\"Born To Run\",\"Dust In The Wind\",\"Sex On Fire\",\"I'm Gonna Be (500 Miles)\",\"Echoes\",\"Against All Odds (Take A Look At Me Now)\",\"Hallelujah\",\"Livin' On A Prayer\",\"I Was Made For Lovin' You\",\"Going To The Run\",\"Every Breath You Take\",\"Boulevard Of Broken Dreams\",\"One Day Like This\",\"Everywhere\",\"Psycho\",\"Pride (In The Name Of Love)\",\"Kashmir\",\"Roxanne\",\"No One Knows\",\"The Man Who Sold The World (unplugged)\",\"Sara\",\"Long Blond Animal\",\"Welcome To The Jungle\",\"Heart Of Gold\",\"Seven Nation Army\",\"Landslide\",\"Karma Police\",\"Me And Bobby McGee\",\"The Logical Song\",\"She's Always A Woman\",\"Kryptonite\",\"Mama\",\"You Can't Always Get What You Want\",\"Old Man\",\"Iris\",\"With A Little Help From My Friends\",\"White Rabbit\",\"Oerend Hard\",\"Blauw\",\"Worn Down Piano\",\"Hold The Line\",\"These Are The Days Of Our Lives\",\"(I Can't Get No) Satisfaction\",\"Black Hole Sun\",\"Back In Black\",\"More Than A Feeling\",\"Romeo And Juliet\",\"Another Day In Paradise\",\"Can't Help Falling In Love\",\"The Whole Of The Moon\",\"A Day In The Life\",\"The End\",\"Stop Loving You\",\"Baba O'Riley\",\"Free Bird\",\"Another One Bites The Dust\",\"Basket Case\",\"Poison\",\"Time\",\"Tougher Than The Rest\",\"Run\",\"Always On My Mind\",\"Brown Eyed Girl\",\"Rockin' In The Free World\",\"I Want To Know What Love Is\",\"Streets\",\"La Grange\",\"Radioactive\",\"Vienna\",\"Eye In The Sky\",\"One Of These Nights\",\"Take It Easy\",\"Bat Out Of Hell\",\"Blue Monday\",\"Born In The U.S.A.\",\"Money\",\"Lost\",\"Still Loving You\",\"My Hometown\",\"Jump\",\"Eleanor Rigby\",\"Memories\",\"We Are The Champions\",\"Estranged\",\"Paranoid Android\",\"Smokers Outside The Hospital Doors\",\"L.A. Woman\",\"A Horse With No Name\",\"Patience\",\"Who'll Stop The Rain\",\"De Boer Dat Is De Keerl\",\"Narcotic\",\"Learn To Fly\",\"Golden Brown\",\"Crazy Little Thing Called Love\",\"Toen Ik Je Zag\",\"Diamonds\",\"Snow (Hey Oh)\",\"Message In A Bottle\",\"She Flies On Strange Wings\",\"Tonight (Live)\",\"Time To Give\",\"Linger\",\"Strong\",\"Believer\",\"Penny Lane\",\"Whatever You Want\",\"Sweet Home Alabama\",\"Somebody That I Used To Know\",\"Love Will Tear Us Apart\",\"Wicked Game\",\"Life On Mars\",\"Starlight\",\"Where Did You Sleep Last Night (unplugged)\",\"My Boy\",\"Amsterdam\",\"Plug In Baby\",\"Even Flow\",\"You Shook Me All Night Long\",\"Supermassive Black Hole\",\"Hammer To Fall\",\"Fantasy\",\"War\",\"Demons\",\"Wild Horses\",\"Breaking The Habit\",\"Little Lies\",\"Like The Way I Do\",\"Hey Joe\",\"It's My Life\",\"Birds\",\"Let's Dance\",\"New Year's Day\",\"The Great Gig In The Sky\",\"Slippery People (Live)\",\"Songbird\",\"Wake Me Up When September Ends\",\"Albatross\",\"Let It Happen\",\"Lola (Live)\",\"Bring Me To Life\",\"Under The Pressure\",\"Always\",\"Runnin' With The Devil\",\"Come Together\",\"The Final Countdown\",\"Witch Doctor\",\"High Hopes\",\"Light My Fire\",\"Immigrant Song\",\"Psycho Killer\",\"Tusk\",\"Sorry\",\"Good Vibrations\",\"Feel Good Inc.\",\"Rosanna\",\"Lullaby\",\"I Will Follow (Live)\",\"Is She Really Going Out With Him? (Live)\",\"I'd Do Anything For Love (But I Won't Do That)\",\"I Don't Want To Miss A Thing\",\"Never Tear Us Apart\",\"Scar Tissue\",\"Like A Hurricane\",\"Have I Told You Lately\",\"Rhiannon (Will You Ever Win)\",\"Dreamer\",\"Champagne Supernova\",\"Alone\",\"Overcome\",\"You'll Be In My Heart\",\"Don't Stop\",\"Leningrad\",\"Holding Back The Years\",\"Michel\",\"Strawberry Fields Forever\",\"The Boys Of Summer\",\"Nightswimming\",\"Tribute\",\"Down Under\",\"Get Back\",\"Bliss\",\"Otherside\",\"Little Black Submarines\",\"Halo Of Flies\",\"Dreadlock Holiday\",\"Thinking Of A Place\",\"Do I Ever\",\"Thunder Road\",\"Don't Fear The Reaper\",\"Roll Over Lay Down (Live)\",\"Badlands\",\"Ironic\",\"Hey You\",\"I Bet You Look Good On The Dancefloor\",\"Chandelier\",\"Our House\",\"Shape Of My Heart\",\"Something\",\"Riddles\",\"Back Home\",\"Never Be Clever\",\"The Long And Winding Road\",\"(Everything I Do) I Do It For You\",\"I'm Not In Love\",\"Black Betty\",\"Not An Addict\",\"Would\",\"You Are So Beautiful\",\"Hold Me Now\",\"Let There Be Rock\",\"One More Light\",\"What It Is\",\"Venus\",\"You Can Call Me Al\",\"Jailhouse Rock\",\"Smalltown Boy\",\"The Less I Know The Better\",\"Pompeii\",\"The Weight\",\"I Want It All\",\"Follow You Follow Me\",\"Weekend Love\",\"Hocus Pocus\",\"New Kid In Town\",\"Friday I'm In Love\",\"Tunnel Of Love\",\"A Kind Of Magic\",\"Exit Music (For A Film)\",\"Us And Them\",\"Trapped (Live)\",\"Start Me Up\",\"Weak\",\"Sovereign Light Cafe\",\"A Gentleman's Excuse Me\",\"Firth Of Fifth\",\"I Follow Rivers\",\"Don't Dream It's Over\",\"The Passenger\",\"Take The Long Way Home\",\"Lyin' Eyes\",\"Be My Number Two\",\"Walk\",\"American Idiot\",\"Dark Necessities\",\"Diamonds On The Soles Of Her Shoes\",\"Sailing\",\"Natural\",\"Boogie Wonderland\",\"Fat Bottomed Girls\",\"I Alone\",\"Need Your Love So Bad\",\"Here I Go Again\",\"Glory Days\",\"Give A Little Bit\",\"Human\",\"China Girl\",\"Every Little Thing She Does Is Magic\",\"Easy Livin'\",\"Clint Eastwood\",\"How You Remind Me\",\"Land Of Confusion\",\"Lust For Life\",\"When The Sun Goes Down\",\"Lavender\",\"So Long\",\"Eye Of The Tiger\",\"The Man Who Can't Be Moved\",\"Love Hurts\",\"Jungleland\",\"Once In A Lifetime\",\"She's A Rainbow\",\"Golden\",\"Rebel Rebel\",\"Heaven\",\"Self Esteem\",\"Teach Your Children\",\"What's Up\",\"Unintended\",\"Rain Down On Me\",\"Song 2\",\"Take Me Out\",\"Sebastian\",\"Wild Is The Wind\",\"Real Men\",\"There Is a Light That Never Goes Out\",\"Good Riddance (Time Of Your Life)\",\"You Give Love A Bad Name\",\"Watermelon Sugar\",\"Road Trippin'\",\"Boys Don't Cry\",\"Sharp Dressed Man\",\"I Heard It Through The Grapevine\",\"Thunder\",\"Down Down\",\"Sailing To Philadelphia\",\"Jersey Girl (Live)\",\"Brown Sugar\",\"Owner Of A Lonely Heart\",\"Gimme All Your Lovin'\",\"Norwegian Wood\",\"Where The Wild Roses Grow\",\"Moonlight Shadow\",\"Iederene Hef Een Reden\",\"Voodoo Child (Slight Return)\",\"On Every Street\",\"Everything Now\",\"Just Can't Get Enough (Live)\",\"Can't Stop\",\"Dancing In The Street\",\"So Lonely\",\"All I Want Is You\",\"Four Seasons In One Day\",\"Come On Eileen\",\"Suzie Q (Part I)\",\"Personal Jesus\",\"Heart-Shaped Box\",\"Whatever It Takes\",\"Give It Away\",\"Sound And Vision\",\"Band On The Run\",\"You Do Something To Me\",\"The Turn Of A Friendly Card\",\"Civil War\",\"I Just Can't Help Believin'\",\"Walk On The Wild Side\",\"Don't Cry\",\"Red Eyes\",\"You're My Best Friend\",\"If You Tolerate This Your Children Will Be Next\",\"Ik Bun Moar Een Eenvoudige Boerenlul\",\"Tubular Bells\",\"Candy\",\"Man On The Moon\",\"The Family Tree\",\"Lippy Kids\",\"Gaia\",\"Burning Love\",\"Little Wing\",\"Disarm\",\"The Wind Cries Mary\",\"Miss You\",\"I'll Take Care Of You\",\"People Are Strange\",\"Plush\",\"Jesus He Knows Me\",\"Denis\",\"Stressed Out\",\"Waiting On A Friend\",\"Freak On A Leash\",\"Lazarus\",\"Help!\",\"Better Man\",\"Drops Of Jupiter (Tell Me)\",\"Proud Mary\",\"Unchain My Heart\",\"The Fool On The Hill\",\"Close To Me\",\"Motorcycle Emptiness\",\"Crime Of The Century\",\"Breakfast In America\",\"Listen To The Music\",\"Almost Cut My Hair\",\"Breakthru\",\"Your Latest Trick\",\"The Rising\",\"Dani California\",\"Ashes To Ashes\",\"Love Like Blood\",\"Cry Baby\",\"Il Volo\",\"Why Worry\",\"Can't Stop Loving You\",\"One Word\",\"The Dolphin's Cry\",\"Little Green Bag\",\"How You Gonna See Me Now\",\"Winter\",\"Ordinary Love\",\"I've Just Lost Somebody\",\"50 Ways To Leave Your Lover\",\"Russians\",\"Beds Are Burning\",\"Waiting On A Sunny Day\",\"Fool To Cry\",\"One Of These Days\",\"Johnny B. Goode\",\"If You Leave Me Now\",\"Times Are Changing\",\"Sgt. Pepper\\u2019s Lonely Hearts Club Band\",\"Go With The Flow\",\"Question\",\"Driver's Seat\",\"No Surprises\",\"Wanted (Dead Or Alive)\",\"Absolute Beginners\",\"About A Girl (Unplugged)\",\"If You Don't Know Me By Now\",\"Avalon\",\"Mr. Jones\",\"Hunger Strike\",\"Bicycle Race\",\"Send Me An Angel\",\"Rockin' All Over The World\",\"Goodbye Stranger\",\"Peter Gunn Theme\",\"Let Love Rule\",\"Pain\",\"Keep On Loving You\",\"The Devil Made Me Do It\",\"Behind Blue Eyes\",\"Carry On Wayward Son\",\"Girl\",\"Sound Of The Screaming Day\",\"It's A Long Way There\",\"Use Somebody\",\"Whisky In The Jar\",\"Time Is Running Out\",\"Lonely Boy\",\"Spirit Of Radio\",\"Free Fallin'\",\"Locomotive Breath\",\"Born To Be Wild\",\"Tie Your Mother Down\",\"Harvest Moon\",\"Tequila Sunrise\",\"Storm And Thunder\",\"Road To Nowhere\",\"Running To Stand Still\",\"Love Me Tender\",\"Pinball Wizard\",\"Message To My Girl\",\"Long As I Can See The Light\",\"All I Want\",\"I Wish It Would Rain Down\",\"21 Guns\",\"Madness\",\"You Oughta Know\",\"Resistance\",\"All For Nothing\",\"Way Down We Go\",\"Lucy In The Sky With Diamonds\",\"Michelle\",\"Shiny Happy People\",\"Why'd You Only Call Me When You're High?\",\"Epic\",\"Friends Will Be Friends\",\"Hedonism\",\"Fluorescent Adolescent\",\"Adore You\",\"You Took The Words Right Out Of My Mouth\",\"Munich\",\"Heart Of Glass\",\"1979\",\"Alie\",\"Homeless\",\"When Love Comes To Town\",\"Ode To My Family\",\"Best Of You\",\"Changes\",\"Roadhouse Blues\",\"Bridges\",\"London Calling\",\"This Is Not America\",\"Mushanga\",\"Since I\\u2019ve Been Loving You\",\"Oh Well (Part I)\",\"Pamela\",\"Love Is A Battlefield\",\"In A Gadda Da Vida\",\"Barracuda\",\"Mercedes Benz\",\"Ruby Tuesday\",\"Here Without You\",\"You Can't Hurry Love\",\"Honky Tonk Women\",\"Purple Haze\",\"'39\",\"Fake Plastic Trees\",\"Don't Bring Me Down\",\"Down On The Corner\",\"Jumpin' Jack Flash\",\"Bird Of Paradise\",\"Bedshaped\",\"For Bitter Or Worse\",\"Golden Years\",\"Undisclosed Desires\",\"We Didn't Start The Fire\",\"Spread Your Wings\",\"Ziggy Stardust\",\"Somebody Told Me\",\"I Can't Sleep Without You (Live)\",\"Run To You\",\"Bombay\",\"Uninvited\",\"Mull Of Kintyre\",\"Everybody's Changing\",\"All You Need Is Love\",\"The One I Love\",\"Dat heb jij gedaan\",\"Just Say Yes\",\"Black Velvet\",\"In Bloom\",\"Two Out Of Three Ain't Bad\",\"Bigmouth Strikes Again\",\"Big Log\",\"Walking On The Moon\",\"Pure Morning\",\"My Sweet Lord\",\"Maggie May\",\"Too Much Love Will Kill You\",\"Drive\",\"Are You Gonna Go My Way\",\"You Can Leave Your Hat On\",\"All The Small Things\",\"How To Save A Life\",\"Born On The Bayou\",\"Times Like These\",\"Farewell To The Fairground\",\"Seven Wonders\",\"Scenes From An Italian Restaurant\",\"So Far Away\",\"The Living Years\",\"Holiday\",\"The Boys Are Back In Town\",\"New York State Of Mind\",\"The Man Who Sold The World\",\"Shut Your Eyes\",\"Find The River\",\"Weather With You\",\"The Eve Of The War\",\"He Ain't Heavy, He's My Brother\",\"You Don't Fool Me\",\"Uptown Girl\",\"Thank God It's Christmas\",\"One Vision\",\"Glycerine\",\"Blueberry Hill\",\"Daughter\",\"Dynamite\",\"By The Way\",\"Ben Ik Te Min\",\"Memories\",\"N'Oubliez Jamais\",\"Home Again\",\"Moondance\",\"Simple Man\",\"What A Fool Believes\",\"Devil Don't Care\",\"Livin' Thing\",\"More Than Words\",\"The Way It Is\",\"It's The End Of The World As We Know It\",\"Kold Bloed\",\"School's Out\",\"Everytime I Think Of You\",\"In The Army Now\",\"Good Old-Fashioned Lover Boy\",\"Dazed And Confused\",\"Hall Of Fame\",\"Learning To Fly\",\"Buddy Joe\",\"Uncertain Smile\",\"The Air That I Breathe\",\"In These Arms\",\"When I'm Sixty-Four\",\"The Saints Are Coming\",\"Make Me Smile (Come Up And See Me)\",\"Bad Liar\",\"Weekend\",\"Jerusalem\",\"Going Home (Theme From Local Hero)\",\"R U Kiddin' Me\",\"Don't Answer Me\",\"Love Her Madly\",\"In My Life\",\"I Love You Like I Love Myself\",\"Crazy On You\",\"All My Life\",\"Johnny Make Believe\",\"Cold As Ice\",\"Bend And Break\",\"Mia\",\"Live And Let Die\",\"Run To The Water\",\"On Top Of The World\",\"As Tears Go By\",\"San Francisco (Be Sure To Wear Flowers In Your Hair)\",\"Don't Let Me Down\",\"Human Touch\",\"Sloop John B\",\"Pumped Up Kicks\",\"Big Love\",\"Apache\",\"If You Could See Me Now\",\"Heaven For Everyone\",\"With Arms Wide Open\",\"Sure Know Something\",\"I'm A Believer\",\"(You're The) Devil In Disguise\",\"I Am The Walrus\",\"Diane\",\"An American Trilogy\",\"Tuesday Afternoon\",\"We All Stand Together\",\"Lady Jane\",\"Lookin' Out My Back Door\",\"Mary Jane's Last Dance\",\"Live Is Life\",\"What Lies Ahead\",\"Because The Night\",\"Le Freak\",\"Stars\",\"Fire\",\"25 Or 6 To 4\",\"Moon Over Bourbon Street\",\"City Of Blinding Lights\",\"Roundabout\",\"Summertime\",\"Give Up Your Guns\",\"Black Night\",\"Take Me Home\",\"Rooster\",\"Bullet With Butterfly Wings\",\"The Racing Rats\",\"Kids\",\"Unbeschreiblich Weiblich\",\"Are You Lonesome Tonight\",\"Late In The Evening\",\"Hungry Heart\",\"Handle With Care\",\"Still Believe\",\"Why Can't This Be Love\",\"She's Leaving Home\",\"Forever Autumn\",\"Three Days In A Row\",\"Guitar Man\",\"Don't Stand So Close To Me\",\"Blitzkrieg Bop\",\"Lost On You\",\"I'm Going Home\",\"Live Forever\",\"Up Where We Belong\",\"God Save The Queen\",\"Blackstar\",\"Save Me\",\"Love Is All\",\"Touch Me\",\"You Could Be Mine\",\"I Want You To Want Me (Live)\",\"All Star\",\"Panama\",\"Feeling Good\",\"Polly\",\"Hide In Your Shell\",\"Ventura Highway\",\"Somebody To Love\",\"Me Gustas Tu\",\"Something Happened On The Way To Heaven\",\"Racing In The Street\",\"Spanish Stroll\",\"Monkey Gone To Heaven\",\"I Don't Want To Talk About It\",\"Maybe Tomorrow\",\"Live And Let Die\",\"It's A Beautiful Day\",\"The Life I Live\",\"Overture (Tommy)\",\"Make It Wit Chu\",\"Harvest\",\"Out In The Fields\",\"Nightporter\",\"Magnificent (She Says)\",\"Heathens\",\"The Eyes Of Jenny\",\"Black Dog\",\"Love Shack\",\"Counting Stars\",\"Blue Suede Shoes\",\"Gold On The Ceiling\",\"I'll Be Over You\",\"Angel Of Harlem\",\"I Won't Let You Down\",\"Into The Mystic\",\"Return To Sender\",\"Common People\",\"Home By The Sea\",\"Fly Like An Eagle\",\"Vienna\",\"Under My Thumb\",\"See Me, Feel Me\",\"Waterloo Sunset\",\"Up Around The Bend\",\"Fox On The Run\",\"A Hard Day's Night\",\"Pyro\",\"Stuck In A Moment You Can't Get Out Of\",\"Is This Love\",\"Don't Look Back\",\"Midnight Rambler\",\"Yellow Submarine\",\"Rock And Roll\",\"Pretty Fly (For A White Guy)\",\"Sweet Disposition\",\"Won't Get Fooled Again\",\"Wild Hearts\",\"Water Of Love\",\"Vertigo\",\"Detroit Rock City\",\"Twist And Shout\",\"Heavy Cross\",\"Desert Rose\",\"Fire (Live)\",\"Sunrise\",\"Shut Up And Dance\",\"Open Your Eyes\",\"Invisible Touch\",\"Original Sin\",\"Little Talks\",\"Cats In The Cradle\",\"Dancing With Tears In My Eyes\",\"Close To The Edge\",\"Damn Those Eyes\",\"Into Temptation\",\"Woman\",\"Beast Of Burden\",\"An End Has A Start\",\"Lovesong\",\"Breakeven\",\"Mmm Mmm Mmm Mmm\",\"Your Love\",\"New York Minute\",\"Homburg\",\"You Make Lovin' Fun\",\"No Son Of Mine\",\"Rearviewmirror\",\"Accidentally In Love\",\"Blinded By The Light\",\"Do It Again\",\"How Soon Is Now\",\"The Drugs Don't Work\",\"When I Come Around\",\"Gloria (Live)\",\"Ob-La-Di, Ob-La-Da\",\"Let's Groove\",\"Can't Stand Losing You\",\"Dakota\",\"Isn't It Time\",\"Break On Through (To The Other Side)\",\"Mercy\",\"We Belong To The Night\",\"The Worker\",\"Woman From Tokyo\",\"My Hero (Live)\",\"The Wall Street Shuffle\",\"My Generation\",\"Down Man\",\"Fairground\",\"Wit Licht\",\"Calling Elvis\",\"Tonight, Tonight\",\"Steppin' Out\",\"Get Ready\",\"Never Going Back Again\",\"For Crying Out Loud\",\"Rosalyn\",\"Working On A Dream\",\"Love Is The Drug\",\"No Surrender\",\"I Surrender\",\"Hey There Delilah\",\"Honesty\",\"The Joker\",\"Lucky Man\",\"Tears In The Morning\",\"Back Down South\",\"Sweet Jane\",\"Need You Tonight\",\"Sylvia's Mother\",\"Sing For Absolution\",\"Fame\",\"All Apologies\",\"Karma Chameleon\",\"Should I Stay Or Should I Go?\",\"Brilliant Disguise\",\"Edge Of Seventeen\",\"More Than This\",\"Secret Garden\",\"That Was Yesterday\",\"Time Is On My Side\",\"Merry Xmas Everybody\",\"If I Could Turn Back Time\",\"High Hopes\",\"Love Rears Its Ugly Head\",\"Sacrifice\",\"One Tree Hill\",\"Heaven Can Wait\",\"Blue Hotel\",\"Working Class Hero\",\"Sylvia\",\"I Sat By The Ocean\",\"It's Raining Again\",\"Thank U\",\"Ain't Talkin' 'bout Love\",\"Sunny Afternoon\",\"No Rain\",\"Long Cool Woman (In A Black Dress)\",\"Little Red Rooster\",\"I Write Sins Not Tragedies\",\"Long Train Running\",\"Jealous Guy\",\"Anarchy In The Uk\",\"I Want To Hold Your Hand\"],\"legendgroup\":\"Rock\",\"marker\":{\"color\":\"#636efa\",\"symbol\":\"circle\"},\"mode\":\"markers\",\"name\":\"Rock\",\"showlegend\":true,\"type\":\"scattergl\",\"x\":[1975,1967,1977,1974,1973,1971,1992,1975,1975,2020,1970,1981,1992,1985,2016,1979,1982,1976,1978,1975,1991,1990,2009,1987,1971,1978,1982,1981,1980,1991,1977,2000,1974,1992,1966,1984,1979,1992,1970,1985,1966,1973,2016,1992,1987,1978,1981,1977,1979,1992,1977,1993,2009,1982,1976,1969,1991,1971,1979,1986,1973,1982,2019,1969,2020,2006,1969,1968,1991,1991,1968,1978,1971,1981,1983,1977,1982,1969,1987,1969,1965,1997,1964,1994,2007,1996,1968,2005,2006,1990,2000,1987,1991,1995,1988,1989,1990,1997,1993,1985,1994,1993,1978,1996,1976,1974,1986,1969,1979,1972,1984,1985,1973,1973,1969,1991,2004,2006,1991,1969,1985,1993,1985,1995,1984,1994,1972,1968,1979,1997,2001,1988,1992,1973,1985,2017,1991,1976,1968,1972,1984,1986,2003,1984,1982,1968,1977,2003,2009,2000,1991,2013,1969,1977,1975,1978,2008,1988,1971,1984,1994,1986,1979,1991,1983,2004,2008,1987,2015,1984,1975,1979,2002,1994,1980,1980,1987,1972,2003,1975,1997,1971,1979,1978,2000,1983,1969,1972,1999,1968,1967,1977,1991,1977,1979,1991,1965,1994,1980,1977,1980,1989,1961,1986,1967,1967,1988,1971,1974,1980,1994,1989,1973,1987,2004,1972,1967,1989,1984,2014,1973,2012,1981,1982,1975,1972,1977,1983,1985,1973,2005,1987,1986,1984,1966,2019,1977,1994,1997,2007,1971,1972,1989,1970,1982,1998,1999,1982,1979,1997,2013,2006,1979,1971,1988,2018,1993,2014,2017,1967,1979,1974,2011,1980,1991,1973,2006,1994,1975,2017,2001,1991,1980,2006,1984,1978,2014,2014,1971,2004,1987,1989,1967,2000,2013,1983,1983,1972,1985,1977,2005,1969,2015,1980,2003,2014,1994,1978,1969,1986,2014,1994,1967,1971,1978,1979,2017,1966,2005,1982,1989,1982,1988,1993,1997,1988,1999,1977,1989,1976,1974,1996,1987,2001,1999,1977,1989,1985,2000,1967,1985,1992,2003,1982,1969,2001,2000,2011,1973,1978,2017,2016,1975,1976,1975,1978,1996,1979,2005,2013,1970,1993,1969,2015,1970,1979,1970,1991,1975,1978,1996,1992,1974,1994,1977,2016,2000,1969,1986,1957,1984,2015,2013,1968,1989,1978,1979,1971,1977,1992,1980,1986,1997,1973,1985,1981,1995,2012,1990,1973,2012,1987,1976,1979,1975,1984,2011,2004,2016,1986,1975,2018,1979,1978,1995,1968,1987,1985,1977,2008,1983,1981,1973,2001,2001,1986,1977,2006,1985,1980,1982,2008,1976,1975,1981,1967,2020,1974,1985,1995,1970,1993,2009,2002,1997,2003,1973,1976,1982,1986,1997,1986,2020,2000,1986,1985,1973,2017,1975,2000,1986,1971,1983,1984,1965,1995,1983,2016,1968,1991,2017,1985,2002,1985,1979,1988,1992,1982,1968,1990,1993,2017,1992,1977,1974,1995,1980,1990,1971,1973,1991,2013,1976,1998,1978,1974,1990,1992,1999,2011,1993,1972,1967,1993,1967,1978,2011,1967,1993,1992,1978,2016,1981,1998,2016,1965,1994,2001,1969,1987,1967,1985,1992,1974,1979,1972,1970,1989,1985,2002,2006,1980,1985,1971,1996,1985,2002,2005,1999,1969,1979,1992,2013,1968,1976,1985,1988,2003,1976,1971,1958,1976,2009,1967,2003,1970,1980,1997,1987,1986,1993,1989,1982,1994,1991,1978,1991,1977,1979,1980,1989,2017,1981,1982,2004,1976,2004,1967,1976,2008,1973,2003,2011,1980,1989,1972,1968,1977,1991,1973,1971,1985,1987,1956,1969,1984,1970,2012,1990,2009,2012,1996,2009,2014,2016,1967,1966,1991,2013,1989,1986,1997,2007,2019,1979,2005,1979,1996,1977,1986,1989,1994,2005,1971,1970,2017,1979,1985,1988,1970,1969,1988,1984,1970,1977,1970,1967,2004,1982,1969,1967,1975,1995,1979,1969,1968,1984,2004,2009,1976,2009,1989,1978,1972,2004,1992,1985,1976,1999,1977,2004,1967,1987,2021,2009,1990,1991,1977,1986,1983,1979,1998,1970,1971,1992,1992,1993,1986,1999,2007,1972,2003,2009,1987,1977,1985,1989,2005,1976,1976,1970,2007,1992,1991,1978,1969,1996,1983,1984,1985,1994,1957,1993,1974,2002,1967,1972,1997,2012,1970,1973,1978,2019,1976,1991,1986,1987,2019,1972,1979,1986,1976,1969,2012,1991,1972,1984,1974,1993,1967,2006,1975,2018,1979,2005,1983,1999,1984,1971,1965,1979,1976,2002,1994,1977,2005,1992,1991,2000,2013,1966,1967,1969,1992,1966,2011,1987,1960,2013,1995,1999,1979,1966,1963,1967,1995,1972,1968,1985,1966,1970,1993,1985,2019,1978,1978,1991,1979,1970,1985,2005,1972,1969,1972,1970,1985,1992,1995,2008,2007,1979,1961,1980,1980,1988,1978,1987,1967,1978,2009,1968,1980,1976,2016,1971,1994,1982,1979,2015,1980,1975,1969,1991,1979,1999,1984,2001,1991,1974,1972,1967,2001,1990,1975,1977,1989,1977,2003,1973,1995,1966,1969,2008,1972,1985,1980,2016,2016,1981,1971,1989,2013,1956,2011,1986,1988,1981,1970,1962,1995,1983,1976,1977,1966,1970,1967,1970,1975,1964,2010,2000,1987,1978,1969,1966,1971,1999,2010,1971,2020,1978,2004,1976,1963,2009,2000,1986,2003,2014,1997,1986,1984,2012,1993,1984,1972,1999,1989,2005,1978,2007,1989,2009,1993,1986,1989,1967,1978,1991,1993,2004,1976,1972,1984,1997,1995,1983,1969,1981,1979,2005,1977,1967,2015,1979,1979,1973,2006,1974,1965,1969,1995,2015,1991,1995,1982,1970,1977,1978,1982,2008,1976,2009,2004,2007,1978,1973,1971,1970,2011,1974,1987,1972,2003,1975,1993,1983,1991,1987,1982,1982,1995,1985,1965,1973,1989,2018,1990,1998,1987,1979,1987,1970,1972,2013,1982,1998,1978,1966,1993,1971,1965,2005,1973,1981,1976,1964],\"xaxis\":\"x\",\"y\":[1,3,4,5,6,7,9,12,13,14,15,16,17,18,19,22,23,24,25,29,30,31,32,33,34,35,36,37,40,42,45,46,47,48,50,53,57,58,59,61,62,63,64,66,67,68,69,71,73,74,77,78,79,80,81,82,84,87,88,89,91,93,94,95,97,98,100,101,103,105,106,107,108,109,110,111,112,113,114,119,120,121,122,125,126,127,129,130,134,138,141,142,143,146,150,153,154,155,157,158,162,163,166,167,168,169,171,175,176,179,180,181,183,184,185,187,193,195,197,198,199,200,201,202,206,209,214,216,219,220,225,226,229,230,231,234,235,236,237,239,240,241,242,243,244,247,249,250,252,253,257,258,259,263,269,270,271,274,276,277,280,281,282,283,285,289,290,295,297,298,299,300,302,311,312,313,314,317,321,325,327,329,331,332,333,337,338,339,340,343,344,345,346,351,354,355,357,359,360,365,369,373,375,377,378,379,380,383,384,386,387,389,392,393,394,396,397,399,400,401,402,406,407,408,409,411,416,417,421,422,423,425,427,428,429,430,431,437,439,449,450,451,454,456,464,465,466,468,469,471,474,475,477,478,479,487,488,490,494,495,496,497,498,499,500,501,502,503,509,512,513,515,517,519,523,524,527,528,531,533,534,537,538,540,541,542,546,547,550,553,556,557,558,559,560,561,562,565,566,567,568,569,570,574,575,577,582,583,584,589,592,594,596,597,598,601,602,604,605,608,612,613,614,616,617,618,619,621,622,626,630,631,634,635,638,640,643,645,651,656,657,659,664,666,667,669,670,675,676,681,682,684,689,691,694,697,698,699,703,705,707,708,715,716,719,723,724,729,731,734,735,737,738,740,741,743,746,748,750,751,755,761,762,763,764,765,766,767,771,775,777,778,779,780,781,784,785,794,795,796,797,798,800,801,802,807,808,809,813,814,821,823,824,825,828,830,832,833,834,836,837,839,841,842,844,845,847,852,853,858,859,860,861,862,863,865,866,867,868,870,871,872,873,880,881,887,888,889,890,891,895,897,898,899,900,901,902,903,906,908,910,912,914,915,918,920,921,922,924,926,927,928,930,931,932,933,935,936,937,939,940,941,942,947,949,950,956,958,966,967,968,969,971,972,975,977,978,982,983,984,985,987,989,992,994,996,997,998,999,1001,1002,1008,1010,1012,1013,1017,1018,1020,1023,1024,1025,1026,1027,1029,1030,1031,1032,1033,1034,1036,1037,1038,1043,1046,1050,1051,1052,1053,1056,1057,1062,1063,1067,1068,1070,1073,1075,1077,1078,1082,1083,1084,1085,1086,1087,1090,1094,1096,1100,1101,1102,1103,1106,1109,1110,1111,1113,1119,1122,1123,1124,1125,1127,1129,1133,1135,1138,1140,1141,1147,1150,1151,1152,1153,1154,1155,1156,1158,1162,1164,1165,1169,1177,1182,1185,1186,1188,1189,1190,1192,1195,1196,1197,1198,1202,1205,1206,1208,1209,1210,1212,1213,1215,1216,1217,1218,1219,1220,1223,1225,1228,1230,1234,1235,1236,1238,1241,1242,1243,1245,1246,1247,1248,1250,1254,1255,1262,1263,1266,1271,1273,1275,1276,1277,1279,1281,1285,1289,1292,1293,1295,1296,1297,1298,1299,1300,1301,1304,1305,1306,1308,1309,1314,1318,1319,1322,1323,1324,1327,1333,1339,1341,1342,1345,1348,1350,1351,1353,1360,1362,1363,1371,1372,1378,1379,1384,1388,1398,1400,1402,1403,1410,1411,1414,1415,1418,1424,1425,1426,1434,1437,1441,1443,1444,1445,1446,1447,1448,1450,1451,1453,1456,1457,1458,1459,1460,1461,1463,1466,1469,1470,1471,1473,1484,1485,1486,1488,1489,1490,1495,1496,1498,1499,1500,1501,1502,1504,1507,1508,1511,1513,1515,1517,1523,1528,1529,1530,1531,1533,1535,1544,1546,1548,1551,1553,1557,1558,1559,1565,1570,1571,1574,1579,1580,1581,1584,1585,1590,1591,1593,1594,1596,1598,1599,1600,1603,1604,1606,1608,1610,1614,1615,1616,1617,1618,1619,1621,1623,1624,1626,1629,1630,1631,1632,1634,1635,1637,1639,1641,1644,1651,1656,1657,1664,1669,1670,1671,1672,1673,1678,1680,1681,1682,1684,1686,1687,1688,1689,1691,1692,1693,1694,1695,1696,1698,1703,1704,1710,1711,1713,1717,1718,1721,1722,1725,1727,1732,1733,1734,1735,1738,1739,1743,1744,1747,1748,1749,1756,1759,1760,1762,1763,1766,1767,1768,1769,1770,1771,1774,1775,1776,1777,1779,1780,1781,1782,1783,1784,1785,1787,1790,1792,1793,1794,1796,1797,1798,1799,1800,1802,1804,1812,1813,1816,1820,1824,1825,1826,1827,1832,1833,1836,1838,1839,1845,1846,1847,1848,1851,1853,1855,1858,1859,1860,1865,1867,1873,1877,1881,1882,1883,1884,1886,1887,1891,1894,1897,1899,1901,1902,1903,1904,1906,1909,1911,1912,1914,1916,1920,1921,1923,1925,1929,1930,1931,1933,1934,1936,1937,1938,1940,1941,1942,1943,1946,1956,1958,1959,1960,1961,1963,1964,1967,1970,1971,1972,1975,1979,1981,1982,1983,1984,1985,1993,1995,1997,1998],\"yaxis\":\"y\"},{\"customdata\":[[\"Danny Vera\"],[\"Johnny Cash\"],[\"Dolly Parton\"],[\"Johnny Cash\"],[\"Kenny Rogers & Dolly Parton\"],[\"Chris Stapleton\"],[\"Johnny Cash\"],[\"Johnny Cash\"],[\"Johnny Cash\"],[\"Danny Vera\"],[\"The Common Linnets\"],[\"Danny Vera\"],[\"Danny Vera\"],[\"Dolly Parton\"],[\"Dolly Parton\"],[\"John Denver & Placido Domingo\"],[\"Taylor Swift\"],[\"Taylor Swift\"],[\"Johnny Cash\"],[\"Johnny Cash\"],[\"Willie Nelson\"],[\"Danny Vera\"],[\"Taylor Swift\"],[\"Johnny Cash\"],[\"Joe Buck\"],[\"Chris Stapleton\"],[\"Lady Antebellum\"],[\"Taylor Swift\"]],\"hovertemplate\":\"<b>%{hovertext}</b><br><br>Supergenre=Country<br>Year of release=%{x}<br>Position=%{y}<br>Artist=%{customdata[0]}<extra></extra>\",\"hovertext\":[\"Roller Coaster\",\"Hurt\",\"Jolene\",\"Ring Of Fire\",\"Islands In The Stream\",\"Tennessee Whiskey\",\"I Walk The Line\",\"Folsom Prison Blues (Live)\",\"A Boy Named Sue\",\"Hold On To Let Go\",\"Calm After The Storm\",\"The Weight\",\"Pressure Makes Diamonds (2020)\",\"9 To 5\",\"I Will Always Love You\",\"Perhaps Love\",\"All Too Well (Taylor's Version)\",\"Shake It Off\",\"San Quentin\",\"A Thing Called Love\",\"Always On My Mind\",\"The Devil's Son\",\"Blank Space\",\"One\",\"The Way You Take Time\",\"Cold\",\"Need You Now\",\"Cowboy Like Me\"],\"legendgroup\":\"Country\",\"marker\":{\"color\":\"#EF553B\",\"symbol\":\"circle\"},\"mode\":\"markers\",\"name\":\"Country\",\"showlegend\":true,\"type\":\"scattergl\",\"x\":[2019,2002,1974,1963,1983,2015,1957,1968,1969,2020,2014,2020,2020,1981,1983,1981,2021,2014,1969,1972,1984,2013,2015,2000,2019,2020,2010,2020],\"xaxis\":\"x\",\"y\":[2,41,99,267,403,414,424,485,620,649,713,792,851,877,1105,1174,1282,1328,1335,1358,1361,1455,1605,1726,1753,1868,1924,1965],\"yaxis\":\"y\"},{\"customdata\":[[\"Metallica\"],[\"Metallica\"],[\"Metallica\"],[\"Metallica\"],[\"Floor Jansen & Henk Poort\"],[\"Volbeat\"],[\"Black Sabbath\"],[\"Within Temptation\"],[\"Iron Maiden\"],[\"Metallica\"],[\"Mot\\u00f6rhead\"],[\"Metallica\"],[\"Volbeat\"],[\"Metallica\"],[\"Nightwish\"],[\"Iron Maiden\"],[\"Slayer\"],[\"Queensr\\u00ffche\"],[\"Within Temptation\"],[\"Metallica\"],[\"Nightwish\"],[\"Iron Maiden\"],[\"Iron Maiden\"],[\"Metallica\"],[\"Within Temptation\"],[\"The Gathering\"],[\"Ozzy Osbourne\"],[\"Within Temptation\"],[\"Metallica\"],[\"Lucifer\"],[\"Metallica\"]],\"hovertemplate\":\"<b>%{hovertext}</b><br><br>Supergenre=Metal<br>Year of release=%{x}<br>Position=%{y}<br>Artist=%{customdata[0]}<extra></extra>\",\"hovertext\":[\"Nothing Else Matters\",\"One\",\"Enter Sandman\",\"Master Of Puppets\",\"Phantom Of The Opera\",\"Lola Montez\",\"Paranoid\",\"Ice Queen\",\"Fear Of The Dark\",\"The Unforgiven\",\"Ace Of Spades\",\"Fade To Black\",\"Sad Man's Tongue\",\"Whiskey In The Jar\",\"Ghost Love Score (Live@Wacken 2013)\",\"Run To The Hills\",\"Angel Of Death\",\"Silent Lucidity\",\"Mother Earth\",\"Sad But True\",\"\\u00c9lan\",\"Can I Play With Madness\",\"Wasted Years\",\"The Unforgiven II\",\"Stand My Ground\",\"Strange Machines\",\"No More Tears\",\"Faster\",\"The Unforgiven III\",\"House For Sale\",\"Memory Remains\"],\"legendgroup\":\"Metal\",\"marker\":{\"color\":\"#00cc96\",\"symbol\":\"circle\"},\"mode\":\"markers\",\"name\":\"Metal\",\"showlegend\":true,\"type\":\"scattergl\",\"x\":[1992,1994,1991,1986,2019,2013,1970,2001,1993,1991,1980,1984,2007,1998,2013,1982,1986,1991,2002,1992,2015,1988,1986,1997,2004,1996,1990,2011,2008,1975,1997],\"xaxis\":\"x\",\"y\":[8,26,51,65,75,85,132,159,189,205,207,260,262,268,272,284,303,316,370,453,491,571,662,812,878,945,961,1047,1286,1326,1491],\"yaxis\":\"y\"},{\"customdata\":[[\"Boudewijn de Groot\"],[\"Miss Montreal\"],[\"Racoon\"],[\"Klein Orkest\"],[\"Stef Bos\"],[\"Wim Sonneveld\"],[\"Liesbeth List & Ramses Shaffy\"],[\"Guus Meeuwis\"],[\"Claudia de Breij\"],[\"Bl\\u00f8f ft. Geike\"],[\"Acda & De Munnik\"],[\"Ramses Shaffy\"],[\"Andr\\u00e9 Hazes\"],[\"Van Dik Hout\"],[\"Andr\\u00e9 Hazes\"],[\"Frank Boeijen Groep\"],[\"Racoon\"],[\"Ramses Shaffy\"],[\"Racoon\"],[\"Frans Halsema\"],[\"Rowwen H\\u00e8ze\"],[\"Marco Borsato\"],[\"Frank Boeijen Groep\"],[\"Andr\\u00e9 Hazes\"],[\"Boudewijn de Groot\"],[\"De Dijk\"],[\"De Dijk\"],[\"Maan\"],[\"De Dijk\"],[\"Bl\\u00f8f\"],[\"Krezip\"],[\"Racoon\"],[\"Rowwen H\\u00e8ze\"],[\"Boudewijn de Groot\"],[\"Skik\"],[\"Abel\"],[\"Cuby & the Blizzards\"],[\"Andr\\u00e9 Hazes\"],[\"Stef Bos\"],[\"Bl\\u00f8f\"],[\"Andr\\u00e9 Hazes\"],[\"Andr\\u00e9 Hazes\"],[\"De Dijk\"],[\"Bl\\u00f8f\"],[\"Rob de Nijs\"],[\"Bl\\u00f8f\"],[\"De Dijk\"],[\"Acda & De Munnik\"],[\"Rob de Nijs\"],[\"Boudewijn de Groot\"],[\"Bl\\u00f8f\"],[\"De Dijk\"],[\"Guus Meeuwis\"],[\"Acda & De Munnik\"],[\"Marco Borsato, Armin van Buuren & Davina Michelle\"],[\"Bl\\u00f8f\"],[\"Maaike Ouboter\"],[\"Paul de Leeuw\"],[\"Het Goede Doel\"],[\"Rowwen H\\u00e8ze\"],[\"Spinvis\"],[\"Andr\\u00e9 Hazes Jr.\"],[\"Paul de Leeuw & Simone Kleinsma\"],[\"Bankzitters\"],[\"Guus Meeuwis\"],[\"Het Goede Doel\"],[\"Boudewijn de Groot\"],[\"Krezip\"],[\"Frank Boeijen Groep\"],[\"Rowwen H\\u00e8ze\"],[\"Boudewijn de Groot\"],[\"Rob de Nijs\"],[\"Ede Staal\"],[\"De Dijk\"],[\"Herman van Veen\"],[\"Racoon\"],[\"Acda & De Munnik\"],[\"Frank Boeijen Groep\"],[\"Rowwen H\\u00e8ze\"],[\"De Dijk\"],[\"Nits\"],[\"Rowwen H\\u00e8ze\"],[\"Guus Meeuwis & Vagant\"],[\"Bl\\u00f8f\"],[\"Rob de Nijs\"],[\"Ilse DeLange\"],[\"De Dijk\"],[\"Snelle\"],[\"Paul De Leeuw & Andr\\u00e9 Hazes\"],[\"De Dijk\"],[\"Bl\\u00f8f\"],[\"Marco Borsato\"],[\"Veldhuis & Kemper\"],[\"Guus Meeuwis\"],[\"Marco Borsato\"],[\"G\\u00e9 Reinders\"],[\"Bl\\u00f8f\"],[\"Andr\\u00e9 Hazes\"],[\"Nick & Simon\"],[\"De Dijk\"],[\"De Dijk\"],[\"Racoon\"],[\"Boudewijn de Groot\"],[\"Acda & De Munnik\"],[\"Acda & De Munnik\"],[\"Racoon\"],[\"Rowwen H\\u00e8ze\"],[\"Bl\\u00f8f\"],[\"Ilse DeLange\"],[\"Herman van Veen\"],[\"Toontje Lager\"],[\"Krezip\"],[\"Herman van Veen\"],[\"3JS\"],[\"Herman van Veen\"],[\"Guus Meeuwis\"],[\"Het Goede Doel\"],[\"Cuby & the Blizzards\"],[\"Bl\\u00f8f\"],[\"Andr\\u00e9 Hazes\"],[\"Snelle\"],[\"Nielson\"],[\"Andr\\u00e9 Hazes\"],[\"Pommelien Thijs & Jaap Reesema\"],[\"Vandenberg\"],[\"Alderliefste & Paul de Leeuw\"],[\"Bl\\u00f8f\"],[\"Cuby & the Blizzards\"],[\"Drs. P\"],[\"Andr\\u00e9 Hazes\"],[\"Marco Borsato\"],[\"Guus Meeuwis\"],[\"3JS\"],[\"Is Ook Schitterend\"],[\"Ramses Shaffy\"],[\"Marco Borsato\"],[\"Racoon\"],[\"Ramses Shaffy\"],[\"Marco Borsato\"],[\"Ilse DeLange\"],[\"Nick & Simon\"],[\"Rob de Nijs\"],[\"Paul de Leeuw\"],[\"Jenny Arean & Frans Halsema\"],[\"Nits\"],[\"Frank Boeijen Groep\"],[\"Ilse DeLange\"],[\"Raymond Van Het Groenewoud\"],[\"Tino Martin\"],[\"Bl\\u00f8f\"],[\"Boudewijn de Groot\"],[\"Marco Borsato\"],[\"Snelle\"],[\"Marco Borsato\"],[\"Andr\\u00e9 Hazes\"],[\"Guus Meeuwis\"],[\"Spinvis\"],[\"Boudewijn de Groot\"],[\"Van Dik Hout\"],[\"Rowwen H\\u00e8ze\"],[\"Stef Bos\"],[\"Ilse DeLange\"],[\"Marco Borsato\"],[\"Andr\\u00e9 van Duin\"],[\"Johan\"],[\"Boudewijn de Groot\"],[\"Frank Boeijen Groep\"],[\"Tr\\u00f6ckener Kecks\"],[\"Herman van Veen\"],[\"Drukwerk\"],[\"Acda & De Munnik\"],[\"De Dijk\"],[\"Bl\\u00f8f\"],[\"Klein Orkest\"],[\"Rob de Nijs\"],[\"Bl\\u00f8f\"]],\"hovertemplate\":\"<b>%{hovertext}</b><br><br>Supergenre=Nederlandstalig<br>Year of release=%{x}<br>Position=%{y}<br>Artist=%{customdata[0]}<extra></extra>\",\"hovertext\":[\"Avond\",\"Door De Wind\",\"Oceaan\",\"Over De Muur\",\"Papa\",\"Het Dorp\",\"Pastorale\",\"Brabant\",\"Mag Ik Dan Bij Jou\",\"Zoutelande\",\"Het Regent Zonnestralen\",\"Laat Me\",\"Kleine Jongen\",\"Stil In Mij\",\"Bloed Zweet En Tranen\",\"Zeg Me Dat Het Niet Zo Is\",\"Het Is Al Laat Toch\",\"Zing, Vecht, Huil, Bid, Lach, Werk En Bewonder\",\"Love You More\",\"Voor Haar\",\"November\",\"Dochters\",\"Kronenburg Park\",\"Zij Gelooft In Mij\",\"Testament\",\"Dansen Op De Vulkaan\",\"Niemand In De Stad\",\"Ze Huilt Maar Ze Lacht\",\"Als Ze Er Niet Is\",\"Zo Stil\",\"I Would Stay\",\"De Echte Vent\",\"De Peel In Brand\",\"Verdronken Vlinder\",\"Op Fietse\",\"Onderweg\",\"Window Of My Eyes\",\"Geef Mij Je Angst\",\"Is Dit Nu Later\",\"Omarm\",\"De Vlieger\",\"Zeg Maar Niets Meer\",\"Mag Het Licht Uit\",\"Harder Dan Ik Hebben Kan\",\"Het Werd Zomer\",\"Aan De Kust\",\"Groot Hart\",\"Lopen Tot De Zon Komt\",\"Foto Van Vroeger\",\"De Vondeling Van Ameland\",\"Dansen Aan Zee\",\"Ik Kan Het Niet Alleen\",\"Geef Mij Je Angst\",\"Ren Lenny Ren\",\"Hoe Het Danst\",\"Liefs Uit Londen\",\"Dat Ik Je Mis\",\"'k Heb Je Lief\",\"Alles Geprobeerd\",\"Limburg (Live)\",\"Kom Terug\",\"Leef\",\"Zonder Jou\",\"Stapelgek\",\"Dat Komt Door Jou\",\"Belgi\\u00eb\",\"Welterusten Mijnheer De President\",\"Sweet Goodbyes\",\"De Verzoening\",\"Vlinder\",\"Jimmy\",\"Banger Hart\",\"Het Het Nog Nooit Zo Donker West\",\"Binnen Zonder Kloppen\",\"Liefde Van Later\",\"Don't Give Up The Fight\",\"Niet Of Nooit Geweest\",\"Zwart Wit\",\"Auto Vliegtuug\",\"Bloedend Hart\",\"In The Dutch Mountains\",\"De Neus Umhoeg\",\"Het Is Een Nacht... (Levensecht)\",\"Hou Vol Hou Vast\",\"Malle Babbe\",\"I Still Cry\",\"Onderuit\",\"Re\\u00fcnie\",\"Droomland\",\"Als Het Golft\",\"Blauwe Ruis\",\"Margherita\",\"Ik Wou Dat Ik Jou Was\",\"Tranen Gelachen\",\"Rood\",\"Blaosmuziek\",\"Mooie Dag\",\"'n Beetje Verliefd\",\"Pak Maar M'n Hand\",\"Nergens Goed Voor\",\"Kan Ik Iets Voor Je Doen?\",\"Liverpool Rain\",\"Het Land Van Maas En Waal\",\"De Kapitein Deel II\",\"Als Het Vuur Gedoofd Is\",\"No Mercy\",\"Bestel Mar\",\"Wat Zou Je Doen\",\"Miracle\",\"Suzanne\",\"Stiekem Gedanst\",\"Lost Without You\",\"Hilversum 3\",\"Hou Van Mij\",\"Anne\",\"De Weg\",\"Vriendschap\",\"Somebody Will Know Someday\",\"Alles Is Liefde\",\"'n Vriend\",\"Smoorverliefd\",\"IJskoud\",\"Het Is Koud Zonder Jou\",\"Nu Wij Niet Meer Praten\",\"Burning Heart\",\"Une Belle Histoire/Een Mooi Verhaal\",\"Zaterdag\",\"Appleknockers Flophouse\",\"Dodenrit\",\"Het Laatste Rondje\",\"De Bestemming\",\"'t Dondert En 't Bliksemt\",\"Watermensen\",\"Voltooid Verleden Tijd\",\"Sammy\",\"Mooi\",\"Shoes Of Lightning\",\"Wij Zullen Doorgaan\",\"Afscheid Nemen Bestaat Niet\",\"I'm Not So Tough\",\"Kijk Omhoog\",\"Niet Voor Het Laatst\",\"Vlieg Met Me Mee (Live)\",\"Vluchten Kan Niet Meer\",\"Nescio\",\"Hier Komt De Storm\",\"So Incredible\",\"Je Veux De L'Amour\",\"Zij Weet Het\",\"Aanzoek Zonder Ringen\",\"Als De Rook Om Je Hoofd Is Verdwenen\",\"Ik Leef Niet Meer Voor Jou\",\"Kleur\",\"Zij\",\"Uit M'n Bol\",\"Proosten\",\"Bagagedrager\",\"Een Meisje Van 16\",\"Meer Dan Een Ander\",\"'T Roeie Klied\",\"Ik Heb Je Lief\",\"World Of Hurt\",\"De Waarheid\",\"Als De Zon Schijnt\",\"Tumble And Fall\",\"Prikkebeen\",\"Winter In Hamburg\",\"Met Hart en Ziel\",\"Toveren\",\"Je Loog Tegen Mij\",\"Mooi Liedje\",\"Mijn Van Straat Geredde Roos\",\"Later Als Ik Groter Ben\",\"Laat Mij Maar Alleen\",\"Zondag\",\"Hier\"],\"legendgroup\":\"Nederlandstalig\",\"marker\":{\"color\":\"#ab63fa\",\"symbol\":\"circle\"},\"mode\":\"markers\",\"name\":\"Nederlandstalig\",\"showlegend\":true,\"type\":\"scattergl\",\"x\":[1997,2020,2012,1984,1991,1974,1969,2003,2011,2017,1998,1978,1990,1994,2002,1990,2020,1971,2005,1977,2000,2008,1985,2004,1967,1987,1989,2019,1994,2012,2000,2020,2005,1966,1997,2000,1968,1983,1990,2003,1977,1982,1987,1999,1977,1999,1985,1997,1980,2004,2000,1989,2005,2002,2019,1998,2013,1997,1986,1996,2012,2016,1995,2021,2009,1982,1966,2009,1987,2003,1973,1996,1984,1985,1969,2011,1998,1984,1999,1982,1987,1995,1995,2011,1975,2000,1987,2019,1993,2000,2002,1996,2003,2007,2006,1999,2002,1981,2007,1989,2011,2012,1967,2000,1997,2011,1992,1998,2009,1969,1983,2019,1984,2008,1986,2005,1983,1967,2007,1980,2020,2018,1980,2020,1983,2006,1999,1969,1974,1984,1998,1998,2008,1997,1966,2015,2013,1975,2003,1998,2007,2017,1992,1977,1983,1988,2008,1980,2019,2006,1972,1996,2020,2002,1993,2007,2002,1965,1994,1995,1992,1998,1996,1983,2001,1968,1987,1990,1987,1981,1997,2008,2012,1982,1980,2000],\"xaxis\":\"x\",\"y\":[10,20,27,39,52,54,60,83,86,96,102,117,128,131,174,208,211,212,215,217,222,224,233,245,265,273,291,293,301,305,309,320,335,341,353,356,364,366,367,371,374,385,405,419,426,435,443,447,463,476,493,507,520,521,526,532,539,543,545,552,595,603,607,611,624,633,644,646,653,654,674,688,700,701,718,726,745,753,758,759,776,810,829,856,869,883,893,913,925,929,934,960,963,979,1005,1006,1014,1015,1041,1048,1055,1058,1059,1060,1089,1091,1095,1107,1112,1114,1144,1200,1237,1258,1269,1272,1278,1287,1288,1291,1315,1330,1346,1352,1356,1368,1377,1383,1387,1392,1413,1416,1417,1420,1428,1430,1467,1472,1476,1479,1480,1482,1494,1503,1509,1532,1534,1555,1564,1576,1589,1607,1625,1649,1653,1658,1662,1674,1699,1701,1702,1750,1761,1786,1869,1876,1885,1888,1895,1898,1913,1919,1939,1944,1968,1988],\"yaxis\":\"y\"},{\"customdata\":[[\"Coldplay\"],[\"Lady Gaga & Bradley Cooper\"],[\"Coldplay\"],[\"ABBA\"],[\"Paolo Nutini\"],[\"Coldplay\"],[\"Robbie Williams\"],[\"Simple Minds\"],[\"Coldplay\"],[\"Coldplay\"],[\"Adele\"],[\"ABBA\"],[\"Michael Jackson\"],[\"Elton John\"],[\"Kate Bush\"],[\"Neil Diamond\"],[\"Adele\"],[\"Coldplay & Avicii\"],[\"Falco\"],[\"George Michael\"],[\"Adele\"],[\"Jason Paige\"],[\"Ed Sheeran\"],[\"Simple Minds\"],[\"Elton John\"],[\"Michael Jackson\"],[\"Jacques Brel\"],[\"Lady Gaga\"],[\"Adele\"],[\"ABBA\"],[\"Adele\"],[\"Helene Fischer\"],[\"Michael Jackson\"],[\"Tom Odell\"],[\"The Amazing Stroopwafels\"],[\"Eddie Vedder\"],[\"Bette Midler\"],[\"Eddie Vedder\"],[\"Adele\"],[\"Beth Hart\"],[\"Duncan Laurence\"],[\"Michael Jackson\"],[\"Don McLean\"],[\"ABBA\"],[\"ABBA\"],[\"Elton John\"],[\"George Michael & Elton John\"],[\"John Denver\"],[\"Kate Bush\"],[\"Peter Gabriel & Kate Bush\"],[\"ABBA\"],[\"ABBA\"],[\"Bill Withers\"],[\"ABBA\"],[\"ABBA\"],[\"Alderliefste & Ramses Shaffy & Liesbeth List\"],[\"A-Ha\"],[\"Bl\\u00f8f & Counting Crows\"],[\"Peter Gabriel\"],[\"ABBA\"],[\"Nena\"],[\"Adele\"],[\"Billie Eilish\"],[\"Michael Jackson\"],[\"\\u00c9dith Piaf\"],[\"Suzan & Freek & Snelle\"],[\"Suzan & Freek\"],[\"George Michael\"],[\"Wham!\"],[\"John Denver\"],[\"Neil Diamond\"],[\"Hozier\"],[\"Ed Sheeran\"],[\"ABBA\"],[\"Simple Minds\"],[\"Tears For Fears\"],[\"Michael Jackson\"],[\"Michael Jackson\"],[\"Eurythmics\"],[\"Adele\"],[\"Neet O\\u00e9t Lottum\"],[\"Bee Gees\"],[\"Ed Sheeran\"],[\"Rick Astley\"],[\"Ed Sheeran\"],[\"Herbert Gr\\u00f6nemeyer\"],[\"Frankie Goes To Hollywood\"],[\"Bonnie Tyler\"],[\"John Denver\"],[\"Davina Michelle\"],[\"Don McLean\"],[\"Anita Meyer\"],[\"Coldplay\"],[\"Novastar\"],[\"Elvis Costello\"],[\"Adele\"],[\"Donna Summer\"],[\"George Michael\"],[\"George Michael\"],[\"Kate Bush\"],[\"George Michael\"],[\"Ed Sheeran\"],[\"Kate Bush\"],[\"George Michael\"],[\"ABBA\"],[\"Madness\"],[\"Lana Del Rey\"],[\"Gerry Rafferty\"],[\"Elton John\"],[\"Michael Jackson\"],[\"Tina Turner\"],[\"P!nk\"],[\"Suzan & Freek\"],[\"Cat Stevens\"],[\"The Cats\"],[\"ABBA\"],[\"John Mayer\"],[\"ABBA\"],[\"Billie Eilish\"],[\"Chris Rea\"],[\"Herbert Gr\\u00f6nemeyer\"],[\"ABBA\"],[\"Elton John\"],[\"George Michael\"],[\"Bee Gees\"],[\"John Mayer\"],[\"Robbie Williams\"],[\"Spandau Ballet\"],[\"Barbara Pravi\"],[\"Simple Minds\"],[\"The Cats\"],[\"Ed Sheeran\"],[\"Elton John\"],[\"John Mayer\"],[\"Michael Jackson\"],[\"ABBA\"],[\"Michael Jackson\"],[\"Al Stewart\"],[\"Pharrell Williams\"],[\"Whitney Houston\"],[\"Dani\\u00ebl Lohues\"],[\"Neil Diamond\"],[\"Eddie Vedder\"],[\"Snollebollekes\"],[\"Tears For Fears & Oleta Adams\"],[\"Adele\"],[\"Gilbert O'Sullivan\"],[\"De Poema's\"],[\"Tina Turner\"],[\"Robert Long\"],[\"Fools Garden\"],[\"Robbie Williams\"],[\"P!nk\"],[\"Henk Westbroek\"],[\"ABBA\"],[\"Elton John\"],[\"Rufus Wainwright\"],[\"ABBA\"],[\"Elton John\"],[\"Eros Ramazzotti\"],[\"John Mayer\"],[\"ABBA\"],[\"Barry White\"],[\"Cat Stevens\"],[\"Gloria Gaynor\"],[\"The Blue Nile\"],[\"Dusty Springfield\"],[\"Michael Jackson\"],[\"One Direction\"],[\"Elvis Costello\"],[\"Dani\\u00ebl Lohues\"],[\"Damien Rice\"],[\"Lisa Lois\"],[\"Tavares\"],[\"Mariah Carey\"],[\"Roxette\"],[\"Adele\"],[\"Robbie Williams\"],[\"Nena & Kim Wilde\"],[\"Phil Collins & Philip Bailey\"],[\"Backstreet Boys\"],[\"Ed Sheeran\"],[\"Chris de Burgh\"],[\"Madonna\"],[\"Coldplay\"],[\"Simple Minds\"],[\"Moby\"],[\"Tears For Fears\"],[\"Justin Timberlake\"],[\"Madness\"],[\"Spandau Ballet\"],[\"Lewis Capaldi\"],[\"Clouseau\"],[\"Adele\"],[\"Donna Summer\"],[\"Boney M.\"],[\"George Michael\"],[\"De Kast\"],[\"Melanie\"],[\"Ed Sheeran\"],[\"Les Poppys\"],[\"Bee Gees\"],[\"Davina Michelle & Snelle\"],[\"Ten Sharp\"],[\"The Cats\"],[\"John Farnham\"],[\"De Poema's\"],[\"Cyndi Lauper\"],[\"Adele\"],[\"Bee Gees\"],[\"Carly Simon\"],[\"Lauren Daigle\"],[\"ABBA\"],[\"Elton John & Kiki Dee\"],[\"John Mayer\"],[\"Carpenters\"],[\"Ed Sheeran\"],[\"Simple Minds\"],[\"Eros Ramazzotti & Tina Turner\"],[\"Madness\"],[\"Wham!\"],[\"Coldplay\"],[\"Barbra Streisand\"],[\"Whitney Houston\"],[\"Bee Gees\"],[\"Spice Girls\"],[\"Bill Withers\"],[\"Roxette\"],[\"Adele\"],[\"John Denver\"],[\"Coldplay\"],[\"Marc Cohn\"],[\"Jacques Brel\"],[\"Moby\"],[\"Neil Diamond\"],[\"George Michael\"],[\"George Michael & Aretha Franklin\"],[\"Matthias Reim\"],[\"Donna Summer\"],[\"Adele\"],[\"Michael Jackson\"],[\"Beth Hart\"],[\"Suzan & Freek\"],[\"Marianne Rosenberg\"],[\"Bee Gees\"],[\"Mr. Mister\"],[\"Coldplay\"],[\"Michael Andrews ft. Gary Jules\"],[\"Florence + The Machine\"],[\"ABBA\"],[\"Tears For Fears\"],[\"Madness\"],[\"Lionel Richie\"],[\"Barbra Streisand\"],[\"The Cats\"],[\"Michael Jackson\"],[\"Bee Gees\"],[\"The Bangles\"],[\"Lady Gaga\"],[\"Christina Aguilera\"],[\"Madonna\"],[\"Michael Jackson\"],[\"Cock Robin\"],[\"Peter Gabriel\"],[\"Bruno Mars\"],[\"Kim Wilde\"],[\"Coldplay\"],[\"C\\u00e9line Dion\"],[\"Barry Ryan\"],[\"Elton John\"],[\"Loreen\"],[\"Michael Jackson\"],[\"Kirsty Maccoll & Pogues\"],[\"John Mayer\"],[\"Robert Long\"],[\"Davina Michelle\"],[\"C\\u00e9line Dion\"],[\"Coldplay\"],[\"Justin Timberlake\"],[\"Peter Gabriel\"],[\"Wham!\"],[\"George Michael & Mary J. Blige\"],[\"Ed Sheeran\"],[\"Lady Gaga\"],[\"Laura Pausini\"],[\"Roy Orbison\"],[\"Mecano\"],[\"Grace Jones\"],[\"Bruno Mars\"],[\"Nena\"],[\"Ed Sheeran\"],[\"One Direction\"],[\"Dotan\"],[\"Band Aid\"],[\"James Taylor\"],[\"Lewis Capaldi\"],[\"Bee Gees\"],[\"James Blunt\"],[\"ABBA\"],[\"Dan Hartman\"],[\"Niall Horan\"],[\"Ed Sheeran\"],[\"Whitney Houston\"],[\"P!nk\"],[\"Dolly Dots\"],[\"Hans de Booij\"],[\"Lionel Richie\"],[\"John Mayer\"],[\"Elton John\"],[\"John Denver\"],[\"Kate Bush\"],[\"Dua Lipa ft. DaBaby\"],[\"The Cats\"],[\"Elton John\"],[\"Lukas Graham\"],[\"Natasha Bedingfield\"],[\"Youssou N'Dour & Neneh Cherry\"],[\"Maarten Van Roozendaal\"],[\"George Michael\"],[\"Ryan Paris\"],[\"Coldplay\"],[\"Boney M.\"],[\"Ronan Keating\"],[\"Roy Orbison\"],[\"Frankie Goes To Hollywood\"],[\"Neil Diamond\"],[\"Mika\"],[\"ABBA\"],[\"Bee Gees\"],[\"Herbert Gr\\u00f6nemeyer\"],[\"Michael Jackson\"],[\"Michael Jackson\"],[\"James Blunt\"],[\"Bee Gees\"],[\"Coldplay\"],[\"Whitney Houston\"],[\"Bee Gees\"],[\"Cyndi Lauper\"],[\"P!nk\"],[\"Black\"],[\"Carpenters\"],[\"Whitney Houston\"],[\"Tom Jones\"],[\"Madonna\"],[\"Tina Turner\"],[\"George Michael\"],[\"Suzanne Vega\"],[\"Jason Mraz\"],[\"Madonna\"],[\"James Taylor\"],[\"Michael Jackson\"],[\"Billy Ocean\"],[\"Matthew Wilder\"],[\"Peter Gabriel\"],[\"Tears For Fears\"],[\"The Weather Girls\"],[\"P!nk\"],[\"Lorde\"],[\"Eurythmics\"],[\"Patrick Hernandez\"],[\"Suzan & Freek\"],[\"Coldplay\"],[\"Dido\"],[\"Lady Gaga\"],[\"Michael Jackson\"],[\"De Kast\"],[\"Justin Bieber\"],[\"Madonna\"],[\"Davina Michelle\"],[\"Bruno Mars\"],[\"Bruno Mars\"],[\"Billie Eilish\"],[\"Jason Mraz\"],[\"Bette Midler\"],[\"John Mayer\"],[\"Cyndi Lauper\"],[\"Chris Rea\"],[\"Paul Young\"],[\"Bee Gees\"],[\"Eros Ramazzotti\"],[\"Ed Sheeran\"],[\"George Ezra\"],[\"Jacques Brel\"],[\"Tanita Tikaram\"],[\"Calum Scott\"],[\"Coldplay\"],[\"Michael Jackson\"],[\"Twarres\"],[\"Clouseau\"],[\"Robbie Williams\"],[\"Backstreet Boys\"],[\"Britney Spears\"],[\"Bruno Mars\"],[\"Robbie Williams\"],[\"Frankie Goes To Hollywood\"],[\"Ed Sheeran & Justin Bieber\"],[\"Adele\"],[\"George Ezra\"],[\"Rihanna ft. Mikky Ekko\"],[\"Toploader\"],[\"George Michael\"],[\"Boney M.\"],[\"Neil Diamond\"],[\"Ava Max\"],[\"Coldplay\"],[\"Santa Esmeralda\"],[\"Roy Orbison\"],[\"Tina Turner\"],[\"A-Ha\"],[\"Barbra Streisand\"],[\"Barbra Streisand\"],[\"One Direction\"],[\"Annie Lennox\"],[\"Tones And I\"],[\"John Mayer\"],[\"Tom Jones\"],[\"Eurythmics\"],[\"Miley Cyrus\"],[\"George Michael\"],[\"Blaudzun\"]],\"hovertemplate\":\"<b>%{hovertext}</b><br><br>Supergenre=Pop<br>Year of release=%{x}<br>Position=%{y}<br>Artist=%{customdata[0]}<extra></extra>\",\"hovertext\":[\"Fix You\",\"Shallow\",\"Viva La Vida\",\"Dancing Queen\",\"Iron Sky\",\"The Scientist\",\"Angels\",\"Belfast Child\",\"Clocks\",\"Yellow\",\"Someone Like You\",\"The Winner Takes It All\",\"Billie Jean\",\"Your Song\",\"Wuthering Heights\",\"Sweet Caroline\",\"Rolling In The Deep\",\"A Sky Full Of Stars\",\"Jeanny\",\"Careless Whisper\",\"Skyfall\",\"Gotta Catch 'M All (Pokemon Theme Song)\",\"Perfect\",\"Don't You (Forget About Me)\",\"Rocket Man\",\"Earth Song\",\"Ne Me Quitte Pas\",\"Always Remember Us This Way\",\"Make You Feel My Love\",\"Gimme Gimme Gimme\",\"Hello\",\"Atemlos Durch Die Nacht\",\"Thriller\",\"Another Love\",\"Oude Maasweg\",\"Guaranteed\",\"The Rose\",\"Society\",\"When We Were Young\",\"Leave The Light On\",\"Arcade\",\"Man In The Mirror\",\"Vincent\",\"Chiquitita\",\"The Day Before You Came\",\"I'm Still Standing\",\"Don't Let The Sun Go Down On Me\",\"Take Me Home, Country Roads\",\"The Man With The Child In His Eyes\",\"Don't Give Up\",\"Mamma Mia\",\"Thank You For The Music\",\"Ain't No Sunshine\",\"Eagle\",\"Lay All Your Love On Me\",\"Laat Me/Vivre\",\"Take On Me\",\"Holiday In Spain\",\"Solsbury Hill\",\"Waterloo\",\"99 Luftballons\",\"Set Fire To The Rain\",\"Bad Guy\",\"Beat It\",\"Non, Je Ne Regrette Rien\",\"De Overkant\",\"Als Het Avond Is\",\"Jesus To A Child\",\"Last Christmas\",\"Annie's Song\",\"I Am... I Said\",\"Take Me To Church\",\"I See Fire\",\"Does Your Mother Know\",\"Alive And Kicking\",\"Everybody Wants To Rule The World\",\"Smooth Criminal\",\"They Don't Care About Us\",\"Sweet Dreams (Are Made Of This)\",\"Easy on me\",\"Hald Mich 's Vas\",\"Stayin' Alive\",\"Shape Of You\",\"Never Gonna Give You Up\",\"Thinking Out Loud\",\"Halt Mich\",\"The Power Of Love\",\"Total Eclipse Of The Heart\",\"Leaving On A Jet Plane\",\"Duurt Te Lang\",\"American Pie\",\"Why Tell Me Why\",\"Paradise\",\"Wrong\",\"She\",\"Million Years Ago\",\"I Feel Love\",\"Father Figure\",\"Cowboys And Angels\",\"Running Up That Hill\",\"Freedom! '90\",\"Castle On The Hill\",\"Cloudbusting\",\"A Different Corner\",\"Voulez-Vous\",\"One Step Beyond\",\"Video Games\",\"Baker Street\",\"Tiny Dancer\",\"Dirty Diana\",\"The Best\",\"What About Us\",\"Blauwe Dag\",\"Morning Has Broken\",\"One Way Wind\",\"I Have A Dream\",\"Slow Dancing In A Burning Room\",\"Take A Chance On Me\",\"Everything I Wanted\",\"Driving Home For Christmas\",\"Der Weg\",\"Happy New Year\",\"Nikita\",\"Faith\",\"How Deep Is Your Love\",\"In The Blood\",\"Feel\",\"Through The Barricades\",\"Voil\\u00e0\",\"Waterfront\",\"Lea\",\"The A Team\",\"Circle Of Life\",\"Gravity\",\"Heal The World\",\"Fernando\",\"Ben\",\"Year Of The Cat\",\"Happy\",\"I Will Always Love You\",\"Hier Kom Ik Weg\",\"Beautiful Noise\",\"Hard Sun\",\"Links Rechts\",\"Woman In Chains\",\"Chasing Pavements\",\"Nothing Rhymed\",\"Zij Maakt Het Verschil\",\"Private Dancer\",\"Flink Zijn\",\"Lemon Tree\",\"Let Me Entertain You\",\"Try\",\"Zelfs Je Naam Is Mooi\",\"Knowing Me, Knowing You\",\"Candle In The Wind 1997\",\"Going To A Town\",\"Super Trouper\",\"Goodbye Yellow Brick Road\",\"Musica \\u00c8\",\"Daughters\",\"One Of Us\",\"You're The First, The Last, My Everything\",\"Father And Son\",\"I Will Survive\",\"Tinseltown In The Rain\",\"Son Of A Preacher Man\",\"Black Or White\",\"Story Of My Life\",\"I Want You\",\"Prachtig Mooie Dag\",\"9 Crimes\",\"Hallelujah\",\"Heaven Must Be Missing An Angel\",\"All I Want For Christmas Is You\",\"Listen To Your Heart\",\"Hometown Glory\",\"Mr. Bojangles\",\"Anyplace, Anywhere, Anytime\",\"Easy Lover\",\"I Want It That Way\",\"Photograph\",\"The Lady In Red\",\"Like A Prayer\",\"Everglow\",\"New Gold Dream (81-82-83-84)\",\"Porcelain\",\"Shout\",\"Can't Stop The Feeling!\",\"Our House\",\"Gold\",\"Someone You Loved\",\"Daar Gaat Ze\",\"Turning Tables\",\"State Of Independence\",\"Rasputin\",\"Killer/Papa Was A Rollin' Stone\",\"In Nije Dei\",\"Beautiful People\",\"Afterglow\",\"Non Non Rien n'a Chang\\u00e9\",\"More Than A Woman\",\"17 Miljoen Mensen\",\"You\",\"Marian\",\"You're The Voice\",\"Mijn Houten Hart\",\"True Colors\",\"All I Ask\",\"Words\",\"You're So Vain\",\"You Say\",\"S.O.S.\",\"Don't Go Breaking My Heart\",\"Free Fallin' (Live)\",\"Top Of The World\",\"Supermarket Flowers\",\"Someone Somewhere In Summertime\",\"Cose Della Vita\",\"Night Boat To Cairo\",\"Wake Me Up Before You Go-Go\",\"Magic\",\"Woman In Love\",\"I Wanna Dance With Somebody (Who Loves Me)\",\"Tragedy\",\"Wannabe\",\"Lovely Day\",\"It Must Have Been Love\",\"Rumour Has It\",\"Calypso\",\"Trouble\",\"Walking In Memphis\",\"Mijn Vlakke Land\",\"Why Does My Heart Feel So Bad\",\"September Morn'\",\"Praying For Time\",\"I Knew You Were Waiting (For Me)\",\"Verdammt Ich Lieb' Dich\",\"MacArthur Park\",\"Water Under The Bridge\",\"The Way You Make Me Feel\",\"L.A. Song\",\"Weg Van Jou\",\"Ich Bin Wie Du\",\"Massachusetts\",\"Broken Wings\",\"Christmas Lights\",\"Mad World\",\"Dog Days Are Over\",\"The Name Of The Game\",\"Sowing The Seeds Of Love\",\"Baggy Trousers\",\"Hello\",\"Memory\",\"Scarlet Ribbons\",\"Human Nature\",\"Night Fever\",\"Eternal Flame\",\"Born This Way\",\"Hurt\",\"Frozen\",\"Don't Stop 'Til You Get Enough\",\"The Promise You Made\",\"Sledgehammer\",\"When I Was Your Man\",\"Cambodia\",\"Adventure Of A Lifetime\",\"It's All Coming Back To Me\",\"Eloise\",\"Can You Feel The Love Tonight\",\"Euphoria\",\"Bad\",\"Fairytale Of New York\",\"New Light\",\"Kalverliefde\",\"Beat Me\",\"My Heart Will Go On\",\"Hymn For The Weekend\",\"Mirrors\",\"Biko\",\"Club Tropicana\",\"As\",\"Galway Girl\",\"Bad Romance\",\"La Solitudine\",\"In Dreams\",\"Hijo De La Luna\",\"La Vie En Rose\",\"24K Magic\",\"Nur Getr\\u00e4umt\",\"Happier\",\"Best Song Ever\",\"Home\",\"Do They Know It's Christmas\",\"You've Got A Friend\",\"Before You Go\",\"To Love Somebody\",\"Goodbye My Lover\",\"Money Money Money\",\"Relight My Fire\",\"This Town\",\"Bad Habits\",\"Greatest Love Of All\",\"Raise Your Glass\",\"Love Me Just A Little Bit More (Totally Hooked On You)\",\"Annabel\",\"All Night Long (All Night)\",\"Waiting On The World To Change\",\"Sorry Seems To Be The Hardest Word\",\"Thank God I'm A Country Boy\",\"Babooshka\",\"Levitating\",\"Times Were When\",\"Daniel\",\"7 Years\",\"Unwritten\",\"7 Seconds\",\"Red Mij Niet\",\"You Have Been Loved\",\"Dolce Vita\",\"Speed Of Sound\",\"Rivers Of Babylon\",\"When You Say Nothing At All\",\"Oh, Pretty Woman\",\"Relax\",\"Love On The Rocks\",\"Grace Kelly\",\"Summer Night City\",\"I Started A Joke\",\"Mensch\",\"Wanna Be Startin' Somethin'\",\"Off The Wall\",\"You're Beautiful\",\"Nights On Broadway\",\"Talk\",\"One Moment In Time\",\"Spicks And Specks\",\"Time After Time\",\"Dear Mr. President\",\"Wonderful Life\",\"(They Long To Be) Close To You\",\"I Have Nothing\",\"Green Green Grass Of Home\",\"Vogue\",\"What's Love Got To Do With It\",\"One More Try\",\"Luka\",\"I Won't Give Up\",\"Live To Tell\",\"Fire And Rain\",\"Rock With You\",\"Love Really Hurts Without You\",\"Break My Stride\",\"In Your Eyes\",\"Mad World\",\"It's Raining Men\",\"Family Portrait\",\"Royals\",\"There Must Be An Angel (Playing With My Heart)\",\"Born To Be Alive\",\"Goud\",\"Every Teardrop Is A Waterfall\",\"White Flag\",\"Poker Face\",\"Will You Be There\",\"Hart Van Mijn Gevoel\",\"Love Yourself\",\"La Isla Bonita\",\"Skyward\",\"Just The Way You Are\",\"Locked Out Of Heaven\",\"Happier Than Ever\",\"I'm Yours\",\"Beast Of Burden\",\"Last Train Home\",\"Girls Just Want To Have Fun\",\"Josephine\",\"Love Of The Common People\",\"You Win Again\",\"Se Bastasse Una Canzone\",\"Lego House\",\"Budapest\",\"Voir Un Ami Pleurer\",\"Twist In My Sobriety\",\"Dancing On My Own\",\"In My Place\",\"Stranger In Moscow\",\"Wer Bisto\",\"Domino\",\"She's The One\",\"Everybody (Backstreet's Back)\",\"Toxic\",\"Grenade\",\"The Road To Mandalay\",\"Two Tribes\",\"I Don't Care\",\"Send My Love (To Your New Lover)\",\"Shotgun\",\"Stay\",\"Dancing In The Moonlight\",\"I Can't Make You Love Me\",\"Daddy Cool\",\"Song Sung Blue\",\"Kings & Queens\",\"Green Eyes\",\"Don't Let Me Be Misunderstood\",\"You Got It\",\"We Don't Need Another Hero\",\"Hunting High And Low\",\"Papa Can You Hear Me?\",\"The Way We Were\",\"One Way Or Another (Teenage Kicks)\",\"Why\",\"Dance Monkey\",\"Heartbreak Warfare\",\"It's Not Unusual\",\"Here Comes The Rain Again\",\"Midnight Sky\",\"Kissing A Fool\",\"Promises Of No Man's Land\"],\"legendgroup\":\"Pop\",\"marker\":{\"color\":\"#FFA15A\",\"symbol\":\"circle\"},\"mode\":\"markers\",\"name\":\"Pop\",\"showlegend\":true,\"type\":\"scattergl\",\"x\":[2005,2018,2008,1976,2014,2002,1998,1989,2003,2000,2011,1980,1983,1971,1978,1969,2010,2014,1986,1984,2012,1997,2017,1985,1972,1995,1959,2019,2008,1979,2015,2013,1983,2012,1982,2007,1980,2007,2015,2004,2019,1988,1972,1979,1982,1983,1991,1971,1978,1986,1975,1978,1971,1978,1980,2005,1985,2004,1977,1974,1983,2011,2019,1983,1961,2020,2018,1996,1984,1976,1971,2014,2014,1979,1985,1985,1988,1996,1983,2021,2004,1978,2017,1987,2014,1988,1984,1983,1969,2018,1972,1981,2011,1999,1999,2016,1977,1988,1991,1985,1990,2017,1985,1986,1979,1979,2011,1978,1971,1987,1989,2017,2019,1972,1971,1979,2006,1977,2019,1986,2002,1980,1985,1987,1977,2017,2002,1986,2021,1983,1968,2011,1994,2006,1992,1975,1972,1977,2013,1992,2008,1976,2007,2015,1989,2008,1971,2001,1984,1977,1996,1998,2012,1998,1977,1997,2007,1980,1973,1989,2005,1981,1974,1971,1979,1984,1968,1991,2013,1986,2011,2006,2009,1976,1994,1989,2009,2001,2003,1985,1999,2015,1986,1989,2015,1982,1999,1985,2016,1982,1983,2019,1990,2011,1982,1978,1993,1997,1969,2020,1971,1977,2020,1991,1969,1987,1999,1986,2015,1968,1973,2019,1975,1976,2008,1973,2017,1982,1998,1980,1984,2014,1980,1987,1979,1996,1978,1990,2011,1975,2000,1991,1965,1999,1979,1990,1987,1990,1978,2016,1987,1999,2020,1976,1967,1986,2010,2003,2009,1977,1989,1980,1984,1982,1969,1983,1978,1989,2011,2006,1998,1979,1986,1986,2013,1981,2015,1996,1968,1994,2012,1987,1987,2018,1974,2020,1998,2015,2013,1980,1983,1999,2017,2009,1993,1963,1990,1977,2016,1983,2017,2013,2014,1984,1971,2019,1967,2005,1976,1980,2016,2021,1986,2010,1983,1983,1983,2006,1976,1975,1980,2020,1968,1973,2015,2004,1994,2001,1997,1983,2005,1978,1999,1964,1984,1980,2007,1978,1969,2003,1983,1979,2005,1975,2005,1988,1967,1984,2006,1987,1970,1993,1966,1990,1984,1988,1987,2012,1986,1970,1979,1976,1984,1986,1983,1983,2002,2013,1985,1979,2021,2011,2003,2009,1993,1999,2016,1987,2019,2010,2012,2021,2008,1984,2021,1984,1985,1984,1987,1990,2012,2014,1961,1988,2016,2002,1996,2000,1990,1999,1997,2004,2010,2001,1984,2019,2016,2018,2013,2000,1997,1976,1972,2020,2002,1977,1989,1985,1986,1983,1973,2013,1992,2019,2009,1965,1983,2020,1988,2014],\"xaxis\":\"x\",\"y\":[11,38,43,44,70,72,92,104,116,118,124,133,136,137,139,144,145,148,151,160,164,165,172,173,177,182,188,190,191,194,196,204,213,221,223,227,228,232,238,248,251,254,261,264,279,286,288,294,306,308,315,322,323,324,326,328,330,342,347,348,350,361,362,363,372,381,390,391,398,415,432,436,438,442,444,445,448,452,455,457,459,470,473,481,492,504,505,506,511,518,522,525,529,535,548,551,554,563,572,576,581,585,587,588,590,591,593,599,600,610,615,623,625,627,628,632,637,639,642,647,652,658,660,661,663,665,668,671,678,679,680,683,686,687,692,696,704,711,712,714,717,721,725,732,736,739,749,752,754,770,772,782,783,788,790,791,793,803,811,815,816,817,818,827,835,840,843,846,848,849,850,857,864,876,879,882,884,885,894,904,907,909,911,916,917,919,923,943,948,951,953,954,957,959,962,964,974,976,980,981,990,993,1003,1007,1009,1016,1019,1040,1049,1054,1065,1066,1071,1072,1074,1079,1081,1088,1092,1097,1118,1121,1126,1128,1130,1132,1134,1136,1137,1139,1148,1149,1157,1160,1161,1163,1166,1168,1171,1173,1179,1180,1181,1184,1204,1207,1211,1214,1224,1231,1232,1233,1239,1252,1253,1259,1260,1264,1265,1270,1303,1307,1311,1313,1317,1320,1334,1337,1340,1343,1344,1347,1349,1354,1357,1373,1375,1376,1381,1385,1386,1390,1393,1394,1401,1407,1409,1412,1419,1421,1422,1423,1436,1438,1439,1442,1452,1465,1475,1478,1481,1483,1493,1505,1506,1514,1516,1519,1522,1537,1538,1539,1540,1541,1545,1550,1552,1554,1556,1560,1561,1562,1566,1569,1578,1583,1586,1587,1588,1592,1595,1597,1601,1602,1609,1612,1628,1633,1638,1640,1643,1645,1646,1654,1655,1661,1668,1677,1685,1690,1697,1700,1712,1715,1720,1723,1724,1731,1736,1742,1752,1754,1757,1764,1765,1772,1773,1788,1791,1806,1807,1808,1809,1810,1811,1815,1817,1819,1821,1822,1823,1829,1830,1831,1835,1837,1841,1843,1850,1852,1862,1863,1864,1866,1880,1889,1893,1896,1900,1905,1908,1910,1915,1918,1922,1926,1927,1935,1945,1947,1949,1954,1962,1966,1973,1976,1987,1994,1999,2000],\"yaxis\":\"y\"},{\"customdata\":[[\"Prince & The Revolution\"],[\"Michael Kiwanuka\"],[\"Amy Winehouse\"],[\"Otis Redding\"],[\"The Weeknd\"],[\"Ike & Tina Turner\"],[\"Chef'Special\"],[\"Prince & The Revolution\"],[\"Rag'n'Bone Man\"],[\"Chef'Special\"],[\"Ike & Tina Turner\"],[\"Aretha Franklin\"],[\"Marvin Gaye\"],[\"Seal\"],[\"Mark Ronson ft. Amy Winehouse\"],[\"John Legend\"],[\"Amy Winehouse\"],[\"Prince & The Revolution\"],[\"Aretha Franklin\"],[\"Mark Ronson ft. Bruno Mars\"],[\"Stevie Wonder\"],[\"Beyonc\\u00e9\"],[\"Aretha Franklin\"],[\"Prince\"],[\"The Righteous Brothers\"],[\"Prince\"],[\"The Weeknd\"],[\"Aretha Franklin\"],[\"The Teskey Brothers\"],[\"Amy Winehouse\"],[\"Prince & The Revolution\"],[\"Ben E. King\"],[\"Amy Winehouse\"],[\"Michael Kiwanuka\"],[\"Gladys Knight & The Pips\"],[\"Prince & The Revolution\"],[\"Teskey Brothers\"],[\"Stevie Wonder\"],[\"The Trammps\"],[\"Amy Winehouse\"],[\"Sam Cooke\"],[\"Prince\"],[\"Prince & The Revolution\"],[\"Ike & Tina Turner\"],[\"Marvin Gaye\"],[\"Alain Clark\"],[\"Xavier Rudd\"],[\"Stevie Wonder\"],[\"Roberta Flack\"],[\"Labi Siffre\"],[\"Marvin Gaye\"],[\"Chef'Special\"],[\"Stevie Wonder\"],[\"Michael Kiwanuka\"],[\"Seal\"],[\"Black Pumas\"],[\"Chef'Special\"],[\"Otis Redding\"],[\"Womack & Womack\"],[\"The Weeknd\"],[\"Marvin Gaye & Tammi Terrell\"],[\"Khruangbin & Leon Bridges\"],[\"Stevie Wonder\"],[\"Beyonc\\u00e9\"],[\"Sam Cooke\"],[\"Curtis Mayfield\"],[\"Jamiroquai\"],[\"Prince\"],[\"Rufus & Chaka Khan\"],[\"Prince\"],[\"Blackstreet ft. Dr Dre\"],[\"Solomon Burke & De Dijk\"],[\"Silk Sonic\"],[\"Prince & The New Power Generation\"],[\"John Legend\"],[\"Otis Redding\"],[\"Percy Sledge\"],[\"James Brown\"],[\"James Brown\"],[\"Beyonc\\u00e9\"],[\"Marvin Gaye\"],[\"Al Green\"],[\"Beyonc\\u00e9 & Jay-Z\"]],\"hovertemplate\":\"<b>%{hovertext}</b><br><br>Supergenre=Soul<br>Year of release=%{x}<br>Position=%{y}<br>Artist=%{customdata[0]}<extra></extra>\",\"hovertext\":[\"Purple Rain\",\"Cold Little Heart\",\"Back To Black\",\"(Sittin' On) The Dock Of The Bay\",\"Blinding Lights\",\"Proud Mary\",\"In Your Arms\",\"When Doves Cry\",\"Human\",\"Amigo\",\"River Deep Mountain High\",\"Respect\",\"What's Going On\",\"Kiss From A Rose\",\"Valerie\",\"All Of Me\",\"Rehab\",\"Sometimes It Snows In April\",\"I Say A Little Prayer\",\"Uptown Funk\",\"Superstition\",\"Halo\",\"(You Make Me Feel Like A) Natural Woman\",\"1999\",\"Unchained Melody\",\"Sign 'O' The Times\",\"Save Your Tears\",\"Think (Blues Brothers Version)\",\"Pain And Misery\",\"You Know I'm No Good\",\"Raspberry Beret\",\"Stand By Me\",\"Tears Dry On Their Own\",\"Love And Hate\",\"Midnight Train To Georgia\",\"I Would Die 4 U\",\"Hold Me\",\"Isn't She Lovely\",\"Disco Inferno\",\"Love Is A Losing Game\",\"A Change Is Gonna Come\",\"Let's Go Crazy\",\"Kiss\",\"Nutbush City Limits\",\"I Heard It Through The Grapevine\",\"Father & Friend\",\"Follow The Sun\",\"I Wish\",\"The First Time Ever I Saw Your Face\",\"(Something Inside) So Strong\",\"Sexual Healing\",\"Afraid of the dark\",\"Sir Duke\",\"Home Again\",\"Crazy\",\"Colors\",\"Nicotine\",\"I've Got Dreams To Remember\",\"Teardrops\",\"In Your Eyes\",\"Ain't No Mountain High Enough\",\"Texas Sun\",\"Master Blaster (Jammin')\",\"Love On Top\",\"Wonderful World\",\"Move On Up\",\"Virtual Insanity\",\"The Cross\",\"Ain't Nobody\",\"Gold\",\"No Diggity\",\"Hold On Tight\",\"Leave The Door Open\",\"Diamonds And Pearls\",\"Ordinary People\",\"Try A Little Tenderness\",\"When A Man Loves A Woman\",\"Sex Machine\",\"It's A Man's Man's Man's World\",\"Listen\",\"Let's Get It On\",\"Let's Stay Together\",\"Crazy In Love\"],\"legendgroup\":\"Soul\",\"marker\":{\"color\":\"#19d3f3\",\"symbol\":\"circle\"},\"mode\":\"markers\",\"name\":\"Soul\",\"showlegend\":true,\"type\":\"scattergl\",\"x\":[1984,2016,2007,1968,2019,1971,2014,1984,2016,2016,1966,1967,1971,1995,2007,2013,2006,1986,1968,2014,1973,2009,1967,1982,1965,1987,2020,1980,2019,2007,1985,1987,2007,2016,1973,1984,2019,1976,1977,2007,1964,1984,1986,1974,1969,2008,2015,1977,1972,1987,1982,2021,1977,2012,1991,2019,2017,1968,1988,2020,1967,2019,1980,2011,1960,1970,1996,1987,1984,1995,1996,2010,2021,1991,2005,1966,1966,1970,1966,2007,1973,1971,2003],\"xaxis\":\"x\",\"y\":[21,49,56,115,156,161,334,395,418,434,440,446,467,482,483,489,549,579,606,609,636,727,744,768,769,774,805,820,896,946,955,973,1022,1028,1035,1044,1116,1143,1145,1172,1199,1203,1221,1249,1316,1321,1331,1332,1336,1359,1382,1395,1427,1449,1462,1497,1526,1575,1582,1627,1667,1676,1679,1705,1707,1708,1728,1741,1751,1818,1828,1842,1854,1872,1875,1907,1952,1953,1955,1977,1978,1986,1992],\"yaxis\":\"y\"},{\"customdata\":[[\"Simon & Garfunkel\"],[\"Simon & Garfunkel\"],[\"Leonard Cohen\"],[\"Simon & Garfunkel\"],[\"Tracy Chapman\"],[\"Bob Dylan\"],[\"Mumford & Sons\"],[\"Lex Uiting\"],[\"Jim Croce\"],[\"Mumford & Sons\"],[\"Simon & Garfunkel\"],[\"Leonard Cohen\"],[\"Passenger\"],[\"Mumford & Sons\"],[\"Bob Dylan\"],[\"Simon & Garfunkel\"],[\"Leonard Cohen\"],[\"Bob Dylan\"],[\"Art Garfunkel\"],[\"Simon & Garfunkel\"],[\"Leonard Cohen\"],[\"Clannad\"],[\"Leonard Cohen\"],[\"Bob Dylan\"],[\"Simon & Garfunkel\"],[\"Leonard Cohen\"],[\"Bob Dylan\"],[\"Tracy Chapman\"],[\"First Aid Kit\"],[\"Simon & Garfunkel\"],[\"Joni Mitchell\"],[\"Stealers Wheel\"],[\"The Dubliners\"],[\"Ben Howard\"],[\"Ralph McTell\"],[\"Tracy Chapman\"],[\"Janis Ian\"],[\"Mumford & Sons\"],[\"Jonathan Jeremiah\"],[\"Mumford & Sons\"],[\"Bob Dylan\"],[\"Mumford & Sons\"],[\"Leonard Cohen\"],[\"Tim Hardin\"],[\"Duncan Browne\"],[\"Fink\"],[\"Birdy\"]],\"hovertemplate\":\"<b>%{hovertext}</b><br><br>Supergenre=Folk<br>Year of release=%{x}<br>Position=%{y}<br>Artist=%{customdata[0]}<extra></extra>\",\"hovertext\":[\"The Sound Of Silence\",\"Bridge Over Troubled Water\",\"Hallelujah\",\"The Boxer\",\"Fast Car\",\"Hurricane\",\"Little Lion Man\",\"Nao 't Zuuje\",\"Time In A Bottle\",\"The Cave\",\"Mrs. Robinson\",\"Suzanne\",\"Let Her Go\",\"I Will Wait\",\"Blowin' In The Wind\",\"El Condor Pasa (If I Could)\",\"So Long Marianne\",\"Like A Rolling Stone\",\"Bright Eyes\",\"Homeward Bound\",\"Dance Me To The End Of Love\",\"Theme From 'Harry's Game'\",\"You Want It Darker\",\"The Times They Are A-Changin'\",\"Scarborough Fair\",\"Take This Waltz\",\"Knockin' On Heaven's Door\",\"Baby Can I Hold You\",\"My Silver Lining\",\"Cecilia\",\"Both Sides Now\",\"Stuck In The Middle With You\",\"The Wild Rover\",\"Keep Your Head Up\",\"Streets Of London\",\"Talkin' Bout A Revolution\",\"At Seventeen\",\"Lover Of The Light\",\"Happiness\",\"Hopeless Wanderer\",\"I Want You\",\"Babel\",\"Famous Blue Raincoat\",\"How Can We Hang On To A Dream\",\"The Wild Places\",\"Looking Too Closely\",\"Skinny Love\"],\"legendgroup\":\"Folk\",\"marker\":{\"color\":\"#FF6692\",\"symbol\":\"circle\"},\"mode\":\"markers\",\"name\":\"Folk\",\"showlegend\":true,\"type\":\"scattergl\",\"x\":[1966,1970,1984,1969,1988,1975,2010,2017,1972,2010,1968,1968,2012,2012,1963,1970,1968,1965,1979,1966,1984,1983,2016,1964,1966,1988,1973,1988,2014,1970,1968,1973,1964,2011,1972,1988,1975,2012,2011,2013,1966,2013,1971,1967,1979,2014,2011],\"xaxis\":\"x\",\"y\":[28,55,135,152,218,275,382,388,460,462,472,480,648,706,720,728,747,786,822,838,886,965,986,1045,1069,1093,1131,1146,1183,1187,1193,1257,1366,1370,1404,1468,1518,1714,1730,1834,1849,1857,1861,1878,1951,1974,1989],\"yaxis\":\"y\"},{\"customdata\":[[\"Eminem\"],[\"De Jeugd Van Tegenwoordig\"],[\"Kyteman\"],[\"Diggy Dex ft. JW Roy\"],[\"Jay-Z & Alicia Keys\"],[\"Eminem & Dido\"],[\"Massive Attack\"],[\"2Pac\"],[\"The Black Eyed Peas\"],[\"Linkin Park & Jay-Z\"],[\"Coolio\"],[\"Massive Attack\"],[\"Typhoon\"],[\"Beastie Boys\"],[\"The Opposites\"],[\"Eminem\"],[\"Diggy Dex\"],[\"The Black Eyed Peas\"],[\"Eminem\"],[\"De Jeugd Van Tegenwoordig\"],[\"Fugees\"],[\"Dr. Dre ft. Snoop Dogg\"],[\"Mr. Probz\"],[\"Post Malone\"],[\"2Pac ft. Dr. Dre\"],[\"2Pac\"],[\"Eminem & Rihanna\"],[\"Kanye West & Jay-Z\"],[\"Sugarhill Gang\"],[\"Beastie Boys\"],[\"Eminem\"],[\"House Of Pain\"],[\"Typhoon\"],[\"Run DMC & Aerosmith\"],[\"OutKast\"],[\"Notorious B.I.G.\"],[\"Prodigy\"],[\"Kendrick Lamar\"],[\"OutKast\"],[\"Eminem\"],[\"Kid Rock\"],[\"Eminem & Rihanna\"]],\"hovertemplate\":\"<b>%{hovertext}</b><br><br>Supergenre=Hiphop<br>Year of release=%{x}<br>Position=%{y}<br>Artist=%{customdata[0]}<extra></extra>\",\"hovertext\":[\"Lose Yourself\",\"Sterrenstof\",\"Sorry\",\"Treur Niet (Ode Aan Het Leven)\",\"Empire State Of Mind\",\"Stan\",\"Unfinished Sympathy\",\"Changes\",\"I Gotta Feeling\",\"Numb/Encore\",\"Gangsta's Paradise\",\"Teardrop\",\"Zandloper\",\"Sabotage\",\"Slapeloze Nachten\",\"Without Me\",\"De Zon Op\",\"Where Is The Love\",\"Real Slim Shady\",\"Watskeburt?!\",\"Killing Me Softly\",\"The Next Episode\",\"Waves\",\"Circles\",\"California Love\",\"Dear Mama\",\"Love The Way You Lie\",\".. In Paris\",\"\\ufeffRapper's Delight\",\"Fight For Your Right (To Party)\",\"Cleanin' Out My Closet\",\"Jump Around\",\"Hemel Valt\",\"Walk This Way\",\"Hey Ya!\",\"Hypnotize\",\"Out Of Space\",\"King Kunta\",\"Ms. Jackson\",\"My Name Is\",\"All Summer Long\",\"The Monster\"],\"legendgroup\":\"Hiphop\",\"marker\":{\"color\":\"#B6E880\",\"symbol\":\"circle\"},\"mode\":\"markers\",\"name\":\"Hiphop\",\"showlegend\":true,\"type\":\"scattergl\",\"x\":[2002,2010,2009,2015,2009,2000,1991,1998,2009,2004,1995,1998,2014,1994,2013,2002,2018,2003,2000,2005,1996,2000,2013,2019,1996,1998,2010,2011,1979,1986,2002,1992,2015,1986,2004,1997,1993,2015,2001,1999,2008,2013],\"xaxis\":\"x\",\"y\":[76,149,170,210,358,376,536,555,573,580,629,702,722,730,787,799,826,855,875,1167,1280,1283,1290,1310,1355,1365,1367,1374,1396,1406,1432,1440,1474,1524,1650,1666,1675,1716,1805,1870,1874,1928],\"yaxis\":\"y\"},{\"customdata\":[[\"Eric Clapton\"],[\"Gary Moore\"],[\"Eric Clapton\"],[\"Eric Clapton\"],[\"The Temptations\"],[\"Cream\"],[\"Derek & The Dominos\"],[\"John Hiatt\"],[\"Blues Brothers\"],[\"Etta James\"],[\"Stevie Ray Vaughan\"],[\"B.B. King\"],[\"Tom Waits\"],[\"Eric Clapton\"],[\"The Black Crowes\"],[\"Etta James\"],[\"J.J. Cale\"],[\"The Robert Cray Band\"],[\"Muddy Waters\"],[\"J.J. Cale\"],[\"J.J. Cale\"],[\"The Black Crowes\"],[\"Bonnie Raitt\"],[\"Eric Clapton\"],[\"Frank Zappa\"],[\"Cream\"]],\"hovertemplate\":\"<b>%{hovertext}</b><br><br>Supergenre=Blues<br>Year of release=%{x}<br>Position=%{y}<br>Artist=%{customdata[0]}<extra></extra>\",\"hovertext\":[\"Tears In Heaven\",\"Still Got The Blues\",\"Layla (Unplugged)\",\"Wonderful Tonight\",\"Papa Was A Rolling Stone\",\"White Room\",\"Layla\",\"Have A Little Faith In Me\",\"Everybody Needs Somebody To Love\",\"At Last\",\"Pride And Joy\",\"The Thrill Is Gone\",\"Tom Traubert's Blues (Waltzing Mathilda)\",\"Cocaine\",\"Remedy\",\"I'd Rather Go Blind\",\"After Midnight\",\"Right Next Door (Because Of Me)\",\"Mannish Boy\",\"Cocaine\",\"Call Me The Breeze\",\"Hard To Handle\",\"I Can't Make You Love Me\",\"Forever Man\",\"Dancin' Fool\",\"Sunshine Of Your Love\"],\"legendgroup\":\"Blues\",\"marker\":{\"color\":\"#FF97FF\",\"symbol\":\"circle\"},\"mode\":\"markers\",\"name\":\"Blues\",\"showlegend\":true,\"type\":\"scattergl\",\"x\":[1992,1990,1992,1977,1972,1968,1971,1989,1989,1960,1983,1969,1976,1978,1992,1967,1972,1987,1988,1976,1972,1990,1991,1985,1979,1968],\"xaxis\":\"x\",\"y\":[90,246,404,458,564,641,773,952,995,1042,1201,1256,1274,1284,1312,1380,1397,1543,1567,1620,1652,1660,1706,1778,1801,1996],\"yaxis\":\"y\"},{\"customdata\":[[\"Bob Marley & The Wailers\"],[\"Bob Marley & The Wailers\"],[\"Peter Fox\"],[\"Bob Marley & The Wailers\"],[\"Doe Maar\"],[\"UB40\"],[\"Doe Maar\"],[\"Doe Maar\"],[\"Doe Maar\"],[\"UB40\"],[\"Bob Marley & The Wailers\"],[\"Doe Maar\"],[\"Doe Maar\"],[\"No Doubt\"],[\"Bob Marley & The Wailers\"],[\"UB40\"],[\"Doe Maar\"],[\"Bob Marley & The Wailers\"],[\"UB40 & Chrissie Hynde\"],[\"Bob Marley & The Wailers\"],[\"Bob Marley & The Wailers\"],[\"Bob Marley & The Wailers\"],[\"Doe Maar\"]],\"hovertemplate\":\"<b>%{hovertext}</b><br><br>Supergenre=Reggae<br>Year of release=%{x}<br>Position=%{y}<br>Artist=%{customdata[0]}<extra></extra>\",\"hovertext\":[\"Three Little Birds\",\"Redemption Song\",\"Haus Am See\",\"No Woman, No Cry (live)\",\"Sinds 1 Dag Of 2 (32 Jaar)\",\"Red Red Wine\",\"De Bom\",\"Smoorverliefd\",\"Belle H\\u00e9l\\u00e8ne\",\"Kingston Town\",\"Could You Be Loved\",\"Is Dit Alles\",\"Nederwiet\",\"Don't Speak\",\"Stir It Up (live)\",\"Food For Thought\",\"Pa\",\"One Love/People Get Ready\",\"I Got You Babe\",\"Is This Love\",\"Get Up Stand Up\",\"Buffalo Soldier\",\"1 Nacht Alleen\"],\"legendgroup\":\"Reggae\",\"marker\":{\"color\":\"#FECB52\",\"symbol\":\"circle\"},\"mode\":\"markers\",\"name\":\"Reggae\",\"showlegend\":true,\"type\":\"scattergl\",\"x\":[1977,1980,2009,1975,1981,1983,1982,1981,1982,1990,1980,1982,1983,1996,1979,1983,1983,1984,1985,1979,1973,1983,1983],\"xaxis\":\"x\",\"y\":[123,304,319,336,413,544,672,709,710,789,892,1061,1076,1120,1244,1405,1487,1520,1549,1611,1659,1840,1948],\"yaxis\":\"y\"},{\"customdata\":[[\"Rammstein\"],[\"Rammstein\"],[\"Rammstein\"],[\"Stromae\"],[\"Faithless\"],[\"Avicii ft. Aloe Blacc\"],[\"Rammstein\"],[\"Alphaville\"],[\"Underworld\"],[\"Faithless\"],[\"Stromae\"],[\"DJ Paul Elstak\"],[\"Avicii\"],[\"Avicii\"],[\"Armin van Buuren ft. Kensington\"],[\"Armin van Buuren ft.Trevor Guthrie\"],[\"Orchestral Manoeuvres In The Dark\"],[\"Talk Talk\"],[\"Vangelis\"],[\"Rammstein\"],[\"Stromae\"],[\"David Guetta & Sia\"],[\"Peter Schilling\"],[\"The Prodigy\"],[\"The Prodigy\"],[\"Duran Duran\"],[\"Ti\\u00ebsto\"],[\"Enya\"],[\"Soft Cell\"],[\"Gigi D'agostino\"],[\"Talk Talk\"],[\"The Chainsmokers & Coldplay\"],[\"Daft Punk ft. Pharrell Williams\"],[\"Clannad & Bono\"],[\"Talk Talk\"],[\"Daft Punk\"],[\"Enya\"],[\"Duran Duran\"],[\"DJ Paul Elstak\"],[\"Alphaville\"],[\"Duran Duran\"],[\"Paul Kalkbrenner\"],[\"Stromae\"],[\"Air\"],[\"Darude\"],[\"Kraftwerk\"],[\"Robert Miles\"],[\"Rammstein\"],[\"The Prodigy\"],[\"Martin Garrix\"],[\"Faithless\"],[\"Talk Talk\"],[\"Avicii\"],[\"The Prodigy\"],[\"Pet Shop Boys\"],[\"The Human League\"],[\"Owl City\"],[\"Ti\\u00ebsto\"],[\"Daft Punk\"],[\"Armin van Buuren ft. Josh Cumbee\"],[\"Alan Walker\"],[\"Delerium ft. Sarah McLachlan\"],[\"Daft Punk\"],[\"Master KG ft. Nomcebo\"],[\"Orchestral Manoeuvres In The Dark\"],[\"Swedish House Mafia ft. John Martin\"],[\"Party Animals\"],[\"Pet Shop Boys\"],[\"Avicii ft. Chris Martin\"],[\"Diesel\"],[\"Fatboy Slim\"],[\"Snap!\"],[\"Kraftwerk\"],[\"Duran Duran\"],[\"The Chemical Brothers\"]],\"hovertemplate\":\"<b>%{hovertext}</b><br><br>Supergenre=Electronic<br>Year of release=%{x}<br>Position=%{y}<br>Artist=%{customdata[0]}<extra></extra>\",\"hovertext\":[\"Du Hast\",\"Deutschland\",\"Sonne\",\"Formidable\",\"Insomnia\",\"Wake Me Up\",\"Engel\",\"Forever Young\",\"Born Slippy\",\"God Is A DJ\",\"Papaoutai\",\"Rainbow In The Sky\",\"Hey Brother\",\"Levels\",\"Heading Up High\",\"This Is What It Feels Like\",\"Maid Of Orleans\",\"Such A Shame\",\"Conquest Of Paradise\",\"Mutter\",\"Alors On Danse\",\"Titanium\",\"Major Tom (V\\u00f6llig Losgel\\u00f6st)\",\"Firestarter\",\"Smack My Bitch Up\",\"Ordinary World\",\"Traffic\",\"Only Time\",\"Tainted Love\",\"L'amour Toujours\",\"It's My Life\",\"Something Just Like This\",\"Get Lucky\",\"In A Lifetime\",\"Life's What You Make It\",\"One More Time\",\"Orinoco Flow (Sail Away)\",\"The Reflex\",\"Luv U More\",\"Big In Japan\",\"Save A Prayer\",\"Sky And Sand\",\"Tous Les M\\u00eames\",\"All I Need\",\"Sandstorm\",\"Autobahn\",\"Children\",\"Amerika\",\"Breathe\",\"Animals\",\"We Come 1\",\"Living In Another World\",\"Addicted To You\",\"No Good (Start The Dance)\",\"It's A Sin\",\"Don't You Want Me\",\"Fireflies\",\"The Business\",\"Harder Better Faster Stronger\",\"Sunny Days\",\"Faded\",\"Silence (Tiesto Mix)\",\"Around The World\",\"Jerusalema\",\"Enola Gay\",\"Don't You Worry Child\",\"Have You Ever Been Mellow\",\"West End Girls\",\"Heaven\",\"Sausolito Summernight\",\"Praise You\",\"Rhythm Is A Dancer\",\"The Model\",\"Wild Boys\",\"Hey Boy Hey Girl\"],\"legendgroup\":\"Electronic\",\"marker\":{\"color\":\"#636efa\",\"symbol\":\"circle\"},\"mode\":\"markers\",\"name\":\"Electronic\",\"showlegend\":true,\"type\":\"scattergl\",\"x\":[1997,2019,2001,2013,1996,2013,1997,1984,1996,1998,2013,1995,2013,2011,2015,2013,1982,1984,1995,2001,2010,2011,1983,1996,1997,1993,2003,2000,1981,2001,1984,2017,2013,1986,1985,2000,1988,1984,1995,1984,1982,2008,2013,1998,2000,1975,1996,2004,1996,2013,2001,1986,2014,1994,1987,1982,2009,2020,2001,2017,2016,1997,1997,2020,1980,2012,1996,1986,2019,1980,1998,1992,1978,1984,1999],\"xaxis\":\"x\",\"y\":[140,147,186,203,255,256,292,310,318,368,410,412,420,433,461,510,516,578,586,673,690,757,760,804,831,874,905,944,970,988,991,1004,1011,1099,1108,1115,1159,1170,1178,1222,1226,1227,1229,1240,1261,1294,1325,1329,1364,1369,1391,1408,1431,1433,1435,1454,1464,1527,1536,1573,1613,1642,1663,1709,1719,1740,1755,1758,1803,1814,1879,1917,1950,1980,1991],\"yaxis\":\"y\"},{\"customdata\":[[\"Charles Aznavour\"],[\"The Mamas & The Papas\"],[\"Charles Aznavour\"],[\"Peter Maffay\"],[\"Michel Fugain\"],[\"Sin\\u00e9ad O'Connor\"],[\"Sin\\u00e9ad O'Connor\"],[\"Gerry & The Pacemakers\"],[\"Charles Aznavour\"],[\"Ennio Morricone\"],[\"Charly Lownoise & Mental Theo\"],[\"P!nk ft. Nate Ruess\"],[\"Chi Coltrane\"],[\"Amy MacDonald\"],[\"Carole King\"],[\"M\\u00e5neskin\"],[\"Yann Tiersen\"],[\"Michel Sardou\"],[\"BAP\"],[\"Gilbert B\\u00e9caud\"],[\"Macklemore & Ryan Lewis ft. Ray Dalton\"],[\"Barbra Streisand & Barry Gibb\"],[\"Claw Boys Claw\"],[\"Lee Towers\"],[\"Patrick Bruel\"],[\"The Communards & Sarah Jane Morris\"],[\"Spider Murphy Gang\"],[\"Bill Medley & Jennifer Warnes\"],[\"Karin Bloemen\"],[\"Peter Frampton\"],[\"The Weeknd ft. Daft Punk\"],[\"Jean Michel Jarre\"],[\"Youp van 't Hek\"],[\"Anouk & Douwe Bob\"],[\"C\\u00e9line Dion & Barbra Streisand\"],[\"Julien Clerc\"],[\"Reinhard Mey\"],[\"Emma Heesters & Rolf Sanchez\"],[\"\\ufeffElectric Light Orchestra\"],[\"Herman Brood & Henny Vrienten\"],[\"The Mamas & The Papas\"],[\"Miles Davis\"]],\"hovertemplate\":\"<b>%{hovertext}</b><br><br>Supergenre=Other<br>Year of release=%{x}<br>Position=%{y}<br>Artist=%{customdata[0]}<extra></extra>\",\"hovertext\":[\"She\",\"California Dreamin'\",\"La Boh\\u00e8me\",\"Du\",\"Une Belle Histoire\",\"Nothing Compares 2 U\",\"Troy\",\"You'll Never Walk Alone\",\"Yesterday When I Was Young\",\"Once Upon A Time In The West\",\"Wonderfull Days\",\"Just Give Me A Reason\",\"Go Like Elijah\",\"This Is The Life\",\"You've Got A Friend\",\"Zitti E Buoni\",\"Comptine D'un Autre Ete, L'Apres Midi (Amelie)\",\"Les Lacs Du Connemara\",\"Kristallnaach\",\"Nathalie\",\"Can't Hold Us\",\"Guilty\",\"Rosie\",\"You'll Never Walk Alone\",\"Casser La Voix (Live)\",\"Don't Leave Me This Way\",\"Skandal Im Sperrbezirk\",\"I've Had The Time Of My Life\",\"Geen Kind Meer\",\"Show Me The Way\",\"I Feel It Coming\",\"Oxygene IV\",\"Flappie\",\"Hold Me\",\"Tell Him\",\"Venise (Elle Voulait Qu'on L'Appelle)\",\"Gute Nacht Freunde\",\"Pa Olvidarte\",\"Can't Get It Out Of My Head\",\"Als Je Wint\",\"Monday Monday\",\"So What\"],\"legendgroup\":\"Other\",\"marker\":{\"color\":\"#EF553B\",\"symbol\":\"circle\"},\"mode\":\"markers\",\"name\":\"Other\",\"showlegend\":true,\"type\":\"scattergl\",\"x\":[1974,1966,1966,1971,1972,1990,1987,1963,1970,1976,1995,2012,1973,2008,1971,2021,2001,1982,1983,1964,2012,1980,1992,1976,1992,1986,1982,1987,1996,1976,2016,1977,1981,2014,1997,1976,1974,2019,1975,1984,1966,1959],\"xaxis\":\"x\",\"y\":[178,266,278,287,296,349,352,486,650,677,693,742,806,819,1000,1021,1039,1080,1098,1104,1117,1176,1267,1338,1389,1492,1510,1512,1521,1542,1572,1622,1636,1647,1665,1729,1745,1795,1856,1892,1932,1990],\"yaxis\":\"y\"},{\"customdata\":[[\"Freddie Mercury & Montserrat Caball\\u00e9\"],[\"Andrea Bocelli & Giorgia\"],[\"Andrea Bocelli & Sarah Brightman\"],[\"Andrea Bocelli\"]],\"hovertemplate\":\"<b>%{hovertext}</b><br><br>Supergenre=Classical<br>Year of release=%{x}<br>Position=%{y}<br>Artist=%{customdata[0]}<extra></extra>\",\"hovertext\":[\"Barcelona\",\"Vivo Per Lei\",\"Time To Say Goodbye\",\"Con Te Partiro\"],\"legendgroup\":\"Classical\",\"marker\":{\"color\":\"#00cc96\",\"symbol\":\"circle\"},\"mode\":\"markers\",\"name\":\"Classical\",\"showlegend\":true,\"type\":\"scattergl\",\"x\":[1987,1996,1997,1996],\"xaxis\":\"x\",\"y\":[192,441,530,854],\"yaxis\":\"y\"},{\"customdata\":[[\"Frank Sinatra\"],[\"Louis Armstrong\"],[\"Eva Cassidy\"],[\"Nina Simone\"],[\"Frank Sinatra\"],[\"Frank Sinatra\"],[\"Nina Simone\"],[\"Paolo Conte\"],[\"Sade\"],[\"Portishead\"],[\"Dave Brubeck Quartet\"],[\"Michael Bubl\\u00e9\"],[\"Bill Withers & Grover Washington, Jr.\"],[\"Katie Melua\"],[\"Level 42\"],[\"Frank Sinatra\"],[\"Ella Fitzgerald & Louis Armstrong\"],[\"Caro Emerald\"],[\"Norah Jones\"],[\"Nina Simone\"],[\"Sammy Davis Jr.\"],[\"Eva Cassidy\"],[\"Norah Jones\"],[\"Gregory Porter\"],[\"Frank Sinatra\"],[\"Michael Bubl\\u00e9\"],[\"Level 42\"],[\"Shirley Bassey\"]],\"hovertemplate\":\"<b>%{hovertext}</b><br><br>Supergenre=Jazz<br>Year of release=%{x}<br>Position=%{y}<br>Artist=%{customdata[0]}<extra></extra>\",\"hovertext\":[\"My Way\",\"What A Wonderful World\",\"Fields Of Gold\",\"Ain't Got No, I Got Life (Original)\",\"Fly Me To The Moon\",\"That's Life\",\"Feeling Good\",\"Max\",\"Smooth Operator\",\"Glory Box\",\"Take Five\",\"Feeling Good\",\"Just The Two Of Us\",\"Nine Million Bicycles\",\"Lessons In Love\",\"Theme From 'New York New York'\",\"Summertime\",\"A Night Like This\",\"Sunrise\",\"My Baby Just Cares For Me\",\"Mr. Bojangles\",\"Songbird\",\"Don't Know Why\",\"Liquid Spirit (Claptone Remix)\",\"It Was A Very Good Year\",\"Home\",\"Love Games\",\"This Is My Life\"],\"legendgroup\":\"Jazz\",\"marker\":{\"color\":\"#ab63fa\",\"symbol\":\"circle\"},\"mode\":\"markers\",\"name\":\"Jazz\",\"showlegend\":true,\"type\":\"scattergl\",\"x\":[1969,1968,1996,1968,1964,1966,1965,1988,1984,1994,1962,2005,1981,2005,1986,1980,1958,2009,2004,1987,1967,1997,2002,2015,1968,2005,1981,1979],\"xaxis\":\"x\",\"y\":[307,514,655,733,756,938,1064,1142,1175,1191,1194,1251,1268,1302,1399,1429,1477,1525,1547,1568,1648,1737,1746,1789,1844,1890,1957,1969],\"yaxis\":\"y\"},{\"customdata\":[[\"Buena Vista Social Club\"],[\"Santana\"],[\"Santana\"],[\"Santana\"],[\"Julio Iglesias\"],[\"Coldplay & Buena Vista Social Club\"],[\"Santana\"],[\"Santana & Rob Thomas\"]],\"hovertemplate\":\"<b>%{hovertext}</b><br><br>Supergenre=Latin<br>Year of release=%{x}<br>Position=%{y}<br>Artist=%{customdata[0]}<extra></extra>\",\"hovertext\":[\"Chan Chan\",\"Samba Pa Ti\",\"She's Not There\",\"Black Magic Woman\",\"Quiero\",\"Clocks (Rhythms Del Mundo)\",\"Europa (Earth's Cry Heaven's Smile)\",\"Smooth\"],\"legendgroup\":\"Latin\",\"marker\":{\"color\":\"#FFA15A\",\"symbol\":\"circle\"},\"mode\":\"markers\",\"name\":\"Latin\",\"showlegend\":true,\"type\":\"scattergl\",\"x\":[1997,1970,1978,1970,1976,2006,1976,2000],\"xaxis\":\"x\",\"y\":[484,508,685,695,1563,1577,1683,1871],\"yaxis\":\"y\"}],                        {\"legend\":{\"orientation\":\"h\",\"title\":{\"text\":\"Supergenre\"},\"tracegroupgap\":0,\"x\":1,\"xanchor\":\"right\",\"y\":1.3,\"yanchor\":\"bottom\"},\"margin\":{\"t\":60},\"template\":{\"data\":{\"bar\":[{\"error_x\":{\"color\":\"#2a3f5f\"},\"error_y\":{\"color\":\"#2a3f5f\"},\"marker\":{\"line\":{\"color\":\"#E5ECF6\",\"width\":0.5},\"pattern\":{\"fillmode\":\"overlay\",\"size\":10,\"solidity\":0.2}},\"type\":\"bar\"}],\"barpolar\":[{\"marker\":{\"line\":{\"color\":\"#E5ECF6\",\"width\":0.5},\"pattern\":{\"fillmode\":\"overlay\",\"size\":10,\"solidity\":0.2}},\"type\":\"barpolar\"}],\"carpet\":[{\"aaxis\":{\"endlinecolor\":\"#2a3f5f\",\"gridcolor\":\"white\",\"linecolor\":\"white\",\"minorgridcolor\":\"white\",\"startlinecolor\":\"#2a3f5f\"},\"baxis\":{\"endlinecolor\":\"#2a3f5f\",\"gridcolor\":\"white\",\"linecolor\":\"white\",\"minorgridcolor\":\"white\",\"startlinecolor\":\"#2a3f5f\"},\"type\":\"carpet\"}],\"choropleth\":[{\"colorbar\":{\"outlinewidth\":0,\"ticks\":\"\"},\"type\":\"choropleth\"}],\"contour\":[{\"colorbar\":{\"outlinewidth\":0,\"ticks\":\"\"},\"colorscale\":[[0.0,\"#0d0887\"],[0.1111111111111111,\"#46039f\"],[0.2222222222222222,\"#7201a8\"],[0.3333333333333333,\"#9c179e\"],[0.4444444444444444,\"#bd3786\"],[0.5555555555555556,\"#d8576b\"],[0.6666666666666666,\"#ed7953\"],[0.7777777777777778,\"#fb9f3a\"],[0.8888888888888888,\"#fdca26\"],[1.0,\"#f0f921\"]],\"type\":\"contour\"}],\"contourcarpet\":[{\"colorbar\":{\"outlinewidth\":0,\"ticks\":\"\"},\"type\":\"contourcarpet\"}],\"heatmap\":[{\"colorbar\":{\"outlinewidth\":0,\"ticks\":\"\"},\"colorscale\":[[0.0,\"#0d0887\"],[0.1111111111111111,\"#46039f\"],[0.2222222222222222,\"#7201a8\"],[0.3333333333333333,\"#9c179e\"],[0.4444444444444444,\"#bd3786\"],[0.5555555555555556,\"#d8576b\"],[0.6666666666666666,\"#ed7953\"],[0.7777777777777778,\"#fb9f3a\"],[0.8888888888888888,\"#fdca26\"],[1.0,\"#f0f921\"]],\"type\":\"heatmap\"}],\"heatmapgl\":[{\"colorbar\":{\"outlinewidth\":0,\"ticks\":\"\"},\"colorscale\":[[0.0,\"#0d0887\"],[0.1111111111111111,\"#46039f\"],[0.2222222222222222,\"#7201a8\"],[0.3333333333333333,\"#9c179e\"],[0.4444444444444444,\"#bd3786\"],[0.5555555555555556,\"#d8576b\"],[0.6666666666666666,\"#ed7953\"],[0.7777777777777778,\"#fb9f3a\"],[0.8888888888888888,\"#fdca26\"],[1.0,\"#f0f921\"]],\"type\":\"heatmapgl\"}],\"histogram\":[{\"marker\":{\"pattern\":{\"fillmode\":\"overlay\",\"size\":10,\"solidity\":0.2}},\"type\":\"histogram\"}],\"histogram2d\":[{\"colorbar\":{\"outlinewidth\":0,\"ticks\":\"\"},\"colorscale\":[[0.0,\"#0d0887\"],[0.1111111111111111,\"#46039f\"],[0.2222222222222222,\"#7201a8\"],[0.3333333333333333,\"#9c179e\"],[0.4444444444444444,\"#bd3786\"],[0.5555555555555556,\"#d8576b\"],[0.6666666666666666,\"#ed7953\"],[0.7777777777777778,\"#fb9f3a\"],[0.8888888888888888,\"#fdca26\"],[1.0,\"#f0f921\"]],\"type\":\"histogram2d\"}],\"histogram2dcontour\":[{\"colorbar\":{\"outlinewidth\":0,\"ticks\":\"\"},\"colorscale\":[[0.0,\"#0d0887\"],[0.1111111111111111,\"#46039f\"],[0.2222222222222222,\"#7201a8\"],[0.3333333333333333,\"#9c179e\"],[0.4444444444444444,\"#bd3786\"],[0.5555555555555556,\"#d8576b\"],[0.6666666666666666,\"#ed7953\"],[0.7777777777777778,\"#fb9f3a\"],[0.8888888888888888,\"#fdca26\"],[1.0,\"#f0f921\"]],\"type\":\"histogram2dcontour\"}],\"mesh3d\":[{\"colorbar\":{\"outlinewidth\":0,\"ticks\":\"\"},\"type\":\"mesh3d\"}],\"parcoords\":[{\"line\":{\"colorbar\":{\"outlinewidth\":0,\"ticks\":\"\"}},\"type\":\"parcoords\"}],\"pie\":[{\"automargin\":true,\"type\":\"pie\"}],\"scatter\":[{\"marker\":{\"colorbar\":{\"outlinewidth\":0,\"ticks\":\"\"}},\"type\":\"scatter\"}],\"scatter3d\":[{\"line\":{\"colorbar\":{\"outlinewidth\":0,\"ticks\":\"\"}},\"marker\":{\"colorbar\":{\"outlinewidth\":0,\"ticks\":\"\"}},\"type\":\"scatter3d\"}],\"scattercarpet\":[{\"marker\":{\"colorbar\":{\"outlinewidth\":0,\"ticks\":\"\"}},\"type\":\"scattercarpet\"}],\"scattergeo\":[{\"marker\":{\"colorbar\":{\"outlinewidth\":0,\"ticks\":\"\"}},\"type\":\"scattergeo\"}],\"scattergl\":[{\"marker\":{\"colorbar\":{\"outlinewidth\":0,\"ticks\":\"\"}},\"type\":\"scattergl\"}],\"scattermapbox\":[{\"marker\":{\"colorbar\":{\"outlinewidth\":0,\"ticks\":\"\"}},\"type\":\"scattermapbox\"}],\"scatterpolar\":[{\"marker\":{\"colorbar\":{\"outlinewidth\":0,\"ticks\":\"\"}},\"type\":\"scatterpolar\"}],\"scatterpolargl\":[{\"marker\":{\"colorbar\":{\"outlinewidth\":0,\"ticks\":\"\"}},\"type\":\"scatterpolargl\"}],\"scatterternary\":[{\"marker\":{\"colorbar\":{\"outlinewidth\":0,\"ticks\":\"\"}},\"type\":\"scatterternary\"}],\"surface\":[{\"colorbar\":{\"outlinewidth\":0,\"ticks\":\"\"},\"colorscale\":[[0.0,\"#0d0887\"],[0.1111111111111111,\"#46039f\"],[0.2222222222222222,\"#7201a8\"],[0.3333333333333333,\"#9c179e\"],[0.4444444444444444,\"#bd3786\"],[0.5555555555555556,\"#d8576b\"],[0.6666666666666666,\"#ed7953\"],[0.7777777777777778,\"#fb9f3a\"],[0.8888888888888888,\"#fdca26\"],[1.0,\"#f0f921\"]],\"type\":\"surface\"}],\"table\":[{\"cells\":{\"fill\":{\"color\":\"#EBF0F8\"},\"line\":{\"color\":\"white\"}},\"header\":{\"fill\":{\"color\":\"#C8D4E3\"},\"line\":{\"color\":\"white\"}},\"type\":\"table\"}]},\"layout\":{\"annotationdefaults\":{\"arrowcolor\":\"#2a3f5f\",\"arrowhead\":0,\"arrowwidth\":1},\"autotypenumbers\":\"strict\",\"coloraxis\":{\"colorbar\":{\"outlinewidth\":0,\"ticks\":\"\"}},\"colorscale\":{\"diverging\":[[0,\"#8e0152\"],[0.1,\"#c51b7d\"],[0.2,\"#de77ae\"],[0.3,\"#f1b6da\"],[0.4,\"#fde0ef\"],[0.5,\"#f7f7f7\"],[0.6,\"#e6f5d0\"],[0.7,\"#b8e186\"],[0.8,\"#7fbc41\"],[0.9,\"#4d9221\"],[1,\"#276419\"]],\"sequential\":[[0.0,\"#0d0887\"],[0.1111111111111111,\"#46039f\"],[0.2222222222222222,\"#7201a8\"],[0.3333333333333333,\"#9c179e\"],[0.4444444444444444,\"#bd3786\"],[0.5555555555555556,\"#d8576b\"],[0.6666666666666666,\"#ed7953\"],[0.7777777777777778,\"#fb9f3a\"],[0.8888888888888888,\"#fdca26\"],[1.0,\"#f0f921\"]],\"sequentialminus\":[[0.0,\"#0d0887\"],[0.1111111111111111,\"#46039f\"],[0.2222222222222222,\"#7201a8\"],[0.3333333333333333,\"#9c179e\"],[0.4444444444444444,\"#bd3786\"],[0.5555555555555556,\"#d8576b\"],[0.6666666666666666,\"#ed7953\"],[0.7777777777777778,\"#fb9f3a\"],[0.8888888888888888,\"#fdca26\"],[1.0,\"#f0f921\"]]},\"colorway\":[\"#636efa\",\"#EF553B\",\"#00cc96\",\"#ab63fa\",\"#FFA15A\",\"#19d3f3\",\"#FF6692\",\"#B6E880\",\"#FF97FF\",\"#FECB52\"],\"font\":{\"color\":\"#2a3f5f\"},\"geo\":{\"bgcolor\":\"white\",\"lakecolor\":\"white\",\"landcolor\":\"#E5ECF6\",\"showlakes\":true,\"showland\":true,\"subunitcolor\":\"white\"},\"hoverlabel\":{\"align\":\"left\"},\"hovermode\":\"closest\",\"mapbox\":{\"style\":\"light\"},\"paper_bgcolor\":\"white\",\"plot_bgcolor\":\"#E5ECF6\",\"polar\":{\"angularaxis\":{\"gridcolor\":\"white\",\"linecolor\":\"white\",\"ticks\":\"\"},\"bgcolor\":\"#E5ECF6\",\"radialaxis\":{\"gridcolor\":\"white\",\"linecolor\":\"white\",\"ticks\":\"\"}},\"scene\":{\"xaxis\":{\"backgroundcolor\":\"#E5ECF6\",\"gridcolor\":\"white\",\"gridwidth\":2,\"linecolor\":\"white\",\"showbackground\":true,\"ticks\":\"\",\"zerolinecolor\":\"white\"},\"yaxis\":{\"backgroundcolor\":\"#E5ECF6\",\"gridcolor\":\"white\",\"gridwidth\":2,\"linecolor\":\"white\",\"showbackground\":true,\"ticks\":\"\",\"zerolinecolor\":\"white\"},\"zaxis\":{\"backgroundcolor\":\"#E5ECF6\",\"gridcolor\":\"white\",\"gridwidth\":2,\"linecolor\":\"white\",\"showbackground\":true,\"ticks\":\"\",\"zerolinecolor\":\"white\"}},\"shapedefaults\":{\"line\":{\"color\":\"#2a3f5f\"}},\"ternary\":{\"aaxis\":{\"gridcolor\":\"white\",\"linecolor\":\"white\",\"ticks\":\"\"},\"baxis\":{\"gridcolor\":\"white\",\"linecolor\":\"white\",\"ticks\":\"\"},\"bgcolor\":\"#E5ECF6\",\"caxis\":{\"gridcolor\":\"white\",\"linecolor\":\"white\",\"ticks\":\"\"}},\"title\":{\"x\":0.05},\"xaxis\":{\"automargin\":true,\"gridcolor\":\"white\",\"linecolor\":\"white\",\"ticks\":\"\",\"title\":{\"standoff\":15},\"zerolinecolor\":\"white\",\"zerolinewidth\":2},\"yaxis\":{\"automargin\":true,\"gridcolor\":\"white\",\"linecolor\":\"white\",\"ticks\":\"\",\"title\":{\"standoff\":15},\"zerolinecolor\":\"white\",\"zerolinewidth\":2}}},\"title\":{\"text\":\"Songs by year of release and position\"},\"xaxis\":{\"anchor\":\"y\",\"domain\":[0.0,1.0],\"title\":{\"text\":\"Year of release\"}},\"yaxis\":{\"anchor\":\"x\",\"domain\":[0.0,1.0],\"title\":{\"text\":\"Position\"}}},                        {\"responsive\": true}                    ).then(function(){\n",
       "                            \n",
       "var gd = document.getElementById('3d2daff2-9a47-4592-a345-cf2093acd430');\n",
       "var x = new MutationObserver(function (mutations, observer) {{\n",
       "        var display = window.getComputedStyle(gd).display;\n",
       "        if (!display || display === 'none') {{\n",
       "            console.log([gd, 'removed!']);\n",
       "            Plotly.purge(gd);\n",
       "            observer.disconnect();\n",
       "        }}\n",
       "}});\n",
       "\n",
       "// Listen for the removal of the full notebook cells\n",
       "var notebookContainer = gd.closest('#notebook-container');\n",
       "if (notebookContainer) {{\n",
       "    x.observe(notebookContainer, {childList: true});\n",
       "}}\n",
       "\n",
       "// Listen for the clearing of the current output cell\n",
       "var outputEl = gd.closest('.output');\n",
       "if (outputEl) {{\n",
       "    x.observe(outputEl, {childList: true});\n",
       "}}\n",
       "\n",
       "                        })                };                });            </script>        </div>"
      ]
     },
     "metadata": {},
     "output_type": "display_data"
    }
   ],
   "source": [
    "data = pd.read_csv('data/data_supergenres.csv')\n",
    "data['supergenre'] = data['supergenre'].str.capitalize()\n",
    "data.loc[data['supergenre'] == \" \", 'supergenre'] = \"Other\"\n",
    "data.loc[data['supergenre'] == \"None\", 'supergenre'] = \"Other\"\n",
    "data = data.rename(columns={'positie': 'Position', 'jaar': 'Year of release', 'artiest':'Artist', 'titel':'Title', 'supergenre':'Supergenre'})\n",
    "\n",
    "fig = px.scatter(data, hover_name='Title', hover_data=['Artist'], color='Supergenre', x='Year of release', y='Position')\n",
    "\n",
    "fig.update_layout(\n",
    "    title = \"Songs by year of release and position\",\n",
    ")\n",
    "\n",
    "fig.update_layout(legend=dict(\n",
    "    orientation=\"h\",\n",
    "    yanchor=\"bottom\",\n",
    "    y=1.3,\n",
    "    xanchor=\"right\",\n",
    "    x=1\n",
    "))\n",
    "\n",
    "fig.show()\n",
    "\n",
    "#writing the figure to html, figure is visible at: https://almaliezenga.github.io/Top2000/html/songs_supergenres\n",
    "pio.write_html(fig, file='html/songs_supergenres.html', auto_open=True)"
   ]
  },
  {
   "cell_type": "code",
   "execution_count": 66,
   "id": "3e5f0406",
   "metadata": {},
   "outputs": [
    {
     "data": {
      "application/vnd.plotly.v1+json": {
       "config": {
        "plotlyServerURL": "https://plotly.com"
       },
       "data": [
        {
         "customdata": [
          [
           "Queen"
          ],
          [
           "Procol Harum"
          ],
          [
           "Eagles"
          ],
          [
           "Billy Joel"
          ],
          [
           "Golden Earring"
          ],
          [
           "Led Zeppelin"
          ],
          [
           "Metallica"
          ],
          [
           "Pearl Jam"
          ],
          [
           "Queen"
          ],
          [
           "Pink Floyd"
          ],
          [
           "Di-rect"
          ],
          [
           "Deep Purple"
          ],
          [
           "Bruce Springsteen"
          ],
          [
           "Guns N' Roses"
          ],
          [
           "Dire Straits"
          ],
          [
           "Disturbed"
          ],
          [
           "Pink Floyd"
          ],
          [
           "Toto"
          ],
          [
           "David Bowie"
          ],
          [
           "Dire Straits"
          ],
          [
           "Metallica"
          ],
          [
           "Pink Floyd"
          ],
          [
           "Nirvana"
          ],
          [
           "AC/DC"
          ],
          [
           "Pearl Jam"
          ],
          [
           "Guns N' Roses"
          ],
          [
           "John Lennon"
          ],
          [
           "Meat Loaf"
          ],
          [
           "Dire Straits"
          ],
          [
           "Phil Collins"
          ],
          [
           "The Cure"
          ],
          [
           "Queen"
          ],
          [
           "Fleetwood Mac"
          ],
          [
           "Linkin Park"
          ],
          [
           "Supertramp"
          ],
          [
           "Rage Against The Machine"
          ],
          [
           "The Rolling Stones"
          ],
          [
           "Metallica"
          ],
          [
           "Golden Earring"
          ],
          [
           "Queen"
          ],
          [
           "Pearl Jam"
          ],
          [
           "The Beatles"
          ],
          [
           "U2"
          ],
          [
           "The Beach Boys"
          ],
          [
           "The Rolling Stones"
          ],
          [
           "Kensington"
          ],
          [
           "Metallica"
          ],
          [
           "Radiohead"
          ],
          [
           "U2"
          ],
          [
           "Electric Light Orchestra"
          ],
          [
           "Queen & David Bowie"
          ],
          [
           "Supertramp"
          ],
          [
           "Pink Floyd"
          ],
          [
           "U2"
          ],
          [
           "Floor Jansen & Henk Poort"
          ],
          [
           "Fleetwood Mac"
          ],
          [
           "George Michael & Queen"
          ],
          [
           "Muse"
          ],
          [
           "The Alan Parsons Project"
          ],
          [
           "Queen"
          ],
          [
           "The Beatles"
          ],
          [
           "Red Hot Chili Peppers"
          ],
          [
           "Volbeat"
          ],
          [
           "The Doors"
          ],
          [
           "AC/DC"
          ],
          [
           "Queen"
          ],
          [
           "The Rolling Stones"
          ],
          [
           "Dire Straits"
          ],
          [
           "Kensington"
          ],
          [
           "Golden Earring"
          ],
          [
           "Nothing But Thieves"
          ],
          [
           "Snow Patrol"
          ],
          [
           "The Rolling Stones"
          ],
          [
           "The Beatles"
          ],
          [
           "R.E.M."
          ],
          [
           "Queen"
          ],
          [
           "The Beatles"
          ],
          [
           "AC/DC"
          ],
          [
           "Creedence Clearwater Revival"
          ],
          [
           "Journey"
          ],
          [
           "Billy Joel"
          ],
          [
           "Fleetwood Mac"
          ],
          [
           "Golden Earring"
          ],
          [
           "Elvis Presley"
          ],
          [
           "U2"
          ],
          [
           "David Bowie"
          ],
          [
           "The Beatles"
          ],
          [
           "The Verve"
          ],
          [
           "Animals"
          ],
          [
           "The Cranberries"
          ],
          [
           "Foo Fighters"
          ],
          [
           "Oasis"
          ],
          [
           "The Moody Blues"
          ],
          [
           "The Killers"
          ],
          [
           "Black Sabbath"
          ],
          [
           "Muse"
          ],
          [
           "Depeche Mode"
          ],
          [
           "Red Hot Chili Peppers"
          ],
          [
           "U2"
          ],
          [
           "Nirvana"
          ],
          [
           "Oasis"
          ],
          [
           "Sting"
          ],
          [
           "Guns N' Roses"
          ],
          [
           "Bryan Adams"
          ],
          [
           "Anouk"
          ],
          [
           "Bon Jovi"
          ],
          [
           "Dire Straits"
          ],
          [
           "Within Temptation"
          ],
          [
           "Bruce Springsteen"
          ],
          [
           "Sting"
          ],
          [
           "Herman Brood & His Wild Romance"
          ],
          [
           "Nick Cave & The Bad Seeds"
          ],
          [
           "Eagles"
          ],
          [
           "Queen"
          ],
          [
           "Paul Simon"
          ],
          [
           "Creedence Clearwater Revival"
          ],
          [
           "Earth, Wind & Fire"
          ],
          [
           "Lou Reed"
          ],
          [
           "Queen"
          ],
          [
           "Marillion"
          ],
          [
           "Deep Purple"
          ],
          [
           "Eagles"
          ],
          [
           "Led Zeppelin"
          ],
          [
           "Pearl Jam"
          ],
          [
           "Iron Maiden"
          ],
          [
           "Keane"
          ],
          [
           "Mary J. Blige & U2"
          ],
          [
           "Scorpions"
          ],
          [
           "Elvis Presley"
          ],
          [
           "Dire Straits"
          ],
          [
           "R.E.M."
          ],
          [
           "Bruce Springsteen"
          ],
          [
           "Live"
          ],
          [
           "Metallica"
          ],
          [
           "U2"
          ],
          [
           "Motörhead"
          ],
          [
           "Radiohead"
          ],
          [
           "Creedence Clearwater Revival"
          ],
          [
           "Golden Earrings"
          ],
          [
           "Kayak"
          ],
          [
           "Foo Fighters"
          ],
          [
           "System Of A Down"
          ],
          [
           "Sting"
          ],
          [
           "Guns N' Roses"
          ],
          [
           "Aerosmith"
          ],
          [
           "Bruce Springsteen"
          ],
          [
           "Harry Styles"
          ],
          [
           "The Scene"
          ],
          [
           "John Miles"
          ],
          [
           "The Jimi Hendrix Experience"
          ],
          [
           "David Bowie"
          ],
          [
           "U2"
          ],
          [
           "The Cult"
          ],
          [
           "Linkin Park"
          ],
          [
           "Queen"
          ],
          [
           "Normaal"
          ],
          [
           "The Beatles"
          ],
          [
           "Jackson Browne"
          ],
          [
           "Evanescence"
          ],
          [
           "Editors"
          ],
          [
           "U2"
          ],
          [
           "Nirvana"
          ],
          [
           "Arctic Monkeys"
          ],
          [
           "Creedence Clearwater Revival"
          ],
          [
           "Metallica"
          ],
          [
           "Volbeat"
          ],
          [
           "Queen"
          ],
          [
           "Metallica"
          ],
          [
           "Bruce Springsteen"
          ],
          [
           "Kansas"
          ],
          [
           "Kings Of Leon"
          ],
          [
           "Nightwish"
          ],
          [
           "The Proclaimers"
          ],
          [
           "Pink Floyd"
          ],
          [
           "Phil Collins"
          ],
          [
           "Jeff Buckley"
          ],
          [
           "Bon Jovi"
          ],
          [
           "KISS"
          ],
          [
           "Golden Earring"
          ],
          [
           "Iron Maiden"
          ],
          [
           "The Police"
          ],
          [
           "Green Day"
          ],
          [
           "Elbow"
          ],
          [
           "Fleetwood Mac"
          ],
          [
           "Muse"
          ],
          [
           "U2"
          ],
          [
           "Led Zeppelin"
          ],
          [
           "The Police"
          ],
          [
           "Queens Of The Stone Age"
          ],
          [
           "Slayer"
          ],
          [
           "Nirvana"
          ],
          [
           "Fleetwood Mac"
          ],
          [
           "Golden Earring"
          ],
          [
           "Guns N' Roses"
          ],
          [
           "Queensrÿche"
          ],
          [
           "Neil Young"
          ],
          [
           "White Stripes"
          ],
          [
           "Fleetwood Mac"
          ],
          [
           "Radiohead"
          ],
          [
           "Janis Joplin"
          ],
          [
           "Supertramp"
          ],
          [
           "Billy Joel"
          ],
          [
           "3 Doors Down"
          ],
          [
           "Genesis"
          ],
          [
           "The Rolling Stones"
          ],
          [
           "Neil Young"
          ],
          [
           "The Goo Goo Dolls"
          ],
          [
           "Joe Cocker"
          ],
          [
           "Jefferson Airplane"
          ],
          [
           "Normaal"
          ],
          [
           "The Scene"
          ],
          [
           "The Mark & Clark Band"
          ],
          [
           "Toto"
          ],
          [
           "Queen"
          ],
          [
           "The Rolling Stones"
          ],
          [
           "Soundgarden"
          ],
          [
           "AC/DC"
          ],
          [
           "Boston"
          ],
          [
           "Dire Straits"
          ],
          [
           "Within Temptation"
          ],
          [
           "Phil Collins"
          ],
          [
           "Elvis Presley"
          ],
          [
           "The Waterboys"
          ],
          [
           "The Beatles"
          ],
          [
           "The Doors"
          ],
          [
           "Toto"
          ],
          [
           "The Who"
          ],
          [
           "Lynyrd Skynyrd"
          ],
          [
           "Queen"
          ],
          [
           "Green Day"
          ],
          [
           "Alice Cooper"
          ],
          [
           "Pink Floyd"
          ],
          [
           "Bruce Springsteen"
          ],
          [
           "Snow Patrol"
          ],
          [
           "Elvis Presley"
          ],
          [
           "Van Morrison"
          ],
          [
           "Neil Young"
          ],
          [
           "Foreigner"
          ],
          [
           "Kensington"
          ],
          [
           "ZZ Top"
          ],
          [
           "Imagine Dragons"
          ],
          [
           "Ultravox"
          ],
          [
           "The Alan Parsons Project"
          ],
          [
           "Eagles"
          ],
          [
           "Eagles"
          ],
          [
           "Meat Loaf"
          ],
          [
           "New Order"
          ],
          [
           "Bruce Springsteen"
          ],
          [
           "Pink Floyd"
          ],
          [
           "Anouk"
          ],
          [
           "Scorpions"
          ],
          [
           "Bruce Springsteen"
          ],
          [
           "Van Halen"
          ],
          [
           "The Beatles"
          ],
          [
           "Maroon 5"
          ],
          [
           "Queen"
          ],
          [
           "Guns N' Roses"
          ],
          [
           "Radiohead"
          ],
          [
           "Editors"
          ],
          [
           "The Doors"
          ],
          [
           "America"
          ],
          [
           "Metallica"
          ],
          [
           "Guns N' Roses"
          ],
          [
           "Creedence Clearwater Revival"
          ],
          [
           "Normaal"
          ],
          [
           "Liquido"
          ],
          [
           "Foo Fighters"
          ],
          [
           "The Stranglers"
          ],
          [
           "Queen"
          ],
          [
           "Hero"
          ],
          [
           "The Boxer Rebellion"
          ],
          [
           "Red Hot Chili Peppers"
          ],
          [
           "The Police"
          ],
          [
           "Golden Earring"
          ],
          [
           "Tina Turner & David Bowie"
          ],
          [
           "White Lies"
          ],
          [
           "The Cranberries"
          ],
          [
           "London Grammar"
          ],
          [
           "Nightwish"
          ],
          [
           "Imagine Dragons"
          ],
          [
           "The Beatles"
          ],
          [
           "Status Quo"
          ],
          [
           "Lynyrd Skynyrd"
          ],
          [
           "Gotye ft. Kimbra"
          ],
          [
           "Joy Division"
          ],
          [
           "Chris Isaak"
          ],
          [
           "David Bowie"
          ],
          [
           "Muse"
          ],
          [
           "Nirvana"
          ],
          [
           "Elvis Presley"
          ],
          [
           "Nothing But Thieves"
          ],
          [
           "Muse"
          ],
          [
           "Pearl Jam"
          ],
          [
           "AC/DC"
          ],
          [
           "Muse"
          ],
          [
           "Queen"
          ],
          [
           "Earth, Wind & Fire"
          ],
          [
           "Kensington"
          ],
          [
           "Imagine Dragons"
          ],
          [
           "The Rolling Stones"
          ],
          [
           "Linkin Park"
          ],
          [
           "Fleetwood Mac"
          ],
          [
           "Melissa Etheridge"
          ],
          [
           "The Jimi Hendrix Experience"
          ],
          [
           "Bon Jovi"
          ],
          [
           "Anouk"
          ],
          [
           "David Bowie"
          ],
          [
           "U2"
          ],
          [
           "Pink Floyd"
          ],
          [
           "Talking Heads"
          ],
          [
           "Fleetwood Mac"
          ],
          [
           "Green Day"
          ],
          [
           "Fleetwood Mac"
          ],
          [
           "Tame Impala"
          ],
          [
           "The Kinks"
          ],
          [
           "Evanescence"
          ],
          [
           "The War On Drugs"
          ],
          [
           "Bon Jovi"
          ],
          [
           "Van Halen"
          ],
          [
           "The Beatles"
          ],
          [
           "Europe"
          ],
          [
           "De Staat"
          ],
          [
           "Pink Floyd"
          ],
          [
           "The Doors"
          ],
          [
           "Iron Maiden"
          ],
          [
           "Led Zeppelin"
          ],
          [
           "Talking Heads"
          ],
          [
           "Fleetwood Mac"
          ],
          [
           "Nothing But Thieves"
          ],
          [
           "The Beach Boys"
          ],
          [
           "Gorillaz"
          ],
          [
           "Toto"
          ],
          [
           "The Cure"
          ],
          [
           "U2"
          ],
          [
           "Joe Jackson"
          ],
          [
           "Meat Loaf"
          ],
          [
           "Aerosmith"
          ],
          [
           "INXS"
          ],
          [
           "Red Hot Chili Peppers"
          ],
          [
           "Neil Young"
          ],
          [
           "Van Morrison"
          ],
          [
           "Fleetwood Mac"
          ],
          [
           "Supertramp"
          ],
          [
           "Oasis"
          ],
          [
           "Heart"
          ],
          [
           "Live"
          ],
          [
           "Phil Collins"
          ],
          [
           "Fleetwood Mac"
          ],
          [
           "Billy Joel"
          ],
          [
           "Simply Red"
          ],
          [
           "Anouk"
          ],
          [
           "The Beatles"
          ],
          [
           "Don Henley"
          ],
          [
           "R.E.M."
          ],
          [
           "Tenacious D"
          ],
          [
           "Men At Work"
          ],
          [
           "The Beatles"
          ],
          [
           "Muse"
          ],
          [
           "Red Hot Chili Peppers"
          ],
          [
           "The Black Keys"
          ],
          [
           "Alice Cooper"
          ],
          [
           "10cc"
          ],
          [
           "The War On Drugs"
          ],
          [
           "Kensington"
          ],
          [
           "Iron Maiden"
          ],
          [
           "Bruce Springsteen"
          ],
          [
           "Blue Öyster Cult"
          ],
          [
           "Status Quo"
          ],
          [
           "Bruce Springsteen"
          ],
          [
           "Alanis Morissette"
          ],
          [
           "Pink Floyd"
          ],
          [
           "Arctic Monkeys"
          ],
          [
           "Sia"
          ],
          [
           "Crosby, Stills, Nash & Young"
          ],
          [
           "Sting"
          ],
          [
           "The Beatles"
          ],
          [
           "Kensington"
          ],
          [
           "Golden Earring"
          ],
          [
           "Herman Brood & His Wild Romance"
          ],
          [
           "The Beatles"
          ],
          [
           "Bryan Adams"
          ],
          [
           "10cc"
          ],
          [
           "Ram Jam"
          ],
          [
           "K's Choice"
          ],
          [
           "Alice In Chains"
          ],
          [
           "Joe Cocker"
          ],
          [
           "Golden Earring"
          ],
          [
           "AC/DC"
          ],
          [
           "Linkin Park"
          ],
          [
           "Mark Knopfler"
          ],
          [
           "Shocking Blue"
          ],
          [
           "Paul Simon"
          ],
          [
           "Elvis Presley"
          ],
          [
           "Bronski Beat"
          ],
          [
           "Tame Impala"
          ],
          [
           "Bastille"
          ],
          [
           "The Band"
          ],
          [
           "Queen"
          ],
          [
           "Genesis"
          ],
          [
           "Golden Earring"
          ],
          [
           "Focus"
          ],
          [
           "Eagles"
          ],
          [
           "The Cure"
          ],
          [
           "Dire Straits"
          ],
          [
           "Queen"
          ],
          [
           "Radiohead"
          ],
          [
           "Pink Floyd"
          ],
          [
           "Bruce Springsteen"
          ],
          [
           "The Rolling Stones"
          ],
          [
           "Skunk Anansie"
          ],
          [
           "Keane"
          ],
          [
           "Fish"
          ],
          [
           "Genesis"
          ],
          [
           "Triggerfinger"
          ],
          [
           "Crowded House"
          ],
          [
           "Iggy Pop"
          ],
          [
           "Supertramp"
          ],
          [
           "Eagles"
          ],
          [
           "Joe Jackson"
          ],
          [
           "Foo Fighters"
          ],
          [
           "Green Day"
          ],
          [
           "Red Hot Chili Peppers"
          ],
          [
           "Paul Simon"
          ],
          [
           "Rod Stewart"
          ],
          [
           "Imagine Dragons"
          ],
          [
           "Earth, Wind & Fire"
          ],
          [
           "Queen"
          ],
          [
           "Live"
          ],
          [
           "Fleetwood Mac"
          ],
          [
           "Whitesnake"
          ],
          [
           "Bruce Springsteen"
          ],
          [
           "Metallica"
          ],
          [
           "Supertramp"
          ],
          [
           "The Killers"
          ],
          [
           "David Bowie"
          ],
          [
           "The Police"
          ],
          [
           "Uriah Heep"
          ],
          [
           "Gorillaz"
          ],
          [
           "Nickelback"
          ],
          [
           "Genesis"
          ],
          [
           "Iggy Pop"
          ],
          [
           "Arctic Monkeys"
          ],
          [
           "Marillion"
          ],
          [
           "Fischer-Z"
          ],
          [
           "Survivor"
          ],
          [
           "The Script"
          ],
          [
           "Nazareth"
          ],
          [
           "Bruce Springsteen"
          ],
          [
           "Talking Heads"
          ],
          [
           "The Rolling Stones"
          ],
          [
           "Harry Styles"
          ],
          [
           "David Bowie"
          ],
          [
           "Bryan Adams"
          ],
          [
           "Offspring"
          ],
          [
           "Crosby, Stills, Nash & Young"
          ],
          [
           "4 Non Blondes"
          ],
          [
           "Muse"
          ],
          [
           "Kane"
          ],
          [
           "Blur"
          ],
          [
           "Franz Ferdinand"
          ],
          [
           "Cockney Rebel"
          ],
          [
           "David Bowie"
          ],
          [
           "Joe Jackson"
          ],
          [
           "The Smiths"
          ],
          [
           "Green Day"
          ],
          [
           "Bon Jovi"
          ],
          [
           "Harry Styles"
          ],
          [
           "Within Temptation"
          ],
          [
           "Red Hot Chili Peppers"
          ],
          [
           "The Cure"
          ],
          [
           "ZZ Top"
          ],
          [
           "Creedence Clearwater Revival"
          ],
          [
           "Imagine Dragons"
          ],
          [
           "Status Quo"
          ],
          [
           "Mark Knopfler & James Taylor"
          ],
          [
           "Bruce Springsteen"
          ],
          [
           "The Rolling Stones"
          ],
          [
           "Yes"
          ],
          [
           "ZZ Top"
          ],
          [
           "The Beatles"
          ],
          [
           "Nick Cave & Kylie Minogue"
          ],
          [
           "Mike Oldfield & Maggie Reilly"
          ],
          [
           "Bökkers"
          ],
          [
           "The Jimi Hendrix Experience"
          ],
          [
           "Dire Straits"
          ],
          [
           "Arcade Fire"
          ],
          [
           "Depeche Mode"
          ],
          [
           "Red Hot Chili Peppers"
          ],
          [
           "David Bowie & Mick Jagger"
          ],
          [
           "The Police"
          ],
          [
           "U2"
          ],
          [
           "Crowded House"
          ],
          [
           "Dexy's Midnight Runners"
          ],
          [
           "Creedence Clearwater Revival"
          ],
          [
           "Depeche Mode"
          ],
          [
           "Nirvana"
          ],
          [
           "Imagine Dragons"
          ],
          [
           "Red Hot Chili Peppers"
          ],
          [
           "David Bowie"
          ],
          [
           "Paul McCartney & Wings"
          ],
          [
           "Paul Weller"
          ],
          [
           "The Alan Parsons Project"
          ],
          [
           "Guns N' Roses"
          ],
          [
           "Elvis Presley"
          ],
          [
           "Lou Reed"
          ],
          [
           "Guns N' Roses"
          ],
          [
           "The War On Drugs"
          ],
          [
           "Queen"
          ],
          [
           "The Gathering"
          ],
          [
           "Manic Street Preachers"
          ],
          [
           "Normaal"
          ],
          [
           "Mike Oldfield"
          ],
          [
           "Iggy Pop & Kate Pierson"
          ],
          [
           "R.E.M."
          ],
          [
           "Ozzy Osbourne"
          ],
          [
           "Venice"
          ],
          [
           "Elbow"
          ],
          [
           "Valensia"
          ],
          [
           "Elvis Presley"
          ],
          [
           "The Jimi Hendrix Experience"
          ],
          [
           "The Smashing Pumpkins"
          ],
          [
           "The Jimi Hendrix Experience"
          ],
          [
           "The Rolling Stones"
          ],
          [
           "Beth Hart & Joe Bonamassa"
          ],
          [
           "The Doors"
          ],
          [
           "Stone Temple Pilots"
          ],
          [
           "Genesis"
          ],
          [
           "Blondie"
          ],
          [
           "Twenty One Pilots"
          ],
          [
           "The Rolling Stones"
          ],
          [
           "Korn"
          ],
          [
           "David Bowie"
          ],
          [
           "The Beatles"
          ],
          [
           "Pearl Jam"
          ],
          [
           "Train"
          ],
          [
           "Creedence Clearwater Revival"
          ],
          [
           "Joe Cocker"
          ],
          [
           "The Beatles"
          ],
          [
           "The Cure"
          ],
          [
           "Manic Street Preachers"
          ],
          [
           "Supertramp"
          ],
          [
           "Supertramp"
          ],
          [
           "The Doobie Brothers"
          ],
          [
           "Crosby, Stills, Nash & Young"
          ],
          [
           "Queen"
          ],
          [
           "Dire Straits"
          ],
          [
           "Bruce Springsteen"
          ],
          [
           "Red Hot Chili Peppers"
          ],
          [
           "David Bowie"
          ],
          [
           "Killing Joke"
          ],
          [
           "Janis Joplin"
          ],
          [
           "Zucchero"
          ],
          [
           "Dire Straits"
          ],
          [
           "Phil Collins"
          ],
          [
           "Anouk"
          ],
          [
           "Live"
          ],
          [
           "George Baker Selection"
          ],
          [
           "Alice Cooper"
          ],
          [
           "Tori Amos"
          ],
          [
           "U2"
          ],
          [
           "Golden Earrings"
          ],
          [
           "Within Temptation"
          ],
          [
           "Paul Simon"
          ],
          [
           "Sting"
          ],
          [
           "Midnight Oil"
          ],
          [
           "Bruce Springsteen"
          ],
          [
           "The Rolling Stones"
          ],
          [
           "Pink Floyd"
          ],
          [
           "Chuck Berry"
          ],
          [
           "Chicago"
          ],
          [
           "Di-rect"
          ],
          [
           "The Beatles"
          ],
          [
           "Queens Of The Stone Age"
          ],
          [
           "The Moody Blues"
          ],
          [
           "Sniff 'n The Tears"
          ],
          [
           "Radiohead"
          ],
          [
           "Bon Jovi"
          ],
          [
           "David Bowie"
          ],
          [
           "Nirvana"
          ],
          [
           "Simply Red"
          ],
          [
           "Roxy Music"
          ],
          [
           "Counting Crows"
          ],
          [
           "Temple Of The Dog"
          ],
          [
           "Queen"
          ],
          [
           "Scorpions"
          ],
          [
           "Status Quo"
          ],
          [
           "Supertramp"
          ],
          [
           "Emerson, Lake & Palmer"
          ],
          [
           "Lenny Kravitz"
          ],
          [
           "The War On Drugs"
          ],
          [
           "REO Speedwagon"
          ],
          [
           "Golden Earring"
          ],
          [
           "Limp Bizkit"
          ],
          [
           "Kansas"
          ],
          [
           "Anouk"
          ],
          [
           "Golden Earrings"
          ],
          [
           "Little River Band"
          ],
          [
           "Kings Of Leon"
          ],
          [
           "Thin Lizzy"
          ],
          [
           "Muse"
          ],
          [
           "The Black Keys"
          ],
          [
           "Rush"
          ],
          [
           "Tom Petty"
          ],
          [
           "Jethro Tull"
          ],
          [
           "Steppenwolf"
          ],
          [
           "Queen"
          ],
          [
           "Neil Young"
          ],
          [
           "Eagles"
          ],
          [
           "Earth & Fire"
          ],
          [
           "Talking Heads"
          ],
          [
           "U2"
          ],
          [
           "Elvis Presley"
          ],
          [
           "The Who"
          ],
          [
           "Split Enz"
          ],
          [
           "Creedence Clearwater Revival"
          ],
          [
           "Kodaline"
          ],
          [
           "Phil Collins"
          ],
          [
           "Green Day"
          ],
          [
           "Muse"
          ],
          [
           "Alanis Morissette"
          ],
          [
           "Muse"
          ],
          [
           "Kensington"
          ],
          [
           "Kaleo"
          ],
          [
           "The Beatles"
          ],
          [
           "The Beatles"
          ],
          [
           "R.E.M."
          ],
          [
           "Arctic Monkeys"
          ],
          [
           "Faith No More"
          ],
          [
           "Queen"
          ],
          [
           "Skunk Anansie"
          ],
          [
           "Arctic Monkeys"
          ],
          [
           "Harry Styles"
          ],
          [
           "Meat Loaf"
          ],
          [
           "Editors"
          ],
          [
           "Blondie"
          ],
          [
           "The Smashing Pumpkins"
          ],
          [
           "Normaal"
          ],
          [
           "Paul Simon"
          ],
          [
           "U2 & BB King"
          ],
          [
           "The Cranberries"
          ],
          [
           "Foo Fighters"
          ],
          [
           "David Bowie"
          ],
          [
           "The Doors"
          ],
          [
           "Kensington"
          ],
          [
           "The Clash"
          ],
          [
           "David Bowie & Pat Metheny Group"
          ],
          [
           "Toto"
          ],
          [
           "Led Zeppelin"
          ],
          [
           "Fleetwood Mac"
          ],
          [
           "Toto"
          ],
          [
           "Pat Benatar"
          ],
          [
           "Iron Butterfly"
          ],
          [
           "Heart"
          ],
          [
           "Janis Joplin"
          ],
          [
           "The Rolling Stones"
          ],
          [
           "3 Doors Down"
          ],
          [
           "Phil Collins"
          ],
          [
           "The Rolling Stones"
          ],
          [
           "The Jimi Hendrix Experience"
          ],
          [
           "Queen"
          ],
          [
           "Radiohead"
          ],
          [
           "Electric Light Orchestra"
          ],
          [
           "Creedence Clearwater Revival"
          ],
          [
           "The Rolling Stones"
          ],
          [
           "Snowy White"
          ],
          [
           "Keane"
          ],
          [
           "Anouk"
          ],
          [
           "David Bowie"
          ],
          [
           "Muse"
          ],
          [
           "Billy Joel"
          ],
          [
           "Queen"
          ],
          [
           "David Bowie"
          ],
          [
           "The Killers"
          ],
          [
           "Golden Earring"
          ],
          [
           "Bryan Adams"
          ],
          [
           "Metallica"
          ],
          [
           "Golden Earring"
          ],
          [
           "Alanis Morissette"
          ],
          [
           "Paul McCartney & Wings"
          ],
          [
           "Keane"
          ],
          [
           "The Beatles"
          ],
          [
           "R.E.M."
          ],
          [
           "Meau"
          ],
          [
           "Snow Patrol"
          ],
          [
           "Alannah Myles"
          ],
          [
           "Nirvana"
          ],
          [
           "Meat Loaf"
          ],
          [
           "The Smiths"
          ],
          [
           "Robert Plant"
          ],
          [
           "The Police"
          ],
          [
           "Placebo"
          ],
          [
           "George Harrison"
          ],
          [
           "Rod Stewart"
          ],
          [
           "Brian May"
          ],
          [
           "R.E.M."
          ],
          [
           "Lenny Kravitz"
          ],
          [
           "Joe Cocker"
          ],
          [
           "Lucifer"
          ],
          [
           "Blink-182"
          ],
          [
           "The Fray"
          ],
          [
           "Creedence Clearwater Revival"
          ],
          [
           "Foo Fighters"
          ],
          [
           "White Lies"
          ],
          [
           "Fleetwood Mac"
          ],
          [
           "Billy Joel"
          ],
          [
           "Dire Straits"
          ],
          [
           "Mike & The Mechanics"
          ],
          [
           "Green Day"
          ],
          [
           "Thin Lizzy"
          ],
          [
           "Billy Joel"
          ],
          [
           "David Bowie"
          ],
          [
           "Snow Patrol"
          ],
          [
           "R.E.M."
          ],
          [
           "Crowded House"
          ],
          [
           "Jeff Wayne & Justin Hayward"
          ],
          [
           "The Hollies"
          ],
          [
           "Queen"
          ],
          [
           "Billy Joel"
          ],
          [
           "Queen"
          ],
          [
           "Queen"
          ],
          [
           "Bush"
          ],
          [
           "Fats Domino"
          ],
          [
           "Pearl Jam"
          ],
          [
           "Mud"
          ],
          [
           "Red Hot Chili Peppers"
          ],
          [
           "Armand"
          ],
          [
           "Earth & Fire"
          ],
          [
           "Joe Cocker"
          ],
          [
           "Kensington"
          ],
          [
           "Van Morrison"
          ],
          [
           "Lynyrd Skynyrd"
          ],
          [
           "The Doobie Brothers"
          ],
          [
           "Di-rect"
          ],
          [
           "Electric Light Orchestra"
          ],
          [
           "Extreme"
          ],
          [
           "Bruce Hornsby & The Range"
          ],
          [
           "R.E.M."
          ],
          [
           "Bökkers"
          ],
          [
           "Alice Cooper"
          ],
          [
           "The Babys"
          ],
          [
           "Status Quo"
          ],
          [
           "Queen"
          ],
          [
           "Led Zeppelin"
          ],
          [
           "The Script ft. Will.I.Am"
          ],
          [
           "Tom Petty & The Heartbreakers"
          ],
          [
           "Golden Earring"
          ],
          [
           "The The"
          ],
          [
           "The Hollies"
          ],
          [
           "Bon Jovi"
          ],
          [
           "The Beatles"
          ],
          [
           "U2 & Green Day"
          ],
          [
           "Steve Harley & Cockney Rebel"
          ],
          [
           "Imagine Dragons"
          ],
          [
           "Earth & Fire"
          ],
          [
           "Anouk"
          ],
          [
           "Mark Knopfler"
          ],
          [
           "Anouk"
          ],
          [
           "The Alan Parsons Project"
          ],
          [
           "The Doors"
          ],
          [
           "Metallica"
          ],
          [
           "The Beatles"
          ],
          [
           "Herman Brood & His Wild Romance"
          ],
          [
           "Heart"
          ],
          [
           "Foo Fighters"
          ],
          [
           "Golden Earring"
          ],
          [
           "Foreigner"
          ],
          [
           "Keane"
          ],
          [
           "Gorki"
          ],
          [
           "Guns N' Roses"
          ],
          [
           "Live"
          ],
          [
           "Imagine Dragons"
          ],
          [
           "The Rolling Stones"
          ],
          [
           "Scott McKenzie"
          ],
          [
           "The Beatles"
          ],
          [
           "Bruce Springsteen"
          ],
          [
           "The Beach Boys"
          ],
          [
           "Foster The People"
          ],
          [
           "Fleetwood Mac"
          ],
          [
           "The Shadows"
          ],
          [
           "The Script"
          ],
          [
           "Queen"
          ],
          [
           "Creed"
          ],
          [
           "KISS"
          ],
          [
           "Monkees"
          ],
          [
           "Elvis Presley"
          ],
          [
           "The Beatles"
          ],
          [
           "Therapy?"
          ],
          [
           "Elvis Presley"
          ],
          [
           "The Moody Blues"
          ],
          [
           "Paul McCartney & Frog Chorus"
          ],
          [
           "The Rolling Stones"
          ],
          [
           "Creedence Clearwater Revival"
          ],
          [
           "Tom Petty & The Heartbreakers"
          ],
          [
           "Opus"
          ],
          [
           "Kensington"
          ],
          [
           "Patti Smith Group"
          ],
          [
           "Chic"
          ],
          [
           "Simply Red"
          ],
          [
           "The Pointer Sisters"
          ],
          [
           "Chicago"
          ],
          [
           "Sting"
          ],
          [
           "U2"
          ],
          [
           "Yes"
          ],
          [
           "Brainbox"
          ],
          [
           "The Buoys"
          ],
          [
           "Deep Purple"
          ],
          [
           "Phil Collins"
          ],
          [
           "Alice In Chains"
          ],
          [
           "The Smashing Pumpkins"
          ],
          [
           "Editors"
          ],
          [
           "MGMT"
          ],
          [
           "Nina Hagen"
          ],
          [
           "Elvis Presley"
          ],
          [
           "Paul Simon"
          ],
          [
           "Bruce Springsteen"
          ],
          [
           "Traveling Wilburys"
          ],
          [
           "Herman Brood & His Wild Romance"
          ],
          [
           "Van Halen"
          ],
          [
           "The Beatles"
          ],
          [
           "Jeff Wayne & Justin Hayward"
          ],
          [
           "Anouk"
          ],
          [
           "Elvis Presley"
          ],
          [
           "The Police"
          ],
          [
           "Ramones"
          ],
          [
           "LP"
          ],
          [
           "Ten Years After"
          ],
          [
           "Oasis"
          ],
          [
           "Joe Cocker & Jennifer Warnes"
          ],
          [
           "Sex Pistols"
          ],
          [
           "David Bowie"
          ],
          [
           "Queen"
          ],
          [
           "Roger Glover & Guests"
          ],
          [
           "The Doors"
          ],
          [
           "Guns N' Roses"
          ],
          [
           "Cheap Trick"
          ],
          [
           "Smash Mouth"
          ],
          [
           "Van Halen"
          ],
          [
           "Muse"
          ],
          [
           "Nirvana"
          ],
          [
           "Supertramp"
          ],
          [
           "America"
          ],
          [
           "Jefferson Airplane"
          ],
          [
           "Manu Chao"
          ],
          [
           "Phil Collins"
          ],
          [
           "Bruce Springsteen"
          ],
          [
           "Mink Deville"
          ],
          [
           "Pixies"
          ],
          [
           "Rod Stewart"
          ],
          [
           "Stereophonics"
          ],
          [
           "Paul McCartney & Wings"
          ],
          [
           "Queen"
          ],
          [
           "Q65"
          ],
          [
           "The Who"
          ],
          [
           "Queens Of The Stone Age"
          ],
          [
           "Neil Young"
          ],
          [
           "Gary Moore & Phil Lynott"
          ],
          [
           "Japan"
          ],
          [
           "Elbow"
          ],
          [
           "Twenty One Pilots"
          ],
          [
           "Sandy Coast"
          ],
          [
           "Led Zeppelin"
          ],
          [
           "B-52's"
          ],
          [
           "OneRepublic"
          ],
          [
           "Elvis Presley"
          ],
          [
           "The Black Keys"
          ],
          [
           "Toto"
          ],
          [
           "U2"
          ],
          [
           "Ph.D."
          ],
          [
           "Van Morrison"
          ],
          [
           "Elvis Presley"
          ],
          [
           "Pulp"
          ],
          [
           "Genesis"
          ],
          [
           "Steve Miller Band"
          ],
          [
           "Billy Joel"
          ],
          [
           "The Rolling Stones"
          ],
          [
           "The Who"
          ],
          [
           "The Kinks"
          ],
          [
           "Creedence Clearwater Revival"
          ],
          [
           "Sweet"
          ],
          [
           "The Beatles"
          ],
          [
           "Kings Of Leon"
          ],
          [
           "U2"
          ],
          [
           "Whitesnake"
          ],
          [
           "Boston"
          ],
          [
           "The Rolling Stones"
          ],
          [
           "The Beatles"
          ],
          [
           "Led Zeppelin"
          ],
          [
           "Offspring"
          ],
          [
           "The Temper Trap"
          ],
          [
           "The Who"
          ],
          [
           "Di-rect"
          ],
          [
           "Dire Straits"
          ],
          [
           "U2"
          ],
          [
           "KISS"
          ],
          [
           "The Beatles"
          ],
          [
           "Gossip"
          ],
          [
           "Sting & Cheb Mami"
          ],
          [
           "Bruce Springsteen"
          ],
          [
           "Simply Red"
          ],
          [
           "Walk The Moon"
          ],
          [
           "Guano Apes"
          ],
          [
           "Genesis"
          ],
          [
           "INXS"
          ],
          [
           "Of Monsters And Men"
          ],
          [
           "Ugly Kid Joe"
          ],
          [
           "Ultravox"
          ],
          [
           "Yes"
          ],
          [
           "Kane"
          ],
          [
           "Crowded House"
          ],
          [
           "Wolfmother"
          ],
          [
           "The Rolling Stones"
          ],
          [
           "Editors"
          ],
          [
           "The Cure"
          ],
          [
           "The Script"
          ],
          [
           "Crash Test Dummies"
          ],
          [
           "Outfield"
          ],
          [
           "Don Henley"
          ],
          [
           "Procol Harum"
          ],
          [
           "Fleetwood Mac"
          ],
          [
           "Genesis"
          ],
          [
           "Pearl Jam"
          ],
          [
           "Counting Crows"
          ],
          [
           "Manfred Mann's Earth Band"
          ],
          [
           "Steely Dan"
          ],
          [
           "The Smiths"
          ],
          [
           "The Verve"
          ],
          [
           "Green Day"
          ],
          [
           "U2"
          ],
          [
           "The Beatles"
          ],
          [
           "Earth, Wind & Fire"
          ],
          [
           "The Police"
          ],
          [
           "Stereophonics"
          ],
          [
           "The Babys"
          ],
          [
           "The Doors"
          ],
          [
           "Muse"
          ],
          [
           "Ellen Foley"
          ],
          [
           "Fischer-Z"
          ],
          [
           "Deep Purple"
          ],
          [
           "Foo Fighters"
          ],
          [
           "10cc"
          ],
          [
           "The Who"
          ],
          [
           "Brainbox"
          ],
          [
           "Simply Red"
          ],
          [
           "Jeroen van Koningsbrugge"
          ],
          [
           "Dire Straits"
          ],
          [
           "The Smashing Pumpkins"
          ],
          [
           "Joe Jackson"
          ],
          [
           "Rare Earth"
          ],
          [
           "Fleetwood Mac"
          ],
          [
           "Meat Loaf"
          ],
          [
           "Vitesse"
          ],
          [
           "Bruce Springsteen"
          ],
          [
           "Roxy Music"
          ],
          [
           "Kane"
          ],
          [
           "Saybia"
          ],
          [
           "Plain White T's"
          ],
          [
           "Billy Joel"
          ],
          [
           "Steve Miller Band"
          ],
          [
           "Emerson, Lake & Palmer"
          ],
          [
           "The Beach Boys"
          ],
          [
           "Kings Of Leon"
          ],
          [
           "Lou Reed"
          ],
          [
           "INXS"
          ],
          [
           "Dr. Hook & The Medicine Show"
          ],
          [
           "Muse"
          ],
          [
           "David Bowie"
          ],
          [
           "Nirvana"
          ],
          [
           "Culture Club"
          ],
          [
           "The Clash"
          ],
          [
           "Bruce Springsteen"
          ],
          [
           "Stevie Nicks"
          ],
          [
           "Roxy Music"
          ],
          [
           "Bruce Springsteen"
          ],
          [
           "Foreigner"
          ],
          [
           "The Rolling Stones"
          ],
          [
           "Slade"
          ],
          [
           "Cher"
          ],
          [
           "Panic! At The Disco"
          ],
          [
           "Living Colour"
          ],
          [
           "Anouk"
          ],
          [
           "U2"
          ],
          [
           "Meat Loaf"
          ],
          [
           "Chris Isaak"
          ],
          [
           "John Lennon"
          ],
          [
           "Focus"
          ],
          [
           "Queens Of The Stone Age"
          ],
          [
           "Supertramp"
          ],
          [
           "Alanis Morissette"
          ],
          [
           "Van Halen"
          ],
          [
           "The Kinks"
          ],
          [
           "Blind Melon"
          ],
          [
           "The Hollies"
          ],
          [
           "Rolling Stones"
          ],
          [
           "Panic! At The Disco"
          ],
          [
           "The Doobie Brothers"
          ],
          [
           "Roxy Music"
          ],
          [
           "Sex Pistols"
          ],
          [
           "The Beatles"
          ]
         ],
         "hovertemplate": "<b>%{hovertext}</b><br><br>Supersupergenre=Rock and metal<br>Year of release=%{x}<br>Position=%{y}<br>Artist=%{customdata[0]}<extra></extra>",
         "hovertext": [
          "Bohemian Rhapsody",
          "A Whiter Shade Of Pale",
          "Hotel California",
          "Piano Man",
          "Radar Love",
          "Stairway To Heaven",
          "Nothing Else Matters",
          "Black",
          "Love Of My Life",
          "Wish You Were Here",
          "Soldier On",
          "Child In Time",
          "The River",
          "November Rain",
          "Brothers In Arms",
          "The Sound Of Silence",
          "Comfortably Numb",
          "Africa",
          "Heroes",
          "Sultans Of Swing",
          "One",
          "Shine On You Crazy Diamond (Pts. 1-5)",
          "Smells Like Teen Spirit",
          "Thunderstruck",
          "Just Breathe",
          "Sweet Child O' Mine",
          "Imagine",
          "Paradise By The Dashboard Light",
          "Telegraph Road",
          "In The Air Tonight",
          "A Forest",
          "Innuendo",
          "Go Your Own Way",
          "In The End",
          "School",
          "Killing In The Name",
          "Paint It Black",
          "Enter Sandman",
          "When The Lady Smiles",
          "Don't Stop Me Now",
          "Alive",
          "Let It Be",
          "Sunday Bloody Sunday",
          "God Only Knows",
          "Sympathy For The Devil",
          "Sorry",
          "Master Of Puppets",
          "Creep",
          "With Or Without You",
          "Mr. Blue Sky",
          "Under Pressure",
          "Fool's Overture",
          "Another Brick In The Wall",
          "One",
          "Phantom Of The Opera",
          "The Chain",
          "Somebody To Love (Live)",
          "Uprising",
          "Old And Wise",
          "Somebody To Love",
          "Here Comes The Sun",
          "Under The Bridge",
          "Lola Montez",
          "Riders On The Storm",
          "Highway To Hell",
          "Who Wants To Live Forever",
          "Angie",
          "Private Investigations",
          "Uncharted",
          "Another 45 Miles",
          "Impossible (Orchestral Version Live at Abbey Road)",
          "Chasing Cars",
          "Gimme Shelter",
          "Blackbird",
          "Losing My Religion",
          "The Show Must Go On",
          "Hey Jude",
          "Whole Lotta Rosie",
          "Have You Ever Seen The Rain",
          "Don't Stop Believin'",
          "Goodnight Saigon",
          "Dreams",
          "Twilight Zone",
          "Suspicious Minds",
          "Where The Streets Have No Name",
          "Space Oddity",
          "Yesterday",
          "Bitter Sweet Symphony",
          "House Of The Rising Sun",
          "Zombie",
          "The Pretender",
          "Don't Look Back In Anger",
          "Nights In White Satin",
          "Mr. Brightside",
          "Paranoid",
          "Knights Of Cydonia",
          "Enjoy The Silence",
          "Californication",
          "I Still Haven't Found What I'm Looking For",
          "Come As You Are",
          "Wonderwall",
          "Fragile",
          "Paradise City",
          "Summer Of '69",
          "Nobody's Wife",
          "Bed Of Roses",
          "Money For Nothing",
          "Ice Queen",
          "Streets Of Philadelphia",
          "Fields Of Gold",
          "Saturday Night",
          "Into My Arms",
          "The Last Resort",
          "Killer Queen",
          "Graceland",
          "Fortunate Son",
          "September",
          "Perfect Day",
          "I Want To Break Free",
          "Kayleigh",
          "Smoke On The Water",
          "Desperado",
          "Whole Lotta Love",
          "Jeremy",
          "Fear Of The Dark",
          "Somewhere Only We Know",
          "One",
          "Wind Of Change",
          "In The Ghetto",
          "Walk Of Life",
          "Everybody Hurts",
          "Dancing In The Dark",
          "Lightning Crashes",
          "The Unforgiven",
          "The Unforgettable Fire",
          "Ace Of Spades",
          "Street Spirit (Fade Out)",
          "I Put A Spell On You",
          "Just A Little Bit Of Peace In My Heart",
          "Ruthless Queen",
          "Everlong",
          "Chop Suey!",
          "Englishman In New York",
          "Knocking On Heaven's Door",
          "Dream On",
          "I'm On Fire",
          "Sign Of The Times",
          "Iedereen Is Van De Wereld",
          "Music",
          "All Along The Watchtower",
          "Starman",
          "Bad",
          "She Sells Sanctuary",
          "Numb",
          "Radio Ga Ga",
          "Deurdonderen (Live)",
          "While My Guitar Gently Weeps",
          "The Load Out/Stay",
          "My Immortal",
          "Papillon",
          "Beautiful Day",
          "Lithium",
          "Do I Wanna Know?",
          "Bad Moon Rising",
          "Fade To Black",
          "Sad Man's Tongue",
          "We Will Rock You",
          "Whiskey In The Jar",
          "Born To Run",
          "Dust In The Wind",
          "Sex On Fire",
          "Ghost Love Score (Live@Wacken 2013)",
          "I'm Gonna Be (500 Miles)",
          "Echoes",
          "Against All Odds (Take A Look At Me Now)",
          "Hallelujah",
          "Livin' On A Prayer",
          "I Was Made For Lovin' You",
          "Going To The Run",
          "Run To The Hills",
          "Every Breath You Take",
          "Boulevard Of Broken Dreams",
          "One Day Like This",
          "Everywhere",
          "Psycho",
          "Pride (In The Name Of Love)",
          "Kashmir",
          "Roxanne",
          "No One Knows",
          "Angel Of Death",
          "The Man Who Sold The World (unplugged)",
          "Sara",
          "Long Blond Animal",
          "Welcome To The Jungle",
          "Silent Lucidity",
          "Heart Of Gold",
          "Seven Nation Army",
          "Landslide",
          "Karma Police",
          "Me And Bobby McGee",
          "The Logical Song",
          "She's Always A Woman",
          "Kryptonite",
          "Mama",
          "You Can't Always Get What You Want",
          "Old Man",
          "Iris",
          "With A Little Help From My Friends",
          "White Rabbit",
          "Oerend Hard",
          "Blauw",
          "Worn Down Piano",
          "Hold The Line",
          "These Are The Days Of Our Lives",
          "(I Can't Get No) Satisfaction",
          "Black Hole Sun",
          "Back In Black",
          "More Than A Feeling",
          "Romeo And Juliet",
          "Mother Earth",
          "Another Day In Paradise",
          "Can't Help Falling In Love",
          "The Whole Of The Moon",
          "A Day In The Life",
          "The End",
          "Stop Loving You",
          "Baba O'Riley",
          "Free Bird",
          "Another One Bites The Dust",
          "Basket Case",
          "Poison",
          "Time",
          "Tougher Than The Rest",
          "Run",
          "Always On My Mind",
          "Brown Eyed Girl",
          "Rockin' In The Free World",
          "I Want To Know What Love Is",
          "Streets",
          "La Grange",
          "Radioactive",
          "Vienna",
          "Eye In The Sky",
          "One Of These Nights",
          "Take It Easy",
          "Bat Out Of Hell",
          "Blue Monday",
          "Born In The U.S.A.",
          "Money",
          "Lost",
          "Still Loving You",
          "My Hometown",
          "Jump",
          "Eleanor Rigby",
          "Memories",
          "We Are The Champions",
          "Estranged",
          "Paranoid Android",
          "Smokers Outside The Hospital Doors",
          "L.A. Woman",
          "A Horse With No Name",
          "Sad But True",
          "Patience",
          "Who'll Stop The Rain",
          "De Boer Dat Is De Keerl",
          "Narcotic",
          "Learn To Fly",
          "Golden Brown",
          "Crazy Little Thing Called Love",
          "Toen Ik Je Zag",
          "Diamonds",
          "Snow (Hey Oh)",
          "Message In A Bottle",
          "She Flies On Strange Wings",
          "Tonight (Live)",
          "Time To Give",
          "Linger",
          "Strong",
          "Élan",
          "Believer",
          "Penny Lane",
          "Whatever You Want",
          "Sweet Home Alabama",
          "Somebody That I Used To Know",
          "Love Will Tear Us Apart",
          "Wicked Game",
          "Life On Mars",
          "Starlight",
          "Where Did You Sleep Last Night (unplugged)",
          "My Boy",
          "Amsterdam",
          "Plug In Baby",
          "Even Flow",
          "You Shook Me All Night Long",
          "Supermassive Black Hole",
          "Hammer To Fall",
          "Fantasy",
          "War",
          "Demons",
          "Wild Horses",
          "Breaking The Habit",
          "Little Lies",
          "Like The Way I Do",
          "Hey Joe",
          "It's My Life",
          "Birds",
          "Let's Dance",
          "New Year's Day",
          "The Great Gig In The Sky",
          "Slippery People (Live)",
          "Songbird",
          "Wake Me Up When September Ends",
          "Albatross",
          "Let It Happen",
          "Lola (Live)",
          "Bring Me To Life",
          "Under The Pressure",
          "Always",
          "Runnin' With The Devil",
          "Come Together",
          "The Final Countdown",
          "Witch Doctor",
          "High Hopes",
          "Light My Fire",
          "Can I Play With Madness",
          "Immigrant Song",
          "Psycho Killer",
          "Tusk",
          "Sorry",
          "Good Vibrations",
          "Feel Good Inc.",
          "Rosanna",
          "Lullaby",
          "I Will Follow (Live)",
          "Is She Really Going Out With Him? (Live)",
          "I'd Do Anything For Love (But I Won't Do That)",
          "I Don't Want To Miss A Thing",
          "Never Tear Us Apart",
          "Scar Tissue",
          "Like A Hurricane",
          "Have I Told You Lately",
          "Rhiannon (Will You Ever Win)",
          "Dreamer",
          "Champagne Supernova",
          "Alone",
          "Overcome",
          "You'll Be In My Heart",
          "Don't Stop",
          "Leningrad",
          "Holding Back The Years",
          "Michel",
          "Strawberry Fields Forever",
          "The Boys Of Summer",
          "Nightswimming",
          "Tribute",
          "Down Under",
          "Get Back",
          "Bliss",
          "Otherside",
          "Little Black Submarines",
          "Halo Of Flies",
          "Dreadlock Holiday",
          "Thinking Of A Place",
          "Do I Ever",
          "Wasted Years",
          "Thunder Road",
          "Don't Fear The Reaper",
          "Roll Over Lay Down (Live)",
          "Badlands",
          "Ironic",
          "Hey You",
          "I Bet You Look Good On The Dancefloor",
          "Chandelier",
          "Our House",
          "Shape Of My Heart",
          "Something",
          "Riddles",
          "Back Home",
          "Never Be Clever",
          "The Long And Winding Road",
          "(Everything I Do) I Do It For You",
          "I'm Not In Love",
          "Black Betty",
          "Not An Addict",
          "Would",
          "You Are So Beautiful",
          "Hold Me Now",
          "Let There Be Rock",
          "One More Light",
          "What It Is",
          "Venus",
          "You Can Call Me Al",
          "Jailhouse Rock",
          "Smalltown Boy",
          "The Less I Know The Better",
          "Pompeii",
          "The Weight",
          "I Want It All",
          "Follow You Follow Me",
          "Weekend Love",
          "Hocus Pocus",
          "New Kid In Town",
          "Friday I'm In Love",
          "Tunnel Of Love",
          "A Kind Of Magic",
          "Exit Music (For A Film)",
          "Us And Them",
          "Trapped (Live)",
          "Start Me Up",
          "Weak",
          "Sovereign Light Cafe",
          "A Gentleman's Excuse Me",
          "Firth Of Fifth",
          "I Follow Rivers",
          "Don't Dream It's Over",
          "The Passenger",
          "Take The Long Way Home",
          "Lyin' Eyes",
          "Be My Number Two",
          "Walk",
          "American Idiot",
          "Dark Necessities",
          "Diamonds On The Soles Of Her Shoes",
          "Sailing",
          "Natural",
          "Boogie Wonderland",
          "Fat Bottomed Girls",
          "I Alone",
          "Need Your Love So Bad",
          "Here I Go Again",
          "Glory Days",
          "The Unforgiven II",
          "Give A Little Bit",
          "Human",
          "China Girl",
          "Every Little Thing She Does Is Magic",
          "Easy Livin'",
          "Clint Eastwood",
          "How You Remind Me",
          "Land Of Confusion",
          "Lust For Life",
          "When The Sun Goes Down",
          "Lavender",
          "So Long",
          "Eye Of The Tiger",
          "The Man Who Can't Be Moved",
          "Love Hurts",
          "Jungleland",
          "Once In A Lifetime",
          "She's A Rainbow",
          "Golden",
          "Rebel Rebel",
          "Heaven",
          "Self Esteem",
          "Teach Your Children",
          "What's Up",
          "Unintended",
          "Rain Down On Me",
          "Song 2",
          "Take Me Out",
          "Sebastian",
          "Wild Is The Wind",
          "Real Men",
          "There Is a Light That Never Goes Out",
          "Good Riddance (Time Of Your Life)",
          "You Give Love A Bad Name",
          "Watermelon Sugar",
          "Stand My Ground",
          "Road Trippin'",
          "Boys Don't Cry",
          "Sharp Dressed Man",
          "I Heard It Through The Grapevine",
          "Thunder",
          "Down Down",
          "Sailing To Philadelphia",
          "Jersey Girl (Live)",
          "Brown Sugar",
          "Owner Of A Lonely Heart",
          "Gimme All Your Lovin'",
          "Norwegian Wood",
          "Where The Wild Roses Grow",
          "Moonlight Shadow",
          "Iederene Hef Een Reden",
          "Voodoo Child (Slight Return)",
          "On Every Street",
          "Everything Now",
          "Just Can't Get Enough (Live)",
          "Can't Stop",
          "Dancing In The Street",
          "So Lonely",
          "All I Want Is You",
          "Four Seasons In One Day",
          "Come On Eileen",
          "Suzie Q (Part I)",
          "Personal Jesus",
          "Heart-Shaped Box",
          "Whatever It Takes",
          "Give It Away",
          "Sound And Vision",
          "Band On The Run",
          "You Do Something To Me",
          "The Turn Of A Friendly Card",
          "Civil War",
          "I Just Can't Help Believin'",
          "Walk On The Wild Side",
          "Don't Cry",
          "Red Eyes",
          "You're My Best Friend",
          "Strange Machines",
          "If You Tolerate This Your Children Will Be Next",
          "Ik Bun Moar Een Eenvoudige Boerenlul",
          "Tubular Bells",
          "Candy",
          "Man On The Moon",
          "No More Tears",
          "The Family Tree",
          "Lippy Kids",
          "Gaia",
          "Burning Love",
          "Little Wing",
          "Disarm",
          "The Wind Cries Mary",
          "Miss You",
          "I'll Take Care Of You",
          "People Are Strange",
          "Plush",
          "Jesus He Knows Me",
          "Denis",
          "Stressed Out",
          "Waiting On A Friend",
          "Freak On A Leash",
          "Lazarus",
          "Help!",
          "Better Man",
          "Drops Of Jupiter (Tell Me)",
          "Proud Mary",
          "Unchain My Heart",
          "The Fool On The Hill",
          "Close To Me",
          "Motorcycle Emptiness",
          "Crime Of The Century",
          "Breakfast In America",
          "Listen To The Music",
          "Almost Cut My Hair",
          "Breakthru",
          "Your Latest Trick",
          "The Rising",
          "Dani California",
          "Ashes To Ashes",
          "Love Like Blood",
          "Cry Baby",
          "Il Volo",
          "Why Worry",
          "Can't Stop Loving You",
          "One Word",
          "The Dolphin's Cry",
          "Little Green Bag",
          "How You Gonna See Me Now",
          "Winter",
          "Ordinary Love",
          "I've Just Lost Somebody",
          "Faster",
          "50 Ways To Leave Your Lover",
          "Russians",
          "Beds Are Burning",
          "Waiting On A Sunny Day",
          "Fool To Cry",
          "One Of These Days",
          "Johnny B. Goode",
          "If You Leave Me Now",
          "Times Are Changing",
          "Sgt. Pepper’s Lonely Hearts Club Band",
          "Go With The Flow",
          "Question",
          "Driver's Seat",
          "No Surprises",
          "Wanted (Dead Or Alive)",
          "Absolute Beginners",
          "About A Girl (Unplugged)",
          "If You Don't Know Me By Now",
          "Avalon",
          "Mr. Jones",
          "Hunger Strike",
          "Bicycle Race",
          "Send Me An Angel",
          "Rockin' All Over The World",
          "Goodbye Stranger",
          "Peter Gunn Theme",
          "Let Love Rule",
          "Pain",
          "Keep On Loving You",
          "The Devil Made Me Do It",
          "Behind Blue Eyes",
          "Carry On Wayward Son",
          "Girl",
          "Sound Of The Screaming Day",
          "It's A Long Way There",
          "Use Somebody",
          "Whisky In The Jar",
          "Time Is Running Out",
          "Lonely Boy",
          "Spirit Of Radio",
          "Free Fallin'",
          "Locomotive Breath",
          "Born To Be Wild",
          "Tie Your Mother Down",
          "Harvest Moon",
          "Tequila Sunrise",
          "Storm And Thunder",
          "Road To Nowhere",
          "Running To Stand Still",
          "Love Me Tender",
          "Pinball Wizard",
          "Message To My Girl",
          "Long As I Can See The Light",
          "All I Want",
          "I Wish It Would Rain Down",
          "21 Guns",
          "Madness",
          "You Oughta Know",
          "Resistance",
          "All For Nothing",
          "Way Down We Go",
          "Lucy In The Sky With Diamonds",
          "Michelle",
          "Shiny Happy People",
          "Why'd You Only Call Me When You're High?",
          "Epic",
          "Friends Will Be Friends",
          "Hedonism",
          "Fluorescent Adolescent",
          "Adore You",
          "You Took The Words Right Out Of My Mouth",
          "Munich",
          "Heart Of Glass",
          "1979",
          "Alie",
          "Homeless",
          "When Love Comes To Town",
          "Ode To My Family",
          "Best Of You",
          "Changes",
          "Roadhouse Blues",
          "Bridges",
          "London Calling",
          "This Is Not America",
          "Mushanga",
          "Since I’ve Been Loving You",
          "Oh Well (Part I)",
          "Pamela",
          "Love Is A Battlefield",
          "In A Gadda Da Vida",
          "Barracuda",
          "Mercedes Benz",
          "Ruby Tuesday",
          "Here Without You",
          "You Can't Hurry Love",
          "Honky Tonk Women",
          "Purple Haze",
          "'39",
          "Fake Plastic Trees",
          "Don't Bring Me Down",
          "Down On The Corner",
          "Jumpin' Jack Flash",
          "Bird Of Paradise",
          "Bedshaped",
          "For Bitter Or Worse",
          "Golden Years",
          "Undisclosed Desires",
          "We Didn't Start The Fire",
          "Spread Your Wings",
          "Ziggy Stardust",
          "Somebody Told Me",
          "I Can't Sleep Without You (Live)",
          "Run To You",
          "The Unforgiven III",
          "Bombay",
          "Uninvited",
          "Mull Of Kintyre",
          "Everybody's Changing",
          "All You Need Is Love",
          "The One I Love",
          "Dat heb jij gedaan",
          "Just Say Yes",
          "Black Velvet",
          "In Bloom",
          "Two Out Of Three Ain't Bad",
          "Bigmouth Strikes Again",
          "Big Log",
          "Walking On The Moon",
          "Pure Morning",
          "My Sweet Lord",
          "Maggie May",
          "Too Much Love Will Kill You",
          "Drive",
          "Are You Gonna Go My Way",
          "You Can Leave Your Hat On",
          "House For Sale",
          "All The Small Things",
          "How To Save A Life",
          "Born On The Bayou",
          "Times Like These",
          "Farewell To The Fairground",
          "Seven Wonders",
          "Scenes From An Italian Restaurant",
          "So Far Away",
          "The Living Years",
          "Holiday",
          "The Boys Are Back In Town",
          "New York State Of Mind",
          "The Man Who Sold The World",
          "Shut Your Eyes",
          "Find The River",
          "Weather With You",
          "The Eve Of The War",
          "He Ain't Heavy, He's My Brother",
          "You Don't Fool Me",
          "Uptown Girl",
          "Thank God It's Christmas",
          "One Vision",
          "Glycerine",
          "Blueberry Hill",
          "Daughter",
          "Dynamite",
          "By The Way",
          "Ben Ik Te Min",
          "Memories",
          "N'Oubliez Jamais",
          "Home Again",
          "Moondance",
          "Simple Man",
          "What A Fool Believes",
          "Devil Don't Care",
          "Livin' Thing",
          "More Than Words",
          "The Way It Is",
          "It's The End Of The World As We Know It",
          "Kold Bloed",
          "School's Out",
          "Everytime I Think Of You",
          "In The Army Now",
          "Good Old-Fashioned Lover Boy",
          "Dazed And Confused",
          "Hall Of Fame",
          "Learning To Fly",
          "Buddy Joe",
          "Uncertain Smile",
          "The Air That I Breathe",
          "In These Arms",
          "When I'm Sixty-Four",
          "The Saints Are Coming",
          "Make Me Smile (Come Up And See Me)",
          "Bad Liar",
          "Weekend",
          "Jerusalem",
          "Going Home (Theme From Local Hero)",
          "R U Kiddin' Me",
          "Don't Answer Me",
          "Love Her Madly",
          "Memory Remains",
          "In My Life",
          "I Love You Like I Love Myself",
          "Crazy On You",
          "All My Life",
          "Johnny Make Believe",
          "Cold As Ice",
          "Bend And Break",
          "Mia",
          "Live And Let Die",
          "Run To The Water",
          "On Top Of The World",
          "As Tears Go By",
          "San Francisco (Be Sure To Wear Flowers In Your Hair)",
          "Don't Let Me Down",
          "Human Touch",
          "Sloop John B",
          "Pumped Up Kicks",
          "Big Love",
          "Apache",
          "If You Could See Me Now",
          "Heaven For Everyone",
          "With Arms Wide Open",
          "Sure Know Something",
          "I'm A Believer",
          "(You're The) Devil In Disguise",
          "I Am The Walrus",
          "Diane",
          "An American Trilogy",
          "Tuesday Afternoon",
          "We All Stand Together",
          "Lady Jane",
          "Lookin' Out My Back Door",
          "Mary Jane's Last Dance",
          "Live Is Life",
          "What Lies Ahead",
          "Because The Night",
          "Le Freak",
          "Stars",
          "Fire",
          "25 Or 6 To 4",
          "Moon Over Bourbon Street",
          "City Of Blinding Lights",
          "Roundabout",
          "Summertime",
          "Give Up Your Guns",
          "Black Night",
          "Take Me Home",
          "Rooster",
          "Bullet With Butterfly Wings",
          "The Racing Rats",
          "Kids",
          "Unbeschreiblich Weiblich",
          "Are You Lonesome Tonight",
          "Late In The Evening",
          "Hungry Heart",
          "Handle With Care",
          "Still Believe",
          "Why Can't This Be Love",
          "She's Leaving Home",
          "Forever Autumn",
          "Three Days In A Row",
          "Guitar Man",
          "Don't Stand So Close To Me",
          "Blitzkrieg Bop",
          "Lost On You",
          "I'm Going Home",
          "Live Forever",
          "Up Where We Belong",
          "God Save The Queen",
          "Blackstar",
          "Save Me",
          "Love Is All",
          "Touch Me",
          "You Could Be Mine",
          "I Want You To Want Me (Live)",
          "All Star",
          "Panama",
          "Feeling Good",
          "Polly",
          "Hide In Your Shell",
          "Ventura Highway",
          "Somebody To Love",
          "Me Gustas Tu",
          "Something Happened On The Way To Heaven",
          "Racing In The Street",
          "Spanish Stroll",
          "Monkey Gone To Heaven",
          "I Don't Want To Talk About It",
          "Maybe Tomorrow",
          "Live And Let Die",
          "It's A Beautiful Day",
          "The Life I Live",
          "Overture (Tommy)",
          "Make It Wit Chu",
          "Harvest",
          "Out In The Fields",
          "Nightporter",
          "Magnificent (She Says)",
          "Heathens",
          "The Eyes Of Jenny",
          "Black Dog",
          "Love Shack",
          "Counting Stars",
          "Blue Suede Shoes",
          "Gold On The Ceiling",
          "I'll Be Over You",
          "Angel Of Harlem",
          "I Won't Let You Down",
          "Into The Mystic",
          "Return To Sender",
          "Common People",
          "Home By The Sea",
          "Fly Like An Eagle",
          "Vienna",
          "Under My Thumb",
          "See Me, Feel Me",
          "Waterloo Sunset",
          "Up Around The Bend",
          "Fox On The Run",
          "A Hard Day's Night",
          "Pyro",
          "Stuck In A Moment You Can't Get Out Of",
          "Is This Love",
          "Don't Look Back",
          "Midnight Rambler",
          "Yellow Submarine",
          "Rock And Roll",
          "Pretty Fly (For A White Guy)",
          "Sweet Disposition",
          "Won't Get Fooled Again",
          "Wild Hearts",
          "Water Of Love",
          "Vertigo",
          "Detroit Rock City",
          "Twist And Shout",
          "Heavy Cross",
          "Desert Rose",
          "Fire (Live)",
          "Sunrise",
          "Shut Up And Dance",
          "Open Your Eyes",
          "Invisible Touch",
          "Original Sin",
          "Little Talks",
          "Cats In The Cradle",
          "Dancing With Tears In My Eyes",
          "Close To The Edge",
          "Damn Those Eyes",
          "Into Temptation",
          "Woman",
          "Beast Of Burden",
          "An End Has A Start",
          "Lovesong",
          "Breakeven",
          "Mmm Mmm Mmm Mmm",
          "Your Love",
          "New York Minute",
          "Homburg",
          "You Make Lovin' Fun",
          "No Son Of Mine",
          "Rearviewmirror",
          "Accidentally In Love",
          "Blinded By The Light",
          "Do It Again",
          "How Soon Is Now",
          "The Drugs Don't Work",
          "When I Come Around",
          "Gloria (Live)",
          "Ob-La-Di, Ob-La-Da",
          "Let's Groove",
          "Can't Stand Losing You",
          "Dakota",
          "Isn't It Time",
          "Break On Through (To The Other Side)",
          "Mercy",
          "We Belong To The Night",
          "The Worker",
          "Woman From Tokyo",
          "My Hero (Live)",
          "The Wall Street Shuffle",
          "My Generation",
          "Down Man",
          "Fairground",
          "Wit Licht",
          "Calling Elvis",
          "Tonight, Tonight",
          "Steppin' Out",
          "Get Ready",
          "Never Going Back Again",
          "For Crying Out Loud",
          "Rosalyn",
          "Working On A Dream",
          "Love Is The Drug",
          "No Surrender",
          "I Surrender",
          "Hey There Delilah",
          "Honesty",
          "The Joker",
          "Lucky Man",
          "Tears In The Morning",
          "Back Down South",
          "Sweet Jane",
          "Need You Tonight",
          "Sylvia's Mother",
          "Sing For Absolution",
          "Fame",
          "All Apologies",
          "Karma Chameleon",
          "Should I Stay Or Should I Go?",
          "Brilliant Disguise",
          "Edge Of Seventeen",
          "More Than This",
          "Secret Garden",
          "That Was Yesterday",
          "Time Is On My Side",
          "Merry Xmas Everybody",
          "If I Could Turn Back Time",
          "High Hopes",
          "Love Rears Its Ugly Head",
          "Sacrifice",
          "One Tree Hill",
          "Heaven Can Wait",
          "Blue Hotel",
          "Working Class Hero",
          "Sylvia",
          "I Sat By The Ocean",
          "It's Raining Again",
          "Thank U",
          "Ain't Talkin' 'bout Love",
          "Sunny Afternoon",
          "No Rain",
          "Long Cool Woman (In A Black Dress)",
          "Little Red Rooster",
          "I Write Sins Not Tragedies",
          "Long Train Running",
          "Jealous Guy",
          "Anarchy In The Uk",
          "I Want To Hold Your Hand"
         ],
         "legendgroup": "Rock and metal",
         "marker": {
          "color": "#636efa",
          "symbol": "circle"
         },
         "mode": "markers",
         "name": "Rock and metal",
         "showlegend": true,
         "type": "scattergl",
         "x": [
          1975,
          1967,
          1977,
          1974,
          1973,
          1971,
          1992,
          1992,
          1975,
          1975,
          2020,
          1970,
          1981,
          1992,
          1985,
          2016,
          1979,
          1982,
          1976,
          1978,
          1994,
          1975,
          1991,
          1990,
          2009,
          1987,
          1971,
          1978,
          1982,
          1981,
          1980,
          1991,
          1977,
          2000,
          1974,
          1992,
          1966,
          1991,
          1984,
          1979,
          1992,
          1970,
          1985,
          1966,
          1973,
          2016,
          1986,
          1992,
          1987,
          1978,
          1981,
          1977,
          1979,
          1992,
          2019,
          1977,
          1993,
          2009,
          1982,
          1976,
          1969,
          1991,
          2013,
          1971,
          1979,
          1986,
          1973,
          1982,
          2019,
          1969,
          2020,
          2006,
          1969,
          1968,
          1991,
          1991,
          1968,
          1978,
          1971,
          1981,
          1983,
          1977,
          1982,
          1969,
          1987,
          1969,
          1965,
          1997,
          1964,
          1994,
          2007,
          1996,
          1968,
          2005,
          1970,
          2006,
          1990,
          2000,
          1987,
          1991,
          1995,
          1988,
          1989,
          1990,
          1997,
          1993,
          1985,
          2001,
          1994,
          1993,
          1978,
          1996,
          1976,
          1974,
          1986,
          1969,
          1979,
          1972,
          1984,
          1985,
          1973,
          1973,
          1969,
          1991,
          1993,
          2004,
          2006,
          1991,
          1969,
          1985,
          1993,
          1985,
          1995,
          1991,
          1984,
          1980,
          1994,
          1972,
          1968,
          1979,
          1997,
          2001,
          1988,
          1992,
          1973,
          1985,
          2017,
          1991,
          1976,
          1968,
          1972,
          1984,
          1986,
          2003,
          1984,
          1982,
          1968,
          1977,
          2003,
          2009,
          2000,
          1991,
          2013,
          1969,
          1984,
          2007,
          1977,
          1998,
          1975,
          1978,
          2008,
          2013,
          1988,
          1971,
          1984,
          1994,
          1986,
          1979,
          1991,
          1982,
          1983,
          2004,
          2008,
          1987,
          2015,
          1984,
          1975,
          1979,
          2002,
          1986,
          1994,
          1980,
          1980,
          1987,
          1991,
          1972,
          2003,
          1975,
          1997,
          1971,
          1979,
          1978,
          2000,
          1983,
          1969,
          1972,
          1999,
          1968,
          1967,
          1977,
          1991,
          1977,
          1979,
          1991,
          1965,
          1994,
          1980,
          1977,
          1980,
          2002,
          1989,
          1961,
          1986,
          1967,
          1967,
          1988,
          1971,
          1974,
          1980,
          1994,
          1989,
          1973,
          1987,
          2004,
          1972,
          1967,
          1989,
          1984,
          2014,
          1973,
          2012,
          1981,
          1982,
          1975,
          1972,
          1977,
          1983,
          1985,
          1973,
          2005,
          1987,
          1986,
          1984,
          1966,
          2019,
          1977,
          1994,
          1997,
          2007,
          1971,
          1972,
          1992,
          1989,
          1970,
          1982,
          1998,
          1999,
          1982,
          1979,
          1997,
          2013,
          2006,
          1979,
          1971,
          1988,
          2018,
          1993,
          2014,
          2015,
          2017,
          1967,
          1979,
          1974,
          2011,
          1980,
          1991,
          1973,
          2006,
          1994,
          1975,
          2017,
          2001,
          1991,
          1980,
          2006,
          1984,
          1978,
          2014,
          2014,
          1971,
          2004,
          1987,
          1989,
          1967,
          2000,
          2013,
          1983,
          1983,
          1972,
          1985,
          1977,
          2005,
          1969,
          2015,
          1980,
          2003,
          2014,
          1994,
          1978,
          1969,
          1986,
          2014,
          1994,
          1967,
          1988,
          1971,
          1978,
          1979,
          2017,
          1966,
          2005,
          1982,
          1989,
          1982,
          1988,
          1993,
          1997,
          1988,
          1999,
          1977,
          1989,
          1976,
          1974,
          1996,
          1987,
          2001,
          1999,
          1977,
          1989,
          1985,
          2000,
          1967,
          1985,
          1992,
          2003,
          1982,
          1969,
          2001,
          2000,
          2011,
          1973,
          1978,
          2017,
          2016,
          1986,
          1975,
          1976,
          1975,
          1978,
          1996,
          1979,
          2005,
          2013,
          1970,
          1993,
          1969,
          2015,
          1970,
          1979,
          1970,
          1991,
          1975,
          1978,
          1996,
          1992,
          1974,
          1994,
          1977,
          2016,
          2000,
          1969,
          1986,
          1957,
          1984,
          2015,
          2013,
          1968,
          1989,
          1978,
          1979,
          1971,
          1977,
          1992,
          1980,
          1986,
          1997,
          1973,
          1985,
          1981,
          1995,
          2012,
          1990,
          1973,
          2012,
          1987,
          1976,
          1979,
          1975,
          1984,
          2011,
          2004,
          2016,
          1986,
          1975,
          2018,
          1979,
          1978,
          1995,
          1968,
          1987,
          1985,
          1997,
          1977,
          2008,
          1983,
          1981,
          1973,
          2001,
          2001,
          1986,
          1977,
          2006,
          1985,
          1980,
          1982,
          2008,
          1976,
          1975,
          1981,
          1967,
          2020,
          1974,
          1985,
          1995,
          1970,
          1993,
          2009,
          2002,
          1997,
          2003,
          1973,
          1976,
          1982,
          1986,
          1997,
          1986,
          2020,
          2004,
          2000,
          1986,
          1985,
          1973,
          2017,
          1975,
          2000,
          1986,
          1971,
          1983,
          1984,
          1965,
          1995,
          1983,
          2016,
          1968,
          1991,
          2017,
          1985,
          2002,
          1985,
          1979,
          1988,
          1992,
          1982,
          1968,
          1990,
          1993,
          2017,
          1992,
          1977,
          1974,
          1995,
          1980,
          1990,
          1971,
          1973,
          1991,
          2013,
          1976,
          1996,
          1998,
          1978,
          1974,
          1990,
          1992,
          1990,
          1999,
          2011,
          1993,
          1972,
          1967,
          1993,
          1967,
          1978,
          2011,
          1967,
          1993,
          1992,
          1978,
          2016,
          1981,
          1998,
          2016,
          1965,
          1994,
          2001,
          1969,
          1987,
          1967,
          1985,
          1992,
          1974,
          1979,
          1972,
          1970,
          1989,
          1985,
          2002,
          2006,
          1980,
          1985,
          1971,
          1996,
          1985,
          2002,
          2005,
          1999,
          1969,
          1979,
          1992,
          2013,
          1968,
          2011,
          1976,
          1985,
          1988,
          2003,
          1976,
          1971,
          1958,
          1976,
          2009,
          1967,
          2003,
          1970,
          1980,
          1997,
          1987,
          1986,
          1993,
          1989,
          1982,
          1994,
          1991,
          1978,
          1991,
          1977,
          1979,
          1980,
          1989,
          2017,
          1981,
          1982,
          2004,
          1976,
          2004,
          1967,
          1976,
          2008,
          1973,
          2003,
          2011,
          1980,
          1989,
          1972,
          1968,
          1977,
          1991,
          1973,
          1971,
          1985,
          1987,
          1956,
          1969,
          1984,
          1970,
          2012,
          1990,
          2009,
          2012,
          1996,
          2009,
          2014,
          2016,
          1967,
          1966,
          1991,
          2013,
          1989,
          1986,
          1997,
          2007,
          2019,
          1979,
          2005,
          1979,
          1996,
          1977,
          1986,
          1989,
          1994,
          2005,
          1971,
          1970,
          2017,
          1979,
          1985,
          1988,
          1970,
          1969,
          1988,
          1984,
          1970,
          1977,
          1970,
          1967,
          2004,
          1982,
          1969,
          1967,
          1975,
          1995,
          1979,
          1969,
          1968,
          1984,
          2004,
          2009,
          1976,
          2009,
          1989,
          1978,
          1972,
          2004,
          1992,
          1985,
          2008,
          1976,
          1999,
          1977,
          2004,
          1967,
          1987,
          2021,
          2009,
          1990,
          1991,
          1977,
          1986,
          1983,
          1979,
          1998,
          1970,
          1971,
          1992,
          1992,
          1993,
          1986,
          1975,
          1999,
          2007,
          1972,
          2003,
          2009,
          1987,
          1977,
          1985,
          1989,
          2005,
          1976,
          1976,
          1970,
          2007,
          1992,
          1991,
          1978,
          1969,
          1996,
          1983,
          1984,
          1985,
          1994,
          1957,
          1993,
          1974,
          2002,
          1967,
          1972,
          1997,
          2012,
          1970,
          1973,
          1978,
          2019,
          1976,
          1991,
          1986,
          1987,
          2019,
          1972,
          1979,
          1986,
          1976,
          1969,
          2012,
          1991,
          1972,
          1984,
          1974,
          1993,
          1967,
          2006,
          1975,
          2018,
          1979,
          2005,
          1983,
          1999,
          1984,
          1971,
          1997,
          1965,
          1979,
          1976,
          2002,
          1994,
          1977,
          2005,
          1992,
          1991,
          2000,
          2013,
          1966,
          1967,
          1969,
          1992,
          1966,
          2011,
          1987,
          1960,
          2013,
          1995,
          1999,
          1979,
          1966,
          1963,
          1967,
          1995,
          1972,
          1968,
          1985,
          1966,
          1970,
          1993,
          1985,
          2019,
          1978,
          1978,
          1991,
          1979,
          1970,
          1985,
          2005,
          1972,
          1969,
          1972,
          1970,
          1985,
          1992,
          1995,
          2008,
          2007,
          1979,
          1961,
          1980,
          1980,
          1988,
          1978,
          1987,
          1967,
          1978,
          2009,
          1968,
          1980,
          1976,
          2016,
          1971,
          1994,
          1982,
          1979,
          2015,
          1980,
          1975,
          1969,
          1991,
          1979,
          1999,
          1984,
          2001,
          1991,
          1974,
          1972,
          1967,
          2001,
          1990,
          1975,
          1977,
          1989,
          1977,
          2003,
          1973,
          1995,
          1966,
          1969,
          2008,
          1972,
          1985,
          1980,
          2016,
          2016,
          1981,
          1971,
          1989,
          2013,
          1956,
          2011,
          1986,
          1988,
          1981,
          1970,
          1962,
          1995,
          1983,
          1976,
          1977,
          1966,
          1970,
          1967,
          1970,
          1975,
          1964,
          2010,
          2000,
          1987,
          1978,
          1969,
          1966,
          1971,
          1999,
          2010,
          1971,
          2020,
          1978,
          2004,
          1976,
          1963,
          2009,
          2000,
          1986,
          2003,
          2014,
          1997,
          1986,
          1984,
          2012,
          1993,
          1984,
          1972,
          1999,
          1989,
          2005,
          1978,
          2007,
          1989,
          2009,
          1993,
          1986,
          1989,
          1967,
          1978,
          1991,
          1993,
          2004,
          1976,
          1972,
          1984,
          1997,
          1995,
          1983,
          1969,
          1981,
          1979,
          2005,
          1977,
          1967,
          2015,
          1979,
          1979,
          1973,
          2006,
          1974,
          1965,
          1969,
          1995,
          2015,
          1991,
          1995,
          1982,
          1970,
          1977,
          1978,
          1982,
          2008,
          1976,
          2009,
          2004,
          2007,
          1978,
          1973,
          1971,
          1970,
          2011,
          1974,
          1987,
          1972,
          2003,
          1975,
          1993,
          1983,
          1991,
          1987,
          1982,
          1982,
          1995,
          1985,
          1965,
          1973,
          1989,
          2018,
          1990,
          1998,
          1987,
          1979,
          1987,
          1970,
          1972,
          2013,
          1982,
          1998,
          1978,
          1966,
          1993,
          1971,
          1965,
          2005,
          1973,
          1981,
          1976,
          1964
         ],
         "xaxis": "x",
         "y": [
          1,
          3,
          4,
          5,
          6,
          7,
          8,
          9,
          12,
          13,
          14,
          15,
          16,
          17,
          18,
          19,
          22,
          23,
          24,
          25,
          26,
          29,
          30,
          31,
          32,
          33,
          34,
          35,
          36,
          37,
          40,
          42,
          45,
          46,
          47,
          48,
          50,
          51,
          53,
          57,
          58,
          59,
          61,
          62,
          63,
          64,
          65,
          66,
          67,
          68,
          69,
          71,
          73,
          74,
          75,
          77,
          78,
          79,
          80,
          81,
          82,
          84,
          85,
          87,
          88,
          89,
          91,
          93,
          94,
          95,
          97,
          98,
          100,
          101,
          103,
          105,
          106,
          107,
          108,
          109,
          110,
          111,
          112,
          113,
          114,
          119,
          120,
          121,
          122,
          125,
          126,
          127,
          129,
          130,
          132,
          134,
          138,
          141,
          142,
          143,
          146,
          150,
          153,
          154,
          155,
          157,
          158,
          159,
          162,
          163,
          166,
          167,
          168,
          169,
          171,
          175,
          176,
          179,
          180,
          181,
          183,
          184,
          185,
          187,
          189,
          193,
          195,
          197,
          198,
          199,
          200,
          201,
          202,
          205,
          206,
          207,
          209,
          214,
          216,
          219,
          220,
          225,
          226,
          229,
          230,
          231,
          234,
          235,
          236,
          237,
          239,
          240,
          241,
          242,
          243,
          244,
          247,
          249,
          250,
          252,
          253,
          257,
          258,
          259,
          260,
          262,
          263,
          268,
          269,
          270,
          271,
          272,
          274,
          276,
          277,
          280,
          281,
          282,
          283,
          284,
          285,
          289,
          290,
          295,
          297,
          298,
          299,
          300,
          302,
          303,
          311,
          312,
          313,
          314,
          316,
          317,
          321,
          325,
          327,
          329,
          331,
          332,
          333,
          337,
          338,
          339,
          340,
          343,
          344,
          345,
          346,
          351,
          354,
          355,
          357,
          359,
          360,
          365,
          369,
          370,
          373,
          375,
          377,
          378,
          379,
          380,
          383,
          384,
          386,
          387,
          389,
          392,
          393,
          394,
          396,
          397,
          399,
          400,
          401,
          402,
          406,
          407,
          408,
          409,
          411,
          416,
          417,
          421,
          422,
          423,
          425,
          427,
          428,
          429,
          430,
          431,
          437,
          439,
          449,
          450,
          451,
          453,
          454,
          456,
          464,
          465,
          466,
          468,
          469,
          471,
          474,
          475,
          477,
          478,
          479,
          487,
          488,
          490,
          491,
          494,
          495,
          496,
          497,
          498,
          499,
          500,
          501,
          502,
          503,
          509,
          512,
          513,
          515,
          517,
          519,
          523,
          524,
          527,
          528,
          531,
          533,
          534,
          537,
          538,
          540,
          541,
          542,
          546,
          547,
          550,
          553,
          556,
          557,
          558,
          559,
          560,
          561,
          562,
          565,
          566,
          567,
          568,
          569,
          570,
          571,
          574,
          575,
          577,
          582,
          583,
          584,
          589,
          592,
          594,
          596,
          597,
          598,
          601,
          602,
          604,
          605,
          608,
          612,
          613,
          614,
          616,
          617,
          618,
          619,
          621,
          622,
          626,
          630,
          631,
          634,
          635,
          638,
          640,
          643,
          645,
          651,
          656,
          657,
          659,
          662,
          664,
          666,
          667,
          669,
          670,
          675,
          676,
          681,
          682,
          684,
          689,
          691,
          694,
          697,
          698,
          699,
          703,
          705,
          707,
          708,
          715,
          716,
          719,
          723,
          724,
          729,
          731,
          734,
          735,
          737,
          738,
          740,
          741,
          743,
          746,
          748,
          750,
          751,
          755,
          761,
          762,
          763,
          764,
          765,
          766,
          767,
          771,
          775,
          777,
          778,
          779,
          780,
          781,
          784,
          785,
          794,
          795,
          796,
          797,
          798,
          800,
          801,
          802,
          807,
          808,
          809,
          812,
          813,
          814,
          821,
          823,
          824,
          825,
          828,
          830,
          832,
          833,
          834,
          836,
          837,
          839,
          841,
          842,
          844,
          845,
          847,
          852,
          853,
          858,
          859,
          860,
          861,
          862,
          863,
          865,
          866,
          867,
          868,
          870,
          871,
          872,
          873,
          878,
          880,
          881,
          887,
          888,
          889,
          890,
          891,
          895,
          897,
          898,
          899,
          900,
          901,
          902,
          903,
          906,
          908,
          910,
          912,
          914,
          915,
          918,
          920,
          921,
          922,
          924,
          926,
          927,
          928,
          930,
          931,
          932,
          933,
          935,
          936,
          937,
          939,
          940,
          941,
          942,
          945,
          947,
          949,
          950,
          956,
          958,
          961,
          966,
          967,
          968,
          969,
          971,
          972,
          975,
          977,
          978,
          982,
          983,
          984,
          985,
          987,
          989,
          992,
          994,
          996,
          997,
          998,
          999,
          1001,
          1002,
          1008,
          1010,
          1012,
          1013,
          1017,
          1018,
          1020,
          1023,
          1024,
          1025,
          1026,
          1027,
          1029,
          1030,
          1031,
          1032,
          1033,
          1034,
          1036,
          1037,
          1038,
          1043,
          1046,
          1047,
          1050,
          1051,
          1052,
          1053,
          1056,
          1057,
          1062,
          1063,
          1067,
          1068,
          1070,
          1073,
          1075,
          1077,
          1078,
          1082,
          1083,
          1084,
          1085,
          1086,
          1087,
          1090,
          1094,
          1096,
          1100,
          1101,
          1102,
          1103,
          1106,
          1109,
          1110,
          1111,
          1113,
          1119,
          1122,
          1123,
          1124,
          1125,
          1127,
          1129,
          1133,
          1135,
          1138,
          1140,
          1141,
          1147,
          1150,
          1151,
          1152,
          1153,
          1154,
          1155,
          1156,
          1158,
          1162,
          1164,
          1165,
          1169,
          1177,
          1182,
          1185,
          1186,
          1188,
          1189,
          1190,
          1192,
          1195,
          1196,
          1197,
          1198,
          1202,
          1205,
          1206,
          1208,
          1209,
          1210,
          1212,
          1213,
          1215,
          1216,
          1217,
          1218,
          1219,
          1220,
          1223,
          1225,
          1228,
          1230,
          1234,
          1235,
          1236,
          1238,
          1241,
          1242,
          1243,
          1245,
          1246,
          1247,
          1248,
          1250,
          1254,
          1255,
          1262,
          1263,
          1266,
          1271,
          1273,
          1275,
          1276,
          1277,
          1279,
          1281,
          1285,
          1286,
          1289,
          1292,
          1293,
          1295,
          1296,
          1297,
          1298,
          1299,
          1300,
          1301,
          1304,
          1305,
          1306,
          1308,
          1309,
          1314,
          1318,
          1319,
          1322,
          1323,
          1324,
          1326,
          1327,
          1333,
          1339,
          1341,
          1342,
          1345,
          1348,
          1350,
          1351,
          1353,
          1360,
          1362,
          1363,
          1371,
          1372,
          1378,
          1379,
          1384,
          1388,
          1398,
          1400,
          1402,
          1403,
          1410,
          1411,
          1414,
          1415,
          1418,
          1424,
          1425,
          1426,
          1434,
          1437,
          1441,
          1443,
          1444,
          1445,
          1446,
          1447,
          1448,
          1450,
          1451,
          1453,
          1456,
          1457,
          1458,
          1459,
          1460,
          1461,
          1463,
          1466,
          1469,
          1470,
          1471,
          1473,
          1484,
          1485,
          1486,
          1488,
          1489,
          1490,
          1491,
          1495,
          1496,
          1498,
          1499,
          1500,
          1501,
          1502,
          1504,
          1507,
          1508,
          1511,
          1513,
          1515,
          1517,
          1523,
          1528,
          1529,
          1530,
          1531,
          1533,
          1535,
          1544,
          1546,
          1548,
          1551,
          1553,
          1557,
          1558,
          1559,
          1565,
          1570,
          1571,
          1574,
          1579,
          1580,
          1581,
          1584,
          1585,
          1590,
          1591,
          1593,
          1594,
          1596,
          1598,
          1599,
          1600,
          1603,
          1604,
          1606,
          1608,
          1610,
          1614,
          1615,
          1616,
          1617,
          1618,
          1619,
          1621,
          1623,
          1624,
          1626,
          1629,
          1630,
          1631,
          1632,
          1634,
          1635,
          1637,
          1639,
          1641,
          1644,
          1651,
          1656,
          1657,
          1664,
          1669,
          1670,
          1671,
          1672,
          1673,
          1678,
          1680,
          1681,
          1682,
          1684,
          1686,
          1687,
          1688,
          1689,
          1691,
          1692,
          1693,
          1694,
          1695,
          1696,
          1698,
          1703,
          1704,
          1710,
          1711,
          1713,
          1717,
          1718,
          1721,
          1722,
          1725,
          1727,
          1732,
          1733,
          1734,
          1735,
          1738,
          1739,
          1743,
          1744,
          1747,
          1748,
          1749,
          1756,
          1759,
          1760,
          1762,
          1763,
          1766,
          1767,
          1768,
          1769,
          1770,
          1771,
          1774,
          1775,
          1776,
          1777,
          1779,
          1780,
          1781,
          1782,
          1783,
          1784,
          1785,
          1787,
          1790,
          1792,
          1793,
          1794,
          1796,
          1797,
          1798,
          1799,
          1800,
          1802,
          1804,
          1812,
          1813,
          1816,
          1820,
          1824,
          1825,
          1826,
          1827,
          1832,
          1833,
          1836,
          1838,
          1839,
          1845,
          1846,
          1847,
          1848,
          1851,
          1853,
          1855,
          1858,
          1859,
          1860,
          1865,
          1867,
          1873,
          1877,
          1881,
          1882,
          1883,
          1884,
          1886,
          1887,
          1891,
          1894,
          1897,
          1899,
          1901,
          1902,
          1903,
          1904,
          1906,
          1909,
          1911,
          1912,
          1914,
          1916,
          1920,
          1921,
          1923,
          1925,
          1929,
          1930,
          1931,
          1933,
          1934,
          1936,
          1937,
          1938,
          1940,
          1941,
          1942,
          1943,
          1946,
          1956,
          1958,
          1959,
          1960,
          1961,
          1963,
          1964,
          1967,
          1970,
          1971,
          1972,
          1975,
          1979,
          1981,
          1982,
          1983,
          1984,
          1985,
          1993,
          1995,
          1997,
          1998
         ],
         "yaxis": "y"
        },
        {
         "customdata": [
          [
           "Danny Vera"
          ],
          [
           "Simon & Garfunkel"
          ],
          [
           "Johnny Cash"
          ],
          [
           "Simon & Garfunkel"
          ],
          [
           "Dolly Parton"
          ],
          [
           "Leonard Cohen"
          ],
          [
           "Simon & Garfunkel"
          ],
          [
           "Tracy Chapman"
          ],
          [
           "Johnny Cash"
          ],
          [
           "Bob Dylan"
          ],
          [
           "Mumford & Sons"
          ],
          [
           "Lex Uiting"
          ],
          [
           "Kenny Rogers & Dolly Parton"
          ],
          [
           "Chris Stapleton"
          ],
          [
           "Johnny Cash"
          ],
          [
           "Jim Croce"
          ],
          [
           "Mumford & Sons"
          ],
          [
           "Simon & Garfunkel"
          ],
          [
           "Leonard Cohen"
          ],
          [
           "Johnny Cash"
          ],
          [
           "Johnny Cash"
          ],
          [
           "Passenger"
          ],
          [
           "Danny Vera"
          ],
          [
           "Mumford & Sons"
          ],
          [
           "The Common Linnets"
          ],
          [
           "Bob Dylan"
          ],
          [
           "Simon & Garfunkel"
          ],
          [
           "Leonard Cohen"
          ],
          [
           "Bob Dylan"
          ],
          [
           "Danny Vera"
          ],
          [
           "Art Garfunkel"
          ],
          [
           "Simon & Garfunkel"
          ],
          [
           "Danny Vera"
          ],
          [
           "Dolly Parton"
          ],
          [
           "Leonard Cohen"
          ],
          [
           "Clannad"
          ],
          [
           "Leonard Cohen"
          ],
          [
           "Bob Dylan"
          ],
          [
           "Simon & Garfunkel"
          ],
          [
           "Leonard Cohen"
          ],
          [
           "Dolly Parton"
          ],
          [
           "Bob Dylan"
          ],
          [
           "Tracy Chapman"
          ],
          [
           "John Denver & Placido Domingo"
          ],
          [
           "First Aid Kit"
          ],
          [
           "Simon & Garfunkel"
          ],
          [
           "Joni Mitchell"
          ],
          [
           "Stealers Wheel"
          ],
          [
           "Taylor Swift"
          ],
          [
           "Taylor Swift"
          ],
          [
           "Johnny Cash"
          ],
          [
           "Johnny Cash"
          ],
          [
           "Willie Nelson"
          ],
          [
           "The Dubliners"
          ],
          [
           "Ben Howard"
          ],
          [
           "Ralph McTell"
          ],
          [
           "Danny Vera"
          ],
          [
           "Tracy Chapman"
          ],
          [
           "Janis Ian"
          ],
          [
           "Taylor Swift"
          ],
          [
           "Mumford & Sons"
          ],
          [
           "Johnny Cash"
          ],
          [
           "Jonathan Jeremiah"
          ],
          [
           "Joe Buck"
          ],
          [
           "Mumford & Sons"
          ],
          [
           "Bob Dylan"
          ],
          [
           "Mumford & Sons"
          ],
          [
           "Leonard Cohen"
          ],
          [
           "Chris Stapleton"
          ],
          [
           "Tim Hardin"
          ],
          [
           "Lady Antebellum"
          ],
          [
           "Duncan Browne"
          ],
          [
           "Taylor Swift"
          ],
          [
           "Fink"
          ],
          [
           "Birdy"
          ]
         ],
         "hovertemplate": "<b>%{hovertext}</b><br><br>Supersupergenre=Country and Folk<br>Year of release=%{x}<br>Position=%{y}<br>Artist=%{customdata[0]}<extra></extra>",
         "hovertext": [
          "Roller Coaster",
          "The Sound Of Silence",
          "Hurt",
          "Bridge Over Troubled Water",
          "Jolene",
          "Hallelujah",
          "The Boxer",
          "Fast Car",
          "Ring Of Fire",
          "Hurricane",
          "Little Lion Man",
          "Nao 't Zuuje",
          "Islands In The Stream",
          "Tennessee Whiskey",
          "I Walk The Line",
          "Time In A Bottle",
          "The Cave",
          "Mrs. Robinson",
          "Suzanne",
          "Folsom Prison Blues (Live)",
          "A Boy Named Sue",
          "Let Her Go",
          "Hold On To Let Go",
          "I Will Wait",
          "Calm After The Storm",
          "Blowin' In The Wind",
          "El Condor Pasa (If I Could)",
          "So Long Marianne",
          "Like A Rolling Stone",
          "The Weight",
          "Bright Eyes",
          "Homeward Bound",
          "Pressure Makes Diamonds (2020)",
          "9 To 5",
          "Dance Me To The End Of Love",
          "Theme From 'Harry's Game'",
          "You Want It Darker",
          "The Times They Are A-Changin'",
          "Scarborough Fair",
          "Take This Waltz",
          "I Will Always Love You",
          "Knockin' On Heaven's Door",
          "Baby Can I Hold You",
          "Perhaps Love",
          "My Silver Lining",
          "Cecilia",
          "Both Sides Now",
          "Stuck In The Middle With You",
          "All Too Well (Taylor's Version)",
          "Shake It Off",
          "San Quentin",
          "A Thing Called Love",
          "Always On My Mind",
          "The Wild Rover",
          "Keep Your Head Up",
          "Streets Of London",
          "The Devil's Son",
          "Talkin' Bout A Revolution",
          "At Seventeen",
          "Blank Space",
          "Lover Of The Light",
          "One",
          "Happiness",
          "The Way You Take Time",
          "Hopeless Wanderer",
          "I Want You",
          "Babel",
          "Famous Blue Raincoat",
          "Cold",
          "How Can We Hang On To A Dream",
          "Need You Now",
          "The Wild Places",
          "Cowboy Like Me",
          "Looking Too Closely",
          "Skinny Love"
         ],
         "legendgroup": "Country and Folk",
         "marker": {
          "color": "#EF553B",
          "symbol": "circle"
         },
         "mode": "markers",
         "name": "Country and Folk",
         "showlegend": true,
         "type": "scattergl",
         "x": [
          2019,
          1966,
          2002,
          1970,
          1974,
          1984,
          1969,
          1988,
          1963,
          1975,
          2010,
          2017,
          1983,
          2015,
          1957,
          1972,
          2010,
          1968,
          1968,
          1968,
          1969,
          2012,
          2020,
          2012,
          2014,
          1963,
          1970,
          1968,
          1965,
          2020,
          1979,
          1966,
          2020,
          1981,
          1984,
          1983,
          2016,
          1964,
          1966,
          1988,
          1983,
          1973,
          1988,
          1981,
          2014,
          1970,
          1968,
          1973,
          2021,
          2014,
          1969,
          1972,
          1984,
          1964,
          2011,
          1972,
          2013,
          1988,
          1975,
          2015,
          2012,
          2000,
          2011,
          2019,
          2013,
          1966,
          2013,
          1971,
          2020,
          1967,
          2010,
          1979,
          2020,
          2014,
          2011
         ],
         "xaxis": "x",
         "y": [
          2,
          28,
          41,
          55,
          99,
          135,
          152,
          218,
          267,
          275,
          382,
          388,
          403,
          414,
          424,
          460,
          462,
          472,
          480,
          485,
          620,
          648,
          649,
          706,
          713,
          720,
          728,
          747,
          786,
          792,
          822,
          838,
          851,
          877,
          886,
          965,
          986,
          1045,
          1069,
          1093,
          1105,
          1131,
          1146,
          1174,
          1183,
          1187,
          1193,
          1257,
          1282,
          1328,
          1335,
          1358,
          1361,
          1366,
          1370,
          1404,
          1455,
          1468,
          1518,
          1605,
          1714,
          1726,
          1730,
          1753,
          1834,
          1849,
          1857,
          1861,
          1868,
          1878,
          1924,
          1951,
          1965,
          1974,
          1989
         ],
         "yaxis": "y"
        },
        {
         "customdata": [
          [
           "Boudewijn de Groot"
          ],
          [
           "Miss Montreal"
          ],
          [
           "Racoon"
          ],
          [
           "Klein Orkest"
          ],
          [
           "Stef Bos"
          ],
          [
           "Wim Sonneveld"
          ],
          [
           "Liesbeth List & Ramses Shaffy"
          ],
          [
           "Guus Meeuwis"
          ],
          [
           "Claudia de Breij"
          ],
          [
           "Bløf ft. Geike"
          ],
          [
           "Acda & De Munnik"
          ],
          [
           "Ramses Shaffy"
          ],
          [
           "André Hazes"
          ],
          [
           "Van Dik Hout"
          ],
          [
           "André Hazes"
          ],
          [
           "Frank Boeijen Groep"
          ],
          [
           "Racoon"
          ],
          [
           "Ramses Shaffy"
          ],
          [
           "Racoon"
          ],
          [
           "Frans Halsema"
          ],
          [
           "Rowwen Hèze"
          ],
          [
           "Marco Borsato"
          ],
          [
           "Frank Boeijen Groep"
          ],
          [
           "André Hazes"
          ],
          [
           "Boudewijn de Groot"
          ],
          [
           "De Dijk"
          ],
          [
           "De Dijk"
          ],
          [
           "Maan"
          ],
          [
           "De Dijk"
          ],
          [
           "Bløf"
          ],
          [
           "Krezip"
          ],
          [
           "Racoon"
          ],
          [
           "Rowwen Hèze"
          ],
          [
           "Boudewijn de Groot"
          ],
          [
           "Skik"
          ],
          [
           "Abel"
          ],
          [
           "Cuby & the Blizzards"
          ],
          [
           "André Hazes"
          ],
          [
           "Stef Bos"
          ],
          [
           "Bløf"
          ],
          [
           "André Hazes"
          ],
          [
           "André Hazes"
          ],
          [
           "De Dijk"
          ],
          [
           "Bløf"
          ],
          [
           "Rob de Nijs"
          ],
          [
           "Bløf"
          ],
          [
           "De Dijk"
          ],
          [
           "Acda & De Munnik"
          ],
          [
           "Rob de Nijs"
          ],
          [
           "Boudewijn de Groot"
          ],
          [
           "Bløf"
          ],
          [
           "De Dijk"
          ],
          [
           "Guus Meeuwis"
          ],
          [
           "Acda & De Munnik"
          ],
          [
           "Marco Borsato, Armin van Buuren & Davina Michelle"
          ],
          [
           "Bløf"
          ],
          [
           "Maaike Ouboter"
          ],
          [
           "Paul de Leeuw"
          ],
          [
           "Het Goede Doel"
          ],
          [
           "Rowwen Hèze"
          ],
          [
           "Spinvis"
          ],
          [
           "André Hazes Jr."
          ],
          [
           "Paul de Leeuw & Simone Kleinsma"
          ],
          [
           "Bankzitters"
          ],
          [
           "Guus Meeuwis"
          ],
          [
           "Het Goede Doel"
          ],
          [
           "Boudewijn de Groot"
          ],
          [
           "Krezip"
          ],
          [
           "Frank Boeijen Groep"
          ],
          [
           "Rowwen Hèze"
          ],
          [
           "Boudewijn de Groot"
          ],
          [
           "Rob de Nijs"
          ],
          [
           "Ede Staal"
          ],
          [
           "De Dijk"
          ],
          [
           "Herman van Veen"
          ],
          [
           "Racoon"
          ],
          [
           "Acda & De Munnik"
          ],
          [
           "Frank Boeijen Groep"
          ],
          [
           "Rowwen Hèze"
          ],
          [
           "De Dijk"
          ],
          [
           "Nits"
          ],
          [
           "Rowwen Hèze"
          ],
          [
           "Guus Meeuwis & Vagant"
          ],
          [
           "Bløf"
          ],
          [
           "Rob de Nijs"
          ],
          [
           "Ilse DeLange"
          ],
          [
           "De Dijk"
          ],
          [
           "Snelle"
          ],
          [
           "Paul De Leeuw & André Hazes"
          ],
          [
           "De Dijk"
          ],
          [
           "Bløf"
          ],
          [
           "Marco Borsato"
          ],
          [
           "Veldhuis & Kemper"
          ],
          [
           "Guus Meeuwis"
          ],
          [
           "Marco Borsato"
          ],
          [
           "Gé Reinders"
          ],
          [
           "Bløf"
          ],
          [
           "André Hazes"
          ],
          [
           "Nick & Simon"
          ],
          [
           "De Dijk"
          ],
          [
           "De Dijk"
          ],
          [
           "Racoon"
          ],
          [
           "Boudewijn de Groot"
          ],
          [
           "Acda & De Munnik"
          ],
          [
           "Acda & De Munnik"
          ],
          [
           "Racoon"
          ],
          [
           "Rowwen Hèze"
          ],
          [
           "Bløf"
          ],
          [
           "Ilse DeLange"
          ],
          [
           "Herman van Veen"
          ],
          [
           "Toontje Lager"
          ],
          [
           "Krezip"
          ],
          [
           "Herman van Veen"
          ],
          [
           "3JS"
          ],
          [
           "Herman van Veen"
          ],
          [
           "Guus Meeuwis"
          ],
          [
           "Het Goede Doel"
          ],
          [
           "Cuby & the Blizzards"
          ],
          [
           "Bløf"
          ],
          [
           "André Hazes"
          ],
          [
           "Snelle"
          ],
          [
           "Nielson"
          ],
          [
           "André Hazes"
          ],
          [
           "Pommelien Thijs & Jaap Reesema"
          ],
          [
           "Vandenberg"
          ],
          [
           "Alderliefste & Paul de Leeuw"
          ],
          [
           "Bløf"
          ],
          [
           "Cuby & the Blizzards"
          ],
          [
           "Drs. P"
          ],
          [
           "André Hazes"
          ],
          [
           "Marco Borsato"
          ],
          [
           "Guus Meeuwis"
          ],
          [
           "3JS"
          ],
          [
           "Is Ook Schitterend"
          ],
          [
           "Ramses Shaffy"
          ],
          [
           "Marco Borsato"
          ],
          [
           "Racoon"
          ],
          [
           "Ramses Shaffy"
          ],
          [
           "Marco Borsato"
          ],
          [
           "Ilse DeLange"
          ],
          [
           "Nick & Simon"
          ],
          [
           "Rob de Nijs"
          ],
          [
           "Paul de Leeuw"
          ],
          [
           "Jenny Arean & Frans Halsema"
          ],
          [
           "Nits"
          ],
          [
           "Frank Boeijen Groep"
          ],
          [
           "Ilse DeLange"
          ],
          [
           "Raymond Van Het Groenewoud"
          ],
          [
           "Tino Martin"
          ],
          [
           "Bløf"
          ],
          [
           "Boudewijn de Groot"
          ],
          [
           "Marco Borsato"
          ],
          [
           "Snelle"
          ],
          [
           "Marco Borsato"
          ],
          [
           "André Hazes"
          ],
          [
           "Guus Meeuwis"
          ],
          [
           "Spinvis"
          ],
          [
           "Boudewijn de Groot"
          ],
          [
           "Van Dik Hout"
          ],
          [
           "Rowwen Hèze"
          ],
          [
           "Stef Bos"
          ],
          [
           "Ilse DeLange"
          ],
          [
           "Marco Borsato"
          ],
          [
           "André van Duin"
          ],
          [
           "Johan"
          ],
          [
           "Boudewijn de Groot"
          ],
          [
           "Frank Boeijen Groep"
          ],
          [
           "Tröckener Kecks"
          ],
          [
           "Herman van Veen"
          ],
          [
           "Drukwerk"
          ],
          [
           "Acda & De Munnik"
          ],
          [
           "De Dijk"
          ],
          [
           "Bløf"
          ],
          [
           "Klein Orkest"
          ],
          [
           "Rob de Nijs"
          ],
          [
           "Bløf"
          ]
         ],
         "hovertemplate": "<b>%{hovertext}</b><br><br>Supersupergenre=Nederlandstalig<br>Year of release=%{x}<br>Position=%{y}<br>Artist=%{customdata[0]}<extra></extra>",
         "hovertext": [
          "Avond",
          "Door De Wind",
          "Oceaan",
          "Over De Muur",
          "Papa",
          "Het Dorp",
          "Pastorale",
          "Brabant",
          "Mag Ik Dan Bij Jou",
          "Zoutelande",
          "Het Regent Zonnestralen",
          "Laat Me",
          "Kleine Jongen",
          "Stil In Mij",
          "Bloed Zweet En Tranen",
          "Zeg Me Dat Het Niet Zo Is",
          "Het Is Al Laat Toch",
          "Zing, Vecht, Huil, Bid, Lach, Werk En Bewonder",
          "Love You More",
          "Voor Haar",
          "November",
          "Dochters",
          "Kronenburg Park",
          "Zij Gelooft In Mij",
          "Testament",
          "Dansen Op De Vulkaan",
          "Niemand In De Stad",
          "Ze Huilt Maar Ze Lacht",
          "Als Ze Er Niet Is",
          "Zo Stil",
          "I Would Stay",
          "De Echte Vent",
          "De Peel In Brand",
          "Verdronken Vlinder",
          "Op Fietse",
          "Onderweg",
          "Window Of My Eyes",
          "Geef Mij Je Angst",
          "Is Dit Nu Later",
          "Omarm",
          "De Vlieger",
          "Zeg Maar Niets Meer",
          "Mag Het Licht Uit",
          "Harder Dan Ik Hebben Kan",
          "Het Werd Zomer",
          "Aan De Kust",
          "Groot Hart",
          "Lopen Tot De Zon Komt",
          "Foto Van Vroeger",
          "De Vondeling Van Ameland",
          "Dansen Aan Zee",
          "Ik Kan Het Niet Alleen",
          "Geef Mij Je Angst",
          "Ren Lenny Ren",
          "Hoe Het Danst",
          "Liefs Uit Londen",
          "Dat Ik Je Mis",
          "'k Heb Je Lief",
          "Alles Geprobeerd",
          "Limburg (Live)",
          "Kom Terug",
          "Leef",
          "Zonder Jou",
          "Stapelgek",
          "Dat Komt Door Jou",
          "België",
          "Welterusten Mijnheer De President",
          "Sweet Goodbyes",
          "De Verzoening",
          "Vlinder",
          "Jimmy",
          "Banger Hart",
          "Het Het Nog Nooit Zo Donker West",
          "Binnen Zonder Kloppen",
          "Liefde Van Later",
          "Don't Give Up The Fight",
          "Niet Of Nooit Geweest",
          "Zwart Wit",
          "Auto Vliegtuug",
          "Bloedend Hart",
          "In The Dutch Mountains",
          "De Neus Umhoeg",
          "Het Is Een Nacht... (Levensecht)",
          "Hou Vol Hou Vast",
          "Malle Babbe",
          "I Still Cry",
          "Onderuit",
          "Reünie",
          "Droomland",
          "Als Het Golft",
          "Blauwe Ruis",
          "Margherita",
          "Ik Wou Dat Ik Jou Was",
          "Tranen Gelachen",
          "Rood",
          "Blaosmuziek",
          "Mooie Dag",
          "'n Beetje Verliefd",
          "Pak Maar M'n Hand",
          "Nergens Goed Voor",
          "Kan Ik Iets Voor Je Doen?",
          "Liverpool Rain",
          "Het Land Van Maas En Waal",
          "De Kapitein Deel II",
          "Als Het Vuur Gedoofd Is",
          "No Mercy",
          "Bestel Mar",
          "Wat Zou Je Doen",
          "Miracle",
          "Suzanne",
          "Stiekem Gedanst",
          "Lost Without You",
          "Hilversum 3",
          "Hou Van Mij",
          "Anne",
          "De Weg",
          "Vriendschap",
          "Somebody Will Know Someday",
          "Alles Is Liefde",
          "'n Vriend",
          "Smoorverliefd",
          "IJskoud",
          "Het Is Koud Zonder Jou",
          "Nu Wij Niet Meer Praten",
          "Burning Heart",
          "Une Belle Histoire/Een Mooi Verhaal",
          "Zaterdag",
          "Appleknockers Flophouse",
          "Dodenrit",
          "Het Laatste Rondje",
          "De Bestemming",
          "'t Dondert En 't Bliksemt",
          "Watermensen",
          "Voltooid Verleden Tijd",
          "Sammy",
          "Mooi",
          "Shoes Of Lightning",
          "Wij Zullen Doorgaan",
          "Afscheid Nemen Bestaat Niet",
          "I'm Not So Tough",
          "Kijk Omhoog",
          "Niet Voor Het Laatst",
          "Vlieg Met Me Mee (Live)",
          "Vluchten Kan Niet Meer",
          "Nescio",
          "Hier Komt De Storm",
          "So Incredible",
          "Je Veux De L'Amour",
          "Zij Weet Het",
          "Aanzoek Zonder Ringen",
          "Als De Rook Om Je Hoofd Is Verdwenen",
          "Ik Leef Niet Meer Voor Jou",
          "Kleur",
          "Zij",
          "Uit M'n Bol",
          "Proosten",
          "Bagagedrager",
          "Een Meisje Van 16",
          "Meer Dan Een Ander",
          "'T Roeie Klied",
          "Ik Heb Je Lief",
          "World Of Hurt",
          "De Waarheid",
          "Als De Zon Schijnt",
          "Tumble And Fall",
          "Prikkebeen",
          "Winter In Hamburg",
          "Met Hart en Ziel",
          "Toveren",
          "Je Loog Tegen Mij",
          "Mooi Liedje",
          "Mijn Van Straat Geredde Roos",
          "Later Als Ik Groter Ben",
          "Laat Mij Maar Alleen",
          "Zondag",
          "Hier"
         ],
         "legendgroup": "Nederlandstalig",
         "marker": {
          "color": "#00cc96",
          "symbol": "circle"
         },
         "mode": "markers",
         "name": "Nederlandstalig",
         "showlegend": true,
         "type": "scattergl",
         "x": [
          1997,
          2020,
          2012,
          1984,
          1991,
          1974,
          1969,
          2003,
          2011,
          2017,
          1998,
          1978,
          1990,
          1994,
          2002,
          1990,
          2020,
          1971,
          2005,
          1977,
          2000,
          2008,
          1985,
          2004,
          1967,
          1987,
          1989,
          2019,
          1994,
          2012,
          2000,
          2020,
          2005,
          1966,
          1997,
          2000,
          1968,
          1983,
          1990,
          2003,
          1977,
          1982,
          1987,
          1999,
          1977,
          1999,
          1985,
          1997,
          1980,
          2004,
          2000,
          1989,
          2005,
          2002,
          2019,
          1998,
          2013,
          1997,
          1986,
          1996,
          2012,
          2016,
          1995,
          2021,
          2009,
          1982,
          1966,
          2009,
          1987,
          2003,
          1973,
          1996,
          1984,
          1985,
          1969,
          2011,
          1998,
          1984,
          1999,
          1982,
          1987,
          1995,
          1995,
          2011,
          1975,
          2000,
          1987,
          2019,
          1993,
          2000,
          2002,
          1996,
          2003,
          2007,
          2006,
          1999,
          2002,
          1981,
          2007,
          1989,
          2011,
          2012,
          1967,
          2000,
          1997,
          2011,
          1992,
          1998,
          2009,
          1969,
          1983,
          2019,
          1984,
          2008,
          1986,
          2005,
          1983,
          1967,
          2007,
          1980,
          2020,
          2018,
          1980,
          2020,
          1983,
          2006,
          1999,
          1969,
          1974,
          1984,
          1998,
          1998,
          2008,
          1997,
          1966,
          2015,
          2013,
          1975,
          2003,
          1998,
          2007,
          2017,
          1992,
          1977,
          1983,
          1988,
          2008,
          1980,
          2019,
          2006,
          1972,
          1996,
          2020,
          2002,
          1993,
          2007,
          2002,
          1965,
          1994,
          1995,
          1992,
          1998,
          1996,
          1983,
          2001,
          1968,
          1987,
          1990,
          1987,
          1981,
          1997,
          2008,
          2012,
          1982,
          1980,
          2000
         ],
         "xaxis": "x",
         "y": [
          10,
          20,
          27,
          39,
          52,
          54,
          60,
          83,
          86,
          96,
          102,
          117,
          128,
          131,
          174,
          208,
          211,
          212,
          215,
          217,
          222,
          224,
          233,
          245,
          265,
          273,
          291,
          293,
          301,
          305,
          309,
          320,
          335,
          341,
          353,
          356,
          364,
          366,
          367,
          371,
          374,
          385,
          405,
          419,
          426,
          435,
          443,
          447,
          463,
          476,
          493,
          507,
          520,
          521,
          526,
          532,
          539,
          543,
          545,
          552,
          595,
          603,
          607,
          611,
          624,
          633,
          644,
          646,
          653,
          654,
          674,
          688,
          700,
          701,
          718,
          726,
          745,
          753,
          758,
          759,
          776,
          810,
          829,
          856,
          869,
          883,
          893,
          913,
          925,
          929,
          934,
          960,
          963,
          979,
          1005,
          1006,
          1014,
          1015,
          1041,
          1048,
          1055,
          1058,
          1059,
          1060,
          1089,
          1091,
          1095,
          1107,
          1112,
          1114,
          1144,
          1200,
          1237,
          1258,
          1269,
          1272,
          1278,
          1287,
          1288,
          1291,
          1315,
          1330,
          1346,
          1352,
          1356,
          1368,
          1377,
          1383,
          1387,
          1392,
          1413,
          1416,
          1417,
          1420,
          1428,
          1430,
          1467,
          1472,
          1476,
          1479,
          1480,
          1482,
          1494,
          1503,
          1509,
          1532,
          1534,
          1555,
          1564,
          1576,
          1589,
          1607,
          1625,
          1649,
          1653,
          1658,
          1662,
          1674,
          1699,
          1701,
          1702,
          1750,
          1761,
          1786,
          1869,
          1876,
          1885,
          1888,
          1895,
          1898,
          1913,
          1919,
          1939,
          1944,
          1968,
          1988
         ],
         "yaxis": "y"
        },
        {
         "customdata": [
          [
           "Coldplay"
          ],
          [
           "Lady Gaga & Bradley Cooper"
          ],
          [
           "Coldplay"
          ],
          [
           "ABBA"
          ],
          [
           "Paolo Nutini"
          ],
          [
           "Coldplay"
          ],
          [
           "Robbie Williams"
          ],
          [
           "Simple Minds"
          ],
          [
           "Coldplay"
          ],
          [
           "Coldplay"
          ],
          [
           "Adele"
          ],
          [
           "ABBA"
          ],
          [
           "Michael Jackson"
          ],
          [
           "Elton John"
          ],
          [
           "Kate Bush"
          ],
          [
           "Neil Diamond"
          ],
          [
           "Adele"
          ],
          [
           "Coldplay & Avicii"
          ],
          [
           "Falco"
          ],
          [
           "George Michael"
          ],
          [
           "Adele"
          ],
          [
           "Jason Paige"
          ],
          [
           "Ed Sheeran"
          ],
          [
           "Simple Minds"
          ],
          [
           "Elton John"
          ],
          [
           "Michael Jackson"
          ],
          [
           "Jacques Brel"
          ],
          [
           "Lady Gaga"
          ],
          [
           "Adele"
          ],
          [
           "ABBA"
          ],
          [
           "Adele"
          ],
          [
           "Helene Fischer"
          ],
          [
           "Michael Jackson"
          ],
          [
           "Tom Odell"
          ],
          [
           "The Amazing Stroopwafels"
          ],
          [
           "Eddie Vedder"
          ],
          [
           "Bette Midler"
          ],
          [
           "Eddie Vedder"
          ],
          [
           "Adele"
          ],
          [
           "Beth Hart"
          ],
          [
           "Duncan Laurence"
          ],
          [
           "Michael Jackson"
          ],
          [
           "Don McLean"
          ],
          [
           "ABBA"
          ],
          [
           "ABBA"
          ],
          [
           "Elton John"
          ],
          [
           "George Michael & Elton John"
          ],
          [
           "John Denver"
          ],
          [
           "Kate Bush"
          ],
          [
           "Peter Gabriel & Kate Bush"
          ],
          [
           "ABBA"
          ],
          [
           "ABBA"
          ],
          [
           "Bill Withers"
          ],
          [
           "ABBA"
          ],
          [
           "ABBA"
          ],
          [
           "Alderliefste & Ramses Shaffy & Liesbeth List"
          ],
          [
           "A-Ha"
          ],
          [
           "Bløf & Counting Crows"
          ],
          [
           "Peter Gabriel"
          ],
          [
           "ABBA"
          ],
          [
           "Nena"
          ],
          [
           "Adele"
          ],
          [
           "Billie Eilish"
          ],
          [
           "Michael Jackson"
          ],
          [
           "Édith Piaf"
          ],
          [
           "Suzan & Freek & Snelle"
          ],
          [
           "Suzan & Freek"
          ],
          [
           "George Michael"
          ],
          [
           "Wham!"
          ],
          [
           "John Denver"
          ],
          [
           "Neil Diamond"
          ],
          [
           "Hozier"
          ],
          [
           "Ed Sheeran"
          ],
          [
           "ABBA"
          ],
          [
           "Simple Minds"
          ],
          [
           "Tears For Fears"
          ],
          [
           "Michael Jackson"
          ],
          [
           "Michael Jackson"
          ],
          [
           "Eurythmics"
          ],
          [
           "Adele"
          ],
          [
           "Neet Oét Lottum"
          ],
          [
           "Bee Gees"
          ],
          [
           "Ed Sheeran"
          ],
          [
           "Rick Astley"
          ],
          [
           "Ed Sheeran"
          ],
          [
           "Herbert Grönemeyer"
          ],
          [
           "Frankie Goes To Hollywood"
          ],
          [
           "Bonnie Tyler"
          ],
          [
           "John Denver"
          ],
          [
           "Davina Michelle"
          ],
          [
           "Don McLean"
          ],
          [
           "Anita Meyer"
          ],
          [
           "Coldplay"
          ],
          [
           "Novastar"
          ],
          [
           "Elvis Costello"
          ],
          [
           "Adele"
          ],
          [
           "Donna Summer"
          ],
          [
           "George Michael"
          ],
          [
           "George Michael"
          ],
          [
           "Kate Bush"
          ],
          [
           "George Michael"
          ],
          [
           "Ed Sheeran"
          ],
          [
           "Kate Bush"
          ],
          [
           "George Michael"
          ],
          [
           "ABBA"
          ],
          [
           "Madness"
          ],
          [
           "Lana Del Rey"
          ],
          [
           "Gerry Rafferty"
          ],
          [
           "Elton John"
          ],
          [
           "Michael Jackson"
          ],
          [
           "Tina Turner"
          ],
          [
           "P!nk"
          ],
          [
           "Suzan & Freek"
          ],
          [
           "Cat Stevens"
          ],
          [
           "The Cats"
          ],
          [
           "ABBA"
          ],
          [
           "John Mayer"
          ],
          [
           "ABBA"
          ],
          [
           "Billie Eilish"
          ],
          [
           "Chris Rea"
          ],
          [
           "Herbert Grönemeyer"
          ],
          [
           "ABBA"
          ],
          [
           "Elton John"
          ],
          [
           "George Michael"
          ],
          [
           "Bee Gees"
          ],
          [
           "John Mayer"
          ],
          [
           "Robbie Williams"
          ],
          [
           "Spandau Ballet"
          ],
          [
           "Barbara Pravi"
          ],
          [
           "Simple Minds"
          ],
          [
           "The Cats"
          ],
          [
           "Ed Sheeran"
          ],
          [
           "Elton John"
          ],
          [
           "John Mayer"
          ],
          [
           "Michael Jackson"
          ],
          [
           "ABBA"
          ],
          [
           "Michael Jackson"
          ],
          [
           "Al Stewart"
          ],
          [
           "Pharrell Williams"
          ],
          [
           "Whitney Houston"
          ],
          [
           "Daniël Lohues"
          ],
          [
           "Neil Diamond"
          ],
          [
           "Eddie Vedder"
          ],
          [
           "Snollebollekes"
          ],
          [
           "Tears For Fears & Oleta Adams"
          ],
          [
           "Adele"
          ],
          [
           "Gilbert O'Sullivan"
          ],
          [
           "De Poema's"
          ],
          [
           "Tina Turner"
          ],
          [
           "Robert Long"
          ],
          [
           "Fools Garden"
          ],
          [
           "Robbie Williams"
          ],
          [
           "P!nk"
          ],
          [
           "Henk Westbroek"
          ],
          [
           "ABBA"
          ],
          [
           "Elton John"
          ],
          [
           "Rufus Wainwright"
          ],
          [
           "ABBA"
          ],
          [
           "Elton John"
          ],
          [
           "Eros Ramazzotti"
          ],
          [
           "John Mayer"
          ],
          [
           "ABBA"
          ],
          [
           "Barry White"
          ],
          [
           "Cat Stevens"
          ],
          [
           "Gloria Gaynor"
          ],
          [
           "The Blue Nile"
          ],
          [
           "Dusty Springfield"
          ],
          [
           "Michael Jackson"
          ],
          [
           "One Direction"
          ],
          [
           "Elvis Costello"
          ],
          [
           "Daniël Lohues"
          ],
          [
           "Damien Rice"
          ],
          [
           "Lisa Lois"
          ],
          [
           "Tavares"
          ],
          [
           "Mariah Carey"
          ],
          [
           "Roxette"
          ],
          [
           "Adele"
          ],
          [
           "Robbie Williams"
          ],
          [
           "Nena & Kim Wilde"
          ],
          [
           "Phil Collins & Philip Bailey"
          ],
          [
           "Backstreet Boys"
          ],
          [
           "Ed Sheeran"
          ],
          [
           "Chris de Burgh"
          ],
          [
           "Madonna"
          ],
          [
           "Coldplay"
          ],
          [
           "Simple Minds"
          ],
          [
           "Moby"
          ],
          [
           "Tears For Fears"
          ],
          [
           "Justin Timberlake"
          ],
          [
           "Madness"
          ],
          [
           "Spandau Ballet"
          ],
          [
           "Lewis Capaldi"
          ],
          [
           "Clouseau"
          ],
          [
           "Adele"
          ],
          [
           "Donna Summer"
          ],
          [
           "Boney M."
          ],
          [
           "George Michael"
          ],
          [
           "De Kast"
          ],
          [
           "Melanie"
          ],
          [
           "Ed Sheeran"
          ],
          [
           "Les Poppys"
          ],
          [
           "Bee Gees"
          ],
          [
           "Davina Michelle & Snelle"
          ],
          [
           "Ten Sharp"
          ],
          [
           "The Cats"
          ],
          [
           "John Farnham"
          ],
          [
           "De Poema's"
          ],
          [
           "Cyndi Lauper"
          ],
          [
           "Adele"
          ],
          [
           "Bee Gees"
          ],
          [
           "Carly Simon"
          ],
          [
           "Lauren Daigle"
          ],
          [
           "ABBA"
          ],
          [
           "Elton John & Kiki Dee"
          ],
          [
           "John Mayer"
          ],
          [
           "Carpenters"
          ],
          [
           "Ed Sheeran"
          ],
          [
           "Simple Minds"
          ],
          [
           "Eros Ramazzotti & Tina Turner"
          ],
          [
           "Madness"
          ],
          [
           "Wham!"
          ],
          [
           "Coldplay"
          ],
          [
           "Barbra Streisand"
          ],
          [
           "Whitney Houston"
          ],
          [
           "Bee Gees"
          ],
          [
           "Spice Girls"
          ],
          [
           "Bill Withers"
          ],
          [
           "Roxette"
          ],
          [
           "Adele"
          ],
          [
           "John Denver"
          ],
          [
           "Coldplay"
          ],
          [
           "Marc Cohn"
          ],
          [
           "Jacques Brel"
          ],
          [
           "Moby"
          ],
          [
           "Neil Diamond"
          ],
          [
           "George Michael"
          ],
          [
           "George Michael & Aretha Franklin"
          ],
          [
           "Matthias Reim"
          ],
          [
           "Donna Summer"
          ],
          [
           "Adele"
          ],
          [
           "Michael Jackson"
          ],
          [
           "Beth Hart"
          ],
          [
           "Suzan & Freek"
          ],
          [
           "Marianne Rosenberg"
          ],
          [
           "Bee Gees"
          ],
          [
           "Mr. Mister"
          ],
          [
           "Coldplay"
          ],
          [
           "Michael Andrews ft. Gary Jules"
          ],
          [
           "Florence + The Machine"
          ],
          [
           "ABBA"
          ],
          [
           "Tears For Fears"
          ],
          [
           "Madness"
          ],
          [
           "Lionel Richie"
          ],
          [
           "Barbra Streisand"
          ],
          [
           "The Cats"
          ],
          [
           "Michael Jackson"
          ],
          [
           "Bee Gees"
          ],
          [
           "The Bangles"
          ],
          [
           "Lady Gaga"
          ],
          [
           "Christina Aguilera"
          ],
          [
           "Madonna"
          ],
          [
           "Michael Jackson"
          ],
          [
           "Cock Robin"
          ],
          [
           "Peter Gabriel"
          ],
          [
           "Bruno Mars"
          ],
          [
           "Kim Wilde"
          ],
          [
           "Coldplay"
          ],
          [
           "Céline Dion"
          ],
          [
           "Barry Ryan"
          ],
          [
           "Elton John"
          ],
          [
           "Loreen"
          ],
          [
           "Michael Jackson"
          ],
          [
           "Kirsty Maccoll & Pogues"
          ],
          [
           "John Mayer"
          ],
          [
           "Robert Long"
          ],
          [
           "Davina Michelle"
          ],
          [
           "Céline Dion"
          ],
          [
           "Coldplay"
          ],
          [
           "Justin Timberlake"
          ],
          [
           "Peter Gabriel"
          ],
          [
           "Wham!"
          ],
          [
           "George Michael & Mary J. Blige"
          ],
          [
           "Ed Sheeran"
          ],
          [
           "Lady Gaga"
          ],
          [
           "Laura Pausini"
          ],
          [
           "Roy Orbison"
          ],
          [
           "Mecano"
          ],
          [
           "Grace Jones"
          ],
          [
           "Bruno Mars"
          ],
          [
           "Nena"
          ],
          [
           "Ed Sheeran"
          ],
          [
           "One Direction"
          ],
          [
           "Dotan"
          ],
          [
           "Band Aid"
          ],
          [
           "James Taylor"
          ],
          [
           "Lewis Capaldi"
          ],
          [
           "Bee Gees"
          ],
          [
           "James Blunt"
          ],
          [
           "ABBA"
          ],
          [
           "Dan Hartman"
          ],
          [
           "Niall Horan"
          ],
          [
           "Ed Sheeran"
          ],
          [
           "Whitney Houston"
          ],
          [
           "P!nk"
          ],
          [
           "Dolly Dots"
          ],
          [
           "Hans de Booij"
          ],
          [
           "Lionel Richie"
          ],
          [
           "John Mayer"
          ],
          [
           "Elton John"
          ],
          [
           "John Denver"
          ],
          [
           "Kate Bush"
          ],
          [
           "Dua Lipa ft. DaBaby"
          ],
          [
           "The Cats"
          ],
          [
           "Elton John"
          ],
          [
           "Lukas Graham"
          ],
          [
           "Natasha Bedingfield"
          ],
          [
           "Youssou N'Dour & Neneh Cherry"
          ],
          [
           "Maarten Van Roozendaal"
          ],
          [
           "George Michael"
          ],
          [
           "Ryan Paris"
          ],
          [
           "Coldplay"
          ],
          [
           "Boney M."
          ],
          [
           "Ronan Keating"
          ],
          [
           "Roy Orbison"
          ],
          [
           "Frankie Goes To Hollywood"
          ],
          [
           "Neil Diamond"
          ],
          [
           "Mika"
          ],
          [
           "ABBA"
          ],
          [
           "Bee Gees"
          ],
          [
           "Herbert Grönemeyer"
          ],
          [
           "Michael Jackson"
          ],
          [
           "Michael Jackson"
          ],
          [
           "James Blunt"
          ],
          [
           "Bee Gees"
          ],
          [
           "Coldplay"
          ],
          [
           "Whitney Houston"
          ],
          [
           "Bee Gees"
          ],
          [
           "Cyndi Lauper"
          ],
          [
           "P!nk"
          ],
          [
           "Black"
          ],
          [
           "Carpenters"
          ],
          [
           "Whitney Houston"
          ],
          [
           "Tom Jones"
          ],
          [
           "Madonna"
          ],
          [
           "Tina Turner"
          ],
          [
           "George Michael"
          ],
          [
           "Suzanne Vega"
          ],
          [
           "Jason Mraz"
          ],
          [
           "Madonna"
          ],
          [
           "James Taylor"
          ],
          [
           "Michael Jackson"
          ],
          [
           "Billy Ocean"
          ],
          [
           "Matthew Wilder"
          ],
          [
           "Peter Gabriel"
          ],
          [
           "Tears For Fears"
          ],
          [
           "The Weather Girls"
          ],
          [
           "P!nk"
          ],
          [
           "Lorde"
          ],
          [
           "Eurythmics"
          ],
          [
           "Patrick Hernandez"
          ],
          [
           "Suzan & Freek"
          ],
          [
           "Coldplay"
          ],
          [
           "Dido"
          ],
          [
           "Lady Gaga"
          ],
          [
           "Michael Jackson"
          ],
          [
           "De Kast"
          ],
          [
           "Justin Bieber"
          ],
          [
           "Madonna"
          ],
          [
           "Davina Michelle"
          ],
          [
           "Bruno Mars"
          ],
          [
           "Bruno Mars"
          ],
          [
           "Billie Eilish"
          ],
          [
           "Jason Mraz"
          ],
          [
           "Bette Midler"
          ],
          [
           "John Mayer"
          ],
          [
           "Cyndi Lauper"
          ],
          [
           "Chris Rea"
          ],
          [
           "Paul Young"
          ],
          [
           "Bee Gees"
          ],
          [
           "Eros Ramazzotti"
          ],
          [
           "Ed Sheeran"
          ],
          [
           "George Ezra"
          ],
          [
           "Jacques Brel"
          ],
          [
           "Tanita Tikaram"
          ],
          [
           "Calum Scott"
          ],
          [
           "Coldplay"
          ],
          [
           "Michael Jackson"
          ],
          [
           "Twarres"
          ],
          [
           "Clouseau"
          ],
          [
           "Robbie Williams"
          ],
          [
           "Backstreet Boys"
          ],
          [
           "Britney Spears"
          ],
          [
           "Bruno Mars"
          ],
          [
           "Robbie Williams"
          ],
          [
           "Frankie Goes To Hollywood"
          ],
          [
           "Ed Sheeran & Justin Bieber"
          ],
          [
           "Adele"
          ],
          [
           "George Ezra"
          ],
          [
           "Rihanna ft. Mikky Ekko"
          ],
          [
           "Toploader"
          ],
          [
           "George Michael"
          ],
          [
           "Boney M."
          ],
          [
           "Neil Diamond"
          ],
          [
           "Ava Max"
          ],
          [
           "Coldplay"
          ],
          [
           "Santa Esmeralda"
          ],
          [
           "Roy Orbison"
          ],
          [
           "Tina Turner"
          ],
          [
           "A-Ha"
          ],
          [
           "Barbra Streisand"
          ],
          [
           "Barbra Streisand"
          ],
          [
           "One Direction"
          ],
          [
           "Annie Lennox"
          ],
          [
           "Tones And I"
          ],
          [
           "John Mayer"
          ],
          [
           "Tom Jones"
          ],
          [
           "Eurythmics"
          ],
          [
           "Miley Cyrus"
          ],
          [
           "George Michael"
          ],
          [
           "Blaudzun"
          ]
         ],
         "hovertemplate": "<b>%{hovertext}</b><br><br>Supersupergenre=Pop<br>Year of release=%{x}<br>Position=%{y}<br>Artist=%{customdata[0]}<extra></extra>",
         "hovertext": [
          "Fix You",
          "Shallow",
          "Viva La Vida",
          "Dancing Queen",
          "Iron Sky",
          "The Scientist",
          "Angels",
          "Belfast Child",
          "Clocks",
          "Yellow",
          "Someone Like You",
          "The Winner Takes It All",
          "Billie Jean",
          "Your Song",
          "Wuthering Heights",
          "Sweet Caroline",
          "Rolling In The Deep",
          "A Sky Full Of Stars",
          "Jeanny",
          "Careless Whisper",
          "Skyfall",
          "Gotta Catch 'M All (Pokemon Theme Song)",
          "Perfect",
          "Don't You (Forget About Me)",
          "Rocket Man",
          "Earth Song",
          "Ne Me Quitte Pas",
          "Always Remember Us This Way",
          "Make You Feel My Love",
          "Gimme Gimme Gimme",
          "Hello",
          "Atemlos Durch Die Nacht",
          "Thriller",
          "Another Love",
          "Oude Maasweg",
          "Guaranteed",
          "The Rose",
          "Society",
          "When We Were Young",
          "Leave The Light On",
          "Arcade",
          "Man In The Mirror",
          "Vincent",
          "Chiquitita",
          "The Day Before You Came",
          "I'm Still Standing",
          "Don't Let The Sun Go Down On Me",
          "Take Me Home, Country Roads",
          "The Man With The Child In His Eyes",
          "Don't Give Up",
          "Mamma Mia",
          "Thank You For The Music",
          "Ain't No Sunshine",
          "Eagle",
          "Lay All Your Love On Me",
          "Laat Me/Vivre",
          "Take On Me",
          "Holiday In Spain",
          "Solsbury Hill",
          "Waterloo",
          "99 Luftballons",
          "Set Fire To The Rain",
          "Bad Guy",
          "Beat It",
          "Non, Je Ne Regrette Rien",
          "De Overkant",
          "Als Het Avond Is",
          "Jesus To A Child",
          "Last Christmas",
          "Annie's Song",
          "I Am... I Said",
          "Take Me To Church",
          "I See Fire",
          "Does Your Mother Know",
          "Alive And Kicking",
          "Everybody Wants To Rule The World",
          "Smooth Criminal",
          "They Don't Care About Us",
          "Sweet Dreams (Are Made Of This)",
          "Easy on me",
          "Hald Mich 's Vas",
          "Stayin' Alive",
          "Shape Of You",
          "Never Gonna Give You Up",
          "Thinking Out Loud",
          "Halt Mich",
          "The Power Of Love",
          "Total Eclipse Of The Heart",
          "Leaving On A Jet Plane",
          "Duurt Te Lang",
          "American Pie",
          "Why Tell Me Why",
          "Paradise",
          "Wrong",
          "She",
          "Million Years Ago",
          "I Feel Love",
          "Father Figure",
          "Cowboys And Angels",
          "Running Up That Hill",
          "Freedom! '90",
          "Castle On The Hill",
          "Cloudbusting",
          "A Different Corner",
          "Voulez-Vous",
          "One Step Beyond",
          "Video Games",
          "Baker Street",
          "Tiny Dancer",
          "Dirty Diana",
          "The Best",
          "What About Us",
          "Blauwe Dag",
          "Morning Has Broken",
          "One Way Wind",
          "I Have A Dream",
          "Slow Dancing In A Burning Room",
          "Take A Chance On Me",
          "Everything I Wanted",
          "Driving Home For Christmas",
          "Der Weg",
          "Happy New Year",
          "Nikita",
          "Faith",
          "How Deep Is Your Love",
          "In The Blood",
          "Feel",
          "Through The Barricades",
          "Voilà",
          "Waterfront",
          "Lea",
          "The A Team",
          "Circle Of Life",
          "Gravity",
          "Heal The World",
          "Fernando",
          "Ben",
          "Year Of The Cat",
          "Happy",
          "I Will Always Love You",
          "Hier Kom Ik Weg",
          "Beautiful Noise",
          "Hard Sun",
          "Links Rechts",
          "Woman In Chains",
          "Chasing Pavements",
          "Nothing Rhymed",
          "Zij Maakt Het Verschil",
          "Private Dancer",
          "Flink Zijn",
          "Lemon Tree",
          "Let Me Entertain You",
          "Try",
          "Zelfs Je Naam Is Mooi",
          "Knowing Me, Knowing You",
          "Candle In The Wind 1997",
          "Going To A Town",
          "Super Trouper",
          "Goodbye Yellow Brick Road",
          "Musica È",
          "Daughters",
          "One Of Us",
          "You're The First, The Last, My Everything",
          "Father And Son",
          "I Will Survive",
          "Tinseltown In The Rain",
          "Son Of A Preacher Man",
          "Black Or White",
          "Story Of My Life",
          "I Want You",
          "Prachtig Mooie Dag",
          "9 Crimes",
          "Hallelujah",
          "Heaven Must Be Missing An Angel",
          "All I Want For Christmas Is You",
          "Listen To Your Heart",
          "Hometown Glory",
          "Mr. Bojangles",
          "Anyplace, Anywhere, Anytime",
          "Easy Lover",
          "I Want It That Way",
          "Photograph",
          "The Lady In Red",
          "Like A Prayer",
          "Everglow",
          "New Gold Dream (81-82-83-84)",
          "Porcelain",
          "Shout",
          "Can't Stop The Feeling!",
          "Our House",
          "Gold",
          "Someone You Loved",
          "Daar Gaat Ze",
          "Turning Tables",
          "State Of Independence",
          "Rasputin",
          "Killer/Papa Was A Rollin' Stone",
          "In Nije Dei",
          "Beautiful People",
          "Afterglow",
          "Non Non Rien n'a Changé",
          "More Than A Woman",
          "17 Miljoen Mensen",
          "You",
          "Marian",
          "You're The Voice",
          "Mijn Houten Hart",
          "True Colors",
          "All I Ask",
          "Words",
          "You're So Vain",
          "You Say",
          "S.O.S.",
          "Don't Go Breaking My Heart",
          "Free Fallin' (Live)",
          "Top Of The World",
          "Supermarket Flowers",
          "Someone Somewhere In Summertime",
          "Cose Della Vita",
          "Night Boat To Cairo",
          "Wake Me Up Before You Go-Go",
          "Magic",
          "Woman In Love",
          "I Wanna Dance With Somebody (Who Loves Me)",
          "Tragedy",
          "Wannabe",
          "Lovely Day",
          "It Must Have Been Love",
          "Rumour Has It",
          "Calypso",
          "Trouble",
          "Walking In Memphis",
          "Mijn Vlakke Land",
          "Why Does My Heart Feel So Bad",
          "September Morn'",
          "Praying For Time",
          "I Knew You Were Waiting (For Me)",
          "Verdammt Ich Lieb' Dich",
          "MacArthur Park",
          "Water Under The Bridge",
          "The Way You Make Me Feel",
          "L.A. Song",
          "Weg Van Jou",
          "Ich Bin Wie Du",
          "Massachusetts",
          "Broken Wings",
          "Christmas Lights",
          "Mad World",
          "Dog Days Are Over",
          "The Name Of The Game",
          "Sowing The Seeds Of Love",
          "Baggy Trousers",
          "Hello",
          "Memory",
          "Scarlet Ribbons",
          "Human Nature",
          "Night Fever",
          "Eternal Flame",
          "Born This Way",
          "Hurt",
          "Frozen",
          "Don't Stop 'Til You Get Enough",
          "The Promise You Made",
          "Sledgehammer",
          "When I Was Your Man",
          "Cambodia",
          "Adventure Of A Lifetime",
          "It's All Coming Back To Me",
          "Eloise",
          "Can You Feel The Love Tonight",
          "Euphoria",
          "Bad",
          "Fairytale Of New York",
          "New Light",
          "Kalverliefde",
          "Beat Me",
          "My Heart Will Go On",
          "Hymn For The Weekend",
          "Mirrors",
          "Biko",
          "Club Tropicana",
          "As",
          "Galway Girl",
          "Bad Romance",
          "La Solitudine",
          "In Dreams",
          "Hijo De La Luna",
          "La Vie En Rose",
          "24K Magic",
          "Nur Geträumt",
          "Happier",
          "Best Song Ever",
          "Home",
          "Do They Know It's Christmas",
          "You've Got A Friend",
          "Before You Go",
          "To Love Somebody",
          "Goodbye My Lover",
          "Money Money Money",
          "Relight My Fire",
          "This Town",
          "Bad Habits",
          "Greatest Love Of All",
          "Raise Your Glass",
          "Love Me Just A Little Bit More (Totally Hooked On You)",
          "Annabel",
          "All Night Long (All Night)",
          "Waiting On The World To Change",
          "Sorry Seems To Be The Hardest Word",
          "Thank God I'm A Country Boy",
          "Babooshka",
          "Levitating",
          "Times Were When",
          "Daniel",
          "7 Years",
          "Unwritten",
          "7 Seconds",
          "Red Mij Niet",
          "You Have Been Loved",
          "Dolce Vita",
          "Speed Of Sound",
          "Rivers Of Babylon",
          "When You Say Nothing At All",
          "Oh, Pretty Woman",
          "Relax",
          "Love On The Rocks",
          "Grace Kelly",
          "Summer Night City",
          "I Started A Joke",
          "Mensch",
          "Wanna Be Startin' Somethin'",
          "Off The Wall",
          "You're Beautiful",
          "Nights On Broadway",
          "Talk",
          "One Moment In Time",
          "Spicks And Specks",
          "Time After Time",
          "Dear Mr. President",
          "Wonderful Life",
          "(They Long To Be) Close To You",
          "I Have Nothing",
          "Green Green Grass Of Home",
          "Vogue",
          "What's Love Got To Do With It",
          "One More Try",
          "Luka",
          "I Won't Give Up",
          "Live To Tell",
          "Fire And Rain",
          "Rock With You",
          "Love Really Hurts Without You",
          "Break My Stride",
          "In Your Eyes",
          "Mad World",
          "It's Raining Men",
          "Family Portrait",
          "Royals",
          "There Must Be An Angel (Playing With My Heart)",
          "Born To Be Alive",
          "Goud",
          "Every Teardrop Is A Waterfall",
          "White Flag",
          "Poker Face",
          "Will You Be There",
          "Hart Van Mijn Gevoel",
          "Love Yourself",
          "La Isla Bonita",
          "Skyward",
          "Just The Way You Are",
          "Locked Out Of Heaven",
          "Happier Than Ever",
          "I'm Yours",
          "Beast Of Burden",
          "Last Train Home",
          "Girls Just Want To Have Fun",
          "Josephine",
          "Love Of The Common People",
          "You Win Again",
          "Se Bastasse Una Canzone",
          "Lego House",
          "Budapest",
          "Voir Un Ami Pleurer",
          "Twist In My Sobriety",
          "Dancing On My Own",
          "In My Place",
          "Stranger In Moscow",
          "Wer Bisto",
          "Domino",
          "She's The One",
          "Everybody (Backstreet's Back)",
          "Toxic",
          "Grenade",
          "The Road To Mandalay",
          "Two Tribes",
          "I Don't Care",
          "Send My Love (To Your New Lover)",
          "Shotgun",
          "Stay",
          "Dancing In The Moonlight",
          "I Can't Make You Love Me",
          "Daddy Cool",
          "Song Sung Blue",
          "Kings & Queens",
          "Green Eyes",
          "Don't Let Me Be Misunderstood",
          "You Got It",
          "We Don't Need Another Hero",
          "Hunting High And Low",
          "Papa Can You Hear Me?",
          "The Way We Were",
          "One Way Or Another (Teenage Kicks)",
          "Why",
          "Dance Monkey",
          "Heartbreak Warfare",
          "It's Not Unusual",
          "Here Comes The Rain Again",
          "Midnight Sky",
          "Kissing A Fool",
          "Promises Of No Man's Land"
         ],
         "legendgroup": "Pop",
         "marker": {
          "color": "#ab63fa",
          "symbol": "circle"
         },
         "mode": "markers",
         "name": "Pop",
         "showlegend": true,
         "type": "scattergl",
         "x": [
          2005,
          2018,
          2008,
          1976,
          2014,
          2002,
          1998,
          1989,
          2003,
          2000,
          2011,
          1980,
          1983,
          1971,
          1978,
          1969,
          2010,
          2014,
          1986,
          1984,
          2012,
          1997,
          2017,
          1985,
          1972,
          1995,
          1959,
          2019,
          2008,
          1979,
          2015,
          2013,
          1983,
          2012,
          1982,
          2007,
          1980,
          2007,
          2015,
          2004,
          2019,
          1988,
          1972,
          1979,
          1982,
          1983,
          1991,
          1971,
          1978,
          1986,
          1975,
          1978,
          1971,
          1978,
          1980,
          2005,
          1985,
          2004,
          1977,
          1974,
          1983,
          2011,
          2019,
          1983,
          1961,
          2020,
          2018,
          1996,
          1984,
          1976,
          1971,
          2014,
          2014,
          1979,
          1985,
          1985,
          1988,
          1996,
          1983,
          2021,
          2004,
          1978,
          2017,
          1987,
          2014,
          1988,
          1984,
          1983,
          1969,
          2018,
          1972,
          1981,
          2011,
          1999,
          1999,
          2016,
          1977,
          1988,
          1991,
          1985,
          1990,
          2017,
          1985,
          1986,
          1979,
          1979,
          2011,
          1978,
          1971,
          1987,
          1989,
          2017,
          2019,
          1972,
          1971,
          1979,
          2006,
          1977,
          2019,
          1986,
          2002,
          1980,
          1985,
          1987,
          1977,
          2017,
          2002,
          1986,
          2021,
          1983,
          1968,
          2011,
          1994,
          2006,
          1992,
          1975,
          1972,
          1977,
          2013,
          1992,
          2008,
          1976,
          2007,
          2015,
          1989,
          2008,
          1971,
          2001,
          1984,
          1977,
          1996,
          1998,
          2012,
          1998,
          1977,
          1997,
          2007,
          1980,
          1973,
          1989,
          2005,
          1981,
          1974,
          1971,
          1979,
          1984,
          1968,
          1991,
          2013,
          1986,
          2011,
          2006,
          2009,
          1976,
          1994,
          1989,
          2009,
          2001,
          2003,
          1985,
          1999,
          2015,
          1986,
          1989,
          2015,
          1982,
          1999,
          1985,
          2016,
          1982,
          1983,
          2019,
          1990,
          2011,
          1982,
          1978,
          1993,
          1997,
          1969,
          2020,
          1971,
          1977,
          2020,
          1991,
          1969,
          1987,
          1999,
          1986,
          2015,
          1968,
          1973,
          2019,
          1975,
          1976,
          2008,
          1973,
          2017,
          1982,
          1998,
          1980,
          1984,
          2014,
          1980,
          1987,
          1979,
          1996,
          1978,
          1990,
          2011,
          1975,
          2000,
          1991,
          1965,
          1999,
          1979,
          1990,
          1987,
          1990,
          1978,
          2016,
          1987,
          1999,
          2020,
          1976,
          1967,
          1986,
          2010,
          2003,
          2009,
          1977,
          1989,
          1980,
          1984,
          1982,
          1969,
          1983,
          1978,
          1989,
          2011,
          2006,
          1998,
          1979,
          1986,
          1986,
          2013,
          1981,
          2015,
          1996,
          1968,
          1994,
          2012,
          1987,
          1987,
          2018,
          1974,
          2020,
          1998,
          2015,
          2013,
          1980,
          1983,
          1999,
          2017,
          2009,
          1993,
          1963,
          1990,
          1977,
          2016,
          1983,
          2017,
          2013,
          2014,
          1984,
          1971,
          2019,
          1967,
          2005,
          1976,
          1980,
          2016,
          2021,
          1986,
          2010,
          1983,
          1983,
          1983,
          2006,
          1976,
          1975,
          1980,
          2020,
          1968,
          1973,
          2015,
          2004,
          1994,
          2001,
          1997,
          1983,
          2005,
          1978,
          1999,
          1964,
          1984,
          1980,
          2007,
          1978,
          1969,
          2003,
          1983,
          1979,
          2005,
          1975,
          2005,
          1988,
          1967,
          1984,
          2006,
          1987,
          1970,
          1993,
          1966,
          1990,
          1984,
          1988,
          1987,
          2012,
          1986,
          1970,
          1979,
          1976,
          1984,
          1986,
          1983,
          1983,
          2002,
          2013,
          1985,
          1979,
          2021,
          2011,
          2003,
          2009,
          1993,
          1999,
          2016,
          1987,
          2019,
          2010,
          2012,
          2021,
          2008,
          1984,
          2021,
          1984,
          1985,
          1984,
          1987,
          1990,
          2012,
          2014,
          1961,
          1988,
          2016,
          2002,
          1996,
          2000,
          1990,
          1999,
          1997,
          2004,
          2010,
          2001,
          1984,
          2019,
          2016,
          2018,
          2013,
          2000,
          1997,
          1976,
          1972,
          2020,
          2002,
          1977,
          1989,
          1985,
          1986,
          1983,
          1973,
          2013,
          1992,
          2019,
          2009,
          1965,
          1983,
          2020,
          1988,
          2014
         ],
         "xaxis": "x",
         "y": [
          11,
          38,
          43,
          44,
          70,
          72,
          92,
          104,
          116,
          118,
          124,
          133,
          136,
          137,
          139,
          144,
          145,
          148,
          151,
          160,
          164,
          165,
          172,
          173,
          177,
          182,
          188,
          190,
          191,
          194,
          196,
          204,
          213,
          221,
          223,
          227,
          228,
          232,
          238,
          248,
          251,
          254,
          261,
          264,
          279,
          286,
          288,
          294,
          306,
          308,
          315,
          322,
          323,
          324,
          326,
          328,
          330,
          342,
          347,
          348,
          350,
          361,
          362,
          363,
          372,
          381,
          390,
          391,
          398,
          415,
          432,
          436,
          438,
          442,
          444,
          445,
          448,
          452,
          455,
          457,
          459,
          470,
          473,
          481,
          492,
          504,
          505,
          506,
          511,
          518,
          522,
          525,
          529,
          535,
          548,
          551,
          554,
          563,
          572,
          576,
          581,
          585,
          587,
          588,
          590,
          591,
          593,
          599,
          600,
          610,
          615,
          623,
          625,
          627,
          628,
          632,
          637,
          639,
          642,
          647,
          652,
          658,
          660,
          661,
          663,
          665,
          668,
          671,
          678,
          679,
          680,
          683,
          686,
          687,
          692,
          696,
          704,
          711,
          712,
          714,
          717,
          721,
          725,
          732,
          736,
          739,
          749,
          752,
          754,
          770,
          772,
          782,
          783,
          788,
          790,
          791,
          793,
          803,
          811,
          815,
          816,
          817,
          818,
          827,
          835,
          840,
          843,
          846,
          848,
          849,
          850,
          857,
          864,
          876,
          879,
          882,
          884,
          885,
          894,
          904,
          907,
          909,
          911,
          916,
          917,
          919,
          923,
          943,
          948,
          951,
          953,
          954,
          957,
          959,
          962,
          964,
          974,
          976,
          980,
          981,
          990,
          993,
          1003,
          1007,
          1009,
          1016,
          1019,
          1040,
          1049,
          1054,
          1065,
          1066,
          1071,
          1072,
          1074,
          1079,
          1081,
          1088,
          1092,
          1097,
          1118,
          1121,
          1126,
          1128,
          1130,
          1132,
          1134,
          1136,
          1137,
          1139,
          1148,
          1149,
          1157,
          1160,
          1161,
          1163,
          1166,
          1168,
          1171,
          1173,
          1179,
          1180,
          1181,
          1184,
          1204,
          1207,
          1211,
          1214,
          1224,
          1231,
          1232,
          1233,
          1239,
          1252,
          1253,
          1259,
          1260,
          1264,
          1265,
          1270,
          1303,
          1307,
          1311,
          1313,
          1317,
          1320,
          1334,
          1337,
          1340,
          1343,
          1344,
          1347,
          1349,
          1354,
          1357,
          1373,
          1375,
          1376,
          1381,
          1385,
          1386,
          1390,
          1393,
          1394,
          1401,
          1407,
          1409,
          1412,
          1419,
          1421,
          1422,
          1423,
          1436,
          1438,
          1439,
          1442,
          1452,
          1465,
          1475,
          1478,
          1481,
          1483,
          1493,
          1505,
          1506,
          1514,
          1516,
          1519,
          1522,
          1537,
          1538,
          1539,
          1540,
          1541,
          1545,
          1550,
          1552,
          1554,
          1556,
          1560,
          1561,
          1562,
          1566,
          1569,
          1578,
          1583,
          1586,
          1587,
          1588,
          1592,
          1595,
          1597,
          1601,
          1602,
          1609,
          1612,
          1628,
          1633,
          1638,
          1640,
          1643,
          1645,
          1646,
          1654,
          1655,
          1661,
          1668,
          1677,
          1685,
          1690,
          1697,
          1700,
          1712,
          1715,
          1720,
          1723,
          1724,
          1731,
          1736,
          1742,
          1752,
          1754,
          1757,
          1764,
          1765,
          1772,
          1773,
          1788,
          1791,
          1806,
          1807,
          1808,
          1809,
          1810,
          1811,
          1815,
          1817,
          1819,
          1821,
          1822,
          1823,
          1829,
          1830,
          1831,
          1835,
          1837,
          1841,
          1843,
          1850,
          1852,
          1862,
          1863,
          1864,
          1866,
          1880,
          1889,
          1893,
          1896,
          1900,
          1905,
          1908,
          1910,
          1915,
          1918,
          1922,
          1926,
          1927,
          1935,
          1945,
          1947,
          1949,
          1954,
          1962,
          1966,
          1973,
          1976,
          1987,
          1994,
          1999,
          2000
         ],
         "yaxis": "y"
        },
        {
         "customdata": [
          [
           "Prince & The Revolution"
          ],
          [
           "Michael Kiwanuka"
          ],
          [
           "Amy Winehouse"
          ],
          [
           "Eric Clapton"
          ],
          [
           "Otis Redding"
          ],
          [
           "The Weeknd"
          ],
          [
           "Ike & Tina Turner"
          ],
          [
           "Gary Moore"
          ],
          [
           "Frank Sinatra"
          ],
          [
           "Chef'Special"
          ],
          [
           "Prince & The Revolution"
          ],
          [
           "Eric Clapton"
          ],
          [
           "Rag'n'Bone Man"
          ],
          [
           "Chef'Special"
          ],
          [
           "Ike & Tina Turner"
          ],
          [
           "Aretha Franklin"
          ],
          [
           "Eric Clapton"
          ],
          [
           "Marvin Gaye"
          ],
          [
           "Seal"
          ],
          [
           "Mark Ronson ft. Amy Winehouse"
          ],
          [
           "John Legend"
          ],
          [
           "Louis Armstrong"
          ],
          [
           "Amy Winehouse"
          ],
          [
           "The Temptations"
          ],
          [
           "Prince & The Revolution"
          ],
          [
           "Aretha Franklin"
          ],
          [
           "Mark Ronson ft. Bruno Mars"
          ],
          [
           "Stevie Wonder"
          ],
          [
           "Cream"
          ],
          [
           "Eva Cassidy"
          ],
          [
           "Beyoncé"
          ],
          [
           "Nina Simone"
          ],
          [
           "Aretha Franklin"
          ],
          [
           "Frank Sinatra"
          ],
          [
           "Prince"
          ],
          [
           "The Righteous Brothers"
          ],
          [
           "Derek & The Dominos"
          ],
          [
           "Prince"
          ],
          [
           "The Weeknd"
          ],
          [
           "Aretha Franklin"
          ],
          [
           "The Teskey Brothers"
          ],
          [
           "Frank Sinatra"
          ],
          [
           "Amy Winehouse"
          ],
          [
           "John Hiatt"
          ],
          [
           "Prince & The Revolution"
          ],
          [
           "Ben E. King"
          ],
          [
           "Blues Brothers"
          ],
          [
           "Amy Winehouse"
          ],
          [
           "Michael Kiwanuka"
          ],
          [
           "Gladys Knight & The Pips"
          ],
          [
           "Etta James"
          ],
          [
           "Prince & The Revolution"
          ],
          [
           "Nina Simone"
          ],
          [
           "Teskey Brothers"
          ],
          [
           "Paolo Conte"
          ],
          [
           "Stevie Wonder"
          ],
          [
           "The Trammps"
          ],
          [
           "Amy Winehouse"
          ],
          [
           "Sade"
          ],
          [
           "Portishead"
          ],
          [
           "Dave Brubeck Quartet"
          ],
          [
           "Sam Cooke"
          ],
          [
           "Stevie Ray Vaughan"
          ],
          [
           "Prince"
          ],
          [
           "Prince & The Revolution"
          ],
          [
           "Ike & Tina Turner"
          ],
          [
           "Michael Bublé"
          ],
          [
           "B.B. King"
          ],
          [
           "Bill Withers & Grover Washington, Jr."
          ],
          [
           "Tom Waits"
          ],
          [
           "Eric Clapton"
          ],
          [
           "Katie Melua"
          ],
          [
           "The Black Crowes"
          ],
          [
           "Marvin Gaye"
          ],
          [
           "Alain Clark"
          ],
          [
           "Xavier Rudd"
          ],
          [
           "Stevie Wonder"
          ],
          [
           "Roberta Flack"
          ],
          [
           "Labi Siffre"
          ],
          [
           "Etta James"
          ],
          [
           "Marvin Gaye"
          ],
          [
           "Chef'Special"
          ],
          [
           "J.J. Cale"
          ],
          [
           "Level 42"
          ],
          [
           "Stevie Wonder"
          ],
          [
           "Frank Sinatra"
          ],
          [
           "Michael Kiwanuka"
          ],
          [
           "Seal"
          ],
          [
           "Ella Fitzgerald & Louis Armstrong"
          ],
          [
           "Black Pumas"
          ],
          [
           "Caro Emerald"
          ],
          [
           "Chef'Special"
          ],
          [
           "The Robert Cray Band"
          ],
          [
           "Norah Jones"
          ],
          [
           "Muddy Waters"
          ],
          [
           "Nina Simone"
          ],
          [
           "Otis Redding"
          ],
          [
           "Womack & Womack"
          ],
          [
           "J.J. Cale"
          ],
          [
           "The Weeknd"
          ],
          [
           "Sammy Davis Jr."
          ],
          [
           "J.J. Cale"
          ],
          [
           "The Black Crowes"
          ],
          [
           "Marvin Gaye & Tammi Terrell"
          ],
          [
           "Khruangbin & Leon Bridges"
          ],
          [
           "Stevie Wonder"
          ],
          [
           "Beyoncé"
          ],
          [
           "Bonnie Raitt"
          ],
          [
           "Sam Cooke"
          ],
          [
           "Curtis Mayfield"
          ],
          [
           "Jamiroquai"
          ],
          [
           "Eva Cassidy"
          ],
          [
           "Prince"
          ],
          [
           "Norah Jones"
          ],
          [
           "Rufus & Chaka Khan"
          ],
          [
           "Eric Clapton"
          ],
          [
           "Gregory Porter"
          ],
          [
           "Frank Zappa"
          ],
          [
           "Prince"
          ],
          [
           "Blackstreet ft. Dr Dre"
          ],
          [
           "Solomon Burke & De Dijk"
          ],
          [
           "Frank Sinatra"
          ],
          [
           "Silk Sonic"
          ],
          [
           "Prince & The New Power Generation"
          ],
          [
           "John Legend"
          ],
          [
           "Michael Bublé"
          ],
          [
           "Otis Redding"
          ],
          [
           "Percy Sledge"
          ],
          [
           "James Brown"
          ],
          [
           "James Brown"
          ],
          [
           "Level 42"
          ],
          [
           "Shirley Bassey"
          ],
          [
           "Beyoncé"
          ],
          [
           "Marvin Gaye"
          ],
          [
           "Al Green"
          ],
          [
           "Beyoncé & Jay-Z"
          ],
          [
           "Cream"
          ]
         ],
         "hovertemplate": "<b>%{hovertext}</b><br><br>Supersupergenre=Jazz, Blues & Soul<br>Year of release=%{x}<br>Position=%{y}<br>Artist=%{customdata[0]}<extra></extra>",
         "hovertext": [
          "Purple Rain",
          "Cold Little Heart",
          "Back To Black",
          "Tears In Heaven",
          "(Sittin' On) The Dock Of The Bay",
          "Blinding Lights",
          "Proud Mary",
          "Still Got The Blues",
          "My Way",
          "In Your Arms",
          "When Doves Cry",
          "Layla (Unplugged)",
          "Human",
          "Amigo",
          "River Deep Mountain High",
          "Respect",
          "Wonderful Tonight",
          "What's Going On",
          "Kiss From A Rose",
          "Valerie",
          "All Of Me",
          "What A Wonderful World",
          "Rehab",
          "Papa Was A Rolling Stone",
          "Sometimes It Snows In April",
          "I Say A Little Prayer",
          "Uptown Funk",
          "Superstition",
          "White Room",
          "Fields Of Gold",
          "Halo",
          "Ain't Got No, I Got Life (Original)",
          "(You Make Me Feel Like A) Natural Woman",
          "Fly Me To The Moon",
          "1999",
          "Unchained Melody",
          "Layla",
          "Sign 'O' The Times",
          "Save Your Tears",
          "Think (Blues Brothers Version)",
          "Pain And Misery",
          "That's Life",
          "You Know I'm No Good",
          "Have A Little Faith In Me",
          "Raspberry Beret",
          "Stand By Me",
          "Everybody Needs Somebody To Love",
          "Tears Dry On Their Own",
          "Love And Hate",
          "Midnight Train To Georgia",
          "At Last",
          "I Would Die 4 U",
          "Feeling Good",
          "Hold Me",
          "Max",
          "Isn't She Lovely",
          "Disco Inferno",
          "Love Is A Losing Game",
          "Smooth Operator",
          "Glory Box",
          "Take Five",
          "A Change Is Gonna Come",
          "Pride And Joy",
          "Let's Go Crazy",
          "Kiss",
          "Nutbush City Limits",
          "Feeling Good",
          "The Thrill Is Gone",
          "Just The Two Of Us",
          "Tom Traubert's Blues (Waltzing Mathilda)",
          "Cocaine",
          "Nine Million Bicycles",
          "Remedy",
          "I Heard It Through The Grapevine",
          "Father & Friend",
          "Follow The Sun",
          "I Wish",
          "The First Time Ever I Saw Your Face",
          "(Something Inside) So Strong",
          "I'd Rather Go Blind",
          "Sexual Healing",
          "Afraid of the dark",
          "After Midnight",
          "Lessons In Love",
          "Sir Duke",
          "Theme From 'New York New York'",
          "Home Again",
          "Crazy",
          "Summertime",
          "Colors",
          "A Night Like This",
          "Nicotine",
          "Right Next Door (Because Of Me)",
          "Sunrise",
          "Mannish Boy",
          "My Baby Just Cares For Me",
          "I've Got Dreams To Remember",
          "Teardrops",
          "Cocaine",
          "In Your Eyes",
          "Mr. Bojangles",
          "Call Me The Breeze",
          "Hard To Handle",
          "Ain't No Mountain High Enough",
          "Texas Sun",
          "Master Blaster (Jammin')",
          "Love On Top",
          "I Can't Make You Love Me",
          "Wonderful World",
          "Move On Up",
          "Virtual Insanity",
          "Songbird",
          "The Cross",
          "Don't Know Why",
          "Ain't Nobody",
          "Forever Man",
          "Liquid Spirit (Claptone Remix)",
          "Dancin' Fool",
          "Gold",
          "No Diggity",
          "Hold On Tight",
          "It Was A Very Good Year",
          "Leave The Door Open",
          "Diamonds And Pearls",
          "Ordinary People",
          "Home",
          "Try A Little Tenderness",
          "When A Man Loves A Woman",
          "Sex Machine",
          "It's A Man's Man's Man's World",
          "Love Games",
          "This Is My Life",
          "Listen",
          "Let's Get It On",
          "Let's Stay Together",
          "Crazy In Love",
          "Sunshine Of Your Love"
         ],
         "legendgroup": "Jazz, Blues & Soul",
         "marker": {
          "color": "#FFA15A",
          "symbol": "circle"
         },
         "mode": "markers",
         "name": "Jazz, Blues & Soul",
         "showlegend": true,
         "type": "scattergl",
         "x": [
          1984,
          2016,
          2007,
          1992,
          1968,
          2019,
          1971,
          1990,
          1969,
          2014,
          1984,
          1992,
          2016,
          2016,
          1966,
          1967,
          1977,
          1971,
          1995,
          2007,
          2013,
          1968,
          2006,
          1972,
          1986,
          1968,
          2014,
          1973,
          1968,
          1996,
          2009,
          1968,
          1967,
          1964,
          1982,
          1965,
          1971,
          1987,
          2020,
          1980,
          2019,
          1966,
          2007,
          1989,
          1985,
          1987,
          1989,
          2007,
          2016,
          1973,
          1960,
          1984,
          1965,
          2019,
          1988,
          1976,
          1977,
          2007,
          1984,
          1994,
          1962,
          1964,
          1983,
          1984,
          1986,
          1974,
          2005,
          1969,
          1981,
          1976,
          1978,
          2005,
          1992,
          1969,
          2008,
          2015,
          1977,
          1972,
          1987,
          1967,
          1982,
          2021,
          1972,
          1986,
          1977,
          1980,
          2012,
          1991,
          1958,
          2019,
          2009,
          2017,
          1987,
          2004,
          1988,
          1987,
          1968,
          1988,
          1976,
          2020,
          1967,
          1972,
          1990,
          1967,
          2019,
          1980,
          2011,
          1991,
          1960,
          1970,
          1996,
          1997,
          1987,
          2002,
          1984,
          1985,
          2015,
          1979,
          1995,
          1996,
          2010,
          1968,
          2021,
          1991,
          2005,
          2005,
          1966,
          1966,
          1970,
          1966,
          1981,
          1979,
          2007,
          1973,
          1971,
          2003,
          1968
         ],
         "xaxis": "x",
         "y": [
          21,
          49,
          56,
          90,
          115,
          156,
          161,
          246,
          307,
          334,
          395,
          404,
          418,
          434,
          440,
          446,
          458,
          467,
          482,
          483,
          489,
          514,
          549,
          564,
          579,
          606,
          609,
          636,
          641,
          655,
          727,
          733,
          744,
          756,
          768,
          769,
          773,
          774,
          805,
          820,
          896,
          938,
          946,
          952,
          955,
          973,
          995,
          1022,
          1028,
          1035,
          1042,
          1044,
          1064,
          1116,
          1142,
          1143,
          1145,
          1172,
          1175,
          1191,
          1194,
          1199,
          1201,
          1203,
          1221,
          1249,
          1251,
          1256,
          1268,
          1274,
          1284,
          1302,
          1312,
          1316,
          1321,
          1331,
          1332,
          1336,
          1359,
          1380,
          1382,
          1395,
          1397,
          1399,
          1427,
          1429,
          1449,
          1462,
          1477,
          1497,
          1525,
          1526,
          1543,
          1547,
          1567,
          1568,
          1575,
          1582,
          1620,
          1627,
          1648,
          1652,
          1660,
          1667,
          1676,
          1679,
          1705,
          1706,
          1707,
          1708,
          1728,
          1737,
          1741,
          1746,
          1751,
          1778,
          1789,
          1801,
          1818,
          1828,
          1842,
          1844,
          1854,
          1872,
          1875,
          1890,
          1907,
          1952,
          1953,
          1955,
          1957,
          1969,
          1977,
          1978,
          1986,
          1992,
          1996
         ],
         "yaxis": "y"
        },
        {
         "customdata": [
          [
           "Eminem"
          ],
          [
           "Bob Marley & The Wailers"
          ],
          [
           "Rammstein"
          ],
          [
           "Rammstein"
          ],
          [
           "De Jeugd Van Tegenwoordig"
          ],
          [
           "Kyteman"
          ],
          [
           "Charles Aznavour"
          ],
          [
           "Rammstein"
          ],
          [
           "Freddie Mercury & Montserrat Caballé"
          ],
          [
           "Stromae"
          ],
          [
           "Diggy Dex ft. JW Roy"
          ],
          [
           "Faithless"
          ],
          [
           "Avicii ft. Aloe Blacc"
          ],
          [
           "The Mamas & The Papas"
          ],
          [
           "Charles Aznavour"
          ],
          [
           "Peter Maffay"
          ],
          [
           "Rammstein"
          ],
          [
           "Michel Fugain"
          ],
          [
           "Bob Marley & The Wailers"
          ],
          [
           "Alphaville"
          ],
          [
           "Underworld"
          ],
          [
           "Peter Fox"
          ],
          [
           "Bob Marley & The Wailers"
          ],
          [
           "Sinéad O'Connor"
          ],
          [
           "Sinéad O'Connor"
          ],
          [
           "Jay-Z & Alicia Keys"
          ],
          [
           "Faithless"
          ],
          [
           "Eminem & Dido"
          ],
          [
           "Stromae"
          ],
          [
           "DJ Paul Elstak"
          ],
          [
           "Doe Maar"
          ],
          [
           "Avicii"
          ],
          [
           "Avicii"
          ],
          [
           "Andrea Bocelli & Giorgia"
          ],
          [
           "Armin van Buuren ft. Kensington"
          ],
          [
           "Buena Vista Social Club"
          ],
          [
           "Gerry & The Pacemakers"
          ],
          [
           "Santana"
          ],
          [
           "Armin van Buuren ft.Trevor Guthrie"
          ],
          [
           "Orchestral Manoeuvres In The Dark"
          ],
          [
           "Andrea Bocelli & Sarah Brightman"
          ],
          [
           "Massive Attack"
          ],
          [
           "UB40"
          ],
          [
           "2Pac"
          ],
          [
           "The Black Eyed Peas"
          ],
          [
           "Talk Talk"
          ],
          [
           "Linkin Park & Jay-Z"
          ],
          [
           "Vangelis"
          ],
          [
           "Coolio"
          ],
          [
           "Charles Aznavour"
          ],
          [
           "Doe Maar"
          ],
          [
           "Rammstein"
          ],
          [
           "Ennio Morricone"
          ],
          [
           "Santana"
          ],
          [
           "Stromae"
          ],
          [
           "Charly Lownoise & Mental Theo"
          ],
          [
           "Santana"
          ],
          [
           "Massive Attack"
          ],
          [
           "Doe Maar"
          ],
          [
           "Doe Maar"
          ],
          [
           "Typhoon"
          ],
          [
           "Beastie Boys"
          ],
          [
           "P!nk ft. Nate Ruess"
          ],
          [
           "David Guetta & Sia"
          ],
          [
           "Peter Schilling"
          ],
          [
           "The Opposites"
          ],
          [
           "UB40"
          ],
          [
           "Eminem"
          ],
          [
           "The Prodigy"
          ],
          [
           "Chi Coltrane"
          ],
          [
           "Amy MacDonald"
          ],
          [
           "Diggy Dex"
          ],
          [
           "The Prodigy"
          ],
          [
           "Andrea Bocelli"
          ],
          [
           "The Black Eyed Peas"
          ],
          [
           "Duran Duran"
          ],
          [
           "Eminem"
          ],
          [
           "Bob Marley & The Wailers"
          ],
          [
           "Tiësto"
          ],
          [
           "Enya"
          ],
          [
           "Soft Cell"
          ],
          [
           "Gigi D'agostino"
          ],
          [
           "Talk Talk"
          ],
          [
           "Carole King"
          ],
          [
           "The Chainsmokers & Coldplay"
          ],
          [
           "Daft Punk ft. Pharrell Williams"
          ],
          [
           "Måneskin"
          ],
          [
           "Yann Tiersen"
          ],
          [
           "Doe Maar"
          ],
          [
           "Doe Maar"
          ],
          [
           "Michel Sardou"
          ],
          [
           "BAP"
          ],
          [
           "Clannad & Bono"
          ],
          [
           "Gilbert Bécaud"
          ],
          [
           "Talk Talk"
          ],
          [
           "Daft Punk"
          ],
          [
           "Macklemore & Ryan Lewis ft. Ray Dalton"
          ],
          [
           "No Doubt"
          ],
          [
           "Enya"
          ],
          [
           "De Jeugd Van Tegenwoordig"
          ],
          [
           "Duran Duran"
          ],
          [
           "Barbra Streisand & Barry Gibb"
          ],
          [
           "DJ Paul Elstak"
          ],
          [
           "Alphaville"
          ],
          [
           "Duran Duran"
          ],
          [
           "Paul Kalkbrenner"
          ],
          [
           "Stromae"
          ],
          [
           "Air"
          ],
          [
           "Bob Marley & The Wailers"
          ],
          [
           "Darude"
          ],
          [
           "Claw Boys Claw"
          ],
          [
           "Fugees"
          ],
          [
           "Dr. Dre ft. Snoop Dogg"
          ],
          [
           "Mr. Probz"
          ],
          [
           "Kraftwerk"
          ],
          [
           "Post Malone"
          ],
          [
           "Robert Miles"
          ],
          [
           "Rammstein"
          ],
          [
           "Lee Towers"
          ],
          [
           "2Pac ft. Dr. Dre"
          ],
          [
           "The Prodigy"
          ],
          [
           "2Pac"
          ],
          [
           "Eminem & Rihanna"
          ],
          [
           "Martin Garrix"
          ],
          [
           "Kanye West & Jay-Z"
          ],
          [
           "Patrick Bruel"
          ],
          [
           "Faithless"
          ],
          [
           "Sugarhill Gang"
          ],
          [
           "UB40"
          ],
          [
           "Beastie Boys"
          ],
          [
           "Talk Talk"
          ],
          [
           "Avicii"
          ],
          [
           "Eminem"
          ],
          [
           "The Prodigy"
          ],
          [
           "Pet Shop Boys"
          ],
          [
           "House Of Pain"
          ],
          [
           "The Human League"
          ],
          [
           "Owl City"
          ],
          [
           "Typhoon"
          ],
          [
           "Doe Maar"
          ],
          [
           "The Communards & Sarah Jane Morris"
          ],
          [
           "Spider Murphy Gang"
          ],
          [
           "Bill Medley & Jennifer Warnes"
          ],
          [
           "Bob Marley & The Wailers"
          ],
          [
           "Karin Bloemen"
          ],
          [
           "Run DMC & Aerosmith"
          ],
          [
           "Tiësto"
          ],
          [
           "Daft Punk"
          ],
          [
           "Peter Frampton"
          ],
          [
           "UB40 & Chrissie Hynde"
          ],
          [
           "Julio Iglesias"
          ],
          [
           "The Weeknd ft. Daft Punk"
          ],
          [
           "Armin van Buuren ft. Josh Cumbee"
          ],
          [
           "Coldplay & Buena Vista Social Club"
          ],
          [
           "Bob Marley & The Wailers"
          ],
          [
           "Alan Walker"
          ],
          [
           "Jean Michel Jarre"
          ],
          [
           "Youp van 't Hek"
          ],
          [
           "Delerium ft. Sarah McLachlan"
          ],
          [
           "Anouk & Douwe Bob"
          ],
          [
           "OutKast"
          ],
          [
           "Bob Marley & The Wailers"
          ],
          [
           "Daft Punk"
          ],
          [
           "Céline Dion & Barbra Streisand"
          ],
          [
           "Notorious B.I.G."
          ],
          [
           "Prodigy"
          ],
          [
           "Santana"
          ],
          [
           "Master KG ft. Nomcebo"
          ],
          [
           "Kendrick Lamar"
          ],
          [
           "Orchestral Manoeuvres In The Dark"
          ],
          [
           "Julien Clerc"
          ],
          [
           "Swedish House Mafia ft. John Martin"
          ],
          [
           "Reinhard Mey"
          ],
          [
           "Party Animals"
          ],
          [
           "Pet Shop Boys"
          ],
          [
           "Emma Heesters & Rolf Sanchez"
          ],
          [
           "Avicii ft. Chris Martin"
          ],
          [
           "OutKast"
          ],
          [
           "Diesel"
          ],
          [
           "Bob Marley & The Wailers"
          ],
          [
           "﻿Electric Light Orchestra"
          ],
          [
           "Eminem"
          ],
          [
           "Santana & Rob Thomas"
          ],
          [
           "Kid Rock"
          ],
          [
           "Fatboy Slim"
          ],
          [
           "Herman Brood & Henny Vrienten"
          ],
          [
           "Snap!"
          ],
          [
           "Eminem & Rihanna"
          ],
          [
           "The Mamas & The Papas"
          ],
          [
           "Doe Maar"
          ],
          [
           "Kraftwerk"
          ],
          [
           "Duran Duran"
          ],
          [
           "Miles Davis"
          ],
          [
           "The Chemical Brothers"
          ]
         ],
         "hovertemplate": "<b>%{hovertext}</b><br><br>Supersupergenre=Other<br>Year of release=%{x}<br>Position=%{y}<br>Artist=%{customdata[0]}<extra></extra>",
         "hovertext": [
          "Lose Yourself",
          "Three Little Birds",
          "Du Hast",
          "Deutschland",
          "Sterrenstof",
          "Sorry",
          "She",
          "Sonne",
          "Barcelona",
          "Formidable",
          "Treur Niet (Ode Aan Het Leven)",
          "Insomnia",
          "Wake Me Up",
          "California Dreamin'",
          "La Bohème",
          "Du",
          "Engel",
          "Une Belle Histoire",
          "Redemption Song",
          "Forever Young",
          "Born Slippy",
          "Haus Am See",
          "No Woman, No Cry (live)",
          "Nothing Compares 2 U",
          "Troy",
          "Empire State Of Mind",
          "God Is A DJ",
          "Stan",
          "Papaoutai",
          "Rainbow In The Sky",
          "Sinds 1 Dag Of 2 (32 Jaar)",
          "Hey Brother",
          "Levels",
          "Vivo Per Lei",
          "Heading Up High",
          "Chan Chan",
          "You'll Never Walk Alone",
          "Samba Pa Ti",
          "This Is What It Feels Like",
          "Maid Of Orleans",
          "Time To Say Goodbye",
          "Unfinished Sympathy",
          "Red Red Wine",
          "Changes",
          "I Gotta Feeling",
          "Such A Shame",
          "Numb/Encore",
          "Conquest Of Paradise",
          "Gangsta's Paradise",
          "Yesterday When I Was Young",
          "De Bom",
          "Mutter",
          "Once Upon A Time In The West",
          "She's Not There",
          "Alors On Danse",
          "Wonderfull Days",
          "Black Magic Woman",
          "Teardrop",
          "Smoorverliefd",
          "Belle Hélène",
          "Zandloper",
          "Sabotage",
          "Just Give Me A Reason",
          "Titanium",
          "Major Tom (Völlig Losgelöst)",
          "Slapeloze Nachten",
          "Kingston Town",
          "Without Me",
          "Firestarter",
          "Go Like Elijah",
          "This Is The Life",
          "De Zon Op",
          "Smack My Bitch Up",
          "Con Te Partiro",
          "Where Is The Love",
          "Ordinary World",
          "Real Slim Shady",
          "Could You Be Loved",
          "Traffic",
          "Only Time",
          "Tainted Love",
          "L'amour Toujours",
          "It's My Life",
          "You've Got A Friend",
          "Something Just Like This",
          "Get Lucky",
          "Zitti E Buoni",
          "Comptine D'un Autre Ete, L'Apres Midi (Amelie)",
          "Is Dit Alles",
          "Nederwiet",
          "Les Lacs Du Connemara",
          "Kristallnaach",
          "In A Lifetime",
          "Nathalie",
          "Life's What You Make It",
          "One More Time",
          "Can't Hold Us",
          "Don't Speak",
          "Orinoco Flow (Sail Away)",
          "Watskeburt?!",
          "The Reflex",
          "Guilty",
          "Luv U More",
          "Big In Japan",
          "Save A Prayer",
          "Sky And Sand",
          "Tous Les Mêmes",
          "All I Need",
          "Stir It Up (live)",
          "Sandstorm",
          "Rosie",
          "Killing Me Softly",
          "The Next Episode",
          "Waves",
          "Autobahn",
          "Circles",
          "Children",
          "Amerika",
          "You'll Never Walk Alone",
          "California Love",
          "Breathe",
          "Dear Mama",
          "Love The Way You Lie",
          "Animals",
          ".. In Paris",
          "Casser La Voix (Live)",
          "We Come 1",
          "﻿Rapper's Delight",
          "Food For Thought",
          "Fight For Your Right (To Party)",
          "Living In Another World",
          "Addicted To You",
          "Cleanin' Out My Closet",
          "No Good (Start The Dance)",
          "It's A Sin",
          "Jump Around",
          "Don't You Want Me",
          "Fireflies",
          "Hemel Valt",
          "Pa",
          "Don't Leave Me This Way",
          "Skandal Im Sperrbezirk",
          "I've Had The Time Of My Life",
          "One Love/People Get Ready",
          "Geen Kind Meer",
          "Walk This Way",
          "The Business",
          "Harder Better Faster Stronger",
          "Show Me The Way",
          "I Got You Babe",
          "Quiero",
          "I Feel It Coming",
          "Sunny Days",
          "Clocks (Rhythms Del Mundo)",
          "Is This Love",
          "Faded",
          "Oxygene IV",
          "Flappie",
          "Silence (Tiesto Mix)",
          "Hold Me",
          "Hey Ya!",
          "Get Up Stand Up",
          "Around The World",
          "Tell Him",
          "Hypnotize",
          "Out Of Space",
          "Europa (Earth's Cry Heaven's Smile)",
          "Jerusalema",
          "King Kunta",
          "Enola Gay",
          "Venise (Elle Voulait Qu'on L'Appelle)",
          "Don't You Worry Child",
          "Gute Nacht Freunde",
          "Have You Ever Been Mellow",
          "West End Girls",
          "Pa Olvidarte",
          "Heaven",
          "Ms. Jackson",
          "Sausolito Summernight",
          "Buffalo Soldier",
          "Can't Get It Out Of My Head",
          "My Name Is",
          "Smooth",
          "All Summer Long",
          "Praise You",
          "Als Je Wint",
          "Rhythm Is A Dancer",
          "The Monster",
          "Monday Monday",
          "1 Nacht Alleen",
          "The Model",
          "Wild Boys",
          "So What",
          "Hey Boy Hey Girl"
         ],
         "legendgroup": "Other",
         "marker": {
          "color": "#19d3f3",
          "symbol": "circle"
         },
         "mode": "markers",
         "name": "Other",
         "showlegend": true,
         "type": "scattergl",
         "x": [
          2002,
          1977,
          1997,
          2019,
          2010,
          2009,
          1974,
          2001,
          1987,
          2013,
          2015,
          1996,
          2013,
          1966,
          1966,
          1971,
          1997,
          1972,
          1980,
          1984,
          1996,
          2009,
          1975,
          1990,
          1987,
          2009,
          1998,
          2000,
          2013,
          1995,
          1981,
          2013,
          2011,
          1996,
          2015,
          1997,
          1963,
          1970,
          2013,
          1982,
          1997,
          1991,
          1983,
          1998,
          2009,
          1984,
          2004,
          1995,
          1995,
          1970,
          1982,
          2001,
          1976,
          1978,
          2010,
          1995,
          1970,
          1998,
          1981,
          1982,
          2014,
          1994,
          2012,
          2011,
          1983,
          2013,
          1990,
          2002,
          1996,
          1973,
          2008,
          2018,
          1997,
          1996,
          2003,
          1993,
          2000,
          1980,
          2003,
          2000,
          1981,
          2001,
          1984,
          1971,
          2017,
          2013,
          2021,
          2001,
          1982,
          1983,
          1982,
          1983,
          1986,
          1964,
          1985,
          2000,
          2012,
          1996,
          1988,
          2005,
          1984,
          1980,
          1995,
          1984,
          1982,
          2008,
          2013,
          1998,
          1979,
          2000,
          1992,
          1996,
          2000,
          2013,
          1975,
          2019,
          1996,
          2004,
          1976,
          1996,
          1996,
          1998,
          2010,
          2013,
          2011,
          1992,
          2001,
          1979,
          1983,
          1986,
          1986,
          2014,
          2002,
          1994,
          1987,
          1992,
          1982,
          2009,
          2015,
          1983,
          1986,
          1982,
          1987,
          1984,
          1996,
          1986,
          2020,
          2001,
          1976,
          1985,
          1976,
          2016,
          2017,
          2006,
          1979,
          2016,
          1977,
          1981,
          1997,
          2014,
          2004,
          1973,
          1997,
          1997,
          1997,
          1993,
          1976,
          2020,
          2015,
          1980,
          1976,
          2012,
          1974,
          1996,
          1986,
          2019,
          2019,
          2001,
          1980,
          1983,
          1975,
          1999,
          2000,
          2008,
          1998,
          1984,
          1992,
          2013,
          1966,
          1983,
          1978,
          1984,
          1959,
          1999
         ],
         "xaxis": "x",
         "y": [
          76,
          123,
          140,
          147,
          149,
          170,
          178,
          186,
          192,
          203,
          210,
          255,
          256,
          266,
          278,
          287,
          292,
          296,
          304,
          310,
          318,
          319,
          336,
          349,
          352,
          358,
          368,
          376,
          410,
          412,
          413,
          420,
          433,
          441,
          461,
          484,
          486,
          508,
          510,
          516,
          530,
          536,
          544,
          555,
          573,
          578,
          580,
          586,
          629,
          650,
          672,
          673,
          677,
          685,
          690,
          693,
          695,
          702,
          709,
          710,
          722,
          730,
          742,
          757,
          760,
          787,
          789,
          799,
          804,
          806,
          819,
          826,
          831,
          854,
          855,
          874,
          875,
          892,
          905,
          944,
          970,
          988,
          991,
          1000,
          1004,
          1011,
          1021,
          1039,
          1061,
          1076,
          1080,
          1098,
          1099,
          1104,
          1108,
          1115,
          1117,
          1120,
          1159,
          1167,
          1170,
          1176,
          1178,
          1222,
          1226,
          1227,
          1229,
          1240,
          1244,
          1261,
          1267,
          1280,
          1283,
          1290,
          1294,
          1310,
          1325,
          1329,
          1338,
          1355,
          1364,
          1365,
          1367,
          1369,
          1374,
          1389,
          1391,
          1396,
          1405,
          1406,
          1408,
          1431,
          1432,
          1433,
          1435,
          1440,
          1454,
          1464,
          1474,
          1487,
          1492,
          1510,
          1512,
          1520,
          1521,
          1524,
          1527,
          1536,
          1542,
          1549,
          1563,
          1572,
          1573,
          1577,
          1611,
          1613,
          1622,
          1636,
          1642,
          1647,
          1650,
          1659,
          1663,
          1665,
          1666,
          1675,
          1683,
          1709,
          1716,
          1719,
          1729,
          1740,
          1745,
          1755,
          1758,
          1795,
          1803,
          1805,
          1814,
          1840,
          1856,
          1870,
          1871,
          1874,
          1879,
          1892,
          1917,
          1928,
          1932,
          1948,
          1950,
          1980,
          1990,
          1991
         ],
         "yaxis": "y"
        }
       ],
       "layout": {
        "legend": {
         "orientation": "h",
         "title": {
          "text": "Supersupergenre"
         },
         "tracegroupgap": 0,
         "x": 1,
         "xanchor": "right",
         "y": 1.3,
         "yanchor": "bottom"
        },
        "margin": {
         "t": 60
        },
        "template": {
         "data": {
          "bar": [
           {
            "error_x": {
             "color": "#2a3f5f"
            },
            "error_y": {
             "color": "#2a3f5f"
            },
            "marker": {
             "line": {
              "color": "#E5ECF6",
              "width": 0.5
             },
             "pattern": {
              "fillmode": "overlay",
              "size": 10,
              "solidity": 0.2
             }
            },
            "type": "bar"
           }
          ],
          "barpolar": [
           {
            "marker": {
             "line": {
              "color": "#E5ECF6",
              "width": 0.5
             },
             "pattern": {
              "fillmode": "overlay",
              "size": 10,
              "solidity": 0.2
             }
            },
            "type": "barpolar"
           }
          ],
          "carpet": [
           {
            "aaxis": {
             "endlinecolor": "#2a3f5f",
             "gridcolor": "white",
             "linecolor": "white",
             "minorgridcolor": "white",
             "startlinecolor": "#2a3f5f"
            },
            "baxis": {
             "endlinecolor": "#2a3f5f",
             "gridcolor": "white",
             "linecolor": "white",
             "minorgridcolor": "white",
             "startlinecolor": "#2a3f5f"
            },
            "type": "carpet"
           }
          ],
          "choropleth": [
           {
            "colorbar": {
             "outlinewidth": 0,
             "ticks": ""
            },
            "type": "choropleth"
           }
          ],
          "contour": [
           {
            "colorbar": {
             "outlinewidth": 0,
             "ticks": ""
            },
            "colorscale": [
             [
              0,
              "#0d0887"
             ],
             [
              0.1111111111111111,
              "#46039f"
             ],
             [
              0.2222222222222222,
              "#7201a8"
             ],
             [
              0.3333333333333333,
              "#9c179e"
             ],
             [
              0.4444444444444444,
              "#bd3786"
             ],
             [
              0.5555555555555556,
              "#d8576b"
             ],
             [
              0.6666666666666666,
              "#ed7953"
             ],
             [
              0.7777777777777778,
              "#fb9f3a"
             ],
             [
              0.8888888888888888,
              "#fdca26"
             ],
             [
              1,
              "#f0f921"
             ]
            ],
            "type": "contour"
           }
          ],
          "contourcarpet": [
           {
            "colorbar": {
             "outlinewidth": 0,
             "ticks": ""
            },
            "type": "contourcarpet"
           }
          ],
          "heatmap": [
           {
            "colorbar": {
             "outlinewidth": 0,
             "ticks": ""
            },
            "colorscale": [
             [
              0,
              "#0d0887"
             ],
             [
              0.1111111111111111,
              "#46039f"
             ],
             [
              0.2222222222222222,
              "#7201a8"
             ],
             [
              0.3333333333333333,
              "#9c179e"
             ],
             [
              0.4444444444444444,
              "#bd3786"
             ],
             [
              0.5555555555555556,
              "#d8576b"
             ],
             [
              0.6666666666666666,
              "#ed7953"
             ],
             [
              0.7777777777777778,
              "#fb9f3a"
             ],
             [
              0.8888888888888888,
              "#fdca26"
             ],
             [
              1,
              "#f0f921"
             ]
            ],
            "type": "heatmap"
           }
          ],
          "heatmapgl": [
           {
            "colorbar": {
             "outlinewidth": 0,
             "ticks": ""
            },
            "colorscale": [
             [
              0,
              "#0d0887"
             ],
             [
              0.1111111111111111,
              "#46039f"
             ],
             [
              0.2222222222222222,
              "#7201a8"
             ],
             [
              0.3333333333333333,
              "#9c179e"
             ],
             [
              0.4444444444444444,
              "#bd3786"
             ],
             [
              0.5555555555555556,
              "#d8576b"
             ],
             [
              0.6666666666666666,
              "#ed7953"
             ],
             [
              0.7777777777777778,
              "#fb9f3a"
             ],
             [
              0.8888888888888888,
              "#fdca26"
             ],
             [
              1,
              "#f0f921"
             ]
            ],
            "type": "heatmapgl"
           }
          ],
          "histogram": [
           {
            "marker": {
             "pattern": {
              "fillmode": "overlay",
              "size": 10,
              "solidity": 0.2
             }
            },
            "type": "histogram"
           }
          ],
          "histogram2d": [
           {
            "colorbar": {
             "outlinewidth": 0,
             "ticks": ""
            },
            "colorscale": [
             [
              0,
              "#0d0887"
             ],
             [
              0.1111111111111111,
              "#46039f"
             ],
             [
              0.2222222222222222,
              "#7201a8"
             ],
             [
              0.3333333333333333,
              "#9c179e"
             ],
             [
              0.4444444444444444,
              "#bd3786"
             ],
             [
              0.5555555555555556,
              "#d8576b"
             ],
             [
              0.6666666666666666,
              "#ed7953"
             ],
             [
              0.7777777777777778,
              "#fb9f3a"
             ],
             [
              0.8888888888888888,
              "#fdca26"
             ],
             [
              1,
              "#f0f921"
             ]
            ],
            "type": "histogram2d"
           }
          ],
          "histogram2dcontour": [
           {
            "colorbar": {
             "outlinewidth": 0,
             "ticks": ""
            },
            "colorscale": [
             [
              0,
              "#0d0887"
             ],
             [
              0.1111111111111111,
              "#46039f"
             ],
             [
              0.2222222222222222,
              "#7201a8"
             ],
             [
              0.3333333333333333,
              "#9c179e"
             ],
             [
              0.4444444444444444,
              "#bd3786"
             ],
             [
              0.5555555555555556,
              "#d8576b"
             ],
             [
              0.6666666666666666,
              "#ed7953"
             ],
             [
              0.7777777777777778,
              "#fb9f3a"
             ],
             [
              0.8888888888888888,
              "#fdca26"
             ],
             [
              1,
              "#f0f921"
             ]
            ],
            "type": "histogram2dcontour"
           }
          ],
          "mesh3d": [
           {
            "colorbar": {
             "outlinewidth": 0,
             "ticks": ""
            },
            "type": "mesh3d"
           }
          ],
          "parcoords": [
           {
            "line": {
             "colorbar": {
              "outlinewidth": 0,
              "ticks": ""
             }
            },
            "type": "parcoords"
           }
          ],
          "pie": [
           {
            "automargin": true,
            "type": "pie"
           }
          ],
          "scatter": [
           {
            "marker": {
             "colorbar": {
              "outlinewidth": 0,
              "ticks": ""
             }
            },
            "type": "scatter"
           }
          ],
          "scatter3d": [
           {
            "line": {
             "colorbar": {
              "outlinewidth": 0,
              "ticks": ""
             }
            },
            "marker": {
             "colorbar": {
              "outlinewidth": 0,
              "ticks": ""
             }
            },
            "type": "scatter3d"
           }
          ],
          "scattercarpet": [
           {
            "marker": {
             "colorbar": {
              "outlinewidth": 0,
              "ticks": ""
             }
            },
            "type": "scattercarpet"
           }
          ],
          "scattergeo": [
           {
            "marker": {
             "colorbar": {
              "outlinewidth": 0,
              "ticks": ""
             }
            },
            "type": "scattergeo"
           }
          ],
          "scattergl": [
           {
            "marker": {
             "colorbar": {
              "outlinewidth": 0,
              "ticks": ""
             }
            },
            "type": "scattergl"
           }
          ],
          "scattermapbox": [
           {
            "marker": {
             "colorbar": {
              "outlinewidth": 0,
              "ticks": ""
             }
            },
            "type": "scattermapbox"
           }
          ],
          "scatterpolar": [
           {
            "marker": {
             "colorbar": {
              "outlinewidth": 0,
              "ticks": ""
             }
            },
            "type": "scatterpolar"
           }
          ],
          "scatterpolargl": [
           {
            "marker": {
             "colorbar": {
              "outlinewidth": 0,
              "ticks": ""
             }
            },
            "type": "scatterpolargl"
           }
          ],
          "scatterternary": [
           {
            "marker": {
             "colorbar": {
              "outlinewidth": 0,
              "ticks": ""
             }
            },
            "type": "scatterternary"
           }
          ],
          "surface": [
           {
            "colorbar": {
             "outlinewidth": 0,
             "ticks": ""
            },
            "colorscale": [
             [
              0,
              "#0d0887"
             ],
             [
              0.1111111111111111,
              "#46039f"
             ],
             [
              0.2222222222222222,
              "#7201a8"
             ],
             [
              0.3333333333333333,
              "#9c179e"
             ],
             [
              0.4444444444444444,
              "#bd3786"
             ],
             [
              0.5555555555555556,
              "#d8576b"
             ],
             [
              0.6666666666666666,
              "#ed7953"
             ],
             [
              0.7777777777777778,
              "#fb9f3a"
             ],
             [
              0.8888888888888888,
              "#fdca26"
             ],
             [
              1,
              "#f0f921"
             ]
            ],
            "type": "surface"
           }
          ],
          "table": [
           {
            "cells": {
             "fill": {
              "color": "#EBF0F8"
             },
             "line": {
              "color": "white"
             }
            },
            "header": {
             "fill": {
              "color": "#C8D4E3"
             },
             "line": {
              "color": "white"
             }
            },
            "type": "table"
           }
          ]
         },
         "layout": {
          "annotationdefaults": {
           "arrowcolor": "#2a3f5f",
           "arrowhead": 0,
           "arrowwidth": 1
          },
          "autotypenumbers": "strict",
          "coloraxis": {
           "colorbar": {
            "outlinewidth": 0,
            "ticks": ""
           }
          },
          "colorscale": {
           "diverging": [
            [
             0,
             "#8e0152"
            ],
            [
             0.1,
             "#c51b7d"
            ],
            [
             0.2,
             "#de77ae"
            ],
            [
             0.3,
             "#f1b6da"
            ],
            [
             0.4,
             "#fde0ef"
            ],
            [
             0.5,
             "#f7f7f7"
            ],
            [
             0.6,
             "#e6f5d0"
            ],
            [
             0.7,
             "#b8e186"
            ],
            [
             0.8,
             "#7fbc41"
            ],
            [
             0.9,
             "#4d9221"
            ],
            [
             1,
             "#276419"
            ]
           ],
           "sequential": [
            [
             0,
             "#0d0887"
            ],
            [
             0.1111111111111111,
             "#46039f"
            ],
            [
             0.2222222222222222,
             "#7201a8"
            ],
            [
             0.3333333333333333,
             "#9c179e"
            ],
            [
             0.4444444444444444,
             "#bd3786"
            ],
            [
             0.5555555555555556,
             "#d8576b"
            ],
            [
             0.6666666666666666,
             "#ed7953"
            ],
            [
             0.7777777777777778,
             "#fb9f3a"
            ],
            [
             0.8888888888888888,
             "#fdca26"
            ],
            [
             1,
             "#f0f921"
            ]
           ],
           "sequentialminus": [
            [
             0,
             "#0d0887"
            ],
            [
             0.1111111111111111,
             "#46039f"
            ],
            [
             0.2222222222222222,
             "#7201a8"
            ],
            [
             0.3333333333333333,
             "#9c179e"
            ],
            [
             0.4444444444444444,
             "#bd3786"
            ],
            [
             0.5555555555555556,
             "#d8576b"
            ],
            [
             0.6666666666666666,
             "#ed7953"
            ],
            [
             0.7777777777777778,
             "#fb9f3a"
            ],
            [
             0.8888888888888888,
             "#fdca26"
            ],
            [
             1,
             "#f0f921"
            ]
           ]
          },
          "colorway": [
           "#636efa",
           "#EF553B",
           "#00cc96",
           "#ab63fa",
           "#FFA15A",
           "#19d3f3",
           "#FF6692",
           "#B6E880",
           "#FF97FF",
           "#FECB52"
          ],
          "font": {
           "color": "#2a3f5f"
          },
          "geo": {
           "bgcolor": "white",
           "lakecolor": "white",
           "landcolor": "#E5ECF6",
           "showlakes": true,
           "showland": true,
           "subunitcolor": "white"
          },
          "hoverlabel": {
           "align": "left"
          },
          "hovermode": "closest",
          "mapbox": {
           "style": "light"
          },
          "paper_bgcolor": "white",
          "plot_bgcolor": "#E5ECF6",
          "polar": {
           "angularaxis": {
            "gridcolor": "white",
            "linecolor": "white",
            "ticks": ""
           },
           "bgcolor": "#E5ECF6",
           "radialaxis": {
            "gridcolor": "white",
            "linecolor": "white",
            "ticks": ""
           }
          },
          "scene": {
           "xaxis": {
            "backgroundcolor": "#E5ECF6",
            "gridcolor": "white",
            "gridwidth": 2,
            "linecolor": "white",
            "showbackground": true,
            "ticks": "",
            "zerolinecolor": "white"
           },
           "yaxis": {
            "backgroundcolor": "#E5ECF6",
            "gridcolor": "white",
            "gridwidth": 2,
            "linecolor": "white",
            "showbackground": true,
            "ticks": "",
            "zerolinecolor": "white"
           },
           "zaxis": {
            "backgroundcolor": "#E5ECF6",
            "gridcolor": "white",
            "gridwidth": 2,
            "linecolor": "white",
            "showbackground": true,
            "ticks": "",
            "zerolinecolor": "white"
           }
          },
          "shapedefaults": {
           "line": {
            "color": "#2a3f5f"
           }
          },
          "ternary": {
           "aaxis": {
            "gridcolor": "white",
            "linecolor": "white",
            "ticks": ""
           },
           "baxis": {
            "gridcolor": "white",
            "linecolor": "white",
            "ticks": ""
           },
           "bgcolor": "#E5ECF6",
           "caxis": {
            "gridcolor": "white",
            "linecolor": "white",
            "ticks": ""
           }
          },
          "title": {
           "x": 0.05
          },
          "xaxis": {
           "automargin": true,
           "gridcolor": "white",
           "linecolor": "white",
           "ticks": "",
           "title": {
            "standoff": 15
           },
           "zerolinecolor": "white",
           "zerolinewidth": 2
          },
          "yaxis": {
           "automargin": true,
           "gridcolor": "white",
           "linecolor": "white",
           "ticks": "",
           "title": {
            "standoff": 15
           },
           "zerolinecolor": "white",
           "zerolinewidth": 2
          }
         }
        },
        "title": {
         "text": "Songs by year of release and position"
        },
        "xaxis": {
         "anchor": "y",
         "domain": [
          0,
          1
         ],
         "title": {
          "text": "Year of release"
         }
        },
        "yaxis": {
         "anchor": "x",
         "domain": [
          0,
          1
         ],
         "title": {
          "text": "Position"
         }
        }
       }
      },
      "text/html": [
       "<div>                            <div id=\"676adabf-4f24-4c21-9cab-c0e0e9dddd5c\" class=\"plotly-graph-div\" style=\"height:525px; width:100%;\"></div>            <script type=\"text/javascript\">                require([\"plotly\"], function(Plotly) {                    window.PLOTLYENV=window.PLOTLYENV || {};                                    if (document.getElementById(\"676adabf-4f24-4c21-9cab-c0e0e9dddd5c\")) {                    Plotly.newPlot(                        \"676adabf-4f24-4c21-9cab-c0e0e9dddd5c\",                        [{\"customdata\":[[\"Queen\"],[\"Procol Harum\"],[\"Eagles\"],[\"Billy Joel\"],[\"Golden Earring\"],[\"Led Zeppelin\"],[\"Metallica\"],[\"Pearl Jam\"],[\"Queen\"],[\"Pink Floyd\"],[\"Di-rect\"],[\"Deep Purple\"],[\"Bruce Springsteen\"],[\"Guns N' Roses\"],[\"Dire Straits\"],[\"Disturbed\"],[\"Pink Floyd\"],[\"Toto\"],[\"David Bowie\"],[\"Dire Straits\"],[\"Metallica\"],[\"Pink Floyd\"],[\"Nirvana\"],[\"AC/DC\"],[\"Pearl Jam\"],[\"Guns N' Roses\"],[\"John Lennon\"],[\"Meat Loaf\"],[\"Dire Straits\"],[\"Phil Collins\"],[\"The Cure\"],[\"Queen\"],[\"Fleetwood Mac\"],[\"Linkin Park\"],[\"Supertramp\"],[\"Rage Against The Machine\"],[\"The Rolling Stones\"],[\"Metallica\"],[\"Golden Earring\"],[\"Queen\"],[\"Pearl Jam\"],[\"The Beatles\"],[\"U2\"],[\"The Beach Boys\"],[\"The Rolling Stones\"],[\"Kensington\"],[\"Metallica\"],[\"Radiohead\"],[\"U2\"],[\"Electric Light Orchestra\"],[\"Queen & David Bowie\"],[\"Supertramp\"],[\"Pink Floyd\"],[\"U2\"],[\"Floor Jansen & Henk Poort\"],[\"Fleetwood Mac\"],[\"George Michael & Queen\"],[\"Muse\"],[\"The Alan Parsons Project\"],[\"Queen\"],[\"The Beatles\"],[\"Red Hot Chili Peppers\"],[\"Volbeat\"],[\"The Doors\"],[\"AC/DC\"],[\"Queen\"],[\"The Rolling Stones\"],[\"Dire Straits\"],[\"Kensington\"],[\"Golden Earring\"],[\"Nothing But Thieves\"],[\"Snow Patrol\"],[\"The Rolling Stones\"],[\"The Beatles\"],[\"R.E.M.\"],[\"Queen\"],[\"The Beatles\"],[\"AC/DC\"],[\"Creedence Clearwater Revival\"],[\"Journey\"],[\"Billy Joel\"],[\"Fleetwood Mac\"],[\"Golden Earring\"],[\"Elvis Presley\"],[\"U2\"],[\"David Bowie\"],[\"The Beatles\"],[\"The Verve\"],[\"Animals\"],[\"The Cranberries\"],[\"Foo Fighters\"],[\"Oasis\"],[\"The Moody Blues\"],[\"The Killers\"],[\"Black Sabbath\"],[\"Muse\"],[\"Depeche Mode\"],[\"Red Hot Chili Peppers\"],[\"U2\"],[\"Nirvana\"],[\"Oasis\"],[\"Sting\"],[\"Guns N' Roses\"],[\"Bryan Adams\"],[\"Anouk\"],[\"Bon Jovi\"],[\"Dire Straits\"],[\"Within Temptation\"],[\"Bruce Springsteen\"],[\"Sting\"],[\"Herman Brood & His Wild Romance\"],[\"Nick Cave & The Bad Seeds\"],[\"Eagles\"],[\"Queen\"],[\"Paul Simon\"],[\"Creedence Clearwater Revival\"],[\"Earth, Wind & Fire\"],[\"Lou Reed\"],[\"Queen\"],[\"Marillion\"],[\"Deep Purple\"],[\"Eagles\"],[\"Led Zeppelin\"],[\"Pearl Jam\"],[\"Iron Maiden\"],[\"Keane\"],[\"Mary J. Blige & U2\"],[\"Scorpions\"],[\"Elvis Presley\"],[\"Dire Straits\"],[\"R.E.M.\"],[\"Bruce Springsteen\"],[\"Live\"],[\"Metallica\"],[\"U2\"],[\"Mot\\u00f6rhead\"],[\"Radiohead\"],[\"Creedence Clearwater Revival\"],[\"Golden Earrings\"],[\"Kayak\"],[\"Foo Fighters\"],[\"System Of A Down\"],[\"Sting\"],[\"Guns N' Roses\"],[\"Aerosmith\"],[\"Bruce Springsteen\"],[\"Harry Styles\"],[\"The Scene\"],[\"John Miles\"],[\"The Jimi Hendrix Experience\"],[\"David Bowie\"],[\"U2\"],[\"The Cult\"],[\"Linkin Park\"],[\"Queen\"],[\"Normaal\"],[\"The Beatles\"],[\"Jackson Browne\"],[\"Evanescence\"],[\"Editors\"],[\"U2\"],[\"Nirvana\"],[\"Arctic Monkeys\"],[\"Creedence Clearwater Revival\"],[\"Metallica\"],[\"Volbeat\"],[\"Queen\"],[\"Metallica\"],[\"Bruce Springsteen\"],[\"Kansas\"],[\"Kings Of Leon\"],[\"Nightwish\"],[\"The Proclaimers\"],[\"Pink Floyd\"],[\"Phil Collins\"],[\"Jeff Buckley\"],[\"Bon Jovi\"],[\"KISS\"],[\"Golden Earring\"],[\"Iron Maiden\"],[\"The Police\"],[\"Green Day\"],[\"Elbow\"],[\"Fleetwood Mac\"],[\"Muse\"],[\"U2\"],[\"Led Zeppelin\"],[\"The Police\"],[\"Queens Of The Stone Age\"],[\"Slayer\"],[\"Nirvana\"],[\"Fleetwood Mac\"],[\"Golden Earring\"],[\"Guns N' Roses\"],[\"Queensr\\u00ffche\"],[\"Neil Young\"],[\"White Stripes\"],[\"Fleetwood Mac\"],[\"Radiohead\"],[\"Janis Joplin\"],[\"Supertramp\"],[\"Billy Joel\"],[\"3 Doors Down\"],[\"Genesis\"],[\"The Rolling Stones\"],[\"Neil Young\"],[\"The Goo Goo Dolls\"],[\"Joe Cocker\"],[\"Jefferson Airplane\"],[\"Normaal\"],[\"The Scene\"],[\"The Mark & Clark Band\"],[\"Toto\"],[\"Queen\"],[\"The Rolling Stones\"],[\"Soundgarden\"],[\"AC/DC\"],[\"Boston\"],[\"Dire Straits\"],[\"Within Temptation\"],[\"Phil Collins\"],[\"Elvis Presley\"],[\"The Waterboys\"],[\"The Beatles\"],[\"The Doors\"],[\"Toto\"],[\"The Who\"],[\"Lynyrd Skynyrd\"],[\"Queen\"],[\"Green Day\"],[\"Alice Cooper\"],[\"Pink Floyd\"],[\"Bruce Springsteen\"],[\"Snow Patrol\"],[\"Elvis Presley\"],[\"Van Morrison\"],[\"Neil Young\"],[\"Foreigner\"],[\"Kensington\"],[\"ZZ Top\"],[\"Imagine Dragons\"],[\"Ultravox\"],[\"The Alan Parsons Project\"],[\"Eagles\"],[\"Eagles\"],[\"Meat Loaf\"],[\"New Order\"],[\"Bruce Springsteen\"],[\"Pink Floyd\"],[\"Anouk\"],[\"Scorpions\"],[\"Bruce Springsteen\"],[\"Van Halen\"],[\"The Beatles\"],[\"Maroon 5\"],[\"Queen\"],[\"Guns N' Roses\"],[\"Radiohead\"],[\"Editors\"],[\"The Doors\"],[\"America\"],[\"Metallica\"],[\"Guns N' Roses\"],[\"Creedence Clearwater Revival\"],[\"Normaal\"],[\"Liquido\"],[\"Foo Fighters\"],[\"The Stranglers\"],[\"Queen\"],[\"Hero\"],[\"The Boxer Rebellion\"],[\"Red Hot Chili Peppers\"],[\"The Police\"],[\"Golden Earring\"],[\"Tina Turner & David Bowie\"],[\"White Lies\"],[\"The Cranberries\"],[\"London Grammar\"],[\"Nightwish\"],[\"Imagine Dragons\"],[\"The Beatles\"],[\"Status Quo\"],[\"Lynyrd Skynyrd\"],[\"Gotye ft. Kimbra\"],[\"Joy Division\"],[\"Chris Isaak\"],[\"David Bowie\"],[\"Muse\"],[\"Nirvana\"],[\"Elvis Presley\"],[\"Nothing But Thieves\"],[\"Muse\"],[\"Pearl Jam\"],[\"AC/DC\"],[\"Muse\"],[\"Queen\"],[\"Earth, Wind & Fire\"],[\"Kensington\"],[\"Imagine Dragons\"],[\"The Rolling Stones\"],[\"Linkin Park\"],[\"Fleetwood Mac\"],[\"Melissa Etheridge\"],[\"The Jimi Hendrix Experience\"],[\"Bon Jovi\"],[\"Anouk\"],[\"David Bowie\"],[\"U2\"],[\"Pink Floyd\"],[\"Talking Heads\"],[\"Fleetwood Mac\"],[\"Green Day\"],[\"Fleetwood Mac\"],[\"Tame Impala\"],[\"The Kinks\"],[\"Evanescence\"],[\"The War On Drugs\"],[\"Bon Jovi\"],[\"Van Halen\"],[\"The Beatles\"],[\"Europe\"],[\"De Staat\"],[\"Pink Floyd\"],[\"The Doors\"],[\"Iron Maiden\"],[\"Led Zeppelin\"],[\"Talking Heads\"],[\"Fleetwood Mac\"],[\"Nothing But Thieves\"],[\"The Beach Boys\"],[\"Gorillaz\"],[\"Toto\"],[\"The Cure\"],[\"U2\"],[\"Joe Jackson\"],[\"Meat Loaf\"],[\"Aerosmith\"],[\"INXS\"],[\"Red Hot Chili Peppers\"],[\"Neil Young\"],[\"Van Morrison\"],[\"Fleetwood Mac\"],[\"Supertramp\"],[\"Oasis\"],[\"Heart\"],[\"Live\"],[\"Phil Collins\"],[\"Fleetwood Mac\"],[\"Billy Joel\"],[\"Simply Red\"],[\"Anouk\"],[\"The Beatles\"],[\"Don Henley\"],[\"R.E.M.\"],[\"Tenacious D\"],[\"Men At Work\"],[\"The Beatles\"],[\"Muse\"],[\"Red Hot Chili Peppers\"],[\"The Black Keys\"],[\"Alice Cooper\"],[\"10cc\"],[\"The War On Drugs\"],[\"Kensington\"],[\"Iron Maiden\"],[\"Bruce Springsteen\"],[\"Blue \\u00d6yster Cult\"],[\"Status Quo\"],[\"Bruce Springsteen\"],[\"Alanis Morissette\"],[\"Pink Floyd\"],[\"Arctic Monkeys\"],[\"Sia\"],[\"Crosby, Stills, Nash & Young\"],[\"Sting\"],[\"The Beatles\"],[\"Kensington\"],[\"Golden Earring\"],[\"Herman Brood & His Wild Romance\"],[\"The Beatles\"],[\"Bryan Adams\"],[\"10cc\"],[\"Ram Jam\"],[\"K's Choice\"],[\"Alice In Chains\"],[\"Joe Cocker\"],[\"Golden Earring\"],[\"AC/DC\"],[\"Linkin Park\"],[\"Mark Knopfler\"],[\"Shocking Blue\"],[\"Paul Simon\"],[\"Elvis Presley\"],[\"Bronski Beat\"],[\"Tame Impala\"],[\"Bastille\"],[\"The Band\"],[\"Queen\"],[\"Genesis\"],[\"Golden Earring\"],[\"Focus\"],[\"Eagles\"],[\"The Cure\"],[\"Dire Straits\"],[\"Queen\"],[\"Radiohead\"],[\"Pink Floyd\"],[\"Bruce Springsteen\"],[\"The Rolling Stones\"],[\"Skunk Anansie\"],[\"Keane\"],[\"Fish\"],[\"Genesis\"],[\"Triggerfinger\"],[\"Crowded House\"],[\"Iggy Pop\"],[\"Supertramp\"],[\"Eagles\"],[\"Joe Jackson\"],[\"Foo Fighters\"],[\"Green Day\"],[\"Red Hot Chili Peppers\"],[\"Paul Simon\"],[\"Rod Stewart\"],[\"Imagine Dragons\"],[\"Earth, Wind & Fire\"],[\"Queen\"],[\"Live\"],[\"Fleetwood Mac\"],[\"Whitesnake\"],[\"Bruce Springsteen\"],[\"Metallica\"],[\"Supertramp\"],[\"The Killers\"],[\"David Bowie\"],[\"The Police\"],[\"Uriah Heep\"],[\"Gorillaz\"],[\"Nickelback\"],[\"Genesis\"],[\"Iggy Pop\"],[\"Arctic Monkeys\"],[\"Marillion\"],[\"Fischer-Z\"],[\"Survivor\"],[\"The Script\"],[\"Nazareth\"],[\"Bruce Springsteen\"],[\"Talking Heads\"],[\"The Rolling Stones\"],[\"Harry Styles\"],[\"David Bowie\"],[\"Bryan Adams\"],[\"Offspring\"],[\"Crosby, Stills, Nash & Young\"],[\"4 Non Blondes\"],[\"Muse\"],[\"Kane\"],[\"Blur\"],[\"Franz Ferdinand\"],[\"Cockney Rebel\"],[\"David Bowie\"],[\"Joe Jackson\"],[\"The Smiths\"],[\"Green Day\"],[\"Bon Jovi\"],[\"Harry Styles\"],[\"Within Temptation\"],[\"Red Hot Chili Peppers\"],[\"The Cure\"],[\"ZZ Top\"],[\"Creedence Clearwater Revival\"],[\"Imagine Dragons\"],[\"Status Quo\"],[\"Mark Knopfler & James Taylor\"],[\"Bruce Springsteen\"],[\"The Rolling Stones\"],[\"Yes\"],[\"ZZ Top\"],[\"The Beatles\"],[\"Nick Cave & Kylie Minogue\"],[\"Mike Oldfield & Maggie Reilly\"],[\"B\\u00f6kkers\"],[\"The Jimi Hendrix Experience\"],[\"Dire Straits\"],[\"Arcade Fire\"],[\"Depeche Mode\"],[\"Red Hot Chili Peppers\"],[\"David Bowie & Mick Jagger\"],[\"The Police\"],[\"U2\"],[\"Crowded House\"],[\"Dexy's Midnight Runners\"],[\"Creedence Clearwater Revival\"],[\"Depeche Mode\"],[\"Nirvana\"],[\"Imagine Dragons\"],[\"Red Hot Chili Peppers\"],[\"David Bowie\"],[\"Paul McCartney & Wings\"],[\"Paul Weller\"],[\"The Alan Parsons Project\"],[\"Guns N' Roses\"],[\"Elvis Presley\"],[\"Lou Reed\"],[\"Guns N' Roses\"],[\"The War On Drugs\"],[\"Queen\"],[\"The Gathering\"],[\"Manic Street Preachers\"],[\"Normaal\"],[\"Mike Oldfield\"],[\"Iggy Pop & Kate Pierson\"],[\"R.E.M.\"],[\"Ozzy Osbourne\"],[\"Venice\"],[\"Elbow\"],[\"Valensia\"],[\"Elvis Presley\"],[\"The Jimi Hendrix Experience\"],[\"The Smashing Pumpkins\"],[\"The Jimi Hendrix Experience\"],[\"The Rolling Stones\"],[\"Beth Hart & Joe Bonamassa\"],[\"The Doors\"],[\"Stone Temple Pilots\"],[\"Genesis\"],[\"Blondie\"],[\"Twenty One Pilots\"],[\"The Rolling Stones\"],[\"Korn\"],[\"David Bowie\"],[\"The Beatles\"],[\"Pearl Jam\"],[\"Train\"],[\"Creedence Clearwater Revival\"],[\"Joe Cocker\"],[\"The Beatles\"],[\"The Cure\"],[\"Manic Street Preachers\"],[\"Supertramp\"],[\"Supertramp\"],[\"The Doobie Brothers\"],[\"Crosby, Stills, Nash & Young\"],[\"Queen\"],[\"Dire Straits\"],[\"Bruce Springsteen\"],[\"Red Hot Chili Peppers\"],[\"David Bowie\"],[\"Killing Joke\"],[\"Janis Joplin\"],[\"Zucchero\"],[\"Dire Straits\"],[\"Phil Collins\"],[\"Anouk\"],[\"Live\"],[\"George Baker Selection\"],[\"Alice Cooper\"],[\"Tori Amos\"],[\"U2\"],[\"Golden Earrings\"],[\"Within Temptation\"],[\"Paul Simon\"],[\"Sting\"],[\"Midnight Oil\"],[\"Bruce Springsteen\"],[\"The Rolling Stones\"],[\"Pink Floyd\"],[\"Chuck Berry\"],[\"Chicago\"],[\"Di-rect\"],[\"The Beatles\"],[\"Queens Of The Stone Age\"],[\"The Moody Blues\"],[\"Sniff 'n The Tears\"],[\"Radiohead\"],[\"Bon Jovi\"],[\"David Bowie\"],[\"Nirvana\"],[\"Simply Red\"],[\"Roxy Music\"],[\"Counting Crows\"],[\"Temple Of The Dog\"],[\"Queen\"],[\"Scorpions\"],[\"Status Quo\"],[\"Supertramp\"],[\"Emerson, Lake & Palmer\"],[\"Lenny Kravitz\"],[\"The War On Drugs\"],[\"REO Speedwagon\"],[\"Golden Earring\"],[\"Limp Bizkit\"],[\"Kansas\"],[\"Anouk\"],[\"Golden Earrings\"],[\"Little River Band\"],[\"Kings Of Leon\"],[\"Thin Lizzy\"],[\"Muse\"],[\"The Black Keys\"],[\"Rush\"],[\"Tom Petty\"],[\"Jethro Tull\"],[\"Steppenwolf\"],[\"Queen\"],[\"Neil Young\"],[\"Eagles\"],[\"Earth & Fire\"],[\"Talking Heads\"],[\"U2\"],[\"Elvis Presley\"],[\"The Who\"],[\"Split Enz\"],[\"Creedence Clearwater Revival\"],[\"Kodaline\"],[\"Phil Collins\"],[\"Green Day\"],[\"Muse\"],[\"Alanis Morissette\"],[\"Muse\"],[\"Kensington\"],[\"Kaleo\"],[\"The Beatles\"],[\"The Beatles\"],[\"R.E.M.\"],[\"Arctic Monkeys\"],[\"Faith No More\"],[\"Queen\"],[\"Skunk Anansie\"],[\"Arctic Monkeys\"],[\"Harry Styles\"],[\"Meat Loaf\"],[\"Editors\"],[\"Blondie\"],[\"The Smashing Pumpkins\"],[\"Normaal\"],[\"Paul Simon\"],[\"U2 & BB King\"],[\"The Cranberries\"],[\"Foo Fighters\"],[\"David Bowie\"],[\"The Doors\"],[\"Kensington\"],[\"The Clash\"],[\"David Bowie & Pat Metheny Group\"],[\"Toto\"],[\"Led Zeppelin\"],[\"Fleetwood Mac\"],[\"Toto\"],[\"Pat Benatar\"],[\"Iron Butterfly\"],[\"Heart\"],[\"Janis Joplin\"],[\"The Rolling Stones\"],[\"3 Doors Down\"],[\"Phil Collins\"],[\"The Rolling Stones\"],[\"The Jimi Hendrix Experience\"],[\"Queen\"],[\"Radiohead\"],[\"Electric Light Orchestra\"],[\"Creedence Clearwater Revival\"],[\"The Rolling Stones\"],[\"Snowy White\"],[\"Keane\"],[\"Anouk\"],[\"David Bowie\"],[\"Muse\"],[\"Billy Joel\"],[\"Queen\"],[\"David Bowie\"],[\"The Killers\"],[\"Golden Earring\"],[\"Bryan Adams\"],[\"Metallica\"],[\"Golden Earring\"],[\"Alanis Morissette\"],[\"Paul McCartney & Wings\"],[\"Keane\"],[\"The Beatles\"],[\"R.E.M.\"],[\"Meau\"],[\"Snow Patrol\"],[\"Alannah Myles\"],[\"Nirvana\"],[\"Meat Loaf\"],[\"The Smiths\"],[\"Robert Plant\"],[\"The Police\"],[\"Placebo\"],[\"George Harrison\"],[\"Rod Stewart\"],[\"Brian May\"],[\"R.E.M.\"],[\"Lenny Kravitz\"],[\"Joe Cocker\"],[\"Lucifer\"],[\"Blink-182\"],[\"The Fray\"],[\"Creedence Clearwater Revival\"],[\"Foo Fighters\"],[\"White Lies\"],[\"Fleetwood Mac\"],[\"Billy Joel\"],[\"Dire Straits\"],[\"Mike & The Mechanics\"],[\"Green Day\"],[\"Thin Lizzy\"],[\"Billy Joel\"],[\"David Bowie\"],[\"Snow Patrol\"],[\"R.E.M.\"],[\"Crowded House\"],[\"Jeff Wayne & Justin Hayward\"],[\"The Hollies\"],[\"Queen\"],[\"Billy Joel\"],[\"Queen\"],[\"Queen\"],[\"Bush\"],[\"Fats Domino\"],[\"Pearl Jam\"],[\"Mud\"],[\"Red Hot Chili Peppers\"],[\"Armand\"],[\"Earth & Fire\"],[\"Joe Cocker\"],[\"Kensington\"],[\"Van Morrison\"],[\"Lynyrd Skynyrd\"],[\"The Doobie Brothers\"],[\"Di-rect\"],[\"Electric Light Orchestra\"],[\"Extreme\"],[\"Bruce Hornsby & The Range\"],[\"R.E.M.\"],[\"B\\u00f6kkers\"],[\"Alice Cooper\"],[\"The Babys\"],[\"Status Quo\"],[\"Queen\"],[\"Led Zeppelin\"],[\"The Script ft. Will.I.Am\"],[\"Tom Petty & The Heartbreakers\"],[\"Golden Earring\"],[\"The The\"],[\"The Hollies\"],[\"Bon Jovi\"],[\"The Beatles\"],[\"U2 & Green Day\"],[\"Steve Harley & Cockney Rebel\"],[\"Imagine Dragons\"],[\"Earth & Fire\"],[\"Anouk\"],[\"Mark Knopfler\"],[\"Anouk\"],[\"The Alan Parsons Project\"],[\"The Doors\"],[\"Metallica\"],[\"The Beatles\"],[\"Herman Brood & His Wild Romance\"],[\"Heart\"],[\"Foo Fighters\"],[\"Golden Earring\"],[\"Foreigner\"],[\"Keane\"],[\"Gorki\"],[\"Guns N' Roses\"],[\"Live\"],[\"Imagine Dragons\"],[\"The Rolling Stones\"],[\"Scott McKenzie\"],[\"The Beatles\"],[\"Bruce Springsteen\"],[\"The Beach Boys\"],[\"Foster The People\"],[\"Fleetwood Mac\"],[\"The Shadows\"],[\"The Script\"],[\"Queen\"],[\"Creed\"],[\"KISS\"],[\"Monkees\"],[\"Elvis Presley\"],[\"The Beatles\"],[\"Therapy?\"],[\"Elvis Presley\"],[\"The Moody Blues\"],[\"Paul McCartney & Frog Chorus\"],[\"The Rolling Stones\"],[\"Creedence Clearwater Revival\"],[\"Tom Petty & The Heartbreakers\"],[\"Opus\"],[\"Kensington\"],[\"Patti Smith Group\"],[\"Chic\"],[\"Simply Red\"],[\"The Pointer Sisters\"],[\"Chicago\"],[\"Sting\"],[\"U2\"],[\"Yes\"],[\"Brainbox\"],[\"The Buoys\"],[\"Deep Purple\"],[\"Phil Collins\"],[\"Alice In Chains\"],[\"The Smashing Pumpkins\"],[\"Editors\"],[\"MGMT\"],[\"Nina Hagen\"],[\"Elvis Presley\"],[\"Paul Simon\"],[\"Bruce Springsteen\"],[\"Traveling Wilburys\"],[\"Herman Brood & His Wild Romance\"],[\"Van Halen\"],[\"The Beatles\"],[\"Jeff Wayne & Justin Hayward\"],[\"Anouk\"],[\"Elvis Presley\"],[\"The Police\"],[\"Ramones\"],[\"LP\"],[\"Ten Years After\"],[\"Oasis\"],[\"Joe Cocker & Jennifer Warnes\"],[\"Sex Pistols\"],[\"David Bowie\"],[\"Queen\"],[\"Roger Glover & Guests\"],[\"The Doors\"],[\"Guns N' Roses\"],[\"Cheap Trick\"],[\"Smash Mouth\"],[\"Van Halen\"],[\"Muse\"],[\"Nirvana\"],[\"Supertramp\"],[\"America\"],[\"Jefferson Airplane\"],[\"Manu Chao\"],[\"Phil Collins\"],[\"Bruce Springsteen\"],[\"Mink Deville\"],[\"Pixies\"],[\"Rod Stewart\"],[\"Stereophonics\"],[\"Paul McCartney & Wings\"],[\"Queen\"],[\"Q65\"],[\"The Who\"],[\"Queens Of The Stone Age\"],[\"Neil Young\"],[\"Gary Moore & Phil Lynott\"],[\"Japan\"],[\"Elbow\"],[\"Twenty One Pilots\"],[\"Sandy Coast\"],[\"Led Zeppelin\"],[\"B-52's\"],[\"OneRepublic\"],[\"Elvis Presley\"],[\"The Black Keys\"],[\"Toto\"],[\"U2\"],[\"Ph.D.\"],[\"Van Morrison\"],[\"Elvis Presley\"],[\"Pulp\"],[\"Genesis\"],[\"Steve Miller Band\"],[\"Billy Joel\"],[\"The Rolling Stones\"],[\"The Who\"],[\"The Kinks\"],[\"Creedence Clearwater Revival\"],[\"Sweet\"],[\"The Beatles\"],[\"Kings Of Leon\"],[\"U2\"],[\"Whitesnake\"],[\"Boston\"],[\"The Rolling Stones\"],[\"The Beatles\"],[\"Led Zeppelin\"],[\"Offspring\"],[\"The Temper Trap\"],[\"The Who\"],[\"Di-rect\"],[\"Dire Straits\"],[\"U2\"],[\"KISS\"],[\"The Beatles\"],[\"Gossip\"],[\"Sting & Cheb Mami\"],[\"Bruce Springsteen\"],[\"Simply Red\"],[\"Walk The Moon\"],[\"Guano Apes\"],[\"Genesis\"],[\"INXS\"],[\"Of Monsters And Men\"],[\"Ugly Kid Joe\"],[\"Ultravox\"],[\"Yes\"],[\"Kane\"],[\"Crowded House\"],[\"Wolfmother\"],[\"The Rolling Stones\"],[\"Editors\"],[\"The Cure\"],[\"The Script\"],[\"Crash Test Dummies\"],[\"Outfield\"],[\"Don Henley\"],[\"Procol Harum\"],[\"Fleetwood Mac\"],[\"Genesis\"],[\"Pearl Jam\"],[\"Counting Crows\"],[\"Manfred Mann's Earth Band\"],[\"Steely Dan\"],[\"The Smiths\"],[\"The Verve\"],[\"Green Day\"],[\"U2\"],[\"The Beatles\"],[\"Earth, Wind & Fire\"],[\"The Police\"],[\"Stereophonics\"],[\"The Babys\"],[\"The Doors\"],[\"Muse\"],[\"Ellen Foley\"],[\"Fischer-Z\"],[\"Deep Purple\"],[\"Foo Fighters\"],[\"10cc\"],[\"The Who\"],[\"Brainbox\"],[\"Simply Red\"],[\"Jeroen van Koningsbrugge\"],[\"Dire Straits\"],[\"The Smashing Pumpkins\"],[\"Joe Jackson\"],[\"Rare Earth\"],[\"Fleetwood Mac\"],[\"Meat Loaf\"],[\"Vitesse\"],[\"Bruce Springsteen\"],[\"Roxy Music\"],[\"Kane\"],[\"Saybia\"],[\"Plain White T's\"],[\"Billy Joel\"],[\"Steve Miller Band\"],[\"Emerson, Lake & Palmer\"],[\"The Beach Boys\"],[\"Kings Of Leon\"],[\"Lou Reed\"],[\"INXS\"],[\"Dr. Hook & The Medicine Show\"],[\"Muse\"],[\"David Bowie\"],[\"Nirvana\"],[\"Culture Club\"],[\"The Clash\"],[\"Bruce Springsteen\"],[\"Stevie Nicks\"],[\"Roxy Music\"],[\"Bruce Springsteen\"],[\"Foreigner\"],[\"The Rolling Stones\"],[\"Slade\"],[\"Cher\"],[\"Panic! At The Disco\"],[\"Living Colour\"],[\"Anouk\"],[\"U2\"],[\"Meat Loaf\"],[\"Chris Isaak\"],[\"John Lennon\"],[\"Focus\"],[\"Queens Of The Stone Age\"],[\"Supertramp\"],[\"Alanis Morissette\"],[\"Van Halen\"],[\"The Kinks\"],[\"Blind Melon\"],[\"The Hollies\"],[\"Rolling Stones\"],[\"Panic! At The Disco\"],[\"The Doobie Brothers\"],[\"Roxy Music\"],[\"Sex Pistols\"],[\"The Beatles\"]],\"hovertemplate\":\"<b>%{hovertext}</b><br><br>Supersupergenre=Rock and metal<br>Year of release=%{x}<br>Position=%{y}<br>Artist=%{customdata[0]}<extra></extra>\",\"hovertext\":[\"Bohemian Rhapsody\",\"A Whiter Shade Of Pale\",\"Hotel California\",\"Piano Man\",\"Radar Love\",\"Stairway To Heaven\",\"Nothing Else Matters\",\"Black\",\"Love Of My Life\",\"Wish You Were Here\",\"Soldier On\",\"Child In Time\",\"The River\",\"November Rain\",\"Brothers In Arms\",\"The Sound Of Silence\",\"Comfortably Numb\",\"Africa\",\"Heroes\",\"Sultans Of Swing\",\"One\",\"Shine On You Crazy Diamond (Pts. 1-5)\",\"Smells Like Teen Spirit\",\"Thunderstruck\",\"Just Breathe\",\"Sweet Child O' Mine\",\"Imagine\",\"Paradise By The Dashboard Light\",\"Telegraph Road\",\"In The Air Tonight\",\"A Forest\",\"Innuendo\",\"Go Your Own Way\",\"In The End\",\"School\",\"Killing In The Name\",\"Paint It Black\",\"Enter Sandman\",\"When The Lady Smiles\",\"Don't Stop Me Now\",\"Alive\",\"Let It Be\",\"Sunday Bloody Sunday\",\"God Only Knows\",\"Sympathy For The Devil\",\"Sorry\",\"Master Of Puppets\",\"Creep\",\"With Or Without You\",\"Mr. Blue Sky\",\"Under Pressure\",\"Fool's Overture\",\"Another Brick In The Wall\",\"One\",\"Phantom Of The Opera\",\"The Chain\",\"Somebody To Love (Live)\",\"Uprising\",\"Old And Wise\",\"Somebody To Love\",\"Here Comes The Sun\",\"Under The Bridge\",\"Lola Montez\",\"Riders On The Storm\",\"Highway To Hell\",\"Who Wants To Live Forever\",\"Angie\",\"Private Investigations\",\"Uncharted\",\"Another 45 Miles\",\"Impossible (Orchestral Version Live at Abbey Road)\",\"Chasing Cars\",\"Gimme Shelter\",\"Blackbird\",\"Losing My Religion\",\"The Show Must Go On\",\"Hey Jude\",\"Whole Lotta Rosie\",\"Have You Ever Seen The Rain\",\"Don't Stop Believin'\",\"Goodnight Saigon\",\"Dreams\",\"Twilight Zone\",\"Suspicious Minds\",\"Where The Streets Have No Name\",\"Space Oddity\",\"Yesterday\",\"Bitter Sweet Symphony\",\"House Of The Rising Sun\",\"Zombie\",\"The Pretender\",\"Don't Look Back In Anger\",\"Nights In White Satin\",\"Mr. Brightside\",\"Paranoid\",\"Knights Of Cydonia\",\"Enjoy The Silence\",\"Californication\",\"I Still Haven't Found What I'm Looking For\",\"Come As You Are\",\"Wonderwall\",\"Fragile\",\"Paradise City\",\"Summer Of '69\",\"Nobody's Wife\",\"Bed Of Roses\",\"Money For Nothing\",\"Ice Queen\",\"Streets Of Philadelphia\",\"Fields Of Gold\",\"Saturday Night\",\"Into My Arms\",\"The Last Resort\",\"Killer Queen\",\"Graceland\",\"Fortunate Son\",\"September\",\"Perfect Day\",\"I Want To Break Free\",\"Kayleigh\",\"Smoke On The Water\",\"Desperado\",\"Whole Lotta Love\",\"Jeremy\",\"Fear Of The Dark\",\"Somewhere Only We Know\",\"One\",\"Wind Of Change\",\"In The Ghetto\",\"Walk Of Life\",\"Everybody Hurts\",\"Dancing In The Dark\",\"Lightning Crashes\",\"The Unforgiven\",\"The Unforgettable Fire\",\"Ace Of Spades\",\"Street Spirit (Fade Out)\",\"I Put A Spell On You\",\"Just A Little Bit Of Peace In My Heart\",\"Ruthless Queen\",\"Everlong\",\"Chop Suey!\",\"Englishman In New York\",\"Knocking On Heaven's Door\",\"Dream On\",\"I'm On Fire\",\"Sign Of The Times\",\"Iedereen Is Van De Wereld\",\"Music\",\"All Along The Watchtower\",\"Starman\",\"Bad\",\"She Sells Sanctuary\",\"Numb\",\"Radio Ga Ga\",\"Deurdonderen (Live)\",\"While My Guitar Gently Weeps\",\"The Load Out/Stay\",\"My Immortal\",\"Papillon\",\"Beautiful Day\",\"Lithium\",\"Do I Wanna Know?\",\"Bad Moon Rising\",\"Fade To Black\",\"Sad Man's Tongue\",\"We Will Rock You\",\"Whiskey In The Jar\",\"Born To Run\",\"Dust In The Wind\",\"Sex On Fire\",\"Ghost Love Score (Live@Wacken 2013)\",\"I'm Gonna Be (500 Miles)\",\"Echoes\",\"Against All Odds (Take A Look At Me Now)\",\"Hallelujah\",\"Livin' On A Prayer\",\"I Was Made For Lovin' You\",\"Going To The Run\",\"Run To The Hills\",\"Every Breath You Take\",\"Boulevard Of Broken Dreams\",\"One Day Like This\",\"Everywhere\",\"Psycho\",\"Pride (In The Name Of Love)\",\"Kashmir\",\"Roxanne\",\"No One Knows\",\"Angel Of Death\",\"The Man Who Sold The World (unplugged)\",\"Sara\",\"Long Blond Animal\",\"Welcome To The Jungle\",\"Silent Lucidity\",\"Heart Of Gold\",\"Seven Nation Army\",\"Landslide\",\"Karma Police\",\"Me And Bobby McGee\",\"The Logical Song\",\"She's Always A Woman\",\"Kryptonite\",\"Mama\",\"You Can't Always Get What You Want\",\"Old Man\",\"Iris\",\"With A Little Help From My Friends\",\"White Rabbit\",\"Oerend Hard\",\"Blauw\",\"Worn Down Piano\",\"Hold The Line\",\"These Are The Days Of Our Lives\",\"(I Can't Get No) Satisfaction\",\"Black Hole Sun\",\"Back In Black\",\"More Than A Feeling\",\"Romeo And Juliet\",\"Mother Earth\",\"Another Day In Paradise\",\"Can't Help Falling In Love\",\"The Whole Of The Moon\",\"A Day In The Life\",\"The End\",\"Stop Loving You\",\"Baba O'Riley\",\"Free Bird\",\"Another One Bites The Dust\",\"Basket Case\",\"Poison\",\"Time\",\"Tougher Than The Rest\",\"Run\",\"Always On My Mind\",\"Brown Eyed Girl\",\"Rockin' In The Free World\",\"I Want To Know What Love Is\",\"Streets\",\"La Grange\",\"Radioactive\",\"Vienna\",\"Eye In The Sky\",\"One Of These Nights\",\"Take It Easy\",\"Bat Out Of Hell\",\"Blue Monday\",\"Born In The U.S.A.\",\"Money\",\"Lost\",\"Still Loving You\",\"My Hometown\",\"Jump\",\"Eleanor Rigby\",\"Memories\",\"We Are The Champions\",\"Estranged\",\"Paranoid Android\",\"Smokers Outside The Hospital Doors\",\"L.A. Woman\",\"A Horse With No Name\",\"Sad But True\",\"Patience\",\"Who'll Stop The Rain\",\"De Boer Dat Is De Keerl\",\"Narcotic\",\"Learn To Fly\",\"Golden Brown\",\"Crazy Little Thing Called Love\",\"Toen Ik Je Zag\",\"Diamonds\",\"Snow (Hey Oh)\",\"Message In A Bottle\",\"She Flies On Strange Wings\",\"Tonight (Live)\",\"Time To Give\",\"Linger\",\"Strong\",\"\\u00c9lan\",\"Believer\",\"Penny Lane\",\"Whatever You Want\",\"Sweet Home Alabama\",\"Somebody That I Used To Know\",\"Love Will Tear Us Apart\",\"Wicked Game\",\"Life On Mars\",\"Starlight\",\"Where Did You Sleep Last Night (unplugged)\",\"My Boy\",\"Amsterdam\",\"Plug In Baby\",\"Even Flow\",\"You Shook Me All Night Long\",\"Supermassive Black Hole\",\"Hammer To Fall\",\"Fantasy\",\"War\",\"Demons\",\"Wild Horses\",\"Breaking The Habit\",\"Little Lies\",\"Like The Way I Do\",\"Hey Joe\",\"It's My Life\",\"Birds\",\"Let's Dance\",\"New Year's Day\",\"The Great Gig In The Sky\",\"Slippery People (Live)\",\"Songbird\",\"Wake Me Up When September Ends\",\"Albatross\",\"Let It Happen\",\"Lola (Live)\",\"Bring Me To Life\",\"Under The Pressure\",\"Always\",\"Runnin' With The Devil\",\"Come Together\",\"The Final Countdown\",\"Witch Doctor\",\"High Hopes\",\"Light My Fire\",\"Can I Play With Madness\",\"Immigrant Song\",\"Psycho Killer\",\"Tusk\",\"Sorry\",\"Good Vibrations\",\"Feel Good Inc.\",\"Rosanna\",\"Lullaby\",\"I Will Follow (Live)\",\"Is She Really Going Out With Him? (Live)\",\"I'd Do Anything For Love (But I Won't Do That)\",\"I Don't Want To Miss A Thing\",\"Never Tear Us Apart\",\"Scar Tissue\",\"Like A Hurricane\",\"Have I Told You Lately\",\"Rhiannon (Will You Ever Win)\",\"Dreamer\",\"Champagne Supernova\",\"Alone\",\"Overcome\",\"You'll Be In My Heart\",\"Don't Stop\",\"Leningrad\",\"Holding Back The Years\",\"Michel\",\"Strawberry Fields Forever\",\"The Boys Of Summer\",\"Nightswimming\",\"Tribute\",\"Down Under\",\"Get Back\",\"Bliss\",\"Otherside\",\"Little Black Submarines\",\"Halo Of Flies\",\"Dreadlock Holiday\",\"Thinking Of A Place\",\"Do I Ever\",\"Wasted Years\",\"Thunder Road\",\"Don't Fear The Reaper\",\"Roll Over Lay Down (Live)\",\"Badlands\",\"Ironic\",\"Hey You\",\"I Bet You Look Good On The Dancefloor\",\"Chandelier\",\"Our House\",\"Shape Of My Heart\",\"Something\",\"Riddles\",\"Back Home\",\"Never Be Clever\",\"The Long And Winding Road\",\"(Everything I Do) I Do It For You\",\"I'm Not In Love\",\"Black Betty\",\"Not An Addict\",\"Would\",\"You Are So Beautiful\",\"Hold Me Now\",\"Let There Be Rock\",\"One More Light\",\"What It Is\",\"Venus\",\"You Can Call Me Al\",\"Jailhouse Rock\",\"Smalltown Boy\",\"The Less I Know The Better\",\"Pompeii\",\"The Weight\",\"I Want It All\",\"Follow You Follow Me\",\"Weekend Love\",\"Hocus Pocus\",\"New Kid In Town\",\"Friday I'm In Love\",\"Tunnel Of Love\",\"A Kind Of Magic\",\"Exit Music (For A Film)\",\"Us And Them\",\"Trapped (Live)\",\"Start Me Up\",\"Weak\",\"Sovereign Light Cafe\",\"A Gentleman's Excuse Me\",\"Firth Of Fifth\",\"I Follow Rivers\",\"Don't Dream It's Over\",\"The Passenger\",\"Take The Long Way Home\",\"Lyin' Eyes\",\"Be My Number Two\",\"Walk\",\"American Idiot\",\"Dark Necessities\",\"Diamonds On The Soles Of Her Shoes\",\"Sailing\",\"Natural\",\"Boogie Wonderland\",\"Fat Bottomed Girls\",\"I Alone\",\"Need Your Love So Bad\",\"Here I Go Again\",\"Glory Days\",\"The Unforgiven II\",\"Give A Little Bit\",\"Human\",\"China Girl\",\"Every Little Thing She Does Is Magic\",\"Easy Livin'\",\"Clint Eastwood\",\"How You Remind Me\",\"Land Of Confusion\",\"Lust For Life\",\"When The Sun Goes Down\",\"Lavender\",\"So Long\",\"Eye Of The Tiger\",\"The Man Who Can't Be Moved\",\"Love Hurts\",\"Jungleland\",\"Once In A Lifetime\",\"She's A Rainbow\",\"Golden\",\"Rebel Rebel\",\"Heaven\",\"Self Esteem\",\"Teach Your Children\",\"What's Up\",\"Unintended\",\"Rain Down On Me\",\"Song 2\",\"Take Me Out\",\"Sebastian\",\"Wild Is The Wind\",\"Real Men\",\"There Is a Light That Never Goes Out\",\"Good Riddance (Time Of Your Life)\",\"You Give Love A Bad Name\",\"Watermelon Sugar\",\"Stand My Ground\",\"Road Trippin'\",\"Boys Don't Cry\",\"Sharp Dressed Man\",\"I Heard It Through The Grapevine\",\"Thunder\",\"Down Down\",\"Sailing To Philadelphia\",\"Jersey Girl (Live)\",\"Brown Sugar\",\"Owner Of A Lonely Heart\",\"Gimme All Your Lovin'\",\"Norwegian Wood\",\"Where The Wild Roses Grow\",\"Moonlight Shadow\",\"Iederene Hef Een Reden\",\"Voodoo Child (Slight Return)\",\"On Every Street\",\"Everything Now\",\"Just Can't Get Enough (Live)\",\"Can't Stop\",\"Dancing In The Street\",\"So Lonely\",\"All I Want Is You\",\"Four Seasons In One Day\",\"Come On Eileen\",\"Suzie Q (Part I)\",\"Personal Jesus\",\"Heart-Shaped Box\",\"Whatever It Takes\",\"Give It Away\",\"Sound And Vision\",\"Band On The Run\",\"You Do Something To Me\",\"The Turn Of A Friendly Card\",\"Civil War\",\"I Just Can't Help Believin'\",\"Walk On The Wild Side\",\"Don't Cry\",\"Red Eyes\",\"You're My Best Friend\",\"Strange Machines\",\"If You Tolerate This Your Children Will Be Next\",\"Ik Bun Moar Een Eenvoudige Boerenlul\",\"Tubular Bells\",\"Candy\",\"Man On The Moon\",\"No More Tears\",\"The Family Tree\",\"Lippy Kids\",\"Gaia\",\"Burning Love\",\"Little Wing\",\"Disarm\",\"The Wind Cries Mary\",\"Miss You\",\"I'll Take Care Of You\",\"People Are Strange\",\"Plush\",\"Jesus He Knows Me\",\"Denis\",\"Stressed Out\",\"Waiting On A Friend\",\"Freak On A Leash\",\"Lazarus\",\"Help!\",\"Better Man\",\"Drops Of Jupiter (Tell Me)\",\"Proud Mary\",\"Unchain My Heart\",\"The Fool On The Hill\",\"Close To Me\",\"Motorcycle Emptiness\",\"Crime Of The Century\",\"Breakfast In America\",\"Listen To The Music\",\"Almost Cut My Hair\",\"Breakthru\",\"Your Latest Trick\",\"The Rising\",\"Dani California\",\"Ashes To Ashes\",\"Love Like Blood\",\"Cry Baby\",\"Il Volo\",\"Why Worry\",\"Can't Stop Loving You\",\"One Word\",\"The Dolphin's Cry\",\"Little Green Bag\",\"How You Gonna See Me Now\",\"Winter\",\"Ordinary Love\",\"I've Just Lost Somebody\",\"Faster\",\"50 Ways To Leave Your Lover\",\"Russians\",\"Beds Are Burning\",\"Waiting On A Sunny Day\",\"Fool To Cry\",\"One Of These Days\",\"Johnny B. Goode\",\"If You Leave Me Now\",\"Times Are Changing\",\"Sgt. Pepper\\u2019s Lonely Hearts Club Band\",\"Go With The Flow\",\"Question\",\"Driver's Seat\",\"No Surprises\",\"Wanted (Dead Or Alive)\",\"Absolute Beginners\",\"About A Girl (Unplugged)\",\"If You Don't Know Me By Now\",\"Avalon\",\"Mr. Jones\",\"Hunger Strike\",\"Bicycle Race\",\"Send Me An Angel\",\"Rockin' All Over The World\",\"Goodbye Stranger\",\"Peter Gunn Theme\",\"Let Love Rule\",\"Pain\",\"Keep On Loving You\",\"The Devil Made Me Do It\",\"Behind Blue Eyes\",\"Carry On Wayward Son\",\"Girl\",\"Sound Of The Screaming Day\",\"It's A Long Way There\",\"Use Somebody\",\"Whisky In The Jar\",\"Time Is Running Out\",\"Lonely Boy\",\"Spirit Of Radio\",\"Free Fallin'\",\"Locomotive Breath\",\"Born To Be Wild\",\"Tie Your Mother Down\",\"Harvest Moon\",\"Tequila Sunrise\",\"Storm And Thunder\",\"Road To Nowhere\",\"Running To Stand Still\",\"Love Me Tender\",\"Pinball Wizard\",\"Message To My Girl\",\"Long As I Can See The Light\",\"All I Want\",\"I Wish It Would Rain Down\",\"21 Guns\",\"Madness\",\"You Oughta Know\",\"Resistance\",\"All For Nothing\",\"Way Down We Go\",\"Lucy In The Sky With Diamonds\",\"Michelle\",\"Shiny Happy People\",\"Why'd You Only Call Me When You're High?\",\"Epic\",\"Friends Will Be Friends\",\"Hedonism\",\"Fluorescent Adolescent\",\"Adore You\",\"You Took The Words Right Out Of My Mouth\",\"Munich\",\"Heart Of Glass\",\"1979\",\"Alie\",\"Homeless\",\"When Love Comes To Town\",\"Ode To My Family\",\"Best Of You\",\"Changes\",\"Roadhouse Blues\",\"Bridges\",\"London Calling\",\"This Is Not America\",\"Mushanga\",\"Since I\\u2019ve Been Loving You\",\"Oh Well (Part I)\",\"Pamela\",\"Love Is A Battlefield\",\"In A Gadda Da Vida\",\"Barracuda\",\"Mercedes Benz\",\"Ruby Tuesday\",\"Here Without You\",\"You Can't Hurry Love\",\"Honky Tonk Women\",\"Purple Haze\",\"'39\",\"Fake Plastic Trees\",\"Don't Bring Me Down\",\"Down On The Corner\",\"Jumpin' Jack Flash\",\"Bird Of Paradise\",\"Bedshaped\",\"For Bitter Or Worse\",\"Golden Years\",\"Undisclosed Desires\",\"We Didn't Start The Fire\",\"Spread Your Wings\",\"Ziggy Stardust\",\"Somebody Told Me\",\"I Can't Sleep Without You (Live)\",\"Run To You\",\"The Unforgiven III\",\"Bombay\",\"Uninvited\",\"Mull Of Kintyre\",\"Everybody's Changing\",\"All You Need Is Love\",\"The One I Love\",\"Dat heb jij gedaan\",\"Just Say Yes\",\"Black Velvet\",\"In Bloom\",\"Two Out Of Three Ain't Bad\",\"Bigmouth Strikes Again\",\"Big Log\",\"Walking On The Moon\",\"Pure Morning\",\"My Sweet Lord\",\"Maggie May\",\"Too Much Love Will Kill You\",\"Drive\",\"Are You Gonna Go My Way\",\"You Can Leave Your Hat On\",\"House For Sale\",\"All The Small Things\",\"How To Save A Life\",\"Born On The Bayou\",\"Times Like These\",\"Farewell To The Fairground\",\"Seven Wonders\",\"Scenes From An Italian Restaurant\",\"So Far Away\",\"The Living Years\",\"Holiday\",\"The Boys Are Back In Town\",\"New York State Of Mind\",\"The Man Who Sold The World\",\"Shut Your Eyes\",\"Find The River\",\"Weather With You\",\"The Eve Of The War\",\"He Ain't Heavy, He's My Brother\",\"You Don't Fool Me\",\"Uptown Girl\",\"Thank God It's Christmas\",\"One Vision\",\"Glycerine\",\"Blueberry Hill\",\"Daughter\",\"Dynamite\",\"By The Way\",\"Ben Ik Te Min\",\"Memories\",\"N'Oubliez Jamais\",\"Home Again\",\"Moondance\",\"Simple Man\",\"What A Fool Believes\",\"Devil Don't Care\",\"Livin' Thing\",\"More Than Words\",\"The Way It Is\",\"It's The End Of The World As We Know It\",\"Kold Bloed\",\"School's Out\",\"Everytime I Think Of You\",\"In The Army Now\",\"Good Old-Fashioned Lover Boy\",\"Dazed And Confused\",\"Hall Of Fame\",\"Learning To Fly\",\"Buddy Joe\",\"Uncertain Smile\",\"The Air That I Breathe\",\"In These Arms\",\"When I'm Sixty-Four\",\"The Saints Are Coming\",\"Make Me Smile (Come Up And See Me)\",\"Bad Liar\",\"Weekend\",\"Jerusalem\",\"Going Home (Theme From Local Hero)\",\"R U Kiddin' Me\",\"Don't Answer Me\",\"Love Her Madly\",\"Memory Remains\",\"In My Life\",\"I Love You Like I Love Myself\",\"Crazy On You\",\"All My Life\",\"Johnny Make Believe\",\"Cold As Ice\",\"Bend And Break\",\"Mia\",\"Live And Let Die\",\"Run To The Water\",\"On Top Of The World\",\"As Tears Go By\",\"San Francisco (Be Sure To Wear Flowers In Your Hair)\",\"Don't Let Me Down\",\"Human Touch\",\"Sloop John B\",\"Pumped Up Kicks\",\"Big Love\",\"Apache\",\"If You Could See Me Now\",\"Heaven For Everyone\",\"With Arms Wide Open\",\"Sure Know Something\",\"I'm A Believer\",\"(You're The) Devil In Disguise\",\"I Am The Walrus\",\"Diane\",\"An American Trilogy\",\"Tuesday Afternoon\",\"We All Stand Together\",\"Lady Jane\",\"Lookin' Out My Back Door\",\"Mary Jane's Last Dance\",\"Live Is Life\",\"What Lies Ahead\",\"Because The Night\",\"Le Freak\",\"Stars\",\"Fire\",\"25 Or 6 To 4\",\"Moon Over Bourbon Street\",\"City Of Blinding Lights\",\"Roundabout\",\"Summertime\",\"Give Up Your Guns\",\"Black Night\",\"Take Me Home\",\"Rooster\",\"Bullet With Butterfly Wings\",\"The Racing Rats\",\"Kids\",\"Unbeschreiblich Weiblich\",\"Are You Lonesome Tonight\",\"Late In The Evening\",\"Hungry Heart\",\"Handle With Care\",\"Still Believe\",\"Why Can't This Be Love\",\"She's Leaving Home\",\"Forever Autumn\",\"Three Days In A Row\",\"Guitar Man\",\"Don't Stand So Close To Me\",\"Blitzkrieg Bop\",\"Lost On You\",\"I'm Going Home\",\"Live Forever\",\"Up Where We Belong\",\"God Save The Queen\",\"Blackstar\",\"Save Me\",\"Love Is All\",\"Touch Me\",\"You Could Be Mine\",\"I Want You To Want Me (Live)\",\"All Star\",\"Panama\",\"Feeling Good\",\"Polly\",\"Hide In Your Shell\",\"Ventura Highway\",\"Somebody To Love\",\"Me Gustas Tu\",\"Something Happened On The Way To Heaven\",\"Racing In The Street\",\"Spanish Stroll\",\"Monkey Gone To Heaven\",\"I Don't Want To Talk About It\",\"Maybe Tomorrow\",\"Live And Let Die\",\"It's A Beautiful Day\",\"The Life I Live\",\"Overture (Tommy)\",\"Make It Wit Chu\",\"Harvest\",\"Out In The Fields\",\"Nightporter\",\"Magnificent (She Says)\",\"Heathens\",\"The Eyes Of Jenny\",\"Black Dog\",\"Love Shack\",\"Counting Stars\",\"Blue Suede Shoes\",\"Gold On The Ceiling\",\"I'll Be Over You\",\"Angel Of Harlem\",\"I Won't Let You Down\",\"Into The Mystic\",\"Return To Sender\",\"Common People\",\"Home By The Sea\",\"Fly Like An Eagle\",\"Vienna\",\"Under My Thumb\",\"See Me, Feel Me\",\"Waterloo Sunset\",\"Up Around The Bend\",\"Fox On The Run\",\"A Hard Day's Night\",\"Pyro\",\"Stuck In A Moment You Can't Get Out Of\",\"Is This Love\",\"Don't Look Back\",\"Midnight Rambler\",\"Yellow Submarine\",\"Rock And Roll\",\"Pretty Fly (For A White Guy)\",\"Sweet Disposition\",\"Won't Get Fooled Again\",\"Wild Hearts\",\"Water Of Love\",\"Vertigo\",\"Detroit Rock City\",\"Twist And Shout\",\"Heavy Cross\",\"Desert Rose\",\"Fire (Live)\",\"Sunrise\",\"Shut Up And Dance\",\"Open Your Eyes\",\"Invisible Touch\",\"Original Sin\",\"Little Talks\",\"Cats In The Cradle\",\"Dancing With Tears In My Eyes\",\"Close To The Edge\",\"Damn Those Eyes\",\"Into Temptation\",\"Woman\",\"Beast Of Burden\",\"An End Has A Start\",\"Lovesong\",\"Breakeven\",\"Mmm Mmm Mmm Mmm\",\"Your Love\",\"New York Minute\",\"Homburg\",\"You Make Lovin' Fun\",\"No Son Of Mine\",\"Rearviewmirror\",\"Accidentally In Love\",\"Blinded By The Light\",\"Do It Again\",\"How Soon Is Now\",\"The Drugs Don't Work\",\"When I Come Around\",\"Gloria (Live)\",\"Ob-La-Di, Ob-La-Da\",\"Let's Groove\",\"Can't Stand Losing You\",\"Dakota\",\"Isn't It Time\",\"Break On Through (To The Other Side)\",\"Mercy\",\"We Belong To The Night\",\"The Worker\",\"Woman From Tokyo\",\"My Hero (Live)\",\"The Wall Street Shuffle\",\"My Generation\",\"Down Man\",\"Fairground\",\"Wit Licht\",\"Calling Elvis\",\"Tonight, Tonight\",\"Steppin' Out\",\"Get Ready\",\"Never Going Back Again\",\"For Crying Out Loud\",\"Rosalyn\",\"Working On A Dream\",\"Love Is The Drug\",\"No Surrender\",\"I Surrender\",\"Hey There Delilah\",\"Honesty\",\"The Joker\",\"Lucky Man\",\"Tears In The Morning\",\"Back Down South\",\"Sweet Jane\",\"Need You Tonight\",\"Sylvia's Mother\",\"Sing For Absolution\",\"Fame\",\"All Apologies\",\"Karma Chameleon\",\"Should I Stay Or Should I Go?\",\"Brilliant Disguise\",\"Edge Of Seventeen\",\"More Than This\",\"Secret Garden\",\"That Was Yesterday\",\"Time Is On My Side\",\"Merry Xmas Everybody\",\"If I Could Turn Back Time\",\"High Hopes\",\"Love Rears Its Ugly Head\",\"Sacrifice\",\"One Tree Hill\",\"Heaven Can Wait\",\"Blue Hotel\",\"Working Class Hero\",\"Sylvia\",\"I Sat By The Ocean\",\"It's Raining Again\",\"Thank U\",\"Ain't Talkin' 'bout Love\",\"Sunny Afternoon\",\"No Rain\",\"Long Cool Woman (In A Black Dress)\",\"Little Red Rooster\",\"I Write Sins Not Tragedies\",\"Long Train Running\",\"Jealous Guy\",\"Anarchy In The Uk\",\"I Want To Hold Your Hand\"],\"legendgroup\":\"Rock and metal\",\"marker\":{\"color\":\"#636efa\",\"symbol\":\"circle\"},\"mode\":\"markers\",\"name\":\"Rock and metal\",\"showlegend\":true,\"type\":\"scattergl\",\"x\":[1975,1967,1977,1974,1973,1971,1992,1992,1975,1975,2020,1970,1981,1992,1985,2016,1979,1982,1976,1978,1994,1975,1991,1990,2009,1987,1971,1978,1982,1981,1980,1991,1977,2000,1974,1992,1966,1991,1984,1979,1992,1970,1985,1966,1973,2016,1986,1992,1987,1978,1981,1977,1979,1992,2019,1977,1993,2009,1982,1976,1969,1991,2013,1971,1979,1986,1973,1982,2019,1969,2020,2006,1969,1968,1991,1991,1968,1978,1971,1981,1983,1977,1982,1969,1987,1969,1965,1997,1964,1994,2007,1996,1968,2005,1970,2006,1990,2000,1987,1991,1995,1988,1989,1990,1997,1993,1985,2001,1994,1993,1978,1996,1976,1974,1986,1969,1979,1972,1984,1985,1973,1973,1969,1991,1993,2004,2006,1991,1969,1985,1993,1985,1995,1991,1984,1980,1994,1972,1968,1979,1997,2001,1988,1992,1973,1985,2017,1991,1976,1968,1972,1984,1986,2003,1984,1982,1968,1977,2003,2009,2000,1991,2013,1969,1984,2007,1977,1998,1975,1978,2008,2013,1988,1971,1984,1994,1986,1979,1991,1982,1983,2004,2008,1987,2015,1984,1975,1979,2002,1986,1994,1980,1980,1987,1991,1972,2003,1975,1997,1971,1979,1978,2000,1983,1969,1972,1999,1968,1967,1977,1991,1977,1979,1991,1965,1994,1980,1977,1980,2002,1989,1961,1986,1967,1967,1988,1971,1974,1980,1994,1989,1973,1987,2004,1972,1967,1989,1984,2014,1973,2012,1981,1982,1975,1972,1977,1983,1985,1973,2005,1987,1986,1984,1966,2019,1977,1994,1997,2007,1971,1972,1992,1989,1970,1982,1998,1999,1982,1979,1997,2013,2006,1979,1971,1988,2018,1993,2014,2015,2017,1967,1979,1974,2011,1980,1991,1973,2006,1994,1975,2017,2001,1991,1980,2006,1984,1978,2014,2014,1971,2004,1987,1989,1967,2000,2013,1983,1983,1972,1985,1977,2005,1969,2015,1980,2003,2014,1994,1978,1969,1986,2014,1994,1967,1988,1971,1978,1979,2017,1966,2005,1982,1989,1982,1988,1993,1997,1988,1999,1977,1989,1976,1974,1996,1987,2001,1999,1977,1989,1985,2000,1967,1985,1992,2003,1982,1969,2001,2000,2011,1973,1978,2017,2016,1986,1975,1976,1975,1978,1996,1979,2005,2013,1970,1993,1969,2015,1970,1979,1970,1991,1975,1978,1996,1992,1974,1994,1977,2016,2000,1969,1986,1957,1984,2015,2013,1968,1989,1978,1979,1971,1977,1992,1980,1986,1997,1973,1985,1981,1995,2012,1990,1973,2012,1987,1976,1979,1975,1984,2011,2004,2016,1986,1975,2018,1979,1978,1995,1968,1987,1985,1997,1977,2008,1983,1981,1973,2001,2001,1986,1977,2006,1985,1980,1982,2008,1976,1975,1981,1967,2020,1974,1985,1995,1970,1993,2009,2002,1997,2003,1973,1976,1982,1986,1997,1986,2020,2004,2000,1986,1985,1973,2017,1975,2000,1986,1971,1983,1984,1965,1995,1983,2016,1968,1991,2017,1985,2002,1985,1979,1988,1992,1982,1968,1990,1993,2017,1992,1977,1974,1995,1980,1990,1971,1973,1991,2013,1976,1996,1998,1978,1974,1990,1992,1990,1999,2011,1993,1972,1967,1993,1967,1978,2011,1967,1993,1992,1978,2016,1981,1998,2016,1965,1994,2001,1969,1987,1967,1985,1992,1974,1979,1972,1970,1989,1985,2002,2006,1980,1985,1971,1996,1985,2002,2005,1999,1969,1979,1992,2013,1968,2011,1976,1985,1988,2003,1976,1971,1958,1976,2009,1967,2003,1970,1980,1997,1987,1986,1993,1989,1982,1994,1991,1978,1991,1977,1979,1980,1989,2017,1981,1982,2004,1976,2004,1967,1976,2008,1973,2003,2011,1980,1989,1972,1968,1977,1991,1973,1971,1985,1987,1956,1969,1984,1970,2012,1990,2009,2012,1996,2009,2014,2016,1967,1966,1991,2013,1989,1986,1997,2007,2019,1979,2005,1979,1996,1977,1986,1989,1994,2005,1971,1970,2017,1979,1985,1988,1970,1969,1988,1984,1970,1977,1970,1967,2004,1982,1969,1967,1975,1995,1979,1969,1968,1984,2004,2009,1976,2009,1989,1978,1972,2004,1992,1985,2008,1976,1999,1977,2004,1967,1987,2021,2009,1990,1991,1977,1986,1983,1979,1998,1970,1971,1992,1992,1993,1986,1975,1999,2007,1972,2003,2009,1987,1977,1985,1989,2005,1976,1976,1970,2007,1992,1991,1978,1969,1996,1983,1984,1985,1994,1957,1993,1974,2002,1967,1972,1997,2012,1970,1973,1978,2019,1976,1991,1986,1987,2019,1972,1979,1986,1976,1969,2012,1991,1972,1984,1974,1993,1967,2006,1975,2018,1979,2005,1983,1999,1984,1971,1997,1965,1979,1976,2002,1994,1977,2005,1992,1991,2000,2013,1966,1967,1969,1992,1966,2011,1987,1960,2013,1995,1999,1979,1966,1963,1967,1995,1972,1968,1985,1966,1970,1993,1985,2019,1978,1978,1991,1979,1970,1985,2005,1972,1969,1972,1970,1985,1992,1995,2008,2007,1979,1961,1980,1980,1988,1978,1987,1967,1978,2009,1968,1980,1976,2016,1971,1994,1982,1979,2015,1980,1975,1969,1991,1979,1999,1984,2001,1991,1974,1972,1967,2001,1990,1975,1977,1989,1977,2003,1973,1995,1966,1969,2008,1972,1985,1980,2016,2016,1981,1971,1989,2013,1956,2011,1986,1988,1981,1970,1962,1995,1983,1976,1977,1966,1970,1967,1970,1975,1964,2010,2000,1987,1978,1969,1966,1971,1999,2010,1971,2020,1978,2004,1976,1963,2009,2000,1986,2003,2014,1997,1986,1984,2012,1993,1984,1972,1999,1989,2005,1978,2007,1989,2009,1993,1986,1989,1967,1978,1991,1993,2004,1976,1972,1984,1997,1995,1983,1969,1981,1979,2005,1977,1967,2015,1979,1979,1973,2006,1974,1965,1969,1995,2015,1991,1995,1982,1970,1977,1978,1982,2008,1976,2009,2004,2007,1978,1973,1971,1970,2011,1974,1987,1972,2003,1975,1993,1983,1991,1987,1982,1982,1995,1985,1965,1973,1989,2018,1990,1998,1987,1979,1987,1970,1972,2013,1982,1998,1978,1966,1993,1971,1965,2005,1973,1981,1976,1964],\"xaxis\":\"x\",\"y\":[1,3,4,5,6,7,8,9,12,13,14,15,16,17,18,19,22,23,24,25,26,29,30,31,32,33,34,35,36,37,40,42,45,46,47,48,50,51,53,57,58,59,61,62,63,64,65,66,67,68,69,71,73,74,75,77,78,79,80,81,82,84,85,87,88,89,91,93,94,95,97,98,100,101,103,105,106,107,108,109,110,111,112,113,114,119,120,121,122,125,126,127,129,130,132,134,138,141,142,143,146,150,153,154,155,157,158,159,162,163,166,167,168,169,171,175,176,179,180,181,183,184,185,187,189,193,195,197,198,199,200,201,202,205,206,207,209,214,216,219,220,225,226,229,230,231,234,235,236,237,239,240,241,242,243,244,247,249,250,252,253,257,258,259,260,262,263,268,269,270,271,272,274,276,277,280,281,282,283,284,285,289,290,295,297,298,299,300,302,303,311,312,313,314,316,317,321,325,327,329,331,332,333,337,338,339,340,343,344,345,346,351,354,355,357,359,360,365,369,370,373,375,377,378,379,380,383,384,386,387,389,392,393,394,396,397,399,400,401,402,406,407,408,409,411,416,417,421,422,423,425,427,428,429,430,431,437,439,449,450,451,453,454,456,464,465,466,468,469,471,474,475,477,478,479,487,488,490,491,494,495,496,497,498,499,500,501,502,503,509,512,513,515,517,519,523,524,527,528,531,533,534,537,538,540,541,542,546,547,550,553,556,557,558,559,560,561,562,565,566,567,568,569,570,571,574,575,577,582,583,584,589,592,594,596,597,598,601,602,604,605,608,612,613,614,616,617,618,619,621,622,626,630,631,634,635,638,640,643,645,651,656,657,659,662,664,666,667,669,670,675,676,681,682,684,689,691,694,697,698,699,703,705,707,708,715,716,719,723,724,729,731,734,735,737,738,740,741,743,746,748,750,751,755,761,762,763,764,765,766,767,771,775,777,778,779,780,781,784,785,794,795,796,797,798,800,801,802,807,808,809,812,813,814,821,823,824,825,828,830,832,833,834,836,837,839,841,842,844,845,847,852,853,858,859,860,861,862,863,865,866,867,868,870,871,872,873,878,880,881,887,888,889,890,891,895,897,898,899,900,901,902,903,906,908,910,912,914,915,918,920,921,922,924,926,927,928,930,931,932,933,935,936,937,939,940,941,942,945,947,949,950,956,958,961,966,967,968,969,971,972,975,977,978,982,983,984,985,987,989,992,994,996,997,998,999,1001,1002,1008,1010,1012,1013,1017,1018,1020,1023,1024,1025,1026,1027,1029,1030,1031,1032,1033,1034,1036,1037,1038,1043,1046,1047,1050,1051,1052,1053,1056,1057,1062,1063,1067,1068,1070,1073,1075,1077,1078,1082,1083,1084,1085,1086,1087,1090,1094,1096,1100,1101,1102,1103,1106,1109,1110,1111,1113,1119,1122,1123,1124,1125,1127,1129,1133,1135,1138,1140,1141,1147,1150,1151,1152,1153,1154,1155,1156,1158,1162,1164,1165,1169,1177,1182,1185,1186,1188,1189,1190,1192,1195,1196,1197,1198,1202,1205,1206,1208,1209,1210,1212,1213,1215,1216,1217,1218,1219,1220,1223,1225,1228,1230,1234,1235,1236,1238,1241,1242,1243,1245,1246,1247,1248,1250,1254,1255,1262,1263,1266,1271,1273,1275,1276,1277,1279,1281,1285,1286,1289,1292,1293,1295,1296,1297,1298,1299,1300,1301,1304,1305,1306,1308,1309,1314,1318,1319,1322,1323,1324,1326,1327,1333,1339,1341,1342,1345,1348,1350,1351,1353,1360,1362,1363,1371,1372,1378,1379,1384,1388,1398,1400,1402,1403,1410,1411,1414,1415,1418,1424,1425,1426,1434,1437,1441,1443,1444,1445,1446,1447,1448,1450,1451,1453,1456,1457,1458,1459,1460,1461,1463,1466,1469,1470,1471,1473,1484,1485,1486,1488,1489,1490,1491,1495,1496,1498,1499,1500,1501,1502,1504,1507,1508,1511,1513,1515,1517,1523,1528,1529,1530,1531,1533,1535,1544,1546,1548,1551,1553,1557,1558,1559,1565,1570,1571,1574,1579,1580,1581,1584,1585,1590,1591,1593,1594,1596,1598,1599,1600,1603,1604,1606,1608,1610,1614,1615,1616,1617,1618,1619,1621,1623,1624,1626,1629,1630,1631,1632,1634,1635,1637,1639,1641,1644,1651,1656,1657,1664,1669,1670,1671,1672,1673,1678,1680,1681,1682,1684,1686,1687,1688,1689,1691,1692,1693,1694,1695,1696,1698,1703,1704,1710,1711,1713,1717,1718,1721,1722,1725,1727,1732,1733,1734,1735,1738,1739,1743,1744,1747,1748,1749,1756,1759,1760,1762,1763,1766,1767,1768,1769,1770,1771,1774,1775,1776,1777,1779,1780,1781,1782,1783,1784,1785,1787,1790,1792,1793,1794,1796,1797,1798,1799,1800,1802,1804,1812,1813,1816,1820,1824,1825,1826,1827,1832,1833,1836,1838,1839,1845,1846,1847,1848,1851,1853,1855,1858,1859,1860,1865,1867,1873,1877,1881,1882,1883,1884,1886,1887,1891,1894,1897,1899,1901,1902,1903,1904,1906,1909,1911,1912,1914,1916,1920,1921,1923,1925,1929,1930,1931,1933,1934,1936,1937,1938,1940,1941,1942,1943,1946,1956,1958,1959,1960,1961,1963,1964,1967,1970,1971,1972,1975,1979,1981,1982,1983,1984,1985,1993,1995,1997,1998],\"yaxis\":\"y\"},{\"customdata\":[[\"Danny Vera\"],[\"Simon & Garfunkel\"],[\"Johnny Cash\"],[\"Simon & Garfunkel\"],[\"Dolly Parton\"],[\"Leonard Cohen\"],[\"Simon & Garfunkel\"],[\"Tracy Chapman\"],[\"Johnny Cash\"],[\"Bob Dylan\"],[\"Mumford & Sons\"],[\"Lex Uiting\"],[\"Kenny Rogers & Dolly Parton\"],[\"Chris Stapleton\"],[\"Johnny Cash\"],[\"Jim Croce\"],[\"Mumford & Sons\"],[\"Simon & Garfunkel\"],[\"Leonard Cohen\"],[\"Johnny Cash\"],[\"Johnny Cash\"],[\"Passenger\"],[\"Danny Vera\"],[\"Mumford & Sons\"],[\"The Common Linnets\"],[\"Bob Dylan\"],[\"Simon & Garfunkel\"],[\"Leonard Cohen\"],[\"Bob Dylan\"],[\"Danny Vera\"],[\"Art Garfunkel\"],[\"Simon & Garfunkel\"],[\"Danny Vera\"],[\"Dolly Parton\"],[\"Leonard Cohen\"],[\"Clannad\"],[\"Leonard Cohen\"],[\"Bob Dylan\"],[\"Simon & Garfunkel\"],[\"Leonard Cohen\"],[\"Dolly Parton\"],[\"Bob Dylan\"],[\"Tracy Chapman\"],[\"John Denver & Placido Domingo\"],[\"First Aid Kit\"],[\"Simon & Garfunkel\"],[\"Joni Mitchell\"],[\"Stealers Wheel\"],[\"Taylor Swift\"],[\"Taylor Swift\"],[\"Johnny Cash\"],[\"Johnny Cash\"],[\"Willie Nelson\"],[\"The Dubliners\"],[\"Ben Howard\"],[\"Ralph McTell\"],[\"Danny Vera\"],[\"Tracy Chapman\"],[\"Janis Ian\"],[\"Taylor Swift\"],[\"Mumford & Sons\"],[\"Johnny Cash\"],[\"Jonathan Jeremiah\"],[\"Joe Buck\"],[\"Mumford & Sons\"],[\"Bob Dylan\"],[\"Mumford & Sons\"],[\"Leonard Cohen\"],[\"Chris Stapleton\"],[\"Tim Hardin\"],[\"Lady Antebellum\"],[\"Duncan Browne\"],[\"Taylor Swift\"],[\"Fink\"],[\"Birdy\"]],\"hovertemplate\":\"<b>%{hovertext}</b><br><br>Supersupergenre=Country and Folk<br>Year of release=%{x}<br>Position=%{y}<br>Artist=%{customdata[0]}<extra></extra>\",\"hovertext\":[\"Roller Coaster\",\"The Sound Of Silence\",\"Hurt\",\"Bridge Over Troubled Water\",\"Jolene\",\"Hallelujah\",\"The Boxer\",\"Fast Car\",\"Ring Of Fire\",\"Hurricane\",\"Little Lion Man\",\"Nao 't Zuuje\",\"Islands In The Stream\",\"Tennessee Whiskey\",\"I Walk The Line\",\"Time In A Bottle\",\"The Cave\",\"Mrs. Robinson\",\"Suzanne\",\"Folsom Prison Blues (Live)\",\"A Boy Named Sue\",\"Let Her Go\",\"Hold On To Let Go\",\"I Will Wait\",\"Calm After The Storm\",\"Blowin' In The Wind\",\"El Condor Pasa (If I Could)\",\"So Long Marianne\",\"Like A Rolling Stone\",\"The Weight\",\"Bright Eyes\",\"Homeward Bound\",\"Pressure Makes Diamonds (2020)\",\"9 To 5\",\"Dance Me To The End Of Love\",\"Theme From 'Harry's Game'\",\"You Want It Darker\",\"The Times They Are A-Changin'\",\"Scarborough Fair\",\"Take This Waltz\",\"I Will Always Love You\",\"Knockin' On Heaven's Door\",\"Baby Can I Hold You\",\"Perhaps Love\",\"My Silver Lining\",\"Cecilia\",\"Both Sides Now\",\"Stuck In The Middle With You\",\"All Too Well (Taylor's Version)\",\"Shake It Off\",\"San Quentin\",\"A Thing Called Love\",\"Always On My Mind\",\"The Wild Rover\",\"Keep Your Head Up\",\"Streets Of London\",\"The Devil's Son\",\"Talkin' Bout A Revolution\",\"At Seventeen\",\"Blank Space\",\"Lover Of The Light\",\"One\",\"Happiness\",\"The Way You Take Time\",\"Hopeless Wanderer\",\"I Want You\",\"Babel\",\"Famous Blue Raincoat\",\"Cold\",\"How Can We Hang On To A Dream\",\"Need You Now\",\"The Wild Places\",\"Cowboy Like Me\",\"Looking Too Closely\",\"Skinny Love\"],\"legendgroup\":\"Country and Folk\",\"marker\":{\"color\":\"#EF553B\",\"symbol\":\"circle\"},\"mode\":\"markers\",\"name\":\"Country and Folk\",\"showlegend\":true,\"type\":\"scattergl\",\"x\":[2019,1966,2002,1970,1974,1984,1969,1988,1963,1975,2010,2017,1983,2015,1957,1972,2010,1968,1968,1968,1969,2012,2020,2012,2014,1963,1970,1968,1965,2020,1979,1966,2020,1981,1984,1983,2016,1964,1966,1988,1983,1973,1988,1981,2014,1970,1968,1973,2021,2014,1969,1972,1984,1964,2011,1972,2013,1988,1975,2015,2012,2000,2011,2019,2013,1966,2013,1971,2020,1967,2010,1979,2020,2014,2011],\"xaxis\":\"x\",\"y\":[2,28,41,55,99,135,152,218,267,275,382,388,403,414,424,460,462,472,480,485,620,648,649,706,713,720,728,747,786,792,822,838,851,877,886,965,986,1045,1069,1093,1105,1131,1146,1174,1183,1187,1193,1257,1282,1328,1335,1358,1361,1366,1370,1404,1455,1468,1518,1605,1714,1726,1730,1753,1834,1849,1857,1861,1868,1878,1924,1951,1965,1974,1989],\"yaxis\":\"y\"},{\"customdata\":[[\"Boudewijn de Groot\"],[\"Miss Montreal\"],[\"Racoon\"],[\"Klein Orkest\"],[\"Stef Bos\"],[\"Wim Sonneveld\"],[\"Liesbeth List & Ramses Shaffy\"],[\"Guus Meeuwis\"],[\"Claudia de Breij\"],[\"Bl\\u00f8f ft. Geike\"],[\"Acda & De Munnik\"],[\"Ramses Shaffy\"],[\"Andr\\u00e9 Hazes\"],[\"Van Dik Hout\"],[\"Andr\\u00e9 Hazes\"],[\"Frank Boeijen Groep\"],[\"Racoon\"],[\"Ramses Shaffy\"],[\"Racoon\"],[\"Frans Halsema\"],[\"Rowwen H\\u00e8ze\"],[\"Marco Borsato\"],[\"Frank Boeijen Groep\"],[\"Andr\\u00e9 Hazes\"],[\"Boudewijn de Groot\"],[\"De Dijk\"],[\"De Dijk\"],[\"Maan\"],[\"De Dijk\"],[\"Bl\\u00f8f\"],[\"Krezip\"],[\"Racoon\"],[\"Rowwen H\\u00e8ze\"],[\"Boudewijn de Groot\"],[\"Skik\"],[\"Abel\"],[\"Cuby & the Blizzards\"],[\"Andr\\u00e9 Hazes\"],[\"Stef Bos\"],[\"Bl\\u00f8f\"],[\"Andr\\u00e9 Hazes\"],[\"Andr\\u00e9 Hazes\"],[\"De Dijk\"],[\"Bl\\u00f8f\"],[\"Rob de Nijs\"],[\"Bl\\u00f8f\"],[\"De Dijk\"],[\"Acda & De Munnik\"],[\"Rob de Nijs\"],[\"Boudewijn de Groot\"],[\"Bl\\u00f8f\"],[\"De Dijk\"],[\"Guus Meeuwis\"],[\"Acda & De Munnik\"],[\"Marco Borsato, Armin van Buuren & Davina Michelle\"],[\"Bl\\u00f8f\"],[\"Maaike Ouboter\"],[\"Paul de Leeuw\"],[\"Het Goede Doel\"],[\"Rowwen H\\u00e8ze\"],[\"Spinvis\"],[\"Andr\\u00e9 Hazes Jr.\"],[\"Paul de Leeuw & Simone Kleinsma\"],[\"Bankzitters\"],[\"Guus Meeuwis\"],[\"Het Goede Doel\"],[\"Boudewijn de Groot\"],[\"Krezip\"],[\"Frank Boeijen Groep\"],[\"Rowwen H\\u00e8ze\"],[\"Boudewijn de Groot\"],[\"Rob de Nijs\"],[\"Ede Staal\"],[\"De Dijk\"],[\"Herman van Veen\"],[\"Racoon\"],[\"Acda & De Munnik\"],[\"Frank Boeijen Groep\"],[\"Rowwen H\\u00e8ze\"],[\"De Dijk\"],[\"Nits\"],[\"Rowwen H\\u00e8ze\"],[\"Guus Meeuwis & Vagant\"],[\"Bl\\u00f8f\"],[\"Rob de Nijs\"],[\"Ilse DeLange\"],[\"De Dijk\"],[\"Snelle\"],[\"Paul De Leeuw & Andr\\u00e9 Hazes\"],[\"De Dijk\"],[\"Bl\\u00f8f\"],[\"Marco Borsato\"],[\"Veldhuis & Kemper\"],[\"Guus Meeuwis\"],[\"Marco Borsato\"],[\"G\\u00e9 Reinders\"],[\"Bl\\u00f8f\"],[\"Andr\\u00e9 Hazes\"],[\"Nick & Simon\"],[\"De Dijk\"],[\"De Dijk\"],[\"Racoon\"],[\"Boudewijn de Groot\"],[\"Acda & De Munnik\"],[\"Acda & De Munnik\"],[\"Racoon\"],[\"Rowwen H\\u00e8ze\"],[\"Bl\\u00f8f\"],[\"Ilse DeLange\"],[\"Herman van Veen\"],[\"Toontje Lager\"],[\"Krezip\"],[\"Herman van Veen\"],[\"3JS\"],[\"Herman van Veen\"],[\"Guus Meeuwis\"],[\"Het Goede Doel\"],[\"Cuby & the Blizzards\"],[\"Bl\\u00f8f\"],[\"Andr\\u00e9 Hazes\"],[\"Snelle\"],[\"Nielson\"],[\"Andr\\u00e9 Hazes\"],[\"Pommelien Thijs & Jaap Reesema\"],[\"Vandenberg\"],[\"Alderliefste & Paul de Leeuw\"],[\"Bl\\u00f8f\"],[\"Cuby & the Blizzards\"],[\"Drs. P\"],[\"Andr\\u00e9 Hazes\"],[\"Marco Borsato\"],[\"Guus Meeuwis\"],[\"3JS\"],[\"Is Ook Schitterend\"],[\"Ramses Shaffy\"],[\"Marco Borsato\"],[\"Racoon\"],[\"Ramses Shaffy\"],[\"Marco Borsato\"],[\"Ilse DeLange\"],[\"Nick & Simon\"],[\"Rob de Nijs\"],[\"Paul de Leeuw\"],[\"Jenny Arean & Frans Halsema\"],[\"Nits\"],[\"Frank Boeijen Groep\"],[\"Ilse DeLange\"],[\"Raymond Van Het Groenewoud\"],[\"Tino Martin\"],[\"Bl\\u00f8f\"],[\"Boudewijn de Groot\"],[\"Marco Borsato\"],[\"Snelle\"],[\"Marco Borsato\"],[\"Andr\\u00e9 Hazes\"],[\"Guus Meeuwis\"],[\"Spinvis\"],[\"Boudewijn de Groot\"],[\"Van Dik Hout\"],[\"Rowwen H\\u00e8ze\"],[\"Stef Bos\"],[\"Ilse DeLange\"],[\"Marco Borsato\"],[\"Andr\\u00e9 van Duin\"],[\"Johan\"],[\"Boudewijn de Groot\"],[\"Frank Boeijen Groep\"],[\"Tr\\u00f6ckener Kecks\"],[\"Herman van Veen\"],[\"Drukwerk\"],[\"Acda & De Munnik\"],[\"De Dijk\"],[\"Bl\\u00f8f\"],[\"Klein Orkest\"],[\"Rob de Nijs\"],[\"Bl\\u00f8f\"]],\"hovertemplate\":\"<b>%{hovertext}</b><br><br>Supersupergenre=Nederlandstalig<br>Year of release=%{x}<br>Position=%{y}<br>Artist=%{customdata[0]}<extra></extra>\",\"hovertext\":[\"Avond\",\"Door De Wind\",\"Oceaan\",\"Over De Muur\",\"Papa\",\"Het Dorp\",\"Pastorale\",\"Brabant\",\"Mag Ik Dan Bij Jou\",\"Zoutelande\",\"Het Regent Zonnestralen\",\"Laat Me\",\"Kleine Jongen\",\"Stil In Mij\",\"Bloed Zweet En Tranen\",\"Zeg Me Dat Het Niet Zo Is\",\"Het Is Al Laat Toch\",\"Zing, Vecht, Huil, Bid, Lach, Werk En Bewonder\",\"Love You More\",\"Voor Haar\",\"November\",\"Dochters\",\"Kronenburg Park\",\"Zij Gelooft In Mij\",\"Testament\",\"Dansen Op De Vulkaan\",\"Niemand In De Stad\",\"Ze Huilt Maar Ze Lacht\",\"Als Ze Er Niet Is\",\"Zo Stil\",\"I Would Stay\",\"De Echte Vent\",\"De Peel In Brand\",\"Verdronken Vlinder\",\"Op Fietse\",\"Onderweg\",\"Window Of My Eyes\",\"Geef Mij Je Angst\",\"Is Dit Nu Later\",\"Omarm\",\"De Vlieger\",\"Zeg Maar Niets Meer\",\"Mag Het Licht Uit\",\"Harder Dan Ik Hebben Kan\",\"Het Werd Zomer\",\"Aan De Kust\",\"Groot Hart\",\"Lopen Tot De Zon Komt\",\"Foto Van Vroeger\",\"De Vondeling Van Ameland\",\"Dansen Aan Zee\",\"Ik Kan Het Niet Alleen\",\"Geef Mij Je Angst\",\"Ren Lenny Ren\",\"Hoe Het Danst\",\"Liefs Uit Londen\",\"Dat Ik Je Mis\",\"'k Heb Je Lief\",\"Alles Geprobeerd\",\"Limburg (Live)\",\"Kom Terug\",\"Leef\",\"Zonder Jou\",\"Stapelgek\",\"Dat Komt Door Jou\",\"Belgi\\u00eb\",\"Welterusten Mijnheer De President\",\"Sweet Goodbyes\",\"De Verzoening\",\"Vlinder\",\"Jimmy\",\"Banger Hart\",\"Het Het Nog Nooit Zo Donker West\",\"Binnen Zonder Kloppen\",\"Liefde Van Later\",\"Don't Give Up The Fight\",\"Niet Of Nooit Geweest\",\"Zwart Wit\",\"Auto Vliegtuug\",\"Bloedend Hart\",\"In The Dutch Mountains\",\"De Neus Umhoeg\",\"Het Is Een Nacht... (Levensecht)\",\"Hou Vol Hou Vast\",\"Malle Babbe\",\"I Still Cry\",\"Onderuit\",\"Re\\u00fcnie\",\"Droomland\",\"Als Het Golft\",\"Blauwe Ruis\",\"Margherita\",\"Ik Wou Dat Ik Jou Was\",\"Tranen Gelachen\",\"Rood\",\"Blaosmuziek\",\"Mooie Dag\",\"'n Beetje Verliefd\",\"Pak Maar M'n Hand\",\"Nergens Goed Voor\",\"Kan Ik Iets Voor Je Doen?\",\"Liverpool Rain\",\"Het Land Van Maas En Waal\",\"De Kapitein Deel II\",\"Als Het Vuur Gedoofd Is\",\"No Mercy\",\"Bestel Mar\",\"Wat Zou Je Doen\",\"Miracle\",\"Suzanne\",\"Stiekem Gedanst\",\"Lost Without You\",\"Hilversum 3\",\"Hou Van Mij\",\"Anne\",\"De Weg\",\"Vriendschap\",\"Somebody Will Know Someday\",\"Alles Is Liefde\",\"'n Vriend\",\"Smoorverliefd\",\"IJskoud\",\"Het Is Koud Zonder Jou\",\"Nu Wij Niet Meer Praten\",\"Burning Heart\",\"Une Belle Histoire/Een Mooi Verhaal\",\"Zaterdag\",\"Appleknockers Flophouse\",\"Dodenrit\",\"Het Laatste Rondje\",\"De Bestemming\",\"'t Dondert En 't Bliksemt\",\"Watermensen\",\"Voltooid Verleden Tijd\",\"Sammy\",\"Mooi\",\"Shoes Of Lightning\",\"Wij Zullen Doorgaan\",\"Afscheid Nemen Bestaat Niet\",\"I'm Not So Tough\",\"Kijk Omhoog\",\"Niet Voor Het Laatst\",\"Vlieg Met Me Mee (Live)\",\"Vluchten Kan Niet Meer\",\"Nescio\",\"Hier Komt De Storm\",\"So Incredible\",\"Je Veux De L'Amour\",\"Zij Weet Het\",\"Aanzoek Zonder Ringen\",\"Als De Rook Om Je Hoofd Is Verdwenen\",\"Ik Leef Niet Meer Voor Jou\",\"Kleur\",\"Zij\",\"Uit M'n Bol\",\"Proosten\",\"Bagagedrager\",\"Een Meisje Van 16\",\"Meer Dan Een Ander\",\"'T Roeie Klied\",\"Ik Heb Je Lief\",\"World Of Hurt\",\"De Waarheid\",\"Als De Zon Schijnt\",\"Tumble And Fall\",\"Prikkebeen\",\"Winter In Hamburg\",\"Met Hart en Ziel\",\"Toveren\",\"Je Loog Tegen Mij\",\"Mooi Liedje\",\"Mijn Van Straat Geredde Roos\",\"Later Als Ik Groter Ben\",\"Laat Mij Maar Alleen\",\"Zondag\",\"Hier\"],\"legendgroup\":\"Nederlandstalig\",\"marker\":{\"color\":\"#00cc96\",\"symbol\":\"circle\"},\"mode\":\"markers\",\"name\":\"Nederlandstalig\",\"showlegend\":true,\"type\":\"scattergl\",\"x\":[1997,2020,2012,1984,1991,1974,1969,2003,2011,2017,1998,1978,1990,1994,2002,1990,2020,1971,2005,1977,2000,2008,1985,2004,1967,1987,1989,2019,1994,2012,2000,2020,2005,1966,1997,2000,1968,1983,1990,2003,1977,1982,1987,1999,1977,1999,1985,1997,1980,2004,2000,1989,2005,2002,2019,1998,2013,1997,1986,1996,2012,2016,1995,2021,2009,1982,1966,2009,1987,2003,1973,1996,1984,1985,1969,2011,1998,1984,1999,1982,1987,1995,1995,2011,1975,2000,1987,2019,1993,2000,2002,1996,2003,2007,2006,1999,2002,1981,2007,1989,2011,2012,1967,2000,1997,2011,1992,1998,2009,1969,1983,2019,1984,2008,1986,2005,1983,1967,2007,1980,2020,2018,1980,2020,1983,2006,1999,1969,1974,1984,1998,1998,2008,1997,1966,2015,2013,1975,2003,1998,2007,2017,1992,1977,1983,1988,2008,1980,2019,2006,1972,1996,2020,2002,1993,2007,2002,1965,1994,1995,1992,1998,1996,1983,2001,1968,1987,1990,1987,1981,1997,2008,2012,1982,1980,2000],\"xaxis\":\"x\",\"y\":[10,20,27,39,52,54,60,83,86,96,102,117,128,131,174,208,211,212,215,217,222,224,233,245,265,273,291,293,301,305,309,320,335,341,353,356,364,366,367,371,374,385,405,419,426,435,443,447,463,476,493,507,520,521,526,532,539,543,545,552,595,603,607,611,624,633,644,646,653,654,674,688,700,701,718,726,745,753,758,759,776,810,829,856,869,883,893,913,925,929,934,960,963,979,1005,1006,1014,1015,1041,1048,1055,1058,1059,1060,1089,1091,1095,1107,1112,1114,1144,1200,1237,1258,1269,1272,1278,1287,1288,1291,1315,1330,1346,1352,1356,1368,1377,1383,1387,1392,1413,1416,1417,1420,1428,1430,1467,1472,1476,1479,1480,1482,1494,1503,1509,1532,1534,1555,1564,1576,1589,1607,1625,1649,1653,1658,1662,1674,1699,1701,1702,1750,1761,1786,1869,1876,1885,1888,1895,1898,1913,1919,1939,1944,1968,1988],\"yaxis\":\"y\"},{\"customdata\":[[\"Coldplay\"],[\"Lady Gaga & Bradley Cooper\"],[\"Coldplay\"],[\"ABBA\"],[\"Paolo Nutini\"],[\"Coldplay\"],[\"Robbie Williams\"],[\"Simple Minds\"],[\"Coldplay\"],[\"Coldplay\"],[\"Adele\"],[\"ABBA\"],[\"Michael Jackson\"],[\"Elton John\"],[\"Kate Bush\"],[\"Neil Diamond\"],[\"Adele\"],[\"Coldplay & Avicii\"],[\"Falco\"],[\"George Michael\"],[\"Adele\"],[\"Jason Paige\"],[\"Ed Sheeran\"],[\"Simple Minds\"],[\"Elton John\"],[\"Michael Jackson\"],[\"Jacques Brel\"],[\"Lady Gaga\"],[\"Adele\"],[\"ABBA\"],[\"Adele\"],[\"Helene Fischer\"],[\"Michael Jackson\"],[\"Tom Odell\"],[\"The Amazing Stroopwafels\"],[\"Eddie Vedder\"],[\"Bette Midler\"],[\"Eddie Vedder\"],[\"Adele\"],[\"Beth Hart\"],[\"Duncan Laurence\"],[\"Michael Jackson\"],[\"Don McLean\"],[\"ABBA\"],[\"ABBA\"],[\"Elton John\"],[\"George Michael & Elton John\"],[\"John Denver\"],[\"Kate Bush\"],[\"Peter Gabriel & Kate Bush\"],[\"ABBA\"],[\"ABBA\"],[\"Bill Withers\"],[\"ABBA\"],[\"ABBA\"],[\"Alderliefste & Ramses Shaffy & Liesbeth List\"],[\"A-Ha\"],[\"Bl\\u00f8f & Counting Crows\"],[\"Peter Gabriel\"],[\"ABBA\"],[\"Nena\"],[\"Adele\"],[\"Billie Eilish\"],[\"Michael Jackson\"],[\"\\u00c9dith Piaf\"],[\"Suzan & Freek & Snelle\"],[\"Suzan & Freek\"],[\"George Michael\"],[\"Wham!\"],[\"John Denver\"],[\"Neil Diamond\"],[\"Hozier\"],[\"Ed Sheeran\"],[\"ABBA\"],[\"Simple Minds\"],[\"Tears For Fears\"],[\"Michael Jackson\"],[\"Michael Jackson\"],[\"Eurythmics\"],[\"Adele\"],[\"Neet O\\u00e9t Lottum\"],[\"Bee Gees\"],[\"Ed Sheeran\"],[\"Rick Astley\"],[\"Ed Sheeran\"],[\"Herbert Gr\\u00f6nemeyer\"],[\"Frankie Goes To Hollywood\"],[\"Bonnie Tyler\"],[\"John Denver\"],[\"Davina Michelle\"],[\"Don McLean\"],[\"Anita Meyer\"],[\"Coldplay\"],[\"Novastar\"],[\"Elvis Costello\"],[\"Adele\"],[\"Donna Summer\"],[\"George Michael\"],[\"George Michael\"],[\"Kate Bush\"],[\"George Michael\"],[\"Ed Sheeran\"],[\"Kate Bush\"],[\"George Michael\"],[\"ABBA\"],[\"Madness\"],[\"Lana Del Rey\"],[\"Gerry Rafferty\"],[\"Elton John\"],[\"Michael Jackson\"],[\"Tina Turner\"],[\"P!nk\"],[\"Suzan & Freek\"],[\"Cat Stevens\"],[\"The Cats\"],[\"ABBA\"],[\"John Mayer\"],[\"ABBA\"],[\"Billie Eilish\"],[\"Chris Rea\"],[\"Herbert Gr\\u00f6nemeyer\"],[\"ABBA\"],[\"Elton John\"],[\"George Michael\"],[\"Bee Gees\"],[\"John Mayer\"],[\"Robbie Williams\"],[\"Spandau Ballet\"],[\"Barbara Pravi\"],[\"Simple Minds\"],[\"The Cats\"],[\"Ed Sheeran\"],[\"Elton John\"],[\"John Mayer\"],[\"Michael Jackson\"],[\"ABBA\"],[\"Michael Jackson\"],[\"Al Stewart\"],[\"Pharrell Williams\"],[\"Whitney Houston\"],[\"Dani\\u00ebl Lohues\"],[\"Neil Diamond\"],[\"Eddie Vedder\"],[\"Snollebollekes\"],[\"Tears For Fears & Oleta Adams\"],[\"Adele\"],[\"Gilbert O'Sullivan\"],[\"De Poema's\"],[\"Tina Turner\"],[\"Robert Long\"],[\"Fools Garden\"],[\"Robbie Williams\"],[\"P!nk\"],[\"Henk Westbroek\"],[\"ABBA\"],[\"Elton John\"],[\"Rufus Wainwright\"],[\"ABBA\"],[\"Elton John\"],[\"Eros Ramazzotti\"],[\"John Mayer\"],[\"ABBA\"],[\"Barry White\"],[\"Cat Stevens\"],[\"Gloria Gaynor\"],[\"The Blue Nile\"],[\"Dusty Springfield\"],[\"Michael Jackson\"],[\"One Direction\"],[\"Elvis Costello\"],[\"Dani\\u00ebl Lohues\"],[\"Damien Rice\"],[\"Lisa Lois\"],[\"Tavares\"],[\"Mariah Carey\"],[\"Roxette\"],[\"Adele\"],[\"Robbie Williams\"],[\"Nena & Kim Wilde\"],[\"Phil Collins & Philip Bailey\"],[\"Backstreet Boys\"],[\"Ed Sheeran\"],[\"Chris de Burgh\"],[\"Madonna\"],[\"Coldplay\"],[\"Simple Minds\"],[\"Moby\"],[\"Tears For Fears\"],[\"Justin Timberlake\"],[\"Madness\"],[\"Spandau Ballet\"],[\"Lewis Capaldi\"],[\"Clouseau\"],[\"Adele\"],[\"Donna Summer\"],[\"Boney M.\"],[\"George Michael\"],[\"De Kast\"],[\"Melanie\"],[\"Ed Sheeran\"],[\"Les Poppys\"],[\"Bee Gees\"],[\"Davina Michelle & Snelle\"],[\"Ten Sharp\"],[\"The Cats\"],[\"John Farnham\"],[\"De Poema's\"],[\"Cyndi Lauper\"],[\"Adele\"],[\"Bee Gees\"],[\"Carly Simon\"],[\"Lauren Daigle\"],[\"ABBA\"],[\"Elton John & Kiki Dee\"],[\"John Mayer\"],[\"Carpenters\"],[\"Ed Sheeran\"],[\"Simple Minds\"],[\"Eros Ramazzotti & Tina Turner\"],[\"Madness\"],[\"Wham!\"],[\"Coldplay\"],[\"Barbra Streisand\"],[\"Whitney Houston\"],[\"Bee Gees\"],[\"Spice Girls\"],[\"Bill Withers\"],[\"Roxette\"],[\"Adele\"],[\"John Denver\"],[\"Coldplay\"],[\"Marc Cohn\"],[\"Jacques Brel\"],[\"Moby\"],[\"Neil Diamond\"],[\"George Michael\"],[\"George Michael & Aretha Franklin\"],[\"Matthias Reim\"],[\"Donna Summer\"],[\"Adele\"],[\"Michael Jackson\"],[\"Beth Hart\"],[\"Suzan & Freek\"],[\"Marianne Rosenberg\"],[\"Bee Gees\"],[\"Mr. Mister\"],[\"Coldplay\"],[\"Michael Andrews ft. Gary Jules\"],[\"Florence + The Machine\"],[\"ABBA\"],[\"Tears For Fears\"],[\"Madness\"],[\"Lionel Richie\"],[\"Barbra Streisand\"],[\"The Cats\"],[\"Michael Jackson\"],[\"Bee Gees\"],[\"The Bangles\"],[\"Lady Gaga\"],[\"Christina Aguilera\"],[\"Madonna\"],[\"Michael Jackson\"],[\"Cock Robin\"],[\"Peter Gabriel\"],[\"Bruno Mars\"],[\"Kim Wilde\"],[\"Coldplay\"],[\"C\\u00e9line Dion\"],[\"Barry Ryan\"],[\"Elton John\"],[\"Loreen\"],[\"Michael Jackson\"],[\"Kirsty Maccoll & Pogues\"],[\"John Mayer\"],[\"Robert Long\"],[\"Davina Michelle\"],[\"C\\u00e9line Dion\"],[\"Coldplay\"],[\"Justin Timberlake\"],[\"Peter Gabriel\"],[\"Wham!\"],[\"George Michael & Mary J. Blige\"],[\"Ed Sheeran\"],[\"Lady Gaga\"],[\"Laura Pausini\"],[\"Roy Orbison\"],[\"Mecano\"],[\"Grace Jones\"],[\"Bruno Mars\"],[\"Nena\"],[\"Ed Sheeran\"],[\"One Direction\"],[\"Dotan\"],[\"Band Aid\"],[\"James Taylor\"],[\"Lewis Capaldi\"],[\"Bee Gees\"],[\"James Blunt\"],[\"ABBA\"],[\"Dan Hartman\"],[\"Niall Horan\"],[\"Ed Sheeran\"],[\"Whitney Houston\"],[\"P!nk\"],[\"Dolly Dots\"],[\"Hans de Booij\"],[\"Lionel Richie\"],[\"John Mayer\"],[\"Elton John\"],[\"John Denver\"],[\"Kate Bush\"],[\"Dua Lipa ft. DaBaby\"],[\"The Cats\"],[\"Elton John\"],[\"Lukas Graham\"],[\"Natasha Bedingfield\"],[\"Youssou N'Dour & Neneh Cherry\"],[\"Maarten Van Roozendaal\"],[\"George Michael\"],[\"Ryan Paris\"],[\"Coldplay\"],[\"Boney M.\"],[\"Ronan Keating\"],[\"Roy Orbison\"],[\"Frankie Goes To Hollywood\"],[\"Neil Diamond\"],[\"Mika\"],[\"ABBA\"],[\"Bee Gees\"],[\"Herbert Gr\\u00f6nemeyer\"],[\"Michael Jackson\"],[\"Michael Jackson\"],[\"James Blunt\"],[\"Bee Gees\"],[\"Coldplay\"],[\"Whitney Houston\"],[\"Bee Gees\"],[\"Cyndi Lauper\"],[\"P!nk\"],[\"Black\"],[\"Carpenters\"],[\"Whitney Houston\"],[\"Tom Jones\"],[\"Madonna\"],[\"Tina Turner\"],[\"George Michael\"],[\"Suzanne Vega\"],[\"Jason Mraz\"],[\"Madonna\"],[\"James Taylor\"],[\"Michael Jackson\"],[\"Billy Ocean\"],[\"Matthew Wilder\"],[\"Peter Gabriel\"],[\"Tears For Fears\"],[\"The Weather Girls\"],[\"P!nk\"],[\"Lorde\"],[\"Eurythmics\"],[\"Patrick Hernandez\"],[\"Suzan & Freek\"],[\"Coldplay\"],[\"Dido\"],[\"Lady Gaga\"],[\"Michael Jackson\"],[\"De Kast\"],[\"Justin Bieber\"],[\"Madonna\"],[\"Davina Michelle\"],[\"Bruno Mars\"],[\"Bruno Mars\"],[\"Billie Eilish\"],[\"Jason Mraz\"],[\"Bette Midler\"],[\"John Mayer\"],[\"Cyndi Lauper\"],[\"Chris Rea\"],[\"Paul Young\"],[\"Bee Gees\"],[\"Eros Ramazzotti\"],[\"Ed Sheeran\"],[\"George Ezra\"],[\"Jacques Brel\"],[\"Tanita Tikaram\"],[\"Calum Scott\"],[\"Coldplay\"],[\"Michael Jackson\"],[\"Twarres\"],[\"Clouseau\"],[\"Robbie Williams\"],[\"Backstreet Boys\"],[\"Britney Spears\"],[\"Bruno Mars\"],[\"Robbie Williams\"],[\"Frankie Goes To Hollywood\"],[\"Ed Sheeran & Justin Bieber\"],[\"Adele\"],[\"George Ezra\"],[\"Rihanna ft. Mikky Ekko\"],[\"Toploader\"],[\"George Michael\"],[\"Boney M.\"],[\"Neil Diamond\"],[\"Ava Max\"],[\"Coldplay\"],[\"Santa Esmeralda\"],[\"Roy Orbison\"],[\"Tina Turner\"],[\"A-Ha\"],[\"Barbra Streisand\"],[\"Barbra Streisand\"],[\"One Direction\"],[\"Annie Lennox\"],[\"Tones And I\"],[\"John Mayer\"],[\"Tom Jones\"],[\"Eurythmics\"],[\"Miley Cyrus\"],[\"George Michael\"],[\"Blaudzun\"]],\"hovertemplate\":\"<b>%{hovertext}</b><br><br>Supersupergenre=Pop<br>Year of release=%{x}<br>Position=%{y}<br>Artist=%{customdata[0]}<extra></extra>\",\"hovertext\":[\"Fix You\",\"Shallow\",\"Viva La Vida\",\"Dancing Queen\",\"Iron Sky\",\"The Scientist\",\"Angels\",\"Belfast Child\",\"Clocks\",\"Yellow\",\"Someone Like You\",\"The Winner Takes It All\",\"Billie Jean\",\"Your Song\",\"Wuthering Heights\",\"Sweet Caroline\",\"Rolling In The Deep\",\"A Sky Full Of Stars\",\"Jeanny\",\"Careless Whisper\",\"Skyfall\",\"Gotta Catch 'M All (Pokemon Theme Song)\",\"Perfect\",\"Don't You (Forget About Me)\",\"Rocket Man\",\"Earth Song\",\"Ne Me Quitte Pas\",\"Always Remember Us This Way\",\"Make You Feel My Love\",\"Gimme Gimme Gimme\",\"Hello\",\"Atemlos Durch Die Nacht\",\"Thriller\",\"Another Love\",\"Oude Maasweg\",\"Guaranteed\",\"The Rose\",\"Society\",\"When We Were Young\",\"Leave The Light On\",\"Arcade\",\"Man In The Mirror\",\"Vincent\",\"Chiquitita\",\"The Day Before You Came\",\"I'm Still Standing\",\"Don't Let The Sun Go Down On Me\",\"Take Me Home, Country Roads\",\"The Man With The Child In His Eyes\",\"Don't Give Up\",\"Mamma Mia\",\"Thank You For The Music\",\"Ain't No Sunshine\",\"Eagle\",\"Lay All Your Love On Me\",\"Laat Me/Vivre\",\"Take On Me\",\"Holiday In Spain\",\"Solsbury Hill\",\"Waterloo\",\"99 Luftballons\",\"Set Fire To The Rain\",\"Bad Guy\",\"Beat It\",\"Non, Je Ne Regrette Rien\",\"De Overkant\",\"Als Het Avond Is\",\"Jesus To A Child\",\"Last Christmas\",\"Annie's Song\",\"I Am... I Said\",\"Take Me To Church\",\"I See Fire\",\"Does Your Mother Know\",\"Alive And Kicking\",\"Everybody Wants To Rule The World\",\"Smooth Criminal\",\"They Don't Care About Us\",\"Sweet Dreams (Are Made Of This)\",\"Easy on me\",\"Hald Mich 's Vas\",\"Stayin' Alive\",\"Shape Of You\",\"Never Gonna Give You Up\",\"Thinking Out Loud\",\"Halt Mich\",\"The Power Of Love\",\"Total Eclipse Of The Heart\",\"Leaving On A Jet Plane\",\"Duurt Te Lang\",\"American Pie\",\"Why Tell Me Why\",\"Paradise\",\"Wrong\",\"She\",\"Million Years Ago\",\"I Feel Love\",\"Father Figure\",\"Cowboys And Angels\",\"Running Up That Hill\",\"Freedom! '90\",\"Castle On The Hill\",\"Cloudbusting\",\"A Different Corner\",\"Voulez-Vous\",\"One Step Beyond\",\"Video Games\",\"Baker Street\",\"Tiny Dancer\",\"Dirty Diana\",\"The Best\",\"What About Us\",\"Blauwe Dag\",\"Morning Has Broken\",\"One Way Wind\",\"I Have A Dream\",\"Slow Dancing In A Burning Room\",\"Take A Chance On Me\",\"Everything I Wanted\",\"Driving Home For Christmas\",\"Der Weg\",\"Happy New Year\",\"Nikita\",\"Faith\",\"How Deep Is Your Love\",\"In The Blood\",\"Feel\",\"Through The Barricades\",\"Voil\\u00e0\",\"Waterfront\",\"Lea\",\"The A Team\",\"Circle Of Life\",\"Gravity\",\"Heal The World\",\"Fernando\",\"Ben\",\"Year Of The Cat\",\"Happy\",\"I Will Always Love You\",\"Hier Kom Ik Weg\",\"Beautiful Noise\",\"Hard Sun\",\"Links Rechts\",\"Woman In Chains\",\"Chasing Pavements\",\"Nothing Rhymed\",\"Zij Maakt Het Verschil\",\"Private Dancer\",\"Flink Zijn\",\"Lemon Tree\",\"Let Me Entertain You\",\"Try\",\"Zelfs Je Naam Is Mooi\",\"Knowing Me, Knowing You\",\"Candle In The Wind 1997\",\"Going To A Town\",\"Super Trouper\",\"Goodbye Yellow Brick Road\",\"Musica \\u00c8\",\"Daughters\",\"One Of Us\",\"You're The First, The Last, My Everything\",\"Father And Son\",\"I Will Survive\",\"Tinseltown In The Rain\",\"Son Of A Preacher Man\",\"Black Or White\",\"Story Of My Life\",\"I Want You\",\"Prachtig Mooie Dag\",\"9 Crimes\",\"Hallelujah\",\"Heaven Must Be Missing An Angel\",\"All I Want For Christmas Is You\",\"Listen To Your Heart\",\"Hometown Glory\",\"Mr. Bojangles\",\"Anyplace, Anywhere, Anytime\",\"Easy Lover\",\"I Want It That Way\",\"Photograph\",\"The Lady In Red\",\"Like A Prayer\",\"Everglow\",\"New Gold Dream (81-82-83-84)\",\"Porcelain\",\"Shout\",\"Can't Stop The Feeling!\",\"Our House\",\"Gold\",\"Someone You Loved\",\"Daar Gaat Ze\",\"Turning Tables\",\"State Of Independence\",\"Rasputin\",\"Killer/Papa Was A Rollin' Stone\",\"In Nije Dei\",\"Beautiful People\",\"Afterglow\",\"Non Non Rien n'a Chang\\u00e9\",\"More Than A Woman\",\"17 Miljoen Mensen\",\"You\",\"Marian\",\"You're The Voice\",\"Mijn Houten Hart\",\"True Colors\",\"All I Ask\",\"Words\",\"You're So Vain\",\"You Say\",\"S.O.S.\",\"Don't Go Breaking My Heart\",\"Free Fallin' (Live)\",\"Top Of The World\",\"Supermarket Flowers\",\"Someone Somewhere In Summertime\",\"Cose Della Vita\",\"Night Boat To Cairo\",\"Wake Me Up Before You Go-Go\",\"Magic\",\"Woman In Love\",\"I Wanna Dance With Somebody (Who Loves Me)\",\"Tragedy\",\"Wannabe\",\"Lovely Day\",\"It Must Have Been Love\",\"Rumour Has It\",\"Calypso\",\"Trouble\",\"Walking In Memphis\",\"Mijn Vlakke Land\",\"Why Does My Heart Feel So Bad\",\"September Morn'\",\"Praying For Time\",\"I Knew You Were Waiting (For Me)\",\"Verdammt Ich Lieb' Dich\",\"MacArthur Park\",\"Water Under The Bridge\",\"The Way You Make Me Feel\",\"L.A. Song\",\"Weg Van Jou\",\"Ich Bin Wie Du\",\"Massachusetts\",\"Broken Wings\",\"Christmas Lights\",\"Mad World\",\"Dog Days Are Over\",\"The Name Of The Game\",\"Sowing The Seeds Of Love\",\"Baggy Trousers\",\"Hello\",\"Memory\",\"Scarlet Ribbons\",\"Human Nature\",\"Night Fever\",\"Eternal Flame\",\"Born This Way\",\"Hurt\",\"Frozen\",\"Don't Stop 'Til You Get Enough\",\"The Promise You Made\",\"Sledgehammer\",\"When I Was Your Man\",\"Cambodia\",\"Adventure Of A Lifetime\",\"It's All Coming Back To Me\",\"Eloise\",\"Can You Feel The Love Tonight\",\"Euphoria\",\"Bad\",\"Fairytale Of New York\",\"New Light\",\"Kalverliefde\",\"Beat Me\",\"My Heart Will Go On\",\"Hymn For The Weekend\",\"Mirrors\",\"Biko\",\"Club Tropicana\",\"As\",\"Galway Girl\",\"Bad Romance\",\"La Solitudine\",\"In Dreams\",\"Hijo De La Luna\",\"La Vie En Rose\",\"24K Magic\",\"Nur Getr\\u00e4umt\",\"Happier\",\"Best Song Ever\",\"Home\",\"Do They Know It's Christmas\",\"You've Got A Friend\",\"Before You Go\",\"To Love Somebody\",\"Goodbye My Lover\",\"Money Money Money\",\"Relight My Fire\",\"This Town\",\"Bad Habits\",\"Greatest Love Of All\",\"Raise Your Glass\",\"Love Me Just A Little Bit More (Totally Hooked On You)\",\"Annabel\",\"All Night Long (All Night)\",\"Waiting On The World To Change\",\"Sorry Seems To Be The Hardest Word\",\"Thank God I'm A Country Boy\",\"Babooshka\",\"Levitating\",\"Times Were When\",\"Daniel\",\"7 Years\",\"Unwritten\",\"7 Seconds\",\"Red Mij Niet\",\"You Have Been Loved\",\"Dolce Vita\",\"Speed Of Sound\",\"Rivers Of Babylon\",\"When You Say Nothing At All\",\"Oh, Pretty Woman\",\"Relax\",\"Love On The Rocks\",\"Grace Kelly\",\"Summer Night City\",\"I Started A Joke\",\"Mensch\",\"Wanna Be Startin' Somethin'\",\"Off The Wall\",\"You're Beautiful\",\"Nights On Broadway\",\"Talk\",\"One Moment In Time\",\"Spicks And Specks\",\"Time After Time\",\"Dear Mr. President\",\"Wonderful Life\",\"(They Long To Be) Close To You\",\"I Have Nothing\",\"Green Green Grass Of Home\",\"Vogue\",\"What's Love Got To Do With It\",\"One More Try\",\"Luka\",\"I Won't Give Up\",\"Live To Tell\",\"Fire And Rain\",\"Rock With You\",\"Love Really Hurts Without You\",\"Break My Stride\",\"In Your Eyes\",\"Mad World\",\"It's Raining Men\",\"Family Portrait\",\"Royals\",\"There Must Be An Angel (Playing With My Heart)\",\"Born To Be Alive\",\"Goud\",\"Every Teardrop Is A Waterfall\",\"White Flag\",\"Poker Face\",\"Will You Be There\",\"Hart Van Mijn Gevoel\",\"Love Yourself\",\"La Isla Bonita\",\"Skyward\",\"Just The Way You Are\",\"Locked Out Of Heaven\",\"Happier Than Ever\",\"I'm Yours\",\"Beast Of Burden\",\"Last Train Home\",\"Girls Just Want To Have Fun\",\"Josephine\",\"Love Of The Common People\",\"You Win Again\",\"Se Bastasse Una Canzone\",\"Lego House\",\"Budapest\",\"Voir Un Ami Pleurer\",\"Twist In My Sobriety\",\"Dancing On My Own\",\"In My Place\",\"Stranger In Moscow\",\"Wer Bisto\",\"Domino\",\"She's The One\",\"Everybody (Backstreet's Back)\",\"Toxic\",\"Grenade\",\"The Road To Mandalay\",\"Two Tribes\",\"I Don't Care\",\"Send My Love (To Your New Lover)\",\"Shotgun\",\"Stay\",\"Dancing In The Moonlight\",\"I Can't Make You Love Me\",\"Daddy Cool\",\"Song Sung Blue\",\"Kings & Queens\",\"Green Eyes\",\"Don't Let Me Be Misunderstood\",\"You Got It\",\"We Don't Need Another Hero\",\"Hunting High And Low\",\"Papa Can You Hear Me?\",\"The Way We Were\",\"One Way Or Another (Teenage Kicks)\",\"Why\",\"Dance Monkey\",\"Heartbreak Warfare\",\"It's Not Unusual\",\"Here Comes The Rain Again\",\"Midnight Sky\",\"Kissing A Fool\",\"Promises Of No Man's Land\"],\"legendgroup\":\"Pop\",\"marker\":{\"color\":\"#ab63fa\",\"symbol\":\"circle\"},\"mode\":\"markers\",\"name\":\"Pop\",\"showlegend\":true,\"type\":\"scattergl\",\"x\":[2005,2018,2008,1976,2014,2002,1998,1989,2003,2000,2011,1980,1983,1971,1978,1969,2010,2014,1986,1984,2012,1997,2017,1985,1972,1995,1959,2019,2008,1979,2015,2013,1983,2012,1982,2007,1980,2007,2015,2004,2019,1988,1972,1979,1982,1983,1991,1971,1978,1986,1975,1978,1971,1978,1980,2005,1985,2004,1977,1974,1983,2011,2019,1983,1961,2020,2018,1996,1984,1976,1971,2014,2014,1979,1985,1985,1988,1996,1983,2021,2004,1978,2017,1987,2014,1988,1984,1983,1969,2018,1972,1981,2011,1999,1999,2016,1977,1988,1991,1985,1990,2017,1985,1986,1979,1979,2011,1978,1971,1987,1989,2017,2019,1972,1971,1979,2006,1977,2019,1986,2002,1980,1985,1987,1977,2017,2002,1986,2021,1983,1968,2011,1994,2006,1992,1975,1972,1977,2013,1992,2008,1976,2007,2015,1989,2008,1971,2001,1984,1977,1996,1998,2012,1998,1977,1997,2007,1980,1973,1989,2005,1981,1974,1971,1979,1984,1968,1991,2013,1986,2011,2006,2009,1976,1994,1989,2009,2001,2003,1985,1999,2015,1986,1989,2015,1982,1999,1985,2016,1982,1983,2019,1990,2011,1982,1978,1993,1997,1969,2020,1971,1977,2020,1991,1969,1987,1999,1986,2015,1968,1973,2019,1975,1976,2008,1973,2017,1982,1998,1980,1984,2014,1980,1987,1979,1996,1978,1990,2011,1975,2000,1991,1965,1999,1979,1990,1987,1990,1978,2016,1987,1999,2020,1976,1967,1986,2010,2003,2009,1977,1989,1980,1984,1982,1969,1983,1978,1989,2011,2006,1998,1979,1986,1986,2013,1981,2015,1996,1968,1994,2012,1987,1987,2018,1974,2020,1998,2015,2013,1980,1983,1999,2017,2009,1993,1963,1990,1977,2016,1983,2017,2013,2014,1984,1971,2019,1967,2005,1976,1980,2016,2021,1986,2010,1983,1983,1983,2006,1976,1975,1980,2020,1968,1973,2015,2004,1994,2001,1997,1983,2005,1978,1999,1964,1984,1980,2007,1978,1969,2003,1983,1979,2005,1975,2005,1988,1967,1984,2006,1987,1970,1993,1966,1990,1984,1988,1987,2012,1986,1970,1979,1976,1984,1986,1983,1983,2002,2013,1985,1979,2021,2011,2003,2009,1993,1999,2016,1987,2019,2010,2012,2021,2008,1984,2021,1984,1985,1984,1987,1990,2012,2014,1961,1988,2016,2002,1996,2000,1990,1999,1997,2004,2010,2001,1984,2019,2016,2018,2013,2000,1997,1976,1972,2020,2002,1977,1989,1985,1986,1983,1973,2013,1992,2019,2009,1965,1983,2020,1988,2014],\"xaxis\":\"x\",\"y\":[11,38,43,44,70,72,92,104,116,118,124,133,136,137,139,144,145,148,151,160,164,165,172,173,177,182,188,190,191,194,196,204,213,221,223,227,228,232,238,248,251,254,261,264,279,286,288,294,306,308,315,322,323,324,326,328,330,342,347,348,350,361,362,363,372,381,390,391,398,415,432,436,438,442,444,445,448,452,455,457,459,470,473,481,492,504,505,506,511,518,522,525,529,535,548,551,554,563,572,576,581,585,587,588,590,591,593,599,600,610,615,623,625,627,628,632,637,639,642,647,652,658,660,661,663,665,668,671,678,679,680,683,686,687,692,696,704,711,712,714,717,721,725,732,736,739,749,752,754,770,772,782,783,788,790,791,793,803,811,815,816,817,818,827,835,840,843,846,848,849,850,857,864,876,879,882,884,885,894,904,907,909,911,916,917,919,923,943,948,951,953,954,957,959,962,964,974,976,980,981,990,993,1003,1007,1009,1016,1019,1040,1049,1054,1065,1066,1071,1072,1074,1079,1081,1088,1092,1097,1118,1121,1126,1128,1130,1132,1134,1136,1137,1139,1148,1149,1157,1160,1161,1163,1166,1168,1171,1173,1179,1180,1181,1184,1204,1207,1211,1214,1224,1231,1232,1233,1239,1252,1253,1259,1260,1264,1265,1270,1303,1307,1311,1313,1317,1320,1334,1337,1340,1343,1344,1347,1349,1354,1357,1373,1375,1376,1381,1385,1386,1390,1393,1394,1401,1407,1409,1412,1419,1421,1422,1423,1436,1438,1439,1442,1452,1465,1475,1478,1481,1483,1493,1505,1506,1514,1516,1519,1522,1537,1538,1539,1540,1541,1545,1550,1552,1554,1556,1560,1561,1562,1566,1569,1578,1583,1586,1587,1588,1592,1595,1597,1601,1602,1609,1612,1628,1633,1638,1640,1643,1645,1646,1654,1655,1661,1668,1677,1685,1690,1697,1700,1712,1715,1720,1723,1724,1731,1736,1742,1752,1754,1757,1764,1765,1772,1773,1788,1791,1806,1807,1808,1809,1810,1811,1815,1817,1819,1821,1822,1823,1829,1830,1831,1835,1837,1841,1843,1850,1852,1862,1863,1864,1866,1880,1889,1893,1896,1900,1905,1908,1910,1915,1918,1922,1926,1927,1935,1945,1947,1949,1954,1962,1966,1973,1976,1987,1994,1999,2000],\"yaxis\":\"y\"},{\"customdata\":[[\"Prince & The Revolution\"],[\"Michael Kiwanuka\"],[\"Amy Winehouse\"],[\"Eric Clapton\"],[\"Otis Redding\"],[\"The Weeknd\"],[\"Ike & Tina Turner\"],[\"Gary Moore\"],[\"Frank Sinatra\"],[\"Chef'Special\"],[\"Prince & The Revolution\"],[\"Eric Clapton\"],[\"Rag'n'Bone Man\"],[\"Chef'Special\"],[\"Ike & Tina Turner\"],[\"Aretha Franklin\"],[\"Eric Clapton\"],[\"Marvin Gaye\"],[\"Seal\"],[\"Mark Ronson ft. Amy Winehouse\"],[\"John Legend\"],[\"Louis Armstrong\"],[\"Amy Winehouse\"],[\"The Temptations\"],[\"Prince & The Revolution\"],[\"Aretha Franklin\"],[\"Mark Ronson ft. Bruno Mars\"],[\"Stevie Wonder\"],[\"Cream\"],[\"Eva Cassidy\"],[\"Beyonc\\u00e9\"],[\"Nina Simone\"],[\"Aretha Franklin\"],[\"Frank Sinatra\"],[\"Prince\"],[\"The Righteous Brothers\"],[\"Derek & The Dominos\"],[\"Prince\"],[\"The Weeknd\"],[\"Aretha Franklin\"],[\"The Teskey Brothers\"],[\"Frank Sinatra\"],[\"Amy Winehouse\"],[\"John Hiatt\"],[\"Prince & The Revolution\"],[\"Ben E. King\"],[\"Blues Brothers\"],[\"Amy Winehouse\"],[\"Michael Kiwanuka\"],[\"Gladys Knight & The Pips\"],[\"Etta James\"],[\"Prince & The Revolution\"],[\"Nina Simone\"],[\"Teskey Brothers\"],[\"Paolo Conte\"],[\"Stevie Wonder\"],[\"The Trammps\"],[\"Amy Winehouse\"],[\"Sade\"],[\"Portishead\"],[\"Dave Brubeck Quartet\"],[\"Sam Cooke\"],[\"Stevie Ray Vaughan\"],[\"Prince\"],[\"Prince & The Revolution\"],[\"Ike & Tina Turner\"],[\"Michael Bubl\\u00e9\"],[\"B.B. King\"],[\"Bill Withers & Grover Washington, Jr.\"],[\"Tom Waits\"],[\"Eric Clapton\"],[\"Katie Melua\"],[\"The Black Crowes\"],[\"Marvin Gaye\"],[\"Alain Clark\"],[\"Xavier Rudd\"],[\"Stevie Wonder\"],[\"Roberta Flack\"],[\"Labi Siffre\"],[\"Etta James\"],[\"Marvin Gaye\"],[\"Chef'Special\"],[\"J.J. Cale\"],[\"Level 42\"],[\"Stevie Wonder\"],[\"Frank Sinatra\"],[\"Michael Kiwanuka\"],[\"Seal\"],[\"Ella Fitzgerald & Louis Armstrong\"],[\"Black Pumas\"],[\"Caro Emerald\"],[\"Chef'Special\"],[\"The Robert Cray Band\"],[\"Norah Jones\"],[\"Muddy Waters\"],[\"Nina Simone\"],[\"Otis Redding\"],[\"Womack & Womack\"],[\"J.J. Cale\"],[\"The Weeknd\"],[\"Sammy Davis Jr.\"],[\"J.J. Cale\"],[\"The Black Crowes\"],[\"Marvin Gaye & Tammi Terrell\"],[\"Khruangbin & Leon Bridges\"],[\"Stevie Wonder\"],[\"Beyonc\\u00e9\"],[\"Bonnie Raitt\"],[\"Sam Cooke\"],[\"Curtis Mayfield\"],[\"Jamiroquai\"],[\"Eva Cassidy\"],[\"Prince\"],[\"Norah Jones\"],[\"Rufus & Chaka Khan\"],[\"Eric Clapton\"],[\"Gregory Porter\"],[\"Frank Zappa\"],[\"Prince\"],[\"Blackstreet ft. Dr Dre\"],[\"Solomon Burke & De Dijk\"],[\"Frank Sinatra\"],[\"Silk Sonic\"],[\"Prince & The New Power Generation\"],[\"John Legend\"],[\"Michael Bubl\\u00e9\"],[\"Otis Redding\"],[\"Percy Sledge\"],[\"James Brown\"],[\"James Brown\"],[\"Level 42\"],[\"Shirley Bassey\"],[\"Beyonc\\u00e9\"],[\"Marvin Gaye\"],[\"Al Green\"],[\"Beyonc\\u00e9 & Jay-Z\"],[\"Cream\"]],\"hovertemplate\":\"<b>%{hovertext}</b><br><br>Supersupergenre=Jazz, Blues & Soul<br>Year of release=%{x}<br>Position=%{y}<br>Artist=%{customdata[0]}<extra></extra>\",\"hovertext\":[\"Purple Rain\",\"Cold Little Heart\",\"Back To Black\",\"Tears In Heaven\",\"(Sittin' On) The Dock Of The Bay\",\"Blinding Lights\",\"Proud Mary\",\"Still Got The Blues\",\"My Way\",\"In Your Arms\",\"When Doves Cry\",\"Layla (Unplugged)\",\"Human\",\"Amigo\",\"River Deep Mountain High\",\"Respect\",\"Wonderful Tonight\",\"What's Going On\",\"Kiss From A Rose\",\"Valerie\",\"All Of Me\",\"What A Wonderful World\",\"Rehab\",\"Papa Was A Rolling Stone\",\"Sometimes It Snows In April\",\"I Say A Little Prayer\",\"Uptown Funk\",\"Superstition\",\"White Room\",\"Fields Of Gold\",\"Halo\",\"Ain't Got No, I Got Life (Original)\",\"(You Make Me Feel Like A) Natural Woman\",\"Fly Me To The Moon\",\"1999\",\"Unchained Melody\",\"Layla\",\"Sign 'O' The Times\",\"Save Your Tears\",\"Think (Blues Brothers Version)\",\"Pain And Misery\",\"That's Life\",\"You Know I'm No Good\",\"Have A Little Faith In Me\",\"Raspberry Beret\",\"Stand By Me\",\"Everybody Needs Somebody To Love\",\"Tears Dry On Their Own\",\"Love And Hate\",\"Midnight Train To Georgia\",\"At Last\",\"I Would Die 4 U\",\"Feeling Good\",\"Hold Me\",\"Max\",\"Isn't She Lovely\",\"Disco Inferno\",\"Love Is A Losing Game\",\"Smooth Operator\",\"Glory Box\",\"Take Five\",\"A Change Is Gonna Come\",\"Pride And Joy\",\"Let's Go Crazy\",\"Kiss\",\"Nutbush City Limits\",\"Feeling Good\",\"The Thrill Is Gone\",\"Just The Two Of Us\",\"Tom Traubert's Blues (Waltzing Mathilda)\",\"Cocaine\",\"Nine Million Bicycles\",\"Remedy\",\"I Heard It Through The Grapevine\",\"Father & Friend\",\"Follow The Sun\",\"I Wish\",\"The First Time Ever I Saw Your Face\",\"(Something Inside) So Strong\",\"I'd Rather Go Blind\",\"Sexual Healing\",\"Afraid of the dark\",\"After Midnight\",\"Lessons In Love\",\"Sir Duke\",\"Theme From 'New York New York'\",\"Home Again\",\"Crazy\",\"Summertime\",\"Colors\",\"A Night Like This\",\"Nicotine\",\"Right Next Door (Because Of Me)\",\"Sunrise\",\"Mannish Boy\",\"My Baby Just Cares For Me\",\"I've Got Dreams To Remember\",\"Teardrops\",\"Cocaine\",\"In Your Eyes\",\"Mr. Bojangles\",\"Call Me The Breeze\",\"Hard To Handle\",\"Ain't No Mountain High Enough\",\"Texas Sun\",\"Master Blaster (Jammin')\",\"Love On Top\",\"I Can't Make You Love Me\",\"Wonderful World\",\"Move On Up\",\"Virtual Insanity\",\"Songbird\",\"The Cross\",\"Don't Know Why\",\"Ain't Nobody\",\"Forever Man\",\"Liquid Spirit (Claptone Remix)\",\"Dancin' Fool\",\"Gold\",\"No Diggity\",\"Hold On Tight\",\"It Was A Very Good Year\",\"Leave The Door Open\",\"Diamonds And Pearls\",\"Ordinary People\",\"Home\",\"Try A Little Tenderness\",\"When A Man Loves A Woman\",\"Sex Machine\",\"It's A Man's Man's Man's World\",\"Love Games\",\"This Is My Life\",\"Listen\",\"Let's Get It On\",\"Let's Stay Together\",\"Crazy In Love\",\"Sunshine Of Your Love\"],\"legendgroup\":\"Jazz, Blues & Soul\",\"marker\":{\"color\":\"#FFA15A\",\"symbol\":\"circle\"},\"mode\":\"markers\",\"name\":\"Jazz, Blues & Soul\",\"showlegend\":true,\"type\":\"scattergl\",\"x\":[1984,2016,2007,1992,1968,2019,1971,1990,1969,2014,1984,1992,2016,2016,1966,1967,1977,1971,1995,2007,2013,1968,2006,1972,1986,1968,2014,1973,1968,1996,2009,1968,1967,1964,1982,1965,1971,1987,2020,1980,2019,1966,2007,1989,1985,1987,1989,2007,2016,1973,1960,1984,1965,2019,1988,1976,1977,2007,1984,1994,1962,1964,1983,1984,1986,1974,2005,1969,1981,1976,1978,2005,1992,1969,2008,2015,1977,1972,1987,1967,1982,2021,1972,1986,1977,1980,2012,1991,1958,2019,2009,2017,1987,2004,1988,1987,1968,1988,1976,2020,1967,1972,1990,1967,2019,1980,2011,1991,1960,1970,1996,1997,1987,2002,1984,1985,2015,1979,1995,1996,2010,1968,2021,1991,2005,2005,1966,1966,1970,1966,1981,1979,2007,1973,1971,2003,1968],\"xaxis\":\"x\",\"y\":[21,49,56,90,115,156,161,246,307,334,395,404,418,434,440,446,458,467,482,483,489,514,549,564,579,606,609,636,641,655,727,733,744,756,768,769,773,774,805,820,896,938,946,952,955,973,995,1022,1028,1035,1042,1044,1064,1116,1142,1143,1145,1172,1175,1191,1194,1199,1201,1203,1221,1249,1251,1256,1268,1274,1284,1302,1312,1316,1321,1331,1332,1336,1359,1380,1382,1395,1397,1399,1427,1429,1449,1462,1477,1497,1525,1526,1543,1547,1567,1568,1575,1582,1620,1627,1648,1652,1660,1667,1676,1679,1705,1706,1707,1708,1728,1737,1741,1746,1751,1778,1789,1801,1818,1828,1842,1844,1854,1872,1875,1890,1907,1952,1953,1955,1957,1969,1977,1978,1986,1992,1996],\"yaxis\":\"y\"},{\"customdata\":[[\"Eminem\"],[\"Bob Marley & The Wailers\"],[\"Rammstein\"],[\"Rammstein\"],[\"De Jeugd Van Tegenwoordig\"],[\"Kyteman\"],[\"Charles Aznavour\"],[\"Rammstein\"],[\"Freddie Mercury & Montserrat Caball\\u00e9\"],[\"Stromae\"],[\"Diggy Dex ft. JW Roy\"],[\"Faithless\"],[\"Avicii ft. Aloe Blacc\"],[\"The Mamas & The Papas\"],[\"Charles Aznavour\"],[\"Peter Maffay\"],[\"Rammstein\"],[\"Michel Fugain\"],[\"Bob Marley & The Wailers\"],[\"Alphaville\"],[\"Underworld\"],[\"Peter Fox\"],[\"Bob Marley & The Wailers\"],[\"Sin\\u00e9ad O'Connor\"],[\"Sin\\u00e9ad O'Connor\"],[\"Jay-Z & Alicia Keys\"],[\"Faithless\"],[\"Eminem & Dido\"],[\"Stromae\"],[\"DJ Paul Elstak\"],[\"Doe Maar\"],[\"Avicii\"],[\"Avicii\"],[\"Andrea Bocelli & Giorgia\"],[\"Armin van Buuren ft. Kensington\"],[\"Buena Vista Social Club\"],[\"Gerry & The Pacemakers\"],[\"Santana\"],[\"Armin van Buuren ft.Trevor Guthrie\"],[\"Orchestral Manoeuvres In The Dark\"],[\"Andrea Bocelli & Sarah Brightman\"],[\"Massive Attack\"],[\"UB40\"],[\"2Pac\"],[\"The Black Eyed Peas\"],[\"Talk Talk\"],[\"Linkin Park & Jay-Z\"],[\"Vangelis\"],[\"Coolio\"],[\"Charles Aznavour\"],[\"Doe Maar\"],[\"Rammstein\"],[\"Ennio Morricone\"],[\"Santana\"],[\"Stromae\"],[\"Charly Lownoise & Mental Theo\"],[\"Santana\"],[\"Massive Attack\"],[\"Doe Maar\"],[\"Doe Maar\"],[\"Typhoon\"],[\"Beastie Boys\"],[\"P!nk ft. Nate Ruess\"],[\"David Guetta & Sia\"],[\"Peter Schilling\"],[\"The Opposites\"],[\"UB40\"],[\"Eminem\"],[\"The Prodigy\"],[\"Chi Coltrane\"],[\"Amy MacDonald\"],[\"Diggy Dex\"],[\"The Prodigy\"],[\"Andrea Bocelli\"],[\"The Black Eyed Peas\"],[\"Duran Duran\"],[\"Eminem\"],[\"Bob Marley & The Wailers\"],[\"Ti\\u00ebsto\"],[\"Enya\"],[\"Soft Cell\"],[\"Gigi D'agostino\"],[\"Talk Talk\"],[\"Carole King\"],[\"The Chainsmokers & Coldplay\"],[\"Daft Punk ft. Pharrell Williams\"],[\"M\\u00e5neskin\"],[\"Yann Tiersen\"],[\"Doe Maar\"],[\"Doe Maar\"],[\"Michel Sardou\"],[\"BAP\"],[\"Clannad & Bono\"],[\"Gilbert B\\u00e9caud\"],[\"Talk Talk\"],[\"Daft Punk\"],[\"Macklemore & Ryan Lewis ft. Ray Dalton\"],[\"No Doubt\"],[\"Enya\"],[\"De Jeugd Van Tegenwoordig\"],[\"Duran Duran\"],[\"Barbra Streisand & Barry Gibb\"],[\"DJ Paul Elstak\"],[\"Alphaville\"],[\"Duran Duran\"],[\"Paul Kalkbrenner\"],[\"Stromae\"],[\"Air\"],[\"Bob Marley & The Wailers\"],[\"Darude\"],[\"Claw Boys Claw\"],[\"Fugees\"],[\"Dr. Dre ft. Snoop Dogg\"],[\"Mr. Probz\"],[\"Kraftwerk\"],[\"Post Malone\"],[\"Robert Miles\"],[\"Rammstein\"],[\"Lee Towers\"],[\"2Pac ft. Dr. Dre\"],[\"The Prodigy\"],[\"2Pac\"],[\"Eminem & Rihanna\"],[\"Martin Garrix\"],[\"Kanye West & Jay-Z\"],[\"Patrick Bruel\"],[\"Faithless\"],[\"Sugarhill Gang\"],[\"UB40\"],[\"Beastie Boys\"],[\"Talk Talk\"],[\"Avicii\"],[\"Eminem\"],[\"The Prodigy\"],[\"Pet Shop Boys\"],[\"House Of Pain\"],[\"The Human League\"],[\"Owl City\"],[\"Typhoon\"],[\"Doe Maar\"],[\"The Communards & Sarah Jane Morris\"],[\"Spider Murphy Gang\"],[\"Bill Medley & Jennifer Warnes\"],[\"Bob Marley & The Wailers\"],[\"Karin Bloemen\"],[\"Run DMC & Aerosmith\"],[\"Ti\\u00ebsto\"],[\"Daft Punk\"],[\"Peter Frampton\"],[\"UB40 & Chrissie Hynde\"],[\"Julio Iglesias\"],[\"The Weeknd ft. Daft Punk\"],[\"Armin van Buuren ft. Josh Cumbee\"],[\"Coldplay & Buena Vista Social Club\"],[\"Bob Marley & The Wailers\"],[\"Alan Walker\"],[\"Jean Michel Jarre\"],[\"Youp van 't Hek\"],[\"Delerium ft. Sarah McLachlan\"],[\"Anouk & Douwe Bob\"],[\"OutKast\"],[\"Bob Marley & The Wailers\"],[\"Daft Punk\"],[\"C\\u00e9line Dion & Barbra Streisand\"],[\"Notorious B.I.G.\"],[\"Prodigy\"],[\"Santana\"],[\"Master KG ft. Nomcebo\"],[\"Kendrick Lamar\"],[\"Orchestral Manoeuvres In The Dark\"],[\"Julien Clerc\"],[\"Swedish House Mafia ft. John Martin\"],[\"Reinhard Mey\"],[\"Party Animals\"],[\"Pet Shop Boys\"],[\"Emma Heesters & Rolf Sanchez\"],[\"Avicii ft. Chris Martin\"],[\"OutKast\"],[\"Diesel\"],[\"Bob Marley & The Wailers\"],[\"\\ufeffElectric Light Orchestra\"],[\"Eminem\"],[\"Santana & Rob Thomas\"],[\"Kid Rock\"],[\"Fatboy Slim\"],[\"Herman Brood & Henny Vrienten\"],[\"Snap!\"],[\"Eminem & Rihanna\"],[\"The Mamas & The Papas\"],[\"Doe Maar\"],[\"Kraftwerk\"],[\"Duran Duran\"],[\"Miles Davis\"],[\"The Chemical Brothers\"]],\"hovertemplate\":\"<b>%{hovertext}</b><br><br>Supersupergenre=Other<br>Year of release=%{x}<br>Position=%{y}<br>Artist=%{customdata[0]}<extra></extra>\",\"hovertext\":[\"Lose Yourself\",\"Three Little Birds\",\"Du Hast\",\"Deutschland\",\"Sterrenstof\",\"Sorry\",\"She\",\"Sonne\",\"Barcelona\",\"Formidable\",\"Treur Niet (Ode Aan Het Leven)\",\"Insomnia\",\"Wake Me Up\",\"California Dreamin'\",\"La Boh\\u00e8me\",\"Du\",\"Engel\",\"Une Belle Histoire\",\"Redemption Song\",\"Forever Young\",\"Born Slippy\",\"Haus Am See\",\"No Woman, No Cry (live)\",\"Nothing Compares 2 U\",\"Troy\",\"Empire State Of Mind\",\"God Is A DJ\",\"Stan\",\"Papaoutai\",\"Rainbow In The Sky\",\"Sinds 1 Dag Of 2 (32 Jaar)\",\"Hey Brother\",\"Levels\",\"Vivo Per Lei\",\"Heading Up High\",\"Chan Chan\",\"You'll Never Walk Alone\",\"Samba Pa Ti\",\"This Is What It Feels Like\",\"Maid Of Orleans\",\"Time To Say Goodbye\",\"Unfinished Sympathy\",\"Red Red Wine\",\"Changes\",\"I Gotta Feeling\",\"Such A Shame\",\"Numb/Encore\",\"Conquest Of Paradise\",\"Gangsta's Paradise\",\"Yesterday When I Was Young\",\"De Bom\",\"Mutter\",\"Once Upon A Time In The West\",\"She's Not There\",\"Alors On Danse\",\"Wonderfull Days\",\"Black Magic Woman\",\"Teardrop\",\"Smoorverliefd\",\"Belle H\\u00e9l\\u00e8ne\",\"Zandloper\",\"Sabotage\",\"Just Give Me A Reason\",\"Titanium\",\"Major Tom (V\\u00f6llig Losgel\\u00f6st)\",\"Slapeloze Nachten\",\"Kingston Town\",\"Without Me\",\"Firestarter\",\"Go Like Elijah\",\"This Is The Life\",\"De Zon Op\",\"Smack My Bitch Up\",\"Con Te Partiro\",\"Where Is The Love\",\"Ordinary World\",\"Real Slim Shady\",\"Could You Be Loved\",\"Traffic\",\"Only Time\",\"Tainted Love\",\"L'amour Toujours\",\"It's My Life\",\"You've Got A Friend\",\"Something Just Like This\",\"Get Lucky\",\"Zitti E Buoni\",\"Comptine D'un Autre Ete, L'Apres Midi (Amelie)\",\"Is Dit Alles\",\"Nederwiet\",\"Les Lacs Du Connemara\",\"Kristallnaach\",\"In A Lifetime\",\"Nathalie\",\"Life's What You Make It\",\"One More Time\",\"Can't Hold Us\",\"Don't Speak\",\"Orinoco Flow (Sail Away)\",\"Watskeburt?!\",\"The Reflex\",\"Guilty\",\"Luv U More\",\"Big In Japan\",\"Save A Prayer\",\"Sky And Sand\",\"Tous Les M\\u00eames\",\"All I Need\",\"Stir It Up (live)\",\"Sandstorm\",\"Rosie\",\"Killing Me Softly\",\"The Next Episode\",\"Waves\",\"Autobahn\",\"Circles\",\"Children\",\"Amerika\",\"You'll Never Walk Alone\",\"California Love\",\"Breathe\",\"Dear Mama\",\"Love The Way You Lie\",\"Animals\",\".. In Paris\",\"Casser La Voix (Live)\",\"We Come 1\",\"\\ufeffRapper's Delight\",\"Food For Thought\",\"Fight For Your Right (To Party)\",\"Living In Another World\",\"Addicted To You\",\"Cleanin' Out My Closet\",\"No Good (Start The Dance)\",\"It's A Sin\",\"Jump Around\",\"Don't You Want Me\",\"Fireflies\",\"Hemel Valt\",\"Pa\",\"Don't Leave Me This Way\",\"Skandal Im Sperrbezirk\",\"I've Had The Time Of My Life\",\"One Love/People Get Ready\",\"Geen Kind Meer\",\"Walk This Way\",\"The Business\",\"Harder Better Faster Stronger\",\"Show Me The Way\",\"I Got You Babe\",\"Quiero\",\"I Feel It Coming\",\"Sunny Days\",\"Clocks (Rhythms Del Mundo)\",\"Is This Love\",\"Faded\",\"Oxygene IV\",\"Flappie\",\"Silence (Tiesto Mix)\",\"Hold Me\",\"Hey Ya!\",\"Get Up Stand Up\",\"Around The World\",\"Tell Him\",\"Hypnotize\",\"Out Of Space\",\"Europa (Earth's Cry Heaven's Smile)\",\"Jerusalema\",\"King Kunta\",\"Enola Gay\",\"Venise (Elle Voulait Qu'on L'Appelle)\",\"Don't You Worry Child\",\"Gute Nacht Freunde\",\"Have You Ever Been Mellow\",\"West End Girls\",\"Pa Olvidarte\",\"Heaven\",\"Ms. Jackson\",\"Sausolito Summernight\",\"Buffalo Soldier\",\"Can't Get It Out Of My Head\",\"My Name Is\",\"Smooth\",\"All Summer Long\",\"Praise You\",\"Als Je Wint\",\"Rhythm Is A Dancer\",\"The Monster\",\"Monday Monday\",\"1 Nacht Alleen\",\"The Model\",\"Wild Boys\",\"So What\",\"Hey Boy Hey Girl\"],\"legendgroup\":\"Other\",\"marker\":{\"color\":\"#19d3f3\",\"symbol\":\"circle\"},\"mode\":\"markers\",\"name\":\"Other\",\"showlegend\":true,\"type\":\"scattergl\",\"x\":[2002,1977,1997,2019,2010,2009,1974,2001,1987,2013,2015,1996,2013,1966,1966,1971,1997,1972,1980,1984,1996,2009,1975,1990,1987,2009,1998,2000,2013,1995,1981,2013,2011,1996,2015,1997,1963,1970,2013,1982,1997,1991,1983,1998,2009,1984,2004,1995,1995,1970,1982,2001,1976,1978,2010,1995,1970,1998,1981,1982,2014,1994,2012,2011,1983,2013,1990,2002,1996,1973,2008,2018,1997,1996,2003,1993,2000,1980,2003,2000,1981,2001,1984,1971,2017,2013,2021,2001,1982,1983,1982,1983,1986,1964,1985,2000,2012,1996,1988,2005,1984,1980,1995,1984,1982,2008,2013,1998,1979,2000,1992,1996,2000,2013,1975,2019,1996,2004,1976,1996,1996,1998,2010,2013,2011,1992,2001,1979,1983,1986,1986,2014,2002,1994,1987,1992,1982,2009,2015,1983,1986,1982,1987,1984,1996,1986,2020,2001,1976,1985,1976,2016,2017,2006,1979,2016,1977,1981,1997,2014,2004,1973,1997,1997,1997,1993,1976,2020,2015,1980,1976,2012,1974,1996,1986,2019,2019,2001,1980,1983,1975,1999,2000,2008,1998,1984,1992,2013,1966,1983,1978,1984,1959,1999],\"xaxis\":\"x\",\"y\":[76,123,140,147,149,170,178,186,192,203,210,255,256,266,278,287,292,296,304,310,318,319,336,349,352,358,368,376,410,412,413,420,433,441,461,484,486,508,510,516,530,536,544,555,573,578,580,586,629,650,672,673,677,685,690,693,695,702,709,710,722,730,742,757,760,787,789,799,804,806,819,826,831,854,855,874,875,892,905,944,970,988,991,1000,1004,1011,1021,1039,1061,1076,1080,1098,1099,1104,1108,1115,1117,1120,1159,1167,1170,1176,1178,1222,1226,1227,1229,1240,1244,1261,1267,1280,1283,1290,1294,1310,1325,1329,1338,1355,1364,1365,1367,1369,1374,1389,1391,1396,1405,1406,1408,1431,1432,1433,1435,1440,1454,1464,1474,1487,1492,1510,1512,1520,1521,1524,1527,1536,1542,1549,1563,1572,1573,1577,1611,1613,1622,1636,1642,1647,1650,1659,1663,1665,1666,1675,1683,1709,1716,1719,1729,1740,1745,1755,1758,1795,1803,1805,1814,1840,1856,1870,1871,1874,1879,1892,1917,1928,1932,1948,1950,1980,1990,1991],\"yaxis\":\"y\"}],                        {\"legend\":{\"orientation\":\"h\",\"title\":{\"text\":\"Supersupergenre\"},\"tracegroupgap\":0,\"x\":1,\"xanchor\":\"right\",\"y\":1.3,\"yanchor\":\"bottom\"},\"margin\":{\"t\":60},\"template\":{\"data\":{\"bar\":[{\"error_x\":{\"color\":\"#2a3f5f\"},\"error_y\":{\"color\":\"#2a3f5f\"},\"marker\":{\"line\":{\"color\":\"#E5ECF6\",\"width\":0.5},\"pattern\":{\"fillmode\":\"overlay\",\"size\":10,\"solidity\":0.2}},\"type\":\"bar\"}],\"barpolar\":[{\"marker\":{\"line\":{\"color\":\"#E5ECF6\",\"width\":0.5},\"pattern\":{\"fillmode\":\"overlay\",\"size\":10,\"solidity\":0.2}},\"type\":\"barpolar\"}],\"carpet\":[{\"aaxis\":{\"endlinecolor\":\"#2a3f5f\",\"gridcolor\":\"white\",\"linecolor\":\"white\",\"minorgridcolor\":\"white\",\"startlinecolor\":\"#2a3f5f\"},\"baxis\":{\"endlinecolor\":\"#2a3f5f\",\"gridcolor\":\"white\",\"linecolor\":\"white\",\"minorgridcolor\":\"white\",\"startlinecolor\":\"#2a3f5f\"},\"type\":\"carpet\"}],\"choropleth\":[{\"colorbar\":{\"outlinewidth\":0,\"ticks\":\"\"},\"type\":\"choropleth\"}],\"contour\":[{\"colorbar\":{\"outlinewidth\":0,\"ticks\":\"\"},\"colorscale\":[[0.0,\"#0d0887\"],[0.1111111111111111,\"#46039f\"],[0.2222222222222222,\"#7201a8\"],[0.3333333333333333,\"#9c179e\"],[0.4444444444444444,\"#bd3786\"],[0.5555555555555556,\"#d8576b\"],[0.6666666666666666,\"#ed7953\"],[0.7777777777777778,\"#fb9f3a\"],[0.8888888888888888,\"#fdca26\"],[1.0,\"#f0f921\"]],\"type\":\"contour\"}],\"contourcarpet\":[{\"colorbar\":{\"outlinewidth\":0,\"ticks\":\"\"},\"type\":\"contourcarpet\"}],\"heatmap\":[{\"colorbar\":{\"outlinewidth\":0,\"ticks\":\"\"},\"colorscale\":[[0.0,\"#0d0887\"],[0.1111111111111111,\"#46039f\"],[0.2222222222222222,\"#7201a8\"],[0.3333333333333333,\"#9c179e\"],[0.4444444444444444,\"#bd3786\"],[0.5555555555555556,\"#d8576b\"],[0.6666666666666666,\"#ed7953\"],[0.7777777777777778,\"#fb9f3a\"],[0.8888888888888888,\"#fdca26\"],[1.0,\"#f0f921\"]],\"type\":\"heatmap\"}],\"heatmapgl\":[{\"colorbar\":{\"outlinewidth\":0,\"ticks\":\"\"},\"colorscale\":[[0.0,\"#0d0887\"],[0.1111111111111111,\"#46039f\"],[0.2222222222222222,\"#7201a8\"],[0.3333333333333333,\"#9c179e\"],[0.4444444444444444,\"#bd3786\"],[0.5555555555555556,\"#d8576b\"],[0.6666666666666666,\"#ed7953\"],[0.7777777777777778,\"#fb9f3a\"],[0.8888888888888888,\"#fdca26\"],[1.0,\"#f0f921\"]],\"type\":\"heatmapgl\"}],\"histogram\":[{\"marker\":{\"pattern\":{\"fillmode\":\"overlay\",\"size\":10,\"solidity\":0.2}},\"type\":\"histogram\"}],\"histogram2d\":[{\"colorbar\":{\"outlinewidth\":0,\"ticks\":\"\"},\"colorscale\":[[0.0,\"#0d0887\"],[0.1111111111111111,\"#46039f\"],[0.2222222222222222,\"#7201a8\"],[0.3333333333333333,\"#9c179e\"],[0.4444444444444444,\"#bd3786\"],[0.5555555555555556,\"#d8576b\"],[0.6666666666666666,\"#ed7953\"],[0.7777777777777778,\"#fb9f3a\"],[0.8888888888888888,\"#fdca26\"],[1.0,\"#f0f921\"]],\"type\":\"histogram2d\"}],\"histogram2dcontour\":[{\"colorbar\":{\"outlinewidth\":0,\"ticks\":\"\"},\"colorscale\":[[0.0,\"#0d0887\"],[0.1111111111111111,\"#46039f\"],[0.2222222222222222,\"#7201a8\"],[0.3333333333333333,\"#9c179e\"],[0.4444444444444444,\"#bd3786\"],[0.5555555555555556,\"#d8576b\"],[0.6666666666666666,\"#ed7953\"],[0.7777777777777778,\"#fb9f3a\"],[0.8888888888888888,\"#fdca26\"],[1.0,\"#f0f921\"]],\"type\":\"histogram2dcontour\"}],\"mesh3d\":[{\"colorbar\":{\"outlinewidth\":0,\"ticks\":\"\"},\"type\":\"mesh3d\"}],\"parcoords\":[{\"line\":{\"colorbar\":{\"outlinewidth\":0,\"ticks\":\"\"}},\"type\":\"parcoords\"}],\"pie\":[{\"automargin\":true,\"type\":\"pie\"}],\"scatter\":[{\"marker\":{\"colorbar\":{\"outlinewidth\":0,\"ticks\":\"\"}},\"type\":\"scatter\"}],\"scatter3d\":[{\"line\":{\"colorbar\":{\"outlinewidth\":0,\"ticks\":\"\"}},\"marker\":{\"colorbar\":{\"outlinewidth\":0,\"ticks\":\"\"}},\"type\":\"scatter3d\"}],\"scattercarpet\":[{\"marker\":{\"colorbar\":{\"outlinewidth\":0,\"ticks\":\"\"}},\"type\":\"scattercarpet\"}],\"scattergeo\":[{\"marker\":{\"colorbar\":{\"outlinewidth\":0,\"ticks\":\"\"}},\"type\":\"scattergeo\"}],\"scattergl\":[{\"marker\":{\"colorbar\":{\"outlinewidth\":0,\"ticks\":\"\"}},\"type\":\"scattergl\"}],\"scattermapbox\":[{\"marker\":{\"colorbar\":{\"outlinewidth\":0,\"ticks\":\"\"}},\"type\":\"scattermapbox\"}],\"scatterpolar\":[{\"marker\":{\"colorbar\":{\"outlinewidth\":0,\"ticks\":\"\"}},\"type\":\"scatterpolar\"}],\"scatterpolargl\":[{\"marker\":{\"colorbar\":{\"outlinewidth\":0,\"ticks\":\"\"}},\"type\":\"scatterpolargl\"}],\"scatterternary\":[{\"marker\":{\"colorbar\":{\"outlinewidth\":0,\"ticks\":\"\"}},\"type\":\"scatterternary\"}],\"surface\":[{\"colorbar\":{\"outlinewidth\":0,\"ticks\":\"\"},\"colorscale\":[[0.0,\"#0d0887\"],[0.1111111111111111,\"#46039f\"],[0.2222222222222222,\"#7201a8\"],[0.3333333333333333,\"#9c179e\"],[0.4444444444444444,\"#bd3786\"],[0.5555555555555556,\"#d8576b\"],[0.6666666666666666,\"#ed7953\"],[0.7777777777777778,\"#fb9f3a\"],[0.8888888888888888,\"#fdca26\"],[1.0,\"#f0f921\"]],\"type\":\"surface\"}],\"table\":[{\"cells\":{\"fill\":{\"color\":\"#EBF0F8\"},\"line\":{\"color\":\"white\"}},\"header\":{\"fill\":{\"color\":\"#C8D4E3\"},\"line\":{\"color\":\"white\"}},\"type\":\"table\"}]},\"layout\":{\"annotationdefaults\":{\"arrowcolor\":\"#2a3f5f\",\"arrowhead\":0,\"arrowwidth\":1},\"autotypenumbers\":\"strict\",\"coloraxis\":{\"colorbar\":{\"outlinewidth\":0,\"ticks\":\"\"}},\"colorscale\":{\"diverging\":[[0,\"#8e0152\"],[0.1,\"#c51b7d\"],[0.2,\"#de77ae\"],[0.3,\"#f1b6da\"],[0.4,\"#fde0ef\"],[0.5,\"#f7f7f7\"],[0.6,\"#e6f5d0\"],[0.7,\"#b8e186\"],[0.8,\"#7fbc41\"],[0.9,\"#4d9221\"],[1,\"#276419\"]],\"sequential\":[[0.0,\"#0d0887\"],[0.1111111111111111,\"#46039f\"],[0.2222222222222222,\"#7201a8\"],[0.3333333333333333,\"#9c179e\"],[0.4444444444444444,\"#bd3786\"],[0.5555555555555556,\"#d8576b\"],[0.6666666666666666,\"#ed7953\"],[0.7777777777777778,\"#fb9f3a\"],[0.8888888888888888,\"#fdca26\"],[1.0,\"#f0f921\"]],\"sequentialminus\":[[0.0,\"#0d0887\"],[0.1111111111111111,\"#46039f\"],[0.2222222222222222,\"#7201a8\"],[0.3333333333333333,\"#9c179e\"],[0.4444444444444444,\"#bd3786\"],[0.5555555555555556,\"#d8576b\"],[0.6666666666666666,\"#ed7953\"],[0.7777777777777778,\"#fb9f3a\"],[0.8888888888888888,\"#fdca26\"],[1.0,\"#f0f921\"]]},\"colorway\":[\"#636efa\",\"#EF553B\",\"#00cc96\",\"#ab63fa\",\"#FFA15A\",\"#19d3f3\",\"#FF6692\",\"#B6E880\",\"#FF97FF\",\"#FECB52\"],\"font\":{\"color\":\"#2a3f5f\"},\"geo\":{\"bgcolor\":\"white\",\"lakecolor\":\"white\",\"landcolor\":\"#E5ECF6\",\"showlakes\":true,\"showland\":true,\"subunitcolor\":\"white\"},\"hoverlabel\":{\"align\":\"left\"},\"hovermode\":\"closest\",\"mapbox\":{\"style\":\"light\"},\"paper_bgcolor\":\"white\",\"plot_bgcolor\":\"#E5ECF6\",\"polar\":{\"angularaxis\":{\"gridcolor\":\"white\",\"linecolor\":\"white\",\"ticks\":\"\"},\"bgcolor\":\"#E5ECF6\",\"radialaxis\":{\"gridcolor\":\"white\",\"linecolor\":\"white\",\"ticks\":\"\"}},\"scene\":{\"xaxis\":{\"backgroundcolor\":\"#E5ECF6\",\"gridcolor\":\"white\",\"gridwidth\":2,\"linecolor\":\"white\",\"showbackground\":true,\"ticks\":\"\",\"zerolinecolor\":\"white\"},\"yaxis\":{\"backgroundcolor\":\"#E5ECF6\",\"gridcolor\":\"white\",\"gridwidth\":2,\"linecolor\":\"white\",\"showbackground\":true,\"ticks\":\"\",\"zerolinecolor\":\"white\"},\"zaxis\":{\"backgroundcolor\":\"#E5ECF6\",\"gridcolor\":\"white\",\"gridwidth\":2,\"linecolor\":\"white\",\"showbackground\":true,\"ticks\":\"\",\"zerolinecolor\":\"white\"}},\"shapedefaults\":{\"line\":{\"color\":\"#2a3f5f\"}},\"ternary\":{\"aaxis\":{\"gridcolor\":\"white\",\"linecolor\":\"white\",\"ticks\":\"\"},\"baxis\":{\"gridcolor\":\"white\",\"linecolor\":\"white\",\"ticks\":\"\"},\"bgcolor\":\"#E5ECF6\",\"caxis\":{\"gridcolor\":\"white\",\"linecolor\":\"white\",\"ticks\":\"\"}},\"title\":{\"x\":0.05},\"xaxis\":{\"automargin\":true,\"gridcolor\":\"white\",\"linecolor\":\"white\",\"ticks\":\"\",\"title\":{\"standoff\":15},\"zerolinecolor\":\"white\",\"zerolinewidth\":2},\"yaxis\":{\"automargin\":true,\"gridcolor\":\"white\",\"linecolor\":\"white\",\"ticks\":\"\",\"title\":{\"standoff\":15},\"zerolinecolor\":\"white\",\"zerolinewidth\":2}}},\"title\":{\"text\":\"Songs by year of release and position\"},\"xaxis\":{\"anchor\":\"y\",\"domain\":[0.0,1.0],\"title\":{\"text\":\"Year of release\"}},\"yaxis\":{\"anchor\":\"x\",\"domain\":[0.0,1.0],\"title\":{\"text\":\"Position\"}}},                        {\"responsive\": true}                    ).then(function(){\n",
       "                            \n",
       "var gd = document.getElementById('676adabf-4f24-4c21-9cab-c0e0e9dddd5c');\n",
       "var x = new MutationObserver(function (mutations, observer) {{\n",
       "        var display = window.getComputedStyle(gd).display;\n",
       "        if (!display || display === 'none') {{\n",
       "            console.log([gd, 'removed!']);\n",
       "            Plotly.purge(gd);\n",
       "            observer.disconnect();\n",
       "        }}\n",
       "}});\n",
       "\n",
       "// Listen for the removal of the full notebook cells\n",
       "var notebookContainer = gd.closest('#notebook-container');\n",
       "if (notebookContainer) {{\n",
       "    x.observe(notebookContainer, {childList: true});\n",
       "}}\n",
       "\n",
       "// Listen for the clearing of the current output cell\n",
       "var outputEl = gd.closest('.output');\n",
       "if (outputEl) {{\n",
       "    x.observe(outputEl, {childList: true});\n",
       "}}\n",
       "\n",
       "                        })                };                });            </script>        </div>"
      ]
     },
     "metadata": {},
     "output_type": "display_data"
    }
   ],
   "source": [
    "data['Supersupergenre'] = data['Supergenre']\n",
    "\n",
    "data.loc[data['Supergenre'] == 'Jazz', 'Supersupergenre'] = 'Jazz, Blues & Soul'\n",
    "data.loc[data['Supergenre'] == 'Blues', 'Supersupergenre'] = 'Jazz, Blues & Soul'\n",
    "data.loc[data['Supergenre'] == 'Soul', 'Supersupergenre'] = 'Jazz, Blues & Soul'\n",
    "\n",
    "data.loc[data['Supergenre'] == 'Rock', 'Supersupergenre'] = 'Rock and metal'\n",
    "data.loc[data['Supergenre'] == 'Metal', 'Supersupergenre'] = 'Rock and metal'\n",
    "\n",
    "data.loc[data['Supergenre'] == 'Country', 'Supersupergenre'] = 'Country and Folk'\n",
    "data.loc[data['Supergenre'] == 'Folk', 'Supersupergenre'] = 'Country and Folk'\n",
    "\n",
    "data.loc[data['Supergenre'] == 'Reggae', 'Supersupergenre'] = 'Other'\n",
    "data.loc[data['Supergenre'] == 'Hiphop', 'Supersupergenre'] = 'Other'\n",
    "data.loc[data['Supergenre'] == 'Classical', 'Supersupergenre'] = 'Other'\n",
    "data.loc[data['Supergenre'] == 'Latin', 'Supersupergenre'] = 'Other'\n",
    "data.loc[data['Supergenre'] == 'None', 'Supersupergenre'] = 'Other'\n",
    "data.loc[data['Supergenre'] == 'Electronic', 'Supersupergenre'] = 'Other'\n",
    "\n",
    "fig = px.scatter(data, hover_name='Title', hover_data=['Artist'], color='Supersupergenre', x='Year of release', y='Position')\n",
    "\n",
    "fig.update_layout(\n",
    "    title = \"Songs by year of release and position\",\n",
    ")\n",
    "\n",
    "fig.update_layout(legend=dict(\n",
    "    orientation=\"h\",\n",
    "    yanchor=\"bottom\",\n",
    "    y=1.3,\n",
    "    xanchor=\"right\",\n",
    "    x=1\n",
    "))\n",
    "\n",
    "fig.show()\n",
    "\n",
    "#writing the figure to html, figure is visible at: https://almaliezenga.github.io/Top2000/html/songs_supersupergenres\n",
    "pio.write_html(fig, file='html/songs_supersupergenres.html', auto_open=True)\n",
    "data.to_csv('data/data_supersupergenre.csv', header=False, index=False)"
   ]
  },
  {
   "cell_type": "code",
   "execution_count": 67,
   "id": "303b2542",
   "metadata": {},
   "outputs": [
    {
     "data": {
      "text/html": [
       "<div>\n",
       "<style scoped>\n",
       "    .dataframe tbody tr th:only-of-type {\n",
       "        vertical-align: middle;\n",
       "    }\n",
       "\n",
       "    .dataframe tbody tr th {\n",
       "        vertical-align: top;\n",
       "    }\n",
       "\n",
       "    .dataframe thead th {\n",
       "        text-align: right;\n",
       "    }\n",
       "</style>\n",
       "<table border=\"1\" class=\"dataframe\">\n",
       "  <thead>\n",
       "    <tr style=\"text-align: right;\">\n",
       "      <th></th>\n",
       "      <th>Position</th>\n",
       "      <th>Title</th>\n",
       "      <th>Artist</th>\n",
       "      <th>Year of release</th>\n",
       "      <th>genres</th>\n",
       "      <th>Supergenre</th>\n",
       "      <th>Supersupergenre</th>\n",
       "    </tr>\n",
       "  </thead>\n",
       "  <tbody>\n",
       "    <tr>\n",
       "      <th>0</th>\n",
       "      <td>1</td>\n",
       "      <td>Bohemian Rhapsody</td>\n",
       "      <td>Queen</td>\n",
       "      <td>1975</td>\n",
       "      <td>classic rock, rock, hard rock, glam rock, 80s</td>\n",
       "      <td>Rock</td>\n",
       "      <td>Rock and metal</td>\n",
       "    </tr>\n",
       "    <tr>\n",
       "      <th>1</th>\n",
       "      <td>2</td>\n",
       "      <td>Roller Coaster</td>\n",
       "      <td>Danny Vera</td>\n",
       "      <td>2019</td>\n",
       "      <td>americana, rock, singer-songwriter, country, d...</td>\n",
       "      <td>Country</td>\n",
       "      <td>Country and Folk</td>\n",
       "    </tr>\n",
       "    <tr>\n",
       "      <th>2</th>\n",
       "      <td>3</td>\n",
       "      <td>A Whiter Shade Of Pale</td>\n",
       "      <td>Procol Harum</td>\n",
       "      <td>1967</td>\n",
       "      <td>progressive rock, blues, progre…, classic rock...</td>\n",
       "      <td>Rock</td>\n",
       "      <td>Rock and metal</td>\n",
       "    </tr>\n",
       "    <tr>\n",
       "      <th>3</th>\n",
       "      <td>4</td>\n",
       "      <td>Hotel California</td>\n",
       "      <td>Eagles</td>\n",
       "      <td>1977</td>\n",
       "      <td>rock, classic rock, 70s, soft rock, country</td>\n",
       "      <td>Rock</td>\n",
       "      <td>Rock and metal</td>\n",
       "    </tr>\n",
       "    <tr>\n",
       "      <th>4</th>\n",
       "      <td>5</td>\n",
       "      <td>Piano Man</td>\n",
       "      <td>Billy Joel</td>\n",
       "      <td>1974</td>\n",
       "      <td>classic rock, singer-songwriter, rock, pop, piano</td>\n",
       "      <td>Rock</td>\n",
       "      <td>Rock and metal</td>\n",
       "    </tr>\n",
       "    <tr>\n",
       "      <th>...</th>\n",
       "      <td>...</td>\n",
       "      <td>...</td>\n",
       "      <td>...</td>\n",
       "      <td>...</td>\n",
       "      <td>...</td>\n",
       "      <td>...</td>\n",
       "      <td>...</td>\n",
       "    </tr>\n",
       "    <tr>\n",
       "      <th>1995</th>\n",
       "      <td>1996</td>\n",
       "      <td>Sunshine Of Your Love</td>\n",
       "      <td>Cream</td>\n",
       "      <td>1968</td>\n",
       "      <td>blues, hard rock, psychedelic rock, classic ro...</td>\n",
       "      <td>Blues</td>\n",
       "      <td>Jazz, Blues &amp; Soul</td>\n",
       "    </tr>\n",
       "    <tr>\n",
       "      <th>1996</th>\n",
       "      <td>1997</td>\n",
       "      <td>Anarchy In The Uk</td>\n",
       "      <td>Sex Pistols</td>\n",
       "      <td>1976</td>\n",
       "      <td>punk rock, punk, british, 70s, rock</td>\n",
       "      <td>Rock</td>\n",
       "      <td>Rock and metal</td>\n",
       "    </tr>\n",
       "    <tr>\n",
       "      <th>1997</th>\n",
       "      <td>1998</td>\n",
       "      <td>I Want To Hold Your Hand</td>\n",
       "      <td>The Beatles</td>\n",
       "      <td>1964</td>\n",
       "      <td>pop rock and beat, classic rock, rock, 60s, b...</td>\n",
       "      <td>Rock</td>\n",
       "      <td>Rock and metal</td>\n",
       "    </tr>\n",
       "    <tr>\n",
       "      <th>1998</th>\n",
       "      <td>1999</td>\n",
       "      <td>Kissing A Fool</td>\n",
       "      <td>George Michael</td>\n",
       "      <td>1988</td>\n",
       "      <td>pop, duo, 80s, soul, british, dance</td>\n",
       "      <td>Pop</td>\n",
       "      <td>Pop</td>\n",
       "    </tr>\n",
       "    <tr>\n",
       "      <th>1999</th>\n",
       "      <td>2000</td>\n",
       "      <td>Promises Of No Man's Land</td>\n",
       "      <td>Blaudzun</td>\n",
       "      <td>2014</td>\n",
       "      <td>singer-songwriter, folk, dutch, indie, alterna...</td>\n",
       "      <td>Pop</td>\n",
       "      <td>Pop</td>\n",
       "    </tr>\n",
       "  </tbody>\n",
       "</table>\n",
       "<p>2000 rows × 7 columns</p>\n",
       "</div>"
      ],
      "text/plain": [
       "      Position                      Title          Artist  Year of release  \\\n",
       "0            1          Bohemian Rhapsody           Queen             1975   \n",
       "1            2             Roller Coaster      Danny Vera             2019   \n",
       "2            3     A Whiter Shade Of Pale    Procol Harum             1967   \n",
       "3            4           Hotel California          Eagles             1977   \n",
       "4            5                  Piano Man      Billy Joel             1974   \n",
       "...        ...                        ...             ...              ...   \n",
       "1995      1996      Sunshine Of Your Love           Cream             1968   \n",
       "1996      1997          Anarchy In The Uk     Sex Pistols             1976   \n",
       "1997      1998   I Want To Hold Your Hand     The Beatles             1964   \n",
       "1998      1999             Kissing A Fool  George Michael             1988   \n",
       "1999      2000  Promises Of No Man's Land        Blaudzun             2014   \n",
       "\n",
       "                                                 genres Supergenre  \\\n",
       "0         classic rock, rock, hard rock, glam rock, 80s       Rock   \n",
       "1     americana, rock, singer-songwriter, country, d...    Country   \n",
       "2     progressive rock, blues, progre…, classic rock...       Rock   \n",
       "3           rock, classic rock, 70s, soft rock, country       Rock   \n",
       "4     classic rock, singer-songwriter, rock, pop, piano       Rock   \n",
       "...                                                 ...        ...   \n",
       "1995  blues, hard rock, psychedelic rock, classic ro...      Blues   \n",
       "1996                punk rock, punk, british, 70s, rock       Rock   \n",
       "1997   pop rock and beat, classic rock, rock, 60s, b...       Rock   \n",
       "1998                pop, duo, 80s, soul, british, dance        Pop   \n",
       "1999  singer-songwriter, folk, dutch, indie, alterna...        Pop   \n",
       "\n",
       "         Supersupergenre  \n",
       "0         Rock and metal  \n",
       "1       Country and Folk  \n",
       "2         Rock and metal  \n",
       "3         Rock and metal  \n",
       "4         Rock and metal  \n",
       "...                  ...  \n",
       "1995  Jazz, Blues & Soul  \n",
       "1996      Rock and metal  \n",
       "1997      Rock and metal  \n",
       "1998                 Pop  \n",
       "1999                 Pop  \n",
       "\n",
       "[2000 rows x 7 columns]"
      ]
     },
     "execution_count": 67,
     "metadata": {},
     "output_type": "execute_result"
    }
   ],
   "source": [
    "data"
   ]
  }
 ],
 "metadata": {
  "kernelspec": {
   "display_name": "Python 3",
   "language": "python",
   "name": "python3"
  },
  "language_info": {
   "codemirror_mode": {
    "name": "ipython",
    "version": 3
   },
   "file_extension": ".py",
   "mimetype": "text/x-python",
   "name": "python",
   "nbconvert_exporter": "python",
   "pygments_lexer": "ipython3",
   "version": "3.8.2"
  }
 },
 "nbformat": 4,
 "nbformat_minor": 5
}
